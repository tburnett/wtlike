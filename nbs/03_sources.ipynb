{
 "cells": [
  {
   "cell_type": "code",
   "execution_count": null,
   "metadata": {},
   "outputs": [],
   "source": [
    "from nbdev import *\n",
    "# default_exp sources\n",
    "\n",
    "%load_ext autoreload\n",
    "%autoreload 2\n",
    "\n",
    "from utilities.ipynb_docgen import *\n",
    "from nbdev.showdoc import show_doc"
   ]
  },
  {
   "cell_type": "markdown",
   "metadata": {},
   "source": [
    "# Sources with weights\n",
    "> Define the PointSource class, code to load weight tables to combine with photon data"
   ]
  },
  {
   "cell_type": "markdown",
   "metadata": {},
   "source": [
    "We use the full-sky catalog analysis model to evaluate the predicted flux from a source of interest with respect to the\n",
    "background, the combined fluxes from all other sources. We choose the following binning:\n",
    "\n",
    "* energy:  4/decade from 100 MeV to 1 TeV (but only upto 10 GeV really used)\n",
    "* event type: Front/Back  \n",
    "* Angular position: HEALPix, nside from 64 to 512 depending on PSF"
   ]
  },
  {
   "cell_type": "markdown",
   "metadata": {},
   "source": [
    "### Pointlike generation \n",
    "A procedure, implement for pointlike all-aky models, [see source_weights](https://github.com/tburnett/pointlike/blob/master/python/uw/like2/source_weights.py) packs this table with the source name and position, into a pickled dict.\n",
    "\n",
    "\n",
    "This is unpacked by the class `WeightMan`\n",
    "\n",
    "This table is used with the data, as a simple lookup: A weight is assigned to each photon according to which energy, event type or HEALPix pixel it lands in."
   ]
  },
  {
   "cell_type": "markdown",
   "metadata": {},
   "source": [
    "### Accounting for variations from neighboring sources\n",
    "\n",
    "Consider the case where sources $S_1$ and $S_2$ have overlapping pixels. For a given pixel the corresponding weights are\n",
    "$w_1$ and $w_2$, and we investigate the effect on $S_1$ from a fractional variation $\\alpha_2 \\ne 0$ of $S_2$, such that\n",
    "its flux for that pixel, $s_2$, becomes $(1+\\alpha )\\ s_2$. With the background $b$, the flux of all\n",
    "sources besides $S_1$ and $S_2$, we have for the $S_1$ weight,\n",
    "$$ w_1 = \\frac{s_1}{s_1+s_2+b}\\ \\ ,$$ and similarly for $S_2$.\n",
    "\n",
    "Replacing $s_2$ with $(1+\\alpha ) s_2$, we have for the modified weight $w_1'$ that we should use for  $S_1$,\n",
    "$$w'_1 = \\frac{w_1}{1+\\alpha_2\\ w_2}\\ \\ .   $$\n"
   ]
  },
  {
   "cell_type": "code",
   "execution_count": null,
   "metadata": {},
   "outputs": [],
   "source": [
    "# export\n",
    "import os, sys, pickle, healpy, zipfile\n",
    "from pathlib import Path\n",
    "import numpy as np\n",
    "import pandas as pd\n",
    "\n",
    "from scipy.integrate import quad\n",
    "from astropy.coordinates import SkyCoord, Angle\n",
    "from wtlike.config import *"
   ]
  },
  {
   "cell_type": "code",
   "execution_count": null,
   "metadata": {},
   "outputs": [],
   "source": [
    "# export\n",
    "def get_wtzip_index(config, update=False):\n",
    "    \n",
    "    wtzipfile = config.datapath/'weight_files.zip'\n",
    "    if not  wtzipfile.is_file():\n",
    "        print( f'Did not find the zip file {wtzipfile}', file=sys.stderr)\n",
    "        return None\n",
    "    \n",
    "    with  zipfile.ZipFile(wtzipfile) as wtzip:\n",
    "        if 'index.pkl' in wtzip.namelist() and not update:\n",
    "            return pickle.load(wtzip.open('index.pkl'))\n",
    "        \n",
    "        if config.verbose>0:\n",
    "            print(f'Extracting info from {wtzipfile}')\n",
    "        name=[]; glat=[]; glon=[]\n",
    "        for filename in wtzip.namelist():\n",
    "            if filename=='index.pkl': continue\n",
    "            with wtzip.open(filename) as file:\n",
    "                wtd = pickle.load(file, encoding='latin1')\n",
    "                l,b = wtd['source_lb']\n",
    "                name.append(Path(filename).name.split('_weights.pkl')[0].replace('_',' ').replace('p','+') )\n",
    "                glon.append(l)\n",
    "                glat.append(b)\n",
    "        zip_index = dict(name=name, \n",
    "                    coord=SkyCoord(glon, glat, unit='deg', frame='galactic').fk5\n",
    "               )\n",
    "        ### write to temp file, insert back into the zip \n",
    "        ### SHould be a way to just stream\n",
    "        pickle.dump(zip_index, open('/tmp/wtfile_index.pkl', 'wb'))\n",
    "        with zipfile.ZipFile(wtzipfile, mode='a') as wtzip:\n",
    "            wtzip.write('/tmp/wtfile_index.pkl', 'index.pkl')\n",
    "    return zip_index"
   ]
  },
  {
   "cell_type": "code",
   "execution_count": null,
   "metadata": {
    "tags": []
   },
   "outputs": [],
   "source": [
    "#export\n",
    "class WeightMan(dict):\n",
    "    \"\"\" Weight Management\n",
    "\n",
    "    * Load weight tables\n",
    "    * Assign weights to photons\n",
    "    \"\"\"\n",
    "\n",
    "    def __init__(self, config, source): \n",
    "        \"\"\"\n",
    "        \"\"\"\n",
    "        self.source = source\n",
    "        nickname = source.nickname\n",
    "        datapath =Path(config.datapath)\n",
    "\n",
    "        filename = 'weight_files/'+nickname.replace(' ','_').replace('+','p')+'_weights.pkl'\n",
    "\n",
    "        if (datapath/filename).exists():\n",
    "#             print('found in directory')\n",
    "            with open(datapath/filename, 'rb') as inp:\n",
    "                wtd =  pickle.load(inp, encoding='latin1')\n",
    "\n",
    "        elif (datapath/'weight_files.zip').exists():\n",
    "            # check the zip file\n",
    "#             print('load from zip')\n",
    "            with  zipfile.ZipFile(datapath/'weight_files.zip') as wtzip:\n",
    "                wtd =  pickle.load(wtzip.open(filename), encoding='latin1') \n",
    "\n",
    "        else:\n",
    "            raise Exception(f'No weight info found for {nickname}')\n",
    "        \n",
    "        self.update(wtd)\n",
    "        self.__dict__.update(wtd)\n",
    "        self.filename=filename\n",
    "        self.config = config\n",
    "#         pos = self['source_lb']\n",
    "#         print(f'\\tSource is {self[\"source_name\"]} at ({pos[0]:.2f}, {pos[1]:.2f})')\n",
    "\n",
    "        # check format--old has pixels, weights at tome\n",
    "        srcfile = f'file \"{self.filename}\"' if self.source is None else f'file from source \"{source.filename}\"_weights.pkl'\n",
    "\n",
    "        if hasattr(self, 'nside'):\n",
    "            self.format=0\n",
    "            if config.verbose>0:\n",
    "                print(f'WeightMan: {srcfile} old format, nside={self.nside}')\n",
    "\n",
    "            test_elements = 'energy_bins pixels weights nside model_name radius order roi_name'.split()\n",
    "            assert np.all([x in wtd.keys() for x in test_elements]),f'Dict missing one of the keys {test_elements}'\n",
    "            if config.verbose>0:\n",
    "                print(f'Load weights from file {os.path.realpath(filename)}')\n",
    "                pos = self['source_lb']\n",
    "                print(f'\\tFound: {self[\"source_name\"]} at ({pos[0]:.2f}, {pos[1]:.2f})')\n",
    "            # extract pixel ids and nside used\n",
    "            self.wt_pix   = self['pixels']\n",
    "            self.nside_wt = self['nside']\n",
    "\n",
    "            # merge the weights into a table, with default nans\n",
    "            # indexing is band id rows by weight pixel columns\n",
    "            # append one empty column for photons not in a weight pixel\n",
    "            # calculated weights are in a dict with band id keys\n",
    "            self.wts = np.full((32, len(self.wt_pix)+1), np.nan, dtype=np.float32)\n",
    "            weight_dict = self['weights']\n",
    "            for k in weight_dict.keys():\n",
    "                t = weight_dict[k]\n",
    "                if len(t.shape)==2:\n",
    "                    t = t.T[0] #???\n",
    "                self.wts[k,:-1] = t\n",
    "\n",
    "        else:\n",
    "            self.format=1\n",
    "            wtdict = self.wt_dict\n",
    "            nsides = [v['nside'] for v in wtdict.values() ];\n",
    "\n",
    "            if config.verbose>1:\n",
    "                print(f'WeightMan: {srcfile} : {len(nsides)} bamds'\\\n",
    "                      f' with nsides {nsides[0]} to {nsides[-1]}')\n",
    "            if self.source is not None:\n",
    "                self.source.fit_info = self.fitinfo\n",
    "                if config.verbose>2:\n",
    "                    print(f'\\tAdded fit info {self.fitinfo} to source')\n",
    "\n",
    "    def _new_format(self, photons):\n",
    "\n",
    "        wt_tables =self.wt_dict\n",
    "        data_nside=1024\n",
    "        photons.loc[:,'weight'] = np.nan\n",
    "\n",
    "        if self.config.verbose>1:\n",
    "            print(f'WeightMan: processing {len(photons):,} photons')\n",
    "\n",
    "        def load_data( band_id):\n",
    "            \"\"\" fetch pixels and weights for the band;\n",
    "                adjust pixels to the band nside\n",
    "                generate mask for pixels, weights\n",
    "            \"\"\"\n",
    "            band = photons[photons.band==band_id] #.query('band== @band_id')\n",
    "            wt_table = wt_tables[band_id]\n",
    "            nside =  wt_table['nside']\n",
    "            new_weights = wt_table['wts'].astype(np.float16)\n",
    "            to_shift = int(2*np.log2(data_nside//nside))\n",
    "            data_pixels = np.right_shift(band.nest_index, to_shift)\n",
    "            wt_pixels=wt_table['pixels']\n",
    "            good = np.isin( data_pixels, wt_pixels)\n",
    "            if self.config.verbose>2:\n",
    "                print(f'\\t {band_id:2}: {len(band):8,} -> {sum(good ):8,}')\n",
    "            return data_pixels, new_weights, good\n",
    "\n",
    "        def set_weights(band_id):\n",
    "            if band_id not in wt_tables.keys(): return\n",
    "\n",
    "            data_pixels, new_weights, good = load_data(band_id)\n",
    "            wt_pixels = wt_tables[band_id]['pixels']\n",
    "            indicies = np.searchsorted( wt_pixels, data_pixels[good])\n",
    "            new_wts = new_weights[indicies]\n",
    "            # get subset of photons in this band, with new weights\n",
    "            these_photons = photons[photons.band==band_id][good]\n",
    "            these_photons.loc[:,'weight']=new_wts\n",
    "            photons.loc[photons.band==band_id,'weight'] = (these_photons.weight).astype(np.float16)\n",
    "    #         if self.config.verbose>1:\n",
    "    #             print(f' -> {len(new_wts):8,}')\n",
    "\n",
    "        for band_id in range(16):\n",
    "            set_weights(band_id)\n",
    "\n",
    "        return photons\n",
    "\n",
    "    def add_weights(self, photons):\n",
    "        \"\"\"\n",
    "        get the photon pixel ids, convert to NEST (if not already) and right shift them\n",
    "        add column 'weight', remove `nest_index'\n",
    "        remove rows with nan weight\n",
    "\n",
    "        \"\"\"\n",
    "        assert photons is not None\n",
    "        photons = self._new_format(photons)\n",
    "        assert photons is not None\n",
    "\n",
    "        # don't need these columns now (add flag to config to control??)\n",
    "        photons.drop(['nest_index'], axis=1, inplace=True)\n",
    "        noweight = np.isnan(photons.weight.values)\n",
    "        if self.config.verbose>1:\n",
    "            print(f'\\tremove {sum(noweight):,} events without weight')\n",
    "\n",
    "        ret = photons[np.logical_not(noweight)]\n",
    "        assert ret is not None\n",
    "        return ret\n",
    "\n",
    "def weight_radius_plots(photons):\n",
    "    \"\"\"\n",
    "    \"\"\"\n",
    "    import matplotlib.pyplot as plt\n",
    "\n",
    "    fig, axx = plt.subplots(2,8, figsize=(16,5), sharex=True, sharey=True)\n",
    "    plt.subplots_adjust(hspace=0.02, wspace=0)\n",
    "    for id,ax in enumerate(axx.flatten()):\n",
    "        subset = photons.query('band==@id & weight>0')\n",
    "        ax.semilogy(subset.radius, subset.weight, '.', label=f'{id}');\n",
    "        ax.legend(loc='upper right', fontsize=10)\n",
    "        ax.grid(alpha=0.5)\n",
    "    ax.set(ylim=(8e-4, 1.2), xlim=(0,4.9))\n",
    "    plt.suptitle('Weights vs. radius per band')"
   ]
  },
  {
   "cell_type": "code",
   "execution_count": null,
   "metadata": {},
   "outputs": [
    {
     "data": {
      "text/markdown": [
       "<h2 id=\"WeightMan\" class=\"doc_header\"><code>class</code> <code>WeightMan</code><a href=\"\" class=\"source_link\" style=\"float:right\">[source]</a></h2>\n",
       "\n",
       "> <code>WeightMan</code>(**`config`**, **`source`**) :: `dict`\n",
       "\n",
       "Weight Management\n",
       "\n",
       "* Load weight tables\n",
       "* Assign weights to photons"
      ],
      "text/plain": [
       "<IPython.core.display.Markdown object>"
      ]
     },
     "metadata": {},
     "output_type": "display_data"
    }
   ],
   "source": [
    "show_doc(WeightMan)"
   ]
  },
  {
   "cell_type": "code",
   "execution_count": null,
   "metadata": {},
   "outputs": [],
   "source": [
    "# export\n",
    "def findsource(*pars, gal=False):\n",
    "    \"\"\"\n",
    "    Return a SkyCoord, looking up a name, or interpreting args\n",
    "    \n",
    "    Optional inputs: len(pars) is 1 for a source name or Jxxx, or 2 for coordinate pair\n",
    "    - name -- look up the name, return None if not found\n",
    "    - Jxxx -- intrepret interpret to get ra, dec, then convert\n",
    "    - ra,dec -- assume frame=fk5\n",
    "    - l,b, gal=True -- assume degrees, frame=galactic\n",
    "    \"\"\"\n",
    "\n",
    "    import astropy.units as u\n",
    "    if len(pars)==1:\n",
    "        name = pars[0]    \n",
    "        if name.startswith('J'):\n",
    "            # parse the name for (ra,dec)\n",
    "            ra=(name[1:3]+'h'+name[3:7]+'m')\n",
    "            dec = (name[7:10]+'d'+name[10:12]+'m')\n",
    "            (ra,dec) = map(lambda a: float(Angle(a, unit=u.deg).to_string(decimal=True)),(ra,dec))\n",
    "            skycoord = SkyCoord(ra, dec, unit='deg', frame='fk5')\n",
    "        else:\n",
    "            try:\n",
    "                skycoord = SkyCoord.from_name(name)\n",
    "            except Exception as e:\n",
    "                # not found\n",
    "                return None\n",
    "    elif len(pars)==2:\n",
    "        name = f'({pars[0]},{pars[1]})'\n",
    "        #gal = kwargs.get('gal', False)\n",
    "        skycoord=SkyCoord(*pars, unit='deg', frame='galactic' if gal else 'fk5')\n",
    "    else:\n",
    "        raise TypeError('require name or ra,dec or l,b,gal=True')\n",
    "    return skycoord"
   ]
  },
  {
   "cell_type": "code",
   "execution_count": null,
   "metadata": {
    "tags": []
   },
   "outputs": [
    {
     "name": "stdout",
     "output_type": "stream",
     "text": [
      "Test findsource name lookup using astropy.coordinate.SkyCoord\n",
      "name               l         b\n",
      "BL Lac             092.590  -10.441\n",
      "CTA1               119.580  +10.204\n",
      "PSR J0007+7303     119.650  +10.600\n",
      "4FGL J0007.0+7303  119.650  +10.600\n",
      "Sagittarius A*     359.944   -0.046\n",
      "Sgr A*             359.944   -0.046\n",
      "Mkn 421            179.832  +65.031\n",
      "Vela               263.939   -3.368\n",
      "J1512.8-0906       351.279  +40.146\n",
      "junk               (not found)\n"
     ]
    }
   ],
   "source": [
    "# hide\n",
    "names = \\\n",
    "\"\"\"\n",
    "BL Lac\n",
    "CTA1\n",
    "PSR J0007+7303\n",
    "4FGL J0007.0+7303\n",
    "Sagittarius A*\n",
    "Sgr A*\n",
    "Mkn 421\n",
    "Vela\n",
    "J1512.8-0906\n",
    "junk\n",
    "\"\"\".split('\\n')\n",
    "print(f'Test findsource name lookup using astropy.coordinate.SkyCoord\\nname{\"l\":>16}{\"b\":>10}')\n",
    "for name in names:\n",
    "    if len(name)==0: continue\n",
    "    r = findsource(name)\n",
    "    if r is not None:\n",
    "        l,b = r.galactic.l.value, r.galactic.b.value\n",
    "    txt = '(not found)' if r is None else f'{l:07.3f}  {b:+7.3f}'\n",
    "    print(f'{name:18} {txt}')\n",
    "         "
   ]
  },
  {
   "cell_type": "code",
   "execution_count": null,
   "metadata": {},
   "outputs": [],
   "source": [
    "# # exportc\n",
    "# def get_wtzip_index(config, update=False):\n",
    "    \n",
    "#     wtzipfile = config.datapath/'weight_files.zip'\n",
    "#     assert wtzipfile.is_file(), 'Expect a zip file'\n",
    "    \n",
    "#     with  zipfile.ZipFile(wtzipfile) as wtzip:\n",
    "#         if 'index.pkl' in wtzip.namelist() and not update:\n",
    "#             return pickle.load(wtzip.open('index.pkl'))\n",
    "        \n",
    "#         if config.verbose>0:\n",
    "#             print(f'Extracting info from {wtzipfile}')\n",
    "#         name=[]; glat=[]; glon=[]\n",
    "#         for filename in wtzip.namelist():\n",
    "#             if filename=='index.pkl': continue\n",
    "#             with wtzip.open(filename) as file:\n",
    "#                 wtd = pickle.load(file, encoding='latin1')\n",
    "#                 l,b = wtd['source_lb']\n",
    "#                 name.append(Path(filename).name.split('_weights.pkl')[0].replace('_',' ').replace('p','+') )\n",
    "#                 glon.append(l)\n",
    "#                 glat.append(b)\n",
    "#         zip_index = dict(name=name, \n",
    "#                     coord=SkyCoord(glon, glat, unit='deg', frame='galactic').fk5\n",
    "#                )\n",
    "#         ### write to temp file, insert back into the zip \n",
    "#         ### SHould be a way to just stream\n",
    "#         pickle.dump(zip_index, open('/tmp/wtfile_index.pkl', 'wb'))\n",
    "#         with zipfile.ZipFile(wtzipfile, mode='a') as wtzip:\n",
    "#             wtzip.write('/tmp/wtfile_index.pkl', 'index.pkl')\n",
    "#     return zip_index"
   ]
  },
  {
   "cell_type": "code",
   "execution_count": null,
   "metadata": {
    "tags": []
   },
   "outputs": [],
   "source": [
    "# export\n",
    "class SourceLookup():\n",
    "    \"\"\" Use lists of the pointlike and catalog sources to check for correspondence of a name or position\n",
    "    \"\"\"\n",
    "\n",
    "    max_sep = 0.1\n",
    "\n",
    "    def __init__(self, config):\n",
    "        from astropy.io import fits\n",
    "        import pandas as pd\n",
    "        self.config=config\n",
    "        \n",
    "        zip_index = get_wtzip_index(config)\n",
    "        if zip_index is None:\n",
    "            raise Exception('Expected zip file weight_files.zip')\n",
    "            \n",
    "        self.pt_dirs=zip_index['coord']\n",
    "        self.pt_names = zip_index['name']\n",
    "        \n",
    "        if config.catalog_file is None or not Path(config.catalog_file).expanduser().is_file():\n",
    "            print('Expected to find the 4FGL catalog file: set \"catalog_file\" in your config.yaml file', \n",
    "                 file=sys.stderr)\n",
    "        \n",
    "        catalog_file = Path(config.catalog_file).expanduser()\n",
    "        \n",
    "        # make this optional\n",
    "        with fits.open(catalog_file) as hdus:\n",
    "            data = hdus[1].data\n",
    "        self.cat_names = list(map(lambda x: x.strip() , data['Source_Name']))\n",
    "        self.cat_dirs = SkyCoord(data['RAJ2000'], data['DEJ2000'], unit='deg', frame='fk5')\n",
    "        \n",
    "    def check_folder(self, *pars):\n",
    "        if len(pars)>1: return None\n",
    "        name = pars[0]\n",
    "        filename = self.config.datapath/'weight_files'/(name.replace(' ','_').replace('+','p')+'_weights.pkl') \n",
    "        if not filename.is_file():\n",
    "            return None\n",
    "        with open(filename, 'rb') as inp:\n",
    "            wd = pickle.load(inp, encoding='latin1')\n",
    "\n",
    "        #print(wd.keys(), wd['source_name'], wd['source_lb'])\n",
    "        skycoord = SkyCoord( *wd['source_lb'], unit='deg', frame='galactic')\n",
    "        self.check_4fgl(skycoord)\n",
    "        return name\n",
    "         \n",
    "    def __call__(self, *pars, **kwargs):\n",
    "        \"\"\"\n",
    "        Search the catalog lists. Options are:\n",
    "\n",
    "        * name of a pointlike source\n",
    "        * name of a source found by astropy, or a coordinate, which is close to a source in the pointlike list\n",
    "        * a coordinate pair (ra,dec), or (l,b, gal=True)\n",
    "        \n",
    "        Returns the pointlike name. \n",
    "        \"\"\"\n",
    "        self.psep=self.csep=99 # flag not found\n",
    "        self.cat_name = None\n",
    "        \n",
    "        # first, is the name in the weidht_files folder?\n",
    "        name = self.check_folder(*pars)\n",
    "        if name is not None:  return name\n",
    "       \n",
    "        # then check pointlike list\n",
    "        if self.pt_names is not None and len(pars)==1 and pars[0] in self.pt_names:\n",
    "            idx = list(self.pt_names).index(pars[0])\n",
    "            skycoord = self.pt_dirs[idx]\n",
    "        else:\n",
    "            # get coord either by known catalog name, or explict coordinate pair\n",
    "            try:\n",
    "                skycoord = findsource(*pars, **kwargs)\n",
    "            except TypeError as err:\n",
    "                print(err)\n",
    "                return None\n",
    "            if skycoord is None:\n",
    "                error = f'*** Name \"{pars}\" not found by astropy, and is not in the pointlike list'\n",
    "                print(error, file=sys.stderr)\n",
    "                return None\n",
    "\n",
    "        self.psep=0\n",
    "            \n",
    "        idx, sep2d, _= skycoord.match_to_catalog_sky(self.pt_dirs)\n",
    "        self.psep = sep = sep2d.deg[0]\n",
    "        pt_name =  self.pt_names[idx]\n",
    "        if sep > self.max_sep:\n",
    "            error = f'*** Name \"{pars}\" is {sep:.2f} deg > {self.max_sep} from pointlike source {pt_name}'\n",
    "\n",
    "            print(error, file=sys.stderr)\n",
    "\n",
    "            return None\n",
    "        self.check_4fgl(skycoord)\n",
    "        return pt_name\n",
    "    \n",
    "    def check_4fgl(self, skycoord):\n",
    "        # check for 4FGL correspondence\n",
    "        idx, sep2d, _= skycoord.match_to_catalog_sky(self.cat_dirs)\n",
    "        self.csep = sep2d.deg[0]\n",
    "        self.cat_name = self.cat_names[idx] if self.csep < self.max_sep else None\n",
    "        self.skycoord = skycoord\n",
    "\n"
   ]
  },
  {
   "cell_type": "code",
   "execution_count": null,
   "metadata": {},
   "outputs": [],
   "source": [
    "config=Config()\n",
    "sl = SourceLookup(config);\n",
    "name = 'PSR B1259-63'"
   ]
  },
  {
   "cell_type": "code",
   "execution_count": null,
   "metadata": {},
   "outputs": [
    {
     "data": {
      "text/plain": [
       "('PSR B1259-63', '4FGL J1302.9-6349')"
      ]
     },
     "execution_count": null,
     "metadata": {},
     "output_type": "execute_result"
    }
   ],
   "source": [
    "# def check_folder(self, *pars):\n",
    "#     if len(pars)>1: return None\n",
    "#     name = pars[0]\n",
    "#     filename = config.datapath/'weight_files'/(name.replace(' ','_').replace('+','p')+'_weights.pkl') \n",
    "#     if not filename.is_file():\n",
    "#         return None\n",
    "#     with open(filename, 'rb') as inp:\n",
    "#         wd = pickle.load(inp, encoding='latin1')\n",
    "        \n",
    "#     #print(wd.keys(), wd['source_name'], wd['source_lb'])\n",
    "#     skycoord = SkyCoord( *wd['source_lb'], unit='deg', frame='galactic')\n",
    "#     self.check_4fgl(skycoord)\n",
    "#     return name\n",
    "    \n",
    "    \n",
    "sl.check_folder(name) ,sl.cat_name \n"
   ]
  },
  {
   "cell_type": "code",
   "execution_count": null,
   "metadata": {},
   "outputs": [
    {
     "data": {
      "text/markdown": [
       "<h2 id=\"SourceLookup\" class=\"doc_header\"><code>class</code> <code>SourceLookup</code><a href=\"\" class=\"source_link\" style=\"float:right\">[source]</a></h2>\n",
       "\n",
       "> <code>SourceLookup</code>(**`config`**)\n",
       "\n",
       "Use lists of the pointlike and catalog sources to check for correspondence of a name or position\n",
       "    "
      ],
      "text/plain": [
       "<IPython.core.display.Markdown object>"
      ]
     },
     "metadata": {},
     "output_type": "display_data"
    },
    {
     "data": {
      "text/markdown": [
       "<h4 id=\"SourceLookup.__call__\" class=\"doc_header\"><code>SourceLookup.__call__</code><a href=\"__main__.py#L46\" class=\"source_link\" style=\"float:right\">[source]</a></h4>\n",
       "\n",
       "> <code>SourceLookup.__call__</code>(**\\*`pars`**, **\\*\\*`kwargs`**)\n",
       "\n",
       "Search the catalog lists. Options are:\n",
       "\n",
       "* name of a pointlike source\n",
       "* name of a source found by astropy, or a coordinate, which is close to a source in the pointlike list\n",
       "* a coordinate pair (ra,dec), or (l,b, gal=True)\n",
       "\n",
       "Returns the pointlike name. "
      ],
      "text/plain": [
       "<IPython.core.display.Markdown object>"
      ]
     },
     "metadata": {},
     "output_type": "display_data"
    }
   ],
   "source": [
    "show_doc(SourceLookup)\n",
    "show_doc(SourceLookup.__call__)"
   ]
  },
  {
   "cell_type": "code",
   "execution_count": null,
   "metadata": {
    "tags": []
   },
   "outputs": [
    {
     "name": "stdout",
     "output_type": "stream",
     "text": [
      "\n",
      "# should all be the same\n",
      " Mkn 421             --> P88Y2756 (4FGL J1104.4+3812)\n",
      " P88Y2756            --> P88Y2756 (4FGL J1104.4+3812)\n",
      " 4FGL J1104.4+3812   --> P88Y2756 (4FGL J1104.4+3812)\n",
      "\n",
      "# the GC source\n",
      " Sgr A*              --> P88Y4744 (4FGL J1745.6-2859)\n",
      "\n",
      "# should fail, name not exact match\n",
      " 4FGL J1512.8-0905   --> None (None)\n",
      "\n",
      "# OK, since lookup by position\n",
      " J1512.8-0905        --> P88Y3867 (4FGL J1512.8-0906)\n",
      "\n",
      "# Name ok, but not near a gamma-ray source\n",
      " IC 1623             --> None (None)\n",
      "\n",
      "# Pointlike source not in 4FGL, and its BL Lac association\n",
      " 211F-1019           --> 211F-1019 (None)\n"
     ]
    },
    {
     "name": "stderr",
     "output_type": "stream",
     "text": [
      "*** Name \"('4FGL J1512.8-0905',)\" not found by astropy, and is not in the pointlike list\n",
      "*** Name \"('IC 1623',)\" is 1.86 deg > 0.1 from pointlike source 211F-1163\n"
     ]
    },
    {
     "name": "stdout",
     "output_type": "stream",
     "text": [
      " 87GB 234805.5+360514--> 211F-1019 (None)\n",
      "\n",
      "# pulsars in 4FGL, but use its name\n",
      " PSR B1259-63        --> PSR B1259-63 (4FGL J1302.9-6349)\n",
      " PSR J0205+6449      --> PSR J0205+6449 (4FGL J0205.7+6449)\n",
      "\n",
      " 0,0                 --> None\n",
      " 0,0,gal=True        --> P88Y4744  (4FGL J1745.6-2859)\n"
     ]
    },
    {
     "name": "stderr",
     "output_type": "stream",
     "text": [
      "*** Name \"(0, 0)\" is 0.41 deg > 0.1 from pointlike source 504H-0639\n"
     ]
    }
   ],
   "source": [
    "# hide  \n",
    "\n",
    "try:\n",
    "    \n",
    "    sl = SourceLookup(Config())\n",
    "    tests =\\\n",
    "    \"\"\"\n",
    "    # should all be the same\n",
    "    Mkn 421\n",
    "    P88Y2756\n",
    "    4FGL J1104.4+3812\n",
    "\n",
    "    # the GC source\n",
    "    Sgr A*\n",
    "\n",
    "    # should fail, name not exact match\n",
    "    4FGL J1512.8-0905\n",
    "\n",
    "    # OK, since lookup by position\n",
    "    J1512.8-0905\n",
    "\n",
    "    # Name ok, but not near a gamma-ray source\n",
    "    IC 1623\n",
    "\n",
    "    # Pointlike source not in 4FGL, and its BL Lac association\n",
    "    211F-1019\n",
    "    87GB 234805.5+360514\n",
    "    \n",
    "    # pulsars in 4FGL, but use its name\n",
    "    PSR B1259-63\n",
    "    PSR J0205+6449\n",
    "    \"\"\".split('\\n')\n",
    "    for line in tests:\n",
    "        t = line.strip()\n",
    "        if len(t)==0 or t[0]=='#': \n",
    "            print(t)\n",
    "        else: \n",
    "            print(f' {t:20s}--> {sl(t)} ({sl.cat_name})')\n",
    "    print(f' {\"0,0\":20s}--> {sl(0,0)}')\n",
    "    print(f' {\"0,0,gal=True\":20s}--> {sl(0,0, gal=True)}  ({sl.cat_name})')\n",
    "except Exception as e:\n",
    "    print('Fail test: {e}', file=sys.stderr)\n",
    "    raise"
   ]
  },
  {
   "cell_type": "code",
   "execution_count": null,
   "metadata": {},
   "outputs": [],
   "source": [
    "#export\n",
    "\n",
    "class PointSource():\n",
    "    \"\"\"Manage the position and name of a point source\n",
    "    \"\"\"\n",
    "    def __init__(self, *pars, **kwargs): # name,  position=None, nickname=None, config=None,):\n",
    "        \"\"\"\n",
    "\n",
    "        \"\"\"\n",
    "        config = self.config = kwargs.pop('config', Config())\n",
    "        lookup = SourceLookup(config)\n",
    "        gal = kwargs.get('gal', False)\n",
    "        self.nickname = pt_name = lookup(*pars, ** kwargs )\n",
    "        if pt_name is None:\n",
    "            raise Exception('Source not found')\n",
    "        self.skycoord = lookup.skycoord\n",
    "        #print(pars)\n",
    "        if len(pars)==1:\n",
    "            name = pars[0]\n",
    "            if name==pt_name and lookup.cat_name is not None:\n",
    "                name = lookup.cat_name\n",
    "        else:\n",
    "            gal = kwargs.get('gal', False)\n",
    "            name=f'{\"fk5\" if gal else \"gal\"} ({pars[0]},{pars[1]}) '\n",
    "        self.name = name\n",
    "        gal = self.skycoord.galactic\n",
    "        self.l, self.b = gal.l.deg, gal.b.deg\n",
    "        self.cat_name = lookup.cat_name\n",
    "        \n",
    "        try:\n",
    "            self.wtman = WeightMan(self.config, self)\n",
    "            # add wtman attribute references\n",
    "            self.__dict__.update(self.wtman.__dict__)\n",
    "        except Exception as e:\n",
    "            print(f'Unexpected Weigthman failure: {e}', file=sys.stderr)\n",
    "            raise\n",
    "\n",
    "\n",
    "    def __str__(self):\n",
    "        return f'Source \"{self.name}\" at: (l,b)=({self.l:.3f},{self.b:.3f}), nickname {self.nickname}'\n",
    "    def __repr__(self): return str(self)\n",
    "\n",
    "    @property\n",
    "    def ra(self):\n",
    "        sk = self.skycoord.transform_to('fk5')\n",
    "        return sk.ra.value\n",
    "    @property\n",
    "    def dec(self):\n",
    "        sk = self.skycoord.transform_to('fk5')\n",
    "        return sk.dec.value\n",
    "\n",
    "    @property\n",
    "    def filename(self):\n",
    "        \"\"\"Modified name for file system\"\"\"\n",
    "        return self.name.replace(' ', '_').replace('+','p') if getattr(self,'nickname',None) is None else self.nickname\n",
    "\n",
    "    @classmethod\n",
    "    def fk5(cls, name, position):\n",
    "        \"\"\"position: (ra,dec) tuple \"\"\"\n",
    "        ra,dec = position\n",
    "        sk = SkyCoord(ra, dec, unit='deg',  frame='fk5').transform_to('galactic')\n",
    "        return cls(name, (sk.l.value, sk.b.value))\n",
    "\n",
    "    @property\n",
    "    def spectral_model(self):\n",
    "        if not hasattr(self, 'fit_info'): return None\n",
    "        modelname = self.fit_info['modelname']\n",
    "        pars = self.fit_info['pars']\n",
    "        if modelname=='LogParabola':\n",
    "            return self.LogParabola(pars)\n",
    "        elif modelname=='PLSuperExpCutoff':\n",
    "            return self.PLSuperExpCutoff(pars)\n",
    "        else:\n",
    "            raise Exception(f'PointSource: Unrecognized spectral model name {fi[\"modelname\"]}')\n",
    "\n",
    "    def __call__(self, energy):\n",
    "        \"\"\"if wtman set, return photon flux at energy\"\"\"\n",
    "        return self.spectral_model(energy) if self.spectral_model else None\n",
    "\n",
    "    def sed_plot(self, ax=None, figsize=(5,4), **kwargs):\n",
    "        \"\"\"Make an SED for the source\n",
    "\n",
    "        - kwargs -- for the Axes object (xlim, ylim, etc.)\n",
    "        \"\"\"\n",
    "        import matplotlib.pyplot as plt\n",
    "        fig, ax = plt.subplots(figsize=figsize) if ax is None else (ax.figure, ax)\n",
    "        x =np.logspace(2,5,61)\n",
    "        y = self(x)\n",
    "        ax.loglog(x/1e3, y*x**2 * 1e6, '-')\n",
    "        ax.grid(alpha=0.5)\n",
    "        kw = dict(xlabel='Energy (GeV)',\n",
    "                  ylabel=r'$\\mathrm{Energy\\ Flux\\ (eV\\ cm^{-2}\\ s^{-1})}$',\n",
    "                  title=f'{self.name}',\n",
    "                  xlim=(x.min(),x.max()),\n",
    "                 )\n",
    "        kw.update(kwargs)\n",
    "        ax.set(**kw)\n",
    "\n",
    "    class FluxModel():\n",
    "        emin, emax = 1e2, 1e5\n",
    "        def __init__(self, pars, e0=1000):\n",
    "            self.pars=pars\n",
    "            self.e0=e0\n",
    "\n",
    "        def photon_flux(self):\n",
    "            return quad(self, self.emin, self.emax)[0]\n",
    "\n",
    "        def energy_flux(self):\n",
    "            func = lambda e: self(e) * e**2\n",
    "            return quad(func, self.emin, self.emax)[0]\n",
    "\n",
    "    class LogParabola(FluxModel):\n",
    "\n",
    "        def __call__(self, e):\n",
    "            n0,alpha,beta,e_break=self.pars\n",
    "            x = np.log(e_break/e)\n",
    "            y = (alpha - beta*x)*x\n",
    "            return n0*np.exp(y)\n",
    "\n",
    "    class PLSuperExpCutoff(FluxModel):\n",
    "\n",
    "        def __call__(self,e):\n",
    "            print('WARNING: check e0!')\n",
    "            n0,gamma,cutoff,b=self.pars\n",
    "            return n0*(self.e0/e)**gamma*np.exp(-(e/cutoff)**b)"
   ]
  },
  {
   "cell_type": "code",
   "execution_count": null,
   "metadata": {},
   "outputs": [
    {
     "data": {
      "text/plain": [
       "dict_keys(['energy_bins', 'source_name', 'source_lb', 'roi_lb', 'wt_dict', 'nickname', 'model_name', 'fitinfo'])"
      ]
     },
     "execution_count": null,
     "metadata": {},
     "output_type": "execute_result"
    }
   ],
   "source": [
    "s = PointSource('PSR B1259-63'); s\n",
    "s.wtman.keys()"
   ]
  },
  {
   "cell_type": "code",
   "execution_count": null,
   "metadata": {},
   "outputs": [
    {
     "data": {
      "text/markdown": [
       "<h2 id=\"PointSource\" class=\"doc_header\"><code>class</code> <code>PointSource</code><a href=\"\" class=\"source_link\" style=\"float:right\">[source]</a></h2>\n",
       "\n",
       "> <code>PointSource</code>(**\\*`pars`**, **\\*\\*`kwargs`**)\n",
       "\n",
       "Manage the position and name of a point source\n",
       "    "
      ],
      "text/plain": [
       "<IPython.core.display.Markdown object>"
      ]
     },
     "metadata": {},
     "output_type": "display_data"
    },
    {
     "data": {
      "text/markdown": [
       "<h4 id=\"PointSource.fk5\" class=\"doc_header\"><code>PointSource.fk5</code><a href=\"__main__.py#L57\" class=\"source_link\" style=\"float:right\">[source]</a></h4>\n",
       "\n",
       "> <code>PointSource.fk5</code>(**`name`**, **`position`**)\n",
       "\n",
       "position: (ra,dec) tuple "
      ],
      "text/plain": [
       "<IPython.core.display.Markdown object>"
      ]
     },
     "metadata": {},
     "output_type": "display_data"
    }
   ],
   "source": [
    "show_doc(PointSource)\n",
    "show_doc(PointSource.fk5)\n",
    "\n",
    "# TODO: upeate tests if no weight file\n",
    "# for s, expect in [( PointSource('Geminga'),             'Source \"Geminga\" at: (l,b)=(195.134,4.266)'),\n",
    "#                   ( PointSource('gal_source', (0,0)),   'Source \"gal_source\" at: (l,b)=(0.000,0.000)', ),\n",
    "#                   ( PointSource.fk5('fk5_source',(0,0)),'Source \"fk5_source\" at: (l,b)=(96.337,-60.189)',)\n",
    "#                    ]:    \n",
    "#     assert str(s)==expect, f'expected {expect}, got {str(s)}'\n",
    "# PointSource('3C 273').filename, PointSource('3C 273', nickname='3Cxxx').filename"
   ]
  },
  {
   "cell_type": "code",
   "execution_count": null,
   "metadata": {},
   "outputs": [],
   "source": [
    "# show_doc(check_weights)"
   ]
  },
  {
   "cell_type": "code",
   "execution_count": null,
   "metadata": {},
   "outputs": [
    {
     "name": "stdout",
     "output_type": "stream",
     "text": [
      "Source \"4FGL J0633.9+1746\" at: (l,b)=(195.134,4.273), nickname PSR J0633+1746\n"
     ]
    }
   ],
   "source": [
    "source = PointSource('Geminga'); print(source)"
   ]
  },
  {
   "cell_type": "code",
   "execution_count": null,
   "metadata": {},
   "outputs": [
    {
     "name": "stdout",
     "output_type": "stream",
     "text": [
      "Source \"fk5 (179.8,65.04) \" at: (l,b)=(179.800,65.040), nickname P88Y2756 P88Y2756\n"
     ]
    }
   ],
   "source": [
    "source = PointSource(179.8, 65.04, gal=True); print(source, source.nickname)"
   ]
  },
  {
   "cell_type": "code",
   "execution_count": null,
   "metadata": {},
   "outputs": [
    {
     "data": {
      "text/plain": [
       "Source \"4FGL J1302.9-6349\" at: (l,b)=(304.206,-0.985), nickname P88Y3278"
      ]
     },
     "execution_count": null,
     "metadata": {},
     "output_type": "execute_result"
    }
   ],
   "source": [
    "\n",
    "PointSource('PSR B1259-63')"
   ]
  },
  {
   "cell_type": "code",
   "execution_count": null,
   "metadata": {
    "tags": []
   },
   "outputs": [
    {
     "name": "stdout",
     "output_type": "stream",
     "text": [
      "Converted 00_config.ipynb.\n",
      "Converted 01_data_man.ipynb.\n",
      "Converted 02_effective_area.ipynb.\n",
      "Converted 03_exposure.ipynb.\n",
      "Converted 03_sources.ipynb.\n",
      "Converted 04_load_data.ipynb.\n",
      "Converted 04_simulation.ipynb.\n",
      "Converted 05_source_data.ipynb.\n",
      "Converted 06_poisson.ipynb.\n",
      "Converted 07_loglike.ipynb.\n",
      "Converted 08_cell_data.ipynb.\n",
      "Converted 09_lightcurve.ipynb.\n",
      "Converted 14_bayesian.ipynb.\n",
      "Converted 90_main.ipynb.\n",
      "Converted 99_tutorial.ipynb.\n",
      "Converted index.ipynb.\n",
      "Sun Aug 15 09:09:13 PDT 2021\n"
     ]
    }
   ],
   "source": [
    "# hide\n",
    "from nbdev.export import notebook2script\n",
    "notebook2script()\n",
    "!date"
   ]
  },
  {
   "cell_type": "code",
   "execution_count": null,
   "metadata": {},
   "outputs": [],
   "source": []
  }
 ],
 "metadata": {
  "kernelspec": {
   "display_name": "Python 3",
   "language": "python",
   "name": "python3"
  }
 },
 "nbformat": 4,
 "nbformat_minor": 4
}
