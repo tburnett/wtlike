{
 "cells": [
  {
   "cell_type": "code",
   "execution_count": null,
   "metadata": {},
   "outputs": [],
   "source": [
    "from nbdev import *\n",
    "from utilities.ipynb_docgen import *\n",
    "# default_exp simulation\n",
    "%load_ext autoreload\n",
    "%autoreload 2"
   ]
  },
  {
   "cell_type": "markdown",
   "metadata": {},
   "source": [
    "# Simulation\n",
    "> Generate simulated data"
   ]
  },
  {
   "cell_type": "code",
   "execution_count": null,
   "metadata": {},
   "outputs": [],
   "source": [
    "# export\n",
    "import os\n",
    "import numpy as np\n",
    "import pandas as pd\n",
    "from scipy import stats\n",
    "\n",
    "from wtlike.config import Config, PointSource\n"
   ]
  },
  {
   "cell_type": "code",
   "execution_count": null,
   "metadata": {},
   "outputs": [],
   "source": [
    "# export\n",
    "import numbers\n",
    "\n",
    "class _Sampler():\n",
    "    \"\"\" Sample an arbitrary function or histogram\n",
    "    \n",
    "    - func -- a function, a histogram, or a fixed value<br>\n",
    "        If a function, must be positive definite.<br>\n",
    "        Assume histogram bins are 0 to 1.\n",
    "    - a,b  -- limits (default 0,1)\n",
    "    - n    -- table size (ignored if a histogram or value)\n",
    "    \n",
    "    \"\"\"\n",
    "     \n",
    "    def __init__(self, func, limits=(0,1), n=100):\n",
    "\n",
    "        a,b = limits\n",
    "        self.x = np.linspace(a,b,n+1) # bin edges\n",
    "        dx = (b-a)/(n)/2\n",
    "        self.deltafun=None\n",
    "\n",
    "        if callable(func):\n",
    "            # A function\n",
    "            # evaluate at bin centers\n",
    "            y = np.array([func(t-dx) for t in self.x])\n",
    "            if np.any(y<0) or np.sum(y)==0:\n",
    "                raise ValueError('Function is not positive definite')\n",
    "        elif isinstance(func, numbers.Number):\n",
    "            # a single value, or delta function\n",
    "            self.deltafun = func\n",
    "            if  func<0 or func>1:\n",
    "                raise ValueError('Value not in range [0,1]')\n",
    "            self.mean=func\n",
    "            return\n",
    "        else:\n",
    "            n = len(func) \n",
    "            self.x = np.linspace(a,b,n)\n",
    "            y = func\n",
    "        cy = np.cumsum(y)\n",
    "        d = cy[-1]-cy[0]\n",
    "        self.sy = (cy-cy[0])/d\n",
    "        \n",
    "        self.mean = np.sum( (self.x-dx) * y) / d\n",
    "\n",
    "    def _evaluate(self, r):\n",
    "        \"\"\"evaluate inverse integral. expect 0<r<1 \"\"\"\n",
    "        return np.interp(r, self.sy, self.x)\n",
    "    \n",
    "    def __call__(self, size):\n",
    "        \"\"\"Generate `size` values\n",
    "        \"\"\"\n",
    "        if self.deltafun: return np.full(size, self.deltafun)\n",
    " \n",
    "        return self._evaluate(stats.uniform.rvs(size=size))"
   ]
  },
  {
   "cell_type": "markdown",
   "metadata": {},
   "source": [
    "###   Gaussian and quadratic example functions\n"
   ]
  },
  {
   "cell_type": "code",
   "execution_count": null,
   "metadata": {},
   "outputs": [],
   "source": [
    "# collapse_input\n",
    "n = 20\n",
    "sf = _Sampler(lambda x: np.exp(-(x**2)/2), limits=(-4, 4) )\n",
    "\n",
    "data = sf(10000)\n",
    "tests = np.array([np.abs(data.mean()), np.abs(data.std()-1) ])\n",
    "assert np.all(tests<5e-2 ), f'Failed Tests: mean {data.mean()}, std {data.std()}'\n",
    "\n",
    "func = lambda x: x**2\n",
    "wfun = _Sampler(func)\n",
    "\n",
    "test2 = wfun.mean,  np.mean(wfun(1000))\n",
    "assert np.abs( test2[0]-test2[1] ) < 1e-1, f'Not almost equal: {test2}'"
   ]
  },
  {
   "cell_type": "markdown",
   "metadata": {},
   "source": [
    "### Test generating weights from a source weight histogram"
   ]
  },
  {
   "cell_type": "markdown",
   "metadata": {},
   "source": [
    "Test with a function peaked at both ends, generate equal signal and background"
   ]
  },
  {
   "cell_type": "markdown",
   "metadata": {},
   "source": [
    "## Simulate times and weights"
   ]
  },
  {
   "cell_type": "code",
   "execution_count": null,
   "metadata": {},
   "outputs": [],
   "source": [
    "# export\n",
    "sec_per_day = 24*3600 \n",
    "\n",
    "def generate_times(start, stop, count):\n",
    "    \"\"\" Generate a list of times, distributed randomly\n",
    "    \n",
    "    - start, stop: times\n",
    "    - count : expected number to generate with rate=count/(stop-start)\n",
    "        \n",
    "    returns : list of times between start and stop. Note that the actual number is Poisson-distributed\n",
    "    \"\"\"\n",
    "    # note: can speed this up by making groups of random calls\n",
    "\n",
    "    tt =[]\n",
    "    t = start\n",
    "    scale = (stop-start)/count\n",
    "    while True:\n",
    "        t += np.random.exponential(scale =scale)\n",
    "        if t>stop: break\n",
    "        tt.append(t)\n",
    "    return tt"
   ]
  },
  {
   "cell_type": "code",
   "execution_count": null,
   "metadata": {},
   "outputs": [],
   "source": [
    "#export\n",
    "class WeightFunction(object):\n",
    "    \n",
    "    def __init__(self, s=1,b=1, wt_signif=0.1):\n",
    "        self.s = s\n",
    "        self.b = b\n",
    "        self.lam = wt_signif\n",
    "        \n",
    "    def __call__(self, r):\n",
    "        return (self.s * np.exp(-r/self.lam)/(self.lam*(1-np.exp(-1/self.lam))) + self.b)\n",
    "    \n",
    "    def sample(self, s,b, n):\n",
    "        self.s = s\n",
    "        self.b = b\n",
    "        return _Sampler(self, n=1000)(n); \n",
    "\n",
    "    def weights(self, s, b, n):\n",
    "        h = self.sample(s,b,n)        \n",
    "        return 1-b/self(h) "
   ]
  },
  {
   "cell_type": "code",
   "execution_count": null,
   "metadata": {},
   "outputs": [
    {
     "data": {
      "image/png": "[encoded data removed]",
      "text/plain": [
       "<Figure size 1080x288 with 3 Axes>"
      ]
     },
     "metadata": {
      "needs_background": "light"
     },
     "output_type": "display_data"
    }
   ],
   "source": [
    "#hide\n",
    "# test weight function\n",
    "s,b, lam = 1,1,0.1\n",
    "\n",
    "r = np.linspace(0,1, 1000)  \n",
    "wfun = WeightFunction(s=s,b=b,wt_signif=lam)\n",
    "samp = wfun.sample(s,b, 10000); \n",
    "wts = wfun.weights(s,b, 10000);\n",
    "\n",
    "\n",
    "fig, (ax1, ax2, ax3) = plt.subplots(1,3, figsize=(15,4), sharex=True)\n",
    "ax1.plot(r, wfun(r), '-')\n",
    "ax1.set(ylim=(0,None), xlim=(0,1), title='function');\n",
    "ax2.hist(samp, 100);\n",
    "ax2.set(title='sampled', xlabel='zeta value');\n",
    "ax3.hist(wts, bins=np.linspace(0,1,101));\n",
    "ax3.set(title='weights');"
   ]
  },
  {
   "cell_type": "code",
   "execution_count": null,
   "metadata": {},
   "outputs": [],
   "source": [
    "#export\n",
    "def make_exposure(fexp, start, stop, interval=300):\n",
    "    \"\"\"\n",
    "    - fexp -- exposure in cm^2, a value or a function of time in day units\n",
    "    - start, stop -- range of time in day units\n",
    "    - interval [300] -- 5-min interval (fermi data is 30 s)\n",
    "    \n",
    "    Returns: a DataFrame with start, stop, exp\n",
    "    \"\"\"\n",
    "    def check_scalar( f):\n",
    "        if np.isscalar(f):\n",
    "            fval = f\n",
    "            return lambda t: fval\n",
    "        return f\n",
    "    fexp = check_scalar(fexp)\n",
    "    \n",
    "    nbins = int((stop-start)*sec_per_day / interval)\n",
    "    edges = np.linspace(start, start+nbins*interval/sec_per_day, nbins+1)\n",
    "    starts, stops = edges[:-1], edges[1:]\n",
    "    exp = fexp(starts) * interval\n",
    "    return pd.DataFrame.from_dict(dict(start=starts, stop=stops, exp=exp))\n",
    "\n",
    "# exp  = make_exposure(500, 0, 1 )\n",
    "# days  = np.sum(exp.stop-exp.start); secs = days*24*3600\n",
    "# exptot=np.sum(exp.exp)\n",
    "# exp_text = f' average {exptot/secs:.0f} cm^2 for {secs/1e6:.1f} Ms'\n",
    "# print(exp_text)\n",
    "# exp.head()"
   ]
  },
  {
   "cell_type": "code",
   "execution_count": null,
   "metadata": {},
   "outputs": [],
   "source": [
    "# export\n",
    "class Simulation(object):\n",
    "    \n",
    "    def __init__(self, name, src_flux, tstart, tstop, bkg_flux=1e-6,  efun=3000, wt_signif=0.1):\n",
    "        \"\"\"\n",
    "        - src_flux : source flux, scalar or function of days, typically around 1e-7\n",
    "        - tstart, tstop :(days)\n",
    "        - bkg_flux : background flux, scalar or function of day, typicaly 1e-6 for 4-deg cone\n",
    "        - efun : scalar, function (of time in days) of the exposure/s. Typically 3000 cm^2 for fermi \n",
    "            \n",
    "        - wt_signif : now the width of the PSF in (r/rmax)**2 coordinates\n",
    "\n",
    "        \"\"\"\n",
    "        def check_scalar( f):\n",
    "            if np.isscalar(f):\n",
    "                fval = f\n",
    "                return lambda t: fval\n",
    "            return f\n",
    "        self.name = name\n",
    "        self.src_fun = check_scalar(src_flux)\n",
    "        self.bkg_fun = check_scalar(bkg_flux)\n",
    "        self.flux_fun = lambda t: src_fun(t)+bkg_fun(t)\n",
    "        self.wt_signif=wt_signif\n",
    "\n",
    "        self.exposure = make_exposure(efun, tstart, tstop)\n",
    "\n",
    "       \n",
    "    def run(self):\n",
    "        times = []\n",
    "        weights = []\n",
    "        for start, stop, exp in self.exposure.itertuples(index=False,name=None):\n",
    "\n",
    "            src = self.src_fun((start+stop)/2) \n",
    "            bkg = self.bkg_fun((start+stop)/2) \n",
    "            delta_t = (stop-start)*sec_per_day # tolal tim\n",
    "            counts = (src+bkg) * exp # \n",
    "            #print(f'From {start} to {stop}, exposure/s {exp/delta_t:.0f}, counts {counts:.0f}')\n",
    "            new_times = generate_times(start, stop, counts)\n",
    "            wfun = WeightFunction(wt_signif=self.wt_signif)\n",
    "            new_wts = wfun.weights(s=src, b=bkg, n=len(new_times)); \n",
    "\n",
    "            assert len(new_times)==len(new_wts)\n",
    "            times = np.append(times, new_times) \n",
    "            weights = np.append(weights, new_wts)\n",
    "\n",
    "        print(f'generated {len(times)} photons')\n",
    "        self.photons=pd.DataFrame(dict(time=times, weight=weights.astype(np.float32)))"
   ]
  },
  {
   "cell_type": "code",
   "execution_count": null,
   "metadata": {},
   "outputs": [
    {
     "name": "stdout",
     "output_type": "stream",
     "text": [
      "generated 5269 photons\n",
      "CPU times: user 11.4 s, sys: 0 ns, total: 11.4 s\n",
      "Wall time: 11.4 s\n"
     ]
    }
   ],
   "source": [
    "#hide\n",
    "# def src_flare(t, tzero=15, width=0.25, amp=2):\n",
    "#     return 1e-6*(1 + amp*np.exp(-(t-tzero)**2/2/width))\n",
    "# sim = Simulation('test_sim', src_flux=src_flare, tstart=0, tstop=10, )\n",
    "# %time sim.run()"
   ]
  },
  {
   "cell_type": "code",
   "execution_count": null,
   "metadata": {
    "tags": []
   },
   "outputs": [
    {
     "name": "stdout",
     "output_type": "stream",
     "text": [
      "Converted 00_config.ipynb.\n",
      "Converted 01_data_man.ipynb.\n",
      "Converted 02_effective_area.ipynb.\n",
      "Converted 03_weights.ipynb.\n",
      "Converted 04_simulation.ipynb.\n",
      "Converted 05_source_data.ipynb.\n",
      "Converted 06_poisson.ipynb.\n",
      "Converted 07_loglike.ipynb.\n",
      "Converted 08_cell_data.ipynb.\n",
      "Converted 09_lightcurve.ipynb.\n",
      "Converted 14_bayesian.ipynb.\n",
      "Converted 90-main.ipynb.\n",
      "Converted 99_tutorial.ipynb.\n",
      "Converted index.ipynb.\n",
      "Tue May 11 07:03:14 PDT 2021\n"
     ]
    }
   ],
   "source": [
    "#hide\n",
    "from nbdev.export import notebook2script\n",
    "notebook2script()\n",
    "!date"
   ]
  },
  {
   "cell_type": "code",
   "execution_count": null,
   "metadata": {},
   "outputs": [],
   "source": []
  }
 ],
 "metadata": {
  "kernelspec": {
   "display_name": "Python 3",
   "language": "python",
   "name": "python3"
  }
 },
 "nbformat": 4,
 "nbformat_minor": 4
}
