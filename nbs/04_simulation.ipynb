{
 "cells": [
  {
   "cell_type": "code",
   "execution_count": null,
   "metadata": {},
   "outputs": [],
   "source": [
    "# default_exp simulation\n",
    "from nbdev import *\n",
    "from utilities.ipynb_docgen import *\n",
    "\n",
    "%reload_ext autoreload\n",
    "%autoreload 2"
   ]
  },
  {
   "cell_type": "markdown",
   "metadata": {},
   "source": [
    "# Simulation\n",
    "> Generate simulated data"
   ]
  },
  {
   "cell_type": "code",
   "execution_count": null,
   "metadata": {},
   "outputs": [],
   "source": [
    "# export\n",
    "import os\n",
    "import numpy as np\n",
    "import pandas as pd\n",
    "import matplotlib.pyplot as plt\n",
    "from scipy import stats\n",
    "\n",
    "from wtlike.config import Config\n",
    "from wtlike.weights import PointSource"
   ]
  },
  {
   "cell_type": "code",
   "execution_count": null,
   "metadata": {},
   "outputs": [],
   "source": [
    "# export\n",
    "\n",
    "class _Sampler():\n",
    "    \"\"\" Sample an arbitrary function or histogram\n",
    "\n",
    "    - func -- a function, a histogram, or a fixed value<br>\n",
    "        If a function, must be positive definite.<br>\n",
    "        Assume histogram bins are 0 to 1.\n",
    "    - a,b  -- limits (default 0,1)\n",
    "    - n    -- table size (ignored if a histogram or value)\n",
    "    - rng --  a numpy.random.Generator object, or a seed\n",
    "    \"\"\"\n",
    "\n",
    "    def __init__(self, func, limits=(0,1), n=100, rng=None):\n",
    "        import numbers\n",
    "        a,b = limits\n",
    "        self.x = np.linspace(a,b,n+1) # bin edges\n",
    "        dx = (b-a)/(n)/2\n",
    "        self.deltafun=None\n",
    "        self.rng=rng\n",
    "\n",
    "        if callable(func):\n",
    "            # A function\n",
    "            # evaluate at bin centers\n",
    "            y = np.array([func(t-dx) for t in self.x])\n",
    "            if np.any(y<0) or np.sum(y)==0:\n",
    "                raise ValueError('Function is not positive definite')\n",
    "        elif isinstance(func, numbers.Number):\n",
    "            # a single value, or delta function\n",
    "            self.deltafun = func\n",
    "            if  func<0 or func>1:\n",
    "                raise ValueError('Value not in range [0,1]')\n",
    "            self.mean=func\n",
    "            return\n",
    "        else:\n",
    "            n = len(func)\n",
    "            self.x = np.linspace(a,b,n)\n",
    "            y = func\n",
    "        cy = np.cumsum(y)\n",
    "        d = cy[-1]-cy[0]\n",
    "        self.sy = (cy-cy[0])/d\n",
    "\n",
    "        self.mean = np.sum( (self.x-dx) * y) / d\n",
    "\n",
    "    def _evaluate(self, r):\n",
    "        \"\"\"evaluate inverse integral. expect 0<r<1 \"\"\"\n",
    "        return np.interp(r, self.sy, self.x)\n",
    "\n",
    "    def __call__(self, size):\n",
    "        \"\"\"Generate `size` values\n",
    "        \"\"\"\n",
    "        if self.deltafun: return np.full(size, self.deltafun)\n",
    "\n",
    "        return self._evaluate(stats.uniform.rvs(size=size, random_state=self.rng))"
   ]
  },
  {
   "cell_type": "markdown",
   "metadata": {},
   "source": [
    "####   Gaussian and quadratic example functions\n"
   ]
  },
  {
   "cell_type": "code",
   "execution_count": null,
   "metadata": {},
   "outputs": [],
   "source": [
    "# collapse_show\n",
    "n = 20\n",
    "sf = _Sampler(lambda x: np.exp(-(x**2)/2), limits=(-4, 4) )\n",
    "\n",
    "data = sf(10000)\n",
    "tests = np.array([np.abs(data.mean()), np.abs(data.std()-1) ])\n",
    "assert np.all(tests<5e-2 ), f'Failed Tests: mean {data.mean()}, std {data.std()}'\n",
    "\n",
    "func = lambda x: x**2\n",
    "wfun = _Sampler(func)\n",
    "\n",
    "test2 = wfun.mean,  np.mean(wfun(1000))\n",
    "assert np.abs( test2[0]-test2[1] ) < 1e-1, f'Not almost equal: {test2}'"
   ]
  },
  {
   "cell_type": "markdown",
   "metadata": {},
   "source": [
    "### Test generating weights from a source weight histogram"
   ]
  },
  {
   "cell_type": "markdown",
   "metadata": {},
   "source": [
    "Test with a function peaked at both ends, generate equal signal and background"
   ]
  },
  {
   "cell_type": "markdown",
   "metadata": {},
   "source": [
    "## Simulate times and weights"
   ]
  },
  {
   "cell_type": "code",
   "execution_count": null,
   "metadata": {},
   "outputs": [],
   "source": [
    "# export\n",
    "sec_per_day = 24*3600\n",
    "\n",
    "def generate_times(start, stop, count, rng=None):\n",
    "    \"\"\" Generate a list of times, distributed randomly\n",
    "\n",
    "    - start, stop: times\n",
    "    - count : expected number to generate with rate=count/(stop-start)\n",
    "    - rng : random state generator\n",
    "\n",
    "    returns : list of times between start and stop. Note that the actual number is Poisson-distributed\n",
    "    \"\"\"\n",
    "    # note: can speed this up by making groups of random calls\n",
    "\n",
    "    tt =[]\n",
    "    t = start\n",
    "    scale = (stop-start)/count\n",
    "    if rng is None: rng = np.random.default_rng()\n",
    "    while True:\n",
    "        t += rng.exponential(scale =scale)\n",
    "        if t>stop: break\n",
    "        tt.append(t)\n",
    "    return tt"
   ]
  },
  {
   "cell_type": "code",
   "execution_count": null,
   "metadata": {},
   "outputs": [
    {
     "data": {
      "image/png": "[encoded data removed]",
      "text/plain": [
       "<Figure size 432x288 with 1 Axes>"
      ]
     },
     "metadata": {},
     "output_type": "display_data"
    }
   ],
   "source": [
    "# collapse-hide\n",
    "rng = np.random.default_rng(42)\n",
    "nn = np.array( [ len(generate_times(0,1,10, rng=rng )) for i in range(100000) ])\n",
    "plt.hist(nn, np.linspace(0,25,26), label=f'Mean: {nn.mean():.2f},\\n  std: {nn.std():.2f}');\n",
    "plt.legend()\n",
    "plt.title(f'Check that generated number is Poisson', fontsize=12);\n"
   ]
  },
  {
   "cell_type": "code",
   "execution_count": null,
   "metadata": {},
   "outputs": [],
   "source": [
    "#export\n",
    "class WeightFunction(object):\n",
    "\n",
    "    def __init__(self, s=1, b=1, wt_signif=0.1, rng=None):\n",
    "        self.s = s\n",
    "        self.b = b\n",
    "        self.lam = wt_signif\n",
    "        self.rng = rng\n",
    "\n",
    "    def psf(self, rsq, sig=0.2, gamma=2):\n",
    "        \"\"\" The PSF as a function of a radius**2\n",
    "        \"\"\"\n",
    "        #return 1/(2*np.pi* sig**2) * (1-1/gamma) * (1 + rsq/sig**2/(2*gamma))**-gamma\n",
    "        return np.exp(-rsq/self.lam)/(self.lam*(1-np.exp(-1/self.lam)))\n",
    "\n",
    "    def __call__(self, rsq):\n",
    "        \"\"\" The rsq distribution function\n",
    "        \"\"\"\n",
    "        return self.s * self.psf(rsq) + self.b\n",
    "\n",
    "    def sample(self, s, n):\n",
    "        self.s = s\n",
    "        return _Sampler(self, rng=self.rng)(n);\n",
    "\n",
    "    def weights(self, s, n):\n",
    "        h = self.sample(s,  n)\n",
    "        p = self.s * self.psf(h)\n",
    "        return 1/(1+self.b/p)"
   ]
  },
  {
   "cell_type": "code",
   "execution_count": null,
   "metadata": {},
   "outputs": [
    {
     "data": {
      "image/png": "[encoded data removed]",
      "text/plain": [
       "<Figure size 504x216 with 2 Axes>"
      ]
     },
     "metadata": {},
     "output_type": "display_data"
    }
   ],
   "source": [
    "# collapse-hide\n",
    "# test weight function\n",
    "s, lam = 1,0.1\n",
    "\n",
    "def wfuntest(s, b=1, lam=0.1, Nb=10000, rng=42):\n",
    "   \n",
    "    wfun = WeightFunction(s=s,b=b,wt_signif=lam, rng=rng)\n",
    "    n = int(Nb*(1+s/b)) \n",
    "    samp = wfun.sample(s, n ) \n",
    "    wts = wfun.weights(s, n)\n",
    "    sumwts = np.sum(wts) #wfun.weights(s,b, 10000)\n",
    "\n",
    "    fig, (ax1, ax3) = plt.subplots(1,2, figsize=(7,3), sharex=True)\n",
    "    plt.subplots_adjust(top=0.80, wspace=0.3)\n",
    "    \n",
    "    r = np.linspace(0,1, 1000)  \n",
    "    ax1.plot(r, wfun(r)/(s+b), '-',color='orange', lw=2,label='PSF+bkg')\n",
    "    ax1.set(ylim=(0,None), xlim=(0,1), xlabel='$r^2$', title='position')\n",
    "    \n",
    "    ax1.hist(samp, np.linspace(0,1,51), density=True, color='cornflowerblue',\n",
    "             label=f'generated:\\n mean:{np.mean(samp):.2f}\\n  cnt: {len(samp)}');\n",
    "    ax1.legend(fontsize=10)\n",
    "    #ax1.set(title='sampled', xlabel='$r^2$'); ax1.legend()\n",
    "    \n",
    "    \n",
    "    ax3.hist(wts, bins=np.linspace(0,1,51), label=f'sum:{sumwts:.1f}')\n",
    "    ax3.set(title='weights', label='weight'); ax3.legend(fontsize=10)\n",
    "    fig.suptitle(f'WeightFunction test: s={s}')\n",
    "wfuntest(s)"
   ]
  },
  {
   "cell_type": "code",
   "execution_count": null,
   "metadata": {},
   "outputs": [],
   "source": [
    "#export\n",
    "def make_exposure(fexp, start, stop, interval=300, costh=0.8):\n",
    "    \"\"\"\n",
    "    - fexp -- exposure in cm^2, a value or a function of time in day units\n",
    "    - start, stop -- range of time in day units\n",
    "    - cos_theta -- just set to costh\n",
    "    - interval [300] -- 5-min interval (fermi data is 30 s)\n",
    "\n",
    "    Returns: a DataFrame with start, stop, exp\n",
    "    \"\"\"\n",
    "    def check_scalar( f):\n",
    "        if np.isscalar(f):\n",
    "            fval = f\n",
    "            return lambda t: fval\n",
    "        return f\n",
    "    fexp = check_scalar(fexp)\n",
    "\n",
    "    nbins = int((stop-start)*sec_per_day / interval)\n",
    "    edges = np.linspace(start, start+nbins*interval/sec_per_day, nbins+1)\n",
    "    starts, stops = edges[:-1], edges[1:]\n",
    "    exp = fexp(starts) * interval\n",
    "    return pd.DataFrame.from_dict(dict(start=starts, stop=stops,\n",
    "                                      cos_theta=np.full(nbins, costh, np.float32),\n",
    "                                       exp=exp,\n",
    "                                      ))"
   ]
  },
  {
   "cell_type": "code",
   "execution_count": null,
   "metadata": {},
   "outputs": [
    {
     "name": "stdout",
     "output_type": "stream",
     "text": [
      " average 3000 cm^2 for 0.1 Ms\n"
     ]
    },
    {
     "data": {
      "text/html": [
       "<div>\n",
       "<style scoped>\n",
       "    .dataframe tbody tr th:only-of-type {\n",
       "        vertical-align: middle;\n",
       "    }\n",
       "\n",
       "    .dataframe tbody tr th {\n",
       "        vertical-align: top;\n",
       "    }\n",
       "\n",
       "    .dataframe thead th {\n",
       "        text-align: right;\n",
       "    }\n",
       "</style>\n",
       "<table border=\"1\" class=\"dataframe\">\n",
       "  <thead>\n",
       "    <tr style=\"text-align: right;\">\n",
       "      <th></th>\n",
       "      <th>start</th>\n",
       "      <th>stop</th>\n",
       "      <th>cos_theta</th>\n",
       "      <th>exp</th>\n",
       "    </tr>\n",
       "  </thead>\n",
       "  <tbody>\n",
       "    <tr>\n",
       "      <th>0</th>\n",
       "      <td>0.000000</td>\n",
       "      <td>0.003472</td>\n",
       "      <td>0.8</td>\n",
       "      <td>900000</td>\n",
       "    </tr>\n",
       "    <tr>\n",
       "      <th>1</th>\n",
       "      <td>0.003472</td>\n",
       "      <td>0.006944</td>\n",
       "      <td>0.8</td>\n",
       "      <td>900000</td>\n",
       "    </tr>\n",
       "    <tr>\n",
       "      <th>2</th>\n",
       "      <td>0.006944</td>\n",
       "      <td>0.010417</td>\n",
       "      <td>0.8</td>\n",
       "      <td>900000</td>\n",
       "    </tr>\n",
       "    <tr>\n",
       "      <th>3</th>\n",
       "      <td>0.010417</td>\n",
       "      <td>0.013889</td>\n",
       "      <td>0.8</td>\n",
       "      <td>900000</td>\n",
       "    </tr>\n",
       "    <tr>\n",
       "      <th>4</th>\n",
       "      <td>0.013889</td>\n",
       "      <td>0.017361</td>\n",
       "      <td>0.8</td>\n",
       "      <td>900000</td>\n",
       "    </tr>\n",
       "  </tbody>\n",
       "</table>\n",
       "</div>"
      ],
      "text/plain": [
       "      start      stop  cos_theta     exp\n",
       "0  0.000000  0.003472        0.8  900000\n",
       "1  0.003472  0.006944        0.8  900000\n",
       "2  0.006944  0.010417        0.8  900000\n",
       "3  0.010417  0.013889        0.8  900000\n",
       "4  0.013889  0.017361        0.8  900000"
      ]
     },
     "execution_count": null,
     "metadata": {},
     "output_type": "execute_result"
    }
   ],
   "source": [
    "# hide\n",
    "exp  = make_exposure(3000, 0, 1 )\n",
    "days  = np.sum(exp.stop-exp.start); secs = days*24*3600\n",
    "exptot=np.sum(exp.exp)\n",
    "exp_text = f' average {exptot/secs:.0f} cm^2 for {secs/1e6:.1f} Ms'\n",
    "print(exp_text)\n",
    "exp.head()"
   ]
  },
  {
   "cell_type": "code",
   "execution_count": null,
   "metadata": {},
   "outputs": [],
   "source": [
    "# export\n",
    "class Simulation(object):\n",
    "    \"\"\"\n",
    "    - src_flux : source flux, scalar or function of days, typically around 1e-7\n",
    "    - tstart, tstop :(days)\n",
    "    - bkg_rate : background flux, scalar or function of day, typicaly 1e-6 for 4-deg cone\n",
    "    - efun : scalar | function (of time in days) of the exposure/s. Typically 3000 cm^2 for fermi\n",
    "\n",
    "    - wt_signif : the width of the PSF in (r/rmax)**2 coordinates\n",
    "    - rng : random generator instance, or integer seed\n",
    "\n",
    "    \"\"\"\n",
    "\n",
    "    def __init__(self, name, src_flux, tstart, tstop,\n",
    "                 bkg_rate=1e-6,  efun=3000, wt_signif=0.1,\n",
    "                 debug=False, rng=None, config=None):\n",
    "\n",
    "        def check_scalar( f):\n",
    "            if np.isscalar(f):\n",
    "                fval = f\n",
    "                return lambda t: fval\n",
    "            return f\n",
    "        self.config = config or Config()\n",
    "        self.name = name\n",
    "        self.src_fun = check_scalar(src_flux)\n",
    "        self.bkg_fun = check_scalar(bkg_rate)\n",
    "        self.flux_fun = lambda t: src_fun(t)+bkg_fun(t)\n",
    "        self.wt_signif=wt_signif\n",
    "\n",
    "        self.exposure = make_exposure(efun, tstart, tstop)\n",
    "        if isinstance(rng, np.random.Generator):\n",
    "            self.rng = rng\n",
    "        else:\n",
    "            self.rng = np.random.default_rng(rng)\n",
    "        self.filename = None #flag that not a regular source\n",
    "        self.debug=debug\n",
    "\n",
    "\n",
    "    def run(self):\n",
    "        times = []\n",
    "        weights = []\n",
    "        for start, stop, costh, exp  in self.exposure.itertuples(index=False,name=None):\n",
    "\n",
    "            src = self.src_fun((start+stop)/2)\n",
    "            bkg = self.bkg_fun((start+stop)/2)\n",
    "            delta_t = (stop-start)*sec_per_day # tolal tim\n",
    "            counts = (src+bkg) * exp\n",
    "            new_times = generate_times(start, stop, counts, rng=self.rng)\n",
    "            wfun = WeightFunction(wt_signif=self.wt_signif, s=src, b=bkg, rng=self.rng)\n",
    "            new_wts = wfun.weights(s=src, n=len(new_times))\n",
    "            if self.debug>0:\n",
    "                print(f'time: {start:.3f} - {stop:.3f}, source {src}, exposure/s {exp/delta_t:.0f}, expected/generated counts {counts:.0f}/{len(new_wts)}')\n",
    "            if self.debug>0:\n",
    "                print(f'\\t weights {np.array(new_wts).round(2)}')\n",
    "                self.debug-=1\n",
    "\n",
    "            assert len(new_times)==len(new_wts)\n",
    "            times = np.append(times, new_times)\n",
    "            weights = np.append(weights, new_wts)\n",
    "\n",
    "        print(f'generated {len(times)} photons')\n",
    "        self.photons=pd.DataFrame(dict(\n",
    "            time=times,\n",
    "            weight=weights.astype(np.float32),\n",
    "        ))"
   ]
  },
  {
   "cell_type": "code",
   "execution_count": null,
   "metadata": {},
   "outputs": [
    {
     "name": "stdout",
     "output_type": "stream",
     "text": [
      "time: 0.000 - 0.003, source 1e-06, exposure/s 3000, expected/generated counts 2/0\n",
      "\t weights []\n",
      "time: 0.003 - 0.007, source 1e-06, exposure/s 3000, expected/generated counts 2/0\n",
      "\t weights []\n",
      "time: 0.007 - 0.010, source 1e-06, exposure/s 3000, expected/generated counts 2/0\n",
      "\t weights []\n",
      "time: 0.010 - 0.014, source 1e-06, exposure/s 3000, expected/generated counts 2/2\n",
      "\t weights [0.05 0.03]\n",
      "time: 0.014 - 0.017, source 1e-06, exposure/s 3000, expected/generated counts 2/3\n",
      "\t weights [0.28 0.02 0.72]\n",
      "time: 0.017 - 0.021, source 1e-06, exposure/s 3000, expected/generated counts 2/4\n",
      "\t weights [0.05 0.79 0.   0.  ]\n",
      "time: 0.021 - 0.024, source 1e-06, exposure/s 3000, expected/generated counts 2/5\n",
      "\t weights [0.07 0.   0.81 0.78 0.68]\n",
      "time: 0.024 - 0.028, source 1e-06, exposure/s 3000, expected/generated counts 2/3\n",
      "\t weights [0.21 0.72 0.01]\n",
      "time: 0.028 - 0.031, source 1e-06, exposure/s 3000, expected/generated counts 2/2\n",
      "\t weights [0.02 0.77]\n",
      "time: 0.031 - 0.035, source 1e-06, exposure/s 3000, expected/generated counts 2/6\n",
      "\t weights [0.13 0.03 0.7  0.49 0.88 0.89]\n",
      "generated 5895 photons\n"
     ]
    },
    {
     "data": {
      "text/html": [
       "<div>\n",
       "<style scoped>\n",
       "    .dataframe tbody tr th:only-of-type {\n",
       "        vertical-align: middle;\n",
       "    }\n",
       "\n",
       "    .dataframe tbody tr th {\n",
       "        vertical-align: top;\n",
       "    }\n",
       "\n",
       "    .dataframe thead th {\n",
       "        text-align: right;\n",
       "    }\n",
       "</style>\n",
       "<table border=\"1\" class=\"dataframe\">\n",
       "  <thead>\n",
       "    <tr style=\"text-align: right;\">\n",
       "      <th></th>\n",
       "      <th>start</th>\n",
       "      <th>stop</th>\n",
       "      <th>cos_theta</th>\n",
       "      <th>exp</th>\n",
       "    </tr>\n",
       "  </thead>\n",
       "  <tbody>\n",
       "    <tr>\n",
       "      <th>count</th>\n",
       "      <td>2880.000000</td>\n",
       "      <td>2880.000000</td>\n",
       "      <td>2880.000000</td>\n",
       "      <td>2880.0</td>\n",
       "    </tr>\n",
       "    <tr>\n",
       "      <th>mean</th>\n",
       "      <td>4.998264</td>\n",
       "      <td>5.001736</td>\n",
       "      <td>0.800023</td>\n",
       "      <td>900000.0</td>\n",
       "    </tr>\n",
       "    <tr>\n",
       "      <th>std</th>\n",
       "      <td>2.887252</td>\n",
       "      <td>2.887252</td>\n",
       "      <td>0.000023</td>\n",
       "      <td>0.0</td>\n",
       "    </tr>\n",
       "    <tr>\n",
       "      <th>min</th>\n",
       "      <td>0.000000</td>\n",
       "      <td>0.003472</td>\n",
       "      <td>0.800000</td>\n",
       "      <td>900000.0</td>\n",
       "    </tr>\n",
       "    <tr>\n",
       "      <th>25%</th>\n",
       "      <td>2.499132</td>\n",
       "      <td>2.502604</td>\n",
       "      <td>0.800000</td>\n",
       "      <td>900000.0</td>\n",
       "    </tr>\n",
       "    <tr>\n",
       "      <th>50%</th>\n",
       "      <td>4.998264</td>\n",
       "      <td>5.001736</td>\n",
       "      <td>0.800000</td>\n",
       "      <td>900000.0</td>\n",
       "    </tr>\n",
       "    <tr>\n",
       "      <th>75%</th>\n",
       "      <td>7.497396</td>\n",
       "      <td>7.500868</td>\n",
       "      <td>0.800000</td>\n",
       "      <td>900000.0</td>\n",
       "    </tr>\n",
       "    <tr>\n",
       "      <th>max</th>\n",
       "      <td>9.996528</td>\n",
       "      <td>10.000000</td>\n",
       "      <td>0.800000</td>\n",
       "      <td>900000.0</td>\n",
       "    </tr>\n",
       "  </tbody>\n",
       "</table>\n",
       "</div>"
      ],
      "text/plain": [
       "             start         stop    cos_theta       exp\n",
       "count  2880.000000  2880.000000  2880.000000    2880.0\n",
       "mean      4.998264     5.001736     0.800023  900000.0\n",
       "std       2.887252     2.887252     0.000023       0.0\n",
       "min       0.000000     0.003472     0.800000  900000.0\n",
       "25%       2.499132     2.502604     0.800000  900000.0\n",
       "50%       4.998264     5.001736     0.800000  900000.0\n",
       "75%       7.497396     7.500868     0.800000  900000.0\n",
       "max       9.996528    10.000000     0.800000  900000.0"
      ]
     },
     "execution_count": null,
     "metadata": {},
     "output_type": "execute_result"
    },
    {
     "data": {
      "image/png": "[encoded data removed]",
      "text/plain": [
       "<Figure size 432x288 with 2 Axes>"
      ]
     },
     "metadata": {},
     "output_type": "display_data"
    }
   ],
   "source": [
    "# collapse-hide\n",
    "def src_flare(t, tzero=5, width=0.25, amp=2):\n",
    "    return 1e-6*(1 + amp*np.exp(-(t-tzero)**2/2/width))\n",
    "sim = Simulation('test_sim', src_flux=src_flare, tstart=0, tstop=10, rng=42 , debug=10)\n",
    "sim.run()\n",
    "sim.photons.hist(bins=50, color='cornflowerblue');\n",
    "sim.exposure.describe()"
   ]
  },
  {
   "cell_type": "code",
   "execution_count": null,
   "metadata": {},
   "outputs": [
    {
     "data": {
      "text/markdown": [
       "<h2 id=\"Simulation\" class=\"doc_header\"><code>class</code> <code>Simulation</code><a href=\"\" class=\"source_link\" style=\"float:right\">[source]</a></h2>\n",
       "\n",
       "> <code>Simulation</code>(**`name`**, **`src_flux`**, **`tstart`**, **`tstop`**, **`bkg_rate`**=*`1e-06`*, **`efun`**=*`3000`*, **`wt_signif`**=*`0.1`*, **`debug`**=*`False`*, **`rng`**=*`None`*, **`config`**=*`None`*)\n",
       "\n",
       "- src_flux : source flux, scalar or function of days, typically around 1e-7\n",
       "- tstart, tstop :(days)\n",
       "- bkg_rate : background flux, scalar or function of day, typicaly 1e-6 for 4-deg cone\n",
       "- efun : scalar | function (of time in days) of the exposure/s. Typically 3000 cm^2 for fermi\n",
       "\n",
       "- wt_signif : the width of the PSF in (r/rmax)**2 coordinates\n",
       "- rng : random generator instance, or integer seed"
      ],
      "text/plain": [
       "<IPython.core.display.Markdown object>"
      ]
     },
     "metadata": {},
     "output_type": "display_data"
    }
   ],
   "source": [
    "show_doc(Simulation)"
   ]
  },
  {
   "cell_type": "code",
   "execution_count": null,
   "metadata": {},
   "outputs": [],
   "source": [
    "# export\n",
    "class WtGen(dict):\n",
    "    \"\"\"\n",
    "    Encapsulate the dict of weights used by wtlike for simulation\n",
    "\n",
    "    It is a functor of a list of uniform probabilities, which retuns a DataFrame with\n",
    "    columns bandid, weight, pixel index\n",
    "\n",
    "    \"\"\"\n",
    "\n",
    "    def __init__(self, src, aeff=lambda bandid :1 ):\n",
    "        \"\"\"\n",
    "        - src : A PointSource object\n",
    "        - aeff default unity : function(bandid) of the relative effective area\n",
    "\n",
    "        \"\"\"\n",
    "        self.update(src.wtman.wt_dict)\n",
    "        self.src= src # keep ref to the source\n",
    "        self.aeff = aeff\n",
    "        self.setup()\n",
    "\n",
    "    def setup(self, alpha=None):\n",
    "\n",
    "        # the seletion weight to apply to a pixel, depending only on the band\n",
    "        s = np.empty(0, np.float32)\n",
    "\n",
    "        # the bandid, weight and pixel index,normalized to 1024, for each pixel\n",
    "        b = np.empty(0, np.uint8)\n",
    "        w = np.empty(0, np.float32)\n",
    "        p = np.empty(0, np.uint32)\n",
    "\n",
    "        for key, value in self.items():\n",
    "            nside = value['nside']\n",
    "            pixel_ratio = (1024//nside)**2\n",
    "            wts = value['wts'].astype(np.float32)\n",
    "            wsum = wts.sum()\n",
    "            n = len(wts)\n",
    "\n",
    "            # construct the weighting array for this band\n",
    "            c = value['flux']/wsum * self.aeff(key) # the constant part\n",
    "            if alpha is None:\n",
    "                t = np.full(n, c, np.float32)\n",
    "            else: # instead somthing tahta adusts the weight if alpkha is not zeero\n",
    "                t = c * (1 + alpha(key) * wts)\n",
    "            s = np.append(s, t)\n",
    "\n",
    "            # now the event list\n",
    "            b = np.append(b, np.full(n, key, np.uint8))\n",
    "            w = np.append(w, wts)\n",
    "            p = np.append(p, value['pixels']*pixel_ratio)\n",
    "        self.df = pd.DataFrame( dict(bandid=b, weight=w, pixel=p) )\n",
    "        cums = np.cumsum(s)\n",
    "        self.cums = cums/cums[-1]\n",
    "\n",
    "    def __str__(self):\n",
    "        return f'WtGen for {self.src}'\n",
    "    def __repr__(self):\n",
    "        return str(self)\n",
    "\n",
    "    @property\n",
    "    def energies(self):\n",
    "        \" List of energies for bandid//2 \"\n",
    "        t = self.src.wtman['energy_bins']\n",
    "        return 0.5*(t[1:] + t[:-1])\n",
    "\n",
    "    def __call__(self, generated, alpha=None):\n",
    "        \"\"\" Create an event DataFrame\n",
    "\n",
    "        - generated : list of values uniformly distributed in (0,1)\n",
    "        - alpha default None, a function of bandid\n",
    "        \"\"\"\n",
    "        if alpha is not None: self.setup(alpha)\n",
    "        genidx =  np.searchsorted(self.cums, generated)\n",
    "        return self.df.iloc[genidx]"
   ]
  },
  {
   "cell_type": "code",
   "execution_count": null,
   "metadata": {},
   "outputs": [
    {
     "data": {
      "text/markdown": [
       "<h2 id=\"WtGen\" class=\"doc_header\"><code>class</code> <code>WtGen</code><a href=\"\" class=\"source_link\" style=\"float:right\">[source]</a></h2>\n",
       "\n",
       "> <code>WtGen</code>(**`src`**, **`aeff`**=*`<lambda>`*) :: `dict`\n",
       "\n",
       "Encapsulate the dict of weights used by wtlike for simulation\n",
       "\n",
       "It is a functor of a list of uniform probabilities, which retuns a DataFrame with\n",
       "columns bandid, weight, pixel index"
      ],
      "text/plain": [
       "<IPython.core.display.Markdown object>"
      ]
     },
     "metadata": {},
     "output_type": "display_data"
    }
   ],
   "source": [
    "show_doc(WtGen)"
   ]
  },
  {
   "cell_type": "markdown",
   "metadata": {},
   "source": [
    "### Test by generating with Geminga \n",
    "\n",
    "Check SED as measued with sums of weights for each band with input SED"
   ]
  },
  {
   "cell_type": "code",
   "execution_count": null,
   "metadata": {},
   "outputs": [
    {
     "data": {
      "image/png": "[encoded data removed]",
      "text/plain": [
       "<Figure size 864x216 with 3 Axes>"
      ]
     },
     "metadata": {},
     "output_type": "display_data"
    },
    {
     "data": {
      "image/png": "[encoded data removed]",
      "text/plain": [
       "<Figure size 360x216 with 1 Axes>"
      ]
     },
     "metadata": {},
     "output_type": "display_data"
    }
   ],
   "source": [
    "# hide-input\n",
    "from wtlike.sources import PointSource\n",
    "src_name = 'Geminga'\n",
    "src  = PointSource('Geminga')\n",
    "self = WtGen(src)\n",
    "\n",
    "generated = np.linspace(0, 1, int(1e5))\n",
    "df = self(generated, alpha=lambda k: 0.1)\n",
    "\n",
    "df.hist( log=True, bins=50, layout=(1,3), figsize=(12,3));\n",
    "# plt.gcf().suptitle(f' {len(df)} Generated events')\n",
    "\n",
    "pt = df.pivot_table(index='bandid', values='weight', aggfunc=['count','sum']); \n",
    "\n",
    "ee = self.energies[pt.index//2]\n",
    "even = pt.index%2==0\n",
    "ee0 = ee[even]\n",
    "fig, ax = plt.subplots(figsize=(5,3))\n",
    "norm = pt.loc[0, ('sum','weight')]*ee[0]**2\n",
    "ax.set(xlim=(100,3e4),  ylim=(0.01, 10), xticks=[1e2,1e3,1e4], xticklabels='100 1000 $10^4$'.split(),\n",
    "      xlabel='Energy (MeV)', ylabel='Energy flux relative to 138 MeV')\n",
    "ax.loglog(ee0, pt[even].loc[:,('sum','weight')]*ee0**2/norm, 'x', ms=10, label='Front')\n",
    "ee1 = ee[~even]\n",
    "ax.loglog(ee1, pt[~even].loc[:,('sum','weight')]*ee1**2/norm, '+', ms=10, label='Back')\n",
    "\n",
    "flux10 = np.array([value['flux'] for value in self.values()]) *1e10\n",
    "y = flux10*ee**2\n",
    "ax.loglog(ee, y/y[0], ':', label='SED');\n",
    "ax.legend(); ax.grid();"
   ]
  },
  {
   "cell_type": "code",
   "execution_count": null,
   "metadata": {},
   "outputs": [
    {
     "name": "stdout",
     "output_type": "stream",
     "text": [
      "CPU times: user 4.65 ms, sys: 578 µs, total: 5.23 ms\n",
      "Wall time: 3.16 ms\n"
     ]
    }
   ],
   "source": [
    "%time self.setup()#alpha = lambda n: 0)"
   ]
  },
  {
   "cell_type": "code",
   "execution_count": null,
   "metadata": {},
   "outputs": [
    {
     "name": "stdout",
     "output_type": "stream",
     "text": [
      "Converted 00_config.ipynb.\n",
      "Converted 01_data_man.ipynb.\n",
      "Converted 02_effective_area.ipynb.\n",
      "Converted 03_exposure.ipynb.\n",
      "Converted 03_sources.ipynb.\n",
      "Converted 04_load_data.ipynb.\n",
      "Converted 04_simulation.ipynb.\n",
      "Converted 04_skymaps.ipynb.\n",
      "Converted 05_source_data.ipynb.\n",
      "Converted 06_poisson.ipynb.\n",
      "Converted 07_loglike.ipynb.\n",
      "Converted 08_cell_data.ipynb.\n",
      "Converted 09_lightcurve.ipynb.\n",
      "Converted 10-time_series.ipynb.\n",
      "Converted 14_bayesian.ipynb.\n",
      "Converted 90_main.ipynb.\n",
      "Converted 99_presentation.ipynb.\n",
      "Converted 99_tutorial.ipynb.\n",
      "Converted index.ipynb.\n",
      "Wed Aug 24 11:33:46 PDT 2022\n"
     ]
    }
   ],
   "source": [
    "#hide\n",
    "from nbdev.export import notebook2script\n",
    "notebook2script()\n",
    "!date"
   ]
  },
  {
   "cell_type": "code",
   "execution_count": null,
   "metadata": {},
   "outputs": [],
   "source": []
  }
 ],
 "metadata": {
  "kernelspec": {
   "display_name": "Python 3 (ipykernel)",
   "language": "python",
   "name": "python3"
  }
 },
 "nbformat": 4,
 "nbformat_minor": 4
}
