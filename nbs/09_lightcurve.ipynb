{
 "cells": [
  {
   "cell_type": "code",
   "execution_count": null,
   "metadata": {},
   "outputs": [
    {
     "name": "stdout",
     "output_type": "stream",
     "text": [
      "Cells will be exported to wtlike.lightcurve,\n",
      "unless a different module is specified after an export flag: `%nbdev_export special.module`\n",
      "Wed Apr 21 10:10:54 PDT 2021\n"
     ]
    }
   ],
   "source": [
    "from nbdev import *\n",
    "%nbdev_default_export lightcurve\n",
    "%load_ext autoreload\n",
    "from nbdev.showdoc import show_doc\n",
    "!date"
   ]
  },
  {
   "cell_type": "markdown",
   "metadata": {},
   "source": [
    "# Light Curve Generation\n",
    "> Generate light curves from cells"
   ]
  },
  {
   "cell_type": "markdown",
   "metadata": {},
   "source": [
    "A \"light curve\" is a table with columns\n",
    "\n",
    "- `t` -- time in MJD \n",
    "- `tw` -- the cell width\n",
    "- `n`  -- number of photons\n",
    "- `e`  -- relative exposure\n",
    "- `fit` -- the fit object, containing info about the flux. This is usually a `PoissonRep` object\n",
    "\n",
    "It is generated from a set of cells\n",
    "\n",
    "Implemented here:\n",
    "\n",
    "- `getLightCurve`\n",
    "- `fit_cells`\n",
    "- `flux_plot`"
   ]
  },
  {
   "cell_type": "code",
   "execution_count": null,
   "metadata": {},
   "outputs": [],
   "source": [
    "%nbdev_export\n",
    "import numpy as np\n",
    "import pylab as plt\n",
    "import pandas as pd\n",
    "from wtlike.config import *\n",
    "from wtlike.loglike import (LogLike, GaussianRep, Gaussian2dRep, PoissonRep, PoissonRepTable)\n",
    "from wtlike.cell_data import *"
   ]
  },
  {
   "cell_type": "code",
   "execution_count": null,
   "metadata": {},
   "outputs": [],
   "source": [
    "%nbdev_export\n",
    "class LightCurve(object):\n",
    "    \"\"\" Apply likelihood fits to a set of cells\n",
    "    \n",
    "    parameters:\n",
    "       - cells : a table with index t, columns  tw, n, e, w, S, B\n",
    "       - min_exp : minimum fractional exposure allowed\n",
    "       - rep_name : represention to use \n",
    "\n",
    "    Generates a DataFrame with columns n, ep, fit\n",
    "        \n",
    "    \"\"\"\n",
    "\n",
    "    rep_class =  [GaussianRep, Gaussian2dRep, PoissonRep, PoissonRepTable]\n",
    "    rep_list =   'gauss gauss2d poisson poissontable'.split()\n",
    "\n",
    "    def __init__(self, config, \n",
    "                all_cells, \n",
    "                source, \n",
    "                min_exp:  'minimum exposure factor'= 0.3,\n",
    "                min_n: 'minimum number of photos'= 4, \n",
    "                rep_name: 'likelihood rep name'='',\n",
    "    \n",
    "                ):\n",
    "        \"\"\"Apply fits to the likelihoods for a set of cells\n",
    "        \n",
    " \n",
    "        \"\"\"\n",
    "\n",
    "        self.source_name = source.name\n",
    "        self.config=config\n",
    " \n",
    "        # select the set of cells\n",
    "        \n",
    "        self.cells = cells = all_cells.query(f'e>{min_exp} & n>{min_n}').copy()\n",
    "        \n",
    "        # generate a list of LogLike objects for each\n",
    "        cells.loc[:,'loglike'] = cells.apply(LogLike, axis=1)\n",
    "        if config.verbose>0:\n",
    "            print(f'Loaded {len(cells)} / {len(all_cells)} cells with exposure >'\\\n",
    "                  f' {min_exp} for light curve analysis')\n",
    "            if config.verbose>1:\n",
    "                print(f'first cell: {cells.iloc[0]}')\n",
    "\n",
    "        # analyze using selected rep\n",
    "        rep_name = rep_name or config.likelihood_rep\n",
    "        \n",
    "        if rep_name not in self.rep_list:\n",
    "            raise Exception(f'Unrecognized rep: \"{rep_name}\", must be one of {self.rep_list}')\n",
    "        repcl = self.rep_class[self.rep_list.index(rep_name)]\n",
    "\n",
    "        if config.verbose>1:\n",
    "            print(f'Fitting likelihoods with {rep_name} representation')\n",
    "        \n",
    "        # making output with reduced columns \n",
    "        self.ll_fits = cells['t tw n e'.split()].copy()\n",
    "        self.ll_fits.loc[:,'fit'] = cells.loglike.apply(repcl)\n",
    "\n",
    "    def __repr__(self):\n",
    "        return f'{self.__class__.__name__}: source \"{self.source_name}\" fit with {len(self.ll_fits)} cells'\n",
    "    \n",
    "    def full_likelihood():\n",
    "        return LogLike(concatenate_cells(self.cells))\n",
    "\n",
    "    @property\n",
    "    def dataframe(self):\n",
    "        \"\"\"return the DataFrame\n",
    "        \"\"\"\n",
    "        return self.ll_fits\n",
    "    \n",
    "    def plot(self, **kwargs):\n",
    "        flux_plot(self.config, self, **kwargs)"
   ]
  },
  {
   "cell_type": "code",
   "execution_count": null,
   "metadata": {},
   "outputs": [],
   "source": [
    "%nbdev_export\n",
    "def fit_cells(config, \n",
    "            input_cells, \n",
    "            min_exp:  'minimum exposure factor'= 0.3,\n",
    "            repcl = PoissonRep,\n",
    "\n",
    "            ):\n",
    "    \"\"\"Apply fits to the likelihoods for a set of cells\n",
    "    return light-curve dataframe\n",
    "\n",
    "    \"\"\"\n",
    "\n",
    "    # select the set of cells\n",
    "    cells = input_cells.query(f'e>{min_exp}').copy()\n",
    "\n",
    "    # generate a list of LogLike objects for each\n",
    "    cells.loc[:,'loglike'] = cells.apply(LogLike, axis=1)\n",
    "    if config.verbose>0:\n",
    "        print(f'Loaded {len(cells)} / {len(input_cells)} cells with exposure >'\\\n",
    "              f' {min_exp} for fitting')\n",
    "  \n",
    "    # making output with reduced columns \n",
    "    ll_fits = cells['t tw n e'.split()].copy()\n",
    "    ll_fits.loc[:,'fit'] = cells.loglike.apply(repcl)\n",
    "    \n",
    "    return ll_fits"
   ]
  },
  {
   "cell_type": "code",
   "execution_count": null,
   "metadata": {},
   "outputs": [],
   "source": [
    "%nbdev_export  \n",
    "\n",
    "def getLightCurve(config,  source, cell_query='e>0.3', bin_edges=None, key=''):\n",
    "    \"\"\"Returns a lightcurve table for the source\n",
    "    \n",
    "    - `source` -- a PointSource object\n",
    "    - `cell query` -- query to apply to cell selection\n",
    "    - `bin_edges` -- optional to select other than default described in config\n",
    "    - `key` -- optional cache key. Set to None to disable cache use\n",
    "    \n",
    "    \"\"\"\n",
    "    def doit():\n",
    "        cells = CellData(config,  source, bin_edges).dataframe.query(cell_query)\n",
    "        lc = LightCurve(config, cells, source).dataframe\n",
    "        return lc\n",
    "        \n",
    "    if bin_edges is None:\n",
    "        # use cache only with default bins\n",
    "        key = f'lightcurve_{source.name}' if key=='' else  key \n",
    "        description = f'Light curve with {cell_query} for {source.name}' if config.verbose>0 and key is not None else '' \n",
    "        return config.cache(key, doit, description=description)\n",
    "    else:\n",
    "        return doit()"
   ]
  },
  {
   "cell_type": "code",
   "execution_count": null,
   "metadata": {},
   "outputs": [],
   "source": [
    "%nbdev_export\n",
    "def fit_table(lc, expect=1.0):\n",
    "    \"\"\"Generate a summary table from a light curve dataframe\"\"\"\n",
    "    fits = lc.fit\n",
    "    flux = fits.apply(lambda f: f.flux)\n",
    "    errors = fits.apply(lambda f: (round(f.errors[0]-f.flux,3), round(f.errors[1]-f.flux ,3) ) )\n",
    "    sigma_dev = fits.apply(lambda f: round(f.poiss.sigma_dev(expect),1) )\n",
    "    df = lc['t tw n'.split()].copy() # maybe fix warnings?\n",
    "    df.loc[:,'flux'] = flux.values.round(4)\n",
    "    df.loc[:, 'errors'] = errors.values\n",
    "    df.loc[:, 'sigma_dev'] = sigma_dev.values\n",
    "    df.loc[:, 'limit'] =  fits.apply(lambda f: f.limit)\n",
    "    return df"
   ]
  },
  {
   "cell_type": "code",
   "execution_count": null,
   "metadata": {},
   "outputs": [],
   "source": [
    "%nbdev_export\n",
    "def flux_plot(config, lightcurve, ts_min=9,  \n",
    "              title=None, ax=None, fignum=1, figsize=(12,4),\n",
    "              step=False, \n",
    "              tzero:'time offset'=0,\n",
    "              colors=('cornflowerblue','sandybrown', 'blue'), fmt=' ',\n",
    "              **kwargs): \n",
    "    \"\"\"Make a plot of flux vs. time\n",
    "    \n",
    "    - lightcurve -- LightCurve object or a lightcurve DataFrame \n",
    "    - ts_min -- threshold for ploting signal \n",
    "    - colors -- tuple of colors for signal, limit, step\n",
    "    - tzero -- time offset\n",
    "    - kwargs -- apply to the Axis object\n",
    "    - step   -- add a \"step\" plot\n",
    "    \n",
    "    returns the Figure instance\n",
    "    \"\"\"\n",
    "    import matplotlib.ticker as ticker\n",
    "    \n",
    "    fig, ax = plt.subplots(figsize=figsize, num=fignum) if ax is None else (ax.figure, ax)\n",
    "    kw=dict(yscale='linear',\n",
    "            xlabel='MJD'+ f' - {tzero}' if tzero else '' ,\n",
    "            ylabel='Relative flux')\n",
    "    kw.update(**kwargs)\n",
    "    ax.set(**kw)\n",
    "    ax.set_title(title) # or f'{source_name}, rep {self.rep}')\n",
    "    ax.grid(alpha=0.5)\n",
    "    if kw['yscale']=='log':\n",
    "        ax.yaxis.set_major_formatter(ticker.FuncFormatter(\n",
    "            lambda val,pos: { 1.0:'1', 10.0:'10', 100.:'100'}.get(val,'')))\n",
    "\n",
    "\n",
    "\n",
    "    df = lightcurve if isinstance(lightcurve, pd.DataFrame) else lightcurve.dataframe\n",
    "    rep = config.likelihood_rep\n",
    "    if rep =='poisson':\n",
    "        ts = df.fit.apply(lambda f: f.ts) \n",
    "        limit = ts<ts_min\n",
    "        bar = df.loc[~limit,:]\n",
    "        lim = df.loc[limit,:]\n",
    "        allflux= np.select([~limit, limit], \n",
    "                        [df.fit.apply(lambda f: f.flux).values,\n",
    "                         df.fit.apply(lambda f: f.limit).values],\n",
    "                       )\n",
    "    else: \n",
    "        bar=df; lim=[]\n",
    "\n",
    "    \n",
    "    # do the limits first (only for poisson rep)\n",
    "    error_size=2\n",
    "    if len(lim)>0:\n",
    "        t = lim.t-tzero\n",
    "        tw = lim.tw \n",
    "\n",
    "        y = allflux[limit]\n",
    "        yerr=0.2*(1 if kw['yscale']=='linear' else y)\n",
    "        ax.errorbar(x=t, y=y, xerr=tw/2,\n",
    "                yerr=yerr,  color=colors[2 if step else 1] , \n",
    "                uplims=True, ls='', lw=error_size, capsize=2*error_size, capthick=0,\n",
    "               )\n",
    "    \n",
    "    # then the points with error bars\n",
    "    t = bar.t.values-tzero\n",
    "    tw = bar.tw.values \n",
    "    fluxmeas = allflux[~limit]\n",
    "    upper = bar.fit.apply(lambda f: f.errors[1]).values\n",
    "    lower = bar.fit.apply(lambda f: f.errors[0]).values\n",
    "    error = np.array([upper-fluxmeas, fluxmeas-lower])\n",
    "    ax.errorbar(x=t, xerr=tw/2, y=fluxmeas, yerr=error, lw=2, fmt=fmt, color=colors[0], )#'silver')\n",
    "\n",
    "    # finally ovelay the step if requested\n",
    "    if step:\n",
    "        t = df.t.values-tzero\n",
    "        xerr = df.tw.values/2; \n",
    "        x = np.append(t-xerr, [t[-1]+xerr[-1]]); \n",
    "        y = np.append(allflux, [allflux[-1]])\n",
    "        ax.step(x, y, color=colors[2], where='post', lw=2)\n",
    "\n",
    "    return fig"
   ]
  },
  {
   "cell_type": "code",
   "execution_count": null,
   "metadata": {},
   "outputs": [
    {
     "data": {
      "text/markdown": [
       "<h4 id=\"flux_plot\" class=\"doc_header\"><code>flux_plot</code><a href=\"__main__.py#L2\" class=\"source_link\" style=\"float:right\">[source]</a></h4>\n",
       "\n",
       "> <code>flux_plot</code>(**`config`**, **`lightcurve`**, **`ts_min`**=*`9`*, **`title`**=*`None`*, **`ax`**=*`None`*, **`fignum`**=*`1`*, **`figsize`**=*`(12, 4)`*, **`step`**=*`False`*, **`tzero`**:`time offset`=*`0`*, **`colors`**=*`('cornflowerblue', 'sandybrown', 'blue')`*, **`fmt`**=*`' '`*, **\\*\\*`kwargs`**)\n",
       "\n",
       "Make a plot of flux vs. MJD\n",
       "\n",
       "- lightcurve -- LightCurve object or a lightcurve DataFrame \n",
       "- ts_min -- threshold for ploting signal \n",
       "- colors -- tuple of colors for signal, limit, step\n",
       "- tzero -- time offset\n",
       "- kwargs -- apply to the Axis object\n",
       "- step   -- add a \"step\" plot\n",
       "\n",
       "returns the Figure instance"
      ],
      "text/plain": [
       "<IPython.core.display.Markdown object>"
      ]
     },
     "metadata": {},
     "output_type": "display_data"
    }
   ],
   "source": [
    "show_doc(flux_plot)"
   ]
  },
  {
   "cell_type": "markdown",
   "metadata": {},
   "source": [
    "Example plot-- the first 100 days of Fermi data for Geminga"
   ]
  },
  {
   "cell_type": "code",
   "execution_count": null,
   "metadata": {},
   "outputs": [
    {
     "name": "stdout",
     "output_type": "stream",
     "text": [
      "photons and exposure for Geminga: Restoring from cache with key \"Geminga_weekly_data\"\n",
      "Time bins: 4636 intervals of 1 days, from MJD 54683.0(2008-08-05) to 59319.0(2021-04-15))\n",
      "Loaded 4436 / 4436 cells with exposure > 0.3 for light curve analysis\n"
     ]
    },
    {
     "data": {
      "image/png": "[encoded data removed]",
      "text/plain": [
       "<Figure size 864x288 with 1 Axes>"
      ]
     },
     "metadata": {
      "needs_background": "light"
     },
     "output_type": "display_data"
    }
   ],
   "source": [
    "%nbdev_collapse_input\n",
    "config = Config(data_folder='/home/burnett/weekly', verbose=1)\n",
    "\n",
    "if config.valid:\n",
    "    source = PointSource('Geminga')\n",
    "    lc = getLightCurve(config, source, key=None)\n",
    "    plt.rc('font', size=20)\n",
    "    fig, ax = plt.subplots(figsize=(12,4))\n",
    "    flux_plot(config, lc, fmt='o', ax=ax, xlim=(-50,50), step=False, tzero=55000)"
   ]
  },
  {
   "cell_type": "markdown",
   "metadata": {},
   "source": [
    "And forcing upper limits"
   ]
  },
  {
   "cell_type": "code",
   "execution_count": null,
   "metadata": {},
   "outputs": [
    {
     "data": {
      "image/png": "[encoded data removed]",
      "text/plain": [
       "<Figure size 864x288 with 2 Axes>"
      ]
     },
     "metadata": {
      "needs_background": "light"
     },
     "output_type": "display_data"
    }
   ],
   "source": [
    "#collapse_hide\n",
    "if config.valid:\n",
    "    fig, (ax1,ax2) = plt.subplots(1,2, figsize=(12,4), sharex=True, sharey=True)\n",
    "    flux_plot(config, lc, ax=ax1, fmt='o', xlim=(54689, 54700),  step=True)\n",
    "    flux_plot(config, lc, ax=ax2, fmt='o', xlim=(54689, 54700), ts_min=1000, step=True)"
   ]
  },
  {
   "cell_type": "code",
   "execution_count": null,
   "metadata": {},
   "outputs": [
    {
     "name": "stdout",
     "output_type": "stream",
     "text": [
      "Converted 00_config.ipynb.\n",
      "Converted 01_effective_area.ipynb.\n",
      "Converted 02_data_man.ipynb.\n",
      "Converted 03_source_data.ipynb.\n",
      "Converted 04_photon_data.ipynb.\n",
      "Converted 05_weights.ipynb.\n",
      "Converted 06_poisson.ipynb.\n",
      "Converted 07_cell_data.ipynb.\n",
      "Converted 08_loglike.ipynb.\n",
      "Converted 09_lightcurve.ipynb.\n",
      "Converted 10_simulation.ipynb.\n",
      "Converted 14_bayesian.ipynb.\n",
      "Converted index.ipynb.\n",
      "Thu Apr 29 15:25:59 PDT 2021\n"
     ]
    }
   ],
   "source": [
    "#hide\n",
    "from nbdev.export import notebook2script\n",
    "notebook2script()\n",
    "!date"
   ]
  },
  {
   "cell_type": "code",
   "execution_count": null,
   "metadata": {},
   "outputs": [],
   "source": []
  }
 ],
 "metadata": {
  "kernelspec": {
   "display_name": "Python 3",
   "language": "python",
   "name": "python3"
  }
 },
 "nbformat": 4,
 "nbformat_minor": 4
}
