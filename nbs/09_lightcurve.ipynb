{
 "cells": [
  {
   "cell_type": "code",
   "execution_count": 1,
   "metadata": {},
   "outputs": [
    {
     "name": "stdout",
     "output_type": "stream",
     "text": [
      "Fri Jun 11 17:35:08 PDT 2021\n"
     ]
    }
   ],
   "source": [
    "from nbdev import *\n",
    "# default_exp lightcurve\n",
    "#%nbdev_default_export lightcurve\n",
    "%load_ext autoreload\n",
    "from nbdev.showdoc import show_doc\n",
    "!date"
   ]
  },
  {
   "cell_type": "markdown",
   "metadata": {},
   "source": [
    "# Light Curve Generation\n",
    "> Generate light curves from cells"
   ]
  },
  {
   "cell_type": "markdown",
   "metadata": {},
   "source": [
    "A \"light curve\" is a table with columns\n",
    "\n",
    "- `t` -- time in MJD \n",
    "- `tw` -- the cell width\n",
    "- `n`  -- number of photons\n",
    "- `e`  -- exposure, in $10^6 s\\ cm^2$ units\n",
    "- `fit` -- the fit object, containing info about the flux. This is usually a `PoissonRep` object\n",
    "\n",
    "It is generated from a set of cells\n",
    "\n"
   ]
  },
  {
   "cell_type": "code",
   "execution_count": 2,
   "metadata": {},
   "outputs": [],
   "source": [
    "# export\n",
    "import numpy as np\n",
    "import pylab as plt\n",
    "import pandas as pd\n",
    "from wtlike.config import *\n",
    "from wtlike.loglike import (LogLike, GaussianRep, Gaussian2dRep, PoissonRep, PoissonRepTable, poisson_tolerance)\n",
    "from wtlike.cell_data import *"
   ]
  },
  {
   "cell_type": "code",
   "execution_count": 3,
   "metadata": {},
   "outputs": [],
   "source": [
    "# export\n",
    "class CellFitter(object):\n",
    "    \"\"\" Apply likelihood fits to a set of cells\n",
    "    \n",
    "    parameters:\n",
    "       - cells : a table with index t, columns  tw, n, e, w, S, B\n",
    "       - exp_min : minimum exposure allowed (units cm^2 Ms)\n",
    "       - rep_name : represention to use \n",
    "\n",
    "    Generates a DataFrame with columns n, ep, fit\n",
    "        \n",
    "    \"\"\"\n",
    "\n",
    "    rep_class =  [GaussianRep, Gaussian2dRep, PoissonRep, PoissonRepTable]\n",
    "    rep_list =   'gauss gauss2d poisson poissontable'.split()\n",
    "\n",
    "    def __init__(self, config, \n",
    "                cells, \n",
    "                source_name, \n",
    "                rep_name: 'likelihood rep name'='',\n",
    "    \n",
    "                ):\n",
    "        \"\"\"Apply fits to the likelihoods for a set of cells\n",
    "        \n",
    " \n",
    "        \"\"\"\n",
    "\n",
    "        self.source_name = source_name\n",
    "        self.config=config\n",
    " \n",
    "        # select the set of cells\n",
    "        \n",
    "        self.cells = cells \n",
    "        \n",
    "        # generate a list of LogLike objects for each\n",
    "        cells.loc[:,'loglike'] = cells.apply(LogLike, axis=1)\n",
    "         # analyze using selected rep\n",
    "        rep_name = rep_name or config.likelihood_rep\n",
    "        \n",
    "        if rep_name not in self.rep_list:\n",
    "            raise Exception(f'Unrecognized rep: \"{rep_name}\", must be one of {self.rep_list}')\n",
    "        repcl = self.rep_class[self.rep_list.index(rep_name)]\n",
    "\n",
    "        if config.verbose>1:\n",
    "            print(f'Fitting likelihoods with {rep_name} representation')\n",
    "        \n",
    "        # making output with reduced columns \n",
    "        self.ll_fits = cells['t tw n e'.split()].copy()\n",
    "        try:\n",
    "            self.ll_fits.loc[:,'fit'] = cells.loglike.apply(repcl)\n",
    "        except Exception as e:\n",
    "            print(f'Failed a fit: \\n{e}', file=sys.sterr)\n",
    "            raise\n",
    "            \n",
    "\n",
    "    def __repr__(self):\n",
    "        return f'{self.__class__.__name__}: source \"{self.source_name}\" fit with {len(self.ll_fits)} cells'\n",
    "    \n",
    "    def full_likelihood():\n",
    "        return LogLike(concatenate_cells(self.cells))\n",
    "\n",
    "    @property\n",
    "    def dataframe(self):\n",
    "        return self.ll_fits\n",
    "#     def plot(self, **kwargs):\n",
    "#         flux_plot(self.config, self, **kwargs)"
   ]
  },
  {
   "cell_type": "code",
   "execution_count": 4,
   "metadata": {},
   "outputs": [],
   "source": [
    "# export\n",
    "def fit_cells(config, \n",
    "            input_cells, \n",
    "            repcl = PoissonRep,\n",
    "\n",
    "            ):\n",
    "    \"\"\"Apply fits to the likelihoods for a set of cells\n",
    "    return light-curve dataframe\n",
    "\n",
    "    \"\"\"\n",
    "    global poisson_tolerance\n",
    "    \n",
    "    # select the set of cells\n",
    "    cells = input_cells.copy()\n",
    "    \n",
    "    poisson_tolerance = config.poisson_tolerance\n",
    "    # generate a list of LogLike objects for each\n",
    "    cells.loc[:,'loglike'] = cells.apply(LogLike, axis=1)\n",
    "    if config.verbose>0:\n",
    "        print(f'LightCurve: Loaded {len(cells)} / {len(input_cells)} cells for fitting')\n",
    "  \n",
    "    # making output with reduced columns \n",
    "    ll_fits = cells['t tw n e'.split()].copy()\n",
    "    ll_fits.loc[:,'fit'] = cells.loglike.apply(repcl)\n",
    "    \n",
    "    return ll_fits"
   ]
  },
  {
   "cell_type": "code",
   "execution_count": 5,
   "metadata": {},
   "outputs": [],
   "source": [
    "# export  \n",
    "\n",
    "def getCellFitter(config,  source, cell_query='e>1e-6',  key=''):\n",
    "    \"\"\"Returns a lightcurve table for the source\n",
    "    \n",
    "    - `source` -- a PointSource object\n",
    "    - `cell query` -- query to apply to cell selection\n",
    "    - `bin_edges` -- optional to select other than default described in config\n",
    "    - `key` -- optional cache key. Set to None to disable cache use\n",
    "    \n",
    "    \"\"\"\n",
    "    def doit():\n",
    "        cell_data = CellData(config,  source)\n",
    "        cells = cell_data.df.query(cell_query)\n",
    "        assert len(cells)>0, 'No cells from CellData after query'\n",
    "        lc = CellFitter(config, cells, source).dataframe\n",
    "        return lc\n",
    "        \n",
    "#     if bin_edges is None:\n",
    "        # use cache only with default bins\n",
    "    key = f'lightcurve_{source_name}' if key=='' else  key \n",
    "    description = f'Light curve with {cell_query} for {source_name}' if config.verbose>0 and key is not None else '' \n",
    "    return config.cache(key, doit, description=description)\n",
    "#     else:\n",
    "#         return doit()"
   ]
  },
  {
   "cell_type": "code",
   "execution_count": 6,
   "metadata": {},
   "outputs": [],
   "source": [
    "# export\n",
    "def fit_table(lc, expect=1.0):\n",
    "    \"\"\"Generate a summary table from a light curve dataframe\"\"\"\n",
    "    fits = lc.fit\n",
    "    flux = fits.apply(lambda f: f.flux)\n",
    "    errors = fits.apply(lambda f: (round(f.errors[0]-f.flux,3), rorebinnedund(f.errors[1]-f.flux ,3) ) )\n",
    "    sigma_dev = fits.apply(lambda f: round(f.poiss.sigma_dev(expect),1) )\n",
    "    df = lc['t tw n e'.split()].copy() # maybe fix warnings?\n",
    "    df.loc[:,'flux'] = flux.values.round(4)\n",
    "    df.loc[:, 'errors'] = errors.values\n",
    "    df.loc[:, 'sigma_dev'] = sigma_dev.values\n",
    "    df.loc[:, 'limit'] =  fits.apply(lambda f: f.limit)\n",
    "    return df"
   ]
  },
  {
   "cell_type": "code",
   "execution_count": 7,
   "metadata": {},
   "outputs": [],
   "source": [
    "# export\n",
    "def flux_plot(cell_fits,\n",
    "              query='',\n",
    "              ax=None, fignum=1, figsize=(12,4),\n",
    "              log=False,\n",
    "              title=None, \n",
    "              step=False, \n",
    "              tzero:'time offset'=0,\n",
    "              flux_factor=1,\n",
    "              colors=('cornflowerblue','sandybrown', 'blue'), \n",
    "              fmt='', ms=None, error_pixsize=10,\n",
    "              limit_fmt=None,\n",
    "              source_name=None,\n",
    "              legend_loc='upper left',\n",
    "              error_lw=2,\n",
    "              ts_bar_min=4,\n",
    "              zorder=0,\n",
    "              errorbar_args={},\n",
    "              axhline={},\n",
    "              **kwargs): \n",
    "    \"\"\"Make a plot of flux vs. time. This is invoked by the `plot` function of `LightCurve`\n",
    "    \n",
    "    - cell_fits -- cell fits DataFrame \n",
    "    - query ['']-- DataFrame query to select subset\n",
    "    - ts_bar_min -- threshold for plotting as bar vs limit\n",
    "    - tzero -- time offset, in MJD\n",
    "    - source_name -- draw text in top left\n",
    "    - flux_factor [1]\n",
    "\n",
    "    - ax [None] -- a matplotlib.axes._subplots.AxesSubplot object returned from plt.subplots<br>\n",
    "    if None, create one using subplots with fignum [1] and figsize [(12,4)]\n",
    "    - fmt [''] -- marker symbol -- if not specifed, will use '.' if many bins, else 'o'\n",
    "    - ms [None] -- for marker size\n",
    "    - colors -- tuple of colors for signal, limit, step\n",
    "    - step   -- add a \"step\" plot\n",
    "    - zorder -- set to different number to order successive calls with same Axis object\n",
    "    - kwargs -- apply to the `ax` object, like xlim, ylim\n",
    "    \n",
    "    returns the Figure instance\n",
    "    \"\"\"\n",
    "    def error_size(ax, x,y, ):\n",
    "        topix = ax.transData.transform\n",
    "        frompix = ax.transData.inverted().transform\n",
    "        sizes = []\n",
    "        for a,b in zip(x,y):\n",
    "            sx, sy = topix((a,b))\n",
    "            c,d = frompix((sx, sy-error_pixsize))\n",
    "            sizes.append(b-d)\n",
    "        return  np.array(sizes)\n",
    "    \n",
    "    import matplotlib.ticker as ticker\n",
    "    label = kwargs.pop('label', None)\n",
    "    step_label = kwargs.pop('step_label', None)\n",
    "        \n",
    "    #error_size=kwargs.pop('error_size', 2)\n",
    "    # errorbar_args.update(error_size=kwargs.pop('error_size', 2))\n",
    "    fig, ax = plt.subplots(figsize=figsize, num=fignum) if ax is None else (ax.figure, ax)\n",
    "    kw=dict(xlabel='MJD'+ f' - {tzero} [{UTC(tzero)[:10]}]' if tzero else 'MJD' ,\n",
    "            ylabel='Relative flux', \n",
    "            yscale='log' if log else 'linear',\n",
    "           )\n",
    "    \n",
    "    kw.update(**kwargs)\n",
    "    ax.set(**kw)\n",
    "    ax.set_title(title) # or f'{source_name}, rep {self.rep}')\n",
    "    ax.grid(alpha=0.5)\n",
    "    \n",
    "    # potential yaxis formatting\n",
    "    if kw['yscale']=='log' and flux_factor==1:\n",
    "        ax.yaxis.set_major_formatter(ticker.FuncFormatter(\n",
    "            lambda val,pos: { 1.0:'1', 10.0:'10', 100.:'100'}.get(val,'')))\n",
    "\n",
    "    # select data to plot\n",
    "    df = cell_fits.copy() \n",
    "    df.loc[:,'ts'] = df.fit.apply(lambda f: f.ts) \n",
    "    if query:\n",
    "        df = df.query(query)\n",
    "    \n",
    "    if fmt=='':\n",
    "        fmt='.' if len(df)>200 else 'o'\n",
    "\n",
    "    limit = df.ts<ts_bar_min\n",
    "    bar = df.loc[~limit,:]\n",
    "    lim = df.loc[limit,:]\n",
    "    allflux= np.select([~limit, limit], \n",
    "                    [df.fit.apply(lambda f: f.flux).values,\n",
    "                     df.fit.apply(lambda f: f.limit).values],\n",
    "                   ) * flux_factor\n",
    "    \n",
    "    # do the limits first (only for poisson rep)\n",
    "    if len(lim)>0:\n",
    "        t = lim.t-tzero\n",
    "        tw = lim.tw \n",
    "        color = colors[2 if step else 1] \n",
    "\n",
    "        y = allflux[limit] \n",
    "        if limit_fmt is None:\n",
    "            \n",
    "            # try to draw an error bar, hard to determine size\n",
    "            yerr = error_size(ax, t, y) #0.2*(1 if kw['yscale']=='linear' else y)#*flux_factor\n",
    "            \n",
    "            ax.errorbar(x=t, y=y, xerr=tw/2,\n",
    "                    yerr=yerr,  color=color , \n",
    "                    uplims=True, ls='', \n",
    "                    ms=ms, lw=error_lw, capsize=2*error_lw, capthick=0,\n",
    "                    zorder=zorder, label='  95% limit', **errorbar_args)                   \n",
    "        else:\n",
    "            # just a symbol, like 'v'\n",
    "            ax.errorbar(x=t,xerr=tw/2, y=y, fmt=limit_fmt, color=color,\n",
    "                       zorder=zorder, label='  95% limit', **errorbar_args)\n",
    "    \n",
    "    # then the points with error bars\n",
    "    t = bar.t.values-tzero\n",
    "    tw = bar.tw.values.astype(float) \n",
    "    fluxmeas = allflux[~limit]\n",
    "    upper = bar.fit.apply(lambda f: f.errors[1]).values * flux_factor\n",
    "    lower = bar.fit.apply(lambda f: f.errors[0]).values * flux_factor\n",
    "    error = np.array([upper-fluxmeas, fluxmeas-lower])\n",
    "#     if label is None:\n",
    "#         label = f'{bin_size_name(round(tw.mean(),4))} bins' if np.std(tw)<1e-6 else ''\n",
    "    ax.errorbar(\n",
    "        x=t, xerr=tw/2, ms=ms,\n",
    "                y=fluxmeas, yerr=error, lw=2, fmt=fmt,  \n",
    "                color=colors[0], \n",
    "                label=label, zorder=zorder+1, \n",
    "                **errorbar_args)\n",
    "    \n",
    "    # finally ovelay the step if requested\n",
    "    if step:\n",
    "        t = df.t.values-tzero\n",
    "        xerr = df.tw.values/2; \n",
    "        x = np.append(t-xerr, [t[-1]+xerr[-1]]); \n",
    "        y = np.append(allflux, [allflux[-1]])\n",
    "        ax.step(x, y, \n",
    "                color=colors[2], where='post', lw=2, label=step_label,  zorder=zorder+2)\n",
    "        \n",
    "    # the legend: if added overplot, make sure it is below\n",
    "    if legend_loc != 'none':\n",
    "        handles, labels = ax.get_legend_handles_labels()\n",
    "        ax.legend(handles[::-1], labels[::-1],loc=legend_loc, fontsize=10, frameon=False)\n",
    "        #ax.legend()\n",
    "    \n",
    "    if source_name is not None:\n",
    "        ax.text(0.99, 0.95, source_name, va='top',  ha='right',  transform=ax.transAxes,)\n",
    "        \n",
    "    return fig\n"
   ]
  },
  {
   "cell_type": "code",
   "execution_count": 8,
   "metadata": {},
   "outputs": [],
   "source": [
    "#hide\n",
    "# for testing this\n",
    "#flux_plot(lc.fits, figsize=(10,5), log=True,  tzero=54720, fmt='D', \n",
    "#          xlim=(0,50), ms=8, ylim=(0.05,2), error_pixsize=20);\n",
    "# source = PointSource('3C 279')\n",
    "# lc = LightCurve(Config(), source)\n",
    "# plt.rc('font', size=14)\n",
    "# ax =flux_plot(lc.fits, figsize=(15,5) ).axes[0];\n",
    "# yrs = [str(yr) for yr in range(2008,2022,1)]\n",
    "# mjd_yrs = [MJD(yr) for yr in yrs]\n",
    "# ax.set(xticks=mjd_yrs, xticklabels=yrs);\n",
    "\n",
    "# yrs = [MJD(str(yr)) for yr in range(2008,2022)]\n",
    "# ax.set(xticks=yrs)"
   ]
  },
  {
   "cell_type": "code",
   "execution_count": 9,
   "metadata": {},
   "outputs": [
    {
     "data": {
      "text/markdown": [
       "<h3 id=\"flux_plot\" class=\"doc_header\"><code>flux_plot</code><a href=\"__main__.py#L2\" class=\"source_link\" style=\"float:right\">[source]</a></h3>\n",
       "\n",
       "> <code>flux_plot</code>(**`cell_fits`**, **`query`**=*`''`*, **`ax`**=*`None`*, **`fignum`**=*`1`*, **`figsize`**=*`(12, 4)`*, **`log`**=*`False`*, **`title`**=*`None`*, **`step`**=*`False`*, **`tzero`**:`time offset`=*`0`*, **`flux_factor`**=*`1`*, **`colors`**=*`('cornflowerblue', 'sandybrown', 'blue')`*, **`fmt`**=*`''`*, **`ms`**=*`None`*, **`error_pixsize`**=*`10`*, **`limit_fmt`**=*`None`*, **`source_name`**=*`None`*, **`legend_loc`**=*`'upper left'`*, **`error_lw`**=*`2`*, **`ts_bar_min`**=*`4`*, **`zorder`**=*`0`*, **`errorbar_args`**=*`{}`*, **`axhline`**=*`{}`*, **\\*\\*`kwargs`**)\n",
       "\n",
       "Make a plot of flux vs. time. This is invoked by the `plot` function of [`LightCurve`](/wtlikelightcurve.html#LightCurve)\n",
       "\n",
       "- cell_fits -- cell fits DataFrame \n",
       "- query ['']-- DataFrame query to select subset\n",
       "- ts_bar_min -- threshold for plotting as bar vs limit\n",
       "- tzero -- time offset, in MJD\n",
       "- source_name -- draw text in top left\n",
       "- flux_factor [1]\n",
       "\n",
       "- ax [None] -- a matplotlib.axes._subplots.AxesSubplot object returned from plt.subplots<br>\n",
       "if None, create one using subplots with fignum [1] and figsize [(12,4)]\n",
       "- fmt [''] -- marker symbol -- if not specifed, will use '.' if many bins, else 'o'\n",
       "- ms [None] -- for marker size\n",
       "- colors -- tuple of colors for signal, limit, step\n",
       "- step   -- add a \"step\" plot\n",
       "- zorder -- set to different number to order successive calls with same Axis object\n",
       "- kwargs -- apply to the `ax` object, like xlim, ylim\n",
       "\n",
       "returns the Figure instance"
      ],
      "text/plain": [
       "<IPython.core.display.Markdown object>"
      ]
     },
     "metadata": {},
     "output_type": "display_data"
    }
   ],
   "source": [
    "show_doc(flux_plot, title_level=3)"
   ]
  },
  {
   "cell_type": "markdown",
   "metadata": {},
   "source": [
    "Example plot-- the first 100 days of Fermi data for Geminga"
   ]
  },
  {
   "cell_type": "markdown",
   "metadata": {},
   "source": [
    "And forcing upper limits"
   ]
  },
  {
   "cell_type": "code",
   "execution_count": 10,
   "metadata": {},
   "outputs": [],
   "source": [
    "# export\n",
    "def fit_beta_free(self):\n",
    "    r\"\"\"Make a plot of $\\alpha$ and $\\beta$ for the given source\n",
    "    \n",
    "    Uses the current cells, assuming Gaussian errors, fitting each to $\\alpha$ and $\\beta$\n",
    "    \n",
    "    \"\"\"\n",
    "    \n",
    "    cells = self.cells   \n",
    "    \n",
    "    g2rep = cells.apply( lambda cell: Gaussian2dRep(LogLike(cell)).fit, axis=1)  \n",
    "\n",
    "    abdf = pd.DataFrame.from_dict(dict(zip(cells.index,g2rep)), orient='index')\n",
    "    return abdf\n",
    "\n",
    "def plot_beta_free(self, abdf):\n",
    "    cells = self.cells\n",
    "    \n",
    "    fig, (ax1,ax2) = plt.subplots(2,1, figsize=(12,5), sharex=True)\n",
    "    plt.subplots_adjust(hspace=0, top=0.92)\n",
    "\n",
    "    t = cells.t; xerr=cells.tw/2\n",
    "    ax1.errorbar(x=t, xerr=xerr, y=abdf.beta, yerr=abdf.sig_beta, fmt='o');\n",
    "    ax1.grid(alpha=0.5)\n",
    "    ax1.set(ylabel=r'$\\beta$', xlabel='MJD', title=rf'{self.source_name}: fits with $\\beta$ free');\n",
    "    ax2.errorbar(x=t, xerr=xerr, y=abdf.flux-1, yerr=abdf.sig_flux, fmt='o')\n",
    "    ax2.set(ylabel=r'$\\alpha$')\n",
    "    ax2.grid(alpha=0.5);\n",
    "    [ax.axhline(0, ls='--',color='grey') for ax in (ax1,ax2)];\n",
    "    \n"
   ]
  },
  {
   "cell_type": "code",
   "execution_count": 11,
   "metadata": {},
   "outputs": [],
   "source": [
    "#collapse_hide\n",
    "# config=Config()\n",
    "# fig, (ax1,ax2) = plt.subplots(1,2, figsize=(12,4), sharex=True, sharey=True)\n",
    "# flux_plot(config, lc.lc_df, ax=ax1, fmt='o', xlim=(54689, 54700),  step=True)\n",
    "# flux_plot(config, lc.lc_df, ax=ax2, fmt='o', xlim=(54689, 54700), ts_bar_min=1000, step=True, step_label='step')\n",
    "#fig.set_facecolor('white');"
   ]
  },
  {
   "cell_type": "code",
   "execution_count": 12,
   "metadata": {},
   "outputs": [],
   "source": [
    "# hide\n",
    "def decorate_with(other_func):\n",
    "    def decorator(func):\n",
    "        func.__doc__ += other_func.__doc__\n",
    "        return func\n",
    "    return decorator"
   ]
  },
  {
   "cell_type": "code",
   "execution_count": 13,
   "metadata": {},
   "outputs": [],
   "source": [
    "# export\n",
    "class LightCurve(CellData):\n",
    "    \"\"\"Full analysis of a source, \n",
    "    Inherits from `CellData`\n",
    "\n",
    "    \"\"\"\n",
    "    def __init__(self, *pars, **kwargs):\n",
    "        \n",
    "        exp_min = kwargs.pop('exp_min', None) # corresponds to ~2counts\n",
    "        self.n_min = kwargs.pop('n_min', 2)\n",
    "        self.lc_key = kwargs.pop('lc_key', None)\n",
    "        super().__init__(*pars, **kwargs)\n",
    "        self.exp_min = exp_min if exp_min is not None else self.config.exp_min\n",
    "        self.update()\n",
    "        \n",
    "    def update(self):\n",
    "        # invoked by current, again if a copy\n",
    "        # get the cells from superclass\n",
    "       \n",
    "    \n",
    "        def doit():\n",
    "            # fit the subset that have enought exposure and counts\n",
    "            query_string = f'e>{self.exp_min} & n>{self.n_min}'\n",
    "            fit_cells = self.cells.query(query_string).copy()\n",
    "            if self.config.verbose>0:\n",
    "                print(f'LightCurve: select {len(fit_cells)} cells for fitting with {query_string}' )\n",
    "            assert len(fit_cells)>0, 'No cells from CellData after query'\n",
    "            # the local workhorse\n",
    "            return CellFitter(self.config, fit_cells, self.source_name).dataframe\n",
    "        \n",
    "        # use cache only with default bins?\n",
    "        key = f'lightcurve_{source_name}' if self.lc_key=='' else  self.lc_key \n",
    "        description = f'Light curve with {cell_query} for {source_name}' if self.config.verbose>0 and key is not None else '' \n",
    "        self.lc = self.fits =  self.config.cache(key, doit, description=description)\n",
    " \n",
    "    def check_plot_kwargs(self, kwargs):\n",
    "        tzero = kwargs.get('tzero', None)\n",
    "        xlim = kwargs.get('xlim', None)\n",
    "        if xlim is not None and tzero is None: # scale from start, stop times if less than start\n",
    "            a,b = xlim\n",
    "            if a<self.start: a = self.start+a if a>0 else self.stop+a \n",
    "            if b<self.start: b = self.start+b if b>0 else self.stop+b \n",
    "            kwargs['xlim'] = (a,b)\n",
    "        log = kwargs.pop('log', None)\n",
    "        if log is not None and log:\n",
    "            kwargs['yscale'] = 'log' \n",
    "        if  kwargs.pop('show_flux', False):\n",
    "            kwargs['flux_factor'] = self.src_flux * 1e6\n",
    "            if kwargs.get('ylabel', None) is None:\n",
    "                kwargs['ylabel'] = 'Count flux [$\\mathrm{10^{-6} cm^{-2} s^{-1}}$]'\n",
    "            \n",
    "    @decorate_with(flux_plot)\n",
    "    def plot(self, **kwargs):\n",
    "        \"\"\"Make a light curve plot\n",
    "        Invokes flux_plot, after processing kwargs to intercept\n",
    "        - log -- translate to `xscale='log'`\n",
    "        - xlim -- convert to (start, stop) interpreted relative to start, stop if < start.\n",
    "        - show_flux\n",
    "        \n",
    "        \"\"\"\n",
    "        source_name = kwargs.pop('source_name', self.source_name)\n",
    "  \n",
    "        # special treatment for log and xlim\n",
    "        self.check_plot_kwargs(kwargs)\n",
    "        \n",
    "        fig = flux_plot(self.fits, source_name=source_name, \n",
    "                        label=f'{self.step_name} bins',  **kwargs)\n",
    "        fig.set_facecolor('white')\n",
    "        return fig\n",
    "       \n",
    "    def flux_table(self, lc=None, include_e=True):\n",
    "\n",
    "        \"\"\"Generate a summary table from the light curve \n",
    "        \n",
    "        - lc -- A light curve fits dataframe; use current one if not specified\n",
    "        - include_e -- include the exposure\n",
    "        \"\"\"\n",
    "        if lc is None: lc=self.fits\n",
    "        \n",
    "        fits = lc.fit\n",
    "        flux = fits.apply(lambda f: f.flux)\n",
    "        errors = fits.apply(lambda f: (round(f.errors[0]-f.flux,3), round(f.errors[1]-f.flux ,3) ) )\n",
    "        # for future\n",
    "        #sigma_dev = fits.apply(lambda f: round(f.poiss.sigma_dev(expect),1) )\n",
    "        \n",
    "        df = lc['t tw n'.split()].copy() # maybe fix warnings?\n",
    "        if include_e: \n",
    "            df.loc[:,'e'] = self.fits.e\n",
    "        df.loc[:, 'ts'] =  fits.apply(lambda f: f.ts).round(1)\n",
    "        df.loc[:,'flux'] = flux.values.round(4)     \n",
    "        df.loc[:, 'errors'] = errors.values\n",
    "        #df.loc[:, 'sigma_dev'] = sigma_dev.values\n",
    "        df.loc[:, 'limit'] =  fits.apply(lambda f: f.limit)\n",
    "        return df\n",
    "    \n",
    "    def fit_beta_free(self, show_plot=True):\n",
    "        r\"\"\"Fit the cells to $\\alpha$ and $\\beta$, assuming Gaussian errors.\n",
    "        \n",
    "        Make plots if show_plot is set.\n",
    "        return a DF with the fits.\n",
    "                \n",
    "        \"\"\"        \n",
    "        abdf = fit_beta_free(self)\n",
    "        if show_plot:\n",
    "            plot_beta_free(self, abdf)\n",
    "        return abdf\n",
    "    \n",
    "    @property\n",
    "    def fluxes(self):\n",
    "        \"\"\"A DataFrame table of the flux measurements\"\"\"\n",
    "        return self.flux_table()\n",
    "    \n",
    "    def __init_subclass__(cls):\n",
    "        if cls.__doc__ is None:\n",
    "          raise AttributeError(\"No docstring\")"
   ]
  },
  {
   "cell_type": "code",
   "execution_count": 14,
   "metadata": {},
   "outputs": [
    {
     "name": "stdout",
     "output_type": "stream",
     "text": [
      "SourceData: photons and exposure for 3C 279: Restoring from cache with key \"3C_279_data\"\n",
      "SourceData: Source 3C 279 with:\n",
      "\t data:       179,872 photons from 2008-08-04 to 2021-06-07\n",
      "\t exposure: 2,836,385 intervals,  average flux 2844 cm^2 for 84.7 Ms\n",
      "\t rates:  source 3.96e-07/s, background 3.51e-07/s, S/N ratio 1.13e+00\n",
      "CellData: Bin photon data into 669 1-week bins from 54683.0 to 59366.0\n",
      "LightCurve: select 659 cells for fitting with e>5 & n>2\n"
     ]
    },
    {
     "name": "stderr",
     "output_type": "stream",
     "text": [
      "/nfs/farm/g/glast/u/burnett/miniconda/envs/py3/lib/python3.8/site-packages/scipy/optimize/minpack.py:162: RuntimeWarning: The iteration is not making good progress, as measured by the \n",
      "  improvement from the last ten iterations.\n",
      "  warnings.warn(msg, RuntimeWarning)\n"
     ]
    },
    {
     "data": {
      "image/png": "[encoded data removed]",
      "text/plain": [
       "<Figure size 864x288 with 1 Axes>"
      ]
     },
     "metadata": {},
     "output_type": "display_data"
    }
   ],
   "source": [
    "lc = LightCurve('3C 279', bins=(0,0,7));\n",
    "lc.plot();\n",
    "# fig=lc.plot( show_flux=True, ylim=(2e-2,4),tzero=54720, fmt='o', xlim=(0,50), log=True, ms=8, \n",
    "#             error_pixsize=20)"
   ]
  },
  {
   "cell_type": "code",
   "execution_count": 15,
   "metadata": {},
   "outputs": [
    {
     "name": "stdout",
     "output_type": "stream",
     "text": [
      "CellData: Bin photon data into 50 1-day bins from 56550.0 to 56600.0\n",
      "LightCurve: select 47 cells for fitting with e>5 & n>2\n"
     ]
    }
   ],
   "source": [
    "flare = lc.view(56550,56600,1)#"
   ]
  },
  {
   "cell_type": "code",
   "execution_count": 16,
   "metadata": {},
   "outputs": [],
   "source": [
    "flare.fluxes.query('ts>500')\n",
    "cell = flare.cells.loc[26];"
   ]
  },
  {
   "cell_type": "code",
   "execution_count": 17,
   "metadata": {},
   "outputs": [
    {
     "data": {
      "text/plain": [
       "{'counts': 484, 'flux': 15.1559, 'sig_flux': 0.8048}"
      ]
     },
     "execution_count": 17,
     "metadata": {},
     "output_type": "execute_result"
    }
   ],
   "source": [
    "ll=LogLike(cell); ll.fit_info()"
   ]
  },
  {
   "cell_type": "code",
   "execution_count": 18,
   "metadata": {},
   "outputs": [
    {
     "name": "stdout",
     "output_type": "stream",
     "text": [
      "Cache contents\n",
      " key                                    size  time                 name, in folder /nfs/farm/g/glast/u/burnett/wtlike_cache\n",
      "  PSR_B1259-63_data                150841789  2021-06-11 11:42     cache_file_209af51c4773476e.pkl\n",
      "  Geminga_data                     145269085  2021-06-10 12:50     cache_file_155ac7318d6b935c.pkl\n",
      "  3C_279_data                       90430161  2021-06-07 17:41     cache_file_2d115e59a362f8fa.pkl\n",
      "  PSR_J0205p6449_data              165858269  2021-06-09 06:39     cache_file_1b21a30a4731c7.pkl\n",
      "  J0209.7p6437_data                172290447  2021-06-09 06:53     cache_file_2768314b293a998.pkl\n",
      "\n"
     ]
    }
   ],
   "source": [
    "print(Config().cache)"
   ]
  },
  {
   "cell_type": "code",
   "execution_count": null,
   "metadata": {},
   "outputs": [
    {
     "name": "stdout",
     "output_type": "stream",
     "text": [
      "Converted 00_config.ipynb.\n",
      "Converted 01_data_man.ipynb.\n",
      "Converted 02_effective_area.ipynb.\n",
      "Converted 03_weights.ipynb.\n",
      "Converted 04_exposure.ipynb.\n",
      "Converted 04_select_data.ipynb.\n"
     ]
    }
   ],
   "source": [
    "#hide\n",
    "from nbdev.export import notebook2script\n",
    "notebook2script()\n",
    "!date"
   ]
  },
  {
   "cell_type": "code",
   "execution_count": null,
   "metadata": {},
   "outputs": [],
   "source": []
  }
 ],
 "metadata": {
  "kernelspec": {
   "display_name": "Python 3",
   "language": "python",
   "name": "python3"
  },
  "language_info": {
   "codemirror_mode": {
    "name": "ipython",
    "version": 3
   },
   "file_extension": ".py",
   "mimetype": "text/x-python",
   "name": "python",
   "nbconvert_exporter": "python",
   "pygments_lexer": "ipython3",
   "version": "3.8.0"
  }
 },
 "nbformat": 4,
 "nbformat_minor": 4
}
