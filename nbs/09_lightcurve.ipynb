{
 "cells": [
  {
   "cell_type": "code",
   "execution_count": null,
   "metadata": {},
   "outputs": [],
   "source": [
    "#default_exp lightcurve\n",
    "%load_ext autoreload\n",
    "from nbdev.showdoc import show_doc"
   ]
  },
  {
   "cell_type": "markdown",
   "metadata": {},
   "source": [
    "# Light Curve Generation\n",
    "> Generate light curves from cells"
   ]
  },
  {
   "cell_type": "markdown",
   "metadata": {},
   "source": [
    "A \"light curve\" is a table with columns\n",
    "\n",
    "- `t` -- time in MJD \n",
    "- `tw` -- the cell width\n",
    "- `n`  -- number of photons\n",
    "- `e`  -- relative exposure\n",
    "- `fit` -- the fit object, containing info about the flux. This is usually a `PoissonRep` object\n",
    "\n",
    "It is generated from a set of cells\n",
    "\n",
    "Implemented here:\n",
    "\n",
    "- `getLightCurve`\n",
    "- `fit_cells`\n",
    "- `flux_plot`"
   ]
  },
  {
   "cell_type": "code",
   "execution_count": null,
   "metadata": {},
   "outputs": [],
   "source": [
    "#export\n",
    "import numpy as np\n",
    "import pylab as plt\n",
    "import pandas as pd\n",
    "from wtlike.config import Config,  PointSource\n",
    "from wtlike.loglike import (LogLike, GaussianRep, Gaussian2dRep, PoissonRep, PoissonRepTable)\n",
    "from wtlike.cells import get_cells"
   ]
  },
  {
   "cell_type": "code",
   "execution_count": null,
   "metadata": {},
   "outputs": [],
   "source": [
    "#export\n",
    "class LightCurve(object):\n",
    "    \"\"\" Apply likelihood fits to a set of cells\n",
    "    \n",
    "    parameters:\n",
    "       - cells : a table with index t, columns  tw, n, e, w, S, B\n",
    "       - min_exp : minimum fractional exposure allowed\n",
    "       - rep_name : represention to use \n",
    "\n",
    "    Generates a DataTable with columns n, ep, fit\n",
    "        \n",
    "    \"\"\"\n",
    "\n",
    "    rep_class =  [GaussianRep, Gaussian2dRep, PoissonRep, PoissonRepTable]\n",
    "    rep_list =   'gauss gauss2d poisson poissontable'.split()\n",
    "\n",
    "    def __init__(self, config, \n",
    "                all_cells, \n",
    "                source, \n",
    "                min_exp:  'minimum exposure factor'= 0.3,\n",
    "                rep_name: 'likelihood rep name'='',\n",
    "    \n",
    "                ):\n",
    "        \"\"\"Apply fits to the likelihoods for a set of cells\n",
    "        \n",
    " \n",
    "        \"\"\"\n",
    "\n",
    "        self.source_name = source.name\n",
    " \n",
    "        # select the set of cells\n",
    "        cells = all_cells.query(f'e>{min_exp}').copy()\n",
    "        \n",
    "        # generate a list of LogLike objects for each\n",
    "        cells.loc[:,'loglike'] = cells.apply(LogLike, axis=1)\n",
    "        if config.verbose>0:\n",
    "            print(f'Loaded {len(cells)} / {len(all_cells)} cells with exposure >'\\\n",
    "                  f' {min_exp} for light curve analysis')\n",
    "            print(f'first cell: {cells.iloc[0]}')\n",
    "\n",
    "        # analyze using selected rep\n",
    "        rep_name = rep_name or config.likelihood_rep\n",
    "        \n",
    "        if rep_name not in self.rep_list:\n",
    "            raise Exception(f'Unrecognized rep: \"{rep_name}\", must be one of {self.rep_list}')\n",
    "        repcl = self.rep_class[self.rep_list.index(rep_name)]\n",
    "\n",
    "        if config.verbose>1:\n",
    "            print(f'Fitting likelihoods with {rep_name} representation')\n",
    "        \n",
    "        # making output with reduced columns \n",
    "        self.ll_fits = cells['t tw n e'.split()].copy()\n",
    "        self.ll_fits.loc[:,'fit'] = cells.loglike.apply(repcl)\n",
    "\n",
    "    def __repr__(self):\n",
    "        return f'{self.__class__.__name__}: source \"{self.source_name}\" fit with {len(self.ll_fits)} cells'\n",
    "\n",
    "\n",
    "    @property\n",
    "    def dataframe(self):\n",
    "        \"\"\"return the DataFrame\n",
    "        \"\"\"\n",
    "        return self.ll_fits"
   ]
  },
  {
   "cell_type": "code",
   "execution_count": null,
   "metadata": {},
   "outputs": [],
   "source": [
    "#export\n",
    "def fit_cells(config, \n",
    "            input_cells, \n",
    "            min_exp:  'minimum exposure factor'= 0.3,\n",
    "            repcl = PoissonRep,\n",
    "\n",
    "            ):\n",
    "    \"\"\"Apply fits to the likelihoods for a set of cells\n",
    "    return light-curve dataframe\n",
    "\n",
    "    \"\"\"\n",
    "\n",
    "    # select the set of cells\n",
    "    cells = input_cells.query(f'e>{min_exp}').copy()\n",
    "\n",
    "    # generate a list of LogLike objects for each\n",
    "    cells.loc[:,'loglike'] = cells.apply(LogLike, axis=1)\n",
    "    if config.verbose>0:\n",
    "        print(f'Loaded {len(cells)} / {len(input_cells)} cells with exposure >'\\\n",
    "              f' {min_exp} for fitting')\n",
    "  \n",
    "    # making output with reduced columns \n",
    "    ll_fits = cells['t tw n e'.split()].copy()\n",
    "    ll_fits.loc[:,'fit'] = cells.loglike.apply(repcl)\n",
    "    \n",
    "    return ll_fits"
   ]
  },
  {
   "cell_type": "code",
   "execution_count": null,
   "metadata": {},
   "outputs": [],
   "source": [
    "#export    \n",
    "\n",
    "\n",
    "def getLightCurve(config,  source, bin_edges=None, key=''):\n",
    "    \"\"\"Returns a lightcurve table for the source\n",
    "    \n",
    "    - `source` -- a PointSource object\n",
    "    - `bin_edges` -- optional to select other than default described in config\n",
    "    - `key` -- optional cache key. Set to None to disable cache use\n",
    "    \n",
    "    \"\"\"\n",
    "    def doit():\n",
    "        cells = get_cells(config,  source, bin_edges)\n",
    "        lc = LightCurve(config, cells, source).dataframe\n",
    "        return lc\n",
    "        \n",
    "    if bin_edges is None:\n",
    "        # use cache only with default bins\n",
    "        key = f'lightfcurve_{source.name}' if key=='' else  key \n",
    "        description = f'Light curve for {source.name}' if config.verbose>0 and key is not None else '' \n",
    "        return config.cache(key, doit, description=description)\n",
    "    else:\n",
    "        return doit()"
   ]
  },
  {
   "cell_type": "code",
   "execution_count": null,
   "metadata": {},
   "outputs": [],
   "source": [
    "#collapse_hide\n",
    "\n",
    "# fix this later\n",
    "# def test_lc():\n",
    "#     config = Config()\n",
    "#     source = PointSource('Geminga')\n",
    "#     if not config.valid:\n",
    "#         return\n",
    "#     print(f'Loading cells with source {source.name}')\n",
    "#     lc = getLightCurve(config,  source,  key=None)\n",
    "#     assert lc is not None\n",
    "#     print(f'LIght curve has {len(lc)} cells')\n",
    "#     c = lc.iloc[0]\n",
    "#     print(f'\\nFirst cell fit: {c[\"fit\"]}')\n",
    "#     return lc\n",
    "\n",
    "# if Config().valid:\n",
    "#     lc = test_lc()\n",
    "#     if lc is not None:\n",
    "#         lc.head()"
   ]
  },
  {
   "cell_type": "code",
   "execution_count": null,
   "metadata": {},
   "outputs": [],
   "source": [
    "#export\n",
    "def flux_plot(config, lightcurve, ts_min=9,  \n",
    "              title=None, ax=None, fignum=1, figsize=(12,4),\n",
    "              step=False, \n",
    "              tzero:'time offset'=0,\n",
    "              colors=('cornflowerblue','sandybrown', 'blue'), fmt=' ',\n",
    "              **kwargs): \n",
    "    \"\"\"Make a plot of flux vs. MJD\n",
    "    \n",
    "    - lightcurve \n",
    "    - ts_min -- threshold for ploting signal \n",
    "    - colors -- tuple of colors for signal, limit, step\n",
    "    - tzero -- time offset\n",
    "    - kwargs -- apply to the Axis object\n",
    "    - step   -- add a \"step\" plot\n",
    "    \n",
    "    returns the Figure instance\n",
    "    \"\"\"\n",
    "    kw=dict(yscale='linear',\n",
    "            xlabel='MJD'+ f' - {tzero}' if tzero else '' ,\n",
    "            ylabel='relative flux')\n",
    "    kw.update(**kwargs)\n",
    "    df=lightcurve\n",
    "    rep = config.likelihood_rep\n",
    "    if rep =='poisson':\n",
    "        ts = df.fit.apply(lambda f: f.ts) \n",
    "        limit = ts<ts_min\n",
    "        bar = df.loc[~limit,:]\n",
    "        lim = df.loc[limit,:]\n",
    "        allflux= np.select([~limit, limit], \n",
    "                        [df.fit.apply(lambda f: f.flux).values,\n",
    "                         df.fit.apply(lambda f: f.limit).values],\n",
    "                       )\n",
    "        \n",
    "    else: \n",
    "        bar=df; lim=[]\n",
    "\n",
    "    fig, ax = plt.subplots(figsize=figsize, num=fignum) if ax is None else (ax.figure, ax)\\\n",
    "        if ax is not None else (ax.figure,ax)\n",
    "\n",
    "    # the points with error bars\n",
    "    t = bar.t.values-tzero\n",
    "    tw = bar.tw.values \n",
    "    fluxmeas = allflux[~limit]\n",
    "    upper = bar.fit.apply(lambda f: f.errors[1]).values\n",
    "    lower = bar.fit.apply(lambda f: f.errors[0]).values\n",
    "    error = np.array([upper-fluxmeas, fluxmeas-lower])\n",
    "\n",
    "#     if rep=='poisson':\n",
    "#         dy = [bar.errors.apply(lambda x: x[i]).clip(0,4) for i in range(2)]\n",
    "#     elif rep==='gauss' or rep=='gauss2d':\n",
    "#         dy = bar.sig_flux.clip(0,4)\n",
    "#     else: assert False, f'Unrecognized likelihood rep: {rep}'   \n",
    "\n",
    "    ax.errorbar(x=t, xerr=tw/2, y=fluxmeas, yerr=error, fmt=fmt, color=colors[0], )#'silver')\n",
    "\n",
    "    if step:\n",
    "        t = df.t.values-tzero\n",
    "        xerr = df.tw.values/2; \n",
    "        x = np.append(t-xerr, [t[-1]+xerr[-1]]); \n",
    "        y = np.append(allflux, [allflux[-1]])\n",
    "        ax.step(x, y, color=colors[2], where='post', lw=2)\n",
    "\n",
    "    \n",
    "    # now do the limits (only for poisson rep)\n",
    "    error_size=2\n",
    "    if len(lim)>0:\n",
    "        t = lim.t-tzero\n",
    "        tw = lim.tw \n",
    "\n",
    "        y = allflux[limit]\n",
    "        yerr=0.2*(1 if kw['yscale']=='linear' else y)\n",
    "        ax.errorbar(x=t, y=y, xerr=tw/2,\n",
    "                yerr=yerr,  color=colors[1], \n",
    "                uplims=True, ls='', lw=error_size, capsize=3*error_size, capthick=0,\n",
    "               )\n",
    "\n",
    "    #ax.axhline(1., color='grey')\n",
    "    ax.set(**kw)\n",
    "    ax.set_title(title) # or f'{source_name}, rep {self.rep}')\n",
    "    ax.grid(alpha=0.5)\n",
    "    return fig"
   ]
  },
  {
   "cell_type": "code",
   "execution_count": null,
   "metadata": {},
   "outputs": [
    {
     "data": {
      "text/markdown": [
       "<h4 id=\"flux_plot\" class=\"doc_header\"><code>flux_plot</code><a href=\"__main__.py#L2\" class=\"source_link\" style=\"float:right\">[source]</a></h4>\n",
       "\n",
       "> <code>flux_plot</code>(**`config`**, **`lightcurve`**, **`ts_min`**=*`9`*, **`title`**=*`None`*, **`ax`**=*`None`*, **`fignum`**=*`1`*, **`figsize`**=*`(12, 4)`*, **`step`**=*`False`*, **`tzero`**:`time offset`=*`0`*, **`colors`**=*`('cornflowerblue', 'sandybrown', 'blue')`*, **`fmt`**=*`' '`*, **\\*\\*`kwargs`**)\n",
       "\n",
       "Make a plot of flux vs. MJD\n",
       "\n",
       "- lightcurve \n",
       "- ts_min -- threshold for ploting signal \n",
       "- colors -- tuple of colors for signal, limit, step\n",
       "- tzero -- time offset\n",
       "- kwargs -- apply to the Axis object\n",
       "- step   -- add a \"step\" plot\n",
       "\n",
       "returns the Figure instance"
      ],
      "text/plain": [
       "<IPython.core.display.Markdown object>"
      ]
     },
     "metadata": {},
     "output_type": "display_data"
    }
   ],
   "source": [
    "show_doc(flux_plot)"
   ]
  },
  {
   "cell_type": "markdown",
   "metadata": {},
   "source": [
    "Example plot-- the first 100 days of Fermi data for Geminga"
   ]
  },
  {
   "cell_type": "code",
   "execution_count": null,
   "metadata": {},
   "outputs": [
    {
     "ename": "NameError",
     "evalue": "name 'lc' is not defined",
     "output_type": "error",
     "traceback": [
      "\u001b[0;31m---------------------------------------------------------------------------\u001b[0m",
      "\u001b[0;31mNameError\u001b[0m                                 Traceback (most recent call last)",
      "\u001b[0;32m<ipython-input-10-81f8fb2f4ab5>\u001b[0m in \u001b[0;36m<module>\u001b[0;34m\u001b[0m\n\u001b[1;32m      5\u001b[0m     \u001b[0mplt\u001b[0m\u001b[0;34m.\u001b[0m\u001b[0mrc\u001b[0m\u001b[0;34m(\u001b[0m\u001b[0;34m'font'\u001b[0m\u001b[0;34m,\u001b[0m \u001b[0msize\u001b[0m\u001b[0;34m=\u001b[0m\u001b[0;36m20\u001b[0m\u001b[0;34m)\u001b[0m\u001b[0;34m\u001b[0m\u001b[0;34m\u001b[0m\u001b[0m\n\u001b[1;32m      6\u001b[0m     \u001b[0mfig\u001b[0m\u001b[0;34m,\u001b[0m \u001b[0max\u001b[0m \u001b[0;34m=\u001b[0m \u001b[0mplt\u001b[0m\u001b[0;34m.\u001b[0m\u001b[0msubplots\u001b[0m\u001b[0;34m(\u001b[0m\u001b[0mfigsize\u001b[0m\u001b[0;34m=\u001b[0m\u001b[0;34m(\u001b[0m\u001b[0;36m12\u001b[0m\u001b[0;34m,\u001b[0m\u001b[0;36m4\u001b[0m\u001b[0;34m)\u001b[0m\u001b[0;34m)\u001b[0m\u001b[0;34m\u001b[0m\u001b[0;34m\u001b[0m\u001b[0m\n\u001b[0;32m----> 7\u001b[0;31m     \u001b[0mflux_plot\u001b[0m\u001b[0;34m(\u001b[0m\u001b[0mconfig\u001b[0m\u001b[0;34m,\u001b[0m \u001b[0mlc\u001b[0m\u001b[0;34m,\u001b[0m \u001b[0mfmt\u001b[0m\u001b[0;34m=\u001b[0m\u001b[0;34m'o'\u001b[0m\u001b[0;34m,\u001b[0m \u001b[0max\u001b[0m\u001b[0;34m=\u001b[0m\u001b[0max\u001b[0m\u001b[0;34m,\u001b[0m \u001b[0mxlim\u001b[0m\u001b[0;34m=\u001b[0m\u001b[0;34m(\u001b[0m\u001b[0;34m-\u001b[0m\u001b[0;36m50\u001b[0m\u001b[0;34m,\u001b[0m\u001b[0;36m50\u001b[0m\u001b[0;34m)\u001b[0m\u001b[0;34m,\u001b[0m \u001b[0mstep\u001b[0m\u001b[0;34m=\u001b[0m\u001b[0;32mFalse\u001b[0m\u001b[0;34m,\u001b[0m \u001b[0mtzero\u001b[0m\u001b[0;34m=\u001b[0m\u001b[0;36m55000\u001b[0m\u001b[0;34m)\u001b[0m\u001b[0;34m\u001b[0m\u001b[0;34m\u001b[0m\u001b[0m\n\u001b[0m",
      "\u001b[0;31mNameError\u001b[0m: name 'lc' is not defined"
     ]
    },
    {
     "data": {
      "image/png": "[encoded data removed]",
      "text/plain": [
       "<Figure size 864x288 with 1 Axes>"
      ]
     },
     "metadata": {
      "needs_background": "light"
     },
     "output_type": "display_data"
    }
   ],
   "source": [
    "#collapse_hide\n",
    "config = Config()\n",
    "if config.valid:\n",
    "    \n",
    "    plt.rc('font', size=20)\n",
    "    fig, ax = plt.subplots(figsize=(12,4))\n",
    "    flux_plot(config, lc, fmt='o', ax=ax, xlim=(-50,50), step=False, tzero=55000)"
   ]
  },
  {
   "cell_type": "markdown",
   "metadata": {},
   "source": [
    "And forcing upper limits"
   ]
  },
  {
   "cell_type": "code",
   "execution_count": null,
   "metadata": {},
   "outputs": [],
   "source": [
    "#collapse_hide\n",
    "if config.valid:\n",
    "    fig, (ax1,ax2) = plt.subplots(1,2, figsize=(12,4), sharex=True, sharey=True)\n",
    "    flux_plot(config, lc, ax=ax1, fmt='o', xlim=(54689, 54700),  step=True)\n",
    "    flux_plot(config, lc, ax=ax2, fmt='o', xlim=(54689, 54700), ts_min=1000, step=True)"
   ]
  },
  {
   "cell_type": "code",
   "execution_count": null,
   "metadata": {},
   "outputs": [],
   "source": []
  },
  {
   "cell_type": "code",
   "execution_count": null,
   "metadata": {},
   "outputs": [
    {
     "name": "stdout",
     "output_type": "stream",
     "text": [
      "Converted 00_config.ipynb.\n",
      "Converted 01_data_man.ipynb.\n",
      "Converted 01_effective_area.ipynb.\n",
      "Converted 02_gti.ipynb.\n",
      "Converted 02_source_data.ipynb.\n",
      "Converted 03_exposure.ipynb.\n",
      "Converted 04_photon_data.ipynb.\n",
      "Converted 05_weights.ipynb.\n",
      "Converted 06_poisson.ipynb.\n",
      "Converted 07_cell_data.ipynb.\n",
      "Converted 07_cells.ipynb.\n",
      "Converted 08_loglike.ipynb.\n",
      "Converted 09_lightcurve.ipynb.\n",
      "Converted 10_simulation.ipynb.\n",
      "Converted 14_bayesian.ipynb.\n",
      "Converted index.ipynb.\n",
      "Fri Apr  9 14:24:19 PDT 2021\n"
     ]
    }
   ],
   "source": [
    "#hide\n",
    "from nbdev.export import notebook2script\n",
    "notebook2script()\n",
    "!date"
   ]
  },
  {
   "cell_type": "code",
   "execution_count": null,
   "metadata": {},
   "outputs": [],
   "source": []
  }
 ],
 "metadata": {
  "kernelspec": {
   "display_name": "Python 3",
   "language": "python",
   "name": "python3"
  }
 },
 "nbformat": 4,
 "nbformat_minor": 4
}
