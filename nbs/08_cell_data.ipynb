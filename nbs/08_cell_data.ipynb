{
 "cells": [
  {
   "cell_type": "code",
   "execution_count": null,
   "id": "affected-recruitment",
   "metadata": {},
   "outputs": [],
   "source": [
    "# default_exp cell_data\n",
    "from nbdev import *\n",
    "\n",
    "%reload_ext autoreload\n",
    "%autoreload 2"
   ]
  },
  {
   "cell_type": "markdown",
   "id": "through-assault",
   "metadata": {},
   "source": [
    "# Manage cell data\n",
    "> Create cells from source data"
   ]
  },
  {
   "cell_type": "markdown",
   "id": "prime-sense",
   "metadata": {},
   "source": [
    "## Creating cells\n",
    "\n",
    "As set out in Kerr, we choose binning in time to group photons into \"cells\". For each cell, we determine its likelihood function, which is then used to estimate the signal rate for that duration.\n",
    "\n",
    "Eqn. 2 of Kerr shows the log likelihood as a sum of cells of the log likelihoods of the cells, where the $k^{th}$ cell's likelihood,  (with $\\beta=0$), is\n",
    "\n",
    "$$ \\displaystyle\\log\\mathcal{L}_k(\\alpha)\\ = \\sum_{w}  \\log \\big( 1 + \\alpha\\ w \\big) - \\alpha\\ f_k\\ S   $$\n",
    "\n",
    "The sum is over the weights $w$ in that cell, and $S$ is an estimate of the signal count flux, and $f_k$ is the total exposure for that $k^{th}$ cell. Note that $f_k$ can be expressed as the sum of the exposures per photon, accumulated over the live time, which is from the start of the run or the previous photon. \n",
    "\n",
    "*Fermi* data is broken into distinct runs, corresponding at most to a single orbit. The effective area, $\\frac{df}{dt}$ varies by a factor of 2 or 3 for each 90-min orbit, is typically  $ 3 000\\ \\mathrm{cm}^2$, or $0.3\\ \\mathrm{m^2}$ for $fermi$. This is measured in 30-s intervals.\n",
    "\n",
    "We'll call the exposure per photon $\\tau$ to emphasize that it plays the role of time. \n",
    "\n",
    " So for the $i^{th}$ photon,   \n",
    "$$\\displaystyle\\log\\mathcal{L}_i(\\alpha) = \\log( 1 + \\alpha\\ w_i) - \\alpha\\  \\tau_i\\ S  $$\n",
    "\n",
    "This corresponds to an exponential distribution in $\\tau$."
   ]
  },
  {
   "cell_type": "code",
   "execution_count": 2,
   "id": "professional-egypt",
   "metadata": {},
   "outputs": [
    {
     "data": {
      "text/plain": [
       "0.2"
      ]
     },
     "execution_count": 2,
     "metadata": {},
     "output_type": "execute_result"
    }
   ],
   "source": [
    "# export\n",
    "import os\n",
    "import numpy as np\n",
    "import pandas as pd\n",
    "from wtlike.config import *\n",
    "from wtlike.source_data import *\n",
    "from wtlike.loglike import LogLike, PoissonRep, poisson_tolerance\n"
   ]
  },
  {
   "cell_type": "code",
   "execution_count": null,
   "id": "complete-commander",
   "metadata": {},
   "outputs": [],
   "source": [
    "# export  \n",
    "def time_bin_edges(config, exposure, tbin=None):\n",
    "    \"\"\"Return an interleaved array of start/stop values\n",
    "    \n",
    "    tbin: an array (a,b,d), default config.time_bins\n",
    "    \n",
    "    interpretation of a, b:\n",
    "\n",
    "        if > 50000, interpret as MJD\n",
    "        if <0, back from stop\n",
    "        otherwise, offset from start\n",
    "        \n",
    "    d : if positive, the day bin size\n",
    "        if 0; return contiguous bins\n",
    "        \n",
    "\n",
    "    \"\"\"\n",
    "    # nominal total range, MJD edges\n",
    "    start = np.round(exposure.start.values[0])\n",
    "    stop =  np.round(exposure.stop.values[-1])\n",
    "\n",
    "    a, b, step = tbin if tbin is not None else config.time_bins\n",
    "    \n",
    "\n",
    "    if a>50000: start=a\n",
    "    elif a<0: start = stop+a\n",
    "    else : start += a\n",
    "\n",
    "\n",
    "    if b>50000: stop=b\n",
    "    elif b>0: stop = start+b\n",
    "    else: stop += b\n",
    "    \n",
    "    if step<=0:\n",
    "        return contiguous_bins(exposure.query(f'{start}<start<{stop}'),)\n",
    "\n",
    "    # adjust stop\n",
    "    nbins = int((stop-start)/step)\n",
    "    assert nbins>0, 'Bad binning: no bins'\n",
    "    stop = start+(nbins)*step\n",
    "    u =  np.linspace(start,stop, nbins+1 )\n",
    "    \n",
    "    # make an interleaved start/stop array\n",
    "    v = np.empty(2*nbins, float)\n",
    "    v[0::2] = u[:-1]\n",
    "    v[1::2] = u[1:]\n",
    "    return v\n",
    "\n",
    "# export\n",
    "def binned_exposure(config, exposure, time_edges):\n",
    "    \"\"\"Bin the exposure\n",
    "\n",
    "    - time_bins: list of edges, as an interleaved start/stop array\n",
    "       \n",
    "        \n",
    "    returns  array of exposure integrated over each time bin, times 1e-9\n",
    "    it is interleaved, client must apply [0::2] selection.\n",
    "\n",
    "    \"\"\"\n",
    "\n",
    "    # get exposure calculation\n",
    "    exp   =exposure.exp.values\n",
    "    estart= exposure.start.values\n",
    "    estop = exposure.stop.values\n",
    "\n",
    "    # determine bins,\n",
    "\n",
    "    #use cumulative exposure to integrate over larger periods\n",
    "    cumexp = np.concatenate(([0],np.cumsum(exp)) )\n",
    "\n",
    "    # get index into tstop array of the bin edges\n",
    "    edge_index = np.searchsorted(estop, time_edges)\n",
    "    \n",
    "    # return the exposure integrated over the intervals\n",
    "    cum = cumexp[edge_index]\n",
    "   \n",
    "    # difference is exposure per interval: normalize it here\n",
    "    bexp = np.diff(cum) \n",
    "#     if config.verbose>1:\n",
    "#         print(f'Relative exposure per bin:\\n{pd.Series(bexp).describe(percentiles=[])}')\n",
    "    return bexp\n",
    "#export\n",
    "def contiguous_bins(exposure, min_gap=20, min_duration=600):\n",
    "    \n",
    "    \"\"\" return a start/stop interleaved array for contiguous intervals\n",
    "    \n",
    "    \"\"\"\n",
    "\n",
    "    stop = exposure.stop.values\n",
    "    start = exposure.start.values\n",
    "\n",
    "    # interleave  the starts and stops\n",
    "    ssint = np.empty(2*len(start))\n",
    "    ssint[0::2] = start\n",
    "    ssint[1::2] = stop\n",
    "\n",
    "    # Tag the (stpp,start) pairs < 10 sec as  not adjacent\n",
    "    not_adjacent = np.diff(ssint)[1::2] > min_gap/(24*3600) ; \n",
    "    #print(f'{sum(not_adjacent)} (start,stop) pairs are not closer than {min_gap} s')\n",
    "\n",
    "    # make a mask, keep ends\n",
    "    mask = np.empty(2*len(start), bool)\n",
    "    mask[0] = mask[-1] = True\n",
    "    # \n",
    "\n",
    "    # insert into mask -- keep only the (stop,start) pairs  which are not adjacent\n",
    "    mask[1:-2:2] = not_adjacent\n",
    "    mask[2:-1:2] = not_adjacent\n",
    "    \n",
    "    # apply mask, split into start and stop\n",
    "    keep = ssint[mask]\n",
    "    return keep"
   ]
  },
  {
   "cell_type": "code",
   "execution_count": null,
   "id": "western-kenya",
   "metadata": {},
   "outputs": [],
   "source": [
    "# export\n",
    "\n",
    "class CellData(SourceData):\n",
    "    \"\"\"Manage a set of cells generated from a data set\n",
    "    \n",
    "        Invoke superclass to load photon data and exposure for the source.\n",
    " \n",
    "        * time_bins, default config.time_bins\n",
    "        \n",
    "        \n",
    "        Note that the `e`  cell entry is the actual exposure for the cell in units $cm^2\\ s$, times $10^{-6}$.\n",
    "        \"\"\"\n",
    "    \n",
    "    def __init__(self, *pars, **kwargs): \n",
    "        \"\"\"\n",
    "\n",
    "        \"\"\"\n",
    "        bins = kwargs.pop('bins', kwargs.pop('time_bins', Config().time_bins))\n",
    "        #  load source data\n",
    "        super().__init__(*pars, **kwargs )\n",
    "\n",
    "\n",
    "        self.rebin(bins)\n",
    "        self.parent = None\n",
    "\n",
    "    def rebin(self, newbins):\n",
    "        \"\"\"bin, or rebin \n",
    "        \"\"\"\n",
    "        photon_data = self.photons\n",
    "        self.time_bins = newbins\n",
    "        self.cell_edges = edges = time_bin_edges(self.config, self.exposure, newbins)\n",
    "        if self.config.verbose>0:\n",
    "            step = newbins[2]\n",
    "            self.step_name = 'orbit-based' if step<=0 else bin_size_name(step)\n",
    "            print(f'CellData: Bin photon data into {int(len(edges)/2)} {self.step_name}'\\\n",
    "                  f' bins from {edges[0]:.1f} to {edges[-1]:.1f}')\n",
    "        \n",
    "        # note need to take care of interleave\n",
    "        self.binexp = self.binned_exposure( edges ) [0::2] \n",
    "        \n",
    "        \n",
    "#         #self.fexposure=(expose/self.exptot).astype(np.float32)\n",
    "#         self.fexposure = expose \n",
    "        \n",
    "        self.get_cells()\n",
    "        \n",
    "    def get_cells(self, exposure_factor=1e-6):\n",
    "        \"\"\"\n",
    "        Generate the cell DataFrame\n",
    "        \n",
    "        - exposure_factor --  recast exposure as cm^2 * Ms if $10^{-6}$ \n",
    "        \n",
    "        Thus the `e`  cell entry is the actual exposure for the cell in units $cm^2 Ms$.\n",
    "        \"\"\"\n",
    "        # restrict photons to range of bin times\n",
    "        photons = self.photons.query(f'{self.cell_edges[0]}<time<{self.cell_edges[-1]}')\n",
    "        \n",
    "        # use photon times to get indices into photon list\n",
    "        edges = np.searchsorted(photons.time, self.cell_edges)\n",
    "        \n",
    "        wts = photons.weight.values\n",
    "        start,stop = self.cell_edges[0::2], self.cell_edges[1::2]\n",
    "        center = (start+stop)/2\n",
    "        width = (stop-start)\n",
    "        cells = []\n",
    "        ek = np.append(edges[0::2], edges[-1])\n",
    "        etot = self.exptot*exposure_factor\n",
    "\n",
    "        Sk, Bk = self.S/etot, self.B/etot\n",
    "\n",
    "        for k, (t, tw, e) in enumerate( zip(\n",
    "                    center, width, self.binexp*exposure_factor) ):\n",
    "            w = wts[ek[k]:ek[k+1]] \n",
    "            n = len(w)\n",
    "            cells.append(dict(t=t, tw=tw, \n",
    "                              e=e,\n",
    "                              n=n,\n",
    "                              w=w,\n",
    "                              S=e*Sk,\n",
    "                              B=e*Bk,\n",
    "                             )\n",
    "                        )\n",
    "        self.cells =  pd.DataFrame(cells)\n",
    "        return self.cells\n",
    "\n",
    "    def update(self): pass # virtual\n",
    "    \n",
    "    def view(self, *pars, exp_min=None):\n",
    "        \"\"\"Return a \"view\": a copy of this instance with a perhaps a different set of cells\n",
    "        \n",
    "        - pars -- start, stop, step  to define new binning. Or start, step, or just step\n",
    "           start and stop are either MJD values, or offsets from the start or stop.\n",
    "           step -- the cell size in days, or if zero, orbit-based binning\n",
    "           \n",
    "        - exp_min [None] -- If specified, a different inimum exposure, in cm^2 Ms units to use for fitting\n",
    "            from.\n",
    "        \"\"\"\n",
    "        import copy\n",
    "        if self.config.verbose>1:\n",
    "            print(f'Making a view of the class {self.__class__}')\n",
    "        r = copy.copy(self)\n",
    "        if exp_min is not None: r.exp_min=exp_min\n",
    "\n",
    "        if len(pars)==3:\n",
    "            newbins = pars\n",
    "        elif len(pars)==2: # new limits, same interval\n",
    "            newbins = (pars[0], pars[1], self.time_bins[0])\n",
    "        elif len(pars)==1:\n",
    "            if type(pars[0])==tuple:\n",
    "                newbins = pars[0]\n",
    "            else:\n",
    "                newbins = (self.time_bins[0], self.time_bins[1], pars[0])\n",
    "        else:\n",
    "            newbins=None\n",
    "            \n",
    "        if newbins is not None:\n",
    "            r.rebin(newbins)\n",
    "        r.parent = self\n",
    "        r.update()\n",
    "        return r\n",
    "\n",
    "  \n",
    "    #### needs fixxing    \n",
    "    #     def __repr__(self):\n",
    "    #         return f'''{self.__class__}:\n",
    "    #         {len(self.fexposure)} intervals from {self.cell_edges[0]:.1f} to {self.cell_edges[-1]:.1f} for source {self.source_name}\n",
    "    #         S {self.S:.2f}  B {self.B:.2f} '''\n",
    "\n",
    "    \n",
    "    def concatenate( self ):\n",
    "        \"\"\"\n",
    "        Combine this set of cells to one\n",
    "        Return a dict with summed n, S, B, and concatenated w\n",
    "        \"\"\"\n",
    "\n",
    "        cells = self.cells\n",
    "        \n",
    "        newcell = dict()\n",
    "\n",
    "        if 't' in cells:\n",
    "            ca, cb =cells.iloc[0], cells.iloc[-1]\n",
    "            newcell.update(dict(t= 0.5*(ca.t-ca.tw/2 + cb.t+cb.tw/2), tw=cb.t-ca.t ))\n",
    "\n",
    "        for col in ' n e S B'.split():\n",
    "            newcell[col] = cells[col].sum()\n",
    "        newcell['w'] = np.concatenate(list(cells.w.values))\n",
    "        return newcell\n",
    "    \n",
    "        \n",
    "    def full_likelihood(self ):\n",
    "        \"\"\"Concatentate all the cells, return a LogLike object\n",
    "        \"\"\"\n",
    "        return LogLike(self.concatenate()) \n",
    "    \n",
    "    def plot_concatenated(self, fignum=1, **kwargs):\n",
    "        \"\"\"Likelihood function, with fit for concatenated data\n",
    "        \"\"\"\n",
    "        import matplotlib.pyplot as plt\n",
    "        lka = self.full_likelihood()\n",
    "        fig,ax = plt.subplots(figsize=(4,2), num=fignum)\n",
    "        lka.plot(ax=ax, **kwargs) \n",
    "        return fig"
   ]
  },
  {
   "cell_type": "code",
   "execution_count": null,
   "id": "still-covering",
   "metadata": {},
   "outputs": [
    {
     "data": {
      "text/markdown": [
       "<h2 id=\"CellData\" class=\"doc_header\"><code>class</code> <code>CellData</code><a href=\"\" class=\"source_link\" style=\"float:right\">[source]</a></h2>\n",
       "\n",
       "> <code>CellData</code>(**\\*`pars`**, **\\*\\*`kwargs`**) :: [`SourceData`](/wtlikesource_data#SourceData)\n",
       "\n",
       "Manage a set of cells generated from a data set\n",
       "\n",
       "Invoke superclass to load photon data and exposure for the source.\n",
       "\n",
       "* time_bins, default config.time_bins\n",
       "\n",
       "\n",
       "Note that the `e`  cell entry is the actual exposure for the cell in units $cm^2\\ s$, times $10^{-6}$."
      ],
      "text/plain": [
       "<IPython.core.display.Markdown object>"
      ]
     },
     "metadata": {},
     "output_type": "display_data"
    },
    {
     "data": {
      "text/markdown": [
       "<h4 id=\"CellData.view\" class=\"doc_header\"><code>CellData.view</code><a href=\"__main__.py#L88\" class=\"source_link\" style=\"float:right\">[source]</a></h4>\n",
       "\n",
       "> <code>CellData.view</code>(**\\*`pars`**)\n",
       "\n",
       "Return a \"view\": a new instance of this class with a perhaps a different set of cells\n",
       "\n",
       "- pars -- start, stop, step  to define new binning. Or start, step, or just step\n",
       "   start and stop are either MJD values, or offsets from the start or stop.\n",
       "   step -- the cell size in days, or if zero, orbit-based binning"
      ],
      "text/plain": [
       "<IPython.core.display.Markdown object>"
      ]
     },
     "metadata": {},
     "output_type": "display_data"
    }
   ],
   "source": [
    "show_doc(CellData)\n",
    "show_doc(CellData.view)"
   ]
  },
  {
   "cell_type": "code",
   "execution_count": null,
   "id": "judicial-folks",
   "metadata": {},
   "outputs": [],
   "source": [
    "# export\n",
    "def concatenate_cells( cells):\n",
    "    \"\"\"\n",
    "    Combine a group of cells to one\n",
    "    - cells: dataframe with cells containing  n, w, S, B<br>\n",
    "            Optionally, if $t$ is present, generate t and tw\n",
    "    Return a dict with summed n, S, B, and concatenated w\n",
    "    \"\"\"\n",
    "    newcell = dict()\n",
    "    if 't' in cells:\n",
    "        ca, cb =cells.iloc[0], cells.iloc[-1]\n",
    "        newcell.update(dict(t= 0.5*(ca.t-ca.tw/2 + cb.t+cb.tw/2), tw=cb.t-ca.t ))\n",
    "\n",
    "    for col in ' n S B'.split():\n",
    "        newcell[col] = cells[col].sum()\n",
    "    newcell['w'] = np.concatenate(list(cells.w.values))\n",
    "    return newcell"
   ]
  },
  {
   "cell_type": "code",
   "execution_count": null,
   "id": "expanded-kansas",
   "metadata": {},
   "outputs": [],
   "source": [
    "# export\n",
    "def partition_cells(config, cells, edges):\n",
    "    \"\"\" Partition a set of cells\n",
    "     - cells -- A DataFrame of cells\n",
    "     - edges  -- a list of edge times delimiting boundaries between cells\n",
    "     \n",
    "    Returns a DataFrame of combined cells, with times and widths adjusted to account for missing cells\n",
    "    \n",
    "    \"\"\"\n",
    "    # get indices of  cell idexes just beyond each edge time\n",
    "    ii = np.searchsorted(cells.t, edges)\n",
    "    \n",
    "    # Get the appropriate boundary times to apply to combined cells\n",
    "    # this is complicated by missing cells, need to put boundary in gaps if ncessary\n",
    "    ileft = ii[:-1]\n",
    "    cleft = cells.iloc[ileft ]\n",
    "    tleft =  (cleft.t - cleft.tw/2).values\n",
    "    iright = ii[1:]-1\n",
    "    cright = cells.iloc[iright ]  \n",
    "    tright = (cright.t+cright.tw/2).values\n",
    "    betweens = 0.5*(tleft[1:] + tright[:-1])\n",
    "    tboundary = np.append(np.insert(betweens, 0, tleft[0]), tright[-1])\n",
    "    \n",
    "    # now combine the cells, \n",
    "    newcells = []\n",
    "    for k in range(len(ii)-1):\n",
    "        a,b = ii[k:k+2]\n",
    "        subset = cells.iloc[a:b]; \n",
    "\n",
    "#         ca, cb = subset.iloc[0], subset.iloc[-1]\n",
    "#         newcell = dict(t= 0.5*(ca.t-ca.tw/2 + cb.t+cb.tw/2)  )\n",
    "        tl, tr = tboundary[k:k+2]\n",
    "        newcell = dict(t=0.5*(tl+tr), tw=tr-tl)\n",
    "        \n",
    "        for col in 'e n S B'.split():\n",
    "            newcell[col] = subset[col].sum()\n",
    "        newcell['e'] /= len(subset)\n",
    "        newcell['w'] = np.concatenate(list(subset.w.values)) #np.array(w, np.uint8)\n",
    "        newcells.append(newcell)\n",
    "    return pd.DataFrame(newcells)      "
   ]
  },
  {
   "cell_type": "code",
   "execution_count": null,
   "id": "loose-algebra",
   "metadata": {},
   "outputs": [
    {
     "data": {
      "text/markdown": [
       "<h4 id=\"partition_cells\" class=\"doc_header\"><code>partition_cells</code><a href=\"__main__.py#L2\" class=\"source_link\" style=\"float:right\">[source]</a></h4>\n",
       "\n",
       "> <code>partition_cells</code>(**`config`**, **`cells`**, **`edges`**)\n",
       "\n",
       "Partition a set of cells\n",
       " - cells -- A DataFrame of cells\n",
       " - edges  -- a list of edge times delimiting boundaries between cells\n",
       " \n",
       "Returns a DataFrame of combined cells, with times and widths adjusted to account for missing cells"
      ],
      "text/plain": [
       "<IPython.core.display.Markdown object>"
      ]
     },
     "metadata": {},
     "output_type": "display_data"
    }
   ],
   "source": [
    "show_doc(partition_cells)"
   ]
  },
  {
   "cell_type": "markdown",
   "id": "optimum-award",
   "metadata": {},
   "source": [
    "## Study cell formation with Geminga"
   ]
  },
  {
   "cell_type": "code",
   "execution_count": null,
   "id": "fixed-spending",
   "metadata": {},
   "outputs": [
    {
     "name": "stdout",
     "output_type": "stream",
     "text": [
      "\tLoading weeks slice(9, 10, None)\n",
      "SourceData: Assembling photon data and exposure for source Geminga\n",
      "\tfrom folder \"/home/burnett/wtlike_data/data_files\", with 670 files,\n",
      "\tWeights from file Geminga_weights.pkl\n",
      "\tFound 4,970 S/C entries:  1,907 remain after zenith and theta cuts\n",
      "Calculate exposure using the energy domain 100.0-1000000.0 5 bins/decade\n",
      "WeightMan: file \"/home/burnett/wtlike_data/weight_files/Geminga_weights.pkl\" : new format, 16 bamds with nsides 64 to 1024\n",
      "WeightMan: processing 1,310 photons\n",
      "\t596 events without weight\n",
      "\tFound 16,826 S/C entries:  5,633 remain after zenith and theta cuts\n",
      "Calculate exposure using the energy domain 100.0-1000000.0 5 bins/decade\n",
      "WeightMan: file \"/home/burnett/wtlike_data/weight_files/Geminga_weights.pkl\" : new format, 16 bamds with nsides 64 to 1024\n",
      "WeightMan: processing 3,866 photons\n",
      "\t1,709 events without weight\n",
      "\n",
      "SourceData: Source Geminga with:\n",
      "\t data:         2,871 photons from 2008-08-04 to 2008-08-14\n",
      "\t exposure:     7,540 intervals,  average flux 2987 cm^2 for 0.2 Ms\n",
      "\t rates:  source 3.30e-06/s, background 9.65e-07/s, S/N ratio 3.41e+00\n",
      "CellData: Bin photon data into 1 1-week bins from 54683.0 to 54690.0\n"
     ]
    }
   ],
   "source": [
    "# hide\n",
    "config=Config(); config.verbose=2\n",
    "source = PointSource('Geminga')\n",
    "cd = CellData(source, config=config, week_range=(9,10), key=None);#clear=True)"
   ]
  },
  {
   "cell_type": "code",
   "execution_count": null,
   "id": "radical-producer",
   "metadata": {},
   "outputs": [
    {
     "name": "stdout",
     "output_type": "stream",
     "text": [
      "Parmeters from Poisson fit to full data set\n",
      "flux                     1\n",
      "ts                 5.2e+03\n",
      "errors    (0.027, -0.0266)\n",
      "limit                    1\n",
      "dtype: object\n"
     ]
    },
    {
     "data": {
      "image/png": "[encoded data removed]",
      "text/plain": [
       "<Figure size 288x144 with 1 Axes>"
      ]
     },
     "metadata": {
      "needs_background": "light"
     },
     "output_type": "display_data"
    }
   ],
   "source": [
    "cd.plot_concatenated( title=f'{cd.source.name}');\n",
    "print('Parmeters from Poisson fit to full data set')\n",
    "L = cd.full_likelihood()\n",
    "pr = PoissonRep(L)\n",
    "print(pd.Series(pr.info()))\n",
    "\n",
    "#(cd.cells.n/cd.cells.e).describe()"
   ]
  },
  {
   "cell_type": "code",
   "execution_count": null,
   "id": "sunset-responsibility",
   "metadata": {},
   "outputs": [
    {
     "data": {
      "image/png": "[encoded data removed]",
      "text/plain": [
       "<Figure size 432x288 with 4 Axes>"
      ]
     },
     "metadata": {
      "needs_background": "light"
     },
     "output_type": "display_data"
    }
   ],
   "source": [
    "cd.photons.hist( bins=101, log=True);#np.linspace(0,50,101));"
   ]
  },
  {
   "cell_type": "code",
   "execution_count": null,
   "id": "egyptian-tsunami",
   "metadata": {},
   "outputs": [
    {
     "name": "stdout",
     "output_type": "stream",
     "text": [
      "<class 'pandas.core.frame.DataFrame'>\n",
      "Int64Index: 2871 entries, 0 to 5175\n",
      "Data columns (total 3 columns):\n",
      " #   Column  Non-Null Count  Dtype  \n",
      "---  ------  --------------  -----  \n",
      " 0   band    2871 non-null   uint8  \n",
      " 1   time    2871 non-null   float64\n",
      " 2   weight  2871 non-null   float64\n",
      "dtypes: float64(2), uint8(1)\n",
      "memory usage: 70.1 KB\n"
     ]
    }
   ],
   "source": [
    "cd.photons.info()"
   ]
  },
  {
   "cell_type": "code",
   "execution_count": null,
   "id": "apart-highlight",
   "metadata": {},
   "outputs": [
    {
     "data": {
      "text/plain": [
       "count    2.87e+03\n",
       "mean     5.43e-06\n",
       "std      1.34e-04\n",
       "min     -2.44e-04\n",
       "25%     -9.85e-05\n",
       "50%      6.85e-06\n",
       "75%      1.16e-04\n",
       "max      2.44e-04\n",
       "Name: weight, dtype: float64"
      ]
     },
     "execution_count": null,
     "metadata": {},
     "output_type": "execute_result"
    }
   ],
   "source": [
    "wt = (cd.photons.weight.values).astype(np.float16) \n",
    "pd.Series(wt-cd.photons.weight).describe()"
   ]
  },
  {
   "cell_type": "code",
   "execution_count": null,
   "id": "fabulous-yorkshire",
   "metadata": {},
   "outputs": [
    {
     "data": {
      "image/png": "[encoded data removed]",
      "text/plain": [
       "<Figure size 432x288 with 1 Axes>"
      ]
     },
     "metadata": {
      "needs_background": "light"
     },
     "output_type": "display_data"
    }
   ],
   "source": [
    "plt.hist(wt-cd.photons.weight, bins=np.linspace(-0.001, 0.001, 100));"
   ]
  },
  {
   "cell_type": "code",
   "execution_count": null,
   "id": "comparable-tampa",
   "metadata": {
    "tags": []
   },
   "outputs": [
    {
     "name": "stdout",
     "output_type": "stream",
     "text": [
      "Converted 00_config.ipynb.\n",
      "Converted 01_data_man.ipynb.\n",
      "Converted 02_effective_area.ipynb.\n",
      "Converted 03_weights.ipynb.\n",
      "Converted 04_exposure.ipynb.\n",
      "Converted 04_select_data.ipynb.\n",
      "Converted 04_simulation.ipynb.\n",
      "Converted 05_source_data.ipynb.\n",
      "Converted 06_poisson.ipynb.\n",
      "Converted 07_loglike.ipynb.\n",
      "Converted 08_cell_data.ipynb.\n",
      "Converted 09_lightcurve.ipynb.\n",
      "Converted 14_bayesian.ipynb.\n",
      "Converted 90_main.ipynb.\n",
      "Converted 99_tutorial.ipynb.\n",
      "Converted index.ipynb.\n",
      "Sun Jun  6 05:52:07 PDT 2021\n"
     ]
    }
   ],
   "source": [
    "# hide\n",
    "from nbdev.export import notebook2script\n",
    "notebook2script()\n",
    "!date"
   ]
  },
  {
   "cell_type": "code",
   "execution_count": null,
   "id": "neural-habitat",
   "metadata": {},
   "outputs": [],
   "source": []
  },
  {
   "cell_type": "code",
   "execution_count": null,
   "id": "colored-holiday",
   "metadata": {},
   "outputs": [],
   "source": []
  }
 ],
 "metadata": {
  "kernelspec": {
   "display_name": "Python 3",
   "language": "python",
   "name": "python3"
  },
  "language_info": {
   "codemirror_mode": {
    "name": "ipython",
    "version": 3
   },
   "file_extension": ".py",
   "mimetype": "text/x-python",
   "name": "python",
   "nbconvert_exporter": "python",
   "pygments_lexer": "ipython3",
   "version": "3.8.0"
  }
 },
 "nbformat": 4,
 "nbformat_minor": 5
}
