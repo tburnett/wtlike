{
 "cells": [
  {
   "cell_type": "code",
   "execution_count": null,
   "metadata": {},
   "outputs": [],
   "source": [
    "#hide\n",
    "from nbdev import *\n",
    "from utilities.ipynb_docgen import *"
   ]
  },
  {
   "cell_type": "markdown",
   "metadata": {},
   "source": [
    "# The `wtlike` package\n",
    "\n",
    "> Code for generating fermi-LAT light curves."
   ]
  },
  {
   "cell_type": "markdown",
   "metadata": {},
   "source": [
    "### GitHub Links\n",
    "\n",
    "- [this document](https://tburnett.github.io/wtlike/)\n",
    "-  [repository](https://github.com/tburnett/wtlike)\n",
    "\n",
    "## Context\n",
    "\n",
    "This package has code that was adapted to the [nbdev](https://nbdev.fast.ai/) code/tests/documentation environment from the [github package lat-timing](https://github.com/tburnett/lat-timing) to manage light curves of Fermi-LAT sources.  \n",
    "It is based on a [paper](https://arxiv.org/pdf/1910.00140.pdf) by Matthew Kerr, which derives the [weighted likelihood formalism](https://tburnett.github.io/wtlike/loglike#The-Kerr-likelihood-formula) used here, specifically with\n",
    "the [Bayesian Block](https://arxiv.org/pdf/1207.5578.pdf) to detect and characterize variability of a gamma-ray source.\n",
    "\n",
    "Also, I've ported some code from  my [jupydoc](https://github.com/tburnett/jupydoc) documentation package supporting enhanced documentation combining Markdown and code, such that the \n",
    "Markdown reflects execution of the code."
   ]
  },
  {
   "cell_type": "markdown",
   "metadata": {},
   "source": [
    "## Installation\n",
    "Currently in pre-alpha, and must be cloned. This brings up the `nbdev` stuff as well.\n",
    "\n"
   ]
  },
  {
   "cell_type": "markdown",
   "metadata": {},
   "source": [
    "## Module summary\n",
    "\n",
    "### Configuration [config](https://tburnett.github.io/wtlike/config)\n",
    "Implements basic configuration information, [Config](https://tburnett.github.io/wtlike/config#Config), a cache system [Cache](https://tburnett.github.io/wtlike/config#Cache), point source info [PointSource](https://tburnett.github.io/wtlike/config#PointSource), and [time conversion](https://tburnett.github.io/wtlike/config#Time-conversion)\n",
    "\n",
    "### Photon and Spacecraft Data  [data_man](https://tburnett.github.io/wtlike/data_man)\n",
    "This module manages conversion of the weekly FT1 (photons) and FT2 (spacecraft) files, downloaded from  [GSFC](https://heasarc.gsfc.nasa.gov/FTP/fermi/data/lat/weekly), to a folder containing  pickled files, each with tables of photons, space craft data, and a list of GTI times derived from the FT1 file. The total size of this is 2.8 GB. A class [WeeklyData](https://tburnett.github.io/wtlike/data_man#WeeklyData) exports the results.\n",
    "\n",
    "### Source data  [source_data](https://tburnett.github.io/wtlike/source_data)\n",
    "The module depends on a specific source. It extracts the photons within a disk, and calculates the exposure for this direction. It assumes that a weigtht analysis has been done for this source, which it uses to apply a weight to each photon. This is handled by the class [SourceData](https://tburnett.github.io/wtlike/source_data#SourceData). \n",
    "\n",
    "### Cell data [cell_data](https://tburnett.github.io/wtlike/cell_data)\n",
    "The next step is to define a set of time bins. This module, implementing the class [CellData(SourceData)](https://tburnett.github.io/wtlike/cell_data#CellData), creates a set of cells.\n",
    "\n",
    "### The light-curve  [light_curve](https://tburnett.github.io/wtlike/lightcurve)\n",
    "The the class [LightCurve(CellData)](https://tburnett.github.io/wtlike/lightcurve#LightCurve) uses the set of cell defined by its super class, and evaluates the likelihood for each. This function is represented by a Poisson-like function for further analysis. It creates a table with this information for plotting a light curve.\n",
    "\n",
    "### Bayesian Blocks [bayesian](https://tburnett.github.io/wtlike/bayesian) \n",
    "THis module defines the class [BayesianBlockAnalysis(LightCurve)](https://tburnett.github.io/wtlike/bayesian#BayesianBlockAnalysis) module creates a partition, and refits the blocks.\n",
    "\n",
    "### Simulation [simulation](https://tburnett.github.io/wtlike/simulation)\n",
    "A light curve can be also generated with a simulation.\n",
    "\n",
    "\n",
    "\n",
    "\n",
    "\n"
   ]
  },
  {
   "cell_type": "code",
   "execution_count": null,
   "metadata": {},
   "outputs": [],
   "source": []
  }
 ],
 "metadata": {
  "kernelspec": {
   "display_name": "Python 3",
   "language": "python",
   "name": "python3"
  }
 },
 "nbformat": 4,
 "nbformat_minor": 4
}
