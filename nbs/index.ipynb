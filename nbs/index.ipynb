{
 "cells": [
  {
   "cell_type": "code",
   "execution_count": null,
   "metadata": {},
   "outputs": [],
   "source": [
    "#hide\n",
    "from nbdev import *\n",
    "from utilities.ipynb_docgen import *"
   ]
  },
  {
   "cell_type": "markdown",
   "metadata": {},
   "source": [
    "# The `wtlike` package\n",
    "\n",
    "> Code for generating fermi-LAT light curves. <br>\n",
    "[github version of this document](https://tburnett.github.io/light_curves/)\n"
   ]
  },
  {
   "cell_type": "markdown",
   "metadata": {},
   "source": [
    "## Background\n",
    "\n",
    "This package has code that is being adapted to the [nbdev](https://nbdev.fast.ai/) environment from [github package lat-timing](https://github.com/tburnett/lat-timing) to manage light curves of Fermi-LAT sources.  \n",
    "\n",
    "As pointed out there, it is based on a [paper](https://arxiv.org/pdf/1910.00140.pdf) by Matthew Kerr, \n",
    "\n",
    "And at the same time, I've ported some code from  my [jupydoc](https://github.com/tburnett/jupydoc) documention package to allow enhanced documentation combining Markdown and code."
   ]
  },
  {
   "cell_type": "markdown",
   "metadata": {},
   "source": [
    "## Installation\n",
    "Currently in pre-alpha, and must be cloned. This brings up the `nbdev` stuff as well.\n",
    "\n"
   ]
  },
  {
   "cell_type": "markdown",
   "metadata": {},
   "source": [
    "\n",
    "## Module summary\n",
    "\n",
    "\n",
    "### `config` -- configuration parameters, time and source  \n",
    "\n",
    "### `lightcurve` -- The light curve\n",
    "\n",
    "The light curve can be represented by plots of flux vs. time. The time range,\n",
    "limited by 'config.mjd_range`, if set. The actual livetime, during which *Fermi* is\n",
    "collecting data, is further limited by the GTI, for good-time interval. This is a list\n",
    "of start,stop pairs.\n",
    "\n",
    "### `gti`\n",
    "\n",
    "The module [gti](/light_curves/lgti.html) defines `get_gti`.\n",
    "\n",
    "During the valid times, a the flux, or rate, is estimated by counting the number \n",
    "of photons and dividing by the exposure.\n",
    "\n",
    "The source is defined by instantiating a [PointSource(/light_curves/config#PointSource) object, defined in \n",
    "\n",
    "\n",
    "### `exposure` -- the exposure\n",
    "\n",
    "The exposure for the specified source is calculated from the  [exposure](/light_curves/exposure.html) module,\n",
    "which implements `get_exposure`. It depends on:\n",
    "\n",
    "- Space craft info (FT2)\n",
    "The FT2 file(s) contain spacecraft position and orientation as a function of time.\n",
    "\n",
    "### `effective_area` -- Efffective Area\n",
    "The module [effective_area](light_curves/effective_area.html) defines the functor class\n",
    "`EffectiveArea`, needed to calculate the exposure\n",
    "\n",
    "\n",
    "### `photon_data`\n",
    "\n",
    "### `weights`\n",
    "\n",
    "\n",
    "\n",
    "### `cells`\n",
    "\n",
    "A \"cell\" represents a time interval to measure the flux.\n",
    "\n",
    "### `bayesian`\n",
    "\n",
    "### `simulation`\n",
    "\n",
    "\n"
   ]
  },
  {
   "cell_type": "markdown",
   "metadata": {},
   "source": [
    "Dependencies:\n",
    "```\n",
    "- simulation: loglike, exposure, lightcurve\n",
    "\n",
    "- bayesian: lightcurve, cells\n",
    "\n",
    "- lightcurve: loglike, cells\n",
    "\n",
    "- loglike:  poisson\n",
    "\n",
    "- cells: photon_data, weigths, exposure\n",
    "\n",
    "- weights: photon_data\n",
    "\n",
    "- photon_data: gti\n",
    "\n",
    "- exposure: gti, effective_area\n",
    "```\n"
   ]
  }
 ],
 "metadata": {
  "kernelspec": {
   "display_name": "Python 3",
   "language": "python",
   "name": "python3"
  }
 },
 "nbformat": 4,
 "nbformat_minor": 4
}
