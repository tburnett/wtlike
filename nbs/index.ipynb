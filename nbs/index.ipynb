{
 "cells": [
  {
   "cell_type": "code",
   "execution_count": null,
   "metadata": {},
   "outputs": [],
   "source": [
    "#hide\n",
    "from nbdev import *\n",
    "from utilities.ipynb_docgen import *"
   ]
  },
  {
   "cell_type": "markdown",
   "metadata": {},
   "source": [
    "# Making FermiLAT gamma-ray light curves with wtlike \n",
    "\n",
    "> Quickly create a light curve for any 4FGL source, on any time scale, with optional Bayesian Block analysis "
   ]
  },
  {
   "cell_type": "markdown",
   "metadata": {},
   "source": [
    "#### github links:  \n",
    "[this document](https://tburnett.github.io/wtlike/),   [the repository](https://github.com/tburnett/wtlike)\n",
    "\n",
    "## Introduction\n",
    "`wtlike`(Perhaps pronounced \"DUB-Tee-like\"), is a library optimized for interactive exploration in a [Jupyter notebook](https://jupyter.org/) with access to all Fermi-LAT data, and to analyze the time dependence of any source in the\n",
    "4FGL catalog on any time scale, with the option of performing a [Bayesian Block](https://arxiv.org/pdf/1207.5578.pdf)  partition to select optimal time intervals. The source can be identified by the 4FGL name, or any equivalent common name.\n",
    "\n",
    "Here is a minimal demo:"
   ]
  },
  {
   "cell_type": "code",
   "execution_count": null,
   "metadata": {},
   "outputs": [
    {
     "name": "stdout",
     "output_type": "stream",
     "text": [
      "SourceData: week_range: (9, 165)\n",
      "SourceData:  3C 273: Restoring from cache with key \"P88Y3157_weeks_9-165\"\n",
      "SourceData: Source 3C 273 with:\n",
      "\t data:        35,895 photons from 2008-08-04 to 2011-08-03\n",
      "\t exposure:   713,330 intervals,  average effective area 2783 cm^2 for 21.3 Ms\n",
      "\t rates:  source 2.05e-07/s, background 4.00e-07/s, TS 30341.0\n",
      "CellData.rebin: Bin photon data into 156 1-week bins from 54683.0 to 55775.0\n",
      "LightCurve: select 156 cells for fitting with e>35 & n>2\n",
      "elapsed time: 0.8s (0.0 min)\n"
     ]
    }
   ],
   "source": [
    "from wtlike import *\n",
    "config = Config()\n",
    "if config.valid:\n",
    "    with Timer() as t:\n",
    "        wtl = WtLike('3C 273',week_range=(9,3*52+9))\n",
    "        print(t)"
   ]
  },
  {
   "cell_type": "markdown",
   "metadata": {},
   "source": [
    "This created a `WtLike` object, loading the first 3 years of data, by specifying weeks from #9, the first data-taking week.\n",
    "The reason to specify only the first three years here is to avoid the 10 min or so that extracting the furl 13+ years would take for this demo. If that had already been done, then using an included [cache system](https://tburnett.github.io/wtlike/config.html#Cache), it only has to be done once.\n",
    "\n",
    "Now ask it to make a plot:"
   ]
  },
  {
   "cell_type": "code",
   "execution_count": null,
   "metadata": {},
   "outputs": [
    {
     "data": {
      "image/png": "[encoded data removed]",
      "text/plain": [
       "<Figure size 864x288 with 1 Axes>"
      ]
     },
     "metadata": {},
     "output_type": "display_data"
    }
   ],
   "source": [
    "wtl.plot(UTC=1);"
   ]
  },
  {
   "cell_type": "markdown",
   "metadata": {},
   "source": [
    "This assumes that the name for the source, in this case the historically famous first [quasar](https://en.wikipedia.org/wiki/Quasar#Background) to be discovered, can be associated with a 4FGL catalog source. The plot shows, as a function of UTC (or MJD if desired) time, weekly measurements of deviations of the flux relative to the average of the 12-year interval used to define the 4FGL-DR3 catalog.\n",
    "\n"
   ]
  },
  {
   "cell_type": "markdown",
   "metadata": {},
   "source": [
    "## Overview\n",
    "\n",
    "This package has code that was developed with the [nbdev](https://nbdev.fast.ai/) code/tests/documentation environment from the [github package lat-timing](https://github.com/tburnett/lat-timing) to generate light curves of Fermi-LAT sources.  \n",
    "It is based on a [paper](https://arxiv.org/pdf/1910.00140.pdf) by Matthew Kerr, which derives the [weighted likelihood formalism](https://tburnett.github.io/wtlike/loglike#The-Kerr-likelihood-formula) used here, specifically with\n",
    "the [Bayesian Block](https://arxiv.org/pdf/1207.5578.pdf) to detect and characterize variability of a gamma-ray source.\n",
    "\n",
    "There are several innovative design features that significantly improve the speed and portability.\n",
    "\n",
    "* Condensed photon and spacecraft data. \n",
    "* Weight tables\n",
    "* A cache to improve interactivity\n",
    "* Likelihood functions fit to a modified Poisson function\n",
    "* Unbinned likelihood \n",
    "* A simple user interface\n"
   ]
  },
  {
   "cell_type": "markdown",
   "metadata": {},
   "source": [
    "### How it works\n",
    "\n",
    "Historically, gamma-ray source measurements have used two methods:\n",
    "1. For a fixed time interval, where the energy and \n",
    "position are used, with a model including all potential sources and a model of the detector response to \n",
    "define the likelihood. This has been the only way to study weak sources. A light curve must apply this to\n",
    "each time interval.\n",
    "2. Or, for very bright flares, for example GRBs or AGN flares, one can simply count the number of photons within a\n",
    "circular region, that is, aperture photometry.\n",
    "\n",
    "Matthew Kerr [introduced](https://arxiv.org/pdf/1910.00140.pdf) a third method, basically counting photons but using information from a static\n",
    "likelihood analysis to assign a \"weight\" to each photon, the probability for being from the source in question, then optimizing this likelihood. This assumes that the only thing changing is the flux of\n",
    "the source.  He calls it \"retrospective\", since the analysis for the full time is then applied back to the individual photons. Another way of looking at it is to make the assumption that the time dependence of a source's photon flux factorizes according to the energy and spatitial dependences.  "
   ]
  },
  {
   "cell_type": "markdown",
   "metadata": {},
   "source": [
    "### Likelihood evaluation\n",
    "\n",
    "In a significant modification from Kerr's implemetation as described in that paper, we evaluate weights for each photon by a table lookup.\n",
    "\n",
    "Assumptions:\n",
    "* Source photons are completely contained in the dataset boundaries (the \"ROI\").\n",
    "* The instrument response is constant with time.\n",
    "* The background pattern is constant. (Clearly violated if a neighboring source varies!)\n",
    "\n",
    "The likelihood evaluation is implemented in the module  [loglike](https://tburnett.github.io/wtlike/loglike)."
   ]
  },
  {
   "cell_type": "markdown",
   "metadata": {},
   "source": [
    "### Photon Data\n",
    "\n",
    "*Fermi* data are retrieved from the Fermi-LAT weekly data files extracted from the [GSFC FTP server](https://heasarc.gsfc.nasa.gov/FTP/fermi/data/lat/weekly), \n",
    "with subfolders for the photon data, `photon` and spacecraft data, `spacecraft`. It is [described here](http://fermi.gsfc.nasa.gov/ssc/data/access/http://fermi.gsfc.nasa.gov/ssc/data/access/). The files are organized into individual weeks, starting UTC midnight each Thursday. Files for the most recent week are updated daily.\n",
    "\n",
    "We convert each pair of photon and spacecraft files to two DataFrame tables with the minimum information needed to evaluate the likelihood, as compressed as possible. Particularly, the energy and position are binned. Details can be seen in the module [data_man](https://tburnett.github.io/wtlike/data_man).  \n",
    "\n",
    "The entire data set (SOURCE class, energy>100 MeV) in this format occupies ~2 GB."
   ]
  },
  {
   "cell_type": "markdown",
   "metadata": {},
   "source": [
    "### Select Data for a source\n",
    "\n",
    "All further processing uses a subset of the photons within a cone, currently $4^\\circ$, about the selected source, and \n",
    "evaluates the exposure during 30-s intervals for this direction.  In the class\n",
    "[`SourceData`](https://tburnett.github.io/wtlike/source_data#SourceData), implemented in the module \n",
    "[`source_data`](https://tburnett.github.io/wtlike/source_data) we\n",
    "1. Extract photons\n",
    "2. Evaluate exposure, using the effective area tables and a spectral assumption.\n",
    "3. Determine the weight for each photon, using the table for the source. See the module [weights](https://tburnett.github.io/wtlike/weights) for details.\n",
    "\n",
    "The result is a photon DataFrame, containing for each photon, the time $t$ in MJD units, $w$.\n",
    "\n",
    "This class is a superclass of the user interface class `WtLike` introduced above."
   ]
  },
  {
   "cell_type": "markdown",
   "metadata": {},
   "source": [
    "### Partition into cells\n",
    "\n",
    "A \"cell\", the terminology used by Kerr, the set of photons in a specific time interval. The class \n",
    "[CellData](https://tburnett.github.io/wtlike/cell_data#CellData)\n",
    "in the module [cell_data](https://tburnett.github.io/wtlike/cell_data), a subclass of SourceData manages this.\n",
    "\n",
    "This class is instantiated with a tuple to define the binning in time. Denoted by `(a, b, c)`, the elements are:\n",
    "* `a`--start time \n",
    "* `b`--stop time\n",
    "* `c`-- bin size in days, but 0 means orbit-based, intervals are contiguous eposure.\n",
    "\n",
    "For the start and stop, values > 50000 are interpreted as MJD. Otherwise they are relative to start if positive\n",
    "or stop if negative for the full dataset, both rounded to a full day. Zero means actual start for `a` and stop for `b`.\n",
    "The default binning is simply `(0, 0, 7)` for weekly bins with the full dataset. Hourly for the most recent week would be `(-7, 0, 1/24)`.\n",
    "\n",
    "A DataFrame table of the cells is created as a data member `cells`, with content\n",
    "\n",
    "* `t` -- MJD time at cell center\n",
    "* `tw` -- cell width in days\n",
    "* `e` -- cell exposure, for reference \n",
    "* `n` -- the number of photons\n",
    "* `w` -- a list of `n` weights\n",
    "* `S` -- expected number source photons, the nominal source rate times the total exposure.\n",
    "* `B` -- expected number of background photons (unused)\n",
    "\n",
    "### Views\n",
    "\n",
    "`CellData` implements a method `view`, which accepts a binning tuple as an argument, returns a *copy* of the current object, which can be a subclass, assigning to it the binning. Thus the view has all the attributes of its parent, but\n",
    "with a different set of cells. \n",
    "\n",
    "So the following creates a new WtLike object that we generated above, rebins a copy with 25-day bins in the first 100 days, generates a list of the cells, then removes it since it wasn't assigned a reference variable.\n"
   ]
  },
  {
   "cell_type": "code",
   "execution_count": null,
   "metadata": {},
   "outputs": [
    {
     "name": "stdout",
     "output_type": "stream",
     "text": [
      "CellData.rebin: Bin photon data into 4 25-day bins from 54683.0 to 54783.0\n",
      "LightCurve: select 4 cells for fitting with e>125 & n>2\n",
      "         t    tw            e       ctm     n  \\\n",
      "0  54695.5  25.0  1488.251709  0.670376   616   \n",
      "1  54720.5  25.0  1868.208862  0.681914  1523   \n",
      "2  54745.5  25.0  1450.841553  0.679041  1281   \n",
      "3  54770.5  25.0  1929.609741  0.682303  1258   \n",
      "\n",
      "                                                   w           S           B  \n",
      "0  [4.8901367e-01, 0.7885742, 0.11303711, 0.19165...  305.076996  595.216980  \n",
      "1  [0.4345703, 0.6064453, 0.0690918, 0.062561035,...  382.964508  747.178467  \n",
      "2  [0.33911133, 0.3100586, 0.6225586, 0.06994629,...  297.408295  580.255005  \n",
      "3  [0.09112549, 0.58251953, 0.07537842, 0.3457031...  395.551086  771.735352  \n"
     ]
    }
   ],
   "source": [
    "if config.valid:\n",
    "    print(wtl.view(0,100,25).cells)"
   ]
  },
  {
   "cell_type": "markdown",
   "metadata": {},
   "source": [
    "### Evaluate Likelihoods and make light curve plots\n",
    "\n",
    "The class [`LightCurve`](https://tburnett.github.io/wtlike/lightcurve), implemented in the module [`lightcurve`](https://tburnett.github.io/wtlike#LightCurve) is a subclass of `SourceData`.\n",
    "An instance invokes its superclass to generate the set of cells, then evaluates the likelihoods.\n",
    "\n",
    "#### Poisson-like Likelihood\n",
    "We fit the likelihood for each cell, using only a few evaluations, to a [3-parameter Poisson-like formula](https://tburnett.github.io/poisson). Two advantages of this are:\n",
    "* efficiency -- for large numbers of photons, this is much faster\n",
    "* convenience -- the [`Poisson`](https://tburnett.github.io/wtlike/poisson.html#Poisson) object implements functions that return the TS, 95% CL, maximum, and uncertainties, using the [incomplete gamma function](https://docs.scipy.org/doc/scipy/reference/generated/scipy.special.gammainc.html).\n",
    "\n",
    "This results in a DataFrame `fits` containing\n",
    "* `t, tw, n`, from the cell, and\n",
    "* `fit`, the `Poisson` object\n",
    "\n",
    "#### Light curve plots\n",
    "\n",
    "The function `Likelihood.plot` actually invokes [`flux_plot`](https://tburnett.github.io/lightcurve#flux_plot)"
   ]
  },
  {
   "cell_type": "markdown",
   "metadata": {},
   "source": [
    "### Apply Bayesian Blocks\n",
    "The class [`WtLike`](https://tburnett.github.io/wtlike/90-main.html#WtLike), \n",
    "implememted in the module [`main`](https://tburnett.github.io/wtlike/90-main.html), adds an implementation of the Bayesian Block (BB) algorithm, from the module [`bayesian`](https://tburnett.github.io/wtlike)  using likelihood instead of counts.\n",
    "There we have two subclasses of `astropy.stats.bayesian_blocks`, [`CountFitness`](https://tburnett.github.io/wtlike/bayesian.html#CountFitness) and the default [`LikelihoodFitness`](https://tburnett.github.io/wtlike/bayesian.html#LikelihoodFitness).\n",
    "    \n",
    "This code creates partitions between boundaries of a set of cells. Usage is via a special view, \n",
    "[bb_view`](https://tburnett.github.io/wtlike/main#WtLike.bb_view)\n",
    "                     "
   ]
  },
  {
   "cell_type": "code",
   "execution_count": null,
   "metadata": {},
   "outputs": [
    {
     "name": "stdout",
     "output_type": "stream",
     "text": [
      "Bayesian Blocks: partitioning 156 cells using LikelihoodFitness with penalty 5%\n",
      "\tfound 43 / 156 blocks.\n",
      "LightCurve: Loaded 43 / 43 cells for fitting\n"
     ]
    },
    {
     "data": {
      "image/png": "[encoded data removed]",
      "text/plain": [
       "<Figure size 864x288 with 1 Axes>"
      ]
     },
     "metadata": {},
     "output_type": "display_data"
    }
   ],
   "source": [
    "if config.valid:\n",
    "    bb = wtl.bb_view()\n",
    "    bb.plot(UTC=1);"
   ]
  },
  {
   "cell_type": "markdown",
   "metadata": {},
   "source": [
    "As you see, this made 94 blocks from the 656 weeks, fit each, and overplotted in on the weekly light curve."
   ]
  },
  {
   "cell_type": "markdown",
   "metadata": {},
   "source": [
    "### Simulation\n",
    "\n",
    "Finally, a simulation option is available. See the [tutorial](https://tburnett.github.io/wtlike/tutorial/)  for an example"
   ]
  },
  {
   "cell_type": "markdown",
   "metadata": {},
   "source": [
    "## Installation\n",
    "\n",
    "Note that this is in beta mode. \n",
    "It depends on the packages:  matplotlib, pandas, scipy, astropy, and healpy, which pip should install if needed.\n",
    "\n",
    "To install from pyPI:\n",
    "\n",
    "```\n",
    "pip install wtlike\n",
    "```\n",
    "\n",
    "or\n",
    "```\n",
    "pip install -U wtlike\n",
    "```\n",
    "to upgrade."
   ]
  },
  {
   "cell_type": "markdown",
   "metadata": {},
   "source": [
    "## Input data\n",
    "\n",
    "There are three data sources which `wtlike` needs to function:\n",
    "\n",
    "\n",
    "-\tThe photon/spacecraft data\n",
    "-\tA table of weights for each source\n",
    "-\tAn effective area IRF table \n",
    "\n",
    "These must be found under a folder, which by default is `~/wtlike_data`. In that folder there must be (perhaps links to) three folders named `data_files`, `weight_files`, `aeff_files`, and a zip file, `weight_file.zip`.  A copy of what I'm using is at `/afs/slac/g/glast/users/burnett/wtlike_data`"
   ]
  },
  {
   "cell_type": "code",
   "execution_count": null,
   "metadata": {},
   "outputs": [],
   "source": []
  }
 ],
 "metadata": {
  "kernelspec": {
   "display_name": "Python 3 (ipykernel)",
   "language": "python",
   "name": "python3"
  }
 },
 "nbformat": 4,
 "nbformat_minor": 4
}
