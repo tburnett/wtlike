{
 "cells": [
  {
   "cell_type": "code",
   "execution_count": null,
   "metadata": {},
   "outputs": [],
   "source": [
    "#hide\n",
    "from nbdev import *\n",
    "from utilities.ipynb_docgen import *"
   ]
  },
  {
   "cell_type": "markdown",
   "metadata": {},
   "source": [
    "# The `wtlike` package\n",
    "\n",
    "> Code for generating fermi-LAT light curves."
   ]
  },
  {
   "cell_type": "markdown",
   "metadata": {},
   "source": [
    "### GitHub Links\n",
    "\n",
    "- [this document](https://tburnett.github.io/wtlike/)\n",
    "-  [repository](https://github.com/tburnett/wtlike)\n",
    "\n",
    "## Context\n",
    "\n",
    "This package has code that was adapted to the [nbdev](https://nbdev.fast.ai/) code/tests/documentation environment from the [github package lat-timing](https://github.com/tburnett/lat-timing) to manage light curves of Fermi-LAT sources.  \n",
    "It is based on a [paper](https://arxiv.org/pdf/1910.00140.pdf) by Matthew Kerr, which derives the [weighted likelihood formalism](/loglike.html#The-Kerr-likelihood-formula) used here, specifically with\n",
    "the [Bayesian Block](https://arxiv.org/pdf/1207.5578.pdf) to detect and characterize variability of a gamma-ray source.\n",
    "\n",
    "Also, I've ported some code from  my [jupydoc](https://github.com/tburnett/jupydoc) documentation package supporting enhanced documentation combining Markdown and code, such that the \n",
    "Markdown reflects execution of the code."
   ]
  },
  {
   "cell_type": "markdown",
   "metadata": {},
   "source": [
    "## Installation\n",
    "Currently in pre-alpha, and must be cloned. This brings up the `nbdev` stuff as well.\n",
    "\n"
   ]
  },
  {
   "cell_type": "markdown",
   "metadata": {},
   "source": [
    "## Module summary\n",
    "\n",
    "### Primary ingredients:\n",
    "\n",
    "- **Photon data**: time, energy, and position. This is managed as a [Parquet](https://parquet.apache.org/) database, derived from the public _Fermi_-LAT data. Modules are [`photon_data`](/wtlike/photon_data) and `data_man`.\n",
    "\n",
    "- **Exposure**: Need to normalize expected rates as a function of time, position, and energy. Modules: [`exposure`](/wtlike/exposure.html), [`effective_area`](/wtlike/effective_area.html), and [`gti`](/wtlike/gti.html).\n",
    "\n",
    "- **Weights**: for each photon, this is the probability that it was from a specific source. This requires an analysis of all the souces in the region about the source, involving `gtlike` or `pointlike`. Module `weights` finds the data for a the source, and adds it to the photon list.\n",
    "\n",
    "### The light-curve \n",
    "The module `cells` creates a list of \"cells\", time intervals with a list of the photon weights, and an estimation from the exposure about the expected distribution. \n",
    "Each cell is fit using the modules `loglike` and `poisson`.\n",
    "Finally, `lightcurve` makes a list of the fits.\n",
    "\n",
    "### Simulation\n",
    "A light curve can be also generated with a simulation, see `simulation`.\n",
    "\n",
    "### Bayesian Blocks\n",
    "The `bayesian` module creates a partition, and refits the blocks.\n",
    "\n",
    "\n",
    "\n"
   ]
  },
  {
   "cell_type": "code",
   "execution_count": null,
   "metadata": {},
   "outputs": [],
   "source": []
  }
 ],
 "metadata": {
  "kernelspec": {
   "display_name": "Python 3",
   "language": "python",
   "name": "python3"
  }
 },
 "nbformat": 4,
 "nbformat_minor": 4
}
