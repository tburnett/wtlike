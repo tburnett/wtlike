{
 "cells": [
  {
   "cell_type": "code",
   "execution_count": null,
   "metadata": {},
   "outputs": [],
   "source": [
    "# default_exp data_man\n",
    "%reload_ext autoreload\n",
    "%autoreload 2\n",
    "from nbdev.showdoc import *\n",
    "from utilities.ipynb_docgen import *"
   ]
  },
  {
   "cell_type": "markdown",
   "metadata": {},
   "source": [
    "# Data management--build `data_man`\n",
    "> Create, from FT1 and FT2, a compact data set with photon and livetime info."
   ]
  },
  {
   "cell_type": "markdown",
   "metadata": {},
   "source": [
    "## Overview\n",
    "\n",
    "Fermi-LAT weekly data files are extracted from the [GSFC FTP server ](https://heasarc.gsfc.nasa.gov/FTP/fermi/data/lat/weekly), \n",
    "with subfolders for the photon data, `photon` and spacecraft data, `spacecraft`. It is [described here](http://fermi.gsfc.nasa.gov/ssc/data/access/http://fermi.gsfc.nasa.gov/ssc/data/access/)\n",
    "\n",
    "The class `FermiData` downloads these to temporary files and constructs a dict for each week with\n",
    "contents\n",
    "\n",
    "* photons: a table, one entry per selected photon with columns, converted with `get_ft1_data`\n",
    "  * `run_ref` (uint8), index into the `runs` list\n",
    "  * time since the run start, in 2 $\\mu$s intervals  (uint32)\n",
    "  * energy and event type (uint8)\n",
    "  * position as HEALPix index with nside, nest from Config, currently 1024, True (uint32) \n",
    "  \n",
    "* sc_data: a table, one entry per 30-s interval, with columns, all float32, converted with `get_ft2_info`\n",
    "  * start/stop time \n",
    "  * S/C direction \n",
    "  * zenith direction\n",
    "* runs list of run numbers\n",
    "* gti_times: an array of interleaved start/stop intervals\n",
    "* file_date: modification date for the FT1 file at GSFC.\n",
    "\n",
    "These dict objects are saved in a folder specfied by `Config().datapath`. Its contents can be \n",
    "checked with `check_data`, and updated using `update_data`.  The contents of a week can be visually \n",
    "inspected with `plot_week`."
   ]
  },
  {
   "cell_type": "markdown",
   "metadata": {},
   "source": [
    "### Run numbers and timing\n",
    "\n",
    "The run number is an integer correspnding to the MET at the start of the run. For a week, with 15 orbits/day, we \n",
    "expect ~105 runs. We save a table of the run numbers per week, and use a uint8 index in the photon table.\n",
    "\n",
    "A run is typically an orbit or less, at most 6 ks. Integerizing the offset from the run start, or the run number, using 32 bits, one has 5e5 intervals/s, so we choose 2$\\mu$s. Thus we generate the time for each event from three sources: the 2$\\mu$s time offset for the run, the index of the run number into the  runs table, and the runs table itself.\n"
   ]
  },
  {
   "cell_type": "code",
   "execution_count": null,
   "metadata": {},
   "outputs": [],
   "source": [
    "# export\n",
    "import os, sys, pickle\n",
    "import dateutil, datetime\n",
    "from astropy.io import fits\n",
    "from ftplib import FTP_TLS as FTP\n",
    "\n",
    "import healpy\n",
    "from pathlib import Path\n",
    "import numpy as np\n",
    "import matplotlib.pyplot as plt\n",
    "\n",
    "from wtlike.config import Config, Timer, UTC, MJD, mjd_range, mission_week"
   ]
  },
  {
   "cell_type": "markdown",
   "metadata": {},
   "source": [
    "## GTI\n",
    "GTI, for Good Time Interval, is a mechanism to select event times, and corresponding spacecraft \n",
    "information if exposure is needed.\n",
    "There is a section for this information in the FT1 photon data files, but, for the GSFC-generated\n",
    "weekly files we use here, we do not use it, since the \n",
    "photon data itself respects it, as do the space craft information in the FT2 files. This code is intended to support external use."
   ]
  },
  {
   "cell_type": "code",
   "execution_count": null,
   "metadata": {},
   "outputs": [],
   "source": [
    "# export\n",
    "\n",
    "class GTI(object):\n",
    "    \"\"\" Define a functor that returns acceptability of times\n",
    "    \n",
    "    gti_file: a FITS file name with columns START,STOP, MET times in HDU[1]\n",
    "    \"\"\"    \n",
    "    def __init__(self,\n",
    "                 gti_file:'Name of file containing a GTI',\n",
    "\n",
    "                 config:'Config | None'=None):\n",
    "\n",
    "        from astropy.io import fits\n",
    "        \n",
    "        config = config or Config()\n",
    "        self.gti_file = gti_file\n",
    "        filepath = gti_file if Path(gti_file).is_file() else Path(config.datapath)/gti_file\n",
    "        assert filepath.is_file(), f'Input filename \"{gti_file}\" is not a file.'\n",
    "        with  fits.open(filepath.absolute()) as hdus:\n",
    "            gti_data = hdus['GTI'].data\n",
    "        \n",
    "        # make an interleaved (start,stop) array describing the \"bad\" intervals\n",
    "        a,b = sorted(gti_data.START), sorted(gti_data.STOP)\n",
    "        self.times = MJD(np.ravel(np.column_stack((a,b))))[1:-1] #remove first, last\n",
    "        \n",
    "        assert np.all(np.diff(self.times)>0), f'Bad input data from {gti_file} expect ascending time values.'\n",
    "        \n",
    "    def plot(self, ax=None, **kwargs):\n",
    "        \"\"\" plot exclusion time and duration\n",
    "        \"\"\"        \n",
    "        fstart = self.times[0::2]\n",
    "        delta = np.diff(self.times)[::2]\n",
    "        fig, ax = plt.subplots(figsize=(8,2)) if ax is None else (ax.figure, ax)\n",
    "        ax.semilogy(fstart, delta, '+');\n",
    "        ax.grid(alpha=0.5)\n",
    "        kw= dict(xlabel='MJD', xlim=(54500, 60000),ylabel='Duration (d)', \n",
    "                 title=f'{self.gti_file}: {len(fstart)} exclusions')\n",
    "        kw.update(kwargs)\n",
    "        ax.set(**kw)\n",
    "        \n",
    "    def add(self, other):\n",
    "        \"\"\"Combine with another GTI.\n",
    "        Require that there is no overlap of the excluded regions.\n",
    "        \"\"\"\n",
    "        assert np.all(self(other.times)), 'Can only combine if no overlaps of excluded regions'\n",
    "        self.times = np.sort(np.hstack([self.times, other.times]))\n",
    "        self.gti_file += ('+ '+other.gti_file)\n",
    "        \n",
    "    def __repr__(self):\n",
    "        return f'GTI {self.gti_file} has {len(self.times)//2}'\\\n",
    "                f' excluded intervals, total {np.sum(np.diff(self.times)[0::2]):.3f} d.'\n",
    "    def __str__(self): return self.__repr__()\n",
    "\n",
    "    def __call__(self, times:'array of MJD times'):\n",
    "        \"\"\"\n",
    "        return array of bool for accepability of times \n",
    "        \"\"\"\n",
    "        # searchsorted index must be even\n",
    "        return np.searchsorted(self.times, times) & 1 ==0\n"
   ]
  },
  {
   "cell_type": "code",
   "execution_count": null,
   "metadata": {},
   "outputs": [
    {
     "data": {
      "text/markdown": [
       "<h3 id=\"GTI\" class=\"doc_header\"><code>class</code> <code>GTI</code><a href=\"\" class=\"source_link\" style=\"float:right\">[source]</a></h3>\n",
       "\n",
       "> <code>GTI</code>(**`gti_file`**:`Name of file containing a GTI`, **`config`**:`Config | None`=*`None`*)\n",
       "\n",
       "Define a functor that returns acceptability of times\n",
       "\n",
       "gti_file: a FITS file name with columns START,STOP, MET times in HDU[1]"
      ],
      "text/plain": [
       "<IPython.core.display.Markdown object>"
      ]
     },
     "metadata": {},
     "output_type": "display_data"
    },
    {
     "data": {
      "text/markdown": [
       "<h4 id=\"GTI.__call__\" class=\"doc_header\"><code>GTI.__call__</code><a href=\"__main__.py#L54\" class=\"source_link\" style=\"float:right\">[source]</a></h4>\n",
       "\n",
       "> <code>GTI.__call__</code>(**`times`**:`array of MJD times`)\n",
       "\n",
       "return array of bool for accepability of times "
      ],
      "text/plain": [
       "<IPython.core.display.Markdown object>"
      ]
     },
     "metadata": {},
     "output_type": "display_data"
    }
   ],
   "source": [
    "show_doc(GTI,title_level=3)\n",
    "show_doc(GTI.__call__)"
   ]
  },
  {
   "cell_type": "code",
   "execution_count": null,
   "metadata": {},
   "outputs": [
    {
     "data": {
      "text/markdown": [
       " ### Check GTI for week 726\n",
       "__FT1__<br>\n",
       "This file defines a GTI that should be applied to the data, and corresponding spacecraft (FT2) info.\n",
       "\n",
       "For GSFC weekly files it is redundant since it has already been applied. I check that here.\n",
       "\n"
      ],
      "text/plain": [
       "<utilities.ipynb_docgen.doc_formatter.<locals>.MimeBundleObject at 0x7f429c38f7c0>"
      ]
     },
     "metadata": {},
     "output_type": "display_data"
    },
    {
     "name": "stdout",
     "output_type": "stream",
     "text": [
      "Filename: /tmp/from_gsfc/week726_ft1.fits\n",
      "No.    Name      Ver    Type      Cards   Dimensions   Format\n",
      "  0  PRIMARY       1 PrimaryHDU      31   ()      \n",
      "  1  EVENTS        1 BinTableHDU    199   1557075R x 23C   [E, E, E, E, E, E, E, E, E, D, J, J, I, 3I, 32X, 32X, I, D, E, E, E, E, E]   \n",
      "  2  GTI           1 BinTableHDU     46   106R x 2C   [D, D]   \n",
      "None\n",
      "GTI /tmp/from_gsfc/week726_ft1.fits has 105 excluded intervals, total 1.002 d.\n",
      "Event times: 1,557,075 events from 59697.02 to 59704.01\n",
      "GTI fails:           0 events\n"
     ]
    },
    {
     "data": {
      "text/markdown": [
       "__FT2__"
      ],
      "text/plain": [
       "<utilities.ipynb_docgen.doc_formatter.<locals>.MimeBundleObject at 0x7f426716eca0>"
      ]
     },
     "metadata": {},
     "output_type": "display_data"
    },
    {
     "name": "stdout",
     "output_type": "stream",
     "text": [
      "Filename: /tmp/from_gsfc/week726_ft2.fits\n",
      "No.    Name      Ver    Type      Cards   Dimensions   Format\n",
      "  0  PRIMARY       1 PrimaryHDU      28   ()      \n",
      "  1  SC_DATA       1 BinTableHDU    157   17319R x 31C   [D, D, 3E, E, E, D, E, E, E, E, E, E, L, E, E, E, E, E, E, E, J, B, I, D, D, D, D, D, E, E, 3E]   \n",
      "None\n",
      "FT2 times: 17,319 intervals from 59697.02 to 59704.01\n",
      "GTI fails:      0\n"
     ]
    },
    {
     "data": {
      "image/png": "[encoded data removed]",
      "text/plain": [
       "<Figure size 576x144 with 1 Axes>"
      ]
     },
     "metadata": {
      "needs_background": "light"
     },
     "output_type": "display_data"
    }
   ],
   "source": [
    "# hide\n",
    "week = '726'\n",
    "display_markdown(f\"\"\" ### Check GTI for week {week}\n",
    "__FT1__<br>\n",
    "This file defines a GTI that should be applied to the data, and corresponding spacecraft (FT2) info.\n",
    "\n",
    "For GSFC weekly files it is redundant since it has already been applied. I check that here.\n",
    "\n",
    "\"\"\")\n",
    "ft1_file = Path(f'/tmp/from_gsfc/week{week}_ft1.fits').absolute()\n",
    "if not ft1_file.exists():\n",
    "    print(f'File {ft1_file} not present.')\n",
    "else:\n",
    "    with fits.open(ft1_file) as ft1:\n",
    "        print(ft1.info())\n",
    "        gti = GTI(ft1_file)\n",
    "        print(gti)\n",
    "        t1 = MJD(ft1['EVENTS'].data.TIME) \n",
    "    gti.plot(xlim=None)\n",
    "    print(f'Event times: {len(t1):9,} events from {t1.min():.2f} to {t1.max():.2f}')\n",
    "    print(f'GTI fails:   {sum(~gti(t1)):9} events')\n",
    "    \n",
    "    display_markdown('__FT2__')\n",
    "    ft2_file = Path(f'/tmp/from_gsfc/week{week}_ft2.fits')\n",
    "    with fits.open(ft2_file.absolute()) as ft2:\n",
    "        print(ft2.info())\n",
    "        ft2_data = ft2['SC_DATA'].data\n",
    "        t2 = MJD((ft2_data.START+ft2_data.STOP)/2)\n",
    "    print(f'FT2 times: {len(t2):6,} intervals from {t2.min():.2f} to {t2.max():.2f}')\n",
    "    print(f'GTI fails: {sum(~gti(t2)):6d}')\n"
   ]
  },
  {
   "cell_type": "markdown",
   "metadata": {},
   "source": [
    "### Apply an external GTI\n",
    "\n",
    "Copied the files nogrb.gti and nosolorflares.gti from /nfs/farm/g/glast/g/catalog/P8_P305 to config.datapath"
   ]
  },
  {
   "cell_type": "code",
   "execution_count": null,
   "metadata": {},
   "outputs": [
    {
     "data": {
      "text/markdown": [
       "#### Test GTI with gti files"
      ],
      "text/plain": [
       "<utilities.ipynb_docgen.doc_formatter.<locals>.MimeBundleObject at 0x7f4266ca1a30>"
      ]
     },
     "metadata": {},
     "output_type": "display_data"
    },
    {
     "name": "stdout",
     "output_type": "stream",
     "text": [
      "GTI nogrb.gti has 36 excluded intervals, total 0.472 d.\n",
      "GTI nosolarflares.gti has 28 excluded intervals, total 6.750 d.\n",
      "GTI nogrb.gti+ nosolarflares.gti has 64 excluded intervals, total 7.222 d.\n"
     ]
    },
    {
     "data": {
      "image/png": "[encoded data removed]",
      "text/plain": [
       "<Figure size 720x432 with 3 Axes>"
      ]
     },
     "metadata": {
      "needs_background": "light"
     },
     "output_type": "display_data"
    }
   ],
   "source": [
    "# hide \n",
    "def GTI_test():\n",
    "    import matplotlib.pyplot as plt\n",
    "    display_markdown('#### Test GTI with gti files')\n",
    "    fig, (ax1,ax2, ax3) = plt.subplots(nrows=3, figsize=(10,6), sharex=True)\n",
    "    plt.subplots_adjust(hspace=0.4)\n",
    "\n",
    "    a = GTI('nogrb.gti'); print(a)\n",
    "    a.plot(ax=ax1,xlabel='')\n",
    "    b = GTI('nosolarflares.gti'); print(b)\n",
    "    b.plot(ax=ax2, xlabel='')\n",
    "    a.add(b); print(a)\n",
    "    a.plot(ax=ax3)\n",
    "GTI_test()"
   ]
  },
  {
   "cell_type": "code",
   "execution_count": null,
   "metadata": {},
   "outputs": [
    {
     "data": {
      "text/markdown": [
       "## FT1 and FT2 -- data access\n",
       "\n",
       "Fermi data is distributed in two FITS file formats:\n",
       "- FT1: photon data\n",
       "- FT2: spacecraft history\n"
      ],
      "text/plain": [
       "<utilities.ipynb_docgen.doc_formatter.<locals>.MimeBundleObject at 0x7f4266b38520>"
      ]
     },
     "metadata": {},
     "output_type": "display_data"
    }
   ],
   "source": [
    "display_markdown(\"\"\"\\\n",
    "## FT1 and FT2 -- data access\n",
    "\n",
    "Fermi data is distributed in two FITS file formats:\n",
    "- FT1: photon data\n",
    "- FT2: spacecraft history\n",
    "\"\"\")"
   ]
  },
  {
   "cell_type": "code",
   "execution_count": null,
   "metadata": {},
   "outputs": [],
   "source": [
    "# export\n",
    "def get_ft1_data( config, ft1_file):\n",
    "\n",
    "    \"\"\"\n",
    "    Read in a photon data (FT1) file, bin in energy and position to convert to a compact table\n",
    "\n",
    "    - `ft1_file` -- A weekly file from GSFC\n",
    "\n",
    "    Depends on config items\n",
    "    - `theta_cut, z_cut` -- selection criteria\n",
    "    - `ebins, etypes` -- define band index\n",
    "    - `nside, nest` -- define HEALPix binning\n",
    "\n",
    "    Returns a dict with keys\n",
    "\n",
    "    - `tstart`, the start MET time from the FT1 header\n",
    "\n",
    "    - `photons`: a dict with keys and entries for each selected photon\n",
    "       - `band` (uint8):    energy band index*2 + 0,1 for Front/Back\n",
    "       - `nest_index`  if nest else `ring_index` (uint32): HEALPIx index for the nside\n",
    "       - `run_ref` (uint8) reference to the run number, in the array `runs`\n",
    "       - `trun` (unit32): time since the run id in 2 $\\\\mu s$ units\n",
    "\n",
    "    - `gti_times` -- GTI times as an interleaved start, stop array.\n",
    "    - `runs` -- a list of the run numbers, each a MET time. Expect ~109 per week\n",
    "\n",
    "    For the selected events above 100 MeV, this represents 10 bytes per photon, vs. 27 in the FT1 data\n",
    "    \"\"\"\n",
    "\n",
    "    delta_t = config.offset_size\n",
    "    ebins =   config.energy_edges\n",
    "    etypes=   config.etypes\n",
    "    nside =   config.nside\n",
    "    nest  =   config.nest\n",
    "    z_cut =   config.z_max\n",
    "    theta_cut = np.degrees(np.arccos(config.cos_theta_max))\n",
    "    verbose = config.verbose\n",
    "\n",
    "    with  fits.open(ft1_file) as ft1:\n",
    "        tstart = ft1[1].header['TSTART']\n",
    "\n",
    "        ## GTI - setup raveled array function to make cut\n",
    "        gti_data= ft1['GTI'].data\n",
    "        # extract arrays for values of interest\n",
    "        data =ft1['EVENTS'].data\n",
    "\n",
    "    a,b = sorted(gti_data.START), sorted(gti_data.STOP)\n",
    "\n",
    "    gti_times = np.ravel(np.column_stack((a,b)))\n",
    "    if np.any(np.diff(gti_times)<0):\n",
    "        raise Exception(f'Non-monatonic GTI found in file {ft1_file}')\n",
    "\n",
    "\n",
    "    # apply  selections\n",
    "\n",
    "    sel =  ((data['ENERGY'] > ebins[0]) &\n",
    "            (data['ZENITH_ANGLE'] < z_cut) &\n",
    "            (data['THETA'] < theta_cut))\n",
    "\n",
    "    dsel = data[sel]\n",
    "\n",
    "    # get the columns for output\n",
    "    glon, glat, energy, et, z, theta, time, ec =\\\n",
    "         [dsel[x] for x in 'L B ENERGY EVENT_TYPE ZENITH_ANGLE THETA TIME EVENT_CLASS'.split()]\n",
    "\n",
    "    # generate event_type masks\n",
    "    et_mask={}\n",
    "    for ie in etypes:\n",
    "        et_mask[ie]= et[:,-1-ie]\n",
    "\n",
    "\n",
    "    if verbose>2:\n",
    "        total = sum(b)-sum(a)\n",
    "        fraction = total/(b[-1]-a[0])\n",
    "\n",
    "        print(  f'FT1: {ft1_file.name}, GTI range {a[0]:.1f}-{b[-1]:.1f}:  {len(data):,} photons'\\\n",
    "                f'\\n\\tSelection E > {ebins[0]:.0f} MeV. theta<{theta_cut:.1f} and z<{z_cut} remove:'\\\n",
    "                f' {100.- 100*len(dsel)/float(len(data)):.2f}%'\n",
    "             )\n",
    "\n",
    "    # pixelate direction\n",
    "    hpindex = healpy.ang2pix(nside, glon, glat, nest=nest, lonlat=True).astype(np.uint32)\n",
    "    hpname = 'nest_index' if nest else 'ring_index'\n",
    "\n",
    "    # digitize energy and create band index incluing (front/back)\n",
    "    band_index = (2*(np.digitize(energy, ebins, )-1) + et_mask[1]).astype(np.uint8)\n",
    "\n",
    "    #\n",
    "    run_id = dsel['RUN_ID'].astype(np.uint32)\n",
    "\n",
    "    # save this for for run reference\n",
    "    runlist = np.unique(run_id)\n",
    "\n",
    "    # a dict with all photon info, which requires runlist\n",
    "    runs = np.unique(run_id)\n",
    "    photons = {'band' : band_index,\n",
    "              hpname : hpindex,\n",
    "              'run_ref': np.searchsorted(runs, run_id).astype(np.uint8),\n",
    "              'trun'  : ((time-run_id)/delta_t).astype(np.uint32),\n",
    "             }\n",
    "\n",
    "    if verbose>1:\n",
    "        print(f'FT1 data from file {ft1_file.name}: tstart={tstart:.0f} (UTC {UTC(MJD(tstart))[:-6]})'\n",
    "              f' selected {len(dsel):,}/{len(data):,} photons, in {len(runlist)} runs.')\n",
    "\n",
    "    return  dict(tstart=tstart, \n",
    "                 photons=photons,\n",
    "                 gti_times=gti_times,\n",
    "                 runlist=runlist)"
   ]
  },
  {
   "cell_type": "code",
   "execution_count": null,
   "metadata": {},
   "outputs": [
    {
     "data": {
      "text/markdown": [
       "<h3 id=\"get_ft1_data\" class=\"doc_header\"><code>get_ft1_data</code><a href=\"__main__.py#L2\" class=\"source_link\" style=\"float:right\">[source]</a></h3>\n",
       "\n",
       "> <code>get_ft1_data</code>(**`config`**, **`ft1_file`**)\n",
       "\n",
       "Read in a photon data (FT1) file, bin in energy and position to convert to a compact table\n",
       "\n",
       "- `ft1_file` -- A weekly file from GSFC\n",
       "\n",
       "Depends on config items\n",
       "- `theta_cut, z_cut` -- selection criteria\n",
       "- `ebins, etypes` -- define band index\n",
       "- `nside, nest` -- define HEALPix binning\n",
       "\n",
       "Returns a dict with keys\n",
       "\n",
       "- `tstart`, the start MET time from the FT1 header\n",
       "\n",
       "- `photons`: a dict with keys and entries for each selected photon\n",
       "   - `band` (uint8):    energy band index*2 + 0,1 for Front/Back\n",
       "   - `nest_index`  if nest else `ring_index` (uint32): HEALPIx index for the nside\n",
       "   - `run_ref` (uint8) reference to the run number, in the array `runs`\n",
       "   - `trun` (unit32): time since the run id in 2 $\\mu s$ units\n",
       "\n",
       "- `gti_times` -- GTI times as an interleaved start, stop array.\n",
       "- `runs` -- a list of the run numbers, each a MET time. Expect ~109 per week\n",
       "\n",
       "For the selected events above 100 MeV, this represents 10 bytes per photon, vs. 27 in the FT1 data"
      ],
      "text/plain": [
       "<IPython.core.display.Markdown object>"
      ]
     },
     "metadata": {},
     "output_type": "display_data"
    }
   ],
   "source": [
    "show_doc(get_ft1_data, title_level=3)"
   ]
  },
  {
   "cell_type": "code",
   "execution_count": null,
   "metadata": {},
   "outputs": [],
   "source": [
    "# hide\n",
    "# def photon_week(config, week_dict):\n",
    "#     \"\"\"\n",
    "#     Return a dict with photon info for the week, with a 'time' field, in MJD reconstructed from\n",
    "#     the run_ref and trun fields. The latter removed.\n",
    "\n",
    "#     - week_dict -- standard photon info for the week\n",
    "#     - config -- used for config.offset_size\n",
    "\n",
    "#     \"\"\"\n",
    "#     delta_t = config.offset_size\n",
    "#     phd = week_dict['photons'].copy()\n",
    "#     rl = week_dict['runlist']\n",
    "#     phd['time'] = MJD(phd['trun']* delta_t + rl[phd['run_ref']]) #- week_dict['tstart']\n",
    "#     phd.pop('run_ref')\n",
    "#     phd.pop('trun')\n",
    "#     return phd"
   ]
  },
  {
   "cell_type": "code",
   "execution_count": null,
   "metadata": {},
   "outputs": [],
   "source": [
    "# export\n",
    "def get_ft2_info(config, filename,\n",
    "                 gti = lambda x: np.ones_like(x).astype(bool)):\n",
    "    \"\"\"Process a FT2 file, with S/C history data, and return a summary dict\n",
    "\n",
    "    Parameters:\n",
    "\n",
    "    * config -- verbose, cos_theta_max, z_max\n",
    "    * filename -- spacecraft (FT2) file\n",
    "    * gti -- GTI object that checkes for allowed intervals, in MJD units\n",
    "\n",
    "    Returns: A dict with fields consistent with GTI if specified\n",
    "\n",
    "    * start, stop -- interval in MJD units\n",
    "    * livetime -- sec\n",
    "    * ra_scz, dec_scz --spaceraft direction\n",
    "    * ra_zenith, dec_zenith -- local zenith\n",
    "    \"\"\"\n",
    "    # combine the files into a dict  with following fields besides START and STOP (lower case for column)\n",
    "    fields    = ['LIVETIME','RA_SCZ','DEC_SCZ', 'RA_ZENITH','DEC_ZENITH']\n",
    "    with fits.open(filename) as hdu:\n",
    "        scdata = hdu['SC_DATA'].data\n",
    "        tstart, tstop = [float(hdu[0].header[field]) for field in  ('TSTART','TSTOP') ]\n",
    "\n",
    "    if config.verbose>1:\n",
    "        print(f'FT2: {filename.name}, MET range {tstart:.1f}-{tstop:.1f},', end='')# {\"not\" if gti is None else \"\"} applying GTI')\n",
    "\n",
    "    # get times to check against MJD limits and GTI\n",
    "    start, stop = [MJD(np.array(scdata.START, float)),\n",
    "                   MJD(np.array(scdata.STOP, float))]\n",
    "\n",
    "    # apply GTI to bin center (avoid edge effects?)\n",
    "    in_gti = np.array(gti(0.5*(start+stop)))\n",
    "    if config.verbose>1:\n",
    "        s = sum(in_gti)\n",
    "        print(f' {len(start)} entries, {s} ({100*s/len(start):.1f}%) in GTI')\n",
    "\n",
    "    t = [('start', start[in_gti]), ('stop',stop[in_gti])]+\\\n",
    "        [(field.lower(), np.array(scdata[field][in_gti],np.float32)) for field in fields ]\n",
    "\n",
    "    sc_data = dict(t)\n",
    "    return sc_data"
   ]
  },
  {
   "cell_type": "code",
   "execution_count": null,
   "metadata": {},
   "outputs": [
    {
     "data": {
      "text/markdown": [
       "<h3 id=\"get_ft2_info\" class=\"doc_header\"><code>get_ft2_info</code><a href=\"__main__.py#L2\" class=\"source_link\" style=\"float:right\">[source]</a></h3>\n",
       "\n",
       "> <code>get_ft2_info</code>(**`config`**, **`filename`**, **`gti`**=*`<lambda>`*)\n",
       "\n",
       "Process a FT2 file, with S/C history data, and return a summary dict\n",
       "\n",
       "Parameters:\n",
       "\n",
       "* config -- verbose, cos_theta_max, z_max\n",
       "* filename -- spacecraft (FT2) file\n",
       "* gti -- GTI object that checkes for allowed intervals, in MJD units\n",
       "\n",
       "Returns: A dict with fields consistent with GTI if specified\n",
       "\n",
       "* start, stop -- interval in MJD units\n",
       "* livetime -- sec\n",
       "* ra_scz, dec_scz --spaceraft direction\n",
       "* ra_zenith, dec_zenith -- local zenith"
      ],
      "text/plain": [
       "<IPython.core.display.Markdown object>"
      ]
     },
     "metadata": {},
     "output_type": "display_data"
    }
   ],
   "source": [
    "show_doc(get_ft2_info, title_level=3)"
   ]
  },
  {
   "cell_type": "markdown",
   "metadata": {},
   "source": [
    "## FermiData\n",
    "With superclass GSFCweekly, organize the weekly FT1 and FT2 files from GSFC into local weekly summary files"
   ]
  },
  {
   "cell_type": "code",
   "execution_count": null,
   "metadata": {},
   "outputs": [],
   "source": [
    "# exporti\n",
    "def filepaths(week):\n",
    "    \"\"\"Returns: A tuple with two elements for the week number, each with two triplets with:\n",
    "        ftp folder, ftp filename, local simple filename\n",
    "    \"\"\"\n",
    "    urls = []\n",
    "    for ftype, alias in  [('spacecraft','ft2'), ('photon','ft1')]:\n",
    "         urls.append((\n",
    "             f'{ftype}',\n",
    "             f'lat_{ftype}_weekly_w{week:03d}_p{\"305\" if ftype==\"photon\" else \"310\" }_v001.fits',\n",
    "             f'week{week:03d}_{alias}.fits',\n",
    "            ))\n",
    "    return urls"
   ]
  },
  {
   "cell_type": "code",
   "execution_count": null,
   "metadata": {},
   "outputs": [],
   "source": [
    "# exporti\n",
    "class GSFCweekly(dict):\n",
    "\n",
    "    ftp_site = 'heasarc.gsfc.nasa.gov'\n",
    "    ftp_path = 'fermi/data/lat/weekly'\n",
    "    local_path  = '/tmp/from_gsfc'\n",
    "\n",
    "    def __init__(self, config=None):\n",
    "        \"\"\" Obtain lists of the weekly FT1 and FT2 files at GSFC, Set up as a dict, with\n",
    "        keys= week numbers, values=mofification date strings\n",
    "        \"\"\"\n",
    "        self.config = config or Config()\n",
    "        # self.wtlike_data_file_path = Path(self.config.datapath/'data_files')\n",
    "        # assert self.wtlike_data_file_path.is_dir(), 'Data path invalid'\n",
    "        # os.makedirs(self.local_path, exist_ok=True)\n",
    "        try:\n",
    "            with FTP(self.ftp_site) as ftp:\n",
    "                ftp.login()\n",
    "                ftp.prot_p()\n",
    "                ftp.cwd(self.ftp_path+'/photon') # or spacecraft\n",
    "                # aet modification time and type for all files in folder\n",
    "\n",
    "                parse_week = lambda fn:  int(fn.split('_')[3][1:])\n",
    "                flist = ftp.mlsd(facts=['modify', 'type'])\n",
    "                self.fileinfo = sorted([(parse_week(name), fact['modify']) for name,fact in flist\n",
    "                                 if fact['type']=='file' and name.startswith('lat') ])\n",
    "        except Exception as msg:\n",
    "            print(f'FTP login to or download from {self.ftp_site} failed:\\n\\t--> {msg}',file=sys.stderr)\n",
    "            self.valid=False\n",
    "            return\n",
    "        self.update(self.fileinfo)\n",
    "        self.valid=True\n",
    "\n",
    "    def download(self, week):\n",
    "        \"\"\" Download the given week's files to the local folder\n",
    "\n",
    "        week -- the mission week number, starting at 9. If negative, get recent one\n",
    "\n",
    "        return the ft1, ft2 local filenames\n",
    "        \"\"\"\n",
    "\n",
    "        if week<0:\n",
    "            week = list(self.keys())[week]\n",
    "        assert week in self, f'week {week} not found at FTP site'\n",
    "        files = []\n",
    "        with FTP(self.ftp_site) as ftp:\n",
    "            ftp.login()\n",
    "            ftp.prot_p()\n",
    "            for ftp_folder, ftp_filename, local_filename in filepaths(week):\n",
    "                ftp.cwd('/'+self.ftp_path+'/'+ftp_folder)\n",
    "                if self.config.verbose>0:\n",
    "                    print(f'GSFCweekly: {ftp_folder}/{ftp_filename} --> {local_filename}', flush=True)\n",
    "                with open(f'{self.local_path}/{local_filename}', 'wb') as  localfile:\n",
    "                    ftp.retrbinary('RETR ' + ftp_filename, localfile.write)\n",
    "                files.append(local_filename)\n",
    "        return files\n",
    "\n",
    "    def week_number(self, met):\n",
    "        return (met-233711940)//(7*24*3600)\n",
    "\n",
    "    def load_week(self, week):\n",
    "        \"\"\"Load a pickled week summary \"\"\"\n",
    "        filename = self.wtlike_data_file_path/f'week_{week:03d}.pkl'\n",
    "        assert filename.exists(), f'File {filename} does not exist'\n",
    "        with open(filename, 'rb') as imp:\n",
    "            ret = pickle.load(imp)\n",
    "        return ret\n",
    "\n",
    "    def check_week(self, week):\n",
    "        \"\"\"Returns True if the local week needs updating\"\"\"\n",
    "        data = self.load_week(week)\n",
    "        if 'file_date' not in data:\n",
    "            return True\n",
    "        # check that file date agrees\n",
    "        return data['file_date'] != self[week]"
   ]
  },
  {
   "cell_type": "code",
   "execution_count": null,
   "metadata": {},
   "outputs": [
    {
     "data": {
      "text/markdown": [
       "### Test download from GSFC and data handling\n",
       "Download, then process FT1 and FT2 files.\n"
      ],
      "text/plain": [
       "<utilities.ipynb_docgen.doc_formatter.<locals>.MimeBundleObject at 0x7f426562a250>"
      ]
     },
     "metadata": {},
     "output_type": "display_data"
    },
    {
     "name": "stdout",
     "output_type": "stream",
     "text": [
      "GSFCweekly: spacecraft/lat_spacecraft_weekly_w750_p310_v001.fits --> week750_ft2.fits\n",
      "GSFCweekly: photon/lat_photon_weekly_w750_p305_v001.fits --> week750_ft1.fits\n",
      "FT1: week750_ft1.fits, GTI range 687312550.7-687915891.1:  2,135,751 photons\n",
      "\tSelection E > 100 MeV. theta<66.4 and z<100 remove: 83.01%\n",
      "FT1 data from file week750_ft1.fits: tstart=687312550 (UTC 2022-10-13) selected 362,780/2,135,751 photons, in 106 runs.\n",
      "Contents of FT1 summary output dict\n",
      " key        value type\n",
      "  tstart     float\n",
      "  photons    dict\n",
      "  gti_times  ndarray\n",
      "  runlist    ndarray\n",
      "FT2: week750_ft2.fits, MET range 687312550.7-687915891.1, 17219 entries, 17219 (100.0%) in GTI\n",
      "Contents of FT2 summary output dict\n",
      " key        value type\n",
      "  start      ndarray\n",
      "  stop       ndarray\n",
      "  livetime   ndarray\n",
      "  ra_scz     ndarray\n",
      "  dec_scz    ndarray\n",
      "  ra_zenith  ndarray\n",
      "  dec_zenith ndarray\n"
     ]
    }
   ],
   "source": [
    "# collapse-hide\n",
    "display_markdown( \"\"\"### Test download from GSFC and data handling\n",
    "Download, then process FT1 and FT2 files.\n",
    "\"\"\")\n",
    "gd = GSFCweekly(Config(verbose=3))\n",
    "if gd.config.valid:\n",
    "    ft2, ft1 = gd.download(-2)\n",
    "    v1 = get_ft1_data(gd.config, Path(gd.local_path)/ft1);\n",
    "\n",
    "    print(f'Contents of FT1 summary output dict\\n'\n",
    "          ' key        value type')\n",
    "    for (k,x) in v1.items():\n",
    "        print(f'  {k:10} {x.__class__.__name__}')\n",
    "    \n",
    "    v2 = get_ft2_info(gd.config, Path(gd.local_path)/ft2)\n",
    "    print(f'Contents of FT2 summary output dict\\n'\n",
    "          ' key        value type')\n",
    "    for (k,x) in v2.items():\n",
    "        print(f'  {k:10} {x.__class__.__name__}')"
   ]
  },
  {
   "cell_type": "code",
   "execution_count": null,
   "metadata": {},
   "outputs": [],
   "source": [
    "# export\n",
    "class FermiData(GSFCweekly):\n",
    "    \"\"\" Manage the full data set in weekly chunks\n",
    "    * Checking the current set of files at GSFC\n",
    "    * downloading a week at a time to a local tmp\n",
    "    * Converting to condensed format and saving to pickled dicts in wtlike_data\n",
    "    \"\"\"\n",
    "\n",
    "    def __init__(self, config=None):\n",
    "        super().__init__(config)\n",
    "        self.wtlike_data_file_path = Path(self.config.datapath/'data_files')\n",
    "        assert self.wtlike_data_file_path.is_dir(), 'Data path is invalid'\n",
    "        os.makedirs(self.local_path, exist_ok=True)\n",
    "\n",
    "    @property\n",
    "    def local_filedate(self):\n",
    "        \"\"\" the datetime object representing the last file date in local storage\"\"\"\n",
    "        from dateutil.parser import parse\n",
    "        weekly_folder = self.config.datapath/'data_files'\n",
    "        ff = sorted(list(weekly_folder.glob('*.pkl')))\n",
    "        if len(ff)==0:\n",
    "            print(f'FermiData: No weekly summary files found in {weekly_folder}', file=sys.stderr)\n",
    "            return None\n",
    "\n",
    "        wk = list(map(lambda f: int(os.path.splitext(f)[0][-3:]), ff))\n",
    "        lastweek = pickle.load(open(ff[-1],'rb'))\n",
    "        return dateutil.parser.parse(lastweek['file_date'])\n",
    "\n",
    "    @property\n",
    "    def gsfc_filedate(self):\n",
    "        return dateutil.parser.parse(list(self.values())[-1])\n",
    "\n",
    "    def __str__(self):\n",
    "        return f'FermiData: {len(self.fileinfo)} week files at GSFC, from {self.fileinfo[0]} to {self.fileinfo[-1]}'\n",
    "\n",
    "    def in_temp(self):\n",
    "        \"\"\"return list of GSFC copied files in the local_path folder\"\"\"\n",
    "        names = [f.name for f in Path(self.local_path).glob('*')]\n",
    "        return names\n",
    "\n",
    "    def __call__(self, week, test=False, tries_left=2):\n",
    "        \"\"\" Download and convert the given week:\n",
    "        * download FT1 and FT2 from GSFC to scratch space\n",
    "        * convert each\n",
    "        * save pickled dict summary\n",
    "        * remove files\n",
    "\n",
    "        \"\"\"\n",
    "        assert week in self, f'week {week} not found at FTP site'\n",
    "        ff = filepaths(week)\n",
    "        ft1_file = Path(self.local_path)/ff[1][2]\n",
    "        ft2_file = Path(self.local_path)/ff[0][2]\n",
    "\n",
    "        if self.config.verbose>1:\n",
    "            print(f'FermiData: converting week {week}')\n",
    "\n",
    "        while tries_left>0:\n",
    "            try:\n",
    "                if not (ft1_file.exists() and ft2_file.exists()):\n",
    "                    self.download(week)\n",
    "                # convert photon data to compact form, as a dice\n",
    "                week_summary = get_ft1_data(self.config, ft1_file)\n",
    "                break\n",
    "            except Exception as e:\n",
    "                print(f'*** ERROR *** Failed to convert {ft1_file}: {e} download it again)',\n",
    "                      file=sys.stderr)\n",
    "                tries_left -=1\n",
    "                if tries_left==0:\n",
    "                    print(f'Failed to convert week file {ft1_file}: quitting', file=sys.stderr)\n",
    "                    return None\n",
    "                else:\n",
    "                    os.unlink(ft1_file)\n",
    "\n",
    "        def apply_gti(time): # note MJD\n",
    "            x = np.digitize(time, MJD(week_summary['gti_times']))\n",
    "            return np.bitwise_and(x,1).astype(bool)\n",
    "        sc_data = get_ft2_info(self.config, ft2_file, apply_gti)\n",
    "\n",
    "        # finished with copies of FT1 and FT2 files: delete them\n",
    "        for file in (ft1_file,ft2_file):\n",
    "            os.unlink(file)\n",
    "\n",
    "        # add file date and space craft summary\n",
    "        week_summary['file_date'] = self[week]\n",
    "        week_summary['sc_data'] = sc_data\n",
    "        filename = self.wtlike_data_file_path/f'week_{week:03d}.pkl'\n",
    "\n",
    "        if not test:\n",
    "            with open(filename, 'wb') as out:\n",
    "                pickle.dump(week_summary, out)\n",
    "\n",
    "            if self.config.verbose>0:\n",
    "                print(f'FermiData: {\"replaced\" if filename.exists() else \"saved to\" } {filename.name}', flush=True)\n",
    "        else:\n",
    "            print(f'testing... no change to {filename.name}')\n",
    "\n",
    "    def download_and_convert(self, week_range,  processes=None):\n",
    "        \"\"\"Download FT1 and FT2 files from GSFC and create summary files for the weeks\n",
    "\n",
    "        * week_range: a (first, last+1) tumple, or a iterable\n",
    "\n",
    "        \"\"\"\n",
    "        from multiprocessing import Pool\n",
    "\n",
    "        processes = processes or self.config.pool_size\n",
    "        txt = f', using {processes} processes ' if processes>1 else ''\n",
    "\n",
    "        if self.config.verbose>0:\n",
    "            print(f'\\tDownloading {len(week_range)} week files{txt}\\n', end='', flush=True)\n",
    "\n",
    "        if processes>1:\n",
    "            with Pool(processes=processes) as pool:\n",
    "                pool.map(self, week_range)\n",
    "        else:\n",
    "            list(map(self,  week_range))\n",
    "\n",
    "    def needs_update(self):\n",
    "        \"\"\" Compare files on disk with the GSFC list and compile list that need to be downloaded\n",
    "\n",
    "        Check the file date of the last one on disk and update it as well if it has a different filedate\n",
    "        \"\"\"\n",
    "        gg =self.wtlike_data_file_path.glob('*.pkl')\n",
    "        file_weeks= map(lambda n: int(n.name[5:8]), gg)\n",
    "        ondisk = np.array(list(file_weeks))\n",
    "\n",
    "        missing =  set(self.keys()).difference(set(ondisk))\n",
    "        if len(ondisk)==0:\n",
    "            return list(missing)\n",
    "\n",
    "        last = sorted(ondisk)[-1]\n",
    "        if self.check_week(last):\n",
    "             missing.add(last)\n",
    "        return sorted(list(missing))\n",
    "\n",
    "    def check_data(self):\n",
    "        \"\"\"\n",
    "        Return: sorted list of summary files, last week number, number of days in last week\"\"\"\n",
    "        config = self.config\n",
    "        if config.valid:\n",
    "            weekly_folder = config.datapath/'data_files'\n",
    "            ff = sorted(list(weekly_folder.glob('*.pkl')))\n",
    "            if len(ff)==0:\n",
    "                print(f'No .pkl files found in {weekly_folder}', file=sys.stderr)\n",
    "                return\n",
    "            getwk = lambda f: int(os.path.splitext(f)[0][-3:])\n",
    "            wk = [getwk(f) for f in ff] #list(map(lambda f: int(os.path.splitext(f)[0][-3:]), ff))\n",
    "            lastweek = pickle.load(open(ff[-1],'rb'))\n",
    "\n",
    "            file_date = lastweek['file_date']\n",
    "            gti = lastweek['gti_times'];\n",
    "            days = (gti[-1]-gti[0])/(24*3600)\n",
    "            if config.verbose>0:\n",
    "                print(f'Weekly folder \"{weekly_folder}\" contains {len(wk)} weeks.'\\\n",
    "                      f'\\n\\t Last week in local dataset, #{wk[-1]}, has {days:.3f} days, ends at UTC {UTC(MJD(gti[-1]))}, filedate {file_date}' )\n",
    "            #return ff, wk[-1], days\n",
    "        else:\n",
    "            print(f'Config not valid, {config.errors}', file=sys.stderr)\n",
    "            return None\n",
    "\n",
    "    def update_data(self):\n",
    "        \"\"\"Bring all of the local week data summaries up to date, downloading the missing ones from GSFC.\n",
    "        If the last one is the current week, check to see if needs updating, by comparing file date, in days,\n",
    "        from the last update with the current one at GSFC.\n",
    "        \"\"\"\n",
    "        self.check_data()\n",
    "        needs = self.needs_update()\n",
    "        if len(needs)==0:\n",
    "            print('--> Up to date!')\n",
    "            return\n",
    "        return self.download_and_convert(needs)\n",
    "\n",
    "    def get_run_times(self, week):\n",
    "        r = self.load_week(week)\n",
    "        pdict = r['photons']\n",
    "        if 'run_id' in pdict:\n",
    "            runs = np.unique(pdict['run_id'])\n",
    "        elif 'run_ref' in pdict:\n",
    "            runs = r['runlist'][pdict['run_ref']]\n",
    "        else:\n",
    "            assert False\n",
    "        return MJD(runs)"
   ]
  },
  {
   "cell_type": "code",
   "execution_count": null,
   "metadata": {},
   "outputs": [
    {
     "data": {
      "text/markdown": [
       "<h3 id=\"FermiData\" class=\"doc_header\"><code>class</code> <code>FermiData</code><a href=\"\" class=\"source_link\" style=\"float:right\">[source]</a></h3>\n",
       "\n",
       "> <code>FermiData</code>(**`config`**=*`None`*) :: [`GSFCweekly`](/wtlikedata_man.html#GSFCweekly)\n",
       "\n",
       "Manage the full data set in weekly chunks\n",
       "* Checking the current set of files at GSFC\n",
       "* downloading a week at a time to a local tmp\n",
       "* Converting to condensed format and saving to pickled dicts in wtlike_data"
      ],
      "text/plain": [
       "<IPython.core.display.Markdown object>"
      ]
     },
     "metadata": {},
     "output_type": "display_data"
    },
    {
     "data": {
      "text/markdown": [
       "<h4 id=\"GSFCweekly.download\" class=\"doc_header\"><code>GSFCweekly.download</code><a href=\"__main__.py#L34\" class=\"source_link\" style=\"float:right\">[source]</a></h4>\n",
       "\n",
       "> <code>GSFCweekly.download</code>(**`week`**)\n",
       "\n",
       "Download the given week's files to the local folder\n",
       "\n",
       "week -- the mission week number, starting at 9. If negative, get recent one\n",
       "\n",
       "return the ft1, ft2 local filenames"
      ],
      "text/plain": [
       "<IPython.core.display.Markdown object>"
      ]
     },
     "metadata": {},
     "output_type": "display_data"
    },
    {
     "data": {
      "text/markdown": [
       "<h4 id=\"FermiData.needs_update\" class=\"doc_header\"><code>FermiData.needs_update</code><a href=\"__main__.py#L117\" class=\"source_link\" style=\"float:right\">[source]</a></h4>\n",
       "\n",
       "> <code>FermiData.needs_update</code>()\n",
       "\n",
       "Compare files on disk with the GSFC list and compile list that need to be downloaded\n",
       "\n",
       "Check the file date of the last one on disk and update it as well if it has a different filedate"
      ],
      "text/plain": [
       "<IPython.core.display.Markdown object>"
      ]
     },
     "metadata": {},
     "output_type": "display_data"
    },
    {
     "data": {
      "text/markdown": [
       "<h4 id=\"FermiData.check_data\" class=\"doc_header\"><code>FermiData.check_data</code><a href=\"__main__.py#L135\" class=\"source_link\" style=\"float:right\">[source]</a></h4>\n",
       "\n",
       "> <code>FermiData.check_data</code>()\n",
       "\n",
       "Return: sorted list of summary files, last week number, number of days in last week"
      ],
      "text/plain": [
       "<IPython.core.display.Markdown object>"
      ]
     },
     "metadata": {},
     "output_type": "display_data"
    }
   ],
   "source": [
    "show_doc(FermiData, title_level=3)\n",
    "show_doc(FermiData.download, title_level=4)\n",
    "show_doc(FermiData.needs_update, title_level=4)\n",
    "show_doc(FermiData.check_data, title_level=4)"
   ]
  },
  {
   "cell_type": "code",
   "execution_count": null,
   "metadata": {},
   "outputs": [
    {
     "data": {
      "text/markdown": [
       "### Test FermiData.check_data()"
      ],
      "text/plain": [
       "<utilities.ipynb_docgen.doc_formatter.<locals>.MimeBundleObject at 0x7f42655efcd0>"
      ]
     },
     "metadata": {},
     "output_type": "display_data"
    },
    {
     "name": "stdout",
     "output_type": "stream",
     "text": [
      "Weekly folder \"/mnt/c/Users/thbur/onedrive/fermi/wtlike-data/data_files\" contains 741 weeks.\n",
      "\t Last week in local dataset, #750, has 2.336 days, ends at UTC 2022-10-15 08:13, filedate 20221015132753\n"
     ]
    }
   ],
   "source": [
    "#hide\n",
    "display_markdown('### Test FermiData.check_data()')\n",
    "config = Config()\n",
    "if config.valid:\n",
    "    self = FermiData(config)\n",
    "    self.check_data()\n"
   ]
  },
  {
   "cell_type": "code",
   "execution_count": null,
   "metadata": {},
   "outputs": [],
   "source": [
    "# export\n",
    "def check_data(config=None, update=False):\n",
    "    \"\"\"\n",
    "    Print current status, and update if requested\n",
    "    \"\"\"\n",
    "    config = config or Config()\n",
    "    if not config.valid:\n",
    "        print('Config datapath is not valid', file=sys.stderr)\n",
    "        return\n",
    "    ff = FermiData(config)\n",
    "    ff.check_data()\n",
    "    print(f'Weeks needing download: {ff.needs_update()}')\n",
    "    if update:\n",
    "        ff.update_data()\n",
    "\n",
    "def update_data( config=None):\n",
    "    \"\"\"Bring all of the local week data summaries up to date, downloading the missing ones from GSFC.\n",
    "    If the last one is the current week, check to see if needs updating, by comparing file date, in days,\n",
    "    from the last update with the current one at GSFC.\n",
    "    \"\"\"\n",
    "    ff = FermiData(config)\n",
    "    return ff.update_data()"
   ]
  },
  {
   "cell_type": "code",
   "execution_count": null,
   "metadata": {},
   "outputs": [
    {
     "data": {
      "text/markdown": [
       "<h3 id=\"check_data\" class=\"doc_header\"><code>check_data</code><a href=\"__main__.py#L2\" class=\"source_link\" style=\"float:right\">[source]</a></h3>\n",
       "\n",
       "> <code>check_data</code>(**`config`**=*`None`*, **`update`**=*`False`*)\n",
       "\n",
       "Print current status, and update if requested"
      ],
      "text/plain": [
       "<IPython.core.display.Markdown object>"
      ]
     },
     "metadata": {},
     "output_type": "display_data"
    },
    {
     "data": {
      "text/markdown": [
       "<h3 id=\"update_data\" class=\"doc_header\"><code>update_data</code><a href=\"__main__.py#L16\" class=\"source_link\" style=\"float:right\">[source]</a></h3>\n",
       "\n",
       "> <code>update_data</code>(**`config`**=*`None`*)\n",
       "\n",
       "Bring all of the local week data summaries up to date, downloading the missing ones from GSFC.\n",
       "If the last one is the current week, check to see if needs updating, by comparing file date, in days,\n",
       "from the last update with the current one at GSFC."
      ],
      "text/plain": [
       "<IPython.core.display.Markdown object>"
      ]
     },
     "metadata": {},
     "output_type": "display_data"
    },
    {
     "name": "stdout",
     "output_type": "stream",
     "text": [
      "Run update_data...\n",
      "Weekly folder \"/mnt/c/Users/thbur/onedrive/fermi/wtlike-data/data_files\" contains 741 weeks.\n",
      "\t Last week in local dataset, #750, has 2.336 days, ends at UTC 2022-10-15 08:13, filedate 20221015132753\n",
      "Weeks needing download: [750, 751]\n"
     ]
    }
   ],
   "source": [
    "show_doc(check_data,  title_level=3)\n",
    "show_doc(update_data, title_level=3)\n",
    "if config.valid:\n",
    "    print('Run update_data...')\n",
    "    check_data()"
   ]
  },
  {
   "cell_type": "code",
   "execution_count": null,
   "metadata": {},
   "outputs": [],
   "source": [
    "#exporti\n",
    "def get_week_files(config, week_range=None):\n",
    "    \"\"\"Return list of week files\n",
    "\n",
    "    - week_range [None] -- tuple with inclusive range. If None, get all\n",
    "    \"\"\"\n",
    "    import pandas as pd\n",
    "    data_folder = config.datapath/'data_files'\n",
    "    data_files = sorted(list(data_folder.glob('*.pkl')))\n",
    "    weeks = week_range or  config.week_range\n",
    "    if week_range is not None:\n",
    "\n",
    "        slc = slice(*week_range) if type(week_range)==tuple else slice(week_range,week_range)\n",
    "        wk_table = pd.Series(data=[df for df in data_files],\n",
    "                     index= [ int(df.name[-7:-4]) for df in  data_files],\n",
    "                    )\n",
    "        data_files = wk_table.loc[slc].values\n",
    "\n",
    "        if config.verbose>1:\n",
    "            q = lambda x: x if x is not None else \"\"\n",
    "            print(f'LoadData: Loading weeks[{q(slc.start)}:{q(slc.stop)}:{q(slc.step)}]', end='' if config.verbose<2 else '\\n')\n",
    "    else:\n",
    "        if config.verbose>1: print(f'LoadData: loading all {len(data_files)} weekly files')\n",
    "\n",
    "    if len(data_files)==0:\n",
    "        msg =  f'Specified week_range {week_range} produced no output. Note that week numbers are 9-'\n",
    "        raise Exception(msg)\n",
    "\n",
    "    return data_files"
   ]
  },
  {
   "cell_type": "markdown",
   "metadata": {},
   "source": [
    "## DataView"
   ]
  },
  {
   "cell_type": "code",
   "execution_count": null,
   "metadata": {},
   "outputs": [],
   "source": [
    "# export\n",
    "class DataView(object):\n",
    "    \"\"\"\n",
    "    Manage various views of the data set\n",
    "    \n",
    "    Constructor selects a time range\n",
    "\n",
    "        - interval : a (start,stop) tuple (MJD). If (0,0), access all data\n",
    "        - gti : GTI\n",
    "        - nside [128] default HEALPix nside to use for maps\n",
    "        - bmin [0] minimum energy band index\n",
    "\n",
    "    \"\"\"\n",
    "    def __init__(self,  interval:tuple=(0,0),  \n",
    "                 config:'Config  | None'=None, \n",
    "                 gti:'GTI  | None'=None,\n",
    "                 nside:int=128, \n",
    "                 bmin:int=0):\n",
    "        \"\"\"\n",
    "        Constructor selects a time range\n",
    "\n",
    "        - interval : a (start,stop) tuple (MJD). If (0,0), access all data\n",
    "        - gti : external GTI object or None\n",
    "        - nside [128] default HEALPix nside to use for maps\n",
    "        - bmin [0] minimum energy band index\n",
    "\n",
    "        \"\"\"\n",
    "\n",
    "        # convert interval to MJD, then week range\n",
    "        self.config = config or Config()\n",
    "        assert self.config.valid, f'Config not valid:\\n{self.config.error_msg}'\n",
    "        self.nside=nside\n",
    "        self.bmin=bmin\n",
    "        self.gti = gti\n",
    "\n",
    "        # extract MJD range\n",
    "        self.time_range = mjd_range(*interval)\n",
    "\n",
    "        # get corresponding week range, and list of all week files\n",
    "        start, stop = [mission_week(x) for x in self.time_range]\n",
    "        self.week_files = get_week_files(self.config, (start, stop))\n",
    "\n",
    "        # the perhaps compound GTI\n",
    "        simple_cut = lambda time: (time>=self.time_range[0]) & (time<self.time_range[1])\n",
    "        if gti is None:\n",
    "            self.time_filter = simple_cut\n",
    "        else:\n",
    "            self.time_filter = lambda t: simple_cut(t) & gti(t)\n",
    " \n",
    "    def __repr__(self):\n",
    "        r= f'DataView({self.time_range}), {len(self)} weekly files)'\n",
    "        if self.gti is not None:\n",
    "            r += f'\\n  with  {self.gti}'\n",
    "        return r\n",
    "    def __str__(self):\n",
    "        return self.__repr__()\n",
    "    \n",
    "    def __len__(self):\n",
    "        return len(self.week_files)\n",
    "  \n",
    "    def __getitem__(self, i):\n",
    "        \"\"\" access to the week data\"\"\"\n",
    "        file = self.week_files[i]\n",
    "        with open(file, 'rb') as inp:\n",
    "            return pickle.load(inp)\n",
    "\n",
    "    def _photon_week(self, week_dict):\n",
    "        \"\"\"\n",
    "        Return a dict with photon info for the week, with a 'time' field, in MJD reconstructed from\n",
    "        the run_ref and trun fields. The latter removed.\n",
    "\n",
    "        - week_dict -- standard photon info for the week\n",
    "        - config -- used for config.offset_size\n",
    "\n",
    "        \"\"\"\n",
    "        delta_t = self.config.offset_size\n",
    "        phd = week_dict['photons'].copy()\n",
    "        rl = week_dict['runlist']\n",
    "        phd['time'] = MJD(phd['trun']* delta_t + rl[phd['run_ref']]) #- week_dict['tstart']\n",
    "        phd.pop('run_ref')\n",
    "        phd.pop('trun')\n",
    "        return phd\n",
    "        \n",
    "    def count_map(self, nside=None, bmin=None): #, gti:'GTI object| None'=None):\n",
    "        \"\"\" all-sky count map\n",
    "\n",
    "        - nside [None] Set to override class. \n",
    "            Project map to this value, from data's 1024\n",
    "        - bmin [0] minimum band index (8 for 1 GeV cut)\n",
    "        - gti [None] : if present, filter times \n",
    "\n",
    "        Return a HEALPix counts map, in RING ordering\n",
    "        \"\"\"\n",
    "        \n",
    "        def get_map(file):\n",
    "\n",
    "            with open(file, 'rb') as inp:\n",
    "                u = pickle.load(inp)\n",
    "            phd = self._photon_week( u)\n",
    "            time = phd['time']\n",
    "            \n",
    "            # mask the photons based on time and/or band index\n",
    "            mask = self.time_filter(time)\n",
    "            if bmin>0:\n",
    "                mask = mask & (phd['band']>=self.bmin)\n",
    "            \n",
    "            # extract the list of healpix indices     \n",
    "            ni = phd['nest_index'][mask]\n",
    "\n",
    "            # to convert from data nside (1024 normally)\n",
    "            shift = int(np.log2(self.config.nside//self.nside))\n",
    "            n = 12*nside**2\n",
    "            pmap,_ = np.histogram( np.right_shift(ni,2*shift), np.linspace(0,n,n+1))\n",
    "            return pmap\n",
    "\n",
    "        nside = nside or self.nside\n",
    "        bmin = bmin or self.bmin\n",
    "        pmap = get_map(self.week_files[0],)\n",
    "\n",
    "        if len(self.week_files)>1:\n",
    "            for week in self.week_files[1:]:\n",
    "                pmap += get_map(week)\n",
    "        # finally reorder\n",
    "        return healpy.reorder(pmap, n2r=True)\n",
    "\n",
    "    def livetime_map(self, nside=None,  sigma=0):\n",
    "        \"\"\" all-sky pointing livetime map\n",
    "\n",
    "        - nside [None]\n",
    "        - sigma: Gaussian smooting parameter (degrees)\n",
    "\n",
    "        Return a HEALPix map, RING ordering, of the integrated livetime per pixel\n",
    "        \"\"\"\n",
    "        import pandas as pd\n",
    "        from astropy.coordinates import SkyCoord\n",
    "        nside = nside or self.nside\n",
    "        N = 12*nside**2\n",
    "\n",
    "        def get_ltmap(file):\n",
    "            with open(file, 'rb') as inp:\n",
    "                u =pickle.load(inp)\n",
    "            sc_data = u['sc_data']\n",
    "            mask = self.time_filter(sc_data['start'])\n",
    "            #print('filter:', sum(filter), '/', len(filter))\n",
    "            df = pd.DataFrame(sc_data)[mask]\n",
    "\n",
    "            coords =  SkyCoord(df.ra_scz, df.dec_scz, unit='deg', frame='fk5').galactic\n",
    "            indx= healpy.ang2pix(nside, coords.l.deg, coords.b.deg, lonlat=True)\n",
    "            ltmap, _ = np.histogram( indx, bins=np.arange(N+1),  weights=df.livetime)\n",
    "            return ltmap\n",
    "\n",
    "        ltmap = get_ltmap(self.week_files[0],)\n",
    "        if len(self.week_files)>1:\n",
    "            for week in self.week_files[1:]:\n",
    "                ltmap += get_ltmap(week)\n",
    "        if sigma>0:\n",
    "            ltmap = healpy.smoothing(ltmap, np.radians(sigma))\n",
    "        return ltmap\n",
    "\n",
    "    def exposure_map(self, beam_window, nside=None,):\n",
    "        \"\"\" ### all-sky exposure map\n",
    "\n",
    "        - beam_window --a list of coefficients of a Legendre polynomial expansion\n",
    "        - nside [None]\n",
    "\n",
    "        Return a HEALPix map of the weighted exposure\n",
    "        \"\"\"\n",
    "        nside = nside or self.nside\n",
    "\n",
    "        ltmap = self.livetime_map(nside=nside)\n",
    "\n",
    "        # do a spherical convolution of the live-time map with a aeff beam window\n",
    "        ### NEED TO ALLOW for BMIN!\n",
    "        return healpy.alm2map(\n",
    "                healpy.smoothalm(\n",
    "                    healpy.map2alm(ltmap),\n",
    "                    beam_window=beam_window,\n",
    "                    ),\n",
    "                nside=nside,\n",
    "                )\n",
    "    def flux_map(self, beam_window=None):\n",
    "        \"\"\"\n",
    "        Return a flux map, the ratio of counts/exposure / sr\n",
    "        \n",
    "        where the counts are now divided by the pixel solid angle.\n",
    "        So units are now: counts cm-2 s-1 sr-1\n",
    "        \"\"\"\n",
    "        return self.count_map()/self.exposure_map(beam_window) * 12*self.nside**2/(4*np.pi)"
   ]
  },
  {
   "cell_type": "code",
   "execution_count": null,
   "metadata": {},
   "outputs": [
    {
     "data": {
      "text/markdown": [
       "### Test GTI\n",
       "Extract photon data for a week containing two solar flares, check that \n",
       "they get excluded.\n"
      ],
      "text/plain": [
       "<utilities.ipynb_docgen.doc_formatter.<locals>.MimeBundleObject at 0x7f42651ab6a0>"
      ]
     },
     "metadata": {},
     "output_type": "display_data"
    },
    {
     "name": "stdout",
     "output_type": "stream",
     "text": [
      "DataView((55990, 55995)), 2 weekly files)\n",
      "  with  GTI nosolarflares.gti has 28 excluded intervals, total 6.750 d.\n"
     ]
    },
    {
     "data": {
      "image/png": "[encoded data removed]",
      "text/plain": [
       "<Figure size 432x144 with 1 Axes>"
      ]
     },
     "metadata": {
      "needs_background": "light"
     },
     "output_type": "display_data"
    }
   ],
   "source": [
    "display_markdown(\"\"\"### Test GTI\n",
    "Extract photon data for a week containing two solar flares, check that \n",
    "they get excluded.\n",
    "\"\"\")\n",
    "dv = DataView(interval=(55990, 55995), gti=GTI('nosolarflares.gti'))\n",
    "print(dv)\n",
    "wk =dv._photon_week(dv[0])\n",
    "t = wk['time']\n",
    "mask = dv.time_filter(t)\n",
    "bins = np.linspace(t[0],t[-1], 100)\n",
    "fig, ax = plt.subplots(figsize=(6,2))\n",
    "ax.hist(t, bins=bins, color='grey',label='all data');\n",
    "ax.hist(t[mask],bins=bins, color='green', label='selected');\n",
    "ax.set(xlabel='MJD')\n",
    "ax.legend();"
   ]
  },
  {
   "cell_type": "code",
   "execution_count": null,
   "metadata": {},
   "outputs": [
    {
     "name": "stdout",
     "output_type": "stream",
     "text": [
      "<class 'pandas.core.frame.DataFrame'>\n",
      "Int64Index: 228000 entries, 166649 to 51118\n",
      "Data columns (total 3 columns):\n",
      " #   Column      Non-Null Count   Dtype  \n",
      "---  ------      --------------   -----  \n",
      " 0   band        228000 non-null  uint8  \n",
      " 1   nest_index  228000 non-null  uint32 \n",
      " 2   time        228000 non-null  float64\n",
      "dtypes: float64(1), uint32(1), uint8(1)\n",
      "memory usage: 4.6 MB\n"
     ]
    },
    {
     "data": {
      "image/png": "[encoded data removed]",
      "text/plain": [
       "<Figure size 432x288 with 1 Axes>"
      ]
     },
     "metadata": {
      "needs_background": "light"
     },
     "output_type": "display_data"
    }
   ],
   "source": [
    "def photon_data(self):\n",
    "    \"\"\"Return a frame with \n",
    "    \"\"\"\n",
    "    dflist = []\n",
    "    for wk in self:\n",
    "        photons= self._photon_week(wk)\n",
    "        dflist.append(\n",
    "            pd.DataFrame(photons)[self.time_filter(photons['time'])]\n",
    "        )\n",
    "    return pd.concat(dflist)    \n",
    "df = photon_data(dv)\n",
    "df.hist('time',bins=100) \n",
    "df.info()"
   ]
  },
  {
   "cell_type": "code",
   "execution_count": null,
   "metadata": {},
   "outputs": [
    {
     "data": {
      "text/plain": [
       "array([[<AxesSubplot: title={'center': 'time'}>]], dtype=object)"
      ]
     },
     "execution_count": null,
     "metadata": {},
     "output_type": "execute_result"
    },
    {
     "data": {
      "image/png": "[encoded data removed]",
      "text/plain": [
       "<Figure size 432x288 with 1 Axes>"
      ]
     },
     "metadata": {
      "needs_background": "light"
     },
     "output_type": "display_data"
    }
   ],
   "source": [
    "import pandas as pd\n",
    "df = pd.DataFrame(wk)[dv.time_filter(wk['time'])]\n",
    "df.hist('time',bins=100)"
   ]
  },
  {
   "cell_type": "code",
   "execution_count": null,
   "metadata": {},
   "outputs": [
    {
     "data": {
      "text/markdown": [
       "<h3 id=\"DataView\" class=\"doc_header\"><code>class</code> <code>DataView</code><a href=\"\" class=\"source_link\" style=\"float:right\">[source]</a></h3>\n",
       "\n",
       "> <code>DataView</code>(**`interval`**:`tuple`=*`(0, 0)`*, **`config`**:`Config  | None`=*`None`*, **`gti`**:`GTI  | None`=*`None`*, **`nside`**:`int`=*`128`*, **`bmin`**:`int`=*`0`*)\n",
       "\n",
       "Manage various views of the data set\n",
       "\n",
       "Constructor selects a time range\n",
       "\n",
       "    - interval : a (start,stop) tuple (MJD). If (0,0), access all data\n",
       "    - gti : GTI\n",
       "    - nside [128] default HEALPix nside to use for maps\n",
       "    - bmin [0] minimum energy band index"
      ],
      "text/plain": [
       "<IPython.core.display.Markdown object>"
      ]
     },
     "metadata": {},
     "output_type": "display_data"
    }
   ],
   "source": [
    "show_doc(DataView, title_level=3)\n",
    "# show_doc(DataView.count_map, title_level=4)"
   ]
  },
  {
   "cell_type": "code",
   "execution_count": null,
   "metadata": {},
   "outputs": [
    {
     "data": {
      "text/markdown": [
       "### Summarize data for week 1\n",
       "\n",
       "dict keys: <p style=\"margin-left: 25px\"><samp>['tstart', 'photons', 'gti_times', 'runlist', 'file_date', 'sc_data']</samp></p>\n",
       "<details open class=\"nbdoc-description\" >  <summary> sc_data nfo </summary>  <div style=\"margin-left: 25px;\"><pre>&lt;class 'pandas.core.frame.DataFrame'&gt;<br>RangeIndex: 4970 entries, 0 to 4969<br>Data columns (total 7 columns):<br> #   Column      Non-Null Count  Dtype  <br>---  ------      --------------  -----  <br> 0   start       4970 non-null   float64<br> 1   stop        4970 non-null   float64<br> 2   livetime    4970 non-null   float32<br> 3   ra_scz      4970 non-null   float32<br> 4   dec_scz     4970 non-null   float32<br> 5   ra_zenith   4970 non-null   float32<br> 6   dec_zenith  4970 non-null   float32<br>dtypes: float32(5), float64(2)<br>memory usage: 174.9 KB<br></pre></div> </details>\n",
       "<details open class=\"nbdoc-description\" >  <summary> photons info </summary>  <div style=\"margin-left: 25px;\"><pre>&lt;class 'pandas.core.frame.DataFrame'&gt;<br>RangeIndex: 104927 entries, 0 to 104926<br>Data columns (total 4 columns):<br> #   Column      Non-Null Count   Dtype <br>---  ------      --------------   ----- <br> 0   band        104927 non-null  uint8 <br> 1   nest_index  104927 non-null  uint32<br> 2   run_ref     104927 non-null  uint8 <br> 3   trun        104927 non-null  uint32<br>dtypes: uint32(2), uint8(2)<br>memory usage: 1.0 MB<br></pre></div> </details>\n"
      ],
      "text/plain": [
       "<utilities.ipynb_docgen.doc_formatter.<locals>.MimeBundleObject at 0x7f42667e9100>"
      ]
     },
     "metadata": {},
     "output_type": "display_data"
    }
   ],
   "source": [
    "# hide\n",
    "\n",
    "@ipynb_doc\n",
    "def dataview_dump(week):\n",
    "    \"\"\"\n",
    "    ### Summarize data for week {week}\n",
    "    \n",
    "    dict keys: {keys}\n",
    "    {sc_info}\n",
    "    {photon_info}\n",
    "    \"\"\"\n",
    "    dv = DataView()\n",
    "    u = dv[0]\n",
    "    \n",
    "    keys = list(u.keys())\n",
    "\n",
    "    import pandas as pd\n",
    "    with capture_show('sc_data nfo') as sc_info:\n",
    "        pd.DataFrame(u['sc_data']).info()\n",
    "    with capture_show('photons info') as photon_info:\n",
    "        pd.DataFrame(u['photons']).info()\n",
    "\n",
    "    return locals()\n",
    "\n",
    "if Config().valid:\n",
    "    dataview_dump(1)"
   ]
  },
  {
   "cell_type": "code",
   "execution_count": null,
   "metadata": {},
   "outputs": [
    {
     "data": {
      "text/markdown": [
       "# Finish build: 2022-10-26 11:25"
      ],
      "text/plain": [
       "<utilities.ipynb_docgen.doc_formatter.<locals>.MimeBundleObject at 0x7f429c431bb0>"
      ]
     },
     "metadata": {},
     "output_type": "display_data"
    },
    {
     "name": "stdout",
     "output_type": "stream",
     "text": [
      "Converted 00_config.ipynb.\n",
      "Converted 01_data_man.ipynb.\n",
      "Converted 02_effective_area.ipynb.\n",
      "Converted 03_exposure.ipynb.\n",
      "Converted 03_sources.ipynb.\n",
      "Converted 04_load_data.ipynb.\n",
      "Converted 04_simulation.ipynb.\n",
      "Converted 04_skymaps.ipynb.\n",
      "Converted 05_source_data.ipynb.\n",
      "Converted 06_poisson.ipynb.\n",
      "Converted 07_loglike.ipynb.\n",
      "Converted 08_cell_data.ipynb.\n",
      "Converted 09_lightcurve.ipynb.\n",
      "Converted 10-time_series.ipynb.\n",
      "Converted 11_energyflux.ipynb.\n",
      "Converted 14_bayesian.ipynb.\n",
      "Converted 90_main.ipynb.\n",
      "Converted 99_presentation.ipynb.\n",
      "Converted 99_tutorial.ipynb.\n",
      "Converted index.ipynb.\n",
      "Wed Oct 26 11:25:08 PDT 2022\n"
     ]
    }
   ],
   "source": [
    "# hide\n",
    "display_markdown(f'# Finish build: {str(datetime.datetime.now())[:16]}')\n",
    "from nbdev.export import notebook2script\n",
    "notebook2script()\n",
    "!date"
   ]
  },
  {
   "cell_type": "code",
   "execution_count": null,
   "metadata": {},
   "outputs": [],
   "source": []
  },
  {
   "cell_type": "code",
   "execution_count": null,
   "metadata": {},
   "outputs": [],
   "source": [
    "# # hide\n",
    "# def sc_process(config, skycoord, sc_data):\n",
    "\n",
    "#     \"\"\"\n",
    "#     - skycoord -- direction\n",
    "#     - sc_data -- DF constructed from spacecraft data (FT2).\n",
    "\n",
    "#     Return: a dict with the S/C data for the source direction, wtih cos theta and zenith cuts\n",
    "\n",
    "#     columns:\n",
    "#     - start, stop, livetime -- from the FT2 info\n",
    "#     - cos_theta -- angle between bore and direction\n",
    "#     \"\"\"\n",
    "\n",
    "#     # calculate cosines with respect to sky direction\n",
    "#     sc = skycoord.fk5\n",
    "#     ra_r,dec_r = sc.ra.radian, sc.dec.radian\n",
    "    \n",
    "#     sdec, cdec = np.sin(dec_r), np.cos(dec_r)\n",
    "\n",
    "#     def cosines( ra2, dec2):\n",
    "#         ra2_r =  np.radians(ra2.values)\n",
    "#         dec2_r = np.radians(dec2.values)\n",
    "#         return np.cos(dec2_r)*cdec*np.cos(ra_r-ra2_r) + np.sin(dec2_r)*sdec\n",
    "\n",
    "#     cos_thetas = cosines(sc_data.ra_scz,    sc_data.dec_scz)\n",
    "#     zcosines = cosines(sc_data.ra_zenith, sc_data.dec_zenith)\n",
    "#     # mask out entries too close to zenith, or too far away from ROI center\n",
    "#     mask =   (cos_thetas >= config.cos_theta_max) & (zcosines>=np.cos(np.radians(config.z_max)))\n",
    "#     if config.verbose>1:\n",
    "#         print(f'\\tFound {len(mask):,} S/C entries:  {sum(mask):,} remain after zenith and theta cuts')\n",
    "#     dfm = sc_data.loc[mask,:]\n",
    "#     livetime = dfm.livetime.values\n",
    "    \n",
    "#     return  pd.DataFrame(\n",
    "#         dict(\n",
    "#             start=sc_data.start[mask].astype(np.float64),\n",
    "#             stop=sc_data.stop[mask].astype(np.float64),\n",
    "#             livetime=livetime,\n",
    "#             cos_theta=cos_thetas[mask],\n",
    "#             )\n",
    "#          )\n",
    "\n",
    "# from astropy.coordinates import SkyCoord\n",
    "# dv = DataView()\n",
    "# file = dv.week_files[1]\n",
    "# with open(file, 'rb') as inp:\n",
    "#     u = pickle.load(inp)\n",
    "# # sc = SkyCoord(0,0,unit='deg', frame='galactic')z\n",
    "# sc_data = pd.DataFrame(u['sc_data'])\n",
    "\n",
    "# %time sc_process(Config(verbose=1), sc, sc_data).info()"
   ]
  }
 ],
 "metadata": {
  "kernelspec": {
   "display_name": "Python 3 (ipykernel)",
   "language": "python",
   "name": "python3"
  }
 },
 "nbformat": 4,
 "nbformat_minor": 4
}
