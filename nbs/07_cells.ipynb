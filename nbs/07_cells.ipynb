{
 "cells": [
  {
   "cell_type": "code",
   "execution_count": null,
   "metadata": {},
   "outputs": [],
   "source": [
    "# default_exp cells\n",
    "%load_ext autoreload\n",
    "%autoreload 2"
   ]
  },
  {
   "cell_type": "markdown",
   "metadata": {},
   "source": [
    "# Cells\n",
    "> Combine exposure, and list of weighted photons to create cells for likelihood calculation"
   ]
  },
  {
   "cell_type": "markdown",
   "metadata": {},
   "source": [
    "A list of cells, represented with a DataFrame, has the following columns\n",
    "\n",
    "- t, tw : time (in MJD) an width of the cell\n",
    "- e : the exposure, relative to the expection for the cell size\n",
    "- n : the number of photons\n",
    "- w : a list of weights, either float32, or  uint8 numbers: divide by 256 for the values\n",
    "- S,B : expected values for the sums of w and (1-w) for the cell\n",
    "\n",
    "Note that  w, S and B are needed for defining the likelihood.\n",
    "\n",
    "Implemented here:\n",
    "\n",
    "- `get_cells` -- return such a set for a given source.\n",
    "- `partition_cells` -- combine a set of cells with a partition, as in the Bayesian Block analysis"
   ]
  },
  {
   "cell_type": "code",
   "execution_count": null,
   "metadata": {},
   "outputs": [],
   "source": [
    "#hide\n",
    "from nbdev.showdoc import show_doc"
   ]
  },
  {
   "cell_type": "code",
   "execution_count": null,
   "metadata": {},
   "outputs": [],
   "source": [
    "#export\n",
    "import os\n",
    "import numpy as np\n",
    "import pandas as pd\n",
    "from wtlike.config import Config,  PointSource, Cache\n",
    "from wtlike.photon_data import get_photon_data\n",
    "from wtlike.weights import add_weights, check_weights\n",
    "from wtlike.exposure import get_exposure, get_binned_exposure, get_default_bins"
   ]
  },
  {
   "cell_type": "markdown",
   "metadata": {},
   "source": [
    "Create the binned exposure, and make a histogram of its output, the exposure per bin\n",
    "relative to the aveage. "
   ]
  },
  {
   "cell_type": "code",
   "execution_count": null,
   "metadata": {},
   "outputs": [
    {
     "name": "stdout",
     "output_type": "stream",
     "text": [
      "Loading photon data for using source Geminga to test adding weights\n",
      "Photon data: Saving to cache with key \"photons_Geminga\"\n",
      "Processing 11 FITS files with GTI information ...  11 files, 63635 intervals with 3,322 days live time\n",
      "Loading  132 months from Arrow dataset /home/burnett/data/dataset\n",
      "....................................................................................................................................\n",
      "\tSelected 1,863,406 photons within 7 deg of  (195.13,4.27)\n",
      "\tEnergies: 100.0-1000000 MeV\n",
      "\tDates:    2008-08-04 15:46 - 2019-08-03 01:17\n",
      "\tMJD  :    54682.7          - 58698.1         \n",
      "Load weights from file /mnt/c/users/thbur/OneDrive/fermi/weight_files/Geminga_weights.pkl\n",
      "\tFound: PSR J0633+1746 at (195.14, 4.27)\n",
      "\tApplyng weights: 420955 / 1863406 photon pixels are outside weight region\n",
      "\t686449 weights set to NaN\n",
      "binned exposure for source Geminga: Saving to cache with key \"binexp_Geminga\"\n",
      "exposure for Geminga: Saving to cache with key \"exposure_Geminga\"\n",
      "Processing 13 S/C history (FT2) files\n",
      "  applying cuts cos(theta) < 0.4,  z < 100\n",
      "\tfile /home/burnett/work/lat-data/ft2/ft2_2008.fits: 362996 entries, 360944 in GTI\n",
      "\tfile /home/burnett/work/lat-data/ft2/ft2_2009.fits: 874661 entries, 870446 in GTI\n",
      "\tfile /home/burnett/work/lat-data/ft2/ft2_2010.fits: 889547 entries, 884697 in GTI\n",
      "\tfile /home/burnett/work/lat-data/ft2/ft2_2011.fits: 882832 entries, 871672 in GTI\n",
      "\tfile /home/burnett/work/lat-data/ft2/ft2_2012.fits: 881317 entries, 868109 in GTI\n",
      "\tfile /home/burnett/work/lat-data/ft2/ft2_2013.fits: 885307 entries, 867342 in GTI\n",
      "\tfile /home/burnett/work/lat-data/ft2/ft2_2014.fits: 894730 entries, 886570 in GTI\n",
      "\tfile /home/burnett/work/lat-data/ft2/ft2_2015.fits: 890006 entries, 886086 in GTI\n",
      "\tfile /home/burnett/work/lat-data/ft2/ft2_2016.fits: 890933 entries, 884823 in GTI\n",
      "\tfile /home/burnett/work/lat-data/ft2/ft2_2017.fits: 888349 entries, 883761 in GTI\n",
      "\tfile /home/burnett/work/lat-data/ft2/ft2_2018.fits: 842824 entries, 830723 in GTI\n",
      "\tfile /home/burnett/work/lat-data/ft2/ft2_2019.fits: 737029 entries, 514657 in GTI\n",
      "\tfile /home/burnett/work/lat-data/ft2/ft2_2020.fits: 521162 entries, 0 in GTI\n",
      "\tFound 9,609,830 S/C entries:  2,695,715 remain after zenith and theta cuts\n",
      "Calculate exposure using the energy domain 100.0-1000000.0 4 bins/decade\n",
      "2695715 entries, MJD 54683 - 58698\n",
      "Time bins: 4015 intervals of 1 days, in range (54683.0, 58698.0)\n"
     ]
    },
    {
     "data": {
      "image/png": "[encoded data removed]",
      "text/plain": [
       "<Figure size 432x288 with 1 Axes>"
      ]
     },
     "metadata": {
      "needs_background": "light"
     },
     "output_type": "display_data"
    }
   ],
   "source": [
    "\n",
    "config = Config()\n",
    "source = PointSource('Geminga')\n",
    "\n",
    "if config.valid:\n",
    "    print(f'Loading photon data for using source {source.name} to test adding weights')\n",
    "    check_weights(config, source)\n",
    "    photon_data = get_photon_data(config, source )\n",
    "    add_weights(config, photon_data, source)\n",
    "    binned_exposure, time_bins = get_binned_exposure(config, source)\n",
    "    \n",
    "    plt.hist(binned_exposure.clip(0,2), 50, histtype='stepfilled');\n",
    "    plt.xlabel('Relative exposure/timebin');\n",
    "else:\n",
    "    print('Not testing since no files.')\n"
   ]
  },
  {
   "cell_type": "code",
   "execution_count": null,
   "metadata": {},
   "outputs": [],
   "source": [
    "#export\n",
    "class _WeightedCells(object):\n",
    "    \"\"\" Generate a list of cells, with access to cell data\n",
    "        weights\n",
    "    \"\"\"\n",
    "\n",
    "    def __init__(self, config, source,\n",
    "                 photon_data:'DataFrame with photon data',\n",
    "                 bins: 'time bins default if None'=None,\n",
    "                ):\n",
    "        \"\"\"\n",
    "        Use time binning photon_data to generate list of cells\n",
    "        \"\"\"\n",
    "        self.source_name =source.name\n",
    "        self.verbose = config.verbose\n",
    "        self.use_uint8  = config.use_uint8\n",
    "        \n",
    "        # exposure binned as well\n",
    "        self.fexposure, bins = get_binned_exposure(config, source=source, time_bins=bins, ) #bins, exposure)\n",
    "\n",
    "        # manage bins \n",
    "        self.N = len(bins)-1 # number of bins\n",
    "        self.bins = bins\n",
    "        self.bin_centers = 0.5*(bins[1:]+bins[:-1])\n",
    "        \n",
    "        # restrict photons to range of bin times\n",
    "        photons = photon_data.query(f'{bins[0]}<time<{bins[-1]}')\n",
    "\n",
    "        # get the photon data with good weights, not NaN\n",
    "        w = photons.weight\n",
    "        good = np.logical_not(np.isnan(w))\n",
    "        self.photons = photons.loc[good]\n",
    "        self.weights = w = self.photons.weight.values\n",
    "        \n",
    "        # estimates for averate signal and background per cell\n",
    "        self.S = np.sum(w)/self.N\n",
    "        self.B = np.sum(1-w)/self.N\n",
    "\n",
    "        # use photon times to get indices of bin edges\n",
    "        self._edges = np.searchsorted(self.photons.time, bins)\n",
    "\n",
    "\n",
    "    def __repr__(self):\n",
    "        return f'''{self.__class__}:\n",
    "        {len(self.fexposure)} intervals from {self.bins[0]:.1f} to {self.bins[-1]:.1f} for source {self.source_name}\n",
    "        S {self.S:.2f}  B {self.B:.2f} '''\n",
    "\n",
    "    def __getitem__(self, i):\n",
    "        \"\"\" get info for ith time bin and return dict with\n",
    "            t : MJD\n",
    "            tw: bin width,\n",
    "            e: exposure as fraction of total,\n",
    "            n : number of photons in bin\n",
    "            w : list of weights as uint8 integers<=255\n",
    "            S,B:  value\n",
    "        \"\"\"\n",
    "        k   = self._edges\n",
    "        w = self.weights[k[i]:k[i+1]]\n",
    "        wts = np.array(w*256, np.uint8) if self.use_uint8 else w\n",
    "        n = len(wts)\n",
    "        e = self.fexposure[i]\n",
    "        tw  = self.bins[i+1]-self.bins[i]\n",
    "\n",
    "        return dict(\n",
    "                t=self.bin_centers[i], # time\n",
    "                tw = tw,  # bin width\n",
    "                e=e, # moving to this name\n",
    "                n=n, # number of photons in bin\n",
    "                w=wts,\n",
    "                S= e *self.S,\n",
    "                B= e *self.B,\n",
    "                )\n",
    "\n",
    "    def __len__(self):\n",
    "        return self.N\n",
    "\n",
    "    @property\n",
    "    def dataframe(self):\n",
    "        \"\"\" combine all cells into a dataframe\n",
    "        \"\"\"\n",
    "        df = pd.DataFrame([cell for cell in self])\n",
    "        return df\n"
   ]
  },
  {
   "cell_type": "code",
   "execution_count": null,
   "metadata": {},
   "outputs": [],
   "source": [
    "#export\n",
    "def get_cells(config,  source, bins=None, key=''):\n",
    "    \"\"\"Return a cells DataFrame for the source\n",
    "    \n",
    "    - source -- `PointSource` object\n",
    "    - bins -- None, or an array of bin edges to define cells. If None use the default defined in config\n",
    "    \n",
    "  \n",
    "    \"\"\"\n",
    "    def doit(config, source, bins):\n",
    "        photon_data = get_photon_data(config,   source )\n",
    "        add_weights(config,  photon_data, source)\n",
    "\n",
    "        return _WeightedCells(config, source,photon_data, bins).dataframe\n",
    "    \n",
    "    key = f'cells_{source.name}' if key=='' else  key \n",
    "    description = f'Cell data for {source.name}' if config.verbose>0 and key is not None else ''\n",
    "\n",
    "    return config.cache(key, doit, config, source, bins, description=description)"
   ]
  },
  {
   "cell_type": "code",
   "execution_count": null,
   "metadata": {},
   "outputs": [
    {
     "data": {
      "text/markdown": [
       "<h4 id=\"get_cells\" class=\"doc_header\"><code>get_cells</code><a href=\"__main__.py#L2\" class=\"source_link\" style=\"float:right\">[source]</a></h4>\n",
       "\n",
       "> <code>get_cells</code>(**`config`**, **`source`**, **`bins`**=*`None`*, **`key`**=*`''`*)\n",
       "\n",
       "Return a cells DataFrame for the source\n",
       "\n",
       "- source -- [`PointSource`](wtlike/config#PointSource) object\n",
       "- bins -- None, or an array of bin edges to define cells. If None use the default defined in config"
      ],
      "text/plain": [
       "<IPython.core.display.Markdown object>"
      ]
     },
     "metadata": {},
     "output_type": "display_data"
    }
   ],
   "source": [
    "show_doc(get_cells)"
   ]
  },
  {
   "cell_type": "markdown",
   "metadata": {},
   "source": [
    "Create a table of cells"
   ]
  },
  {
   "cell_type": "code",
   "execution_count": null,
   "metadata": {},
   "outputs": [
    {
     "name": "stdout",
     "output_type": "stream",
     "text": [
      "Photon data: Restoring from cache with key \"photons_Geminga\"\n",
      "\n",
      "\tSelected 1,863,406 photons within 7 deg of  (195.13,4.27)\n",
      "\tEnergies: 100.0-1000000 MeV\n",
      "\tDates:    2008-08-04 15:46 - 2019-08-03 01:17\n",
      "\tMJD  :    54682.7          - 58698.1         \n",
      "Load weights from file /mnt/c/users/thbur/OneDrive/fermi/weight_files/Geminga_weights.pkl\n",
      "\tFound: PSR J0633+1746 at (195.14, 4.27)\n",
      "\tApplyng weights: 420955 / 1863406 photon pixels are outside weight region\n",
      "\t686449 weights set to NaN\n",
      "binned exposure for source Geminga: Restoring from cache with key \"binexp_Geminga\"\n"
     ]
    }
   ],
   "source": [
    "\n",
    "if config.valid:\n",
    "    cells = get_cells(config, source, key=None)"
   ]
  },
  {
   "cell_type": "markdown",
   "metadata": {},
   "source": [
    "A look at the contents of the first cell"
   ]
  },
  {
   "cell_type": "code",
   "execution_count": null,
   "metadata": {},
   "outputs": [
    {
     "name": "stdout",
     "output_type": "stream",
     "text": [
      "t                                               5.5e+04\n",
      "tw                                                    1\n",
      "e                                                   1.3\n",
      "n                                                   356\n",
      "w     [0.95343286, 0.83939403, 0.68349504, 0.0219892...\n",
      "S                                               2.3e+02\n",
      "B                                               1.4e+02\n",
      "Name: 0, dtype: object\n"
     ]
    }
   ],
   "source": [
    "if config.valid:\n",
    "    print(pd.Series(cells.iloc[0]))\n"
   ]
  },
  {
   "cell_type": "markdown",
   "metadata": {},
   "source": [
    "An important check of the procedure is a comparison of the sum of weights in a cell with the exposure for that time interval."
   ]
  },
  {
   "cell_type": "code",
   "execution_count": null,
   "metadata": {},
   "outputs": [
    {
     "data": {
      "image/png": "[encoded data removed]",
      "text/plain": [
       "<Figure size 432x288 with 1 Axes>"
      ]
     },
     "metadata": {
      "needs_background": "light"
     },
     "output_type": "display_data"
    }
   ],
   "source": [
    "#collapse_input\n",
    "if config.valid:\n",
    "    # check sums\n",
    "    S = np.sum(cells.S.values)\n",
    "    B = np.sum(cells.B.values)\n",
    "    n = np.sum(cells.n)\n",
    "    assert np.abs((S+B)/n -1)  < 0.1, f'Failed count check: total counts, {n}  shouuld be same as S+B,  {S+B}'\n",
    "    wsum = cells.w.apply(np.sum)\n",
    "    if config.use_uint8: w/= 256.;\n",
    "    plt.semilogy(cells.e, (wsum/cells.e).clip(1e2,5e2), '.');\n",
    "    plt.xlabel('exposure')\n",
    "    plt.ylabel('sum of weights / exposure');\n",
    "    plt.grid(alpha=0.5)"
   ]
  },
  {
   "cell_type": "code",
   "execution_count": null,
   "metadata": {},
   "outputs": [],
   "source": []
  },
  {
   "cell_type": "code",
   "execution_count": null,
   "metadata": {},
   "outputs": [],
   "source": [
    "#export \n",
    "def concatenate_cells( cells):\n",
    "    \"\"\"\n",
    "    Combine a group of cells to one\n",
    "    - cells: dataframe with cells containing  n, w, S, B<br>\n",
    "            Optionally, if $t$ is present, generate t and tw\n",
    "    Return a dict with summed n, S, B, and concatenated w\n",
    "    \"\"\"\n",
    "    newcell = dict()\n",
    "    if 't' in cells:\n",
    "        ca, cb =cells.iloc[0], cells.iloc[-1]\n",
    "        newcell.update(dict(t= 0.5*(ca.t-ca.tw/2 + cb.t+cb.tw/2), tw=cb.t-ca.t ))\n",
    "\n",
    "    for col in ' n S B'.split():\n",
    "        newcell[col] = cells[col].sum()\n",
    "    newcell['w'] = np.concatenate(list(cells.w.values))\n",
    "    return newcell"
   ]
  },
  {
   "cell_type": "code",
   "execution_count": null,
   "metadata": {},
   "outputs": [
    {
     "data": {
      "text/markdown": [
       "<h4 id=\"concatenate_cells\" class=\"doc_header\"><code>concatenate_cells</code><a href=\"__main__.py#L2\" class=\"source_link\" style=\"float:right\">[source]</a></h4>\n",
       "\n",
       "> <code>concatenate_cells</code>(**`cells`**)\n",
       "\n",
       "Combine a group of cells to one\n",
       "- cells: dataframe with cells containing  n, w, S, B<br>\n",
       "        Optionally, if $t$ is present, generate t and tw\n",
       "Return a dict with summed n, S, B, and concatenated w"
      ],
      "text/plain": [
       "<IPython.core.display.Markdown object>"
      ]
     },
     "metadata": {},
     "output_type": "display_data"
    }
   ],
   "source": [
    "show_doc(concatenate_cells)"
   ]
  },
  {
   "cell_type": "markdown",
   "metadata": {},
   "source": [
    "#### Test combination"
   ]
  },
  {
   "cell_type": "code",
   "execution_count": null,
   "metadata": {},
   "outputs": [],
   "source": [
    "#collapse-#hide\n",
    "if Config().valid:\n",
    "    onecell = concatenate_cells(cells)\n",
    "    pd.Series(onecell)"
   ]
  },
  {
   "cell_type": "code",
   "execution_count": null,
   "metadata": {},
   "outputs": [],
   "source": [
    "#export\n",
    "def partition_cells(config, cells, edges):\n",
    "    \"\"\" Partition a set of cells\n",
    "     - cells -- A DataFrame of cells\n",
    "     - edges  -- a list of edges delimiting boundaries between cells\n",
    "    \"\"\"\n",
    "    # should check limitsk\n",
    "    ii = np.searchsorted(cells.t, edges)\n",
    "    \n",
    "    newcells = []\n",
    "    for k in range(len(ii)-1):\n",
    "        a,b = ii[k:k+2]\n",
    "        subset = cells.iloc[a:b]; \n",
    "\n",
    "        ca, cb = subset.iloc[0], subset.iloc[-1]\n",
    "        newcell = dict(t= 0.5*(ca.t-ca.tw/2 + cb.t+cb.tw/2)  )\n",
    "\n",
    "        for col in 'tw e n S B'.split():\n",
    "            newcell[col] = subset[col].sum()\n",
    "        newcell['e'] /= len(subset)\n",
    "        newcell['w'] = np.concatenate(list(subset.w.values)) #np.array(w, np.uint8)\n",
    "        newcells.append(newcell)\n",
    "    return pd.DataFrame(newcells)        \n",
    "    "
   ]
  },
  {
   "cell_type": "code",
   "execution_count": null,
   "metadata": {},
   "outputs": [
    {
     "data": {
      "text/markdown": [
       "<h4 id=\"partition_cells\" class=\"doc_header\"><code>partition_cells</code><a href=\"__main__.py#L2\" class=\"source_link\" style=\"float:right\">[source]</a></h4>\n",
       "\n",
       "> <code>partition_cells</code>(**`config`**, **`cells`**, **`edges`**)\n",
       "\n",
       "Partition a set of cells\n",
       "- cells -- A DataFrame of cells\n",
       "- edges  -- a list of edges delimiting boundaries between cells"
      ],
      "text/plain": [
       "<IPython.core.display.Markdown object>"
      ]
     },
     "metadata": {},
     "output_type": "display_data"
    }
   ],
   "source": [
    "show_doc(partition_cells)"
   ]
  },
  {
   "cell_type": "code",
   "execution_count": null,
   "metadata": {},
   "outputs": [
    {
     "name": "stdout",
     "output_type": "stream",
     "text": [
      "Test partition by selecting subset of current bin edges\n",
      "         t   tw     e     n       S       B  \\\n",
      "0  54685.0  4.0  1.27  1506  910.17  576.15   \n",
      "1  54689.0  4.0  1.27  1500  911.65  577.09   \n",
      "2  54693.0  4.0  1.07  1317  770.74  487.89   \n",
      "3  54697.0  4.0  0.89  1013  640.48  405.43   \n",
      "\n",
      "                                                   w  \n",
      "0  [0.95343286, 0.83939403, 0.68349504, 0.0219892...  \n",
      "1  [0.03853981, 0.038505126, 0.15516773, 0.962390...  \n",
      "2  [0.9380934, 0.13239114, 0.9046178, 0.08604455,...  \n",
      "3  [0.58639663, 0.16927844, 0.72475386, 0.9188949...  \n"
     ]
    }
   ],
   "source": [
    "if config.valid:\n",
    "    print('Test partition by selecting subset of current bin edges')\n",
    "    edges = cells.t.values-cells.tw.values/2\n",
    "    width = 4\n",
    "    newbins = edges[:20:width ];\n",
    "    pd.set_option('display.precision',2 )\n",
    "    pd.set_option('display.max_seq_items',4 )\n",
    "    newcells = partition_cells(config, cells, newbins)\n",
    "    print(newcells)"
   ]
  },
  {
   "cell_type": "code",
   "execution_count": null,
   "metadata": {},
   "outputs": [
    {
     "name": "stdout",
     "output_type": "stream",
     "text": [
      "Converted 00_config.ipynb.\n",
      "Converted 01-data_man.ipynb.\n",
      "Converted 01_effective_area.ipynb.\n",
      "Converted 02-source_data.ipynb.\n",
      "Converted 02_gti.ipynb.\n",
      "Converted 03_exposure.ipynb.\n",
      "Converted 04_photon_data.ipynb.\n",
      "Converted 05_weights.ipynb.\n",
      "Converted 06_poisson.ipynb.\n",
      "Converted 07_cells.ipynb.\n",
      "Converted 08_loglike.ipynb.\n",
      "Converted 09_lightcurve.ipynb.\n",
      "Converted 10_simulation.ipynb.\n",
      "Converted 14_bayesian.ipynb.\n",
      "Converted index.ipynb.\n",
      "Mon Mar 29 10:11:33 PDT 2021\n"
     ]
    }
   ],
   "source": [
    "#hide\n",
    "from nbdev.export import notebook2script\n",
    "notebook2script()\n",
    "!date"
   ]
  },
  {
   "cell_type": "code",
   "execution_count": null,
   "metadata": {},
   "outputs": [],
   "source": []
  }
 ],
 "metadata": {
  "kernelspec": {
   "display_name": "Python 3",
   "language": "python",
   "name": "python3"
  }
 },
 "nbformat": 4,
 "nbformat_minor": 4
}
