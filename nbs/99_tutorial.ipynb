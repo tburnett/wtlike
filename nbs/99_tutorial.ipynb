{
 "cells": [
  {
   "cell_type": "code",
   "execution_count": null,
   "id": "minus-melissa",
   "metadata": {
    "tags": []
   },
   "outputs": [],
   "source": [
    "from wtlike import *"
   ]
  },
  {
   "cell_type": "markdown",
   "id": "sexual-softball",
   "metadata": {},
   "source": [
    "# wtlike tutorial\n",
    "\n",
    "> A step by step guide"
   ]
  },
  {
   "cell_type": "markdown",
   "id": "documented-norway",
   "metadata": {},
   "source": [
    "### Install `wtlike`"
   ]
  },
  {
   "cell_type": "markdown",
   "id": "caring-monthly",
   "metadata": {},
   "source": [
    "This assumes that you already have a Jupyter Notebook Server configured on your machine. \n",
    "\n",
    "`wtlike` is on PyPI\n",
    "\n",
    "```\n",
    "pip install wtlike\n",
    "```\n",
    "We use a simulated on-the-fly dataset in lieu of downloading the 2-GB file with all of fermi data."
   ]
  },
  {
   "cell_type": "markdown",
   "id": "pending-advocate",
   "metadata": {},
   "source": [
    "### Define a source flux function. \n",
    "Note that we measure time in day units, and will pick a 30-day interval for this demo.\n",
    "\n",
    "The following function has a flare at 15 days."
   ]
  },
  {
   "cell_type": "code",
   "execution_count": null,
   "id": "spread-ontario",
   "metadata": {},
   "outputs": [],
   "source": [
    "def src_flare(t, tzero=15, width=1, amp=5):\n",
    "    return 1e-6*(1 + amp*np.exp(-(t-tzero)**2/2/width))"
   ]
  },
  {
   "cell_type": "markdown",
   "id": "fitting-naples",
   "metadata": {},
   "source": [
    "We use it to tell the simulation that the flux has this behavior. Note defaults:\n",
    "\n",
    "- background -- 1e-6 /s\n",
    "- exposure rate -- 3000 cm^2 \n",
    "\n",
    "Here we create a `Simulation` object, then pass it to the primary wtlike entry point, the class `WtLike`.\n",
    "We tell it to immediately bin the photons into daily time-bins, called \"cells\". (That can be easily redone.)"
   ]
  },
  {
   "cell_type": "code",
   "execution_count": null,
   "id": "likely-excerpt",
   "metadata": {},
   "outputs": [
    {
     "name": "stdout",
     "output_type": "stream",
     "text": [
      "generated 18719 photons\n",
      "WtLike: Source flare_sim with:\n",
      "\t data:        18,719 simulated photons over 30.0 days.\n",
      "\t exposure:     8,640 intervals,  average rate 3000 cm^2 for 2.6 Ms\n",
      "\t rates:  source 1.41e-06/s, background 1.00e-06/s, S/N ratio 1.41\n",
      "CellData: Bin photon data into 30 1-day bins from 0.0 to 30.0\n",
      "LightCurve: select 30 cells for fitting with e>10 & n>2\n"
     ]
    }
   ],
   "source": [
    "test_sim = Simulation('flare_sim', src_flux=src_flare, tstart=0, tstop=30, )\n",
    "daily = WtLike(test_sim, time_bins=(0,0,1))"
   ]
  },
  {
   "cell_type": "markdown",
   "id": "elder-expense",
   "metadata": {},
   "source": [
    "Now make a light curve!"
   ]
  },
  {
   "cell_type": "code",
   "execution_count": null,
   "id": "differential-civilian",
   "metadata": {},
   "outputs": [
    {
     "data": {
      "image/png": "[encoded data removed]",
      "text/plain": [
       "<Figure size 864x288 with 1 Axes>"
      ]
     },
     "metadata": {},
     "output_type": "display_data"
    }
   ],
   "source": [
    "daily.plot();"
   ]
  },
  {
   "cell_type": "markdown",
   "id": "surrounded-story",
   "metadata": {},
   "source": [
    "The cells have each been analyzed to create a likelihood function representation for each. The first few cells are:"
   ]
  },
  {
   "cell_type": "code",
   "execution_count": null,
   "id": "welsh-recognition",
   "metadata": {},
   "outputs": [
    {
     "data": {
      "text/html": [
       "<div>\n",
       "<style scoped>\n",
       "    .dataframe tbody tr th:only-of-type {\n",
       "        vertical-align: middle;\n",
       "    }\n",
       "\n",
       "    .dataframe tbody tr th {\n",
       "        vertical-align: top;\n",
       "    }\n",
       "\n",
       "    .dataframe thead th {\n",
       "        text-align: right;\n",
       "    }\n",
       "</style>\n",
       "<table border=\"1\" class=\"dataframe\">\n",
       "  <thead>\n",
       "    <tr style=\"text-align: right;\">\n",
       "      <th></th>\n",
       "      <th>t</th>\n",
       "      <th>tw</th>\n",
       "      <th>e</th>\n",
       "      <th>n</th>\n",
       "      <th>w</th>\n",
       "      <th>S</th>\n",
       "      <th>B</th>\n",
       "    </tr>\n",
       "  </thead>\n",
       "  <tbody>\n",
       "    <tr>\n",
       "      <th>0</th>\n",
       "      <td>0.5</td>\n",
       "      <td>1.0</td>\n",
       "      <td>258.3</td>\n",
       "      <td>545</td>\n",
       "      <td>[0.045838855, 0.017929373, 0.003666568, 0.0297...</td>\n",
       "      <td>363.58</td>\n",
       "      <td>258.22</td>\n",
       "    </tr>\n",
       "    <tr>\n",
       "      <th>1</th>\n",
       "      <td>1.5</td>\n",
       "      <td>1.0</td>\n",
       "      <td>259.2</td>\n",
       "      <td>524</td>\n",
       "      <td>[0.42117244, 0.8847942, 0.0033767915, 0.364480...</td>\n",
       "      <td>364.85</td>\n",
       "      <td>259.12</td>\n",
       "    </tr>\n",
       "  </tbody>\n",
       "</table>\n",
       "</div>"
      ],
      "text/plain": [
       "     t   tw      e    n                                                  w  \\\n",
       "0  0.5  1.0  258.3  545  [0.045838855, 0.017929373, 0.003666568, 0.0297...   \n",
       "1  1.5  1.0  259.2  524  [0.42117244, 0.8847942, 0.0033767915, 0.364480...   \n",
       "\n",
       "        S       B  \n",
       "0  363.58  258.22  \n",
       "1  364.85  259.12  "
      ]
     },
     "execution_count": null,
     "metadata": {},
     "output_type": "execute_result"
    }
   ],
   "source": [
    "daily.cells.head(2)"
   ]
  },
  {
   "cell_type": "markdown",
   "id": "minor-automation",
   "metadata": {},
   "source": [
    "The Kerr likelihood function is definded by $w$, the list of weights, and $S$, an estimate for the signal counts in the cell\n",
    "\n",
    "$$ \\displaystyle\\log\\mathcal{L}(\\alpha\\ |\\ w)\\ = \\sum_{w}  \\log \\big( 1 + \\alpha\\ w \\big) - \\alpha\\ S  $$\n",
    "\n",
    "where $\\alpha$ is the varation from the nominal zero. The backgrond is assumed to be constant here, as it usually is the region surrounding sources of interest. \n",
    "So the relative flux is $1+\\alpha$. \n",
    "\n",
    "Parmeters of this function are determined by fitting it to a Poisson-like function, which easily provides the parameters of interest."
   ]
  },
  {
   "cell_type": "code",
   "execution_count": null,
   "id": "increased-elephant",
   "metadata": {},
   "outputs": [
    {
     "data": {
      "text/html": [
       "<div>\n",
       "<style scoped>\n",
       "    .dataframe tbody tr th:only-of-type {\n",
       "        vertical-align: middle;\n",
       "    }\n",
       "\n",
       "    .dataframe tbody tr th {\n",
       "        vertical-align: top;\n",
       "    }\n",
       "\n",
       "    .dataframe thead th {\n",
       "        text-align: right;\n",
       "    }\n",
       "</style>\n",
       "<table border=\"1\" class=\"dataframe\">\n",
       "  <thead>\n",
       "    <tr style=\"text-align: right;\">\n",
       "      <th></th>\n",
       "      <th>t</th>\n",
       "      <th>tw</th>\n",
       "      <th>n</th>\n",
       "      <th>ts</th>\n",
       "      <th>flux</th>\n",
       "      <th>errors</th>\n",
       "      <th>limit</th>\n",
       "    </tr>\n",
       "  </thead>\n",
       "  <tbody>\n",
       "    <tr>\n",
       "      <th>0</th>\n",
       "      <td>0.5</td>\n",
       "      <td>1.0</td>\n",
       "      <td>545</td>\n",
       "      <td>406.0</td>\n",
       "      <td>0.65</td>\n",
       "      <td>(-0.05, 0.051)</td>\n",
       "      <td>0.74</td>\n",
       "    </tr>\n",
       "    <tr>\n",
       "      <th>1</th>\n",
       "      <td>1.5</td>\n",
       "      <td>1.0</td>\n",
       "      <td>524</td>\n",
       "      <td>384.1</td>\n",
       "      <td>0.63</td>\n",
       "      <td>(-0.049, 0.051)</td>\n",
       "      <td>0.72</td>\n",
       "    </tr>\n",
       "  </tbody>\n",
       "</table>\n",
       "</div>"
      ],
      "text/plain": [
       "     t   tw    n     ts  flux           errors  limit\n",
       "0  0.5  1.0  545  406.0  0.65   (-0.05, 0.051)   0.74\n",
       "1  1.5  1.0  524  384.1  0.63  (-0.049, 0.051)   0.72"
      ]
     },
     "execution_count": null,
     "metadata": {},
     "output_type": "execute_result"
    }
   ],
   "source": [
    "daily.fluxes.head(2)"
   ]
  },
  {
   "cell_type": "markdown",
   "id": "third-carter",
   "metadata": {},
   "source": [
    "Note that the properties `photons`, `exposure`, `cells`, `fits`, and `fluxes` are [DataFrames](https://pandas.pydata.org/pandas-docs/stable/reference/api/pandas.DataFrame.html). So we can find a fit at the peak with a `query`."
   ]
  },
  {
   "cell_type": "code",
   "execution_count": null,
   "id": "antique-absence",
   "metadata": {},
   "outputs": [
    {
     "data": {
      "text/html": [
       "<div>\n",
       "<style scoped>\n",
       "    .dataframe tbody tr th:only-of-type {\n",
       "        vertical-align: middle;\n",
       "    }\n",
       "\n",
       "    .dataframe tbody tr th {\n",
       "        vertical-align: top;\n",
       "    }\n",
       "\n",
       "    .dataframe thead th {\n",
       "        text-align: right;\n",
       "    }\n",
       "</style>\n",
       "<table border=\"1\" class=\"dataframe\">\n",
       "  <thead>\n",
       "    <tr style=\"text-align: right;\">\n",
       "      <th></th>\n",
       "      <th>t</th>\n",
       "      <th>tw</th>\n",
       "      <th>n</th>\n",
       "      <th>ts</th>\n",
       "      <th>flux</th>\n",
       "      <th>errors</th>\n",
       "      <th>limit</th>\n",
       "    </tr>\n",
       "  </thead>\n",
       "  <tbody>\n",
       "    <tr>\n",
       "      <th>14</th>\n",
       "      <td>14.5</td>\n",
       "      <td>1.0</td>\n",
       "      <td>1606</td>\n",
       "      <td>9644.3</td>\n",
       "      <td>3.97</td>\n",
       "      <td>(-0.106, 0.107)</td>\n",
       "      <td>4.15</td>\n",
       "    </tr>\n",
       "    <tr>\n",
       "      <th>15</th>\n",
       "      <td>15.5</td>\n",
       "      <td>1.0</td>\n",
       "      <td>1598</td>\n",
       "      <td>9648.8</td>\n",
       "      <td>3.94</td>\n",
       "      <td>(-0.105, 0.107)</td>\n",
       "      <td>4.11</td>\n",
       "    </tr>\n",
       "  </tbody>\n",
       "</table>\n",
       "</div>"
      ],
      "text/plain": [
       "       t   tw     n      ts  flux           errors  limit\n",
       "14  14.5  1.0  1606  9644.3  3.97  (-0.106, 0.107)   4.15\n",
       "15  15.5  1.0  1598  9648.8  3.94  (-0.105, 0.107)   4.11"
      ]
     },
     "execution_count": null,
     "metadata": {},
     "output_type": "execute_result"
    }
   ],
   "source": [
    "daily.fluxes.query('flux>3')"
   ]
  },
  {
   "cell_type": "markdown",
   "id": "elegant-chester",
   "metadata": {},
   "source": [
    "## Views\n",
    "A `WtLike` object provides a function `view`, which returns a **new** instance with a different binning. \n",
    "So if we want a detailed look at the flare, we can choose an interval as so:"
   ]
  },
  {
   "cell_type": "code",
   "execution_count": null,
   "id": "recorded-platinum",
   "metadata": {},
   "outputs": [
    {
     "name": "stdout",
     "output_type": "stream",
     "text": [
      "CellData: Bin photon data into 40 6-hour bins from 10.0 to 20.0\n",
      "LightCurve: select 40 cells for fitting with e>10 & n>2\n"
     ]
    },
    {
     "data": {
      "image/png": "[encoded data removed]",
      "text/plain": [
       "<Figure size 864x288 with 1 Axes>"
      ]
     },
     "metadata": {},
     "output_type": "display_data"
    }
   ],
   "source": [
    "qday = daily.view((10,-10, 0.25))\n",
    "qday.plot();"
   ]
  },
  {
   "cell_type": "markdown",
   "id": "entitled-egyptian",
   "metadata": {},
   "source": [
    "### Bayesian-Block view\n",
    "The WtLike object also has a special `bb_view` function, which does a Bayesian Block analysis.  "
   ]
  },
  {
   "cell_type": "code",
   "execution_count": null,
   "id": "peripheral-merchant",
   "metadata": {},
   "outputs": [
    {
     "name": "stdout",
     "output_type": "stream",
     "text": [
      "LightCurve: select 40 cells for fitting with e>10 & n>2\n",
      "Partitioned 40 cells into 9 blocks, using LikelihoodFitness \n",
      "LightCurve: Loaded 9 / 9 cells for fitting\n"
     ]
    },
    {
     "data": {
      "image/png": "[encoded data removed]",
      "text/plain": [
       "<Figure size 864x288 with 1 Axes>"
      ]
     },
     "metadata": {},
     "output_type": "display_data"
    }
   ],
   "source": [
    "bb = qday.bb_view();bb.plot();"
   ]
  },
  {
   "cell_type": "markdown",
   "id": "precise-burning",
   "metadata": {},
   "source": [
    "This has created variable-sized cells, the fits for which are shown here:"
   ]
  },
  {
   "cell_type": "code",
   "execution_count": null,
   "id": "interested-pittsburgh",
   "metadata": {},
   "outputs": [
    {
     "data": {
      "text/html": [
       "<div>\n",
       "<style scoped>\n",
       "    .dataframe tbody tr th:only-of-type {\n",
       "        vertical-align: middle;\n",
       "    }\n",
       "\n",
       "    .dataframe tbody tr th {\n",
       "        vertical-align: top;\n",
       "    }\n",
       "\n",
       "    .dataframe thead th {\n",
       "        text-align: right;\n",
       "    }\n",
       "</style>\n",
       "<table border=\"1\" class=\"dataframe\">\n",
       "  <thead>\n",
       "    <tr style=\"text-align: right;\">\n",
       "      <th></th>\n",
       "      <th>t</th>\n",
       "      <th>tw</th>\n",
       "      <th>n</th>\n",
       "      <th>ts</th>\n",
       "      <th>flux</th>\n",
       "      <th>errors</th>\n",
       "      <th>limit</th>\n",
       "    </tr>\n",
       "  </thead>\n",
       "  <tbody>\n",
       "    <tr>\n",
       "      <th>0</th>\n",
       "      <td>11.38</td>\n",
       "      <td>2.75</td>\n",
       "      <td>1439</td>\n",
       "      <td>1078.7</td>\n",
       "      <td>0.63</td>\n",
       "      <td>(-0.03, 0.03)</td>\n",
       "      <td>0.68</td>\n",
       "    </tr>\n",
       "    <tr>\n",
       "      <th>1</th>\n",
       "      <td>13.00</td>\n",
       "      <td>0.50</td>\n",
       "      <td>372</td>\n",
       "      <td>847.5</td>\n",
       "      <td>1.41</td>\n",
       "      <td>(-0.093, 0.096)</td>\n",
       "      <td>1.57</td>\n",
       "    </tr>\n",
       "    <tr>\n",
       "      <th>2</th>\n",
       "      <td>13.62</td>\n",
       "      <td>0.75</td>\n",
       "      <td>756</td>\n",
       "      <td>2805.6</td>\n",
       "      <td>2.21</td>\n",
       "      <td>(-0.093, 0.095)</td>\n",
       "      <td>2.37</td>\n",
       "    </tr>\n",
       "    <tr>\n",
       "      <th>3</th>\n",
       "      <td>14.38</td>\n",
       "      <td>0.75</td>\n",
       "      <td>1170</td>\n",
       "      <td>6832.2</td>\n",
       "      <td>3.83</td>\n",
       "      <td>(-0.12, 0.122)</td>\n",
       "      <td>4.04</td>\n",
       "    </tr>\n",
       "    <tr>\n",
       "      <th>4</th>\n",
       "      <td>15.12</td>\n",
       "      <td>0.75</td>\n",
       "      <td>1324</td>\n",
       "      <td>8539.5</td>\n",
       "      <td>4.42</td>\n",
       "      <td>(-0.128, 0.13)</td>\n",
       "      <td>4.64</td>\n",
       "    </tr>\n",
       "    <tr>\n",
       "      <th>5</th>\n",
       "      <td>15.88</td>\n",
       "      <td>0.75</td>\n",
       "      <td>1023</td>\n",
       "      <td>5393.7</td>\n",
       "      <td>3.26</td>\n",
       "      <td>(-0.111, 0.113)</td>\n",
       "      <td>3.45</td>\n",
       "    </tr>\n",
       "    <tr>\n",
       "      <th>6</th>\n",
       "      <td>16.50</td>\n",
       "      <td>0.50</td>\n",
       "      <td>479</td>\n",
       "      <td>1606.8</td>\n",
       "      <td>2.02</td>\n",
       "      <td>(-0.109, 0.112)</td>\n",
       "      <td>2.21</td>\n",
       "    </tr>\n",
       "    <tr>\n",
       "      <th>7</th>\n",
       "      <td>17.00</td>\n",
       "      <td>0.50</td>\n",
       "      <td>333</td>\n",
       "      <td>672.3</td>\n",
       "      <td>1.20</td>\n",
       "      <td>(-0.086, 0.09)</td>\n",
       "      <td>1.36</td>\n",
       "    </tr>\n",
       "    <tr>\n",
       "      <th>8</th>\n",
       "      <td>18.62</td>\n",
       "      <td>2.75</td>\n",
       "      <td>1416</td>\n",
       "      <td>1083.1</td>\n",
       "      <td>0.62</td>\n",
       "      <td>(-0.029, 0.03)</td>\n",
       "      <td>0.67</td>\n",
       "    </tr>\n",
       "  </tbody>\n",
       "</table>\n",
       "</div>"
      ],
      "text/plain": [
       "       t    tw     n      ts  flux           errors  limit\n",
       "0  11.38  2.75  1439  1078.7  0.63    (-0.03, 0.03)   0.68\n",
       "1  13.00  0.50   372   847.5  1.41  (-0.093, 0.096)   1.57\n",
       "2  13.62  0.75   756  2805.6  2.21  (-0.093, 0.095)   2.37\n",
       "3  14.38  0.75  1170  6832.2  3.83   (-0.12, 0.122)   4.04\n",
       "4  15.12  0.75  1324  8539.5  4.42   (-0.128, 0.13)   4.64\n",
       "5  15.88  0.75  1023  5393.7  3.26  (-0.111, 0.113)   3.45\n",
       "6  16.50  0.50   479  1606.8  2.02  (-0.109, 0.112)   2.21\n",
       "7  17.00  0.50   333   672.3  1.20   (-0.086, 0.09)   1.36\n",
       "8  18.62  2.75  1416  1083.1  0.62   (-0.029, 0.03)   0.67"
      ]
     },
     "execution_count": null,
     "metadata": {},
     "output_type": "execute_result"
    }
   ],
   "source": [
    "bb.fluxes"
   ]
  },
  {
   "cell_type": "markdown",
   "id": "appropriate-breast",
   "metadata": {},
   "source": [
    "### Getting help\n",
    "This jupyterlab environment allows easy exploration of help for any class or function.\n",
    "The two classes so far:"
   ]
  },
  {
   "cell_type": "code",
   "execution_count": null,
   "id": "desirable-necklace",
   "metadata": {},
   "outputs": [
    {
     "data": {
      "text/plain": [
       "\u001b[0;31mInit signature:\u001b[0m\n",
       "\u001b[0mSimulation\u001b[0m\u001b[0;34m(\u001b[0m\u001b[0;34m\u001b[0m\n",
       "\u001b[0;34m\u001b[0m    \u001b[0mname\u001b[0m\u001b[0;34m,\u001b[0m\u001b[0;34m\u001b[0m\n",
       "\u001b[0;34m\u001b[0m    \u001b[0msrc_flux\u001b[0m\u001b[0;34m,\u001b[0m\u001b[0;34m\u001b[0m\n",
       "\u001b[0;34m\u001b[0m    \u001b[0mtstart\u001b[0m\u001b[0;34m,\u001b[0m\u001b[0;34m\u001b[0m\n",
       "\u001b[0;34m\u001b[0m    \u001b[0mtstop\u001b[0m\u001b[0;34m,\u001b[0m\u001b[0;34m\u001b[0m\n",
       "\u001b[0;34m\u001b[0m    \u001b[0mbkg_flux\u001b[0m\u001b[0;34m=\u001b[0m\u001b[0;36m1e-06\u001b[0m\u001b[0;34m,\u001b[0m\u001b[0;34m\u001b[0m\n",
       "\u001b[0;34m\u001b[0m    \u001b[0mefun\u001b[0m\u001b[0;34m=\u001b[0m\u001b[0;36m3000\u001b[0m\u001b[0;34m,\u001b[0m\u001b[0;34m\u001b[0m\n",
       "\u001b[0;34m\u001b[0m    \u001b[0mwt_signif\u001b[0m\u001b[0;34m=\u001b[0m\u001b[0;36m0.1\u001b[0m\u001b[0;34m,\u001b[0m\u001b[0;34m\u001b[0m\n",
       "\u001b[0;34m\u001b[0m\u001b[0;34m)\u001b[0m\u001b[0;34m\u001b[0m\u001b[0;34m\u001b[0m\u001b[0m\n",
       "\u001b[0;31mDocstring:\u001b[0m      <no docstring>\n",
       "\u001b[0;31mInit docstring:\u001b[0m\n",
       "- src_flux : source flux, scalar or function of days, typically around 1e-7\n",
       "- tstart, tstop :(days)\n",
       "- bkg_flux : background flux, scalar or function of day, typicaly 1e-6 for 4-deg cone\n",
       "- efun : scalar, function (of time in days) of the exposure/s. Typically 3000 cm^2 for fermi\n",
       "\n",
       "- wt_signif : now the width of the PSF in (r/rmax)**2 coordinates\n",
       "\u001b[0;31mFile:\u001b[0m           /mnt/c/users/thbur/OneDrive/work/wtlike/wtlike/simulation.py\n",
       "\u001b[0;31mType:\u001b[0m           type\n",
       "\u001b[0;31mSubclasses:\u001b[0m     \n"
      ]
     },
     "metadata": {},
     "output_type": "display_data"
    }
   ],
   "source": [
    "Simulation = Simulation\n",
    "Simulation?"
   ]
  },
  {
   "cell_type": "code",
   "execution_count": null,
   "id": "helpful-medline",
   "metadata": {},
   "outputs": [
    {
     "data": {
      "text/plain": [
       "\u001b[0;31mInit signature:\u001b[0m \u001b[0mWtLike\u001b[0m\u001b[0;34m(\u001b[0m\u001b[0;34m*\u001b[0m\u001b[0mpars\u001b[0m\u001b[0;34m,\u001b[0m \u001b[0;34m**\u001b[0m\u001b[0mkwargs\u001b[0m\u001b[0;34m)\u001b[0m\u001b[0;34m\u001b[0m\u001b[0;34m\u001b[0m\u001b[0m\n",
       "\u001b[0;31mDocstring:\u001b[0m     \n",
       "Summary\n",
       "---------\n",
       "There are three layers of initialization, implemented in superclasses,\n",
       "each with parameters. The classnames, associated parameters and data members set:\n",
       "\n",
       "SourceData -- load photons and exposure\n",
       "    parameters:\n",
       "      - source : name, a PointSource object, or a Simulation object\n",
       "      - config [Config()] : basic configuration\n",
       "      - week_range [None] : range of weeks to load\n",
       "      - key [''] : the cache key: '' means construct one with the source name, None to disable\n",
       "      - clear [False] : if using cache, clear the contents first\n",
       "    sets:\n",
       "      - photons\n",
       "      - exposure\n",
       "\n",
       "CellData -- create cells\n",
       "    parameters:\n",
       "      - time_bins [Config().time_bins] : binning: start, stop, binsize\n",
       "    sets:\n",
       "      - cells\n",
       "\n",
       "LightCurve -- likelihood analysis of the cells\n",
       "    parameters:\n",
       "      - e_min [10] -- threshold for exposure (cm^2 units)\n",
       "      - n_min [2]  -- likelihood has trouble with this few\n",
       "      - lc_key [None] -- possible cache for light curve\n",
       "    sets:\n",
       "      - fits, fluxes\n",
       "\n",
       "WtLike (this class) -- no parameters (may add BB-specific ones)\n",
       "    Implements:  bb_view, plot_BB\n",
       "    sets:\n",
       "      - bb_flux  (only if bb_view invoked)\n",
       "\u001b[0;31mInit docstring:\u001b[0m         \n",
       "\u001b[0;31mFile:\u001b[0m           /mnt/c/users/thbur/OneDrive/work/wtlike/wtlike/main.py\n",
       "\u001b[0;31mType:\u001b[0m           type\n",
       "\u001b[0;31mSubclasses:\u001b[0m     \n"
      ]
     },
     "metadata": {},
     "output_type": "display_data"
    }
   ],
   "source": [
    "WtLike?"
   ]
  },
  {
   "cell_type": "markdown",
   "id": "unlikely-shell",
   "metadata": {},
   "source": [
    "The three WtLike methods have help as well:"
   ]
  },
  {
   "cell_type": "code",
   "execution_count": null,
   "id": "absolute-grace",
   "metadata": {},
   "outputs": [
    {
     "data": {
      "text/plain": [
       "\u001b[0;31mSignature:\u001b[0m \u001b[0mWtLike\u001b[0m\u001b[0;34m.\u001b[0m\u001b[0mplot\u001b[0m\u001b[0;34m(\u001b[0m\u001b[0mself\u001b[0m\u001b[0;34m,\u001b[0m \u001b[0;34m*\u001b[0m\u001b[0mpars\u001b[0m\u001b[0;34m,\u001b[0m \u001b[0;34m**\u001b[0m\u001b[0mkwargs\u001b[0m\u001b[0;34m)\u001b[0m\u001b[0;34m\u001b[0m\u001b[0;34m\u001b[0m\u001b[0m\n",
       "\u001b[0;31mDocstring:\u001b[0m Make a light curve plot\n",
       "\u001b[0;31mFile:\u001b[0m      /mnt/c/users/thbur/OneDrive/work/wtlike/wtlike/main.py\n",
       "\u001b[0;31mType:\u001b[0m      function\n"
      ]
     },
     "metadata": {},
     "output_type": "display_data"
    }
   ],
   "source": [
    "WtLike.plot?"
   ]
  },
  {
   "cell_type": "code",
   "execution_count": null,
   "id": "serious-bedroom",
   "metadata": {},
   "outputs": [
    {
     "data": {
      "text/plain": [
       "\u001b[0;31mSignature:\u001b[0m \u001b[0mWtLike\u001b[0m\u001b[0;34m.\u001b[0m\u001b[0mview\u001b[0m\u001b[0;34m(\u001b[0m\u001b[0mself\u001b[0m\u001b[0;34m,\u001b[0m \u001b[0mnewbins\u001b[0m\u001b[0;34m=\u001b[0m\u001b[0;32mNone\u001b[0m\u001b[0;34m)\u001b[0m\u001b[0;34m\u001b[0m\u001b[0;34m\u001b[0m\u001b[0m\n",
       "\u001b[0;31mDocstring:\u001b[0m\n",
       "Return a \"view\": a new instance of this class with a perhaps a different set of cells\n",
       "\n",
       "- newbins -- a tuple (start, stop, step) to define new binning.\n",
       "  - start and stop are either MJD values, or offsets from the start or stop.\n",
       "  - step -- the cell size in days, or if zero, orbit-based binning\n",
       "\u001b[0;31mFile:\u001b[0m      /mnt/c/users/thbur/OneDrive/work/wtlike/wtlike/cell_data.py\n",
       "\u001b[0;31mType:\u001b[0m      function\n"
      ]
     },
     "metadata": {},
     "output_type": "display_data"
    }
   ],
   "source": [
    "WtLike.view?"
   ]
  },
  {
   "cell_type": "markdown",
   "id": "built-cincinnati",
   "metadata": {},
   "source": [
    "### Using *fermi* data.\n",
    "\n",
    "The only change from above is that one uses `PointSource` instead of `Simulation`. \n",
    "\n",
    "The data must be available, of course.\n",
    "So,"
   ]
  },
  {
   "cell_type": "code",
   "execution_count": null,
   "id": "established-single",
   "metadata": {},
   "outputs": [
    {
     "name": "stdout",
     "output_type": "stream",
     "text": [
      "Weekly folder \"/home/burnett/wtlike_data/data_files\" contains 666 weeks,  9 to 675, end at 2021-05-13\n"
     ]
    }
   ],
   "source": [
    "check_data()"
   ]
  },
  {
   "cell_type": "markdown",
   "id": "abroad-yield",
   "metadata": {},
   "source": [
    "Get a source: this name can be anything recognized by `astropy.coordinates.SkyCoord`, including all 4FGL sources\n"
   ]
  },
  {
   "cell_type": "code",
   "execution_count": null,
   "id": "alive-animation",
   "metadata": {},
   "outputs": [
    {
     "data": {
      "text/plain": [
       "Source \"3C 279\" at: (l,b)=(305.104,57.062)"
      ]
     },
     "execution_count": null,
     "metadata": {},
     "output_type": "execute_result"
    }
   ],
   "source": [
    "source = PointSource('3C 279'); source"
   ]
  },
  {
   "cell_type": "markdown",
   "id": "sixth-repository",
   "metadata": {},
   "source": [
    "This requires access to a packaged form of the photon data, a table allowing generation of weights, and the effective area table.\n",
    "The source must have been analyzed with `gtlike` or `pointlike` to produce the weight table.\n",
    "All are available in a 2-GB zip file."
   ]
  },
  {
   "cell_type": "code",
   "execution_count": null,
   "id": "modular-fisher",
   "metadata": {},
   "outputs": [
    {
     "name": "stdout",
     "output_type": "stream",
     "text": [
      "SourceData: photons and exposure for 3C 279: Restoring from cache with key \"3C 279_data\"\n",
      "WtLike: Source 3C 279 with:\n",
      "\t data:       179,695 photons from 2008-08-04 to 2021-04-21\n",
      "\t exposure: 2,817,749 intervals,  average rate 2935 cm^2 for 84.1 Ms\n",
      "\t rates:  source 4.03e-07/s, background 3.25e-07/s, S/N ratio 1.24\n",
      "CellData: Bin photon data into 663 1-week bins from 54683.0 to 59324.0\n",
      "LightCurve: select 655 cells for fitting with e>10 & n>2\n"
     ]
    }
   ],
   "source": [
    "wtl = WtLike(source)"
   ]
  },
  {
   "cell_type": "markdown",
   "id": "breeding-advice",
   "metadata": {},
   "source": [
    "If the the data for this source has not been accessed on this machine before, it must be extracted, a process that takes some 10 min. Otherwise it is a few seconds.\n",
    "\n",
    "Generate the (default weekly) light curve:"
   ]
  },
  {
   "cell_type": "code",
   "execution_count": null,
   "id": "square-savings",
   "metadata": {},
   "outputs": [
    {
     "data": {
      "image/png": "[encoded data removed]",
      "text/plain": [
       "<Figure size 864x288 with 1 Axes>"
      ]
     },
     "metadata": {},
     "output_type": "display_data"
    }
   ],
   "source": [
    "wtl.plot();"
   ]
  },
  {
   "cell_type": "code",
   "execution_count": null,
   "id": "cooperative-knight",
   "metadata": {},
   "outputs": [],
   "source": []
  }
 ],
 "metadata": {
  "kernelspec": {
   "display_name": "Python 3",
   "language": "python",
   "name": "python3"
  }
 },
 "nbformat": 4,
 "nbformat_minor": 5
}
