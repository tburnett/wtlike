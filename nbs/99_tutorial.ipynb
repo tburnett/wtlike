{
 "cells": [
  {
   "cell_type": "code",
   "execution_count": null,
   "id": "confused-illustration",
   "metadata": {
    "tags": []
   },
   "outputs": [],
   "source": [
    "from wtlike import *\n",
    "import numpy as np"
   ]
  },
  {
   "cell_type": "markdown",
   "id": "dying-breeding",
   "metadata": {},
   "source": [
    "# wtlike tutorial\n",
    "\n",
    "> A step by step guide"
   ]
  },
  {
   "cell_type": "markdown",
   "id": "incredible-swift",
   "metadata": {},
   "source": [
    "### Install `wtlike`"
   ]
  },
  {
   "cell_type": "markdown",
   "id": "ready-diploma",
   "metadata": {},
   "source": [
    "This assumes that you already have a Jupyter Notebook Server configured on your machine. \n",
    "\n",
    "Either run this [notebook](https://github.com/tburnett/wtlike/blob/master/nbs/99_tutorial.ipynb), or copy the cells into a new notebook.\n",
    "\n",
    "`wtlike` is on PyPI\n",
    "\n",
    "```\n",
    "pip install wtlike\n",
    "\n",
    "```\n",
    "We use a simulated on-the-fly dataset in lieu of downloading the 2-GB file with all of *fermi* data."
   ]
  },
  {
   "cell_type": "markdown",
   "id": "natural-minister",
   "metadata": {},
   "source": [
    "### Define a source flux function. \n",
    "Note that we measure time in day units, and will pick a 30-day interval for this demo.\n",
    "\n",
    "The following function has a flare at 15 days."
   ]
  },
  {
   "cell_type": "code",
   "execution_count": null,
   "id": "toxic-democrat",
   "metadata": {},
   "outputs": [],
   "source": [
    "def src_flare(t, tzero=15, width=1, amp=5):\n",
    "    return 1e-6*(1 + amp*np.exp(-(t-tzero)**2/2/width))"
   ]
  },
  {
   "cell_type": "markdown",
   "id": "advanced-azerbaijan",
   "metadata": {},
   "source": [
    "We use it to tell the simulation that the flux has this behavior. Note defaults:\n",
    "\n",
    "- background -- 1e-6 /s\n",
    "- effective area -- 3000 cm^2 \n",
    "\n",
    "Here we create a `Simulation` object, then pass it to the primary wtlike entry point, the class `WtLike`.\n",
    "We tell it to immediately bin the photons into daily time-bins, called \"cells\". (That can be easily redone.)"
   ]
  },
  {
   "cell_type": "code",
   "execution_count": null,
   "id": "43ff4d67-b4a6-4b6b-8e80-5b23f4a2ff84",
   "metadata": {},
   "outputs": [
    {
     "name": "stdout",
     "output_type": "stream",
     "text": [
      "generated 18888 photons\n",
      "SourceData: Source flare_sim with:\n",
      "\t data:        18,888 simulated photons over 30.0 days.\n",
      "\t exposure:     8,640 intervals,  average flux 3000 cm^2 for 2.6 Ms\n",
      "\t rates:  source 1.41e-06/s, background 1.01e-06/s, S/N ratio 1.40e+00\n",
      "CellData: Bin photon data into 30 1-day bins from 0.0 to 30.0\n",
      "LightCurve: select 30 cells for fitting with e>5 & n>2\n"
     ]
    }
   ],
   "source": [
    "test_sim = Simulation('flare_sim', src_flux=src_flare, tstart=0, tstop=30, )\n",
    "daily = WtLike(test_sim, time_bins=(0,0,1))"
   ]
  },
  {
   "cell_type": "markdown",
   "id": "adjacent-indonesian",
   "metadata": {},
   "source": [
    "Now make a light curve!"
   ]
  },
  {
   "cell_type": "code",
   "execution_count": null,
   "id": "emotional-brush",
   "metadata": {},
   "outputs": [
    {
     "data": {
      "image/png": "[encoded data removed]",
      "text/plain": [
       "<Figure size 864x288 with 1 Axes>"
      ]
     },
     "metadata": {},
     "output_type": "display_data"
    }
   ],
   "source": [
    "daily.plot();"
   ]
  },
  {
   "cell_type": "markdown",
   "id": "green-economics",
   "metadata": {},
   "source": [
    "The cells have each been analyzed to create a likelihood function representation. The first few cells are:"
   ]
  },
  {
   "cell_type": "code",
   "execution_count": null,
   "id": "liable-positive",
   "metadata": {},
   "outputs": [
    {
     "data": {
      "text/html": [
       "<div>\n",
       "<style scoped>\n",
       "    .dataframe tbody tr th:only-of-type {\n",
       "        vertical-align: middle;\n",
       "    }\n",
       "\n",
       "    .dataframe tbody tr th {\n",
       "        vertical-align: top;\n",
       "    }\n",
       "\n",
       "    .dataframe thead th {\n",
       "        text-align: right;\n",
       "    }\n",
       "</style>\n",
       "<table border=\"1\" class=\"dataframe\">\n",
       "  <thead>\n",
       "    <tr style=\"text-align: right;\">\n",
       "      <th></th>\n",
       "      <th>t</th>\n",
       "      <th>tw</th>\n",
       "      <th>e</th>\n",
       "      <th>n</th>\n",
       "      <th>w</th>\n",
       "      <th>S</th>\n",
       "      <th>B</th>\n",
       "    </tr>\n",
       "  </thead>\n",
       "  <tbody>\n",
       "    <tr>\n",
       "      <th>0</th>\n",
       "      <td>0.5</td>\n",
       "      <td>1.0</td>\n",
       "      <td>258.3</td>\n",
       "      <td>501</td>\n",
       "      <td>[0.7132584, 0.0011146097, 0.0021841708, 0.0066...</td>\n",
       "      <td>365.47</td>\n",
       "      <td>261.95</td>\n",
       "    </tr>\n",
       "    <tr>\n",
       "      <th>1</th>\n",
       "      <td>1.5</td>\n",
       "      <td>1.0</td>\n",
       "      <td>259.2</td>\n",
       "      <td>475</td>\n",
       "      <td>[0.8836007, 0.844772, 0.041193746, 0.890656, 0...</td>\n",
       "      <td>366.74</td>\n",
       "      <td>262.86</td>\n",
       "    </tr>\n",
       "  </tbody>\n",
       "</table>\n",
       "</div>"
      ],
      "text/plain": [
       "     t   tw      e    n                                                  w  \\\n",
       "0  0.5  1.0  258.3  501  [0.7132584, 0.0011146097, 0.0021841708, 0.0066...   \n",
       "1  1.5  1.0  259.2  475  [0.8836007, 0.844772, 0.041193746, 0.890656, 0...   \n",
       "\n",
       "        S       B  \n",
       "0  365.47  261.95  \n",
       "1  366.74  262.86  "
      ]
     },
     "execution_count": null,
     "metadata": {},
     "output_type": "execute_result"
    }
   ],
   "source": [
    "daily.cells.head(2)"
   ]
  },
  {
   "cell_type": "markdown",
   "id": "delayed-panama",
   "metadata": {},
   "source": [
    "The Kerr likelihood function for a cell is a function of $w$, the list of weights, and $S$, an estimate for the total signal counts in the cell\n",
    "\n",
    "$$ \\displaystyle\\log\\mathcal{L}(\\alpha\\ |\\ w)\\ = \\sum_{w}  \\log \\big( 1 + \\alpha\\ w \\big) - \\alpha\\ S  $$\n",
    "\n",
    "where $\\alpha$ is the variation from the nominal zero. The background is assumed to be constant here, as it usually is the region surrounding sources of interest. \n",
    "The relative flux is $1+\\alpha$. \n",
    "\n",
    "We generate an approximate representation of this function by fitting it to a 3-parameter Poisson-like function, which easily provides the values of interest."
   ]
  },
  {
   "cell_type": "code",
   "execution_count": null,
   "id": "accepting-thermal",
   "metadata": {},
   "outputs": [
    {
     "data": {
      "text/html": [
       "<div>\n",
       "<style scoped>\n",
       "    .dataframe tbody tr th:only-of-type {\n",
       "        vertical-align: middle;\n",
       "    }\n",
       "\n",
       "    .dataframe tbody tr th {\n",
       "        vertical-align: top;\n",
       "    }\n",
       "\n",
       "    .dataframe thead th {\n",
       "        text-align: right;\n",
       "    }\n",
       "</style>\n",
       "<table border=\"1\" class=\"dataframe\">\n",
       "  <thead>\n",
       "    <tr style=\"text-align: right;\">\n",
       "      <th></th>\n",
       "      <th>t</th>\n",
       "      <th>tw</th>\n",
       "      <th>n</th>\n",
       "      <th>e</th>\n",
       "      <th>ts</th>\n",
       "      <th>flux</th>\n",
       "      <th>errors</th>\n",
       "      <th>limit</th>\n",
       "    </tr>\n",
       "  </thead>\n",
       "  <tbody>\n",
       "    <tr>\n",
       "      <th>0</th>\n",
       "      <td>0.5</td>\n",
       "      <td>1.0</td>\n",
       "      <td>501</td>\n",
       "      <td>258.3</td>\n",
       "      <td>295.5</td>\n",
       "      <td>0.54</td>\n",
       "      <td>(-0.046, 0.048)</td>\n",
       "      <td>0.62</td>\n",
       "    </tr>\n",
       "    <tr>\n",
       "      <th>1</th>\n",
       "      <td>1.5</td>\n",
       "      <td>1.0</td>\n",
       "      <td>475</td>\n",
       "      <td>259.2</td>\n",
       "      <td>346.3</td>\n",
       "      <td>0.57</td>\n",
       "      <td>(-0.046, 0.048)</td>\n",
       "      <td>0.65</td>\n",
       "    </tr>\n",
       "  </tbody>\n",
       "</table>\n",
       "</div>"
      ],
      "text/plain": [
       "     t   tw    n      e     ts  flux           errors  limit\n",
       "0  0.5  1.0  501  258.3  295.5  0.54  (-0.046, 0.048)   0.62\n",
       "1  1.5  1.0  475  259.2  346.3  0.57  (-0.046, 0.048)   0.65"
      ]
     },
     "execution_count": null,
     "metadata": {},
     "output_type": "execute_result"
    }
   ],
   "source": [
    "daily.fluxes.head(2)"
   ]
  },
  {
   "cell_type": "markdown",
   "id": "consistent-albania",
   "metadata": {},
   "source": [
    "Note that the properties `photons`, `exposure`, `cells`, `fits`, and `fluxes` are [DataFrames](https://pandas.pydata.org/pandas-docs/stable/reference/api/pandas.DataFrame.html). So we can find a fit at the peak with a `query`."
   ]
  },
  {
   "cell_type": "code",
   "execution_count": null,
   "id": "legitimate-touch",
   "metadata": {},
   "outputs": [
    {
     "data": {
      "text/html": [
       "<div>\n",
       "<style scoped>\n",
       "    .dataframe tbody tr th:only-of-type {\n",
       "        vertical-align: middle;\n",
       "    }\n",
       "\n",
       "    .dataframe tbody tr th {\n",
       "        vertical-align: top;\n",
       "    }\n",
       "\n",
       "    .dataframe thead th {\n",
       "        text-align: right;\n",
       "    }\n",
       "</style>\n",
       "<table border=\"1\" class=\"dataframe\">\n",
       "  <thead>\n",
       "    <tr style=\"text-align: right;\">\n",
       "      <th></th>\n",
       "      <th>t</th>\n",
       "      <th>tw</th>\n",
       "      <th>n</th>\n",
       "      <th>e</th>\n",
       "      <th>ts</th>\n",
       "      <th>flux</th>\n",
       "      <th>errors</th>\n",
       "      <th>limit</th>\n",
       "    </tr>\n",
       "  </thead>\n",
       "  <tbody>\n",
       "    <tr>\n",
       "      <th>14</th>\n",
       "      <td>14.5</td>\n",
       "      <td>1.0</td>\n",
       "      <td>1590</td>\n",
       "      <td>259.2</td>\n",
       "      <td>9522.1</td>\n",
       "      <td>3.92</td>\n",
       "      <td>(-0.105, 0.106)</td>\n",
       "      <td>4.10</td>\n",
       "    </tr>\n",
       "    <tr>\n",
       "      <th>15</th>\n",
       "      <td>15.5</td>\n",
       "      <td>1.0</td>\n",
       "      <td>1639</td>\n",
       "      <td>259.2</td>\n",
       "      <td>10100.2</td>\n",
       "      <td>4.07</td>\n",
       "      <td>(-0.106, 0.108)</td>\n",
       "      <td>4.25</td>\n",
       "    </tr>\n",
       "  </tbody>\n",
       "</table>\n",
       "</div>"
      ],
      "text/plain": [
       "       t   tw     n      e       ts  flux           errors  limit\n",
       "14  14.5  1.0  1590  259.2   9522.1  3.92  (-0.105, 0.106)   4.10\n",
       "15  15.5  1.0  1639  259.2  10100.2  4.07  (-0.106, 0.108)   4.25"
      ]
     },
     "execution_count": null,
     "metadata": {},
     "output_type": "execute_result"
    }
   ],
   "source": [
    "daily.fluxes.query('flux>3')"
   ]
  },
  {
   "cell_type": "markdown",
   "id": "structural-lindsay",
   "metadata": {},
   "source": [
    "## Views\n",
    "A `WtLike` object provides a function `view`, which returns a **new** instance with a different binning. \n",
    "So if we want a detailed look at the flare, we can choose an interval. The parameters specify"
   ]
  },
  {
   "cell_type": "code",
   "execution_count": null,
   "id": "miniature-cheese",
   "metadata": {},
   "outputs": [
    {
     "name": "stdout",
     "output_type": "stream",
     "text": [
      "CellData: Bin photon data into 40 6-hour bins from 10.0 to 20.0\n",
      "LightCurve: select 40 cells for fitting with e>5 & n>2\n"
     ]
    },
    {
     "data": {
      "image/png": "[encoded data removed]",
      "text/plain": [
       "<Figure size 864x288 with 1 Axes>"
      ]
     },
     "metadata": {},
     "output_type": "display_data"
    }
   ],
   "source": [
    "qday = daily.view(10, -10, 0.25)\n",
    "qday.plot();"
   ]
  },
  {
   "cell_type": "markdown",
   "id": "dutch-samoa",
   "metadata": {},
   "source": [
    "### Bayesian-Block view\n",
    "The WtLike object also has a special `bb_view` function, which does a Bayesian Block analysis and returns a view of it. "
   ]
  },
  {
   "cell_type": "code",
   "execution_count": null,
   "id": "verified-chicken",
   "metadata": {},
   "outputs": [
    {
     "name": "stdout",
     "output_type": "stream",
     "text": [
      "LightCurve: select 40 cells for fitting with e>5 & n>2\n",
      "Bayesian Blocks: using penalty 0.05\n",
      "\tPartitioned 40 cells into 10 blocks, using LikelihoodFitness \n",
      "LightCurve: Loaded 10 / 10 cells for fitting\n"
     ]
    },
    {
     "data": {
      "image/png": "[encoded data removed]",
      "text/plain": [
       "<Figure size 864x288 with 1 Axes>"
      ]
     },
     "metadata": {},
     "output_type": "display_data"
    }
   ],
   "source": [
    "bb = qday.bb_view();bb.plot();"
   ]
  },
  {
   "cell_type": "markdown",
   "id": "inclusive-campaign",
   "metadata": {},
   "source": [
    "This creates variable-sized cells corresponding to the Bayesian Block analysis, the fits for which are shown here:"
   ]
  },
  {
   "cell_type": "code",
   "execution_count": null,
   "id": "inappropriate-forest",
   "metadata": {},
   "outputs": [
    {
     "data": {
      "text/html": [
       "<div>\n",
       "<style scoped>\n",
       "    .dataframe tbody tr th:only-of-type {\n",
       "        vertical-align: middle;\n",
       "    }\n",
       "\n",
       "    .dataframe tbody tr th {\n",
       "        vertical-align: top;\n",
       "    }\n",
       "\n",
       "    .dataframe thead th {\n",
       "        text-align: right;\n",
       "    }\n",
       "</style>\n",
       "<table border=\"1\" class=\"dataframe\">\n",
       "  <thead>\n",
       "    <tr style=\"text-align: right;\">\n",
       "      <th></th>\n",
       "      <th>t</th>\n",
       "      <th>tw</th>\n",
       "      <th>n</th>\n",
       "      <th>e</th>\n",
       "      <th>ts</th>\n",
       "      <th>flux</th>\n",
       "      <th>errors</th>\n",
       "      <th>limit</th>\n",
       "    </tr>\n",
       "  </thead>\n",
       "  <tbody>\n",
       "    <tr>\n",
       "      <th>0</th>\n",
       "      <td>11.12</td>\n",
       "      <td>2.25</td>\n",
       "      <td>1230</td>\n",
       "      <td>64.8</td>\n",
       "      <td>983.3</td>\n",
       "      <td>0.67</td>\n",
       "      <td>(-0.033, 0.034)</td>\n",
       "      <td>0.73</td>\n",
       "    </tr>\n",
       "    <tr>\n",
       "      <th>1</th>\n",
       "      <td>12.75</td>\n",
       "      <td>1.00</td>\n",
       "      <td>663</td>\n",
       "      <td>64.8</td>\n",
       "      <td>1025.2</td>\n",
       "      <td>1.06</td>\n",
       "      <td>(-0.059, 0.06)</td>\n",
       "      <td>1.16</td>\n",
       "    </tr>\n",
       "    <tr>\n",
       "      <th>2</th>\n",
       "      <td>13.50</td>\n",
       "      <td>0.50</td>\n",
       "      <td>470</td>\n",
       "      <td>64.8</td>\n",
       "      <td>1663.0</td>\n",
       "      <td>2.01</td>\n",
       "      <td>(-0.107, 0.111)</td>\n",
       "      <td>2.20</td>\n",
       "    </tr>\n",
       "    <tr>\n",
       "      <th>3</th>\n",
       "      <td>14.00</td>\n",
       "      <td>0.50</td>\n",
       "      <td>657</td>\n",
       "      <td>64.8</td>\n",
       "      <td>3222.3</td>\n",
       "      <td>3.05</td>\n",
       "      <td>(-0.131, 0.134)</td>\n",
       "      <td>3.28</td>\n",
       "    </tr>\n",
       "    <tr>\n",
       "      <th>4</th>\n",
       "      <td>14.88</td>\n",
       "      <td>1.25</td>\n",
       "      <td>2158</td>\n",
       "      <td>64.8</td>\n",
       "      <td>13703.0</td>\n",
       "      <td>4.32</td>\n",
       "      <td>(-0.098, 0.099)</td>\n",
       "      <td>4.49</td>\n",
       "    </tr>\n",
       "    <tr>\n",
       "      <th>5</th>\n",
       "      <td>15.75</td>\n",
       "      <td>0.50</td>\n",
       "      <td>736</td>\n",
       "      <td>64.8</td>\n",
       "      <td>4210.9</td>\n",
       "      <td>3.58</td>\n",
       "      <td>(-0.141, 0.144)</td>\n",
       "      <td>3.83</td>\n",
       "    </tr>\n",
       "    <tr>\n",
       "      <th>6</th>\n",
       "      <td>16.25</td>\n",
       "      <td>0.50</td>\n",
       "      <td>547</td>\n",
       "      <td>64.8</td>\n",
       "      <td>2310.2</td>\n",
       "      <td>2.48</td>\n",
       "      <td>(-0.119, 0.122)</td>\n",
       "      <td>2.69</td>\n",
       "    </tr>\n",
       "    <tr>\n",
       "      <th>7</th>\n",
       "      <td>16.62</td>\n",
       "      <td>0.25</td>\n",
       "      <td>221</td>\n",
       "      <td>64.8</td>\n",
       "      <td>672.1</td>\n",
       "      <td>1.82</td>\n",
       "      <td>(-0.145, 0.152)</td>\n",
       "      <td>2.08</td>\n",
       "    </tr>\n",
       "    <tr>\n",
       "      <th>8</th>\n",
       "      <td>17.12</td>\n",
       "      <td>0.75</td>\n",
       "      <td>515</td>\n",
       "      <td>64.8</td>\n",
       "      <td>842.0</td>\n",
       "      <td>1.11</td>\n",
       "      <td>(-0.069, 0.071)</td>\n",
       "      <td>1.23</td>\n",
       "    </tr>\n",
       "    <tr>\n",
       "      <th>9</th>\n",
       "      <td>18.75</td>\n",
       "      <td>2.50</td>\n",
       "      <td>1312</td>\n",
       "      <td>64.8</td>\n",
       "      <td>1090.4</td>\n",
       "      <td>0.67</td>\n",
       "      <td>(-0.031, 0.032)</td>\n",
       "      <td>0.72</td>\n",
       "    </tr>\n",
       "  </tbody>\n",
       "</table>\n",
       "</div>"
      ],
      "text/plain": [
       "       t    tw     n     e       ts  flux           errors  limit\n",
       "0  11.12  2.25  1230  64.8    983.3  0.67  (-0.033, 0.034)   0.73\n",
       "1  12.75  1.00   663  64.8   1025.2  1.06   (-0.059, 0.06)   1.16\n",
       "2  13.50  0.50   470  64.8   1663.0  2.01  (-0.107, 0.111)   2.20\n",
       "3  14.00  0.50   657  64.8   3222.3  3.05  (-0.131, 0.134)   3.28\n",
       "4  14.88  1.25  2158  64.8  13703.0  4.32  (-0.098, 0.099)   4.49\n",
       "5  15.75  0.50   736  64.8   4210.9  3.58  (-0.141, 0.144)   3.83\n",
       "6  16.25  0.50   547  64.8   2310.2  2.48  (-0.119, 0.122)   2.69\n",
       "7  16.62  0.25   221  64.8    672.1  1.82  (-0.145, 0.152)   2.08\n",
       "8  17.12  0.75   515  64.8    842.0  1.11  (-0.069, 0.071)   1.23\n",
       "9  18.75  2.50  1312  64.8   1090.4  0.67  (-0.031, 0.032)   0.72"
      ]
     },
     "execution_count": null,
     "metadata": {},
     "output_type": "execute_result"
    }
   ],
   "source": [
    "bb.fluxes"
   ]
  },
  {
   "cell_type": "markdown",
   "id": "married-expense",
   "metadata": {},
   "source": [
    "### Getting help\n",
    "This jupyterlab environment allows easy exploration of help for any class or function.\n",
    "The two classes so far:"
   ]
  },
  {
   "cell_type": "code",
   "execution_count": null,
   "id": "genuine-accident",
   "metadata": {},
   "outputs": [
    {
     "data": {
      "text/plain": [
       "\u001b[0;31mInit signature:\u001b[0m\n",
       "\u001b[0mSimulation\u001b[0m\u001b[0;34m(\u001b[0m\u001b[0;34m\u001b[0m\n",
       "\u001b[0;34m\u001b[0m    \u001b[0mname\u001b[0m\u001b[0;34m,\u001b[0m\u001b[0;34m\u001b[0m\n",
       "\u001b[0;34m\u001b[0m    \u001b[0msrc_flux\u001b[0m\u001b[0;34m,\u001b[0m\u001b[0;34m\u001b[0m\n",
       "\u001b[0;34m\u001b[0m    \u001b[0mtstart\u001b[0m\u001b[0;34m,\u001b[0m\u001b[0;34m\u001b[0m\n",
       "\u001b[0;34m\u001b[0m    \u001b[0mtstop\u001b[0m\u001b[0;34m,\u001b[0m\u001b[0;34m\u001b[0m\n",
       "\u001b[0;34m\u001b[0m    \u001b[0mbkg_rate\u001b[0m\u001b[0;34m=\u001b[0m\u001b[0;36m1e-06\u001b[0m\u001b[0;34m,\u001b[0m\u001b[0;34m\u001b[0m\n",
       "\u001b[0;34m\u001b[0m    \u001b[0mefun\u001b[0m\u001b[0;34m=\u001b[0m\u001b[0;36m3000\u001b[0m\u001b[0;34m,\u001b[0m\u001b[0;34m\u001b[0m\n",
       "\u001b[0;34m\u001b[0m    \u001b[0mwt_signif\u001b[0m\u001b[0;34m=\u001b[0m\u001b[0;36m0.1\u001b[0m\u001b[0;34m,\u001b[0m\u001b[0;34m\u001b[0m\n",
       "\u001b[0;34m\u001b[0m\u001b[0;34m)\u001b[0m\u001b[0;34m\u001b[0m\u001b[0;34m\u001b[0m\u001b[0m\n",
       "\u001b[0;31mDocstring:\u001b[0m      <no docstring>\n",
       "\u001b[0;31mInit docstring:\u001b[0m\n",
       "- src_flux : source flux, scalar or function of days, typically around 1e-7\n",
       "- tstart, tstop :(days)\n",
       "- bkg_rate : background flux, scalar or function of day, typicaly 1e-6 for 4-deg cone\n",
       "- efun : scalar, function (of time in days) of the exposure/s. Typically 3000 cm^2 for fermi\n",
       "\n",
       "- wt_signif : now the width of the PSF in (r/rmax)**2 coordinates\n",
       "\u001b[0;31mFile:\u001b[0m           /mnt/c/users/thbur/OneDrive/work/wtlike/wtlike/simulation.py\n",
       "\u001b[0;31mType:\u001b[0m           type\n",
       "\u001b[0;31mSubclasses:\u001b[0m     \n"
      ]
     },
     "metadata": {},
     "output_type": "display_data"
    }
   ],
   "source": [
    "Simulation = Simulation\n",
    "Simulation?"
   ]
  },
  {
   "cell_type": "code",
   "execution_count": null,
   "id": "sweet-clause",
   "metadata": {},
   "outputs": [
    {
     "data": {
      "text/plain": [
       "\u001b[0;31mInit signature:\u001b[0m \u001b[0mWtLike\u001b[0m\u001b[0;34m(\u001b[0m\u001b[0;34m*\u001b[0m\u001b[0mpars\u001b[0m\u001b[0;34m,\u001b[0m \u001b[0;34m**\u001b[0m\u001b[0mkwargs\u001b[0m\u001b[0;34m)\u001b[0m\u001b[0;34m\u001b[0m\u001b[0;34m\u001b[0m\u001b[0m\n",
       "\u001b[0;31mDocstring:\u001b[0m     \n",
       "Summary\n",
       "---------\n",
       "There are three layers of initialization, implemented in superclasses,\n",
       "each with parameters. The classnames, associated parameters and data members set:\n",
       "\n",
       "SourceData -- load photons and exposure\n",
       "    parameters:\n",
       "      - source : name, a PointSource object, or a Simulation object\n",
       "      - config [Config()] : basic configuration\n",
       "      - week_range [None] : range of weeks to load\n",
       "      - key [''] : the cache key: '' means construct one with the source name, None to disable\n",
       "      - clear [False] : if using cache, clear the contents first\n",
       "    sets:\n",
       "      - photons\n",
       "      - exposure\n",
       "\n",
       "CellData -- create cells\n",
       "    parameters:\n",
       "      - time_bins [Config().time_bins] : binning: start, stop, binsize\n",
       "    sets:\n",
       "      - cells\n",
       "\n",
       "LightCurve -- likelihood analysis of the cells\n",
       "    parameters:\n",
       "      - e_min [10] -- threshold for exposure (cm^2 units)\n",
       "      - n_min [2]  -- likelihood has trouble with this few\n",
       "      - lc_key [None] -- possible cache for light curve\n",
       "    sets:\n",
       "      - fits, fluxes\n",
       "\n",
       "WtLike (this class) -- no parameters (may add BB-specific ones)\n",
       "    Implements:  bb_view, plot_BB\n",
       "    sets:\n",
       "      - bb_flux  (only if bb_view invoked)\n",
       "\u001b[0;31mInit docstring:\u001b[0m         \n",
       "\u001b[0;31mFile:\u001b[0m           /mnt/c/users/thbur/OneDrive/work/wtlike/wtlike/main.py\n",
       "\u001b[0;31mType:\u001b[0m           type\n",
       "\u001b[0;31mSubclasses:\u001b[0m     \n"
      ]
     },
     "metadata": {},
     "output_type": "display_data"
    }
   ],
   "source": [
    "WtLike?"
   ]
  },
  {
   "cell_type": "markdown",
   "id": "least-outreach",
   "metadata": {},
   "source": [
    "The three WtLike methods have (preliminary) help as well:"
   ]
  },
  {
   "cell_type": "code",
   "execution_count": null,
   "id": "overall-species",
   "metadata": {},
   "outputs": [
    {
     "data": {
      "text/plain": [
       "\u001b[0;31mSignature:\u001b[0m \u001b[0mWtLike\u001b[0m\u001b[0;34m.\u001b[0m\u001b[0mplot\u001b[0m\u001b[0;34m(\u001b[0m\u001b[0mself\u001b[0m\u001b[0;34m,\u001b[0m \u001b[0;34m*\u001b[0m\u001b[0mpars\u001b[0m\u001b[0;34m,\u001b[0m \u001b[0;34m**\u001b[0m\u001b[0mkwargs\u001b[0m\u001b[0;34m)\u001b[0m\u001b[0;34m\u001b[0m\u001b[0;34m\u001b[0m\u001b[0m\n",
       "\u001b[0;31mDocstring:\u001b[0m\n",
       "Make a light curve plot\n",
       "        Invokes flux_plot, after processing kwargs to intercept\n",
       "        - log -- translate to `xscale='log'`\n",
       "        - xlim [None] -- convert to (start, stop) interpreted relative to start, stop if < start.\n",
       "        - show_flux [False]-- convert y scale to photon flux\n",
       "        - UTC [False] -- convert x scale to UTC years\n",
       "-\n",
       "        Make a plot of flux vs. time. This is invoked by the `plot` function of `LightCurve`\n",
       "\n",
       "    - cell_fits -- cell fits DataFrame\n",
       "    - query ['']-- DataFrame query to select subset\n",
       "    - ts_bar_min -- threshold for plotting as bar vs limit\n",
       "    - tzero -- time offset, in MJD\n",
       "    - source_name -- draw text in top left\n",
       "    - flux_factor [1]\n",
       "\n",
       "    - ax [None] -- a matplotlib.axes._subplots.AxesSubplot object returned from plt.subplots<br>\n",
       "    if None, create one using subplots with fignum [1] and figsize [(12,4)]\n",
       "    - fmt [''] -- marker symbol -- if not specifed, will use '.' if many bins, else 'o'\n",
       "    - ms [None] -- for marker size\n",
       "    - colors -- tuple of colors for signal, limit, step\n",
       "    - step   -- add a \"step\" plot\n",
       "    - zorder -- set to different number to order successive calls with same Axis object\n",
       "    - kwargs -- apply to the `ax` object, like xlim, ylim\n",
       "\n",
       "    returns the Figure instance\n",
       "    \n",
       "\u001b[0;31mFile:\u001b[0m      /mnt/c/users/thbur/OneDrive/work/wtlike/wtlike/main.py\n",
       "\u001b[0;31mType:\u001b[0m      function\n"
      ]
     },
     "metadata": {},
     "output_type": "display_data"
    }
   ],
   "source": [
    "WtLike.plot?"
   ]
  },
  {
   "cell_type": "code",
   "execution_count": null,
   "id": "active-variable",
   "metadata": {},
   "outputs": [
    {
     "data": {
      "text/plain": [
       "\u001b[0;31mSignature:\u001b[0m \u001b[0mWtLike\u001b[0m\u001b[0;34m.\u001b[0m\u001b[0mview\u001b[0m\u001b[0;34m(\u001b[0m\u001b[0mself\u001b[0m\u001b[0;34m,\u001b[0m \u001b[0;34m*\u001b[0m\u001b[0mpars\u001b[0m\u001b[0;34m,\u001b[0m \u001b[0mexp_min\u001b[0m\u001b[0;34m=\u001b[0m\u001b[0;32mNone\u001b[0m\u001b[0;34m)\u001b[0m\u001b[0;34m\u001b[0m\u001b[0;34m\u001b[0m\u001b[0m\n",
       "\u001b[0;31mDocstring:\u001b[0m\n",
       "Return a \"view\", a copy of this instance with a perhaps a different set of cells\n",
       "\n",
       "- pars -- start, stop, step  to define new binning. Or start, step, or just step\n",
       "   start and stop are either MJD values, or offsets from the start or stop.\n",
       "   step -- the cell size in days, or if zero, orbit-based binning\n",
       "\n",
       "- exp_min [None] -- If specified, a different minimum exposure, in cm^2 Ms units to use for fitting\n",
       "    from.\n",
       "\u001b[0;31mFile:\u001b[0m      /mnt/c/users/thbur/OneDrive/work/wtlike/wtlike/cell_data.py\n",
       "\u001b[0;31mType:\u001b[0m      function\n"
      ]
     },
     "metadata": {},
     "output_type": "display_data"
    }
   ],
   "source": [
    "WtLike.view?"
   ]
  },
  {
   "cell_type": "markdown",
   "id": "perceived-concentrate",
   "metadata": {},
   "source": [
    "## Using *Fermi* data.\n",
    "\n",
    "The only change from the above code is that one substitues `PointSource` with the designation of a source, for `Simulation`. \n",
    "\n",
    "Also, the data files must be available, the config parameter `datapath` set to the relevant folder. \n",
    "Currently it is set by a line in `~/.config/wtlike/config.yaml`"
   ]
  },
  {
   "cell_type": "markdown",
   "id": "1d09cf4e-c2cd-4b36-b443-4996929b5ff4",
   "metadata": {},
   "source": [
    "This requires access to a packaged form of the photon data, a table allowing generation of weights, and the effective area table.\n",
    "The source must have been analyzed with `gtlike` or `pointlike` to produce the weight table.\n",
    "\n",
    "All are available in a 2-GB zip file."
   ]
  },
  {
   "cell_type": "code",
   "execution_count": null,
   "id": "86db50a6-a13a-4a6f-9353-026366cce279",
   "metadata": {},
   "outputs": [
    {
     "name": "stdout",
     "output_type": "stream",
     "text": [
      "verbose : 1\n",
      "datapath : ~/wtlike_data\n",
      "cachepath : ~/wtlike_cache\n",
      "72K\t/home/burnett/wtlike_data/aeff_files\n",
      "2.7G\t/home/burnett/wtlike_data/data_files\n",
      "3.9M\t/home/burnett/wtlike_data/weight_files\n"
     ]
    }
   ],
   "source": [
    "!cat ~/.config/wtlike/config.yaml\n",
    "!du -h ~/wtlike_data/*"
   ]
  },
  {
   "cell_type": "markdown",
   "id": "de9e8a96-c5b5-458e-ba02-3929cfe07b6b",
   "metadata": {},
   "source": [
    "The photon and spacecraft data can be checked with `check_data`"
   ]
  },
  {
   "cell_type": "code",
   "execution_count": null,
   "id": "differential-password",
   "metadata": {},
   "outputs": [
    {
     "name": "stdout",
     "output_type": "stream",
     "text": [
      "Weekly folder \"/home/burnett/wtlike_data/data_files\" contains 678 weeks.\n",
      "\t Last week, # 687, has 3.469 days, ends at UTC 2021-08-01 11:20\n"
     ]
    }
   ],
   "source": [
    "check_data()"
   ]
  },
  {
   "cell_type": "markdown",
   "id": "1b9ebb00-745d-4d4c-99df-2902afe0d9f1",
   "metadata": {},
   "source": [
    "The configuration must be valid, with path to data existing"
   ]
  },
  {
   "cell_type": "code",
   "execution_count": null,
   "id": "large-projection",
   "metadata": {},
   "outputs": [],
   "source": [
    "config= Config()\n",
    "if config.valid:\n",
    "    source = PointSource('3C 279'); source"
   ]
  },
  {
   "cell_type": "code",
   "execution_count": null,
   "id": "conservative-still",
   "metadata": {},
   "outputs": [
    {
     "name": "stdout",
     "output_type": "stream",
     "text": [
      "SourceData:  3C 279: Restoring from cache with key \"P88Y3243_data\"\n",
      "SourceData: Source 3C 279 with:\n",
      "\t data:       180,481 photons from 2008-08-04 to 2021-07-30\n",
      "\t exposure: 2,870,182 intervals,  average flux 2391 cm^2 for 85.7 Ms\n",
      "\t rates:  source 4.68e-07/s, background 4.13e-07/s, S/N ratio 1.14e+00\n",
      "CellData: Bin photon data into 677 1-week bins from 54683.0 to 59422.0\n",
      "LightCurve: select 662 cells for fitting with e>50 & n>2\n"
     ]
    },
    {
     "name": "stderr",
     "output_type": "stream",
     "text": [
      "/home/burnett/miniconda3/lib/python3.9/site-packages/scipy/optimize/minpack.py:175: RuntimeWarning: The iteration is not making good progress, as measured by the \n",
      "  improvement from the last ten iterations.\n",
      "  warnings.warn(msg, RuntimeWarning)\n"
     ]
    }
   ],
   "source": [
    "if config.valid:\n",
    "    wtl = WtLike(source, exp_min=50)"
   ]
  },
  {
   "cell_type": "markdown",
   "id": "brutal-estonia",
   "metadata": {},
   "source": [
    "If the data for this source has not been accessed on this machine before, it must be extracted to a cache, a process that takes some 10 min. Otherwise it is a few seconds to retrieve the cache.\n",
    "\n",
    "Generate the (default weekly) light curve:"
   ]
  },
  {
   "cell_type": "code",
   "execution_count": null,
   "id": "activated-brazilian",
   "metadata": {},
   "outputs": [
    {
     "data": {
      "image/png": "[encoded data removed]",
      "text/plain": [
       "<Figure size 864x288 with 1 Axes>"
      ]
     },
     "metadata": {},
     "output_type": "display_data"
    }
   ],
   "source": [
    "if config.valid: wtl.plot(log=True, UTC=True);"
   ]
  },
  {
   "cell_type": "code",
   "execution_count": null,
   "id": "bd0a7df6-2a11-4e38-bbcd-7826e337df44",
   "metadata": {},
   "outputs": [],
   "source": []
  }
 ],
 "metadata": {
  "kernelspec": {
   "display_name": "Python 3",
   "language": "python",
   "name": "python3"
  }
 },
 "nbformat": 4,
 "nbformat_minor": 5
}
