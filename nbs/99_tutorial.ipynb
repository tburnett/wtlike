{
 "cells": [
  {
   "cell_type": "code",
   "execution_count": null,
   "id": "confused-illustration",
   "metadata": {
    "tags": []
   },
   "outputs": [],
   "source": [
    "from wtlike import *\n",
    "import numpy as np"
   ]
  },
  {
   "cell_type": "markdown",
   "id": "dying-breeding",
   "metadata": {},
   "source": [
    "# wtlike tutorial\n",
    "\n",
    "> A step by step guide"
   ]
  },
  {
   "cell_type": "markdown",
   "id": "incredible-swift",
   "metadata": {},
   "source": [
    "### Install `wtlike`"
   ]
  },
  {
   "cell_type": "markdown",
   "id": "ready-diploma",
   "metadata": {},
   "source": [
    "This assumes that you already have a Jupyter Notebook Server configured on your machine. \n",
    "\n",
    "`wtlike` is on PyPI\n",
    "\n",
    "Its installation does not automatically get `healpy`.\n",
    "\n",
    "```\n",
    "pip install wtlike\n",
    "pip install healpy\n",
    "```\n",
    "We use a simulated on-the-fly dataset in lieu of downloading the 2-GB file with all of *fermi* data."
   ]
  },
  {
   "cell_type": "markdown",
   "id": "natural-minister",
   "metadata": {},
   "source": [
    "### Define a source flux function. \n",
    "Note that we measure time in day units, and will pick a 30-day interval for this demo.\n",
    "\n",
    "The following function has a flare at 15 days."
   ]
  },
  {
   "cell_type": "code",
   "execution_count": null,
   "id": "toxic-democrat",
   "metadata": {},
   "outputs": [],
   "source": [
    "def src_flare(t, tzero=15, width=1, amp=5):\n",
    "    return 1e-6*(1 + amp*np.exp(-(t-tzero)**2/2/width))"
   ]
  },
  {
   "cell_type": "markdown",
   "id": "advanced-azerbaijan",
   "metadata": {},
   "source": [
    "We use it to tell the simulation that the flux has this behavior. Note defaults:\n",
    "\n",
    "- background -- 1e-6 /s\n",
    "- effective area -- 3000 cm^2 \n",
    "\n",
    "Here we create a `Simulation` object, then pass it to the primary wtlike entry point, the class `WtLike`.\n",
    "We tell it to immediately bin the photons into daily time-bins, called \"cells\". (That can be easily redone.)"
   ]
  },
  {
   "cell_type": "code",
   "execution_count": null,
   "id": "43ff4d67-b4a6-4b6b-8e80-5b23f4a2ff84",
   "metadata": {},
   "outputs": [
    {
     "name": "stdout",
     "output_type": "stream",
     "text": [
      "generated 18901 photons\n",
      "SourceData: Source flare_sim with:\n",
      "\t data:        18,901 simulated photons over 30.0 days.\n",
      "\t exposure:     8,640 intervals,  average flux 3000 cm^2 for 2.6 Ms\n",
      "\t rates:  source 1.42e-06/s, background 1.01e-06/s, S/N ratio 1.41e+00\n",
      "CellData: Bin photon data into 30 1-day bins from 0.0 to 30.0\n",
      "LightCurve: select 30 cells for fitting with e>5 & n>2\n"
     ]
    }
   ],
   "source": [
    "test_sim = Simulation('flare_sim', src_flux=src_flare, tstart=0, tstop=30, )\n",
    "daily = WtLike(test_sim, time_bins=(0,0,1))"
   ]
  },
  {
   "cell_type": "markdown",
   "id": "adjacent-indonesian",
   "metadata": {},
   "source": [
    "Now make a light curve!"
   ]
  },
  {
   "cell_type": "code",
   "execution_count": null,
   "id": "emotional-brush",
   "metadata": {},
   "outputs": [
    {
     "data": {
      "image/png": "[encoded data removed]",
      "text/plain": [
       "<Figure size 864x288 with 1 Axes>"
      ]
     },
     "metadata": {},
     "output_type": "display_data"
    }
   ],
   "source": [
    "daily.plot();"
   ]
  },
  {
   "cell_type": "markdown",
   "id": "green-economics",
   "metadata": {},
   "source": [
    "The cells have each been analyzed to create a likelihood function representation. The first few cells are:"
   ]
  },
  {
   "cell_type": "code",
   "execution_count": null,
   "id": "liable-positive",
   "metadata": {},
   "outputs": [
    {
     "data": {
      "text/html": [
       "<div>\n",
       "<style scoped>\n",
       "    .dataframe tbody tr th:only-of-type {\n",
       "        vertical-align: middle;\n",
       "    }\n",
       "\n",
       "    .dataframe tbody tr th {\n",
       "        vertical-align: top;\n",
       "    }\n",
       "\n",
       "    .dataframe thead th {\n",
       "        text-align: right;\n",
       "    }\n",
       "</style>\n",
       "<table border=\"1\" class=\"dataframe\">\n",
       "  <thead>\n",
       "    <tr style=\"text-align: right;\">\n",
       "      <th></th>\n",
       "      <th>t</th>\n",
       "      <th>tw</th>\n",
       "      <th>e</th>\n",
       "      <th>n</th>\n",
       "      <th>w</th>\n",
       "      <th>S</th>\n",
       "      <th>B</th>\n",
       "    </tr>\n",
       "  </thead>\n",
       "  <tbody>\n",
       "    <tr>\n",
       "      <th>0</th>\n",
       "      <td>0.5</td>\n",
       "      <td>1.0</td>\n",
       "      <td>258.3</td>\n",
       "      <td>514</td>\n",
       "      <td>[0.89902943, 0.4572084, 0.5887933, 0.015257957...</td>\n",
       "      <td>367.66</td>\n",
       "      <td>260.19</td>\n",
       "    </tr>\n",
       "    <tr>\n",
       "      <th>1</th>\n",
       "      <td>1.5</td>\n",
       "      <td>1.0</td>\n",
       "      <td>259.2</td>\n",
       "      <td>527</td>\n",
       "      <td>[0.89734405, 0.7791727, 0.7380915, 0.006720395...</td>\n",
       "      <td>368.94</td>\n",
       "      <td>261.10</td>\n",
       "    </tr>\n",
       "  </tbody>\n",
       "</table>\n",
       "</div>"
      ],
      "text/plain": [
       "     t   tw      e    n                                                  w  \\\n",
       "0  0.5  1.0  258.3  514  [0.89902943, 0.4572084, 0.5887933, 0.015257957...   \n",
       "1  1.5  1.0  259.2  527  [0.89734405, 0.7791727, 0.7380915, 0.006720395...   \n",
       "\n",
       "        S       B  \n",
       "0  367.66  260.19  \n",
       "1  368.94  261.10  "
      ]
     },
     "execution_count": null,
     "metadata": {},
     "output_type": "execute_result"
    }
   ],
   "source": [
    "daily.cells.head(2)"
   ]
  },
  {
   "cell_type": "markdown",
   "id": "delayed-panama",
   "metadata": {},
   "source": [
    "The Kerr likelihood function for a cell is a function of $w$, the list of weights, and $S$, an estimate for the total signal counts in the cell\n",
    "\n",
    "$$ \\displaystyle\\log\\mathcal{L}(\\alpha\\ |\\ w)\\ = \\sum_{w}  \\log \\big( 1 + \\alpha\\ w \\big) - \\alpha\\ S  $$\n",
    "\n",
    "where $\\alpha$ is the variation from the nominal zero. The background is assumed to be constant here, as it usually is the region surrounding sources of interest. \n",
    "The relative flux is $1+\\alpha$. \n",
    "\n",
    "We generate an approximate representation of this function by fitting it to a 3-parameter Poisson-like function, which easily provides the values of interest."
   ]
  },
  {
   "cell_type": "code",
   "execution_count": null,
   "id": "accepting-thermal",
   "metadata": {},
   "outputs": [
    {
     "data": {
      "text/html": [
       "<div>\n",
       "<style scoped>\n",
       "    .dataframe tbody tr th:only-of-type {\n",
       "        vertical-align: middle;\n",
       "    }\n",
       "\n",
       "    .dataframe tbody tr th {\n",
       "        vertical-align: top;\n",
       "    }\n",
       "\n",
       "    .dataframe thead th {\n",
       "        text-align: right;\n",
       "    }\n",
       "</style>\n",
       "<table border=\"1\" class=\"dataframe\">\n",
       "  <thead>\n",
       "    <tr style=\"text-align: right;\">\n",
       "      <th></th>\n",
       "      <th>t</th>\n",
       "      <th>tw</th>\n",
       "      <th>n</th>\n",
       "      <th>e</th>\n",
       "      <th>ts</th>\n",
       "      <th>flux</th>\n",
       "      <th>errors</th>\n",
       "      <th>limit</th>\n",
       "    </tr>\n",
       "  </thead>\n",
       "  <tbody>\n",
       "    <tr>\n",
       "      <th>0</th>\n",
       "      <td>0.5</td>\n",
       "      <td>1.0</td>\n",
       "      <td>514</td>\n",
       "      <td>258.3</td>\n",
       "      <td>345.2</td>\n",
       "      <td>0.59</td>\n",
       "      <td>(-0.048, 0.049)</td>\n",
       "      <td>0.67</td>\n",
       "    </tr>\n",
       "    <tr>\n",
       "      <th>1</th>\n",
       "      <td>1.5</td>\n",
       "      <td>1.0</td>\n",
       "      <td>527</td>\n",
       "      <td>259.2</td>\n",
       "      <td>362.5</td>\n",
       "      <td>0.61</td>\n",
       "      <td>(-0.048, 0.05)</td>\n",
       "      <td>0.69</td>\n",
       "    </tr>\n",
       "  </tbody>\n",
       "</table>\n",
       "</div>"
      ],
      "text/plain": [
       "     t   tw    n      e     ts  flux           errors  limit\n",
       "0  0.5  1.0  514  258.3  345.2  0.59  (-0.048, 0.049)   0.67\n",
       "1  1.5  1.0  527  259.2  362.5  0.61   (-0.048, 0.05)   0.69"
      ]
     },
     "execution_count": null,
     "metadata": {},
     "output_type": "execute_result"
    }
   ],
   "source": [
    "daily.fluxes.head(2)"
   ]
  },
  {
   "cell_type": "markdown",
   "id": "consistent-albania",
   "metadata": {},
   "source": [
    "Note that the properties `photons`, `exposure`, `cells`, `fits`, and `fluxes` are [DataFrames](https://pandas.pydata.org/pandas-docs/stable/reference/api/pandas.DataFrame.html). So we can find a fit at the peak with a `query`."
   ]
  },
  {
   "cell_type": "code",
   "execution_count": null,
   "id": "legitimate-touch",
   "metadata": {},
   "outputs": [
    {
     "data": {
      "text/html": [
       "<div>\n",
       "<style scoped>\n",
       "    .dataframe tbody tr th:only-of-type {\n",
       "        vertical-align: middle;\n",
       "    }\n",
       "\n",
       "    .dataframe tbody tr th {\n",
       "        vertical-align: top;\n",
       "    }\n",
       "\n",
       "    .dataframe thead th {\n",
       "        text-align: right;\n",
       "    }\n",
       "</style>\n",
       "<table border=\"1\" class=\"dataframe\">\n",
       "  <thead>\n",
       "    <tr style=\"text-align: right;\">\n",
       "      <th></th>\n",
       "      <th>t</th>\n",
       "      <th>tw</th>\n",
       "      <th>n</th>\n",
       "      <th>e</th>\n",
       "      <th>ts</th>\n",
       "      <th>flux</th>\n",
       "      <th>errors</th>\n",
       "      <th>limit</th>\n",
       "    </tr>\n",
       "  </thead>\n",
       "  <tbody>\n",
       "    <tr>\n",
       "      <th>14</th>\n",
       "      <td>14.5</td>\n",
       "      <td>1.0</td>\n",
       "      <td>1667</td>\n",
       "      <td>259.2</td>\n",
       "      <td>10217.5</td>\n",
       "      <td>4.06</td>\n",
       "      <td>(-0.106, 0.108)</td>\n",
       "      <td>4.24</td>\n",
       "    </tr>\n",
       "    <tr>\n",
       "      <th>15</th>\n",
       "      <td>15.5</td>\n",
       "      <td>1.0</td>\n",
       "      <td>1555</td>\n",
       "      <td>259.2</td>\n",
       "      <td>9310.7</td>\n",
       "      <td>3.81</td>\n",
       "      <td>(-0.103, 0.105)</td>\n",
       "      <td>3.99</td>\n",
       "    </tr>\n",
       "  </tbody>\n",
       "</table>\n",
       "</div>"
      ],
      "text/plain": [
       "       t   tw     n      e       ts  flux           errors  limit\n",
       "14  14.5  1.0  1667  259.2  10217.5  4.06  (-0.106, 0.108)   4.24\n",
       "15  15.5  1.0  1555  259.2   9310.7  3.81  (-0.103, 0.105)   3.99"
      ]
     },
     "execution_count": null,
     "metadata": {},
     "output_type": "execute_result"
    }
   ],
   "source": [
    "daily.fluxes.query('flux>3')"
   ]
  },
  {
   "cell_type": "markdown",
   "id": "structural-lindsay",
   "metadata": {},
   "source": [
    "## Views\n",
    "A `WtLike` object provides a function `view`, which returns a **new** instance with a different binning. \n",
    "So if we want a detailed look at the flare, we can choose an interval. The parameters specify"
   ]
  },
  {
   "cell_type": "code",
   "execution_count": null,
   "id": "miniature-cheese",
   "metadata": {},
   "outputs": [
    {
     "name": "stdout",
     "output_type": "stream",
     "text": [
      "CellData: Bin photon data into 40 6-hour bins from 10.0 to 20.0\n",
      "LightCurve: select 40 cells for fitting with e>5 & n>2\n"
     ]
    },
    {
     "data": {
      "image/png": "[encoded data removed]",
      "text/plain": [
       "<Figure size 864x288 with 1 Axes>"
      ]
     },
     "metadata": {},
     "output_type": "display_data"
    }
   ],
   "source": [
    "qday = daily.view(10, -10, 0.25)\n",
    "qday.plot();"
   ]
  },
  {
   "cell_type": "markdown",
   "id": "dutch-samoa",
   "metadata": {},
   "source": [
    "### Bayesian-Block view\n",
    "The WtLike object also has a special `bb_view` function, which does a Bayesian Block analysis and returns a view of it. "
   ]
  },
  {
   "cell_type": "code",
   "execution_count": null,
   "id": "verified-chicken",
   "metadata": {},
   "outputs": [
    {
     "name": "stdout",
     "output_type": "stream",
     "text": [
      "LightCurve: select 40 cells for fitting with e>5 & n>2\n",
      "Bayesian Blocks: using penalty 0.05\n",
      "\tPartitioned 40 cells into 10 blocks, using LikelihoodFitness \n",
      "LightCurve: Loaded 10 / 10 cells for fitting\n"
     ]
    },
    {
     "data": {
      "image/png": "[encoded data removed]",
      "text/plain": [
       "<Figure size 864x288 with 1 Axes>"
      ]
     },
     "metadata": {},
     "output_type": "display_data"
    }
   ],
   "source": [
    "bb = qday.bb_view();bb.plot();"
   ]
  },
  {
   "cell_type": "markdown",
   "id": "inclusive-campaign",
   "metadata": {},
   "source": [
    "This creates variable-sized cells corresponding to the Bayesian Block analysis, the fits for which are shown here:"
   ]
  },
  {
   "cell_type": "code",
   "execution_count": null,
   "id": "inappropriate-forest",
   "metadata": {},
   "outputs": [
    {
     "data": {
      "text/html": [
       "<div>\n",
       "<style scoped>\n",
       "    .dataframe tbody tr th:only-of-type {\n",
       "        vertical-align: middle;\n",
       "    }\n",
       "\n",
       "    .dataframe tbody tr th {\n",
       "        vertical-align: top;\n",
       "    }\n",
       "\n",
       "    .dataframe thead th {\n",
       "        text-align: right;\n",
       "    }\n",
       "</style>\n",
       "<table border=\"1\" class=\"dataframe\">\n",
       "  <thead>\n",
       "    <tr style=\"text-align: right;\">\n",
       "      <th></th>\n",
       "      <th>t</th>\n",
       "      <th>tw</th>\n",
       "      <th>n</th>\n",
       "      <th>e</th>\n",
       "      <th>ts</th>\n",
       "      <th>flux</th>\n",
       "      <th>errors</th>\n",
       "      <th>limit</th>\n",
       "    </tr>\n",
       "  </thead>\n",
       "  <tbody>\n",
       "    <tr>\n",
       "      <th>0</th>\n",
       "      <td>11.25</td>\n",
       "      <td>2.50</td>\n",
       "      <td>1276</td>\n",
       "      <td>64.8</td>\n",
       "      <td>978.4</td>\n",
       "      <td>0.62</td>\n",
       "      <td>(-0.031, 0.031)</td>\n",
       "      <td>0.67</td>\n",
       "    </tr>\n",
       "    <tr>\n",
       "      <th>1</th>\n",
       "      <td>12.75</td>\n",
       "      <td>0.50</td>\n",
       "      <td>322</td>\n",
       "      <td>64.8</td>\n",
       "      <td>538.9</td>\n",
       "      <td>1.11</td>\n",
       "      <td>(-0.084, 0.087)</td>\n",
       "      <td>1.25</td>\n",
       "    </tr>\n",
       "    <tr>\n",
       "      <th>2</th>\n",
       "      <td>13.25</td>\n",
       "      <td>0.50</td>\n",
       "      <td>425</td>\n",
       "      <td>64.8</td>\n",
       "      <td>1127.8</td>\n",
       "      <td>1.65</td>\n",
       "      <td>(-0.099, 0.103)</td>\n",
       "      <td>1.83</td>\n",
       "    </tr>\n",
       "    <tr>\n",
       "      <th>3</th>\n",
       "      <td>13.75</td>\n",
       "      <td>0.50</td>\n",
       "      <td>582</td>\n",
       "      <td>64.8</td>\n",
       "      <td>2507.1</td>\n",
       "      <td>2.61</td>\n",
       "      <td>(-0.121, 0.125)</td>\n",
       "      <td>2.82</td>\n",
       "    </tr>\n",
       "    <tr>\n",
       "      <th>4</th>\n",
       "      <td>14.25</td>\n",
       "      <td>0.50</td>\n",
       "      <td>759</td>\n",
       "      <td>64.8</td>\n",
       "      <td>4226.8</td>\n",
       "      <td>3.61</td>\n",
       "      <td>(-0.141, 0.144)</td>\n",
       "      <td>3.85</td>\n",
       "    </tr>\n",
       "    <tr>\n",
       "      <th>5</th>\n",
       "      <td>15.00</td>\n",
       "      <td>1.00</td>\n",
       "      <td>1762</td>\n",
       "      <td>64.8</td>\n",
       "      <td>11452.3</td>\n",
       "      <td>4.38</td>\n",
       "      <td>(-0.11, 0.112)</td>\n",
       "      <td>4.57</td>\n",
       "    </tr>\n",
       "    <tr>\n",
       "      <th>6</th>\n",
       "      <td>15.88</td>\n",
       "      <td>0.75</td>\n",
       "      <td>992</td>\n",
       "      <td>64.8</td>\n",
       "      <td>5263.8</td>\n",
       "      <td>3.15</td>\n",
       "      <td>(-0.108, 0.111)</td>\n",
       "      <td>3.34</td>\n",
       "    </tr>\n",
       "    <tr>\n",
       "      <th>7</th>\n",
       "      <td>16.62</td>\n",
       "      <td>0.75</td>\n",
       "      <td>670</td>\n",
       "      <td>64.8</td>\n",
       "      <td>2000.6</td>\n",
       "      <td>1.81</td>\n",
       "      <td>(-0.084, 0.086)</td>\n",
       "      <td>1.95</td>\n",
       "    </tr>\n",
       "    <tr>\n",
       "      <th>8</th>\n",
       "      <td>17.25</td>\n",
       "      <td>0.50</td>\n",
       "      <td>294</td>\n",
       "      <td>64.8</td>\n",
       "      <td>475.7</td>\n",
       "      <td>0.99</td>\n",
       "      <td>(-0.079, 0.082)</td>\n",
       "      <td>1.13</td>\n",
       "    </tr>\n",
       "    <tr>\n",
       "      <th>9</th>\n",
       "      <td>18.75</td>\n",
       "      <td>2.50</td>\n",
       "      <td>1323</td>\n",
       "      <td>64.8</td>\n",
       "      <td>1136.2</td>\n",
       "      <td>0.68</td>\n",
       "      <td>(-0.032, 0.032)</td>\n",
       "      <td>0.74</td>\n",
       "    </tr>\n",
       "  </tbody>\n",
       "</table>\n",
       "</div>"
      ],
      "text/plain": [
       "       t    tw     n     e       ts  flux           errors  limit\n",
       "0  11.25  2.50  1276  64.8    978.4  0.62  (-0.031, 0.031)   0.67\n",
       "1  12.75  0.50   322  64.8    538.9  1.11  (-0.084, 0.087)   1.25\n",
       "2  13.25  0.50   425  64.8   1127.8  1.65  (-0.099, 0.103)   1.83\n",
       "3  13.75  0.50   582  64.8   2507.1  2.61  (-0.121, 0.125)   2.82\n",
       "4  14.25  0.50   759  64.8   4226.8  3.61  (-0.141, 0.144)   3.85\n",
       "5  15.00  1.00  1762  64.8  11452.3  4.38   (-0.11, 0.112)   4.57\n",
       "6  15.88  0.75   992  64.8   5263.8  3.15  (-0.108, 0.111)   3.34\n",
       "7  16.62  0.75   670  64.8   2000.6  1.81  (-0.084, 0.086)   1.95\n",
       "8  17.25  0.50   294  64.8    475.7  0.99  (-0.079, 0.082)   1.13\n",
       "9  18.75  2.50  1323  64.8   1136.2  0.68  (-0.032, 0.032)   0.74"
      ]
     },
     "execution_count": null,
     "metadata": {},
     "output_type": "execute_result"
    }
   ],
   "source": [
    "bb.fluxes"
   ]
  },
  {
   "cell_type": "markdown",
   "id": "married-expense",
   "metadata": {},
   "source": [
    "### Getting help\n",
    "This jupyterlab environment allows easy exploration of help for any class or function.\n",
    "The two classes so far:"
   ]
  },
  {
   "cell_type": "code",
   "execution_count": null,
   "id": "genuine-accident",
   "metadata": {},
   "outputs": [
    {
     "data": {
      "text/plain": [
       "\u001b[0;31mInit signature:\u001b[0m\n",
       "\u001b[0mSimulation\u001b[0m\u001b[0;34m(\u001b[0m\u001b[0;34m\u001b[0m\n",
       "\u001b[0;34m\u001b[0m    \u001b[0mname\u001b[0m\u001b[0;34m,\u001b[0m\u001b[0;34m\u001b[0m\n",
       "\u001b[0;34m\u001b[0m    \u001b[0msrc_flux\u001b[0m\u001b[0;34m,\u001b[0m\u001b[0;34m\u001b[0m\n",
       "\u001b[0;34m\u001b[0m    \u001b[0mtstart\u001b[0m\u001b[0;34m,\u001b[0m\u001b[0;34m\u001b[0m\n",
       "\u001b[0;34m\u001b[0m    \u001b[0mtstop\u001b[0m\u001b[0;34m,\u001b[0m\u001b[0;34m\u001b[0m\n",
       "\u001b[0;34m\u001b[0m    \u001b[0mbkg_rate\u001b[0m\u001b[0;34m=\u001b[0m\u001b[0;36m1e-06\u001b[0m\u001b[0;34m,\u001b[0m\u001b[0;34m\u001b[0m\n",
       "\u001b[0;34m\u001b[0m    \u001b[0mefun\u001b[0m\u001b[0;34m=\u001b[0m\u001b[0;36m3000\u001b[0m\u001b[0;34m,\u001b[0m\u001b[0;34m\u001b[0m\n",
       "\u001b[0;34m\u001b[0m    \u001b[0mwt_signif\u001b[0m\u001b[0;34m=\u001b[0m\u001b[0;36m0.1\u001b[0m\u001b[0;34m,\u001b[0m\u001b[0;34m\u001b[0m\n",
       "\u001b[0;34m\u001b[0m\u001b[0;34m)\u001b[0m\u001b[0;34m\u001b[0m\u001b[0;34m\u001b[0m\u001b[0m\n",
       "\u001b[0;31mDocstring:\u001b[0m      <no docstring>\n",
       "\u001b[0;31mInit docstring:\u001b[0m\n",
       "- src_flux : source flux, scalar or function of days, typically around 1e-7\n",
       "- tstart, tstop :(days)\n",
       "- bkg_rate : background flux, scalar or function of day, typicaly 1e-6 for 4-deg cone\n",
       "- efun : scalar, function (of time in days) of the exposure/s. Typically 3000 cm^2 for fermi\n",
       "\n",
       "- wt_signif : now the width of the PSF in (r/rmax)**2 coordinates\n",
       "\u001b[0;31mFile:\u001b[0m           /mnt/c/users/thbur/OneDrive/work/wtlike/wtlike/simulation.py\n",
       "\u001b[0;31mType:\u001b[0m           type\n",
       "\u001b[0;31mSubclasses:\u001b[0m     \n"
      ]
     },
     "metadata": {},
     "output_type": "display_data"
    }
   ],
   "source": [
    "Simulation = Simulation\n",
    "Simulation?"
   ]
  },
  {
   "cell_type": "code",
   "execution_count": null,
   "id": "sweet-clause",
   "metadata": {},
   "outputs": [
    {
     "data": {
      "text/plain": [
       "\u001b[0;31mInit signature:\u001b[0m \u001b[0mWtLike\u001b[0m\u001b[0;34m(\u001b[0m\u001b[0;34m*\u001b[0m\u001b[0mpars\u001b[0m\u001b[0;34m,\u001b[0m \u001b[0;34m**\u001b[0m\u001b[0mkwargs\u001b[0m\u001b[0;34m)\u001b[0m\u001b[0;34m\u001b[0m\u001b[0;34m\u001b[0m\u001b[0m\n",
       "\u001b[0;31mDocstring:\u001b[0m     \n",
       "Summary\n",
       "---------\n",
       "There are three layers of initialization, implemented in superclasses,\n",
       "each with parameters. The classnames, associated parameters and data members set:\n",
       "\n",
       "SourceData -- load photons and exposure\n",
       "    parameters:\n",
       "      - source : name, a PointSource object, or a Simulation object\n",
       "      - config [Config()] : basic configuration\n",
       "      - week_range [None] : range of weeks to load\n",
       "      - key [''] : the cache key: '' means construct one with the source name, None to disable\n",
       "      - clear [False] : if using cache, clear the contents first\n",
       "    sets:\n",
       "      - photons\n",
       "      - exposure\n",
       "\n",
       "CellData -- create cells\n",
       "    parameters:\n",
       "      - time_bins [Config().time_bins] : binning: start, stop, binsize\n",
       "    sets:\n",
       "      - cells\n",
       "\n",
       "LightCurve -- likelihood analysis of the cells\n",
       "    parameters:\n",
       "      - e_min [10] -- threshold for exposure (cm^2 units)\n",
       "      - n_min [2]  -- likelihood has trouble with this few\n",
       "      - lc_key [None] -- possible cache for light curve\n",
       "    sets:\n",
       "      - fits, fluxes\n",
       "\n",
       "WtLike (this class) -- no parameters (may add BB-specific ones)\n",
       "    Implements:  bb_view, plot_BB\n",
       "    sets:\n",
       "      - bb_flux  (only if bb_view invoked)\n",
       "\u001b[0;31mInit docstring:\u001b[0m         \n",
       "\u001b[0;31mFile:\u001b[0m           /mnt/c/users/thbur/OneDrive/work/wtlike/wtlike/main.py\n",
       "\u001b[0;31mType:\u001b[0m           type\n",
       "\u001b[0;31mSubclasses:\u001b[0m     \n"
      ]
     },
     "metadata": {},
     "output_type": "display_data"
    }
   ],
   "source": [
    "WtLike?"
   ]
  },
  {
   "cell_type": "markdown",
   "id": "least-outreach",
   "metadata": {},
   "source": [
    "The three WtLike methods have (preliminary) help as well:"
   ]
  },
  {
   "cell_type": "code",
   "execution_count": null,
   "id": "overall-species",
   "metadata": {},
   "outputs": [
    {
     "data": {
      "text/plain": [
       "\u001b[0;31mSignature:\u001b[0m \u001b[0mWtLike\u001b[0m\u001b[0;34m.\u001b[0m\u001b[0mplot\u001b[0m\u001b[0;34m(\u001b[0m\u001b[0mself\u001b[0m\u001b[0;34m,\u001b[0m \u001b[0;34m*\u001b[0m\u001b[0mpars\u001b[0m\u001b[0;34m,\u001b[0m \u001b[0;34m**\u001b[0m\u001b[0mkwargs\u001b[0m\u001b[0;34m)\u001b[0m\u001b[0;34m\u001b[0m\u001b[0;34m\u001b[0m\u001b[0m\n",
       "\u001b[0;31mDocstring:\u001b[0m\n",
       "Make a light curve plot\n",
       "        Invokes flux_plot, after processing kwargs to intercept\n",
       "        - log -- translate to `xscale='log'`\n",
       "        - xlim [None] -- convert to (start, stop) interpreted relative to start, stop if < start.\n",
       "        - show_flux [False]-- convert y scale to photon flux\n",
       "        - UTC [False] -- convert x scale to UTC years\n",
       "-\n",
       "        Make a plot of flux vs. time. This is invoked by the `plot` function of `LightCurve`\n",
       "\n",
       "    - cell_fits -- cell fits DataFrame\n",
       "    - query ['']-- DataFrame query to select subset\n",
       "    - ts_bar_min -- threshold for plotting as bar vs limit\n",
       "    - tzero -- time offset, in MJD\n",
       "    - source_name -- draw text in top left\n",
       "    - flux_factor [1]\n",
       "\n",
       "    - ax [None] -- a matplotlib.axes._subplots.AxesSubplot object returned from plt.subplots<br>\n",
       "    if None, create one using subplots with fignum [1] and figsize [(12,4)]\n",
       "    - fmt [''] -- marker symbol -- if not specifed, will use '.' if many bins, else 'o'\n",
       "    - ms [None] -- for marker size\n",
       "    - colors -- tuple of colors for signal, limit, step\n",
       "    - step   -- add a \"step\" plot\n",
       "    - zorder -- set to different number to order successive calls with same Axis object\n",
       "    - kwargs -- apply to the `ax` object, like xlim, ylim\n",
       "\n",
       "    returns the Figure instance\n",
       "    \n",
       "\u001b[0;31mFile:\u001b[0m      /mnt/c/users/thbur/OneDrive/work/wtlike/wtlike/main.py\n",
       "\u001b[0;31mType:\u001b[0m      function\n"
      ]
     },
     "metadata": {},
     "output_type": "display_data"
    }
   ],
   "source": [
    "WtLike.plot?"
   ]
  },
  {
   "cell_type": "code",
   "execution_count": null,
   "id": "active-variable",
   "metadata": {},
   "outputs": [
    {
     "data": {
      "text/plain": [
       "\u001b[0;31mSignature:\u001b[0m \u001b[0mWtLike\u001b[0m\u001b[0;34m.\u001b[0m\u001b[0mview\u001b[0m\u001b[0;34m(\u001b[0m\u001b[0mself\u001b[0m\u001b[0;34m,\u001b[0m \u001b[0;34m*\u001b[0m\u001b[0mpars\u001b[0m\u001b[0;34m,\u001b[0m \u001b[0mexp_min\u001b[0m\u001b[0;34m=\u001b[0m\u001b[0;32mNone\u001b[0m\u001b[0;34m)\u001b[0m\u001b[0;34m\u001b[0m\u001b[0;34m\u001b[0m\u001b[0m\n",
       "\u001b[0;31mDocstring:\u001b[0m\n",
       "Return a \"view\", a copy of this instance with a perhaps a different set of cells\n",
       "\n",
       "- pars -- start, stop, step  to define new binning. Or start, step, or just step\n",
       "   start and stop are either MJD values, or offsets from the start or stop.\n",
       "   step -- the cell size in days, or if zero, orbit-based binning\n",
       "\n",
       "- exp_min [None] -- If specified, a different minimum exposure, in cm^2 Ms units to use for fitting\n",
       "    from.\n",
       "\u001b[0;31mFile:\u001b[0m      /mnt/c/users/thbur/OneDrive/work/wtlike/wtlike/cell_data.py\n",
       "\u001b[0;31mType:\u001b[0m      function\n"
      ]
     },
     "metadata": {},
     "output_type": "display_data"
    }
   ],
   "source": [
    "WtLike.view?"
   ]
  },
  {
   "cell_type": "markdown",
   "id": "perceived-concentrate",
   "metadata": {},
   "source": [
    "## Using *Fermi* data.\n",
    "\n",
    "The only change from above is that one uses `PointSource` instead of `Simulation`. \n",
    "\n",
    "The data must be available, of course.\n",
    "So,"
   ]
  },
  {
   "cell_type": "code",
   "execution_count": null,
   "id": "differential-password",
   "metadata": {},
   "outputs": [
    {
     "name": "stdout",
     "output_type": "stream",
     "text": [
      "Weekly folder \"/home/burnett/wtlike_data/data_files\" contains 678 weeks.\n",
      "\t Last week, # 687, has 1.420 days, ends at UTC 2021-07-30 10:10\n"
     ]
    }
   ],
   "source": [
    "check_data()"
   ]
  },
  {
   "cell_type": "markdown",
   "id": "innocent-metropolitan",
   "metadata": {},
   "source": [
    "Get a source: this name can be anything recognized by `astropy.coordinates.SkyCoord`, including all 4FGL sources\n"
   ]
  },
  {
   "cell_type": "code",
   "execution_count": null,
   "id": "large-projection",
   "metadata": {},
   "outputs": [
    {
     "data": {
      "text/plain": [
       "Source \"3C 279\" at: (l,b)=(305.104,57.062)"
      ]
     },
     "execution_count": null,
     "metadata": {},
     "output_type": "execute_result"
    }
   ],
   "source": [
    "source = PointSource('3C 279'); source"
   ]
  },
  {
   "cell_type": "markdown",
   "id": "incident-psychology",
   "metadata": {},
   "source": [
    "This requires access to a packaged form of the photon data, a table allowing generation of weights, and the effective area table.\n",
    "The source must have been analyzed with `gtlike` or `pointlike` to produce the weight table.\n",
    "All are available in a 2-GB zip file."
   ]
  },
  {
   "cell_type": "code",
   "execution_count": null,
   "id": "conservative-still",
   "metadata": {},
   "outputs": [
    {
     "name": "stdout",
     "output_type": "stream",
     "text": [
      "SourceData:  3C 279, use_kerr=False: Saving to cache with key \"P88Y3243_data\"\n",
      "LoadData: loading all 678 weekly files\n",
      "......................................................................................................................................................................................................................................................................................................................................................................................................................................................................................................................................................................................................................................................................................................\n",
      "SourceData: Source 3C 279 with:\n",
      "\t data:       180,481 photons from 2008-08-04 to 2021-07-30\n",
      "\t exposure: 2,870,182 intervals,  average flux 2391 cm^2 for 85.7 Ms\n",
      "\t rates:  source 4.68e-07/s, background 4.13e-07/s, S/N ratio 1.14e+00\n",
      "CellData: Bin photon data into 677 1-week bins from 54683.0 to 59422.0\n",
      "LightCurve: select 667 cells for fitting with e>5 & n>2\n"
     ]
    },
    {
     "name": "stderr",
     "output_type": "stream",
     "text": [
      "/home/burnett/miniconda3/lib/python3.9/site-packages/scipy/optimize/minpack.py:175: RuntimeWarning: The iteration is not making good progress, as measured by the \n",
      "  improvement from the last ten iterations.\n",
      "  warnings.warn(msg, RuntimeWarning)\n"
     ]
    }
   ],
   "source": [
    "wtl = WtLike(source, clear=True)"
   ]
  },
  {
   "cell_type": "markdown",
   "id": "brutal-estonia",
   "metadata": {},
   "source": [
    "If the the data for this source has not been accessed on this machine before, it must be extracted to a cache, a process that takes some 10 min. Otherwise it is a few seconds to retrieve the cache.\n",
    "\n",
    "Generate the (default weekly) light curve:"
   ]
  },
  {
   "cell_type": "code",
   "execution_count": null,
   "id": "activated-brazilian",
   "metadata": {},
   "outputs": [
    {
     "data": {
      "image/png": "[encoded data removed]",
      "text/plain": [
       "<Figure size 864x288 with 1 Axes>"
      ]
     },
     "metadata": {},
     "output_type": "display_data"
    }
   ],
   "source": [
    "wtl.plot(log=True, UTC=True);"
   ]
  },
  {
   "cell_type": "code",
   "execution_count": null,
   "id": "50fe71bd-6ef2-4381-a670-f51e41c12f83",
   "metadata": {},
   "outputs": [],
   "source": [
    "import wtlike\n",
    "wtlike?"
   ]
  },
  {
   "cell_type": "code",
   "execution_count": null,
   "id": "8550bb11-cdc1-4851-9799-d4d0e88b6e45",
   "metadata": {},
   "outputs": [],
   "source": []
  }
 ],
 "metadata": {
  "kernelspec": {
   "display_name": "Python 3",
   "language": "python",
   "name": "python3"
  }
 },
 "nbformat": 4,
 "nbformat_minor": 5
}
