{
 "cells": [
  {
   "cell_type": "code",
   "execution_count": null,
   "id": "confused-illustration",
   "metadata": {
    "tags": []
   },
   "outputs": [],
   "source": [
    "from wtlike import Config, Simulation, WtLike\n",
    "import numpy as np"
   ]
  },
  {
   "cell_type": "markdown",
   "id": "dying-breeding",
   "metadata": {},
   "source": [
    "# wtlike tutorial\n",
    "\n",
    "> A step by step guide"
   ]
  },
  {
   "cell_type": "markdown",
   "id": "incredible-swift",
   "metadata": {},
   "source": [
    "### Install `wtlike`"
   ]
  },
  {
   "cell_type": "markdown",
   "id": "ready-diploma",
   "metadata": {},
   "source": [
    "This assumes that you already have a Jupyter Notebook Server configured on your machine. \n",
    "\n",
    "Either run this [notebook](https://github.com/tburnett/wtlike/blob/master/nbs/99_tutorial.ipynb), or copy the cells into a new notebook.\n",
    "\n",
    "`wtlike` is on PyPI--to install it,\n",
    "\n",
    "```\n",
    "pip install wtlike\n",
    "```\n",
    "Next we generate a simulated on-the-fly dataset in lieu of downloading the 3-GB of so of the *fermi* data."
   ]
  },
  {
   "cell_type": "markdown",
   "id": "natural-minister",
   "metadata": {},
   "source": [
    "### Define a source flux function. \n",
    "Note that we measure time in day units, and will pick a 30-day interval for this demo.\n",
    "\n",
    "The following function has a flare at 15 days."
   ]
  },
  {
   "cell_type": "code",
   "execution_count": null,
   "id": "toxic-democrat",
   "metadata": {},
   "outputs": [],
   "source": [
    "def src_flare(t, tzero=15, width=1, amp=5):\n",
    "    return 1e-6*(1 + amp*np.exp(-(t-tzero)**2/2/width))"
   ]
  },
  {
   "cell_type": "markdown",
   "id": "advanced-azerbaijan",
   "metadata": {},
   "source": [
    "We use it to tell the simulation that the flux has this behavior. Note defaults:\n",
    "\n",
    "- background -- 1e-6 /s\n",
    "- effective area -- 3000 cm^2 \n",
    "\n",
    "Here we create a `Simulation` object, then pass it to the primary wtlike entry point, the class `WtLike`.\n",
    "We tell it to immediately bin all the photons into daily time-bins, called \"cells\". (The time binning can be easily redone.)"
   ]
  },
  {
   "cell_type": "code",
   "execution_count": null,
   "id": "43ff4d67-b4a6-4b6b-8e80-5b23f4a2ff84",
   "metadata": {},
   "outputs": [
    {
     "name": "stdout",
     "output_type": "stream",
     "text": [
      "generated 18810 photons\n",
      "SourceData: Source flare_sim with:\n",
      "\t data:        18,810 simulated photons over 30.0 days.\n",
      "\t exposure:     8,640 intervals,  average effective area 3000 cm^2 for 2.6 Ms\n",
      "\t rates:  source 1.41e-06/s, background 1.01e-06/s, S/N ratio 1.40e+00\n",
      "CellData: Bin photon data into 30 1-day bins from 0.0 to 30.0\n",
      "LightCurve: select 30 cells for fitting with e>5 & n>2\n"
     ]
    }
   ],
   "source": [
    "config=Config(datapath=None)\n",
    "test_sim = Simulation('flare_sim', src_flux=src_flare, tstart=0, tstop=30, )\n",
    "daily = WtLike(test_sim, config=config, time_bins=(0,0,1))"
   ]
  },
  {
   "cell_type": "markdown",
   "id": "adjacent-indonesian",
   "metadata": {},
   "source": [
    "Now make a light curve!"
   ]
  },
  {
   "cell_type": "code",
   "execution_count": null,
   "id": "emotional-brush",
   "metadata": {},
   "outputs": [
    {
     "data": {
      "image/png": "[encoded data removed]",
      "text/plain": [
       "<Figure size 864x288 with 1 Axes>"
      ]
     },
     "metadata": {},
     "output_type": "display_data"
    }
   ],
   "source": [
    "daily.plot();"
   ]
  },
  {
   "cell_type": "markdown",
   "id": "green-economics",
   "metadata": {},
   "source": [
    "The cells have each been analyzed to create a likelihood function representation. The first few cells are:"
   ]
  },
  {
   "cell_type": "code",
   "execution_count": null,
   "id": "liable-positive",
   "metadata": {},
   "outputs": [
    {
     "data": {
      "text/html": [
       "<div>\n",
       "<style scoped>\n",
       "    .dataframe tbody tr th:only-of-type {\n",
       "        vertical-align: middle;\n",
       "    }\n",
       "\n",
       "    .dataframe tbody tr th {\n",
       "        vertical-align: top;\n",
       "    }\n",
       "\n",
       "    .dataframe thead th {\n",
       "        text-align: right;\n",
       "    }\n",
       "</style>\n",
       "<table border=\"1\" class=\"dataframe\">\n",
       "  <thead>\n",
       "    <tr style=\"text-align: right;\">\n",
       "      <th></th>\n",
       "      <th>t</th>\n",
       "      <th>tw</th>\n",
       "      <th>e</th>\n",
       "      <th>n</th>\n",
       "      <th>w</th>\n",
       "      <th>S</th>\n",
       "      <th>B</th>\n",
       "    </tr>\n",
       "  </thead>\n",
       "  <tbody>\n",
       "    <tr>\n",
       "      <th>0</th>\n",
       "      <td>0.5</td>\n",
       "      <td>1.0</td>\n",
       "      <td>258.3</td>\n",
       "      <td>474</td>\n",
       "      <td>[0.9028203, 0.81812596, 0.82833767, 0.78698134...</td>\n",
       "      <td>361.93</td>\n",
       "      <td>256.31</td>\n",
       "    </tr>\n",
       "    <tr>\n",
       "      <th>1</th>\n",
       "      <td>1.5</td>\n",
       "      <td>1.0</td>\n",
       "      <td>259.2</td>\n",
       "      <td>506</td>\n",
       "      <td>[0.70645607, 0.9009425, 0.061544523, 0.7418121...</td>\n",
       "      <td>363.19</td>\n",
       "      <td>257.21</td>\n",
       "    </tr>\n",
       "  </tbody>\n",
       "</table>\n",
       "</div>"
      ],
      "text/plain": [
       "     t   tw      e    n                                                  w  \\\n",
       "0  0.5  1.0  258.3  474  [0.9028203, 0.81812596, 0.82833767, 0.78698134...   \n",
       "1  1.5  1.0  259.2  506  [0.70645607, 0.9009425, 0.061544523, 0.7418121...   \n",
       "\n",
       "        S       B  \n",
       "0  361.93  256.31  \n",
       "1  363.19  257.21  "
      ]
     },
     "execution_count": null,
     "metadata": {},
     "output_type": "execute_result"
    }
   ],
   "source": [
    "daily.cells.head(2)"
   ]
  },
  {
   "cell_type": "markdown",
   "id": "delayed-panama",
   "metadata": {},
   "source": [
    "The Kerr likelihood function for a cell is a function of $w$, the list of weights, and $S$, an estimate for the total signal counts in the cell\n",
    "\n",
    "$$ \\displaystyle\\log\\mathcal{L}(\\alpha\\ |\\ w)\\ = \\sum_{w}  \\log \\big( 1 + \\alpha\\ w \\big) - \\alpha\\ S  $$\n",
    "\n",
    "where $\\alpha$ is the variation from the nominal zero. The background is assumed to be constant here, as it usually is the region surrounding sources of interest. \n",
    "The relative flux is $1+\\alpha$. \n",
    "\n",
    "We generate an approximate representation of this function by fitting it to a 3-parameter Poisson-like function, which easily provides the values of interest."
   ]
  },
  {
   "cell_type": "code",
   "execution_count": null,
   "id": "accepting-thermal",
   "metadata": {},
   "outputs": [
    {
     "data": {
      "text/html": [
       "<div>\n",
       "<style scoped>\n",
       "    .dataframe tbody tr th:only-of-type {\n",
       "        vertical-align: middle;\n",
       "    }\n",
       "\n",
       "    .dataframe tbody tr th {\n",
       "        vertical-align: top;\n",
       "    }\n",
       "\n",
       "    .dataframe thead th {\n",
       "        text-align: right;\n",
       "    }\n",
       "</style>\n",
       "<table border=\"1\" class=\"dataframe\">\n",
       "  <thead>\n",
       "    <tr style=\"text-align: right;\">\n",
       "      <th></th>\n",
       "      <th>t</th>\n",
       "      <th>tw</th>\n",
       "      <th>n</th>\n",
       "      <th>e</th>\n",
       "      <th>ts</th>\n",
       "      <th>flux</th>\n",
       "      <th>errors</th>\n",
       "      <th>limit</th>\n",
       "    </tr>\n",
       "  </thead>\n",
       "  <tbody>\n",
       "    <tr>\n",
       "      <th>0</th>\n",
       "      <td>0.5</td>\n",
       "      <td>1.0</td>\n",
       "      <td>474</td>\n",
       "      <td>258.3</td>\n",
       "      <td>310.3</td>\n",
       "      <td>0.55</td>\n",
       "      <td>(-0.047, 0.048)</td>\n",
       "      <td>0.64</td>\n",
       "    </tr>\n",
       "    <tr>\n",
       "      <th>1</th>\n",
       "      <td>1.5</td>\n",
       "      <td>1.0</td>\n",
       "      <td>506</td>\n",
       "      <td>259.2</td>\n",
       "      <td>366.4</td>\n",
       "      <td>0.61</td>\n",
       "      <td>(-0.049, 0.05)</td>\n",
       "      <td>0.70</td>\n",
       "    </tr>\n",
       "  </tbody>\n",
       "</table>\n",
       "</div>"
      ],
      "text/plain": [
       "     t   tw    n      e     ts  flux           errors  limit\n",
       "0  0.5  1.0  474  258.3  310.3  0.55  (-0.047, 0.048)   0.64\n",
       "1  1.5  1.0  506  259.2  366.4  0.61   (-0.049, 0.05)   0.70"
      ]
     },
     "execution_count": null,
     "metadata": {},
     "output_type": "execute_result"
    }
   ],
   "source": [
    "daily.fluxes.head(2)"
   ]
  },
  {
   "cell_type": "markdown",
   "id": "consistent-albania",
   "metadata": {},
   "source": [
    "#### About DataFrames\n",
    "The properties `photons`, `exposure`, `cells`, `fits`, and `fluxes` are [pandas.DataFrame](https://pandas.pydata.org/pandas-docs/stable/reference/api/pandas.DataFrame.html) objects.\n",
    "For those unfamiliar with pandas, note that one can create \"csv\" files with the method `to_csv(`*filename*`)`.\n",
    "\n",
    "The function `query` is very useful: To select the cells with flux>3,"
   ]
  },
  {
   "cell_type": "code",
   "execution_count": null,
   "id": "legitimate-touch",
   "metadata": {},
   "outputs": [
    {
     "data": {
      "text/html": [
       "<div>\n",
       "<style scoped>\n",
       "    .dataframe tbody tr th:only-of-type {\n",
       "        vertical-align: middle;\n",
       "    }\n",
       "\n",
       "    .dataframe tbody tr th {\n",
       "        vertical-align: top;\n",
       "    }\n",
       "\n",
       "    .dataframe thead th {\n",
       "        text-align: right;\n",
       "    }\n",
       "</style>\n",
       "<table border=\"1\" class=\"dataframe\">\n",
       "  <thead>\n",
       "    <tr style=\"text-align: right;\">\n",
       "      <th></th>\n",
       "      <th>t</th>\n",
       "      <th>tw</th>\n",
       "      <th>n</th>\n",
       "      <th>e</th>\n",
       "      <th>ts</th>\n",
       "      <th>flux</th>\n",
       "      <th>errors</th>\n",
       "      <th>limit</th>\n",
       "    </tr>\n",
       "  </thead>\n",
       "  <tbody>\n",
       "    <tr>\n",
       "      <th>14</th>\n",
       "      <td>14.5</td>\n",
       "      <td>1.0</td>\n",
       "      <td>1593</td>\n",
       "      <td>259.2</td>\n",
       "      <td>9601.5</td>\n",
       "      <td>3.95</td>\n",
       "      <td>(-0.105, 0.107)</td>\n",
       "      <td>4.13</td>\n",
       "    </tr>\n",
       "    <tr>\n",
       "      <th>15</th>\n",
       "      <td>15.5</td>\n",
       "      <td>1.0</td>\n",
       "      <td>1582</td>\n",
       "      <td>259.2</td>\n",
       "      <td>9657.3</td>\n",
       "      <td>3.96</td>\n",
       "      <td>(-0.105, 0.107)</td>\n",
       "      <td>4.14</td>\n",
       "    </tr>\n",
       "  </tbody>\n",
       "</table>\n",
       "</div>"
      ],
      "text/plain": [
       "       t   tw     n      e      ts  flux           errors  limit\n",
       "14  14.5  1.0  1593  259.2  9601.5  3.95  (-0.105, 0.107)   4.13\n",
       "15  15.5  1.0  1582  259.2  9657.3  3.96  (-0.105, 0.107)   4.14"
      ]
     },
     "execution_count": null,
     "metadata": {},
     "output_type": "execute_result"
    }
   ],
   "source": [
    "daily.fluxes.query('flux>3')"
   ]
  },
  {
   "cell_type": "markdown",
   "id": "structural-lindsay",
   "metadata": {},
   "source": [
    "## Views\n",
    "A `WtLike` object provides a function `view`, which returns a copy but with a different binning. \n",
    "So if we want a detailed look at the flare, we can choose an interval. The parameters specify an interval 10 days after the start, and 10 days before the end, with 1/day or 6-hour bins."
   ]
  },
  {
   "cell_type": "code",
   "execution_count": null,
   "id": "miniature-cheese",
   "metadata": {},
   "outputs": [
    {
     "name": "stdout",
     "output_type": "stream",
     "text": [
      "CellData: Bin photon data into 40 6-hour bins from 10.0 to 20.0\n",
      "LightCurve: select 40 cells for fitting with e>5 & n>2\n"
     ]
    },
    {
     "data": {
      "image/png": "[encoded data removed]",
      "text/plain": [
       "<Figure size 864x288 with 1 Axes>"
      ]
     },
     "metadata": {},
     "output_type": "display_data"
    }
   ],
   "source": [
    "qday = daily.view(10, -10, 0.25)\n",
    "qday.plot();"
   ]
  },
  {
   "cell_type": "markdown",
   "id": "dutch-samoa",
   "metadata": {},
   "source": [
    "### Bayesian-Block view\n",
    "The WtLike object also has a special `bb_view` function, which does a Bayesian Block analysis and returns a view of it. "
   ]
  },
  {
   "cell_type": "code",
   "execution_count": null,
   "id": "verified-chicken",
   "metadata": {},
   "outputs": [
    {
     "name": "stdout",
     "output_type": "stream",
     "text": [
      "Bayesian Blocks: partitioning 40 cells using LikelihoodFitness with penalty 5.0%\n",
      "\tfound 12 / 40 blocks.\n",
      "LightCurve: Loaded 12 / 12 cells for fitting\n"
     ]
    },
    {
     "data": {
      "image/png": "[encoded data removed]",
      "text/plain": [
       "<Figure size 864x288 with 1 Axes>"
      ]
     },
     "metadata": {},
     "output_type": "display_data"
    }
   ],
   "source": [
    "bb = qday.bb_view();bb.plot();"
   ]
  },
  {
   "cell_type": "markdown",
   "id": "inclusive-campaign",
   "metadata": {},
   "source": [
    "This creates variable-sized cells corresponding to the Bayesian Block analysis, the fits for which are shown here:"
   ]
  },
  {
   "cell_type": "code",
   "execution_count": null,
   "id": "inappropriate-forest",
   "metadata": {},
   "outputs": [
    {
     "data": {
      "text/html": [
       "<div>\n",
       "<style scoped>\n",
       "    .dataframe tbody tr th:only-of-type {\n",
       "        vertical-align: middle;\n",
       "    }\n",
       "\n",
       "    .dataframe tbody tr th {\n",
       "        vertical-align: top;\n",
       "    }\n",
       "\n",
       "    .dataframe thead th {\n",
       "        text-align: right;\n",
       "    }\n",
       "</style>\n",
       "<table border=\"1\" class=\"dataframe\">\n",
       "  <thead>\n",
       "    <tr style=\"text-align: right;\">\n",
       "      <th></th>\n",
       "      <th>t</th>\n",
       "      <th>tw</th>\n",
       "      <th>n</th>\n",
       "      <th>e</th>\n",
       "      <th>ts</th>\n",
       "      <th>flux</th>\n",
       "      <th>errors</th>\n",
       "      <th>limit</th>\n",
       "    </tr>\n",
       "  </thead>\n",
       "  <tbody>\n",
       "    <tr>\n",
       "      <th>0</th>\n",
       "      <td>11.12</td>\n",
       "      <td>2.25</td>\n",
       "      <td>1180</td>\n",
       "      <td>64.8</td>\n",
       "      <td>924.9</td>\n",
       "      <td>0.65</td>\n",
       "      <td>(-0.033, 0.034)</td>\n",
       "      <td>0.71</td>\n",
       "    </tr>\n",
       "    <tr>\n",
       "      <th>1</th>\n",
       "      <td>12.62</td>\n",
       "      <td>0.75</td>\n",
       "      <td>452</td>\n",
       "      <td>64.8</td>\n",
       "      <td>586.2</td>\n",
       "      <td>0.89</td>\n",
       "      <td>(-0.063, 0.065)</td>\n",
       "      <td>1.00</td>\n",
       "    </tr>\n",
       "    <tr>\n",
       "      <th>2</th>\n",
       "      <td>13.25</td>\n",
       "      <td>0.50</td>\n",
       "      <td>401</td>\n",
       "      <td>64.8</td>\n",
       "      <td>1080.8</td>\n",
       "      <td>1.60</td>\n",
       "      <td>(-0.098, 0.101)</td>\n",
       "      <td>1.77</td>\n",
       "    </tr>\n",
       "    <tr>\n",
       "      <th>3</th>\n",
       "      <td>13.62</td>\n",
       "      <td>0.25</td>\n",
       "      <td>248</td>\n",
       "      <td>64.8</td>\n",
       "      <td>917.9</td>\n",
       "      <td>2.21</td>\n",
       "      <td>(-0.16, 0.167)</td>\n",
       "      <td>2.49</td>\n",
       "    </tr>\n",
       "    <tr>\n",
       "      <th>4</th>\n",
       "      <td>14.00</td>\n",
       "      <td>0.50</td>\n",
       "      <td>612</td>\n",
       "      <td>64.8</td>\n",
       "      <td>2941.8</td>\n",
       "      <td>2.89</td>\n",
       "      <td>(-0.128, 0.132)</td>\n",
       "      <td>3.11</td>\n",
       "    </tr>\n",
       "    <tr>\n",
       "      <th>5</th>\n",
       "      <td>14.88</td>\n",
       "      <td>1.25</td>\n",
       "      <td>2166</td>\n",
       "      <td>64.8</td>\n",
       "      <td>13756.3</td>\n",
       "      <td>4.35</td>\n",
       "      <td>(-0.099, 0.1)</td>\n",
       "      <td>4.52</td>\n",
       "    </tr>\n",
       "    <tr>\n",
       "      <th>6</th>\n",
       "      <td>15.75</td>\n",
       "      <td>0.50</td>\n",
       "      <td>699</td>\n",
       "      <td>64.8</td>\n",
       "      <td>3973.5</td>\n",
       "      <td>3.45</td>\n",
       "      <td>(-0.139, 0.142)</td>\n",
       "      <td>3.69</td>\n",
       "    </tr>\n",
       "    <tr>\n",
       "      <th>7</th>\n",
       "      <td>16.25</td>\n",
       "      <td>0.50</td>\n",
       "      <td>569</td>\n",
       "      <td>64.8</td>\n",
       "      <td>2533.3</td>\n",
       "      <td>2.64</td>\n",
       "      <td>(-0.123, 0.126)</td>\n",
       "      <td>2.85</td>\n",
       "    </tr>\n",
       "    <tr>\n",
       "      <th>8</th>\n",
       "      <td>16.62</td>\n",
       "      <td>0.25</td>\n",
       "      <td>221</td>\n",
       "      <td>64.8</td>\n",
       "      <td>691.1</td>\n",
       "      <td>1.84</td>\n",
       "      <td>(-0.146, 0.153)</td>\n",
       "      <td>2.10</td>\n",
       "    </tr>\n",
       "    <tr>\n",
       "      <th>9</th>\n",
       "      <td>17.00</td>\n",
       "      <td>0.50</td>\n",
       "      <td>322</td>\n",
       "      <td>64.8</td>\n",
       "      <td>614.1</td>\n",
       "      <td>1.15</td>\n",
       "      <td>(-0.085, 0.088)</td>\n",
       "      <td>1.30</td>\n",
       "    </tr>\n",
       "    <tr>\n",
       "      <th>10</th>\n",
       "      <td>18.00</td>\n",
       "      <td>1.50</td>\n",
       "      <td>874</td>\n",
       "      <td>64.8</td>\n",
       "      <td>816.0</td>\n",
       "      <td>0.77</td>\n",
       "      <td>(-0.043, 0.044)</td>\n",
       "      <td>0.84</td>\n",
       "    </tr>\n",
       "    <tr>\n",
       "      <th>11</th>\n",
       "      <td>19.38</td>\n",
       "      <td>1.25</td>\n",
       "      <td>613</td>\n",
       "      <td>64.8</td>\n",
       "      <td>385.3</td>\n",
       "      <td>0.57</td>\n",
       "      <td>(-0.043, 0.044)</td>\n",
       "      <td>0.64</td>\n",
       "    </tr>\n",
       "  </tbody>\n",
       "</table>\n",
       "</div>"
      ],
      "text/plain": [
       "        t    tw     n     e       ts  flux           errors  limit\n",
       "0   11.12  2.25  1180  64.8    924.9  0.65  (-0.033, 0.034)   0.71\n",
       "1   12.62  0.75   452  64.8    586.2  0.89  (-0.063, 0.065)   1.00\n",
       "2   13.25  0.50   401  64.8   1080.8  1.60  (-0.098, 0.101)   1.77\n",
       "3   13.62  0.25   248  64.8    917.9  2.21   (-0.16, 0.167)   2.49\n",
       "4   14.00  0.50   612  64.8   2941.8  2.89  (-0.128, 0.132)   3.11\n",
       "5   14.88  1.25  2166  64.8  13756.3  4.35    (-0.099, 0.1)   4.52\n",
       "6   15.75  0.50   699  64.8   3973.5  3.45  (-0.139, 0.142)   3.69\n",
       "7   16.25  0.50   569  64.8   2533.3  2.64  (-0.123, 0.126)   2.85\n",
       "8   16.62  0.25   221  64.8    691.1  1.84  (-0.146, 0.153)   2.10\n",
       "9   17.00  0.50   322  64.8    614.1  1.15  (-0.085, 0.088)   1.30\n",
       "10  18.00  1.50   874  64.8    816.0  0.77  (-0.043, 0.044)   0.84\n",
       "11  19.38  1.25   613  64.8    385.3  0.57  (-0.043, 0.044)   0.64"
      ]
     },
     "execution_count": null,
     "metadata": {},
     "output_type": "execute_result"
    }
   ],
   "source": [
    "bb.fluxes"
   ]
  },
  {
   "cell_type": "markdown",
   "id": "married-expense",
   "metadata": {},
   "source": [
    "### Getting help\n",
    "This jupyterlab environment allows easy exploration of help for any class or function.\n",
    "The two classes so far:"
   ]
  },
  {
   "cell_type": "code",
   "execution_count": null,
   "id": "genuine-accident",
   "metadata": {},
   "outputs": [
    {
     "data": {
      "text/plain": [
       "\u001b[0;31mInit signature:\u001b[0m\n",
       "\u001b[0mSimulation\u001b[0m\u001b[0;34m(\u001b[0m\u001b[0;34m\u001b[0m\n",
       "\u001b[0;34m\u001b[0m    \u001b[0mname\u001b[0m\u001b[0;34m,\u001b[0m\u001b[0;34m\u001b[0m\n",
       "\u001b[0;34m\u001b[0m    \u001b[0msrc_flux\u001b[0m\u001b[0;34m,\u001b[0m\u001b[0;34m\u001b[0m\n",
       "\u001b[0;34m\u001b[0m    \u001b[0mtstart\u001b[0m\u001b[0;34m,\u001b[0m\u001b[0;34m\u001b[0m\n",
       "\u001b[0;34m\u001b[0m    \u001b[0mtstop\u001b[0m\u001b[0;34m,\u001b[0m\u001b[0;34m\u001b[0m\n",
       "\u001b[0;34m\u001b[0m    \u001b[0mbkg_rate\u001b[0m\u001b[0;34m=\u001b[0m\u001b[0;36m1e-06\u001b[0m\u001b[0;34m,\u001b[0m\u001b[0;34m\u001b[0m\n",
       "\u001b[0;34m\u001b[0m    \u001b[0mefun\u001b[0m\u001b[0;34m=\u001b[0m\u001b[0;36m3000\u001b[0m\u001b[0;34m,\u001b[0m\u001b[0;34m\u001b[0m\n",
       "\u001b[0;34m\u001b[0m    \u001b[0mwt_signif\u001b[0m\u001b[0;34m=\u001b[0m\u001b[0;36m0.1\u001b[0m\u001b[0;34m,\u001b[0m\u001b[0;34m\u001b[0m\n",
       "\u001b[0;34m\u001b[0m\u001b[0;34m)\u001b[0m\u001b[0;34m\u001b[0m\u001b[0;34m\u001b[0m\u001b[0m\n",
       "\u001b[0;31mDocstring:\u001b[0m      <no docstring>\n",
       "\u001b[0;31mInit docstring:\u001b[0m\n",
       "- src_flux : source flux, scalar or function of days, typically around 1e-7\n",
       "- tstart, tstop :(days)\n",
       "- bkg_rate : background flux, scalar or function of day, typicaly 1e-6 for 4-deg cone\n",
       "- efun : scalar, function (of time in days) of the exposure/s. Typically 3000 cm^2 for fermi\n",
       "\n",
       "- wt_signif : now the width of the PSF in (r/rmax)**2 coordinates\n",
       "\u001b[0;31mFile:\u001b[0m           /mnt/c/users/thbur/OneDrive/work/wtlike/wtlike/simulation.py\n",
       "\u001b[0;31mType:\u001b[0m           type\n",
       "\u001b[0;31mSubclasses:\u001b[0m     \n"
      ]
     },
     "metadata": {},
     "output_type": "display_data"
    }
   ],
   "source": [
    "Simulation = Simulation\n",
    "Simulation?"
   ]
  },
  {
   "cell_type": "code",
   "execution_count": null,
   "id": "sweet-clause",
   "metadata": {},
   "outputs": [
    {
     "data": {
      "text/plain": [
       "\u001b[0;31mInit signature:\u001b[0m \u001b[0mWtLike\u001b[0m\u001b[0;34m(\u001b[0m\u001b[0;34m*\u001b[0m\u001b[0mpars\u001b[0m\u001b[0;34m,\u001b[0m \u001b[0;34m**\u001b[0m\u001b[0mkwargs\u001b[0m\u001b[0;34m)\u001b[0m\u001b[0;34m\u001b[0m\u001b[0;34m\u001b[0m\u001b[0m\n",
       "\u001b[0;31mDocstring:\u001b[0m     \n",
       "Summary\n",
       "---------\n",
       "There are three layers of initialization, implemented in superclasses,\n",
       "each with parameters. The classnames, associated parameters and data members set:\n",
       "\n",
       "SourceData -- load photons and exposure\n",
       "    parameters:\n",
       "      - source : name, a PointSource object, or a Simulation object\n",
       "      - config [Config()] : basic configuration\n",
       "      - week_range [None] : range of weeks to load\n",
       "      - key [''] : the cache key: '' means construct one with the source name, None to disable\n",
       "      - clear [False] : if using cache, clear the contents first\n",
       "    sets:\n",
       "      - photons\n",
       "      - exposure\n",
       "\n",
       "CellData -- create cells\n",
       "    parameters:\n",
       "      - time_bins [Config().time_bins] : binning: start, stop, binsize\n",
       "    sets:\n",
       "      - cells\n",
       "\n",
       "LightCurve -- likelihood analysis of the cells\n",
       "    parameters:\n",
       "      - e_min [10] -- threshold for exposure (cm^2 units)\n",
       "      - n_min [2]  -- likelihood has trouble with this few\n",
       "      - lc_key [None] -- possible cache for light curve\n",
       "    sets:\n",
       "      - fits, fluxes\n",
       "\n",
       "WtLike (this class) -- no parameters (may add BB-specific ones)\n",
       "    Implements:  bb_view, plot_BB\n",
       "    sets:\n",
       "      - bb_flux  (only if bb_view invoked)\n",
       "\u001b[0;31mInit docstring:\u001b[0m         \n",
       "\u001b[0;31mFile:\u001b[0m           /mnt/c/users/thbur/OneDrive/work/wtlike/wtlike/main.py\n",
       "\u001b[0;31mType:\u001b[0m           type\n",
       "\u001b[0;31mSubclasses:\u001b[0m     \n"
      ]
     },
     "metadata": {},
     "output_type": "display_data"
    }
   ],
   "source": [
    "WtLike?"
   ]
  },
  {
   "cell_type": "markdown",
   "id": "least-outreach",
   "metadata": {},
   "source": [
    "The three WtLike methods have (preliminary) help as well:"
   ]
  },
  {
   "cell_type": "code",
   "execution_count": null,
   "id": "overall-species",
   "metadata": {},
   "outputs": [
    {
     "data": {
      "text/plain": [
       "\u001b[0;31mSignature:\u001b[0m \u001b[0mWtLike\u001b[0m\u001b[0;34m.\u001b[0m\u001b[0mplot\u001b[0m\u001b[0;34m(\u001b[0m\u001b[0mself\u001b[0m\u001b[0;34m,\u001b[0m \u001b[0;34m*\u001b[0m\u001b[0mpars\u001b[0m\u001b[0;34m,\u001b[0m \u001b[0;34m**\u001b[0m\u001b[0mkwargs\u001b[0m\u001b[0;34m)\u001b[0m\u001b[0;34m\u001b[0m\u001b[0;34m\u001b[0m\u001b[0m\n",
       "\u001b[0;31mDocstring:\u001b[0m\n",
       "Make a light curve plot\n",
       "        Invokes flux_plot, after processing kwargs to intercept\n",
       "        - log -- translate to `xscale='log'`\n",
       "        - xlim [None] -- convert to (start, stop) interpreted relative to start, stop if < start.\n",
       "        - show_flux [False]-- convert y scale to photon flux\n",
       "        - UTC [False] -- convert x scale to UTC years\n",
       "-\n",
       "        Make a plot of flux vs. time. This is invoked by the `plot` function of `LightCurve`\n",
       "\n",
       "    - cell_fits -- cell fits DataFrame\n",
       "    - query ['']-- DataFrame query to select subset\n",
       "    - ts_bar_min -- threshold for plotting as bar vs limit\n",
       "    - tzero -- time offset, in MJD\n",
       "    - source_name -- draw text in top left\n",
       "    - flux_factor [1]\n",
       "\n",
       "    - ax [None] -- a matplotlib.axes._subplots.AxesSubplot object returned from plt.subplots<br>\n",
       "    if None, create one using subplots with fignum [1] and figsize [(12,4)]\n",
       "    - fmt [''] -- marker symbol -- if not specifed, will use '.' if many bins, else 'o'\n",
       "    - ms [None] -- for marker size\n",
       "    - colors -- tuple of colors for signal, limit, step\n",
       "    - step   -- add a \"step\" plot\n",
       "    - zorder -- set to different number to order successive calls with same Axis object\n",
       "    - kwargs -- apply to the `ax` object, like xlim, ylim\n",
       "\n",
       "    returns the Figure instance\n",
       "    \n",
       "\u001b[0;31mFile:\u001b[0m      /mnt/c/users/thbur/OneDrive/work/wtlike/wtlike/main.py\n",
       "\u001b[0;31mType:\u001b[0m      function\n"
      ]
     },
     "metadata": {},
     "output_type": "display_data"
    }
   ],
   "source": [
    "WtLike.plot?"
   ]
  },
  {
   "cell_type": "code",
   "execution_count": null,
   "id": "active-variable",
   "metadata": {},
   "outputs": [
    {
     "data": {
      "text/plain": [
       "\u001b[0;31mSignature:\u001b[0m \u001b[0mWtLike\u001b[0m\u001b[0;34m.\u001b[0m\u001b[0mview\u001b[0m\u001b[0;34m(\u001b[0m\u001b[0mself\u001b[0m\u001b[0;34m,\u001b[0m \u001b[0;34m*\u001b[0m\u001b[0mpars\u001b[0m\u001b[0;34m,\u001b[0m \u001b[0mexp_min\u001b[0m\u001b[0;34m=\u001b[0m\u001b[0;32mNone\u001b[0m\u001b[0;34m)\u001b[0m\u001b[0;34m\u001b[0m\u001b[0;34m\u001b[0m\u001b[0m\n",
       "\u001b[0;31mDocstring:\u001b[0m\n",
       "Return a \"view\", a copy of this instance with a perhaps a different set of cells\n",
       "\n",
       "- pars -- start, stop, step  to define new binning. Or start, step, or just step\n",
       "   start and stop are either MJD values, or offsets from the start or stop.\n",
       "   step -- the cell size in days, or if zero, orbit-based binning\n",
       "\n",
       "- exp_min [None] -- If specified, a different minimum exposure, in cm^2 Ms units to use for fitting\n",
       "    from.\n",
       "\u001b[0;31mFile:\u001b[0m      /mnt/c/users/thbur/OneDrive/work/wtlike/wtlike/cell_data.py\n",
       "\u001b[0;31mType:\u001b[0m      function\n"
      ]
     },
     "metadata": {},
     "output_type": "display_data"
    }
   ],
   "source": [
    "WtLike.view?"
   ]
  },
  {
   "cell_type": "markdown",
   "id": "perceived-concentrate",
   "metadata": {},
   "source": [
    "## Using *Fermi* data.\n",
    "\n",
    "The only change from the above code is that one substitues `PointSource` with the designation of a source, for `Simulation`. \n",
    "\n",
    "Also, the data files must be available, the config parameter `datapath` set to the relevant folder. \n",
    "Currently it is set by a line in `~/.config/wtlike/config.yaml`.  See the [Config help](https://tburnett.github.io/wtlike/config#Config)."
   ]
  },
  {
   "cell_type": "markdown",
   "id": "1d09cf4e-c2cd-4b36-b443-4996929b5ff4",
   "metadata": {},
   "source": [
    "This requires access to a packaged form of the photon data, a table allowing generation of weights, and the effective area table.\n",
    "The source must have been analyzed with `gtlike` or `pointlike` to produce the weight table.\n",
    "\n",
    "All are available in a 2-GB zip file."
   ]
  },
  {
   "cell_type": "markdown",
   "id": "de9e8a96-c5b5-458e-ba02-3929cfe07b6b",
   "metadata": {},
   "source": [
    "The photon and spacecraft data can be checked with `check_data`"
   ]
  },
  {
   "cell_type": "code",
   "execution_count": null,
   "id": "differential-password",
   "metadata": {},
   "outputs": [
    {
     "name": "stderr",
     "output_type": "stream",
     "text": [
      "wtlike configuration is invalid:\n",
      "\n",
      "datapath must be a folder with wtlike data\n"
     ]
    }
   ],
   "source": [
    "from wtlike import Config\n",
    "config= Config(datapath=None) # file paths must be valid for following.\n",
    "if config.valid:\n",
    "    check_data()"
   ]
  },
  {
   "cell_type": "markdown",
   "id": "1b9ebb00-745d-4d4c-99df-2902afe0d9f1",
   "metadata": {},
   "source": [
    "The configuration must be valid, with path to data existing"
   ]
  },
  {
   "cell_type": "code",
   "execution_count": null,
   "id": "large-projection",
   "metadata": {},
   "outputs": [
    {
     "name": "stderr",
     "output_type": "stream",
     "text": [
      "wtlike configuration is invalid:\n",
      "\n",
      "datapath must be a folder with wtlike data\n"
     ]
    }
   ],
   "source": [
    "if config.valid:\n",
    "    source = PointSource('3C 279'); \n",
    "    print(source)"
   ]
  },
  {
   "cell_type": "code",
   "execution_count": null,
   "id": "conservative-still",
   "metadata": {},
   "outputs": [
    {
     "name": "stderr",
     "output_type": "stream",
     "text": [
      "wtlike configuration is invalid:\n",
      "\n",
      "datapath must be a folder with wtlike data\n"
     ]
    }
   ],
   "source": [
    "if config.valid:\n",
    "    wtl = WtLike(source, exp_min=50)"
   ]
  },
  {
   "cell_type": "markdown",
   "id": "brutal-estonia",
   "metadata": {},
   "source": [
    "If the data for this source has not been accessed on this machine before, it must be extracted to a cache, a process that takes some 10 min. Otherwise it is a few seconds to retrieve the cache.\n",
    "\n",
    "Generate the (default weekly) light curve:"
   ]
  },
  {
   "cell_type": "code",
   "execution_count": null,
   "id": "activated-brazilian",
   "metadata": {},
   "outputs": [
    {
     "name": "stderr",
     "output_type": "stream",
     "text": [
      "wtlike configuration is invalid:\n",
      "\n",
      "datapath must be a folder with wtlike data\n"
     ]
    }
   ],
   "source": [
    "if config.valid: wtl.plot(log=True, UTC=True);"
   ]
  },
  {
   "cell_type": "code",
   "execution_count": null,
   "id": "02289fad-9057-4cf8-8210-6774fe0c8314",
   "metadata": {},
   "outputs": [],
   "source": []
  }
 ],
 "metadata": {
  "kernelspec": {
   "display_name": "Python 3",
   "language": "python",
   "name": "python3"
  }
 },
 "nbformat": 4,
 "nbformat_minor": 5
}
