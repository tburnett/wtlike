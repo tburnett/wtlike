{
 "cells": [
  {
   "cell_type": "code",
   "execution_count": null,
   "id": "confused-illustration",
   "metadata": {},
   "outputs": [],
   "source": [
    "from wtlike import Config, Simulation, WtLike\n",
    "import numpy as np"
   ]
  },
  {
   "cell_type": "markdown",
   "id": "dying-breeding",
   "metadata": {},
   "source": [
    "# wtlike tutorial\n",
    "\n",
    "> A step by step guide"
   ]
  },
  {
   "cell_type": "markdown",
   "id": "incredible-swift",
   "metadata": {},
   "source": [
    "### Install `wtlike`"
   ]
  },
  {
   "cell_type": "markdown",
   "id": "ready-diploma",
   "metadata": {},
   "source": [
    "This assumes that you already have a Jupyter Notebook Server configured on your machine. \n",
    "\n",
    "Either run this [notebook](https://github.com/tburnett/wtlike/blob/master/nbs/99_tutorial.ipynb), or copy the cells into a new notebook.\n",
    "\n",
    "`wtlike` is on PyPI--to install it,\n",
    "\n",
    "```\n",
    "pip install wtlike\n",
    "```\n",
    "Next we generate a simulated on-the-fly dataset in lieu of downloading the 3-GB of so of the *fermi* data."
   ]
  },
  {
   "cell_type": "markdown",
   "id": "natural-minister",
   "metadata": {},
   "source": [
    "### Define a source flux function. \n",
    "Note that we measure time in day units, and will pick a 30-day interval for this demo.\n",
    "\n",
    "The following function has a flare at 15 days."
   ]
  },
  {
   "cell_type": "code",
   "execution_count": null,
   "id": "toxic-democrat",
   "metadata": {},
   "outputs": [],
   "source": [
    "def src_flare(t, tzero=15, width=1, amp=5):\n",
    "    return 1e-6*(1 + amp*np.exp(-(t-tzero)**2/2/width))"
   ]
  },
  {
   "cell_type": "markdown",
   "id": "advanced-azerbaijan",
   "metadata": {},
   "source": [
    "We use it to tell the simulation that the flux has this behavior. Note defaults:\n",
    "\n",
    "- background -- 1e-6 /s\n",
    "- effective area -- 3000 cm^2 \n",
    "\n",
    "Here we create a `Simulation` object, then pass it to the primary wtlike entry point, the class `WtLike`.\n",
    "We tell it to immediately bin all the photons into daily time-bins, called \"cells\". (The time binning can be easily redone.)"
   ]
  },
  {
   "cell_type": "code",
   "execution_count": null,
   "id": "43ff4d67-b4a6-4b6b-8e80-5b23f4a2ff84",
   "metadata": {},
   "outputs": [
    {
     "name": "stdout",
     "output_type": "stream",
     "text": [
      "generated 18943 photons\n",
      "SourceData: Source flare_sim with:\n",
      "\t data:        18,943 simulated photons over 30.0 days.\n",
      "\t exposure:     8,640 intervals,  average effective area 3000 cm^2 for 2.6 Ms\n",
      "\t rates:  source 1.42e-06/s, background 1.01e-06/s, S/N ratio 1.41e+00\n",
      "CellData: Bin photon data into 30 1-day bins from 0.0 to 30.0\n",
      "LightCurve: select 30 cells for fitting with e>5 & n>2\n"
     ]
    }
   ],
   "source": [
    "config=Config(datapath=None)\n",
    "test_sim = Simulation('flare_sim', src_flux=src_flare, tstart=0, tstop=30, )\n",
    "daily = WtLike(test_sim, config=config, time_bins=(0,0,1))"
   ]
  },
  {
   "cell_type": "markdown",
   "id": "adjacent-indonesian",
   "metadata": {},
   "source": [
    "Now make a light curve!"
   ]
  },
  {
   "cell_type": "code",
   "execution_count": null,
   "id": "emotional-brush",
   "metadata": {},
   "outputs": [
    {
     "data": {
      "image/png": "[encoded data removed]",
      "text/plain": [
       "<Figure size 864x288 with 1 Axes>"
      ]
     },
     "metadata": {},
     "output_type": "display_data"
    }
   ],
   "source": [
    "daily.plot();"
   ]
  },
  {
   "cell_type": "markdown",
   "id": "green-economics",
   "metadata": {},
   "source": [
    "The cells have each been analyzed to create a likelihood function representation. The first few cells are:"
   ]
  },
  {
   "cell_type": "code",
   "execution_count": null,
   "id": "liable-positive",
   "metadata": {},
   "outputs": [
    {
     "data": {
      "text/html": [
       "<div>\n",
       "<style scoped>\n",
       "    .dataframe tbody tr th:only-of-type {\n",
       "        vertical-align: middle;\n",
       "    }\n",
       "\n",
       "    .dataframe tbody tr th {\n",
       "        vertical-align: top;\n",
       "    }\n",
       "\n",
       "    .dataframe thead th {\n",
       "        text-align: right;\n",
       "    }\n",
       "</style>\n",
       "<table border=\"1\" class=\"dataframe\">\n",
       "  <thead>\n",
       "    <tr style=\"text-align: right;\">\n",
       "      <th></th>\n",
       "      <th>t</th>\n",
       "      <th>tw</th>\n",
       "      <th>e</th>\n",
       "      <th>ctm</th>\n",
       "      <th>n</th>\n",
       "      <th>w</th>\n",
       "      <th>S</th>\n",
       "      <th>B</th>\n",
       "    </tr>\n",
       "  </thead>\n",
       "  <tbody>\n",
       "    <tr>\n",
       "      <th>0</th>\n",
       "      <td>0.5</td>\n",
       "      <td>1.0</td>\n",
       "      <td>258.3</td>\n",
       "      <td>0</td>\n",
       "      <td>533</td>\n",
       "      <td>[0.7729163, 0.001057922, 0.00656964, 0.7620538...</td>\n",
       "      <td>367.963957</td>\n",
       "      <td>261.276900</td>\n",
       "    </tr>\n",
       "    <tr>\n",
       "      <th>1</th>\n",
       "      <td>1.5</td>\n",
       "      <td>1.0</td>\n",
       "      <td>259.2</td>\n",
       "      <td>0</td>\n",
       "      <td>507</td>\n",
       "      <td>[0.59481996, 0.0014666071, 0.84929335, 0.00054...</td>\n",
       "      <td>369.246061</td>\n",
       "      <td>262.187272</td>\n",
       "    </tr>\n",
       "  </tbody>\n",
       "</table>\n",
       "</div>"
      ],
      "text/plain": [
       "     t   tw      e  ctm    n  \\\n",
       "0  0.5  1.0  258.3    0  533   \n",
       "1  1.5  1.0  259.2    0  507   \n",
       "\n",
       "                                                   w           S           B  \n",
       "0  [0.7729163, 0.001057922, 0.00656964, 0.7620538...  367.963957  261.276900  \n",
       "1  [0.59481996, 0.0014666071, 0.84929335, 0.00054...  369.246061  262.187272  "
      ]
     },
     "execution_count": null,
     "metadata": {},
     "output_type": "execute_result"
    }
   ],
   "source": [
    "daily.cells.head(2)"
   ]
  },
  {
   "cell_type": "markdown",
   "id": "delayed-panama",
   "metadata": {},
   "source": [
    "The Kerr likelihood function for a cell is a function of $w$, the list of weights, and $S$, an estimate for the total signal counts in the cell\n",
    "\n",
    "$$ \\displaystyle\\log\\mathcal{L}(\\alpha\\ |\\ w)\\ = \\sum_{w}  \\log \\big( 1 + \\alpha\\ w \\big) - \\alpha\\ S  $$\n",
    "\n",
    "where $\\alpha$ is the variation from the nominal zero. The background is assumed to be constant here, as it usually is the region surrounding sources of interest. \n",
    "The relative flux is $1+\\alpha$. \n",
    "\n",
    "We generate an approximate representation of this function by fitting it to a 3-parameter Poisson-like function, which easily provides the values of interest."
   ]
  },
  {
   "cell_type": "code",
   "execution_count": null,
   "id": "accepting-thermal",
   "metadata": {},
   "outputs": [
    {
     "data": {
      "text/html": [
       "<div>\n",
       "<style scoped>\n",
       "    .dataframe tbody tr th:only-of-type {\n",
       "        vertical-align: middle;\n",
       "    }\n",
       "\n",
       "    .dataframe tbody tr th {\n",
       "        vertical-align: top;\n",
       "    }\n",
       "\n",
       "    .dataframe thead th {\n",
       "        text-align: right;\n",
       "    }\n",
       "</style>\n",
       "<table border=\"1\" class=\"dataframe\">\n",
       "  <thead>\n",
       "    <tr style=\"text-align: right;\">\n",
       "      <th></th>\n",
       "      <th>t</th>\n",
       "      <th>tw</th>\n",
       "      <th>n</th>\n",
       "      <th>e</th>\n",
       "      <th>ctm</th>\n",
       "      <th>ts</th>\n",
       "      <th>flux</th>\n",
       "      <th>errors</th>\n",
       "      <th>limit</th>\n",
       "    </tr>\n",
       "  </thead>\n",
       "  <tbody>\n",
       "    <tr>\n",
       "      <th>0</th>\n",
       "      <td>0.5</td>\n",
       "      <td>1.0</td>\n",
       "      <td>533</td>\n",
       "      <td>258.3</td>\n",
       "      <td>0</td>\n",
       "      <td>421.7</td>\n",
       "      <td>0.6579</td>\n",
       "      <td>(-0.049, 0.051)</td>\n",
       "      <td>0.743892</td>\n",
       "    </tr>\n",
       "    <tr>\n",
       "      <th>1</th>\n",
       "      <td>1.5</td>\n",
       "      <td>1.0</td>\n",
       "      <td>507</td>\n",
       "      <td>259.2</td>\n",
       "      <td>0</td>\n",
       "      <td>335.7</td>\n",
       "      <td>0.5679</td>\n",
       "      <td>(-0.047, 0.048)</td>\n",
       "      <td>0.649090</td>\n",
       "    </tr>\n",
       "  </tbody>\n",
       "</table>\n",
       "</div>"
      ],
      "text/plain": [
       "     t   tw    n      e  ctm     ts    flux           errors     limit\n",
       "0  0.5  1.0  533  258.3    0  421.7  0.6579  (-0.049, 0.051)  0.743892\n",
       "1  1.5  1.0  507  259.2    0  335.7  0.5679  (-0.047, 0.048)  0.649090"
      ]
     },
     "execution_count": null,
     "metadata": {},
     "output_type": "execute_result"
    }
   ],
   "source": [
    "daily.fluxes.head(2)"
   ]
  },
  {
   "cell_type": "markdown",
   "id": "consistent-albania",
   "metadata": {},
   "source": [
    "#### About DataFrames\n",
    "The properties `photons`, `exposure`, `cells`, `fits`, and `fluxes` are [pandas.DataFrame](https://pandas.pydata.org/pandas-docs/stable/reference/api/pandas.DataFrame.html) objects.\n",
    "For those unfamiliar with pandas, note that one can create \"csv\" files with the method `to_csv(`*filename*`)`.\n",
    "\n",
    "The function `query` is very useful: To select the cells with flux>3,"
   ]
  },
  {
   "cell_type": "code",
   "execution_count": null,
   "id": "legitimate-touch",
   "metadata": {},
   "outputs": [
    {
     "data": {
      "text/html": [
       "<div>\n",
       "<style scoped>\n",
       "    .dataframe tbody tr th:only-of-type {\n",
       "        vertical-align: middle;\n",
       "    }\n",
       "\n",
       "    .dataframe tbody tr th {\n",
       "        vertical-align: top;\n",
       "    }\n",
       "\n",
       "    .dataframe thead th {\n",
       "        text-align: right;\n",
       "    }\n",
       "</style>\n",
       "<table border=\"1\" class=\"dataframe\">\n",
       "  <thead>\n",
       "    <tr style=\"text-align: right;\">\n",
       "      <th></th>\n",
       "      <th>t</th>\n",
       "      <th>tw</th>\n",
       "      <th>n</th>\n",
       "      <th>e</th>\n",
       "      <th>ctm</th>\n",
       "      <th>ts</th>\n",
       "      <th>flux</th>\n",
       "      <th>errors</th>\n",
       "      <th>limit</th>\n",
       "    </tr>\n",
       "  </thead>\n",
       "  <tbody>\n",
       "    <tr>\n",
       "      <th>14</th>\n",
       "      <td>14.5</td>\n",
       "      <td>1.0</td>\n",
       "      <td>1649</td>\n",
       "      <td>259.2</td>\n",
       "      <td>0</td>\n",
       "      <td>9965.0</td>\n",
       "      <td>4.0184</td>\n",
       "      <td>(-0.105, 0.107)</td>\n",
       "      <td>4.197530</td>\n",
       "    </tr>\n",
       "    <tr>\n",
       "      <th>15</th>\n",
       "      <td>15.5</td>\n",
       "      <td>1.0</td>\n",
       "      <td>1609</td>\n",
       "      <td>259.2</td>\n",
       "      <td>0</td>\n",
       "      <td>9621.1</td>\n",
       "      <td>3.9035</td>\n",
       "      <td>(-0.104, 0.106)</td>\n",
       "      <td>4.080143</td>\n",
       "    </tr>\n",
       "  </tbody>\n",
       "</table>\n",
       "</div>"
      ],
      "text/plain": [
       "       t   tw     n      e  ctm      ts    flux           errors     limit\n",
       "14  14.5  1.0  1649  259.2    0  9965.0  4.0184  (-0.105, 0.107)  4.197530\n",
       "15  15.5  1.0  1609  259.2    0  9621.1  3.9035  (-0.104, 0.106)  4.080143"
      ]
     },
     "execution_count": null,
     "metadata": {},
     "output_type": "execute_result"
    }
   ],
   "source": [
    "daily.fluxes.query('flux>3')"
   ]
  },
  {
   "cell_type": "markdown",
   "id": "structural-lindsay",
   "metadata": {},
   "source": [
    "## Views\n",
    "A `WtLike` object provides a function `view`, which returns a copy but with a different binning. \n",
    "So if we want a detailed look at the flare, we can choose an interval. The parameters specify an interval 10 days after the start, and 10 days before the end, with 1/day or 6-hour bins."
   ]
  },
  {
   "cell_type": "code",
   "execution_count": null,
   "id": "miniature-cheese",
   "metadata": {},
   "outputs": [
    {
     "name": "stdout",
     "output_type": "stream",
     "text": [
      "CellData: Bin photon data into 40 6-hour bins from 10.0 to 20.0\n",
      "LightCurve: select 40 cells for fitting with e>1.25 & n>2\n"
     ]
    },
    {
     "data": {
      "image/png": "[encoded data removed]",
      "text/plain": [
       "<Figure size 864x288 with 1 Axes>"
      ]
     },
     "metadata": {},
     "output_type": "display_data"
    }
   ],
   "source": [
    "qday = daily.view(10, -10, 0.25)\n",
    "qday.plot();"
   ]
  },
  {
   "cell_type": "markdown",
   "id": "dutch-samoa",
   "metadata": {},
   "source": [
    "### Bayesian-Block view\n",
    "The WtLike object also has a special `bb_view` function, which does a Bayesian Block analysis and returns a view of it. "
   ]
  },
  {
   "cell_type": "code",
   "execution_count": null,
   "id": "verified-chicken",
   "metadata": {},
   "outputs": [
    {
     "name": "stdout",
     "output_type": "stream",
     "text": [
      "Bayesian Blocks: partitioning 40 cells using LikelihoodFitness with penalty 5%\n",
      "\tfound 10 / 40 blocks.\n",
      "LightCurve: Loaded 10 / 10 cells for fitting\n"
     ]
    },
    {
     "data": {
      "image/png": "[encoded data removed]",
      "text/plain": [
       "<Figure size 864x288 with 1 Axes>"
      ]
     },
     "metadata": {},
     "output_type": "display_data"
    }
   ],
   "source": [
    "bb = qday.bb_view();bb.plot();"
   ]
  },
  {
   "cell_type": "markdown",
   "id": "inclusive-campaign",
   "metadata": {},
   "source": [
    "This creates variable-sized cells corresponding to the Bayesian Block analysis, the fits for which are shown here:"
   ]
  },
  {
   "cell_type": "code",
   "execution_count": null,
   "id": "inappropriate-forest",
   "metadata": {},
   "outputs": [
    {
     "data": {
      "text/html": [
       "<div>\n",
       "<style scoped>\n",
       "    .dataframe tbody tr th:only-of-type {\n",
       "        vertical-align: middle;\n",
       "    }\n",
       "\n",
       "    .dataframe tbody tr th {\n",
       "        vertical-align: top;\n",
       "    }\n",
       "\n",
       "    .dataframe thead th {\n",
       "        text-align: right;\n",
       "    }\n",
       "</style>\n",
       "<table border=\"1\" class=\"dataframe\">\n",
       "  <thead>\n",
       "    <tr style=\"text-align: right;\">\n",
       "      <th></th>\n",
       "      <th>t</th>\n",
       "      <th>tw</th>\n",
       "      <th>n</th>\n",
       "      <th>e</th>\n",
       "      <th>ts</th>\n",
       "      <th>flux</th>\n",
       "      <th>errors</th>\n",
       "      <th>limit</th>\n",
       "    </tr>\n",
       "  </thead>\n",
       "  <tbody>\n",
       "    <tr>\n",
       "      <th>0</th>\n",
       "      <td>11.375</td>\n",
       "      <td>2.75</td>\n",
       "      <td>1447</td>\n",
       "      <td>64.8</td>\n",
       "      <td>1146.1</td>\n",
       "      <td>0.6519</td>\n",
       "      <td>(-0.03, 0.03)</td>\n",
       "      <td>0.702723</td>\n",
       "    </tr>\n",
       "    <tr>\n",
       "      <th>1</th>\n",
       "      <td>13.000</td>\n",
       "      <td>0.50</td>\n",
       "      <td>317</td>\n",
       "      <td>64.8</td>\n",
       "      <td>621.6</td>\n",
       "      <td>1.1162</td>\n",
       "      <td>(-0.083, 0.086)</td>\n",
       "      <td>1.262743</td>\n",
       "    </tr>\n",
       "    <tr>\n",
       "      <th>2</th>\n",
       "      <td>13.500</td>\n",
       "      <td>0.50</td>\n",
       "      <td>502</td>\n",
       "      <td>64.8</td>\n",
       "      <td>1734.7</td>\n",
       "      <td>2.1326</td>\n",
       "      <td>(-0.111, 0.114)</td>\n",
       "      <td>2.325642</td>\n",
       "    </tr>\n",
       "    <tr>\n",
       "      <th>3</th>\n",
       "      <td>14.125</td>\n",
       "      <td>0.75</td>\n",
       "      <td>1080</td>\n",
       "      <td>64.8</td>\n",
       "      <td>5589.0</td>\n",
       "      <td>3.3627</td>\n",
       "      <td>(-0.112, 0.114)</td>\n",
       "      <td>3.554132</td>\n",
       "    </tr>\n",
       "    <tr>\n",
       "      <th>4</th>\n",
       "      <td>15.125</td>\n",
       "      <td>1.25</td>\n",
       "      <td>2152</td>\n",
       "      <td>64.8</td>\n",
       "      <td>13740.0</td>\n",
       "      <td>4.2635</td>\n",
       "      <td>(-0.097, 0.098)</td>\n",
       "      <td>4.427646</td>\n",
       "    </tr>\n",
       "    <tr>\n",
       "      <th>5</th>\n",
       "      <td>15.875</td>\n",
       "      <td>0.25</td>\n",
       "      <td>352</td>\n",
       "      <td>64.8</td>\n",
       "      <td>1757.7</td>\n",
       "      <td>3.2379</td>\n",
       "      <td>(-0.189, 0.196)</td>\n",
       "      <td>3.571082</td>\n",
       "    </tr>\n",
       "    <tr>\n",
       "      <th>6</th>\n",
       "      <td>16.250</td>\n",
       "      <td>0.50</td>\n",
       "      <td>566</td>\n",
       "      <td>64.8</td>\n",
       "      <td>2379.5</td>\n",
       "      <td>2.5325</td>\n",
       "      <td>(-0.119, 0.123)</td>\n",
       "      <td>2.739774</td>\n",
       "    </tr>\n",
       "    <tr>\n",
       "      <th>7</th>\n",
       "      <td>16.750</td>\n",
       "      <td>0.50</td>\n",
       "      <td>428</td>\n",
       "      <td>64.8</td>\n",
       "      <td>1206.9</td>\n",
       "      <td>1.7214</td>\n",
       "      <td>(-0.101, 0.104)</td>\n",
       "      <td>1.897875</td>\n",
       "    </tr>\n",
       "    <tr>\n",
       "      <th>8</th>\n",
       "      <td>17.250</td>\n",
       "      <td>0.50</td>\n",
       "      <td>321</td>\n",
       "      <td>64.8</td>\n",
       "      <td>438.8</td>\n",
       "      <td>0.9778</td>\n",
       "      <td>(-0.08, 0.083)</td>\n",
       "      <td>1.119714</td>\n",
       "    </tr>\n",
       "    <tr>\n",
       "      <th>9</th>\n",
       "      <td>18.750</td>\n",
       "      <td>2.50</td>\n",
       "      <td>1304</td>\n",
       "      <td>64.8</td>\n",
       "      <td>1043.0</td>\n",
       "      <td>0.6475</td>\n",
       "      <td>(-0.031, 0.032)</td>\n",
       "      <td>0.700528</td>\n",
       "    </tr>\n",
       "  </tbody>\n",
       "</table>\n",
       "</div>"
      ],
      "text/plain": [
       "        t    tw     n     e       ts    flux           errors     limit\n",
       "0  11.375  2.75  1447  64.8   1146.1  0.6519    (-0.03, 0.03)  0.702723\n",
       "1  13.000  0.50   317  64.8    621.6  1.1162  (-0.083, 0.086)  1.262743\n",
       "2  13.500  0.50   502  64.8   1734.7  2.1326  (-0.111, 0.114)  2.325642\n",
       "3  14.125  0.75  1080  64.8   5589.0  3.3627  (-0.112, 0.114)  3.554132\n",
       "4  15.125  1.25  2152  64.8  13740.0  4.2635  (-0.097, 0.098)  4.427646\n",
       "5  15.875  0.25   352  64.8   1757.7  3.2379  (-0.189, 0.196)  3.571082\n",
       "6  16.250  0.50   566  64.8   2379.5  2.5325  (-0.119, 0.123)  2.739774\n",
       "7  16.750  0.50   428  64.8   1206.9  1.7214  (-0.101, 0.104)  1.897875\n",
       "8  17.250  0.50   321  64.8    438.8  0.9778   (-0.08, 0.083)  1.119714\n",
       "9  18.750  2.50  1304  64.8   1043.0  0.6475  (-0.031, 0.032)  0.700528"
      ]
     },
     "execution_count": null,
     "metadata": {},
     "output_type": "execute_result"
    }
   ],
   "source": [
    "bb.fluxes"
   ]
  },
  {
   "cell_type": "markdown",
   "id": "married-expense",
   "metadata": {},
   "source": [
    "### Getting help\n",
    "This jupyterlab environment allows easy exploration of help for any class or function.\n",
    "The two classes so far:"
   ]
  },
  {
   "cell_type": "code",
   "execution_count": null,
   "id": "genuine-accident",
   "metadata": {},
   "outputs": [
    {
     "data": {
      "text/plain": [
       "\u001b[0;31mInit signature:\u001b[0m\n",
       "\u001b[0mSimulation\u001b[0m\u001b[0;34m(\u001b[0m\u001b[0;34m\u001b[0m\n",
       "\u001b[0;34m\u001b[0m    \u001b[0mname\u001b[0m\u001b[0;34m,\u001b[0m\u001b[0;34m\u001b[0m\n",
       "\u001b[0;34m\u001b[0m    \u001b[0msrc_flux\u001b[0m\u001b[0;34m,\u001b[0m\u001b[0;34m\u001b[0m\n",
       "\u001b[0;34m\u001b[0m    \u001b[0mtstart\u001b[0m\u001b[0;34m,\u001b[0m\u001b[0;34m\u001b[0m\n",
       "\u001b[0;34m\u001b[0m    \u001b[0mtstop\u001b[0m\u001b[0;34m,\u001b[0m\u001b[0;34m\u001b[0m\n",
       "\u001b[0;34m\u001b[0m    \u001b[0mbkg_rate\u001b[0m\u001b[0;34m=\u001b[0m\u001b[0;36m1e-06\u001b[0m\u001b[0;34m,\u001b[0m\u001b[0;34m\u001b[0m\n",
       "\u001b[0;34m\u001b[0m    \u001b[0mefun\u001b[0m\u001b[0;34m=\u001b[0m\u001b[0;36m3000\u001b[0m\u001b[0;34m,\u001b[0m\u001b[0;34m\u001b[0m\n",
       "\u001b[0;34m\u001b[0m    \u001b[0mwt_signif\u001b[0m\u001b[0;34m=\u001b[0m\u001b[0;36m0.1\u001b[0m\u001b[0;34m,\u001b[0m\u001b[0;34m\u001b[0m\n",
       "\u001b[0;34m\u001b[0m\u001b[0;34m)\u001b[0m\u001b[0;34m\u001b[0m\u001b[0;34m\u001b[0m\u001b[0m\n",
       "\u001b[0;31mDocstring:\u001b[0m      <no docstring>\n",
       "\u001b[0;31mInit docstring:\u001b[0m\n",
       "- src_flux : source flux, scalar or function of days, typically around 1e-7\n",
       "- tstart, tstop :(days)\n",
       "- bkg_rate : background flux, scalar or function of day, typicaly 1e-6 for 4-deg cone\n",
       "- efun : scalar, function (of time in days) of the exposure/s. Typically 3000 cm^2 for fermi\n",
       "\n",
       "- wt_signif : now the width of the PSF in (r/rmax)**2 coordinates\n",
       "\u001b[0;31mFile:\u001b[0m           /mnt/c/users/thbur/OneDrive/work/wtlike/wtlike/simulation.py\n",
       "\u001b[0;31mType:\u001b[0m           type\n",
       "\u001b[0;31mSubclasses:\u001b[0m     \n"
      ]
     },
     "metadata": {},
     "output_type": "display_data"
    }
   ],
   "source": [
    "Simulation = Simulation\n",
    "Simulation?"
   ]
  },
  {
   "cell_type": "code",
   "execution_count": null,
   "id": "sweet-clause",
   "metadata": {},
   "outputs": [
    {
     "data": {
      "text/plain": [
       "\u001b[0;31mInit signature:\u001b[0m \u001b[0mWtLike\u001b[0m\u001b[0;34m(\u001b[0m\u001b[0;34m*\u001b[0m\u001b[0mpars\u001b[0m\u001b[0;34m,\u001b[0m \u001b[0;34m**\u001b[0m\u001b[0mkwargs\u001b[0m\u001b[0;34m)\u001b[0m\u001b[0;34m\u001b[0m\u001b[0;34m\u001b[0m\u001b[0m\n",
       "\u001b[0;31mDocstring:\u001b[0m     \n",
       "Summary\n",
       "---------\n",
       "There are three layers of initialization, implemented in superclasses,\n",
       "each with parameters. The classnames, associated parameters and data members set:\n",
       "\n",
       "SourceData -- load photons and exposure\n",
       "    parameters:\n",
       "      - source : name, a PointSource object, or a Simulation object\n",
       "      - config [Config()] : basic configuration\n",
       "      - week_range [None] : range of weeks to load\n",
       "      - key [''] : the cache key: '' means construct one with the source name, None to disable\n",
       "      - clear [False] : if using cache, clear the contents first\n",
       "    sets:\n",
       "      - photons\n",
       "      - exposure\n",
       "\n",
       "CellData -- create cells\n",
       "    parameters:\n",
       "      - time_bins [Config().time_bins] : binning: start, stop, binsize\n",
       "    sets:\n",
       "      - cells\n",
       "\n",
       "LightCurve -- likelihood analysis of the cells\n",
       "    parameters:\n",
       "      - e_min [10] -- threshold for exposure (cm^2 units)\n",
       "      - n_min [2]  -- likelihood has trouble with this few\n",
       "      - lc_key [None] -- possible cache for light curve\n",
       "    sets:\n",
       "      - fits, fluxes\n",
       "\n",
       "WtLike (this class) -- no parameters (may add BB-specific ones)\n",
       "    Implements:  bb_view, plot_BB\n",
       "    sets:\n",
       "      - bb_flux  (only if bb_view invoked)\n",
       "\u001b[0;31mInit docstring:\u001b[0m         \n",
       "\u001b[0;31mFile:\u001b[0m           /mnt/c/users/thbur/OneDrive/work/wtlike/wtlike/main.py\n",
       "\u001b[0;31mType:\u001b[0m           type\n",
       "\u001b[0;31mSubclasses:\u001b[0m     \n"
      ]
     },
     "metadata": {},
     "output_type": "display_data"
    }
   ],
   "source": [
    "WtLike?"
   ]
  },
  {
   "cell_type": "markdown",
   "id": "least-outreach",
   "metadata": {},
   "source": [
    "The three WtLike methods have (preliminary) help as well:"
   ]
  },
  {
   "cell_type": "code",
   "execution_count": null,
   "id": "overall-species",
   "metadata": {},
   "outputs": [
    {
     "data": {
      "text/plain": [
       "\u001b[0;31mSignature:\u001b[0m \u001b[0mWtLike\u001b[0m\u001b[0;34m.\u001b[0m\u001b[0mplot\u001b[0m\u001b[0;34m(\u001b[0m\u001b[0mself\u001b[0m\u001b[0;34m,\u001b[0m \u001b[0;34m*\u001b[0m\u001b[0mpars\u001b[0m\u001b[0;34m,\u001b[0m \u001b[0;34m**\u001b[0m\u001b[0mkwargs\u001b[0m\u001b[0;34m)\u001b[0m\u001b[0;34m\u001b[0m\u001b[0;34m\u001b[0m\u001b[0m\n",
       "\u001b[0;31mDocstring:\u001b[0m\n",
       "Make a light curve plot\n",
       "        Invokes flux_plot, after processing kwargs to intercept\n",
       "        - log -- translate to `xscale='log'`\n",
       "        - xlim [None] -- convert to (start, stop) interpreted relative to start, stop if < start.\n",
       "        - show_flux [False]-- convert y scale to photon flux\n",
       "        - UTC [False] -- convert x scale to UTC years\n",
       "-\n",
       "        Make a plot of flux vs. time. This is invoked by the `plot` function of `LightCurve`\n",
       "\n",
       "    - cell_fits -- cell fits DataFrame\n",
       "    - query ['']-- DataFrame query to select subset\n",
       "    - ts_bar_min -- threshold for plotting as bar vs limit\n",
       "    - tzero -- time offset, in MJD\n",
       "    - source_name -- draw text in top left\n",
       "    - flux_factor [1]\n",
       "\n",
       "    - ax [None] -- a matplotlib.axes._subplots.AxesSubplot object returned from plt.subplots<br>\n",
       "    if None, create one using subplots with fignum [1] and figsize [(12,4)]\n",
       "    - fmt [''] -- marker symbol -- if not specifed, will use '.' if many bins, else 'o'\n",
       "    - ms [None] -- for marker size\n",
       "    - colors -- tuple of colors for signal, limit, step\n",
       "    - step   -- add a \"step\" plot\n",
       "    - zorder -- set to different number to order successive calls with same Axis object\n",
       "    - kwargs -- apply to the `ax` object, like xlim, ylim\n",
       "\n",
       "    returns the Figure instance\n",
       "    \n",
       "\u001b[0;31mFile:\u001b[0m      /mnt/c/users/thbur/OneDrive/work/wtlike/wtlike/main.py\n",
       "\u001b[0;31mType:\u001b[0m      function\n"
      ]
     },
     "metadata": {},
     "output_type": "display_data"
    }
   ],
   "source": [
    "WtLike.plot?"
   ]
  },
  {
   "cell_type": "code",
   "execution_count": null,
   "id": "active-variable",
   "metadata": {},
   "outputs": [
    {
     "data": {
      "text/plain": [
       "\u001b[0;31mSignature:\u001b[0m \u001b[0mWtLike\u001b[0m\u001b[0;34m.\u001b[0m\u001b[0mview\u001b[0m\u001b[0;34m(\u001b[0m\u001b[0mself\u001b[0m\u001b[0;34m,\u001b[0m \u001b[0;34m*\u001b[0m\u001b[0mpars\u001b[0m\u001b[0;34m,\u001b[0m \u001b[0mexp_min\u001b[0m\u001b[0;34m=\u001b[0m\u001b[0;32mNone\u001b[0m\u001b[0;34m)\u001b[0m\u001b[0;34m\u001b[0m\u001b[0;34m\u001b[0m\u001b[0m\n",
       "\u001b[0;31mDocstring:\u001b[0m\n",
       "Return a \"view\", a copy of this instance with a perhaps a different set of cells\n",
       "\n",
       "- pars -- start, stop, step  to define new binning. Or start, step, or just step\n",
       "   start and stop are either MJD values, or offsets from the start or stop.\n",
       "   step -- the cell size in days, or if zero, orbit-based binning\n",
       "\n",
       "- exp_min [None] -- If specified, a different minimum exposure, in cm^2 Ms units to use for fitting\n",
       "    from.\n",
       "\u001b[0;31mFile:\u001b[0m      /mnt/c/users/thbur/OneDrive/work/wtlike/wtlike/cell_data.py\n",
       "\u001b[0;31mType:\u001b[0m      function\n"
      ]
     },
     "metadata": {},
     "output_type": "display_data"
    }
   ],
   "source": [
    "WtLike.view?"
   ]
  },
  {
   "cell_type": "markdown",
   "id": "0b210dae-ff73-4ac2-bd91-44257a77a4ea",
   "metadata": {},
   "source": [
    "## Using *Fermi* data.\n",
    "\n",
    "The only change from the above code is that one substitues `PointSource` with the designation of a source, for `Simulation`. \n",
    "\n",
    "Also, the data files must be available, the config parameter `datapath` set to the relevant folder. \n",
    "Currently it is set by a line in `~/.config/wtlike/config.yaml`.  See the [Config help](https://tburnett.github.io/wtlike/config#Config).\n",
    "\n",
    "This requires access to a packaged form of the photon data, a table allowing generation of weights, and the effective area table.\n",
    "The source must have been analyzed with `gtlike` or `pointlike` to produce the weight table.\n",
    "\n",
    "All are available in a 2-GB zip file.\n",
    "\n",
    "The photon and spacecraft data can be checked with `check_data`\n",
    "\n",
    "The configuration must be valid, with path to data existing"
   ]
  },
  {
   "cell_type": "code",
   "execution_count": null,
   "id": "large-projection",
   "metadata": {},
   "outputs": [
    {
     "name": "stdout",
     "output_type": "stream",
     "text": [
      "Weekly folder \"/home/burnett/wtlike_data/data_files\" contains 684 weeks.\n",
      "\t Last week, # 693, has 2.410 days, ends at UTC 2021-09-11 11:10\n",
      "None\n",
      "Source \"4FGL J1256.1-0547\" at: (l,b)=(305.100,57.062), nickname P88Y3243\n",
      "SourceData:  4FGL J1256.1-0547: Restoring from cache with key \"P88Y3243_data\"\n",
      "SourceData: Source 4FGL J1256.1-0547 with:\n",
      "\t data:       182,684 photons from 2008-08-04 to 2021-09-11\n",
      "\t exposure: 2,896,631 intervals,  average effective area 2847 cm^2 for 86.5 Ms\n",
      "\t rates:  source 3.95e-07/s, background 3.47e-07/s, S/N ratio 1.14e+00\n",
      "CellData: Bin photon data into 683 1-week bins from 54683.0 to 59464.0\n",
      "LightCurve: select 318 cells for fitting with e>350 & n>2\n"
     ]
    }
   ],
   "source": [
    "from wtlike import *\n",
    "config = Config()\n",
    "if config.valid:\n",
    "    print(check_data())\n",
    "    source = PointSource('3C 279'); \n",
    "    print(source)\n",
    "    wtl = WtLike(source, exp_min=50)"
   ]
  },
  {
   "cell_type": "markdown",
   "id": "brutal-estonia",
   "metadata": {},
   "source": [
    "If the data for this source has not been accessed on this machine before, it must be extracted to a cache, a process that takes some 10 min. Otherwise it is a few seconds to retrieve the cache.\n",
    "\n",
    "Generate the (default weekly) light curve:"
   ]
  },
  {
   "cell_type": "code",
   "execution_count": null,
   "id": "activated-brazilian",
   "metadata": {},
   "outputs": [
    {
     "data": {
      "image/png": "[encoded data removed]",
      "text/plain": [
       "<Figure size 864x288 with 1 Axes>"
      ]
     },
     "metadata": {},
     "output_type": "display_data"
    }
   ],
   "source": [
    "if config.valid: wtl.plot(log=True, UTC=True);"
   ]
  },
  {
   "cell_type": "code",
   "execution_count": null,
   "id": "eaa64cdf-88cb-4d8f-8957-9914d1d61147",
   "metadata": {},
   "outputs": [],
   "source": []
  }
 ],
 "metadata": {
  "kernelspec": {
   "display_name": "Python 3 (ipykernel)",
   "language": "python",
   "name": "python3"
  }
 },
 "nbformat": 4,
 "nbformat_minor": 5
}
