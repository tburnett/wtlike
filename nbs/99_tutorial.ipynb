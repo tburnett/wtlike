{
 "cells": [
  {
   "cell_type": "code",
   "execution_count": null,
   "id": "tested-emerald",
   "metadata": {
    "tags": []
   },
   "outputs": [],
   "source": [
    "from wtlike import *"
   ]
  },
  {
   "cell_type": "markdown",
   "id": "simple-carter",
   "metadata": {},
   "source": [
    "# wtlike tutorial\n",
    "\n",
    "> A step by step guide"
   ]
  },
  {
   "cell_type": "markdown",
   "id": "powered-letter",
   "metadata": {},
   "source": [
    "### Install `wtlike`"
   ]
  },
  {
   "cell_type": "markdown",
   "id": "established-pasta",
   "metadata": {},
   "source": [
    "This assumes that you already have a Jupyter Notebook Server configured on your machine. \n",
    "\n",
    "`wtlike` is on PyPI\n",
    "\n",
    "```\n",
    "pip install wtlike\n",
    "```\n",
    "We use a simulated on-the-fly dataset in lieu of downloading the 2-GB file with all of fermi data."
   ]
  },
  {
   "cell_type": "markdown",
   "id": "published-amateur",
   "metadata": {},
   "source": [
    "### Define a source flux function. \n",
    "Note that we measure time in day units, and will pick a 30-day interval for this deme.\n",
    "\n",
    "The following function has a flare at 15 days."
   ]
  },
  {
   "cell_type": "code",
   "execution_count": null,
   "id": "macro-pontiac",
   "metadata": {},
   "outputs": [],
   "source": [
    "def src_flare(t, tzero=15, width=1, amp=5):\n",
    "    return 1e-6*(1 + amp*np.exp(-(t-tzero)**2/2/width))"
   ]
  },
  {
   "cell_type": "markdown",
   "id": "substantial-conducting",
   "metadata": {},
   "source": [
    "We use it to tell the simulation that the flux has this behavior. Note defaults:\n",
    "\n",
    "- background -- 1e-6\n",
    "- exposure -- 500/s in the 4-degree circle we assume.\n",
    "\n",
    "Here we create a `Simulation` object, then pass it to the primary wtlike entry point, the class `WtLike`.\n",
    "We tell it to immediately bin the photons into daily time-bins, called \"cells\". (That can be easily redone.)"
   ]
  },
  {
   "cell_type": "code",
   "execution_count": null,
   "id": "assisted-accident",
   "metadata": {},
   "outputs": [
    {
     "name": "stdout",
     "output_type": "stream",
     "text": [
      "generated 3087 photons\n",
      "WtLike: Source flare_sim with:\n",
      "\t data:         3,087  simulated photons\n",
      "\t exposure:     8,640 intervals over 30.0 days.\n",
      "\t est. rates from weights: source 1.39e-06/s, background 9.89e-07/s, S/N ratio 1.41\n",
      "CellData: Bin photon data into 30 1-day bins from 0.0 to 30.0\n",
      "LightCurve: select 30 cells for fitting with e>0.5 & n>2\n"
     ]
    }
   ],
   "source": [
    "test_sim = Simulation('flare_sim', src_flux=src_flare, tstart=0, tstop=30, )\n",
    "daily = WtLike(test_sim, time_bins=(0,0,1))"
   ]
  },
  {
   "cell_type": "markdown",
   "id": "answering-clear",
   "metadata": {},
   "source": [
    "Now make a light curve!"
   ]
  },
  {
   "cell_type": "code",
   "execution_count": null,
   "id": "published-apple",
   "metadata": {},
   "outputs": [
    {
     "data": {
      "image/png": "[encoded data removed]",
      "text/plain": [
       "<Figure size 864x288 with 1 Axes>"
      ]
     },
     "metadata": {},
     "output_type": "display_data"
    }
   ],
   "source": [
    "daily.plot();"
   ]
  },
  {
   "cell_type": "markdown",
   "id": "reduced-actor",
   "metadata": {},
   "source": [
    "The cells have each been analyzed to create a likelihood function representation for each. The first few cells are:"
   ]
  },
  {
   "cell_type": "code",
   "execution_count": null,
   "id": "champion-hometown",
   "metadata": {},
   "outputs": [
    {
     "data": {
      "text/html": [
       "<div>\n",
       "<style scoped>\n",
       "    .dataframe tbody tr th:only-of-type {\n",
       "        vertical-align: middle;\n",
       "    }\n",
       "\n",
       "    .dataframe tbody tr th {\n",
       "        vertical-align: top;\n",
       "    }\n",
       "\n",
       "    .dataframe thead th {\n",
       "        text-align: right;\n",
       "    }\n",
       "</style>\n",
       "<table border=\"1\" class=\"dataframe\">\n",
       "  <thead>\n",
       "    <tr style=\"text-align: right;\">\n",
       "      <th></th>\n",
       "      <th>t</th>\n",
       "      <th>tw</th>\n",
       "      <th>e</th>\n",
       "      <th>n</th>\n",
       "      <th>w</th>\n",
       "      <th>S</th>\n",
       "      <th>B</th>\n",
       "    </tr>\n",
       "  </thead>\n",
       "  <tbody>\n",
       "    <tr>\n",
       "      <th>0</th>\n",
       "      <td>0.5</td>\n",
       "      <td>1.0</td>\n",
       "      <td>43.05</td>\n",
       "      <td>75</td>\n",
       "      <td>[0.27214015, 0.86762667, 0.89312994, 0.0861320...</td>\n",
       "      <td>59.99</td>\n",
       "      <td>42.56</td>\n",
       "    </tr>\n",
       "    <tr>\n",
       "      <th>1</th>\n",
       "      <td>1.5</td>\n",
       "      <td>1.0</td>\n",
       "      <td>43.20</td>\n",
       "      <td>96</td>\n",
       "      <td>[0.001070212, 0.821968, 0.00057908107, 0.00145...</td>\n",
       "      <td>60.19</td>\n",
       "      <td>42.71</td>\n",
       "    </tr>\n",
       "  </tbody>\n",
       "</table>\n",
       "</div>"
      ],
      "text/plain": [
       "     t   tw      e   n                                                  w  \\\n",
       "0  0.5  1.0  43.05  75  [0.27214015, 0.86762667, 0.89312994, 0.0861320...   \n",
       "1  1.5  1.0  43.20  96  [0.001070212, 0.821968, 0.00057908107, 0.00145...   \n",
       "\n",
       "       S      B  \n",
       "0  59.99  42.56  \n",
       "1  60.19  42.71  "
      ]
     },
     "execution_count": null,
     "metadata": {},
     "output_type": "execute_result"
    }
   ],
   "source": [
    "daily.cells.head(2)"
   ]
  },
  {
   "cell_type": "markdown",
   "id": "manufactured-fabric",
   "metadata": {},
   "source": [
    "The Kerr likelihood function is definded by $w$, the list of weights, and $S$ and $B$, estimates for the signal and background counts in the cell\n",
    "\n",
    "$$ \\displaystyle\\log\\mathcal{L}(\\alpha,\\beta\\ |\\ w)\\ = \\sum_{w}  \\log \\big( 1 + \\alpha\\ w + \\beta\\ (1-w) \\big) - (\\alpha\\ S + \\beta\\ B) $$\n",
    "\n",
    "where $\\alpha$ and $\\beta$ are varations from nominal zeroes. The backgrond is constant here, and usually for data. So flux is $1+\\alpha$. \n",
    "\n",
    "Parmeters of this function are determined by fitting it to a Poisson-like function, which easily provides the parameters of interest."
   ]
  },
  {
   "cell_type": "code",
   "execution_count": null,
   "id": "tight-sweet",
   "metadata": {},
   "outputs": [
    {
     "data": {
      "text/html": [
       "<div>\n",
       "<style scoped>\n",
       "    .dataframe tbody tr th:only-of-type {\n",
       "        vertical-align: middle;\n",
       "    }\n",
       "\n",
       "    .dataframe tbody tr th {\n",
       "        vertical-align: top;\n",
       "    }\n",
       "\n",
       "    .dataframe thead th {\n",
       "        text-align: right;\n",
       "    }\n",
       "</style>\n",
       "<table border=\"1\" class=\"dataframe\">\n",
       "  <thead>\n",
       "    <tr style=\"text-align: right;\">\n",
       "      <th></th>\n",
       "      <th>t</th>\n",
       "      <th>tw</th>\n",
       "      <th>n</th>\n",
       "      <th>ts</th>\n",
       "      <th>flux</th>\n",
       "      <th>errors</th>\n",
       "      <th>limit</th>\n",
       "    </tr>\n",
       "  </thead>\n",
       "  <tbody>\n",
       "    <tr>\n",
       "      <th>0</th>\n",
       "      <td>0.5</td>\n",
       "      <td>1.0</td>\n",
       "      <td>75</td>\n",
       "      <td>33.8</td>\n",
       "      <td>0.45</td>\n",
       "      <td>(-0.105, 0.117)</td>\n",
       "      <td>0.67</td>\n",
       "    </tr>\n",
       "    <tr>\n",
       "      <th>1</th>\n",
       "      <td>1.5</td>\n",
       "      <td>1.0</td>\n",
       "      <td>96</td>\n",
       "      <td>87.8</td>\n",
       "      <td>0.80</td>\n",
       "      <td>(-0.13, 0.14)</td>\n",
       "      <td>1.04</td>\n",
       "    </tr>\n",
       "  </tbody>\n",
       "</table>\n",
       "</div>"
      ],
      "text/plain": [
       "     t   tw   n    ts  flux           errors  limit\n",
       "0  0.5  1.0  75  33.8  0.45  (-0.105, 0.117)   0.67\n",
       "1  1.5  1.0  96  87.8  0.80    (-0.13, 0.14)   1.04"
      ]
     },
     "execution_count": null,
     "metadata": {},
     "output_type": "execute_result"
    }
   ],
   "source": [
    "daily.fluxes.head(2)"
   ]
  },
  {
   "cell_type": "markdown",
   "id": "expensive-demonstration",
   "metadata": {},
   "source": [
    "Note that the properties `cells`, `fits`, and `fluxes` are DataFrames. So we can find a fit at the peak with a `query`."
   ]
  },
  {
   "cell_type": "code",
   "execution_count": null,
   "id": "grand-insertion",
   "metadata": {},
   "outputs": [
    {
     "data": {
      "text/html": [
       "<div>\n",
       "<style scoped>\n",
       "    .dataframe tbody tr th:only-of-type {\n",
       "        vertical-align: middle;\n",
       "    }\n",
       "\n",
       "    .dataframe tbody tr th {\n",
       "        vertical-align: top;\n",
       "    }\n",
       "\n",
       "    .dataframe thead th {\n",
       "        text-align: right;\n",
       "    }\n",
       "</style>\n",
       "<table border=\"1\" class=\"dataframe\">\n",
       "  <thead>\n",
       "    <tr style=\"text-align: right;\">\n",
       "      <th></th>\n",
       "      <th>t</th>\n",
       "      <th>tw</th>\n",
       "      <th>n</th>\n",
       "      <th>ts</th>\n",
       "      <th>flux</th>\n",
       "      <th>errors</th>\n",
       "      <th>limit</th>\n",
       "    </tr>\n",
       "  </thead>\n",
       "  <tbody>\n",
       "    <tr>\n",
       "      <th>14</th>\n",
       "      <td>14.5</td>\n",
       "      <td>1.0</td>\n",
       "      <td>264</td>\n",
       "      <td>1613.4</td>\n",
       "      <td>3.96</td>\n",
       "      <td>(-0.255, 0.266)</td>\n",
       "      <td>4.41</td>\n",
       "    </tr>\n",
       "    <tr>\n",
       "      <th>15</th>\n",
       "      <td>15.5</td>\n",
       "      <td>1.0</td>\n",
       "      <td>223</td>\n",
       "      <td>1238.4</td>\n",
       "      <td>3.21</td>\n",
       "      <td>(-0.231, 0.241)</td>\n",
       "      <td>3.62</td>\n",
       "    </tr>\n",
       "  </tbody>\n",
       "</table>\n",
       "</div>"
      ],
      "text/plain": [
       "       t   tw    n      ts  flux           errors  limit\n",
       "14  14.5  1.0  264  1613.4  3.96  (-0.255, 0.266)   4.41\n",
       "15  15.5  1.0  223  1238.4  3.21  (-0.231, 0.241)   3.62"
      ]
     },
     "execution_count": null,
     "metadata": {},
     "output_type": "execute_result"
    }
   ],
   "source": [
    "daily.fluxes.query('flux>3')"
   ]
  },
  {
   "cell_type": "markdown",
   "id": "sexual-belle",
   "metadata": {},
   "source": [
    "## Views\n",
    "A `WtLike` object provides a function `view`, which returns a **new** instance with a different binning. \n",
    "So if we want a detailed look at the flare, we can choose an interval as so:"
   ]
  },
  {
   "cell_type": "code",
   "execution_count": null,
   "id": "expensive-oklahoma",
   "metadata": {},
   "outputs": [
    {
     "name": "stdout",
     "output_type": "stream",
     "text": [
      "CellData: Bin photon data into 40 6-hour bins from 10.0 to 20.0\n",
      "LightCurve: select 40 cells for fitting with e>0.5 & n>2\n"
     ]
    },
    {
     "data": {
      "image/png": "[encoded data removed]",
      "text/plain": [
       "<Figure size 864x288 with 1 Axes>"
      ]
     },
     "metadata": {},
     "output_type": "display_data"
    }
   ],
   "source": [
    "qday = daily.view((10,-10, 0.25))\n",
    "qday.plot();"
   ]
  },
  {
   "cell_type": "markdown",
   "id": "published-removal",
   "metadata": {},
   "source": [
    "### Bayesian-Block view\n",
    "The WtLike object also has a special `bb_view` function, which does a Bayesian Block analysis.  "
   ]
  },
  {
   "cell_type": "code",
   "execution_count": null,
   "id": "answering-experiment",
   "metadata": {},
   "outputs": [
    {
     "name": "stdout",
     "output_type": "stream",
     "text": [
      "LightCurve: select 40 cells for fitting with e>0.5 & n>2\n",
      "Partitioned 40 cells into 6 blocks, using LikelihoodFitness \n",
      "LightCurve: Loaded 6 / 6 cells for fitting\n"
     ]
    },
    {
     "data": {
      "image/png": "[encoded data removed]",
      "text/plain": [
       "<Figure size 864x288 with 1 Axes>"
      ]
     },
     "metadata": {},
     "output_type": "display_data"
    }
   ],
   "source": [
    "bb = qday.bb_view();bb.plot();"
   ]
  },
  {
   "cell_type": "markdown",
   "id": "textile-charge",
   "metadata": {},
   "source": [
    "This has created variable-sized cells, the fits for which are shown here:"
   ]
  },
  {
   "cell_type": "code",
   "execution_count": null,
   "id": "electoral-dependence",
   "metadata": {},
   "outputs": [
    {
     "data": {
      "text/html": [
       "<div>\n",
       "<style scoped>\n",
       "    .dataframe tbody tr th:only-of-type {\n",
       "        vertical-align: middle;\n",
       "    }\n",
       "\n",
       "    .dataframe tbody tr th {\n",
       "        vertical-align: top;\n",
       "    }\n",
       "\n",
       "    .dataframe thead th {\n",
       "        text-align: right;\n",
       "    }\n",
       "</style>\n",
       "<table border=\"1\" class=\"dataframe\">\n",
       "  <thead>\n",
       "    <tr style=\"text-align: right;\">\n",
       "      <th></th>\n",
       "      <th>t</th>\n",
       "      <th>tw</th>\n",
       "      <th>n</th>\n",
       "      <th>ts</th>\n",
       "      <th>flux</th>\n",
       "      <th>errors</th>\n",
       "      <th>limit</th>\n",
       "    </tr>\n",
       "  </thead>\n",
       "  <tbody>\n",
       "    <tr>\n",
       "      <th>0</th>\n",
       "      <td>11.50</td>\n",
       "      <td>3.00</td>\n",
       "      <td>258</td>\n",
       "      <td>235.4</td>\n",
       "      <td>0.70</td>\n",
       "      <td>(-0.071, 0.074)</td>\n",
       "      <td>0.82</td>\n",
       "    </tr>\n",
       "    <tr>\n",
       "      <th>1</th>\n",
       "      <td>13.38</td>\n",
       "      <td>0.75</td>\n",
       "      <td>97</td>\n",
       "      <td>267.6</td>\n",
       "      <td>1.53</td>\n",
       "      <td>(-0.189, 0.202)</td>\n",
       "      <td>1.89</td>\n",
       "    </tr>\n",
       "    <tr>\n",
       "      <th>2</th>\n",
       "      <td>14.75</td>\n",
       "      <td>2.00</td>\n",
       "      <td>500</td>\n",
       "      <td>2920.7</td>\n",
       "      <td>3.68</td>\n",
       "      <td>(-0.175, 0.181)</td>\n",
       "      <td>3.98</td>\n",
       "    </tr>\n",
       "    <tr>\n",
       "      <th>3</th>\n",
       "      <td>16.12</td>\n",
       "      <td>0.75</td>\n",
       "      <td>132</td>\n",
       "      <td>572.3</td>\n",
       "      <td>2.50</td>\n",
       "      <td>(-0.237, 0.251)</td>\n",
       "      <td>2.94</td>\n",
       "    </tr>\n",
       "    <tr>\n",
       "      <th>4</th>\n",
       "      <td>17.12</td>\n",
       "      <td>1.25</td>\n",
       "      <td>154</td>\n",
       "      <td>263.9</td>\n",
       "      <td>1.26</td>\n",
       "      <td>(-0.139, 0.147)</td>\n",
       "      <td>1.51</td>\n",
       "    </tr>\n",
       "    <tr>\n",
       "      <th>5</th>\n",
       "      <td>18.88</td>\n",
       "      <td>2.25</td>\n",
       "      <td>204</td>\n",
       "      <td>175.0</td>\n",
       "      <td>0.70</td>\n",
       "      <td>(-0.082, 0.086)</td>\n",
       "      <td>0.85</td>\n",
       "    </tr>\n",
       "  </tbody>\n",
       "</table>\n",
       "</div>"
      ],
      "text/plain": [
       "       t    tw    n      ts  flux           errors  limit\n",
       "0  11.50  3.00  258   235.4  0.70  (-0.071, 0.074)   0.82\n",
       "1  13.38  0.75   97   267.6  1.53  (-0.189, 0.202)   1.89\n",
       "2  14.75  2.00  500  2920.7  3.68  (-0.175, 0.181)   3.98\n",
       "3  16.12  0.75  132   572.3  2.50  (-0.237, 0.251)   2.94\n",
       "4  17.12  1.25  154   263.9  1.26  (-0.139, 0.147)   1.51\n",
       "5  18.88  2.25  204   175.0  0.70  (-0.082, 0.086)   0.85"
      ]
     },
     "execution_count": null,
     "metadata": {},
     "output_type": "execute_result"
    }
   ],
   "source": [
    "bb.fluxes"
   ]
  },
  {
   "cell_type": "code",
   "execution_count": null,
   "id": "logical-patrol",
   "metadata": {},
   "outputs": [],
   "source": []
  }
 ],
 "metadata": {
  "kernelspec": {
   "display_name": "Python 3",
   "language": "python",
   "name": "python3"
  }
 },
 "nbformat": 4,
 "nbformat_minor": 5
}
