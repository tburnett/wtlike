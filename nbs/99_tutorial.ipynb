{
 "cells": [
  {
   "cell_type": "code",
   "execution_count": null,
   "id": "confused-illustration",
   "metadata": {},
   "outputs": [],
   "source": [
    "from wtlike import Config, Simulation, WtLike\n",
    "import numpy as np"
   ]
  },
  {
   "cell_type": "markdown",
   "id": "dying-breeding",
   "metadata": {},
   "source": [
    "# wtlike tutorial\n",
    "\n",
    "> A step by step guide"
   ]
  },
  {
   "cell_type": "markdown",
   "id": "incredible-swift",
   "metadata": {},
   "source": [
    "### Install `wtlike`"
   ]
  },
  {
   "cell_type": "markdown",
   "id": "ready-diploma",
   "metadata": {},
   "source": [
    "This assumes that you already have a Jupyter Notebook Server configured on your machine. \n",
    "\n",
    "Either run this [notebook](https://github.com/tburnett/wtlike/blob/master/nbs/99_tutorial.ipynb), or copy the cells into a new notebook.\n",
    "\n",
    "`wtlike` is on PyPI--to install it,\n",
    "\n",
    "```\n",
    "pip install wtlike\n",
    "```\n",
    "Next we generate a simulated on-the-fly dataset in lieu of downloading the 3-GB of so of the *fermi* data."
   ]
  },
  {
   "cell_type": "markdown",
   "id": "natural-minister",
   "metadata": {},
   "source": [
    "### Define a source flux function. \n",
    "Note that we measure time in day units, and will pick a 30-day interval for this demo.\n",
    "\n",
    "The following function has a flare at 15 days."
   ]
  },
  {
   "cell_type": "code",
   "execution_count": null,
   "id": "toxic-democrat",
   "metadata": {},
   "outputs": [],
   "source": [
    "def src_flare(t, tzero=15, width=1, amp=5):\n",
    "    return 1e-6*(1 + amp*np.exp(-(t-tzero)**2/2/width))"
   ]
  },
  {
   "cell_type": "markdown",
   "id": "advanced-azerbaijan",
   "metadata": {},
   "source": [
    "We use it to tell the simulation that the flux has this behavior. Note defaults:\n",
    "\n",
    "- background -- 1e-6 /s\n",
    "- effective area -- 3000 cm^2 \n",
    "\n",
    "Here we create a `Simulation` object, then pass it to the primary wtlike entry point, the class `WtLike`.\n",
    "We tell it to immediately bin all the photons into daily time-bins, called \"cells\". (The time binning can be easily redone.)"
   ]
  },
  {
   "cell_type": "code",
   "execution_count": null,
   "id": "43ff4d67-b4a6-4b6b-8e80-5b23f4a2ff84",
   "metadata": {},
   "outputs": [
    {
     "name": "stdout",
     "output_type": "stream",
     "text": [
      "generated 18914 photons\n",
      "SourceData: Source flare_sim with:\n",
      "\t data:        18,914 simulated photons over 30.0 days.\n",
      "\t exposure:     8,640 intervals,  average effective area 3000 cm^2 for 2.6 Ms\n",
      "\t rates:  source 1.43e-06/s, background 1.00e-06/s,\n",
      "CellData.rebin: Bin photon data into 30 1-day bins from 0.0 to 30.0\n",
      "LightCurve: select 30 cells for fitting with e>5 & n>2\n"
     ]
    }
   ],
   "source": [
    "config=Config()\n",
    "test_sim = Simulation('flare_sim', src_flux=src_flare, tstart=0, tstop=30, )\n",
    "daily = WtLike(test_sim, config=config, time_bins=(0,0,1))"
   ]
  },
  {
   "cell_type": "markdown",
   "id": "adjacent-indonesian",
   "metadata": {},
   "source": [
    "Now make a light curve!"
   ]
  },
  {
   "cell_type": "code",
   "execution_count": null,
   "id": "emotional-brush",
   "metadata": {},
   "outputs": [
    {
     "data": {
      "image/png": "[encoded data removed]",
      "text/plain": [
       "<Figure size 864x288 with 1 Axes>"
      ]
     },
     "metadata": {},
     "output_type": "display_data"
    }
   ],
   "source": [
    "daily.plot();"
   ]
  },
  {
   "cell_type": "markdown",
   "id": "green-economics",
   "metadata": {},
   "source": [
    "The cells have each been analyzed to create a likelihood function representation. The first few cells are:"
   ]
  },
  {
   "cell_type": "code",
   "execution_count": null,
   "id": "liable-positive",
   "metadata": {},
   "outputs": [
    {
     "data": {
      "text/html": [
       "<div>\n",
       "<style scoped>\n",
       "    .dataframe tbody tr th:only-of-type {\n",
       "        vertical-align: middle;\n",
       "    }\n",
       "\n",
       "    .dataframe tbody tr th {\n",
       "        vertical-align: top;\n",
       "    }\n",
       "\n",
       "    .dataframe thead th {\n",
       "        text-align: right;\n",
       "    }\n",
       "</style>\n",
       "<table border=\"1\" class=\"dataframe\">\n",
       "  <thead>\n",
       "    <tr style=\"text-align: right;\">\n",
       "      <th></th>\n",
       "      <th>t</th>\n",
       "      <th>tw</th>\n",
       "      <th>e</th>\n",
       "      <th>ctm</th>\n",
       "      <th>n</th>\n",
       "      <th>w</th>\n",
       "      <th>S</th>\n",
       "      <th>B</th>\n",
       "    </tr>\n",
       "  </thead>\n",
       "  <tbody>\n",
       "    <tr>\n",
       "      <th>0</th>\n",
       "      <td>0.5</td>\n",
       "      <td>1.0</td>\n",
       "      <td>258.299988</td>\n",
       "      <td>1.0</td>\n",
       "      <td>483</td>\n",
       "      <td>[0.8340875, 0.87314934, 0.74305063, 0.29304907...</td>\n",
       "      <td>368.464569</td>\n",
       "      <td>255.228912</td>\n",
       "    </tr>\n",
       "    <tr>\n",
       "      <th>1</th>\n",
       "      <td>1.5</td>\n",
       "      <td>1.0</td>\n",
       "      <td>259.200012</td>\n",
       "      <td>1.0</td>\n",
       "      <td>527</td>\n",
       "      <td>[0.45398444, 0.083380334, 0.0024971107, 0.0051...</td>\n",
       "      <td>369.748474</td>\n",
       "      <td>256.118225</td>\n",
       "    </tr>\n",
       "  </tbody>\n",
       "</table>\n",
       "</div>"
      ],
      "text/plain": [
       "     t   tw           e  ctm    n  \\\n",
       "0  0.5  1.0  258.299988  1.0  483   \n",
       "1  1.5  1.0  259.200012  1.0  527   \n",
       "\n",
       "                                                   w           S           B  \n",
       "0  [8.340875e-01, 0.87314934, 0.74305063, 0.29304...  368.464569  255.228912  \n",
       "1  [0.45398444, 0.083380334, 0.0024971107, 0.0051...  369.748474  256.118225  "
      ]
     },
     "execution_count": null,
     "metadata": {},
     "output_type": "execute_result"
    }
   ],
   "source": [
    "daily.cells.head(2)"
   ]
  },
  {
   "cell_type": "markdown",
   "id": "delayed-panama",
   "metadata": {},
   "source": [
    "The Kerr likelihood function for a cell is a function of $w$, the list of weights, and $S$, an estimate for the total signal counts in the cell\n",
    "\n",
    "$$ \\displaystyle\\log\\mathcal{L}(\\alpha\\ |\\ w)\\ = \\sum_{w}  \\log \\big( 1 + \\alpha\\ w \\big) - \\alpha\\ S  $$\n",
    "\n",
    "where $\\alpha$ is the variation from the nominal zero. The background is assumed to be constant here, as it usually is the region surrounding sources of interest. \n",
    "The relative flux is $1+\\alpha$. \n",
    "\n",
    "We generate an approximate representation of this function by fitting it to a 3-parameter Poisson-like function, which easily provides the values of interest."
   ]
  },
  {
   "cell_type": "code",
   "execution_count": null,
   "id": "accepting-thermal",
   "metadata": {},
   "outputs": [
    {
     "data": {
      "text/html": [
       "<div>\n",
       "<style scoped>\n",
       "    .dataframe tbody tr th:only-of-type {\n",
       "        vertical-align: middle;\n",
       "    }\n",
       "\n",
       "    .dataframe tbody tr th {\n",
       "        vertical-align: top;\n",
       "    }\n",
       "\n",
       "    .dataframe thead th {\n",
       "        text-align: right;\n",
       "    }\n",
       "</style>\n",
       "<table border=\"1\" class=\"dataframe\">\n",
       "  <thead>\n",
       "    <tr style=\"text-align: right;\">\n",
       "      <th></th>\n",
       "      <th>t</th>\n",
       "      <th>tw</th>\n",
       "      <th>n</th>\n",
       "      <th>e</th>\n",
       "      <th>ctm</th>\n",
       "      <th>ts</th>\n",
       "      <th>flux</th>\n",
       "      <th>errors</th>\n",
       "      <th>limit</th>\n",
       "    </tr>\n",
       "  </thead>\n",
       "  <tbody>\n",
       "    <tr>\n",
       "      <th>0</th>\n",
       "      <td>0.5</td>\n",
       "      <td>1.0</td>\n",
       "      <td>483</td>\n",
       "      <td>258.299988</td>\n",
       "      <td>1.0</td>\n",
       "      <td>340.2</td>\n",
       "      <td>0.5761</td>\n",
       "      <td>(-0.047, 0.048)</td>\n",
       "      <td>0.657914</td>\n",
       "    </tr>\n",
       "    <tr>\n",
       "      <th>1</th>\n",
       "      <td>1.5</td>\n",
       "      <td>1.0</td>\n",
       "      <td>527</td>\n",
       "      <td>259.200012</td>\n",
       "      <td>1.0</td>\n",
       "      <td>412.8</td>\n",
       "      <td>0.6462</td>\n",
       "      <td>(-0.049, 0.05)</td>\n",
       "      <td>0.731292</td>\n",
       "    </tr>\n",
       "  </tbody>\n",
       "</table>\n",
       "</div>"
      ],
      "text/plain": [
       "     t   tw    n           e  ctm     ts    flux           errors     limit\n",
       "0  0.5  1.0  483  258.299988  1.0  340.2  0.5761  (-0.047, 0.048)  0.657914\n",
       "1  1.5  1.0  527  259.200012  1.0  412.8  0.6462   (-0.049, 0.05)  0.731292"
      ]
     },
     "execution_count": null,
     "metadata": {},
     "output_type": "execute_result"
    }
   ],
   "source": [
    "daily.fluxes.head(2)"
   ]
  },
  {
   "cell_type": "markdown",
   "id": "consistent-albania",
   "metadata": {},
   "source": [
    "#### About DataFrames\n",
    "The properties `photons`, `exposure`, `cells`, `fits`, and `fluxes` are [pandas.DataFrame](https://pandas.pydata.org/pandas-docs/stable/reference/api/pandas.DataFrame.html) objects.\n",
    "For those unfamiliar with pandas, note that one can create \"csv\" files with the method `to_csv(`*filename*`)`.\n",
    "\n",
    "The function `query` is very useful: To select the cells with flux>3,"
   ]
  },
  {
   "cell_type": "code",
   "execution_count": null,
   "id": "legitimate-touch",
   "metadata": {},
   "outputs": [
    {
     "data": {
      "text/html": [
       "<div>\n",
       "<style scoped>\n",
       "    .dataframe tbody tr th:only-of-type {\n",
       "        vertical-align: middle;\n",
       "    }\n",
       "\n",
       "    .dataframe tbody tr th {\n",
       "        vertical-align: top;\n",
       "    }\n",
       "\n",
       "    .dataframe thead th {\n",
       "        text-align: right;\n",
       "    }\n",
       "</style>\n",
       "<table border=\"1\" class=\"dataframe\">\n",
       "  <thead>\n",
       "    <tr style=\"text-align: right;\">\n",
       "      <th></th>\n",
       "      <th>t</th>\n",
       "      <th>tw</th>\n",
       "      <th>n</th>\n",
       "      <th>e</th>\n",
       "      <th>ctm</th>\n",
       "      <th>ts</th>\n",
       "      <th>flux</th>\n",
       "      <th>errors</th>\n",
       "      <th>limit</th>\n",
       "    </tr>\n",
       "  </thead>\n",
       "  <tbody>\n",
       "    <tr>\n",
       "      <th>14</th>\n",
       "      <td>14.5</td>\n",
       "      <td>1.0</td>\n",
       "      <td>1682</td>\n",
       "      <td>259.200012</td>\n",
       "      <td>1.0</td>\n",
       "      <td>10351.1</td>\n",
       "      <td>4.1235</td>\n",
       "      <td>(-0.107, 0.108)</td>\n",
       "      <td>4.304522</td>\n",
       "    </tr>\n",
       "    <tr>\n",
       "      <th>15</th>\n",
       "      <td>15.5</td>\n",
       "      <td>1.0</td>\n",
       "      <td>1638</td>\n",
       "      <td>259.200012</td>\n",
       "      <td>1.0</td>\n",
       "      <td>10001.9</td>\n",
       "      <td>4.0151</td>\n",
       "      <td>(-0.105, 0.107)</td>\n",
       "      <td>4.193895</td>\n",
       "    </tr>\n",
       "  </tbody>\n",
       "</table>\n",
       "</div>"
      ],
      "text/plain": [
       "       t   tw     n           e  ctm       ts    flux           errors  \\\n",
       "14  14.5  1.0  1682  259.200012  1.0  10351.1  4.1235  (-0.107, 0.108)   \n",
       "15  15.5  1.0  1638  259.200012  1.0  10001.9  4.0151  (-0.105, 0.107)   \n",
       "\n",
       "       limit  \n",
       "14  4.304522  \n",
       "15  4.193895  "
      ]
     },
     "execution_count": null,
     "metadata": {},
     "output_type": "execute_result"
    }
   ],
   "source": [
    "daily.fluxes.query('flux>3')"
   ]
  },
  {
   "cell_type": "markdown",
   "id": "structural-lindsay",
   "metadata": {},
   "source": [
    "## Views\n",
    "A `WtLike` object provides a function `view`, which returns a copy but with a different binning. \n",
    "So if we want a detailed look at the flare, we can choose an interval. The parameters specify an interval 10 days after the start, and 10 days before the end, with 1/day or 6-hour bins."
   ]
  },
  {
   "cell_type": "code",
   "execution_count": null,
   "id": "miniature-cheese",
   "metadata": {},
   "outputs": [
    {
     "name": "stdout",
     "output_type": "stream",
     "text": [
      "CellData.rebin: Bin photon data into 40 6-hour bins from 10.0 to 20.0\n",
      "LightCurve: select 40 cells for fitting with e>1.25 & n>2\n"
     ]
    },
    {
     "data": {
      "image/png": "[encoded data removed]",
      "text/plain": [
       "<Figure size 864x288 with 1 Axes>"
      ]
     },
     "metadata": {},
     "output_type": "display_data"
    }
   ],
   "source": [
    "qday = daily.view(10, -10, 0.25)\n",
    "qday.plot();"
   ]
  },
  {
   "cell_type": "markdown",
   "id": "dutch-samoa",
   "metadata": {},
   "source": [
    "### Bayesian-Block view\n",
    "The WtLike object also has a special `bb_view` function, which does a Bayesian Block analysis and returns a view of it. "
   ]
  },
  {
   "cell_type": "code",
   "execution_count": null,
   "id": "verified-chicken",
   "metadata": {},
   "outputs": [
    {
     "name": "stdout",
     "output_type": "stream",
     "text": [
      "Bayesian Blocks: partitioning 40 cells using LikelihoodFitness with penalty 5%\n",
      "\tfound 9 / 40 blocks.\n",
      "LightCurve: Loaded 9 / 9 cells for fitting\n"
     ]
    },
    {
     "data": {
      "image/png": "[encoded data removed]",
      "text/plain": [
       "<Figure size 864x288 with 1 Axes>"
      ]
     },
     "metadata": {},
     "output_type": "display_data"
    }
   ],
   "source": [
    "bb = qday.bb_view();bb.plot();"
   ]
  },
  {
   "cell_type": "markdown",
   "id": "inclusive-campaign",
   "metadata": {},
   "source": [
    "This creates variable-sized cells corresponding to the Bayesian Block analysis, the fits for which are shown here:"
   ]
  },
  {
   "cell_type": "code",
   "execution_count": null,
   "id": "inappropriate-forest",
   "metadata": {},
   "outputs": [
    {
     "data": {
      "text/html": [
       "<div>\n",
       "<style scoped>\n",
       "    .dataframe tbody tr th:only-of-type {\n",
       "        vertical-align: middle;\n",
       "    }\n",
       "\n",
       "    .dataframe tbody tr th {\n",
       "        vertical-align: top;\n",
       "    }\n",
       "\n",
       "    .dataframe thead th {\n",
       "        text-align: right;\n",
       "    }\n",
       "</style>\n",
       "<table border=\"1\" class=\"dataframe\">\n",
       "  <thead>\n",
       "    <tr style=\"text-align: right;\">\n",
       "      <th></th>\n",
       "      <th>t</th>\n",
       "      <th>tw</th>\n",
       "      <th>n</th>\n",
       "      <th>e</th>\n",
       "      <th>ts</th>\n",
       "      <th>flux</th>\n",
       "      <th>errors</th>\n",
       "      <th>limit</th>\n",
       "    </tr>\n",
       "  </thead>\n",
       "  <tbody>\n",
       "    <tr>\n",
       "      <th>0</th>\n",
       "      <td>11.250</td>\n",
       "      <td>2.50</td>\n",
       "      <td>1334</td>\n",
       "      <td>64.800000</td>\n",
       "      <td>983.4</td>\n",
       "      <td>0.6302</td>\n",
       "      <td>(-0.031, 0.031)</td>\n",
       "      <td>0.682914</td>\n",
       "    </tr>\n",
       "    <tr>\n",
       "      <th>1</th>\n",
       "      <td>12.875</td>\n",
       "      <td>0.75</td>\n",
       "      <td>484</td>\n",
       "      <td>64.800003</td>\n",
       "      <td>814.7</td>\n",
       "      <td>1.0681</td>\n",
       "      <td>(-0.067, 0.069)</td>\n",
       "      <td>1.185394</td>\n",
       "    </tr>\n",
       "    <tr>\n",
       "      <th>2</th>\n",
       "      <td>13.500</td>\n",
       "      <td>0.50</td>\n",
       "      <td>493</td>\n",
       "      <td>64.800003</td>\n",
       "      <td>1674.6</td>\n",
       "      <td>2.0654</td>\n",
       "      <td>(-0.109, 0.112)</td>\n",
       "      <td>2.255217</td>\n",
       "    </tr>\n",
       "    <tr>\n",
       "      <th>3</th>\n",
       "      <td>14.000</td>\n",
       "      <td>0.50</td>\n",
       "      <td>690</td>\n",
       "      <td>64.800003</td>\n",
       "      <td>3620.1</td>\n",
       "      <td>3.3137</td>\n",
       "      <td>(-0.135, 0.139)</td>\n",
       "      <td>3.547542</td>\n",
       "    </tr>\n",
       "    <tr>\n",
       "      <th>4</th>\n",
       "      <td>15.000</td>\n",
       "      <td>1.50</td>\n",
       "      <td>2611</td>\n",
       "      <td>64.799998</td>\n",
       "      <td>16512.7</td>\n",
       "      <td>4.2864</td>\n",
       "      <td>(-0.089, 0.09)</td>\n",
       "      <td>4.436272</td>\n",
       "    </tr>\n",
       "    <tr>\n",
       "      <th>5</th>\n",
       "      <td>16.000</td>\n",
       "      <td>0.50</td>\n",
       "      <td>660</td>\n",
       "      <td>64.800003</td>\n",
       "      <td>3403.5</td>\n",
       "      <td>3.1514</td>\n",
       "      <td>(-0.132, 0.136)</td>\n",
       "      <td>3.379773</td>\n",
       "    </tr>\n",
       "    <tr>\n",
       "      <th>6</th>\n",
       "      <td>16.625</td>\n",
       "      <td>0.75</td>\n",
       "      <td>696</td>\n",
       "      <td>64.800003</td>\n",
       "      <td>2235.2</td>\n",
       "      <td>1.9296</td>\n",
       "      <td>(-0.086, 0.089)</td>\n",
       "      <td>2.078983</td>\n",
       "    </tr>\n",
       "    <tr>\n",
       "      <th>7</th>\n",
       "      <td>17.375</td>\n",
       "      <td>0.75</td>\n",
       "      <td>452</td>\n",
       "      <td>64.800003</td>\n",
       "      <td>648.1</td>\n",
       "      <td>0.9347</td>\n",
       "      <td>(-0.064, 0.066)</td>\n",
       "      <td>1.045837</td>\n",
       "    </tr>\n",
       "    <tr>\n",
       "      <th>8</th>\n",
       "      <td>18.875</td>\n",
       "      <td>2.25</td>\n",
       "      <td>1182</td>\n",
       "      <td>64.800001</td>\n",
       "      <td>914.8</td>\n",
       "      <td>0.6398</td>\n",
       "      <td>(-0.033, 0.033)</td>\n",
       "      <td>0.695466</td>\n",
       "    </tr>\n",
       "  </tbody>\n",
       "</table>\n",
       "</div>"
      ],
      "text/plain": [
       "        t    tw     n          e       ts    flux           errors     limit\n",
       "0  11.250  2.50  1334  64.800000    983.4  0.6302  (-0.031, 0.031)  0.682914\n",
       "1  12.875  0.75   484  64.800003    814.7  1.0681  (-0.067, 0.069)  1.185394\n",
       "2  13.500  0.50   493  64.800003   1674.6  2.0654  (-0.109, 0.112)  2.255217\n",
       "3  14.000  0.50   690  64.800003   3620.1  3.3137  (-0.135, 0.139)  3.547542\n",
       "4  15.000  1.50  2611  64.799998  16512.7  4.2864   (-0.089, 0.09)  4.436272\n",
       "5  16.000  0.50   660  64.800003   3403.5  3.1514  (-0.132, 0.136)  3.379773\n",
       "6  16.625  0.75   696  64.800003   2235.2  1.9296  (-0.086, 0.089)  2.078983\n",
       "7  17.375  0.75   452  64.800003    648.1  0.9347  (-0.064, 0.066)  1.045837\n",
       "8  18.875  2.25  1182  64.800001    914.8  0.6398  (-0.033, 0.033)  0.695466"
      ]
     },
     "execution_count": null,
     "metadata": {},
     "output_type": "execute_result"
    }
   ],
   "source": [
    "bb.fluxes"
   ]
  },
  {
   "cell_type": "markdown",
   "id": "married-expense",
   "metadata": {},
   "source": [
    "### Getting help\n",
    "This jupyterlab environment allows easy exploration of help for any class or function.\n",
    "The two classes so far:"
   ]
  },
  {
   "cell_type": "code",
   "execution_count": null,
   "id": "genuine-accident",
   "metadata": {},
   "outputs": [
    {
     "data": {
      "text/plain": [
       "\u001b[0;31mInit signature:\u001b[0m\n",
       "\u001b[0mSimulation\u001b[0m\u001b[0;34m(\u001b[0m\u001b[0;34m\u001b[0m\n",
       "\u001b[0;34m\u001b[0m    \u001b[0mname\u001b[0m\u001b[0;34m,\u001b[0m\u001b[0;34m\u001b[0m\n",
       "\u001b[0;34m\u001b[0m    \u001b[0msrc_flux\u001b[0m\u001b[0;34m,\u001b[0m\u001b[0;34m\u001b[0m\n",
       "\u001b[0;34m\u001b[0m    \u001b[0mtstart\u001b[0m\u001b[0;34m,\u001b[0m\u001b[0;34m\u001b[0m\n",
       "\u001b[0;34m\u001b[0m    \u001b[0mtstop\u001b[0m\u001b[0;34m,\u001b[0m\u001b[0;34m\u001b[0m\n",
       "\u001b[0;34m\u001b[0m    \u001b[0mbkg_rate\u001b[0m\u001b[0;34m=\u001b[0m\u001b[0;36m1e-06\u001b[0m\u001b[0;34m,\u001b[0m\u001b[0;34m\u001b[0m\n",
       "\u001b[0;34m\u001b[0m    \u001b[0mefun\u001b[0m\u001b[0;34m=\u001b[0m\u001b[0;36m3000\u001b[0m\u001b[0;34m,\u001b[0m\u001b[0;34m\u001b[0m\n",
       "\u001b[0;34m\u001b[0m    \u001b[0mwt_signif\u001b[0m\u001b[0;34m=\u001b[0m\u001b[0;36m0.1\u001b[0m\u001b[0;34m,\u001b[0m\u001b[0;34m\u001b[0m\n",
       "\u001b[0;34m\u001b[0m    \u001b[0mdebug\u001b[0m\u001b[0;34m=\u001b[0m\u001b[0;32mFalse\u001b[0m\u001b[0;34m,\u001b[0m\u001b[0;34m\u001b[0m\n",
       "\u001b[0;34m\u001b[0m    \u001b[0mrng\u001b[0m\u001b[0;34m=\u001b[0m\u001b[0;32mNone\u001b[0m\u001b[0;34m,\u001b[0m\u001b[0;34m\u001b[0m\n",
       "\u001b[0;34m\u001b[0m\u001b[0;34m)\u001b[0m\u001b[0;34m\u001b[0m\u001b[0;34m\u001b[0m\u001b[0m\n",
       "\u001b[0;31mDocstring:\u001b[0m     \n",
       "- src_flux : source flux, scalar or function of days, typically around 1e-7\n",
       "- tstart, tstop :(days)\n",
       "- bkg_rate : background flux, scalar or function of day, typicaly 1e-6 for 4-deg cone\n",
       "- efun : scalar | function (of time in days) of the exposure/s. Typically 3000 cm^2 for fermi\n",
       "\n",
       "- wt_signif : the width of the PSF in (r/rmax)**2 coordinates\n",
       "- rng : random generator instance, or integer seed\n",
       "\u001b[0;31mFile:\u001b[0m           /mnt/c/users/thbur/OneDrive/work/wtlike/wtlike/simulation.py\n",
       "\u001b[0;31mType:\u001b[0m           type\n",
       "\u001b[0;31mSubclasses:\u001b[0m     \n"
      ]
     },
     "metadata": {},
     "output_type": "display_data"
    }
   ],
   "source": [
    "Simulation = Simulation\n",
    "Simulation?"
   ]
  },
  {
   "cell_type": "code",
   "execution_count": null,
   "id": "sweet-clause",
   "metadata": {},
   "outputs": [
    {
     "data": {
      "text/plain": [
       "\u001b[0;31mInit signature:\u001b[0m \u001b[0mWtLike\u001b[0m\u001b[0;34m(\u001b[0m\u001b[0;34m*\u001b[0m\u001b[0mpars\u001b[0m\u001b[0;34m,\u001b[0m \u001b[0;34m**\u001b[0m\u001b[0mkwargs\u001b[0m\u001b[0;34m)\u001b[0m\u001b[0;34m\u001b[0m\u001b[0;34m\u001b[0m\u001b[0m\n",
       "\u001b[0;31mDocstring:\u001b[0m     \n",
       "Summary\n",
       "---------\n",
       "There are three layers of initialization, implemented in superclasses,\n",
       "each with parameters. The classnames, associated parameters and data members set:\n",
       "\n",
       "SourceData -- load photons and exposure\n",
       "    parameters:\n",
       "      - source : name, a PointSource object, or a Simulation object\n",
       "      - config [Config()] : basic configuration\n",
       "      - week_range [None] : range of weeks to load\n",
       "      - key [''] : the cache key: '' means construct one with the source name, None to disable\n",
       "      - clear [False] : if using cache, clear the contents first\n",
       "    sets:\n",
       "      - photons\n",
       "      - exposure\n",
       "\n",
       "CellData -- create cells\n",
       "    parameters:\n",
       "      - time_bins [Config().time_bins] : binning: start, stop, binsize\n",
       "    sets:\n",
       "      - cells\n",
       "    creates copies with new cells:\n",
       "      - view\n",
       "      - phase_view\n",
       "\n",
       "LightCurve -- likelihood analysis of the cells\n",
       "    parameters:\n",
       "      - e_min [10] -- threshold for exposure (cm^2 units)\n",
       "      - n_min [2]  -- likelihood has trouble with this few\n",
       "      - lc_key [None] -- possible cache for light curve\n",
       "    sets:\n",
       "      - fits, fluxes\n",
       "\n",
       "WtLike (this class) -- no parameters (may add BB-specific ones)\n",
       "    Implements:  bb_view, plot_BB\n",
       "    sets:\n",
       "      - bb_flux  (only if bb_view invoked)\n",
       "\u001b[0;31mInit docstring:\u001b[0m         \n",
       "\u001b[0;31mFile:\u001b[0m           /mnt/c/users/thbur/OneDrive/work/wtlike/wtlike/main.py\n",
       "\u001b[0;31mType:\u001b[0m           type\n",
       "\u001b[0;31mSubclasses:\u001b[0m     \n"
      ]
     },
     "metadata": {},
     "output_type": "display_data"
    }
   ],
   "source": [
    "WtLike?"
   ]
  },
  {
   "cell_type": "markdown",
   "id": "least-outreach",
   "metadata": {},
   "source": [
    "The three WtLike methods have (preliminary) help as well:"
   ]
  },
  {
   "cell_type": "code",
   "execution_count": null,
   "id": "overall-species",
   "metadata": {},
   "outputs": [
    {
     "data": {
      "text/plain": [
       "\u001b[0;31mSignature:\u001b[0m \u001b[0mWtLike\u001b[0m\u001b[0;34m.\u001b[0m\u001b[0mplot\u001b[0m\u001b[0;34m(\u001b[0m\u001b[0mself\u001b[0m\u001b[0;34m,\u001b[0m \u001b[0;34m*\u001b[0m\u001b[0mpars\u001b[0m\u001b[0;34m,\u001b[0m \u001b[0;34m**\u001b[0m\u001b[0mkwargs\u001b[0m\u001b[0;34m)\u001b[0m\u001b[0;34m\u001b[0m\u001b[0;34m\u001b[0m\u001b[0m\n",
       "\u001b[0;31mDocstring:\u001b[0m\n",
       "Make a light curve plot\n",
       "        Invokes flux_plot, after processing kwargs to intercept\n",
       "        - log -- translate to `xscale='log'`\n",
       "        - xlim [None] -- convert to (start, stop) interpreted relative to start, stop if < start.\n",
       "        - show_flux [False]-- convert y scale to photon flux\n",
       "        - UTC [False] -- convert x scale to UTC years\n",
       "-\n",
       "        Make a plot of flux vs. time. This is invoked by the `plot` function of `LightCurve`\n",
       "\n",
       "    - cell_fits -- cell fits DataFrame\n",
       "    - query ['']-- DataFrame query to select subset\n",
       "    - ts_bar_min -- threshold for plotting as bar vs limit\n",
       "    - tzero -- time offset, in MJD\n",
       "    - source_name -- draw text in top left\n",
       "    - flux_factor [1]\n",
       "\n",
       "    - ax [None] -- a matplotlib.axes._subplots.AxesSubplot object returned from plt.subplots<br>\n",
       "    if None, create one using subplots with fignum [1] and figsize [(12,4)]\n",
       "    - fmt [''] -- marker symbol -- if not specified, will use '.' if many bins, else 'o'\n",
       "    - ms [None] -- for marker size\n",
       "    - colors -- tuple of colors for signal, limit, step\n",
       "    - step   -- add a \"step\" plot\n",
       "    - zorder -- set to different number to order successive calls with same Axis object\n",
       "    - kwargs -- apply to the `ax` object, like xlim, ylim\n",
       "\n",
       "    returns the Figure instance\n",
       "    \n",
       "\u001b[0;31mFile:\u001b[0m      /mnt/c/users/thbur/OneDrive/work/wtlike/wtlike/main.py\n",
       "\u001b[0;31mType:\u001b[0m      function\n"
      ]
     },
     "metadata": {},
     "output_type": "display_data"
    }
   ],
   "source": [
    "WtLike.plot?"
   ]
  },
  {
   "cell_type": "code",
   "execution_count": null,
   "id": "active-variable",
   "metadata": {},
   "outputs": [
    {
     "data": {
      "text/plain": [
       "\u001b[0;31mSignature:\u001b[0m \u001b[0mWtLike\u001b[0m\u001b[0;34m.\u001b[0m\u001b[0mview\u001b[0m\u001b[0;34m(\u001b[0m\u001b[0mself\u001b[0m\u001b[0;34m,\u001b[0m \u001b[0;34m*\u001b[0m\u001b[0mpars\u001b[0m\u001b[0;34m,\u001b[0m \u001b[0mexp_min\u001b[0m\u001b[0;34m=\u001b[0m\u001b[0;32mNone\u001b[0m\u001b[0;34m,\u001b[0m \u001b[0mno_update\u001b[0m\u001b[0;34m=\u001b[0m\u001b[0;32mFalse\u001b[0m\u001b[0;34m)\u001b[0m\u001b[0;34m\u001b[0m\u001b[0;34m\u001b[0m\u001b[0m\n",
       "\u001b[0;31mDocstring:\u001b[0m\n",
       "Return a \"view\", a copy of this instance with a perhaps a different set of cells\n",
       "\n",
       "- pars -- start, stop, step  to define new binning. Or start, step, or just step\n",
       "   start and stop are either MJD values, or offsets from the start or stop.\n",
       "   step -- the cell size in days, or if zero, orbit-based binning\n",
       "\n",
       "- exp_min [None] -- If specified, a different minimum exposure, in cm^2 Ms units to use for fitting\n",
       "    from.\n",
       "\n",
       "- no_update -- avoid fitting the cells if invoked by LightCurve or WtLike\n",
       "\u001b[0;31mFile:\u001b[0m      /mnt/c/users/thbur/OneDrive/work/wtlike/wtlike/cell_data.py\n",
       "\u001b[0;31mType:\u001b[0m      function\n"
      ]
     },
     "metadata": {},
     "output_type": "display_data"
    }
   ],
   "source": [
    "WtLike.view?"
   ]
  },
  {
   "cell_type": "markdown",
   "id": "0b210dae-ff73-4ac2-bd91-44257a77a4ea",
   "metadata": {},
   "source": [
    "## Using *Fermi* data.\n",
    "\n",
    "The only change from the above code is that one substitues `PointSource` with the designation of a source, for `Simulation`. \n",
    "\n",
    "Also, the data files must be available, the config parameter `datapath` set to the relevant folder. \n",
    "Currently it is set by a line in `~/.config/wtlike/config.yaml`.  See the [Config help](https://tburnett.github.io/wtlike/config#Config).\n",
    "\n",
    "This requires access to a packaged form of the photon data, a table allowing generation of weights, and the effective area table.\n",
    "The source must have been analyzed with `gtlike` or `pointlike` to produce the weight table.\n",
    "\n",
    "All are available in a 2-GB zip file.\n",
    "\n",
    "The photon and spacecraft data can be checked with `check_data`\n",
    "\n",
    "The configuration must be valid, with path to data existing"
   ]
  },
  {
   "cell_type": "code",
   "execution_count": null,
   "id": "large-projection",
   "metadata": {},
   "outputs": [
    {
     "name": "stdout",
     "output_type": "stream",
     "text": [
      "Source \"3C 279\" at: (l,b)=(305.104,57.062), nickname P88Y3243\n",
      "SourceData: week_range: None\n",
      "SourceData:  3C 279: Restoring from cache with key \"P88Y3243_data\"\n",
      "SourceData: Source 3C 279 with:\n",
      "\t data:       185,692 photons from 2008-08-04 to 2021-12-09\n",
      "\t exposure: 2,940,805 intervals,  average effective area 2771 cm^2 for 87.8 Ms\n",
      "\t rates:  source 4.06e-07/s, background 3.57e-07/s, TS 182134.1\n",
      "CellData.rebin: Bin photon data into 696 1-week bins from 54683.0 to 59555.0\n",
      "LightCurve: select 299 cells for fitting with e>350 & n>2\n"
     ]
    }
   ],
   "source": [
    "from wtlike import *\n",
    "config = Config()\n",
    "if config.valid:\n",
    "    #print(check_data())\n",
    "    source = PointSource('3C 279'); \n",
    "    print(source)\n",
    "    wtl = WtLike(source, exp_min=50)"
   ]
  },
  {
   "cell_type": "markdown",
   "id": "brutal-estonia",
   "metadata": {},
   "source": [
    "If the data for this source has not been accessed on this machine before, it must be extracted to a cache, a process that takes some 10 min. Otherwise it is a few seconds to retrieve the cache.\n",
    "\n",
    "Generate the (default weekly) light curve:"
   ]
  },
  {
   "cell_type": "code",
   "execution_count": null,
   "id": "activated-brazilian",
   "metadata": {},
   "outputs": [
    {
     "data": {
      "image/png": "[encoded data removed]",
      "text/plain": [
       "<Figure size 864x288 with 1 Axes>"
      ]
     },
     "metadata": {},
     "output_type": "display_data"
    }
   ],
   "source": [
    "if config.valid: wtl.plot(log=True, UTC=True);"
   ]
  },
  {
   "cell_type": "code",
   "execution_count": null,
   "id": "eaa64cdf-88cb-4d8f-8957-9914d1d61147",
   "metadata": {},
   "outputs": [],
   "source": []
  }
 ],
 "metadata": {
  "kernelspec": {
   "display_name": "Python 3 (ipykernel)",
   "language": "python",
   "name": "python3"
  }
 },
 "nbformat": 4,
 "nbformat_minor": 5
}
