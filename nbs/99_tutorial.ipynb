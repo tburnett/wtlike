{
 "cells": [
  {
   "cell_type": "code",
   "execution_count": null,
   "id": "normal-lafayette",
   "metadata": {
    "tags": []
   },
   "outputs": [],
   "source": [
    "from wtlike import *"
   ]
  },
  {
   "cell_type": "markdown",
   "id": "alleged-football",
   "metadata": {},
   "source": [
    "# wtlike tutorial\n",
    "\n",
    "> A step by step guide"
   ]
  },
  {
   "cell_type": "markdown",
   "id": "familiar-leadership",
   "metadata": {},
   "source": [
    "### Install `wtlike`"
   ]
  },
  {
   "cell_type": "markdown",
   "id": "coated-madonna",
   "metadata": {},
   "source": [
    "This assumes that you already have a Jupyter Notebook Server configured on your machine. \n",
    "\n",
    "`wtlike` is on PyPI\n",
    "\n",
    "```\n",
    "pip install wtlike\n",
    "```\n",
    "We use a simulated on-the-fly dataset in lieu of downloading the 2-GB file with all of fermi data."
   ]
  },
  {
   "cell_type": "markdown",
   "id": "individual-decision",
   "metadata": {},
   "source": [
    "### Define a source flux function. \n",
    "Note that we measure time in day units, and will pick a 30-day interval for this demo.\n",
    "\n",
    "The following function has a flare at 15 days."
   ]
  },
  {
   "cell_type": "code",
   "execution_count": null,
   "id": "exempt-elevation",
   "metadata": {},
   "outputs": [],
   "source": [
    "def src_flare(t, tzero=15, width=1, amp=5):\n",
    "    return 1e-6*(1 + amp*np.exp(-(t-tzero)**2/2/width))"
   ]
  },
  {
   "cell_type": "markdown",
   "id": "embedded-peoples",
   "metadata": {},
   "source": [
    "We use it to tell the simulation that the flux has this behavior. Note defaults:\n",
    "\n",
    "- background -- 1e-6 /s\n",
    "- exposure rate -- 3000 cm^2 \n",
    "\n",
    "Here we create a `Simulation` object, then pass it to the primary wtlike entry point, the class `WtLike`.\n",
    "We tell it to immediately bin the photons into daily time-bins, called \"cells\". (That can be easily redone.)"
   ]
  },
  {
   "cell_type": "code",
   "execution_count": null,
   "id": "prospective-computer",
   "metadata": {},
   "outputs": [
    {
     "name": "stdout",
     "output_type": "stream",
     "text": [
      "generated 18604 photons\n",
      "WtLike: Source flare_sim with:\n",
      "\t data:        18,604 simulated photons over 30.0 days.\n",
      "\t exposure:     8,640 intervals,  average rate 3000 cm^2 for 2.6 Ms\n",
      "\t rates:  source 1.41e-06/s, background 9.81e-07/s, S/N ratio 1.44\n",
      "CellData: Bin photon data into 30 1-day bins from 0.0 to 30.0\n",
      "LightCurve: select 30 cells for fitting with e>10 & n>2\n"
     ]
    }
   ],
   "source": [
    "test_sim = Simulation('flare_sim', src_rate=src_flare, tstart=0, tstop=30, )\n",
    "daily = WtLike(test_sim, time_bins=(0,0,1))"
   ]
  },
  {
   "cell_type": "markdown",
   "id": "careful-groove",
   "metadata": {},
   "source": [
    "Now make a light curve!"
   ]
  },
  {
   "cell_type": "code",
   "execution_count": null,
   "id": "published-insulation",
   "metadata": {},
   "outputs": [
    {
     "data": {
      "image/png": "[encoded data removed]",
      "text/plain": [
       "<Figure size 864x288 with 1 Axes>"
      ]
     },
     "metadata": {},
     "output_type": "display_data"
    }
   ],
   "source": [
    "daily.plot();"
   ]
  },
  {
   "cell_type": "markdown",
   "id": "ignored-inquiry",
   "metadata": {},
   "source": [
    "The cells have each been analyzed to create a likelihood function representation. The first few cells are:"
   ]
  },
  {
   "cell_type": "code",
   "execution_count": null,
   "id": "enormous-final",
   "metadata": {},
   "outputs": [
    {
     "data": {
      "text/html": [
       "<div>\n",
       "<style scoped>\n",
       "    .dataframe tbody tr th:only-of-type {\n",
       "        vertical-align: middle;\n",
       "    }\n",
       "\n",
       "    .dataframe tbody tr th {\n",
       "        vertical-align: top;\n",
       "    }\n",
       "\n",
       "    .dataframe thead th {\n",
       "        text-align: right;\n",
       "    }\n",
       "</style>\n",
       "<table border=\"1\" class=\"dataframe\">\n",
       "  <thead>\n",
       "    <tr style=\"text-align: right;\">\n",
       "      <th></th>\n",
       "      <th>t</th>\n",
       "      <th>tw</th>\n",
       "      <th>e</th>\n",
       "      <th>n</th>\n",
       "      <th>w</th>\n",
       "      <th>S</th>\n",
       "      <th>B</th>\n",
       "    </tr>\n",
       "  </thead>\n",
       "  <tbody>\n",
       "    <tr>\n",
       "      <th>0</th>\n",
       "      <td>0.5</td>\n",
       "      <td>1.0</td>\n",
       "      <td>258.3</td>\n",
       "      <td>533</td>\n",
       "      <td>[0.8600564, 0.0008748392, 0.049881596, 0.78389...</td>\n",
       "      <td>364.47</td>\n",
       "      <td>253.51</td>\n",
       "    </tr>\n",
       "    <tr>\n",
       "      <th>1</th>\n",
       "      <td>1.5</td>\n",
       "      <td>1.0</td>\n",
       "      <td>259.2</td>\n",
       "      <td>519</td>\n",
       "      <td>[0.9054082, 0.26183724, 0.82155627, 0.89147604...</td>\n",
       "      <td>365.74</td>\n",
       "      <td>254.40</td>\n",
       "    </tr>\n",
       "  </tbody>\n",
       "</table>\n",
       "</div>"
      ],
      "text/plain": [
       "     t   tw      e    n                                                  w  \\\n",
       "0  0.5  1.0  258.3  533  [0.8600564, 0.0008748392, 0.049881596, 0.78389...   \n",
       "1  1.5  1.0  259.2  519  [0.9054082, 0.26183724, 0.82155627, 0.89147604...   \n",
       "\n",
       "        S       B  \n",
       "0  364.47  253.51  \n",
       "1  365.74  254.40  "
      ]
     },
     "execution_count": null,
     "metadata": {},
     "output_type": "execute_result"
    }
   ],
   "source": [
    "daily.cells.head(2)"
   ]
  },
  {
   "cell_type": "markdown",
   "id": "express-trademark",
   "metadata": {},
   "source": [
    "The Kerr likelihood function for a cell is a function of $w$, the list of weights, and $S$, an estimate for the total signal counts in the cell\n",
    "\n",
    "$$ \\displaystyle\\log\\mathcal{L}(\\alpha\\ |\\ w)\\ = \\sum_{w}  \\log \\big( 1 + \\alpha\\ w \\big) - \\alpha\\ S  $$\n",
    "\n",
    "where $\\alpha$ is the varation from the nominal zero. The background is assumed to be constant here, as it usually is the region surrounding sources of interest. \n",
    "The relative flux is $1+\\alpha$. \n",
    "\n",
    "We generate an approximate representation of this function by fitting it to a 3-parameter Poisson-like function, which easily provides the values of interest."
   ]
  },
  {
   "cell_type": "code",
   "execution_count": null,
   "id": "greatest-massachusetts",
   "metadata": {},
   "outputs": [
    {
     "data": {
      "text/html": [
       "<div>\n",
       "<style scoped>\n",
       "    .dataframe tbody tr th:only-of-type {\n",
       "        vertical-align: middle;\n",
       "    }\n",
       "\n",
       "    .dataframe tbody tr th {\n",
       "        vertical-align: top;\n",
       "    }\n",
       "\n",
       "    .dataframe thead th {\n",
       "        text-align: right;\n",
       "    }\n",
       "</style>\n",
       "<table border=\"1\" class=\"dataframe\">\n",
       "  <thead>\n",
       "    <tr style=\"text-align: right;\">\n",
       "      <th></th>\n",
       "      <th>t</th>\n",
       "      <th>tw</th>\n",
       "      <th>n</th>\n",
       "      <th>ts</th>\n",
       "      <th>flux</th>\n",
       "      <th>errors</th>\n",
       "      <th>limit</th>\n",
       "    </tr>\n",
       "  </thead>\n",
       "  <tbody>\n",
       "    <tr>\n",
       "      <th>0</th>\n",
       "      <td>0.5</td>\n",
       "      <td>1.0</td>\n",
       "      <td>533</td>\n",
       "      <td>398.6</td>\n",
       "      <td>0.65</td>\n",
       "      <td>(-0.05, 0.051)</td>\n",
       "      <td>0.73</td>\n",
       "    </tr>\n",
       "    <tr>\n",
       "      <th>1</th>\n",
       "      <td>1.5</td>\n",
       "      <td>1.0</td>\n",
       "      <td>519</td>\n",
       "      <td>364.2</td>\n",
       "      <td>0.60</td>\n",
       "      <td>(-0.048, 0.05)</td>\n",
       "      <td>0.69</td>\n",
       "    </tr>\n",
       "  </tbody>\n",
       "</table>\n",
       "</div>"
      ],
      "text/plain": [
       "     t   tw    n     ts  flux          errors  limit\n",
       "0  0.5  1.0  533  398.6  0.65  (-0.05, 0.051)   0.73\n",
       "1  1.5  1.0  519  364.2  0.60  (-0.048, 0.05)   0.69"
      ]
     },
     "execution_count": null,
     "metadata": {},
     "output_type": "execute_result"
    }
   ],
   "source": [
    "daily.fluxes.head(2)"
   ]
  },
  {
   "cell_type": "markdown",
   "id": "ranking-absence",
   "metadata": {},
   "source": [
    "Note that the properties `photons`, `exposure`, `cells`, `fits`, and `fluxes` are [DataFrames](https://pandas.pydata.org/pandas-docs/stable/reference/api/pandas.DataFrame.html). So we can find a fit at the peak with a `query`."
   ]
  },
  {
   "cell_type": "code",
   "execution_count": null,
   "id": "checked-arrest",
   "metadata": {},
   "outputs": [
    {
     "data": {
      "text/html": [
       "<div>\n",
       "<style scoped>\n",
       "    .dataframe tbody tr th:only-of-type {\n",
       "        vertical-align: middle;\n",
       "    }\n",
       "\n",
       "    .dataframe tbody tr th {\n",
       "        vertical-align: top;\n",
       "    }\n",
       "\n",
       "    .dataframe thead th {\n",
       "        text-align: right;\n",
       "    }\n",
       "</style>\n",
       "<table border=\"1\" class=\"dataframe\">\n",
       "  <thead>\n",
       "    <tr style=\"text-align: right;\">\n",
       "      <th></th>\n",
       "      <th>t</th>\n",
       "      <th>tw</th>\n",
       "      <th>n</th>\n",
       "      <th>ts</th>\n",
       "      <th>flux</th>\n",
       "      <th>errors</th>\n",
       "      <th>limit</th>\n",
       "    </tr>\n",
       "  </thead>\n",
       "  <tbody>\n",
       "    <tr>\n",
       "      <th>14</th>\n",
       "      <td>14.5</td>\n",
       "      <td>1.0</td>\n",
       "      <td>1622</td>\n",
       "      <td>9667.7</td>\n",
       "      <td>3.95</td>\n",
       "      <td>(-0.105, 0.107)</td>\n",
       "      <td>4.12</td>\n",
       "    </tr>\n",
       "    <tr>\n",
       "      <th>15</th>\n",
       "      <td>15.5</td>\n",
       "      <td>1.0</td>\n",
       "      <td>1607</td>\n",
       "      <td>9728.0</td>\n",
       "      <td>3.97</td>\n",
       "      <td>(-0.105, 0.107)</td>\n",
       "      <td>4.15</td>\n",
       "    </tr>\n",
       "  </tbody>\n",
       "</table>\n",
       "</div>"
      ],
      "text/plain": [
       "       t   tw     n      ts  flux           errors  limit\n",
       "14  14.5  1.0  1622  9667.7  3.95  (-0.105, 0.107)   4.12\n",
       "15  15.5  1.0  1607  9728.0  3.97  (-0.105, 0.107)   4.15"
      ]
     },
     "execution_count": null,
     "metadata": {},
     "output_type": "execute_result"
    }
   ],
   "source": [
    "daily.fluxes.query('flux>3')"
   ]
  },
  {
   "cell_type": "markdown",
   "id": "sharp-mayor",
   "metadata": {},
   "source": [
    "## Views\n",
    "A `WtLike` object provides a function `view`, which returns a **new** instance with a different binning. \n",
    "So if we want a detailed look at the flare, we can choose an interval as so:"
   ]
  },
  {
   "cell_type": "code",
   "execution_count": null,
   "id": "elegant-consistency",
   "metadata": {},
   "outputs": [
    {
     "name": "stdout",
     "output_type": "stream",
     "text": [
      "CellData: Bin photon data into 40 6-hour bins from 10.0 to 20.0\n",
      "LightCurve: select 40 cells for fitting with e>10 & n>2\n"
     ]
    },
    {
     "data": {
      "image/png": "[encoded data removed]",
      "text/plain": [
       "<Figure size 864x288 with 1 Axes>"
      ]
     },
     "metadata": {},
     "output_type": "display_data"
    }
   ],
   "source": [
    "qday = daily.view((10,-10, 0.25))\n",
    "qday.plot();"
   ]
  },
  {
   "cell_type": "markdown",
   "id": "apparent-crazy",
   "metadata": {},
   "source": [
    "### Bayesian-Block view\n",
    "The WtLike object also has a special `bb_view` function, which does a Bayesian Block analysis and returns a view of it. "
   ]
  },
  {
   "cell_type": "code",
   "execution_count": null,
   "id": "compliant-tourism",
   "metadata": {},
   "outputs": [
    {
     "name": "stdout",
     "output_type": "stream",
     "text": [
      "LightCurve: select 40 cells for fitting with e>10 & n>2\n",
      "Partitioned 40 cells into 10 blocks, using LikelihoodFitness \n",
      "LightCurve: Loaded 10 / 10 cells for fitting\n"
     ]
    },
    {
     "data": {
      "image/png": "[encoded data removed]",
      "text/plain": [
       "<Figure size 864x288 with 1 Axes>"
      ]
     },
     "metadata": {},
     "output_type": "display_data"
    }
   ],
   "source": [
    "bb = qday.bb_view();bb.plot();"
   ]
  },
  {
   "cell_type": "markdown",
   "id": "together-auckland",
   "metadata": {},
   "source": [
    "This creates variable-sized cells corresponding to the Bayesian Block analysis, the fits for which are shown here:"
   ]
  },
  {
   "cell_type": "code",
   "execution_count": null,
   "id": "convinced-valuation",
   "metadata": {},
   "outputs": [
    {
     "data": {
      "text/html": [
       "<div>\n",
       "<style scoped>\n",
       "    .dataframe tbody tr th:only-of-type {\n",
       "        vertical-align: middle;\n",
       "    }\n",
       "\n",
       "    .dataframe tbody tr th {\n",
       "        vertical-align: top;\n",
       "    }\n",
       "\n",
       "    .dataframe thead th {\n",
       "        text-align: right;\n",
       "    }\n",
       "</style>\n",
       "<table border=\"1\" class=\"dataframe\">\n",
       "  <thead>\n",
       "    <tr style=\"text-align: right;\">\n",
       "      <th></th>\n",
       "      <th>t</th>\n",
       "      <th>tw</th>\n",
       "      <th>n</th>\n",
       "      <th>ts</th>\n",
       "      <th>flux</th>\n",
       "      <th>errors</th>\n",
       "      <th>limit</th>\n",
       "    </tr>\n",
       "  </thead>\n",
       "  <tbody>\n",
       "    <tr>\n",
       "      <th>0</th>\n",
       "      <td>11.25</td>\n",
       "      <td>2.50</td>\n",
       "      <td>1297</td>\n",
       "      <td>1034.9</td>\n",
       "      <td>0.66</td>\n",
       "      <td>(-0.032, 0.032)</td>\n",
       "      <td>0.71</td>\n",
       "    </tr>\n",
       "    <tr>\n",
       "      <th>1</th>\n",
       "      <td>12.75</td>\n",
       "      <td>0.50</td>\n",
       "      <td>309</td>\n",
       "      <td>474.2</td>\n",
       "      <td>1.00</td>\n",
       "      <td>(-0.08, 0.084)</td>\n",
       "      <td>1.14</td>\n",
       "    </tr>\n",
       "    <tr>\n",
       "      <th>2</th>\n",
       "      <td>13.25</td>\n",
       "      <td>0.50</td>\n",
       "      <td>410</td>\n",
       "      <td>1133.4</td>\n",
       "      <td>1.66</td>\n",
       "      <td>(-0.099, 0.103)</td>\n",
       "      <td>1.83</td>\n",
       "    </tr>\n",
       "    <tr>\n",
       "      <th>3</th>\n",
       "      <td>13.75</td>\n",
       "      <td>0.50</td>\n",
       "      <td>546</td>\n",
       "      <td>2199.5</td>\n",
       "      <td>2.43</td>\n",
       "      <td>(-0.118, 0.122)</td>\n",
       "      <td>2.64</td>\n",
       "    </tr>\n",
       "    <tr>\n",
       "      <th>4</th>\n",
       "      <td>14.25</td>\n",
       "      <td>0.50</td>\n",
       "      <td>751</td>\n",
       "      <td>4189.5</td>\n",
       "      <td>3.59</td>\n",
       "      <td>(-0.141, 0.145)</td>\n",
       "      <td>3.83</td>\n",
       "    </tr>\n",
       "    <tr>\n",
       "      <th>5</th>\n",
       "      <td>15.12</td>\n",
       "      <td>1.25</td>\n",
       "      <td>2123</td>\n",
       "      <td>13304.8</td>\n",
       "      <td>4.22</td>\n",
       "      <td>(-0.097, 0.098)</td>\n",
       "      <td>4.38</td>\n",
       "    </tr>\n",
       "    <tr>\n",
       "      <th>6</th>\n",
       "      <td>16.00</td>\n",
       "      <td>0.50</td>\n",
       "      <td>673</td>\n",
       "      <td>3374.5</td>\n",
       "      <td>3.16</td>\n",
       "      <td>(-0.133, 0.137)</td>\n",
       "      <td>3.39</td>\n",
       "    </tr>\n",
       "    <tr>\n",
       "      <th>7</th>\n",
       "      <td>16.50</td>\n",
       "      <td>0.50</td>\n",
       "      <td>452</td>\n",
       "      <td>1536.9</td>\n",
       "      <td>1.92</td>\n",
       "      <td>(-0.106, 0.109)</td>\n",
       "      <td>2.11</td>\n",
       "    </tr>\n",
       "    <tr>\n",
       "      <th>8</th>\n",
       "      <td>17.12</td>\n",
       "      <td>0.75</td>\n",
       "      <td>507</td>\n",
       "      <td>977.6</td>\n",
       "      <td>1.20</td>\n",
       "      <td>(-0.071, 0.073)</td>\n",
       "      <td>1.32</td>\n",
       "    </tr>\n",
       "    <tr>\n",
       "      <th>9</th>\n",
       "      <td>18.75</td>\n",
       "      <td>2.50</td>\n",
       "      <td>1254</td>\n",
       "      <td>972.5</td>\n",
       "      <td>0.62</td>\n",
       "      <td>(-0.031, 0.031)</td>\n",
       "      <td>0.67</td>\n",
       "    </tr>\n",
       "  </tbody>\n",
       "</table>\n",
       "</div>"
      ],
      "text/plain": [
       "       t    tw     n       ts  flux           errors  limit\n",
       "0  11.25  2.50  1297   1034.9  0.66  (-0.032, 0.032)   0.71\n",
       "1  12.75  0.50   309    474.2  1.00   (-0.08, 0.084)   1.14\n",
       "2  13.25  0.50   410   1133.4  1.66  (-0.099, 0.103)   1.83\n",
       "3  13.75  0.50   546   2199.5  2.43  (-0.118, 0.122)   2.64\n",
       "4  14.25  0.50   751   4189.5  3.59  (-0.141, 0.145)   3.83\n",
       "5  15.12  1.25  2123  13304.8  4.22  (-0.097, 0.098)   4.38\n",
       "6  16.00  0.50   673   3374.5  3.16  (-0.133, 0.137)   3.39\n",
       "7  16.50  0.50   452   1536.9  1.92  (-0.106, 0.109)   2.11\n",
       "8  17.12  0.75   507    977.6  1.20  (-0.071, 0.073)   1.32\n",
       "9  18.75  2.50  1254    972.5  0.62  (-0.031, 0.031)   0.67"
      ]
     },
     "execution_count": null,
     "metadata": {},
     "output_type": "execute_result"
    }
   ],
   "source": [
    "bb.fluxes"
   ]
  },
  {
   "cell_type": "markdown",
   "id": "intense-license",
   "metadata": {},
   "source": [
    "### Getting help\n",
    "This jupyterlab environment allows easy exploration of help for any class or function.\n",
    "The two classes so far:"
   ]
  },
  {
   "cell_type": "code",
   "execution_count": null,
   "id": "according-telling",
   "metadata": {},
   "outputs": [
    {
     "data": {
      "text/plain": [
       "\u001b[0;31mInit signature:\u001b[0m\n",
       "\u001b[0mSimulation\u001b[0m\u001b[0;34m(\u001b[0m\u001b[0;34m\u001b[0m\n",
       "\u001b[0;34m\u001b[0m    \u001b[0mname\u001b[0m\u001b[0;34m,\u001b[0m\u001b[0;34m\u001b[0m\n",
       "\u001b[0;34m\u001b[0m    \u001b[0msrc_rate\u001b[0m\u001b[0;34m,\u001b[0m\u001b[0;34m\u001b[0m\n",
       "\u001b[0;34m\u001b[0m    \u001b[0mtstart\u001b[0m\u001b[0;34m,\u001b[0m\u001b[0;34m\u001b[0m\n",
       "\u001b[0;34m\u001b[0m    \u001b[0mtstop\u001b[0m\u001b[0;34m,\u001b[0m\u001b[0;34m\u001b[0m\n",
       "\u001b[0;34m\u001b[0m    \u001b[0mbkg_rate\u001b[0m\u001b[0;34m=\u001b[0m\u001b[0;36m1e-06\u001b[0m\u001b[0;34m,\u001b[0m\u001b[0;34m\u001b[0m\n",
       "\u001b[0;34m\u001b[0m    \u001b[0mefun\u001b[0m\u001b[0;34m=\u001b[0m\u001b[0;36m3000\u001b[0m\u001b[0;34m,\u001b[0m\u001b[0;34m\u001b[0m\n",
       "\u001b[0;34m\u001b[0m    \u001b[0mwt_signif\u001b[0m\u001b[0;34m=\u001b[0m\u001b[0;36m0.1\u001b[0m\u001b[0;34m,\u001b[0m\u001b[0;34m\u001b[0m\n",
       "\u001b[0;34m\u001b[0m\u001b[0;34m)\u001b[0m\u001b[0;34m\u001b[0m\u001b[0;34m\u001b[0m\u001b[0m\n",
       "\u001b[0;31mDocstring:\u001b[0m      <no docstring>\n",
       "\u001b[0;31mInit docstring:\u001b[0m\n",
       "- src_rate : source flux, scalar or function of days, typically around 1e-7\n",
       "- tstart, tstop :(days)\n",
       "- bkg_rate : background flux, scalar or function of day, typicaly 1e-6 for 4-deg cone\n",
       "- efun : scalar, function (of time in days) of the exposure/s. Typically 3000 cm^2 for fermi\n",
       "\n",
       "- wt_signif : now the width of the PSF in (r/rmax)**2 coordinates\n",
       "\u001b[0;31mFile:\u001b[0m           /mnt/c/users/thbur/OneDrive/work/wtlike/wtlike/simulation.py\n",
       "\u001b[0;31mType:\u001b[0m           type\n",
       "\u001b[0;31mSubclasses:\u001b[0m     \n"
      ]
     },
     "metadata": {},
     "output_type": "display_data"
    }
   ],
   "source": [
    "Simulation = Simulation\n",
    "Simulation?"
   ]
  },
  {
   "cell_type": "code",
   "execution_count": null,
   "id": "signed-powell",
   "metadata": {},
   "outputs": [
    {
     "data": {
      "text/plain": [
       "\u001b[0;31mInit signature:\u001b[0m \u001b[0mWtLike\u001b[0m\u001b[0;34m(\u001b[0m\u001b[0;34m*\u001b[0m\u001b[0mpars\u001b[0m\u001b[0;34m,\u001b[0m \u001b[0;34m**\u001b[0m\u001b[0mkwargs\u001b[0m\u001b[0;34m)\u001b[0m\u001b[0;34m\u001b[0m\u001b[0;34m\u001b[0m\u001b[0m\n",
       "\u001b[0;31mDocstring:\u001b[0m     \n",
       "Summary\n",
       "---------\n",
       "There are three layers of initialization, implemented in superclasses,\n",
       "each with parameters. The classnames, associated parameters and data members set:\n",
       "\n",
       "SourceData -- load photons and exposure\n",
       "    parameters:\n",
       "      - source : name, a PointSource object, or a Simulation object\n",
       "      - config [Config()] : basic configuration\n",
       "      - week_range [None] : range of weeks to load\n",
       "      - key [''] : the cache key: '' means construct one with the source name, None to disable\n",
       "      - clear [False] : if using cache, clear the contents first\n",
       "    sets:\n",
       "      - photons\n",
       "      - exposure\n",
       "\n",
       "CellData -- create cells\n",
       "    parameters:\n",
       "      - time_bins [Config().time_bins] : binning: start, stop, binsize\n",
       "    sets:\n",
       "      - cells\n",
       "\n",
       "LightCurve -- likelihood analysis of the cells\n",
       "    parameters:\n",
       "      - e_min [10] -- threshold for exposure (cm^2 units)\n",
       "      - n_min [2]  -- likelihood has trouble with this few\n",
       "      - lc_key [None] -- possible cache for light curve\n",
       "    sets:\n",
       "      - fits, fluxes\n",
       "\n",
       "WtLike (this class) -- no parameters (may add BB-specific ones)\n",
       "    Implements:  bb_view, plot_BB\n",
       "    sets:\n",
       "      - bb_flux  (only if bb_view invoked)\n",
       "\u001b[0;31mInit docstring:\u001b[0m         \n",
       "\u001b[0;31mFile:\u001b[0m           /mnt/c/users/thbur/OneDrive/work/wtlike/wtlike/main.py\n",
       "\u001b[0;31mType:\u001b[0m           type\n",
       "\u001b[0;31mSubclasses:\u001b[0m     \n"
      ]
     },
     "metadata": {},
     "output_type": "display_data"
    }
   ],
   "source": [
    "WtLike?"
   ]
  },
  {
   "cell_type": "markdown",
   "id": "subsequent-mercury",
   "metadata": {},
   "source": [
    "The three WtLike methods have (preliminary) help as well:"
   ]
  },
  {
   "cell_type": "code",
   "execution_count": null,
   "id": "korean-growing",
   "metadata": {},
   "outputs": [
    {
     "data": {
      "text/plain": [
       "\u001b[0;31mSignature:\u001b[0m \u001b[0mWtLike\u001b[0m\u001b[0;34m.\u001b[0m\u001b[0mplot\u001b[0m\u001b[0;34m(\u001b[0m\u001b[0mself\u001b[0m\u001b[0;34m,\u001b[0m \u001b[0;34m*\u001b[0m\u001b[0mpars\u001b[0m\u001b[0;34m,\u001b[0m \u001b[0;34m**\u001b[0m\u001b[0mkwargs\u001b[0m\u001b[0;34m)\u001b[0m\u001b[0;34m\u001b[0m\u001b[0;34m\u001b[0m\u001b[0m\n",
       "\u001b[0;31mDocstring:\u001b[0m Make a light curve plot\n",
       "\u001b[0;31mFile:\u001b[0m      /mnt/c/users/thbur/OneDrive/work/wtlike/wtlike/main.py\n",
       "\u001b[0;31mType:\u001b[0m      function\n"
      ]
     },
     "metadata": {},
     "output_type": "display_data"
    }
   ],
   "source": [
    "WtLike.plot?"
   ]
  },
  {
   "cell_type": "code",
   "execution_count": null,
   "id": "narrative-strap",
   "metadata": {},
   "outputs": [
    {
     "data": {
      "text/plain": [
       "\u001b[0;31mSignature:\u001b[0m \u001b[0mWtLike\u001b[0m\u001b[0;34m.\u001b[0m\u001b[0mview\u001b[0m\u001b[0;34m(\u001b[0m\u001b[0mself\u001b[0m\u001b[0;34m,\u001b[0m \u001b[0mnewbins\u001b[0m\u001b[0;34m=\u001b[0m\u001b[0;32mNone\u001b[0m\u001b[0;34m)\u001b[0m\u001b[0;34m\u001b[0m\u001b[0;34m\u001b[0m\u001b[0m\n",
       "\u001b[0;31mDocstring:\u001b[0m\n",
       "Return a \"view\": a new instance of this class with a perhaps a different set of cells\n",
       "\n",
       "- newbins -- a tuple (start, stop, step) to define new binning.\n",
       "  - start and stop are either MJD values, or offsets from the start or stop.\n",
       "  - step -- the cell size in days, or if zero, orbit-based binning\n",
       "\u001b[0;31mFile:\u001b[0m      /mnt/c/users/thbur/OneDrive/work/wtlike/wtlike/cell_data.py\n",
       "\u001b[0;31mType:\u001b[0m      function\n"
      ]
     },
     "metadata": {},
     "output_type": "display_data"
    }
   ],
   "source": [
    "WtLike.view?"
   ]
  },
  {
   "cell_type": "markdown",
   "id": "historical-insured",
   "metadata": {},
   "source": [
    "## Using *fermi* data.\n",
    "\n",
    "The only change from above is that one uses `PointSource` instead of `Simulation`. \n",
    "\n",
    "The data must be available, of course.\n",
    "So,"
   ]
  },
  {
   "cell_type": "code",
   "execution_count": null,
   "id": "fatty-question",
   "metadata": {},
   "outputs": [
    {
     "name": "stdout",
     "output_type": "stream",
     "text": [
      "Weekly folder \"/home/burnett/wtlike_data/data_files\" contains 666 weeks,  9 to 675, end at 2021-05-13\n"
     ]
    }
   ],
   "source": [
    "check_data()"
   ]
  },
  {
   "cell_type": "code",
   "execution_count": null,
   "id": "controlled-transport",
   "metadata": {},
   "outputs": [
    {
     "name": "stdout",
     "output_type": "stream",
     "text": [
      "\t*** 22 runs out of order: will need to sort.\n",
      "Saved to /home/burnett/wtlike_data/data_files/week_675.pkl\n"
     ]
    }
   ],
   "source": [
    "get_week(675)"
   ]
  },
  {
   "cell_type": "markdown",
   "id": "through-carrier",
   "metadata": {},
   "source": [
    "Get a source: this name can be anything recognized by `astropy.coordinates.SkyCoord`, including all 4FGL sources\n"
   ]
  },
  {
   "cell_type": "code",
   "execution_count": null,
   "id": "circular-genetics",
   "metadata": {},
   "outputs": [
    {
     "data": {
      "text/plain": [
       "Source \"3C 279\" at: (l,b)=(305.104,57.062)"
      ]
     },
     "execution_count": null,
     "metadata": {},
     "output_type": "execute_result"
    }
   ],
   "source": [
    "source = PointSource('3C 279'); source"
   ]
  },
  {
   "cell_type": "markdown",
   "id": "tribal-details",
   "metadata": {},
   "source": [
    "This requires access to a packaged form of the photon data, a table allowing generation of weights, and the effective area table.\n",
    "The source must have been analyzed with `gtlike` or `pointlike` to produce the weight table.\n",
    "All are available in a 2-GB zip file."
   ]
  },
  {
   "cell_type": "code",
   "execution_count": null,
   "id": "lyric-herald",
   "metadata": {},
   "outputs": [
    {
     "name": "stdout",
     "output_type": "stream",
     "text": [
      "SourceData: photons and exposure for 3C 279: Restoring from cache with key \"3C 279_data\"\n",
      "WtLike: Source 3C 279 with:\n",
      "\t data:       179,695 photons from 2008-08-04 to 2021-04-21\n",
      "\t exposure: 2,817,749 intervals,  average rate 2935 cm^2 for 84.1 Ms\n",
      "\t rates:  source 4.03e-07/s, background 3.25e-07/s, S/N ratio 1.24\n",
      "CellData: Bin photon data into 663 1-week bins from 54683.0 to 59324.0\n",
      "LightCurve: select 655 cells for fitting with e>10 & n>2\n"
     ]
    }
   ],
   "source": [
    "wtl = WtLike(source)"
   ]
  },
  {
   "cell_type": "markdown",
   "id": "preceding-physics",
   "metadata": {},
   "source": [
    "If the the data for this source has not been accessed on this machine before, it must be extracted to a cache, a process that takes some 10 min. Otherwise it is a few seconds to retrieve the cache.\n",
    "\n",
    "Generate the (default weekly) light curve:"
   ]
  },
  {
   "cell_type": "code",
   "execution_count": null,
   "id": "durable-special",
   "metadata": {},
   "outputs": [
    {
     "data": {
      "image/png": "[encoded data removed]",
      "text/plain": [
       "<Figure size 864x288 with 1 Axes>"
      ]
     },
     "metadata": {},
     "output_type": "display_data"
    }
   ],
   "source": [
    "wtl.plot(yscale='log');"
   ]
  },
  {
   "cell_type": "code",
   "execution_count": null,
   "id": "guilty-carry",
   "metadata": {},
   "outputs": [],
   "source": []
  }
 ],
 "metadata": {
  "kernelspec": {
   "display_name": "Python 3",
   "language": "python",
   "name": "python3"
  }
 },
 "nbformat": 4,
 "nbformat_minor": 5
}
