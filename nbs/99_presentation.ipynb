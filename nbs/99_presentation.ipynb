{
 "cells": [
  {
   "cell_type": "code",
   "execution_count": null,
   "id": "028ec058-6d6e-46ca-8aa2-8ed2ae0b36c4",
   "metadata": {
    "tags": []
   },
   "outputs": [],
   "source": [
    "#hide\n",
    "from wtlike import *\n",
    "from utilities.ipynb_docgen import *\n",
    "from utilities.timer import Timer\n",
    "plt.rc('font', size=14)\n",
    "plt.rc('savefig', pad_inches=0.2)\n",
    "\n",
    "from wtlike.data_man import update_recent\n",
    "clear = False #update_recent()"
   ]
  },
  {
   "cell_type": "markdown",
   "id": "a0b8aa51-a5d9-413f-88ca-7a9bc8d64025",
   "metadata": {
    "tags": []
   },
   "source": [
    "# wtlike Presentation\n",
    "\n",
    ">Prepared for presentation to the Fermi-LAT Autumn 2011 collaboration meeting, to follow a time-based weighted likelihood presentation by M. Kerr."
   ]
  },
  {
   "cell_type": "markdown",
   "id": "8a8032a5-6d48-4c5c-880a-9c934234018c",
   "metadata": {
    "tags": []
   },
   "source": [
    "## Introduction to wtlike\n",
    "This package, available on PyPI as \"wtlike\", and independent of any *Fermi* code, applies the \n",
    "[Kerr weighted likelihood](https://arxiv.org/pdf/1910.00140.pdf) to *Fermi* photon data.\n",
    "\n",
    "It, with its infrastruccture, is capable of\n",
    "* quickly, within 15 min, generating the full light curve for any source on any time scale.\n",
    "* evaluating variability\n",
    "* monitoring all sources for recent flares\n",
    "* detecting flares\n",
    "\n",
    "I start with the first capability, the only one fully developed so far, comparing with the Light Curve Repository (LCR)"
   ]
  },
  {
   "cell_type": "code",
   "execution_count": null,
   "id": "84ab6d03-25b4-4298-a094-00bcc7967896",
   "metadata": {},
   "outputs": [
    {
     "data": {
      "text/markdown": [
       "### The Light Curve Repository \"about\" example\n",
       "\n",
       "I'll use this strong, active source as an example for a simple comparison.\n",
       "Here is the 4FGL source 4FGL J0237.8+2848 (associated with 4C 28.07), as shown on its [\"about\" page](https://fermi.gsfc.nasa.gov/ssc/data/access/lat/LightCurveRepository/about.html)\n",
       "\n",
       "<figure style=\"margin-left: 5%\" title=\"Figure 1\">  <a href=\"images/lcr_about_fig_01.png\" title=\"images/lcr_about_fig_01.png\">    <img src=\"images/lcr_about_fig_01.png\" alt=\"Figure 1 at images/lcr_about_fig_01.png\" width=None>   </a> </figure>\n",
       "\n",
       "This shows 3-day bins through Sep 28 2020. \n"
      ],
      "text/plain": [
       "<utilities.ipynb_docgen.doc_formatter.<locals>.MimeBundleObject at 0x7ff67aade610>"
      ]
     },
     "metadata": {},
     "output_type": "display_data"
    }
   ],
   "source": [
    "# collapse-hide\n",
    "def lcr_about():\n",
    "    \"\"\"\n",
    "    ### The Light Curve Repository \"about\" example\n",
    "\n",
    "    I'll use this strong, active source as an example for a simple comparison.\n",
    "    Here is the 4FGL source 4FGL J0237.8+2848 (associated with 4C 28.07), as shown on its [\"about\" page](https://fermi.gsfc.nasa.gov/ssc/data/access/lat/LightCurveRepository/about.html)\n",
    "\n",
    "    {img}\n",
    "\n",
    "    This shows 3-day bins through Sep 28 2020. \n",
    "    \"\"\"\n",
    "    img=image('LCR_about_fig2.png', caption=None)\n",
    "    return locals()\n",
    "\n",
    "nbdoc(lcr_about)"
   ]
  },
  {
   "cell_type": "code",
   "execution_count": null,
   "id": "3e155b10-5695-4feb-a262-49636df7a581",
   "metadata": {
    "tags": []
   },
   "outputs": [
    {
     "data": {
      "text/markdown": [
       "This is wtlike version 0.3.9.\n",
       "\n",
       "### Set up the source\n",
       "\n",
       "The key code statement is \n",
       "```\n",
       "wtl = WtLike('4FGL J0237.8+2848', time_bins=(0,0,3))\n",
       "```\n",
       "\n",
       "This instantiates the class `WtLike`, specifying a source name, and 3-day (default is 7) time bins for the full data set.\n",
       "The name can be that of any source known to `astropy` which corresponds, to within $0.1^\\circ$, to a 4FGL source,\n",
       "*e.g.* 4C 28.07 in this case.\n",
       "Then\n",
       "`wtl.plot()` is all that is needed to make the plot. \n",
       "<details  class=\"nbdoc-description\" >  <summary> Loading data output </summary>  <div style=\"margin-left: 5%\"><pre>SourceData:  4FGL J0237.8+2848: Restoring from cache with key \"P88Y0643_data\"<br>SourceData: Source 4FGL J0237.8+2848 with:<br>\t data:       123,321 photons from 2008-08-04 to 2021-08-28<br>\t exposure: 3,194,310 intervals,  average effective area 2509 cm^2 for 95.5 Ms<br>\t rates:  source 1.43e-07/s, background 3.71e-07/s, S/N ratio 3.85e-01<br>CellData: Bin photon data into 1590 3-day bins from 54683.0 to 59453.0<br>LightCurve: select 1545 cells for fitting with e&gt;15 & n&gt;2<br>Elapsed time: 0.1 min<br></pre></div> </details>\n",
       "<figure style=\"margin-left: 5%\" title=\"Figure 1\">  <a href=\"images/lcr_about_example_fig_01.png\" title=\"images/lcr_about_example_fig_01.png\">    <img src=\"images/lcr_about_example_fig_01.png\" alt=\"Figure 1 at images/lcr_about_example_fig_01.png\" >   </a> </figure>\n",
       "\n",
       "### Apply Bayesian blocks \n",
       "To partion the 3-day cells using Bayesin Blocks needs another function member of the class `WtLike`. The \n",
       "statement `bb = bb_view()` runs the analsyis on the current 3-day binning, and returns a new instance of `WtLike`.\n",
       "This instance implements `bb_plot()`, to make an overlay showing the BB partitions, each with a new fit. \n",
       "<details  class=\"nbdoc-description\" >  <summary> Bayesian block analysis output </summary>  <div style=\"margin-left: 5%\"><pre>Bayesian Blocks: partitioning 1545 cells using LikelihoodFitness with penalty 5%<br>\tfound 80 / 1545 blocks.<br>LightCurve: Loaded 80 / 80 cells for fitting<br>Elapsed time: 1.1 min<br></pre></div> </details>\n",
       "<figure style=\"margin-left: 5%\" title=\"Figure 2\">  <a href=\"images/lcr_about_example_fig_02.png\" title=\"images/lcr_about_example_fig_02.png\">    <img src=\"images/lcr_about_example_fig_02.png\" alt=\"Figure 2 at images/lcr_about_example_fig_02.png\" >   </a> </figure>\n",
       "\n",
       "### Look at the last month, daily bins\n",
       "<details  class=\"nbdoc-description\" >  <summary> Rebining output </summary>  <div style=\"margin-left: 5%\"><pre>CellData: Bin photon data into 30 1-day bins from 59424.0 to 59454.0<br>LightCurve: select 30 cells for fitting with e&gt;5 & n&gt;2<br></pre></div> </details>\n",
       "<figure style=\"margin-left: 5%\" title=\"Figure 3\">  <a href=\"images/lcr_about_example_fig_03.png\" title=\"images/lcr_about_example_fig_03.png\">    <img src=\"images/lcr_about_example_fig_03.png\" alt=\"Figure 3 at images/lcr_about_example_fig_03.png\" >   </a> </figure>\n"
      ],
      "text/plain": [
       "<utilities.ipynb_docgen.doc_formatter.<locals>.MimeBundleObject at 0x7ff66f922610>"
      ]
     },
     "metadata": {},
     "output_type": "display_data"
    }
   ],
   "source": [
    "# collapse-hide\n",
    "def lcr_about_example():\n",
    "    \"\"\"\n",
    "    This is wtlike version {__version__}.\n",
    "    \n",
    "    ### Set up the source\n",
    "    \n",
    "    The key code statement is \n",
    "    ```\n",
    "    wtl = WtLike('4FGL J0237.8+2848', time_bins=(0,0,3))\n",
    "    ```\n",
    "    \n",
    "    This instantiates the class `WtLike`, specifying a source name, and 3-day (default is 7) time bins for the full data set.\n",
    "    The name can be that of any source known to `astropy` which corresponds, to within $0.1^\\circ$, to a 4FGL source,\n",
    "    *e.g.* 4C 28.07 in this case.\n",
    "    Then\n",
    "    `wtl.plot()` is all that is needed to make the plot. \n",
    "    {print1}\n",
    "    {fig1}\n",
    "    \n",
    "    ### Apply Bayesian blocks \n",
    "    To partion the 3-day cells using Bayesin Blocks needs another function member of the class `WtLike`. The \n",
    "    statement `bb = bb_view()` runs the analsyis on the current 3-day binning, and returns a new instance of `WtLike`.\n",
    "    This instance implements `bb_plot()`, to make an overlay showing the BB partitions, each with a new fit. \n",
    "    {print2}\n",
    "    {fig2}\n",
    "    \n",
    "    ### Look at the last month, daily bins\n",
    "    {print3}\n",
    "    {fig3}\n",
    "    \"\"\"\n",
    "    from wtlike import __version__\n",
    "    with capture('Loading data output') as print1:\n",
    "        with Timer() as t:\n",
    "            wtl = WtLike('4FGL J0237.8+2848', time_bins=(0,0,3))\n",
    "        print(f'Elapsed time: {t.elapsed/60:.1f} min')\n",
    "    fig1 = wtl.plot(UTC=True,figsize=(15,4), fignum=1)\n",
    "    \n",
    "    with capture('Bayesian block analysis output') as print2:\n",
    "        with Timer() as t:\n",
    "            bb = wtl.bb_view()\n",
    "        print(f'Elapsed time: {t.elapsed/60:.1f} min')\n",
    "    fig2= bb.plot(UTC=True,figsize=(15,4), fignum=2);\n",
    "    \n",
    "    with capture('Rebining output') as print3:\n",
    "        recent = wtl.view(-30,0,1)\n",
    "    fig3=recent.plot(tzero=round(wtl.stop), fignum=3);\n",
    "        \n",
    "    return locals()\n",
    "    \n",
    "nbdoc(lcr_about_example)\n",
    "        "
   ]
  },
  {
   "cell_type": "markdown",
   "id": "e7220898-3f16-4621-ae55-7c9cf1d47136",
   "metadata": {
    "tags": []
   },
   "source": [
    "### Differences \n",
    "There are some important extensions to the computation model Kerr implements in his `godot` package:\n",
    "* Weights and photon data are separate\n",
    "  * **godot**: Run the full gtlike analysis, including the diffuse and nearby sources for the ROI containing the source; then use this model for the full data set to calculate a weight for each photon based on its energy, position, and event type.\n",
    "  * **wtlike**: Perform the above using only the binned data, then save the weights in a table allowing lookup for individual photons at a later time, perhaps on data collected after the table creation. That is, the data can be,\n",
    "within a few minutes. brought up to the most recent GSFC release.\n",
    "* Photons and livetime info for any direction are taken from a compact version of the full FT1/FT2 set of files.<br>\n",
    "This makes the system very portable, with <3GB needed, with no need for the full `fermipy` package, and much faster to start a source, and especially to generate a new binning.\n",
    "\n",
    "* Using a Poisson-like representation of the likelihood.<br>\n",
    "It turns out that any likelihood evaluated with the Kerr formula, involving a lot of computation, can be safely approximated with a 3-parameter scaled Poisson function.\n",
    "\n",
    "* Exposure is calculated based on the energy and event type, rather than assuming a power-law.<br>\n",
    "For count flux measurements, which are dominated by the lowest energies, this does not matter much, but it allows measurement of energy dependence, a future enhancement.\n",
    "\n",
    "\n",
    "### The user interface\n",
    "`wtlike` is designed for, (but does not require) Jupyterlab notebooks, that is, to enhance interactivity. As this presentation \n",
    "shows, a basic light curve, can be done with a single line of code: \n",
    "```\n",
    "WtLike('4C 28.07').plot()\n",
    "```\n",
    "If the source in \n",
    "question is already in the cache managed by wtlike, requires 2s. Creating different *views*, with restricted time ranges or intervals, is simply done with the `view()` member function. Running a Bayesian Block analysis is performed with the function `bb_view()`. "
   ]
  },
  {
   "cell_type": "markdown",
   "id": "43b2e829-c670-4591-bbe5-bac33ad143e2",
   "metadata": {
    "tags": []
   },
   "source": [
    "## Caveats\n",
    "\n",
    "### Absolute fluxes?\n",
    "The weighted likelihood provides *relative* count flux values vs. time, relative to the average flux for the full time interval. However, the weights were determined by the 12-year DR3 dataset.\n",
    "\n",
    "### Nearby variable sources\n",
    "\n",
    "As pointed out in the LCR about page, there are \"15 other variable sources within a 12 deg radius\".\n",
    "Actually, another source has to be within a few degrees to have an impact. The Kerr scheme assumes that the background is constant, at most allowing for an overall rescaling which would not describe the effect of a nearby source. \n",
    "\n",
    "However, using the position-dependent weight tables of both sources, each initally determined assuming the other is constant, allows a straight-forward modification for overlapping pixels. That is a future\n",
    "project."
   ]
  },
  {
   "cell_type": "code",
   "execution_count": null,
   "id": "23d72d3d-c35c-4735-865a-035cf150eb39",
   "metadata": {
    "tags": []
   },
   "outputs": [],
   "source": []
  }
 ],
 "metadata": {
  "kernelspec": {
   "display_name": "Python 3",
   "language": "python",
   "name": "python3"
  }
 },
 "nbformat": 4,
 "nbformat_minor": 5
}
