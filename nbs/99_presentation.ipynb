{
 "cells": [
  {
   "cell_type": "code",
   "execution_count": null,
   "id": "028ec058-6d6e-46ca-8aa2-8ed2ae0b36c4",
   "metadata": {
    "tags": []
   },
   "outputs": [
    {
     "name": "stdout",
     "output_type": "stream",
     "text": [
      "Weekly folder \"/home/burnett/wtlike_data/data_files\" contains 682 weeks.\n",
      "\t Last week, # 691, has 4.562 days, ends at UTC 2021-08-30 14:50\n",
      "Downloading current last week 691 from GSFC ...\n",
      "Saved to /home/burnett/wtlike_data/data_files/week_691.pkl\n",
      "Weekly folder \"/home/burnett/wtlike_data/data_files\" contains 682 weeks.\n",
      "\t Last week, # 691, has 5.352 days, ends at UTC 2021-08-31 09:47\n"
     ]
    }
   ],
   "source": [
    "#hide\n",
    "from wtlike import *\n",
    "from utilities.ipynb_docgen import *\n",
    "from utilities.timer import Timer\n",
    "plt.rc('font', size=14)\n",
    "plt.rc('savefig', pad_inches=0.2)\n",
    "\n",
    "from wtlike.data_man import update_recent\n",
    "clear = False # update_recent()"
   ]
  },
  {
   "cell_type": "markdown",
   "id": "a0b8aa51-a5d9-413f-88ca-7a9bc8d64025",
   "metadata": {
    "tags": []
   },
   "source": [
    "# Presentation to the Fermi Collaboration\n",
    "\n",
    ">Prepared for presentation to the Fermi-LAT Autumn 2011 collaboration meeting, to follow a time-based weighted likelihood presentation by M. Kerr."
   ]
  },
  {
   "cell_type": "markdown",
   "id": "8a8032a5-6d48-4c5c-880a-9c934234018c",
   "metadata": {
    "tags": []
   },
   "source": [
    "## Introduction\n",
    "This package applies the \n",
    "[Kerr weighted likelihood](https://arxiv.org/pdf/1910.00140.pdf) to *Fermi* photon data. It is available on PyPI as \"wtlike\", is purely in python and independent of any *Fermi* code, \n",
    "\n",
    "I'd like to express appreciation to Kent Wood, for being a tester and providing many useful suggestions. \n",
    "\n",
    "#### Fast light curves \n",
    "It can quickly, within 15 min, generate the full light curve for any source on any time scale, optionaly performing a Bayesian Block analysis.\n",
    "\n",
    "Thus, as shown here, one can now:\n",
    "* Extend the Light Curve Repository\n",
    "    * Any time scale, down to hours, select individual flares with expanded scale\n",
    "    * Any source\n",
    "    * Easily update to use current data\n",
    "    \n",
    "#### Other Potential applications\n",
    "* Reproduce the entire LCR\n",
    "* Evaluate variability for all sources, using Bayesian Blocks\n",
    "* Periodically Monitor a set of sources for recent flaring activity\n",
    "* Detect and make light curves of unassociated flares from FAVA\n",
    "* Provide weighted photons for pulsar timing\n",
    "\n",
    "\n",
    "\n",
    "I now demonstrate how to reproduce and extend any source in the Light Curve Repository (LCR)"
   ]
  },
  {
   "cell_type": "code",
   "execution_count": null,
   "id": "84ab6d03-25b4-4298-a094-00bcc7967896",
   "metadata": {
    "tags": []
   },
   "outputs": [
    {
     "data": {
      "text/markdown": [
       "## The Light Curve Repository \"about\" example\n",
       "\n",
       "I'll use this strong, active source as an example for a simple comparison.\n",
       "Here is the 4FGL source 4FGL J0237.8+2848 (associated with 4C 28.07), as shown on the [LCR \"about\" page](https://fermi.gsfc.nasa.gov/ssc/data/access/lat/LightCurveRepository/about.html)\n",
       "\n",
       "<figure style=\"margin-left: 5%\" title=\"Figure 1\">  <a href=\"images/lcr_about_fig_01.png\" title=\"images/lcr_about_fig_01.png\">    <img src=\"images/lcr_about_fig_01.png\" alt=\"Figure 1 at images/lcr_about_fig_01.png\" width=600>   </a> </figure>\n",
       "\n",
       "This shows 3-day bins through Sep 28 2020. \n"
      ],
      "text/plain": [
       "<utilities.ipynb_docgen.doc_formatter.<locals>.MimeBundleObject at 0x7f297eed7e80>"
      ]
     },
     "metadata": {},
     "output_type": "display_data"
    }
   ],
   "source": [
    "# collapse-hide\n",
    "def lcr_about():\n",
    "    \"\"\"\n",
    "    ## The Light Curve Repository \"about\" example\n",
    "\n",
    "    I'll use this strong, active source as an example for a simple comparison.\n",
    "    Here is the 4FGL source 4FGL J0237.8+2848 (associated with 4C 28.07), as shown on the [LCR \"about\" page](https://fermi.gsfc.nasa.gov/ssc/data/access/lat/LightCurveRepository/about.html)\n",
    "\n",
    "    {img}\n",
    "\n",
    "    This shows 3-day bins through Sep 28 2020. \n",
    "    \"\"\"\n",
    "    img=image('LCR_about_fig2.png', caption=None, width=600)\n",
    "    return locals()\n",
    "\n",
    "nbdoc(lcr_about)"
   ]
  },
  {
   "cell_type": "code",
   "execution_count": null,
   "id": "3e155b10-5695-4feb-a262-49636df7a581",
   "metadata": {
    "tags": []
   },
   "outputs": [
    {
     "name": "stdout",
     "output_type": "stream",
     "text": [
      "CellData: Bin photon data into 30 1-day bins from 59427.0 to 59457.0\n",
      "LightCurve: select 30 cells for fitting with e>5 & n>2\n"
     ]
    },
    {
     "data": {
      "text/markdown": [
       "## Using wtlike \n",
       "<p style=\"text-align:right; \">(version 0.3.9.)</p>\n",
       "<p style=\"text-align:right;\">2021-08-31 06:39</p>\n",
       "\n",
       "### The result\n",
       "<figure style=\"margin-left: 5%\" title=\"Figure 1\">  <a href=\"images/lcr_about_example_fig_01.png\" title=\"images/lcr_about_example_fig_01.png\">    <img src=\"images/lcr_about_example_fig_01.png\" alt=\"Figure 1 at images/lcr_about_example_fig_01.png\" width=600>   </a> </figure>\n",
       "\n",
       "What did that take?\n",
       "#### Set up the source\n",
       "\n",
       "The only code, presumably in a Jupyterlab cell, needed to set up the source for plots is: \n",
       "\n",
       "```\n",
       "    from wtlike import *\n",
       "    wtl = WtLike('4FGL J0237.8+2848', time_bins=(0,0,3))\n",
       "```  \n",
       "\n",
       "<details  class=\"nbdoc-description\" >  <summary> output: Load data, create bins, fit each </summary>  <div style=\"margin-left: 5%\"><pre>SourceData:  4FGL J0237.8+2848: Saving to cache with key \"P88Y0643_data\"<br>LoadData: loading all 682 weekly files<br>..........................................................................................................................................................................................................................................................................................................................................................................................................................................................................................................................................................................................................................................................................................................<br>SourceData: Source 4FGL J0237.8+2848 with:<br>\t data:       123,420 photons from 2008-08-04 to 2021-08-31<br>\t exposure: 3,196,702 intervals,  average effective area 2509 cm^2 for 95.6 Ms<br>\t rates:  source 1.43e-07/s, background 3.71e-07/s, S/N ratio 3.85e-01<br>CellData: Bin photon data into 1591 3-day bins from 54683.0 to 59456.0<br>LightCurve: select 1546 cells for fitting with e&gt;15 & n&gt;2<br>Elapsed time: 8.8 min<br></pre></div> </details>\n",
       "\n",
       "This created an instance, or object `wtl`, of the class `WtLike`, specifying a source name, with 3-day (default is 7) time bins for the full data set.\n",
       "The name can be that of any source known to `astropy` which is closer than $0.1^\\circ$ to a 4FGL-DR3 or uw1216 source.\n",
       "Thus specifying instead the associated 4C 28.07 would have worked.\n",
       "#### ... and make the plot\n",
       "Then, instructing the object to plot itself with the statement\n",
       "\n",
       "```\n",
       "    wtl.plot()\n",
       "```\n",
       "\n",
       "generates the light curve plot. \n",
       "\n",
       "\n",
       "### Apply Bayesian blocks \n",
       "To partion the 3-day intervals, or cells, using Bayesian Blocks use another function member of the class `WtLike`. The \n",
       "statement \n",
       "\n",
       "```\n",
       "    bb = wtl.bb_view()\n",
       "    bb.plot()\n",
       "```\n",
       "\n",
       "returns a new *instance* of `WtLike`, using the current 3-day likelihood fits.\n",
       "This instance has a different `plot()`, which makes an overlay showing the BB partitions, each with a new fit. \n",
       "<details  class=\"nbdoc-description\" >  <summary> Bayesian block analysis output </summary>  <div style=\"margin-left: 5%\"><pre>Bayesian Blocks: partitioning 1546 cells using LikelihoodFitness with penalty 5%<br>\tfound 80 / 1546 blocks.<br>LightCurve: Loaded 80 / 80 cells for fitting<br>Elapsed time: 0.9 min<br></pre></div> </details>\n",
       "<figure style=\"margin-left: 5%\" title=\"Figure 2\">  <a href=\"images/lcr_about_example_fig_02.png\" title=\"images/lcr_about_example_fig_02.png\">    <img src=\"images/lcr_about_example_fig_02.png\" alt=\"Figure 2 at images/lcr_about_example_fig_02.png\" width=600>   </a> </figure>\n",
       "\n",
       "### Check that recent flare\n",
       "The flaring behavior at the end of the interval prompts exploration. We use the `view()` function to return another \n",
       "copy of the original `wtl`, but with different binning, and ask it to make a plot of the last 30 days, via\n",
       "\n",
       "```\n",
       "    recent = wtl.view(-30,0,1)\n",
       "    recent.plot()\n",
       "```\n",
       "\n",
       "<details  class=\"nbdoc-description\" >  <summary> Rebinned output </summary>  <div style=\"margin-left: 5%\"><pre>CellData: Bin photon data into 30 1-day bins from 59427.0 to 59457.0<br>LightCurve: select 30 cells for fitting with e&gt;5 & n&gt;2<br></pre></div> </details>\n",
       "<figure style=\"margin-left: 5%\" title=\"Figure 3\">  <a href=\"images/lcr_about_example_fig_03.png\" title=\"images/lcr_about_example_fig_03.png\">    <img src=\"images/lcr_about_example_fig_03.png\" alt=\"Figure 3 at images/lcr_about_example_fig_03.png\" width=600>   </a> </figure>\n"
      ],
      "text/plain": [
       "<utilities.ipynb_docgen.doc_formatter.<locals>.MimeBundleObject at 0x7f297ef3ff40>"
      ]
     },
     "metadata": {},
     "output_type": "display_data"
    }
   ],
   "source": [
    "# collapse-hide\n",
    "def lcr_about_example(fig_width=600):\n",
    "    \"\"\"\n",
    "    ## Using wtlike \n",
    "    <p style=\"text-align:right; \">(version {__version__}.)</p>\n",
    "    <p style=\"text-align:right;\">{date}</p>\n",
    "    \n",
    "    ### The result\n",
    "    {fig1}\n",
    "    \n",
    "    What did that take?\n",
    "    #### Set up the source ...\n",
    "    \n",
    "    The only code, presumably in a Jupyterlab cell, needed to set up the source for plots is: \n",
    "\n",
    "    ```\n",
    "        from wtlike import *\n",
    "        wtl = WtLike('4FGL J0237.8+2848', time_bins=(0,0,3))\n",
    "    ```  \n",
    "    \n",
    "    {print1}\n",
    "    \n",
    "    This created an instance, or object `wtl`, of the class `WtLike`, specifying a source name, with 3-day (default is 7) time bins for the full data set.\n",
    "    The name can be that of any source known to `astropy` which is closer than $0.1^\\circ$ to a 4FGL-DR3 or uw1216 source.\n",
    "    Thus specifying instead the associated 4C 28.07 would have worked.\n",
    "    #### ... and make the plot\n",
    "    Then, instructing the object to plot itself with the statement\n",
    "    \n",
    "    ```\n",
    "        wtl.plot()\n",
    "    ```\n",
    "    \n",
    "    generates the light curve plot shown above. \n",
    "  \n",
    "    \n",
    "    ### Apply Bayesian blocks \n",
    "    To partion the 3-day intervals, or cells, using Bayesian Blocks use another function member of the class `WtLike`. The \n",
    "    statements \n",
    "    \n",
    "    ```\n",
    "        bb = wtl.bb_view()\n",
    "        bb.plot()\n",
    "    ```\n",
    "    \n",
    "    define a new *instance* of `WtLike`, using the current 3-day likelihood fits.\n",
    "    This instance has a different `plot()`, which makes an overlay showing the BB partitions, each with a new fit. \n",
    "    {print2}\n",
    "    {fig2}\n",
    "    \n",
    "    ### Check that recent flare\n",
    "    The flaring behavior at the end of the interval prompts exploration. We use the `view()` function to return another \n",
    "    copy of the original `wtl`, but with different binning, and ask it to make a plot of the last 30 days, via\n",
    "    \n",
    "    ```\n",
    "        recent = wtl.view(-30,0,1)\n",
    "        recent.plot()\n",
    "    ```\n",
    "    \n",
    "    {print3}\n",
    "    {fig3}\n",
    "    \n",
    "    \"\"\"\n",
    "    from wtlike import __version__\n",
    "    with capture('output: Load data, create bins, fit each', open=False) as print1:\n",
    "        with Timer() as t:\n",
    "            wtl = WtLike('4FGL J0237.8+2848', time_bins=(0,0,3), clear=clear)\n",
    "        print(f'Elapsed time: {t.elapsed/60:.1f} min')\n",
    "    fig1 = figure(wtl.plot(UTC=True,figsize=(15,4), fignum=1), width=fig_width)\n",
    "    \n",
    "    with capture('Bayesian block analysis output', ) as print2:\n",
    "        with Timer() as t:\n",
    "            bb = wtl.bb_view()\n",
    "        print(f'Elapsed time: {t.elapsed/60:.1f} min')\n",
    "    fig2= figure(bb.plot(UTC=True,figsize=(15,4), fignum=2), width=fig_width);\n",
    "    \n",
    "    with capture('Rebinned output') as print3:\n",
    "        recent = wtl.view(-30,0,1)\n",
    "    fig3=figure(wtl.view(-30,0,1).plot(tzero=round(wtl.stop), fignum=3), width=fig_width);\n",
    "        \n",
    "    return locals()\n",
    "    \n",
    "nbdoc(lcr_about_example)\n",
    "        "
   ]
  },
  {
   "cell_type": "markdown",
   "id": "bdc5b0ab-3730-425c-b4f9-3bdc2042b8bc",
   "metadata": {},
   "source": [
    "#### So what else do you need?\n",
    "* Installed via `pip install wtlike`\n",
    "* created a file `~/.config/wtlike/config.yaml` like the one at `/nfs/farm/g/glast/burnett`\n",
    "* A link to, or a copy of the 3 GB at `/nfs/farm/g/glast/u/burnett/wtlike_data` "
   ]
  },
  {
   "cell_type": "code",
   "execution_count": null,
   "id": "e3e42ee2-4b62-4533-8fb1-bf8ee7582c2b",
   "metadata": {
    "tags": []
   },
   "outputs": [
    {
     "data": {
      "text/markdown": [
       "### wtlike data flow diagram\n",
       "<figure style=\"margin-left: 5%\" title=\"Figure 1\">  <a href=\"images/show_dataflow_fig_01.png\" title=\"images/show_dataflow_fig_01.png\">    <img src=\"images/show_dataflow_fig_01.png\" alt=\"Figure 1 at images/show_dataflow_fig_01.png\" width=600>   </a> </figure>\n"
      ],
      "text/plain": [
       "<utilities.ipynb_docgen.doc_formatter.<locals>.MimeBundleObject at 0x7f2982630f10>"
      ]
     },
     "metadata": {},
     "output_type": "display_data"
    }
   ],
   "source": [
    "# collapse-hide\n",
    "def show_dataflow():\n",
    "    \"\"\"\n",
    "    ### wtlike data flow diagram\n",
    "    {img}\n",
    "    \"\"\"\n",
    "    img = image('wtlike_dataflow.png', width=600, caption=None)\n",
    "    return locals()\n",
    "nbdoc(show_dataflow)"
   ]
  },
  {
   "cell_type": "markdown",
   "id": "9d655aa8-a64e-4c03-b750-303ecda3e3be",
   "metadata": {
    "tags": []
   },
   "source": [
    "### How is it so fast? \n",
    "There are some important innovations\n",
    "\n",
    "*  Weights assigned via a table\n"
   ]
  },
  {
   "cell_type": "markdown",
   "id": "6e6124ed-7712-4abe-a23d-0a28497a68d6",
   "metadata": {
    "tags": []
   },
   "source": [
    "* Photons and livetime info for any direction are taken from a compact version of the full FT1/FT2 set of files.<br>\n",
    "This makes the system very portable, with <3GB needed, with no need for the full `fermipy` package, and much faster to start a source, and especially to generate a new binning.\n",
    "    \n",
    "\n",
    "* Using a Poisson-like representation of the likelihood.<br>\n",
    "It turns out that any likelihood evaluated with the Kerr formula, involving a lot of computation, can be safely approximated with a 3-parameter scaled Poisson function.<br> \n",
    "Thus the fits to individual cells are represented by the *likelihood function*, not just a limit or a \n",
    "value/uncertainty pair--these easily derived from the three parameters!\n",
    "\n",
    "* Exposure is calculated based on the energy and event type, rather than assuming a power-law.<br>\n",
    "For count flux measurements, which are dominated by the lowest energies, this does not matter much, but it allows measurement of energy dependence, a future enhancement.\n",
    "\n",
    "\n",
    "### The user interface\n",
    "`wtlike` is designed for, (but does not require) Jupyterlab notebooks, that is, to enhance interactivity. As this presentation \n",
    "shows, a basic light curve, can be done with a single line of code: \n",
    "```\n",
    "WtLike('4C 28.07').plot()\n",
    "```\n",
    "If the source in \n",
    "question is already in the cache managed by wtlike, requires 2s. Creating different *views*, with restricted time ranges or intervals, is simply done with the `view()` member function. Running a Bayesian Block analysis is performed with the function `bb_view()`. "
   ]
  },
  {
   "cell_type": "markdown",
   "id": "43b2e829-c670-4591-bbe5-bac33ad143e2",
   "metadata": {
    "tags": []
   },
   "source": [
    "## Caveats and (Current) Limitations\n",
    "\n",
    "\n",
    "### Problem with the exposure calculation\n",
    "Kent finds, using autocorrelation, a significant precession period signal in some parts of the sky, especially the GC. \n",
    "\n",
    "### Absolute fluxes\n",
    "The weighted likelihood provides *relative* count flux values vs. time, relative to the average flux for the full time interval. However, the weights were determined by the 12-year DR3 dataset.\n",
    "\n",
    "### Nearby variable sources\n",
    "\n",
    "As pointed out in the  [LCR \"about\" page](https://fermi.gsfc.nasa.gov/ssc/data/access/lat/LightCurveRepository/about.html),\n",
    "there are \"15 other variable sources within a 12 deg radius\". But in the case shown, the nearest variable source is $4.8^\\circ $ away. A weak pulsar $4^\\circ$ distant shows no effect.\n",
    "Actually, another source has to be within a few degrees to have an impact. The Kerr scheme assumes that the background is constant, at most allowing for an overall rescaling which would not describe the effect of a nearby source. \n",
    "\n",
    "However, given the position-dependent weight tables for both sources, each initally determined assuming the other is constant, allows a straight-forward modification for overlapping pixels. The dominant case, that\n",
    "only one is varying at a time is easy. This a future project.\n",
    "\n",
    "### GRBs and solar flares\n",
    "Could be locally masked out. \n",
    "\n",
    "\n",
    "### Data file availability\n",
    "The 3 GB that are needed (which compress to a 2 GB zip file) need to have a publicly available place for distribution. Fermi collaboarators who have a SLAC account could access them via scp (they are at /afs/slac/g/glast/users/burnett/wtlike_data), but I want a public repository, ideally with a cron job to perform daily updates of the photon data.\n",
    "\n",
    "### The biggest limitation\n",
    "<details>\n",
    "    <summary> is ... </summary>   \n",
    "     <p style=\"text-align:center; font-size:24px; color:red;\">There is only one developer!</p>\n",
    "    \n",
    "</details>\n",
    "\n",
    "<br>\n",
    "\n",
    "All the code is in [github/tburnett/wtlike](https://github.com/tburnett/wtlike), somewhat documented using the nbdev system.\n"
   ]
  },
  {
   "cell_type": "code",
   "execution_count": null,
   "id": "82ff391c-007e-4179-815c-5235a4f54a1d",
   "metadata": {
    "tags": []
   },
   "outputs": [],
   "source": [
    "#hide\n",
    "# check nea nearby pulsar\n",
    "# twtl = WtLike('PSR J0251+26')\n",
    "# twtl.plot();\n",
    "# bb=twtl.bb_view(); bb.plot();"
   ]
  }
 ],
 "metadata": {
  "kernelspec": {
   "display_name": "Python 3",
   "language": "python",
   "name": "python3"
  }
 },
 "nbformat": 4,
 "nbformat_minor": 5
}
