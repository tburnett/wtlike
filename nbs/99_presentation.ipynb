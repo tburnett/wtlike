{
 "cells": [
  {
   "cell_type": "code",
   "execution_count": null,
   "id": "1d7aca70-5b19-45fb-a477-8ed08a7ec7ba",
   "metadata": {},
   "outputs": [
    {
     "name": "stdout",
     "output_type": "stream",
     "text": [
      "Update data elapsed time: 2.6s (0.0 min)\n",
      "Weekly folder \"/home/burnett/fermi/wtlike-data/data_files\" contains 697 weeks.\n",
      "\t Last week, # 706, has 0.371 days, ends at UTC 2021-12-09 09:25, filedate 20211209162811\n"
     ]
    }
   ],
   "source": [
    "#hide\n",
    "from wtlike import *\n",
    "if Config().valid:\n",
    "    from utilities.ipynb_docgen import *\n",
    "    plt.rc('font', size=14)\n",
    "    plt.rc('savefig', pad_inches=0.2)\n",
    "\n",
    "    from wtlike.data_man import update_data\n",
    "    with Timer() as t:\n",
    "        clear = update_data()\n",
    "        print('Update data', t)\n",
    "    check_data();\n",
    "    # clear=False"
   ]
  },
  {
   "cell_type": "markdown",
   "id": "a0b8aa51-a5d9-413f-88ca-7a9bc8d64025",
   "metadata": {},
   "source": [
    "# Presentation to the Fermi Collaboration\n",
    "\n",
    ">Prepared for presentation to the Fermi-LAT Autumn 2011 collaboration meeting, to follow a time-based weighted likelihood presentation by M. Kerr."
   ]
  },
  {
   "cell_type": "markdown",
   "id": "8a8032a5-6d48-4c5c-880a-9c934234018c",
   "metadata": {},
   "source": [
    "## Introduction to wtlike\n",
    "The `wtlike` package applies the \n",
    "[Kerr weighted likelihood](https://arxiv.org/pdf/1910.00140.pdf) to *Fermi* photon data. It is available on [PyPI](https://pypi.org/project/wtlike/) and [github](https://github.com/tburnett/wtlike), is purely in python with no dependency on Fermi-LAT code.\n",
    "\n",
    "I'd like to express appreciation to Kent Wood, for being a tester and providing many useful suggestions. \n",
    "\n",
    "#### Quickly generate light curves \n",
    "Within 10 min, one can generate the full light curve for any source on any time scale, optionaly performing a Bayesian Block analysis.\n",
    "\n",
    "Thus, as shown here, one can:\n",
    "* Extend the Light Curve Repository\n",
    "\n",
    "\n",
    "Other Potential applications\n",
    "* Reproduce the entire LCR\n",
    "* Evaluate variability for all sources with Bayesian Blocks\n",
    "* Periodically monitor a set of sources for recent flaring activity\n",
    "* Detect and make light curves of unassociated flares from FAVA\n",
    "* with timing solutions, provide lists of weighted photons for pulsar timing\n",
    "\n",
    "I now demonstrate how to reproduce and extend any source in the Light Curve Repository (LCR)"
   ]
  },
  {
   "cell_type": "code",
   "execution_count": null,
   "id": "84ab6d03-25b4-4298-a094-00bcc7967896",
   "metadata": {},
   "outputs": [
    {
     "data": {
      "text/markdown": [
       "## The Light Curve Repository \"about\" example\n",
       "\n",
       "I'll use this strong, active source as an example for a simple comparison.\n",
       "Here is the 4FGL source 4FGL J0237.8+2848 (associated with 4C 28.07), as shown on the [LCR \"about\" page](https://fermi.gsfc.nasa.gov/ssc/data/access/lat/LightCurveRepository/about.html)\n",
       "\n",
       "<figure style=\"margin-left: 5%\" title=\"Figure 1\">  <a href=\"images/lcr_about_fig_01.png\" title=\"images/lcr_about_fig_01.png\">    <img src=\"images/lcr_about_fig_01.png\" alt=\"Figure 1 at images/lcr_about_fig_01.png\" width=600>   </a> </figure>\n",
       "\n",
       "This shows 3-day bins through Sep 28 2020. \n"
      ],
      "text/plain": [
       "<utilities.ipynb_docgen.doc_formatter.<locals>.MimeBundleObject at 0x7fad7863dee0>"
      ]
     },
     "metadata": {},
     "output_type": "display_data"
    }
   ],
   "source": [
    "# collapse-hide\n",
    "def lcr_about():\n",
    "    \"\"\"\n",
    "    ## The Light Curve Repository \"about\" example\n",
    "\n",
    "    I'll use this strong, active source as an example for a simple comparison.\n",
    "    Here is the 4FGL source 4FGL J0237.8+2848 (associated with 4C 28.07), as shown on the [LCR \"about\" page](https://fermi.gsfc.nasa.gov/ssc/data/access/lat/LightCurveRepository/about.html)\n",
    "\n",
    "    {img}\n",
    "\n",
    "    This shows 3-day bins through Sep 28 2020. \n",
    "    \"\"\"\n",
    "    img=image('LCR_about_fig2.png', caption=None, width=600)\n",
    "    \n",
    "    return locals()\n",
    "\n",
    "nbdoc(lcr_about)"
   ]
  },
  {
   "cell_type": "code",
   "execution_count": null,
   "id": "3e155b10-5695-4feb-a262-49636df7a581",
   "metadata": {},
   "outputs": [
    {
     "name": "stderr",
     "output_type": "stream",
     "text": [
      "maximum recursion depth exceeded while calling a Python object\n",
      "Function lcr_about_example failed: maximum recursion depth exceeded while calling a Python object\n"
     ]
    },
    {
     "ename": "RecursionError",
     "evalue": "maximum recursion depth exceeded while calling a Python object",
     "output_type": "error",
     "traceback": [
      "\u001b[0;31m---------------------------------------------------------------------------\u001b[0m",
      "\u001b[0;31mRecursionError\u001b[0m                            Traceback (most recent call last)",
      "\u001b[0;32m/tmp/ipykernel_173/3657990018.py\u001b[0m in \u001b[0;36m<module>\u001b[0;34m\u001b[0m\n\u001b[1;32m     81\u001b[0m     \u001b[0;32mreturn\u001b[0m \u001b[0mlocals\u001b[0m\u001b[0;34m(\u001b[0m\u001b[0;34m)\u001b[0m\u001b[0;34m\u001b[0m\u001b[0;34m\u001b[0m\u001b[0m\n\u001b[1;32m     82\u001b[0m \u001b[0;34m\u001b[0m\u001b[0m\n\u001b[0;32m---> 83\u001b[0;31m \u001b[0mnbdoc\u001b[0m\u001b[0;34m(\u001b[0m\u001b[0mlcr_about_example\u001b[0m\u001b[0;34m)\u001b[0m\u001b[0;34m\u001b[0m\u001b[0;34m\u001b[0m\u001b[0m\n\u001b[0m\u001b[1;32m     84\u001b[0m \u001b[0;34m\u001b[0m\u001b[0m\n",
      "\u001b[0;32m/mnt/c/users/thbur/OneDrive/work/wtlike/utilities/ipynb_docgen.py\u001b[0m in \u001b[0;36mnbdoc\u001b[0;34m(fun, name, *pars, **kwargs)\u001b[0m\n\u001b[1;32m    489\u001b[0m         \u001b[0mglobals\u001b[0m\u001b[0;34m(\u001b[0m\u001b[0;34m)\u001b[0m\u001b[0;34m.\u001b[0m\u001b[0mupdate\u001b[0m\u001b[0;34m(\u001b[0m\u001b[0mget_nb_namespace\u001b[0m\u001b[0;34m(\u001b[0m\u001b[0;34m)\u001b[0m\u001b[0;34m)\u001b[0m\u001b[0;34m\u001b[0m\u001b[0;34m\u001b[0m\u001b[0m\n\u001b[1;32m    490\u001b[0m \u001b[0;34m\u001b[0m\u001b[0m\n\u001b[0;32m--> 491\u001b[0;31m         \u001b[0muser_vars\u001b[0m \u001b[0;34m=\u001b[0m \u001b[0mfun\u001b[0m\u001b[0;34m(\u001b[0m\u001b[0;34m*\u001b[0m\u001b[0mpars\u001b[0m\u001b[0;34m,\u001b[0m \u001b[0;34m**\u001b[0m\u001b[0mkwargs\u001b[0m\u001b[0;34m)\u001b[0m\u001b[0;34m\u001b[0m\u001b[0;34m\u001b[0m\u001b[0m\n\u001b[0m\u001b[1;32m    492\u001b[0m         \u001b[0;31m# user_vars = eval('fun(*pars, **kwargs)', locals().update(get_nb_namespace()) )\u001b[0m\u001b[0;34m\u001b[0m\u001b[0;34m\u001b[0m\u001b[0;34m\u001b[0m\u001b[0m\n\u001b[1;32m    493\u001b[0m \u001b[0;34m\u001b[0m\u001b[0m\n",
      "\u001b[0;32m/tmp/ipykernel_173/3657990018.py\u001b[0m in \u001b[0;36mlcr_about_example\u001b[0;34m(fig_width)\u001b[0m\n\u001b[1;32m     62\u001b[0m     \u001b[0;32mwith\u001b[0m \u001b[0mcapture\u001b[0m\u001b[0;34m(\u001b[0m\u001b[0;34m'Source setup output: Load data, create and fit bins'\u001b[0m\u001b[0;34m,\u001b[0m \u001b[0mopen\u001b[0m\u001b[0;34m=\u001b[0m\u001b[0;32mFalse\u001b[0m\u001b[0;34m)\u001b[0m \u001b[0;32mas\u001b[0m \u001b[0mprint1\u001b[0m\u001b[0;34m:\u001b[0m\u001b[0;34m\u001b[0m\u001b[0;34m\u001b[0m\u001b[0m\n\u001b[1;32m     63\u001b[0m         \u001b[0;32mwith\u001b[0m \u001b[0mTimer\u001b[0m\u001b[0;34m(\u001b[0m\u001b[0;34m)\u001b[0m \u001b[0;32mas\u001b[0m \u001b[0mt\u001b[0m\u001b[0;34m:\u001b[0m\u001b[0;34m\u001b[0m\u001b[0;34m\u001b[0m\u001b[0m\n\u001b[0;32m---> 64\u001b[0;31m             \u001b[0mwtl\u001b[0m \u001b[0;34m=\u001b[0m \u001b[0mWtLike\u001b[0m\u001b[0;34m(\u001b[0m\u001b[0;34m'4FGL J0237.8+2848'\u001b[0m\u001b[0;34m,\u001b[0m \u001b[0mtime_bins\u001b[0m\u001b[0;34m=\u001b[0m\u001b[0;34m(\u001b[0m\u001b[0;36m0\u001b[0m\u001b[0;34m,\u001b[0m\u001b[0;36m0\u001b[0m\u001b[0;34m,\u001b[0m\u001b[0;36m3\u001b[0m\u001b[0;34m)\u001b[0m\u001b[0;34m,\u001b[0m \u001b[0mclear\u001b[0m\u001b[0;34m=\u001b[0m\u001b[0mclear\u001b[0m\u001b[0;34m)\u001b[0m\u001b[0;34m\u001b[0m\u001b[0;34m\u001b[0m\u001b[0m\n\u001b[0m\u001b[1;32m     65\u001b[0m         \u001b[0mprint\u001b[0m\u001b[0;34m(\u001b[0m\u001b[0mt\u001b[0m\u001b[0;34m)\u001b[0m\u001b[0;34m\u001b[0m\u001b[0;34m\u001b[0m\u001b[0m\n\u001b[1;32m     66\u001b[0m     fig1 = figure(\n",
      "\u001b[0;32m/mnt/c/users/thbur/OneDrive/work/wtlike/wtlike/lightcurve.py\u001b[0m in \u001b[0;36m__init__\u001b[0;34m(self, *pars, **kwargs)\u001b[0m\n\u001b[1;32m    336\u001b[0m         \u001b[0mself\u001b[0m\u001b[0;34m.\u001b[0m\u001b[0mn_min\u001b[0m \u001b[0;34m=\u001b[0m \u001b[0mkwargs\u001b[0m\u001b[0;34m.\u001b[0m\u001b[0mpop\u001b[0m\u001b[0;34m(\u001b[0m\u001b[0;34m'n_min'\u001b[0m\u001b[0;34m,\u001b[0m \u001b[0;36m2\u001b[0m\u001b[0;34m)\u001b[0m\u001b[0;34m\u001b[0m\u001b[0;34m\u001b[0m\u001b[0m\n\u001b[1;32m    337\u001b[0m         \u001b[0mself\u001b[0m\u001b[0;34m.\u001b[0m\u001b[0mlc_key\u001b[0m \u001b[0;34m=\u001b[0m \u001b[0mkwargs\u001b[0m\u001b[0;34m.\u001b[0m\u001b[0mpop\u001b[0m\u001b[0;34m(\u001b[0m\u001b[0;34m'lc_key'\u001b[0m\u001b[0;34m,\u001b[0m \u001b[0;32mNone\u001b[0m\u001b[0;34m)\u001b[0m\u001b[0;34m\u001b[0m\u001b[0;34m\u001b[0m\u001b[0m\n\u001b[0;32m--> 338\u001b[0;31m         \u001b[0msuper\u001b[0m\u001b[0;34m(\u001b[0m\u001b[0;34m)\u001b[0m\u001b[0;34m.\u001b[0m\u001b[0m__init__\u001b[0m\u001b[0;34m(\u001b[0m\u001b[0;34m*\u001b[0m\u001b[0mpars\u001b[0m\u001b[0;34m,\u001b[0m \u001b[0;34m**\u001b[0m\u001b[0mkwargs\u001b[0m\u001b[0;34m)\u001b[0m\u001b[0;34m\u001b[0m\u001b[0;34m\u001b[0m\u001b[0m\n\u001b[0m\u001b[1;32m    339\u001b[0m         \u001b[0mself\u001b[0m\u001b[0;34m.\u001b[0m\u001b[0mexp_min\u001b[0m \u001b[0;34m=\u001b[0m \u001b[0mexp_min\u001b[0m \u001b[0;32mif\u001b[0m \u001b[0mexp_min\u001b[0m \u001b[0;32mis\u001b[0m \u001b[0;32mnot\u001b[0m \u001b[0;32mNone\u001b[0m \u001b[0;32melse\u001b[0m \u001b[0mself\u001b[0m\u001b[0;34m.\u001b[0m\u001b[0mconfig\u001b[0m\u001b[0;34m.\u001b[0m\u001b[0mexp_min\u001b[0m\u001b[0;34m\u001b[0m\u001b[0;34m\u001b[0m\u001b[0m\n\u001b[1;32m    340\u001b[0m         \u001b[0mself\u001b[0m\u001b[0;34m.\u001b[0m\u001b[0mupdate\u001b[0m\u001b[0;34m(\u001b[0m\u001b[0;34m)\u001b[0m\u001b[0;34m\u001b[0m\u001b[0;34m\u001b[0m\u001b[0m\n",
      "\u001b[0;32m/mnt/c/users/thbur/OneDrive/work/wtlike/wtlike/cell_data.py\u001b[0m in \u001b[0;36m__init__\u001b[0;34m(self, *pars, **kwargs)\u001b[0m\n\u001b[1;32m    112\u001b[0m \u001b[0;34m\u001b[0m\u001b[0m\n\u001b[1;32m    113\u001b[0m         \u001b[0;31m#  load source data\u001b[0m\u001b[0;34m\u001b[0m\u001b[0;34m\u001b[0m\u001b[0;34m\u001b[0m\u001b[0m\n\u001b[0;32m--> 114\u001b[0;31m         \u001b[0msuper\u001b[0m\u001b[0;34m(\u001b[0m\u001b[0;34m)\u001b[0m\u001b[0;34m.\u001b[0m\u001b[0m__init__\u001b[0m\u001b[0;34m(\u001b[0m\u001b[0;34m*\u001b[0m\u001b[0mpars\u001b[0m\u001b[0;34m,\u001b[0m \u001b[0;34m**\u001b[0m\u001b[0mkwargs\u001b[0m \u001b[0;34m)\u001b[0m\u001b[0;34m\u001b[0m\u001b[0;34m\u001b[0m\u001b[0m\n\u001b[0m\u001b[1;32m    115\u001b[0m \u001b[0;34m\u001b[0m\u001b[0m\n\u001b[1;32m    116\u001b[0m         \u001b[0mself\u001b[0m\u001b[0;34m.\u001b[0m\u001b[0mrebin\u001b[0m\u001b[0;34m(\u001b[0m\u001b[0mbins\u001b[0m\u001b[0;34m)\u001b[0m\u001b[0;34m\u001b[0m\u001b[0;34m\u001b[0m\u001b[0m\n",
      "\u001b[0;32m/mnt/c/users/thbur/OneDrive/work/wtlike/wtlike/source_data.py\u001b[0m in \u001b[0;36m__init__\u001b[0;34m(self, source, config, clear, week_range, key)\u001b[0m\n\u001b[1;32m     48\u001b[0m \u001b[0;34m\u001b[0m\u001b[0m\n\u001b[1;32m     49\u001b[0m             \u001b[0;32mtry\u001b[0m\u001b[0;34m:\u001b[0m\u001b[0;34m\u001b[0m\u001b[0;34m\u001b[0m\u001b[0m\n\u001b[0;32m---> 50\u001b[0;31m                 \u001b[0mself\u001b[0m\u001b[0;34m.\u001b[0m\u001b[0msource\u001b[0m \u001b[0;34m=\u001b[0m \u001b[0mPointSource\u001b[0m\u001b[0;34m(\u001b[0m\u001b[0msource\u001b[0m\u001b[0;34m,\u001b[0m \u001b[0mconfig\u001b[0m\u001b[0;34m=\u001b[0m\u001b[0mself\u001b[0m\u001b[0;34m.\u001b[0m\u001b[0mconfig\u001b[0m\u001b[0;34m)\u001b[0m\u001b[0;34m\u001b[0m\u001b[0;34m\u001b[0m\u001b[0m\n\u001b[0m\u001b[1;32m     51\u001b[0m             \u001b[0;32mexcept\u001b[0m \u001b[0mException\u001b[0m \u001b[0;32mas\u001b[0m \u001b[0me\u001b[0m\u001b[0;34m:\u001b[0m\u001b[0;34m\u001b[0m\u001b[0;34m\u001b[0m\u001b[0m\n\u001b[1;32m     52\u001b[0m                 \u001b[0mprint\u001b[0m\u001b[0;34m(\u001b[0m\u001b[0;34mf'{e}'\u001b[0m\u001b[0;34m,\u001b[0m \u001b[0mfile\u001b[0m\u001b[0;34m=\u001b[0m\u001b[0msys\u001b[0m\u001b[0;34m.\u001b[0m\u001b[0mstderr\u001b[0m\u001b[0;34m)\u001b[0m\u001b[0;34m\u001b[0m\u001b[0;34m\u001b[0m\u001b[0m\n",
      "\u001b[0;32m/mnt/c/users/thbur/OneDrive/work/wtlike/wtlike/sources.py\u001b[0m in \u001b[0;36m__init__\u001b[0;34m(self, *pars, **kwargs)\u001b[0m\n\u001b[1;32m    441\u001b[0m         \u001b[0mlookup\u001b[0m \u001b[0;34m=\u001b[0m \u001b[0mSourceLookup\u001b[0m\u001b[0;34m(\u001b[0m\u001b[0mconfig\u001b[0m\u001b[0;34m)\u001b[0m\u001b[0;34m\u001b[0m\u001b[0;34m\u001b[0m\u001b[0m\n\u001b[1;32m    442\u001b[0m         \u001b[0mgal\u001b[0m \u001b[0;34m=\u001b[0m \u001b[0mkwargs\u001b[0m\u001b[0;34m.\u001b[0m\u001b[0mget\u001b[0m\u001b[0;34m(\u001b[0m\u001b[0;34m'gal'\u001b[0m\u001b[0;34m,\u001b[0m \u001b[0;32mFalse\u001b[0m\u001b[0;34m)\u001b[0m\u001b[0;34m\u001b[0m\u001b[0;34m\u001b[0m\u001b[0m\n\u001b[0;32m--> 443\u001b[0;31m         \u001b[0mself\u001b[0m\u001b[0;34m.\u001b[0m\u001b[0mnickname\u001b[0m \u001b[0;34m=\u001b[0m \u001b[0mpt_name\u001b[0m \u001b[0;34m=\u001b[0m \u001b[0mlookup\u001b[0m\u001b[0;34m(\u001b[0m\u001b[0;34m*\u001b[0m\u001b[0mpars\u001b[0m\u001b[0;34m,\u001b[0m \u001b[0;34m**\u001b[0m \u001b[0mkwargs\u001b[0m \u001b[0;34m)\u001b[0m\u001b[0;34m\u001b[0m\u001b[0;34m\u001b[0m\u001b[0m\n\u001b[0m\u001b[1;32m    444\u001b[0m         \u001b[0;32mif\u001b[0m \u001b[0mpt_name\u001b[0m \u001b[0;32mis\u001b[0m \u001b[0;32mNone\u001b[0m\u001b[0;34m:\u001b[0m\u001b[0;34m\u001b[0m\u001b[0;34m\u001b[0m\u001b[0m\n\u001b[1;32m    445\u001b[0m             \u001b[0;32mraise\u001b[0m \u001b[0mException\u001b[0m\u001b[0;34m(\u001b[0m\u001b[0;34m'Source not found'\u001b[0m\u001b[0;34m)\u001b[0m\u001b[0;34m\u001b[0m\u001b[0;34m\u001b[0m\u001b[0m\n",
      "\u001b[0;32m/mnt/c/users/thbur/OneDrive/work/wtlike/wtlike/sources.py\u001b[0m in \u001b[0;36m__call__\u001b[0;34m(self, *pars, **kwargs)\u001b[0m\n\u001b[1;32m    406\u001b[0m         \u001b[0mself\u001b[0m\u001b[0;34m.\u001b[0m\u001b[0mpsep\u001b[0m\u001b[0;34m=\u001b[0m\u001b[0;36m0\u001b[0m\u001b[0;34m\u001b[0m\u001b[0;34m\u001b[0m\u001b[0m\n\u001b[1;32m    407\u001b[0m \u001b[0;34m\u001b[0m\u001b[0m\n\u001b[0;32m--> 408\u001b[0;31m         \u001b[0midx\u001b[0m\u001b[0;34m,\u001b[0m \u001b[0msep2d\u001b[0m\u001b[0;34m,\u001b[0m \u001b[0m_\u001b[0m\u001b[0;34m=\u001b[0m \u001b[0mskycoord\u001b[0m\u001b[0;34m.\u001b[0m\u001b[0mmatch_to_catalog_sky\u001b[0m\u001b[0;34m(\u001b[0m\u001b[0mself\u001b[0m\u001b[0;34m.\u001b[0m\u001b[0mpt_dirs\u001b[0m\u001b[0;34m)\u001b[0m\u001b[0;34m\u001b[0m\u001b[0;34m\u001b[0m\u001b[0m\n\u001b[0m\u001b[1;32m    409\u001b[0m         \u001b[0mself\u001b[0m\u001b[0;34m.\u001b[0m\u001b[0mpsep\u001b[0m \u001b[0;34m=\u001b[0m \u001b[0msep\u001b[0m \u001b[0;34m=\u001b[0m \u001b[0msep2d\u001b[0m\u001b[0;34m.\u001b[0m\u001b[0mdeg\u001b[0m\u001b[0;34m[\u001b[0m\u001b[0;36m0\u001b[0m\u001b[0;34m]\u001b[0m\u001b[0;34m\u001b[0m\u001b[0;34m\u001b[0m\u001b[0m\n\u001b[1;32m    410\u001b[0m         \u001b[0mpt_name\u001b[0m \u001b[0;34m=\u001b[0m  \u001b[0mself\u001b[0m\u001b[0;34m.\u001b[0m\u001b[0mpt_names\u001b[0m\u001b[0;34m[\u001b[0m\u001b[0midx\u001b[0m\u001b[0;34m]\u001b[0m\u001b[0;34m\u001b[0m\u001b[0;34m\u001b[0m\u001b[0m\n",
      "\u001b[0;32m~/miniconda3/lib/python3.9/site-packages/astropy/coordinates/sky_coordinate.py\u001b[0m in \u001b[0;36mmatch_to_catalog_sky\u001b[0;34m(self, catalogcoord, nthneighbor)\u001b[0m\n\u001b[1;32m   1317\u001b[0m                             'coordinate frame with data')\n\u001b[1;32m   1318\u001b[0m \u001b[0;34m\u001b[0m\u001b[0m\n\u001b[0;32m-> 1319\u001b[0;31m         res = match_coordinates_sky(self, catalogcoord,\n\u001b[0m\u001b[1;32m   1320\u001b[0m                                     \u001b[0mnthneighbor\u001b[0m\u001b[0;34m=\u001b[0m\u001b[0mnthneighbor\u001b[0m\u001b[0;34m,\u001b[0m\u001b[0;34m\u001b[0m\u001b[0;34m\u001b[0m\u001b[0m\n\u001b[1;32m   1321\u001b[0m                                     storekdtree='_kdtree_sky')\n",
      "\u001b[0;32m~/miniconda3/lib/python3.9/site-packages/astropy/coordinates/matching.py\u001b[0m in \u001b[0;36mmatch_coordinates_sky\u001b[0;34m(matchcoord, catalogcoord, nthneighbor, storekdtree)\u001b[0m\n\u001b[1;32m    146\u001b[0m     \u001b[0;31m# send to catalog frame\u001b[0m\u001b[0;34m\u001b[0m\u001b[0;34m\u001b[0m\u001b[0;34m\u001b[0m\u001b[0m\n\u001b[1;32m    147\u001b[0m     \u001b[0;32mif\u001b[0m \u001b[0misinstance\u001b[0m\u001b[0;34m(\u001b[0m\u001b[0mmatchcoord\u001b[0m\u001b[0;34m,\u001b[0m \u001b[0mSkyCoord\u001b[0m\u001b[0;34m)\u001b[0m\u001b[0;34m:\u001b[0m\u001b[0;34m\u001b[0m\u001b[0;34m\u001b[0m\u001b[0m\n\u001b[0;32m--> 148\u001b[0;31m         \u001b[0mnewmatch\u001b[0m \u001b[0;34m=\u001b[0m \u001b[0mmatchcoord\u001b[0m\u001b[0;34m.\u001b[0m\u001b[0mtransform_to\u001b[0m\u001b[0;34m(\u001b[0m\u001b[0mcatalogcoord\u001b[0m\u001b[0;34m,\u001b[0m \u001b[0mmerge_attributes\u001b[0m\u001b[0;34m=\u001b[0m\u001b[0;32mFalse\u001b[0m\u001b[0;34m)\u001b[0m\u001b[0;34m\u001b[0m\u001b[0;34m\u001b[0m\u001b[0m\n\u001b[0m\u001b[1;32m    149\u001b[0m     \u001b[0;32melse\u001b[0m\u001b[0;34m:\u001b[0m\u001b[0;34m\u001b[0m\u001b[0;34m\u001b[0m\u001b[0m\n\u001b[1;32m    150\u001b[0m         \u001b[0mnewmatch\u001b[0m \u001b[0;34m=\u001b[0m \u001b[0mmatchcoord\u001b[0m\u001b[0;34m.\u001b[0m\u001b[0mtransform_to\u001b[0m\u001b[0;34m(\u001b[0m\u001b[0mcatalogcoord\u001b[0m\u001b[0;34m)\u001b[0m\u001b[0;34m\u001b[0m\u001b[0;34m\u001b[0m\u001b[0m\n",
      "\u001b[0;32m~/miniconda3/lib/python3.9/site-packages/astropy/coordinates/sky_coordinate.py\u001b[0m in \u001b[0;36mtransform_to\u001b[0;34m(self, frame, merge_attributes)\u001b[0m\n\u001b[1;32m    630\u001b[0m             \u001b[0;32mfor\u001b[0m \u001b[0mattr\u001b[0m \u001b[0;32min\u001b[0m \u001b[0mframe_transform_graph\u001b[0m\u001b[0;34m.\u001b[0m\u001b[0mframe_attributes\u001b[0m\u001b[0;34m:\u001b[0m\u001b[0;34m\u001b[0m\u001b[0;34m\u001b[0m\u001b[0m\n\u001b[1;32m    631\u001b[0m                 \u001b[0mself_val\u001b[0m \u001b[0;34m=\u001b[0m \u001b[0mgetattr\u001b[0m\u001b[0;34m(\u001b[0m\u001b[0mself\u001b[0m\u001b[0;34m,\u001b[0m \u001b[0mattr\u001b[0m\u001b[0;34m,\u001b[0m \u001b[0;32mNone\u001b[0m\u001b[0;34m)\u001b[0m\u001b[0;34m\u001b[0m\u001b[0;34m\u001b[0m\u001b[0m\n\u001b[0;32m--> 632\u001b[0;31m                 \u001b[0mframe_val\u001b[0m \u001b[0;34m=\u001b[0m \u001b[0mgetattr\u001b[0m\u001b[0;34m(\u001b[0m\u001b[0mframe\u001b[0m\u001b[0;34m,\u001b[0m \u001b[0mattr\u001b[0m\u001b[0;34m,\u001b[0m \u001b[0;32mNone\u001b[0m\u001b[0;34m)\u001b[0m\u001b[0;34m\u001b[0m\u001b[0;34m\u001b[0m\u001b[0m\n\u001b[0m\u001b[1;32m    633\u001b[0m                 if (frame_val is not None\n\u001b[1;32m    634\u001b[0m                     and not (merge_attributes\n",
      "\u001b[0;32m~/miniconda3/lib/python3.9/site-packages/astropy/coordinates/baseframe.py\u001b[0m in \u001b[0;36m__getattr__\u001b[0;34m(self, attr)\u001b[0m\n\u001b[1;32m   1636\u001b[0m             \u001b[0;32mreturn\u001b[0m \u001b[0mself\u001b[0m\u001b[0;34m.\u001b[0m\u001b[0m__getattribute__\u001b[0m\u001b[0;34m(\u001b[0m\u001b[0mattr\u001b[0m\u001b[0;34m)\u001b[0m  \u001b[0;31m# Raise AttributeError.\u001b[0m\u001b[0;34m\u001b[0m\u001b[0;34m\u001b[0m\u001b[0m\n\u001b[1;32m   1637\u001b[0m \u001b[0;34m\u001b[0m\u001b[0m\n\u001b[0;32m-> 1638\u001b[0;31m         \u001b[0mrepr_names\u001b[0m \u001b[0;34m=\u001b[0m \u001b[0mself\u001b[0m\u001b[0;34m.\u001b[0m\u001b[0mrepresentation_component_names\u001b[0m\u001b[0;34m\u001b[0m\u001b[0;34m\u001b[0m\u001b[0m\n\u001b[0m\u001b[1;32m   1639\u001b[0m         \u001b[0;32mif\u001b[0m \u001b[0mattr\u001b[0m \u001b[0;32min\u001b[0m \u001b[0mrepr_names\u001b[0m\u001b[0;34m:\u001b[0m\u001b[0;34m\u001b[0m\u001b[0;34m\u001b[0m\u001b[0m\n\u001b[1;32m   1640\u001b[0m             \u001b[0;32mif\u001b[0m \u001b[0mself\u001b[0m\u001b[0;34m.\u001b[0m\u001b[0m_data\u001b[0m \u001b[0;32mis\u001b[0m \u001b[0;32mNone\u001b[0m\u001b[0;34m:\u001b[0m\u001b[0;34m\u001b[0m\u001b[0;34m\u001b[0m\u001b[0m\n",
      "... last 1 frames repeated, from the frame below ...\n",
      "\u001b[0;32m~/miniconda3/lib/python3.9/site-packages/astropy/coordinates/baseframe.py\u001b[0m in \u001b[0;36m__getattr__\u001b[0;34m(self, attr)\u001b[0m\n\u001b[1;32m   1636\u001b[0m             \u001b[0;32mreturn\u001b[0m \u001b[0mself\u001b[0m\u001b[0;34m.\u001b[0m\u001b[0m__getattribute__\u001b[0m\u001b[0;34m(\u001b[0m\u001b[0mattr\u001b[0m\u001b[0;34m)\u001b[0m  \u001b[0;31m# Raise AttributeError.\u001b[0m\u001b[0;34m\u001b[0m\u001b[0;34m\u001b[0m\u001b[0m\n\u001b[1;32m   1637\u001b[0m \u001b[0;34m\u001b[0m\u001b[0m\n\u001b[0;32m-> 1638\u001b[0;31m         \u001b[0mrepr_names\u001b[0m \u001b[0;34m=\u001b[0m \u001b[0mself\u001b[0m\u001b[0;34m.\u001b[0m\u001b[0mrepresentation_component_names\u001b[0m\u001b[0;34m\u001b[0m\u001b[0;34m\u001b[0m\u001b[0m\n\u001b[0m\u001b[1;32m   1639\u001b[0m         \u001b[0;32mif\u001b[0m \u001b[0mattr\u001b[0m \u001b[0;32min\u001b[0m \u001b[0mrepr_names\u001b[0m\u001b[0;34m:\u001b[0m\u001b[0;34m\u001b[0m\u001b[0;34m\u001b[0m\u001b[0m\n\u001b[1;32m   1640\u001b[0m             \u001b[0;32mif\u001b[0m \u001b[0mself\u001b[0m\u001b[0;34m.\u001b[0m\u001b[0m_data\u001b[0m \u001b[0;32mis\u001b[0m \u001b[0;32mNone\u001b[0m\u001b[0;34m:\u001b[0m\u001b[0;34m\u001b[0m\u001b[0;34m\u001b[0m\u001b[0m\n",
      "\u001b[0;31mRecursionError\u001b[0m: maximum recursion depth exceeded while calling a Python object"
     ]
    }
   ],
   "source": [
    "# collapse-hide\n",
    "def lcr_about_example(fig_width=600):\n",
    "    \"\"\"\n",
    "    ## The same source with wtlike\n",
    "    <p style=\"text-align:right; \">wtlike version {__version__}<br>{date}</p>\n",
    "    \n",
    "    ### The result\n",
    "    {fig1}\n",
    "    \n",
    "    What did that take?\n",
    "    #### Set up the source ...\n",
    "    \n",
    "    The only code, perhaps in a Jupyterlab cell, needed to set up the source for plots is: \n",
    "\n",
    "    ```\n",
    "        from wtlike import *\n",
    "        wtl = WtLike('4FGL J0237.8+2848', time_bins=(0,0,3))\n",
    "    ```  \n",
    "    <br>\n",
    "    {print1}\n",
    "    \n",
    "    This creates an instance, `wtl`, of the class `WtLike`, specifying a source name, with 3-day (default is 7) time bins for the full data set.\n",
    "    The name can be that of any source known to `astropy` which is closer than $0.1^\\circ$ to a 4FGL-DR3 or uw1216 source.\n",
    "    Thus specifying instead the associated 4C 28.07 would have worked.\n",
    "    #### ... and make the plot\n",
    "    Then, instructing the object to plot itself with the statement\n",
    "    \n",
    "    ```\n",
    "        wtl.plot()\n",
    "    ```\n",
    "    \n",
    "    generates the light curve plot shown above. \n",
    "      \n",
    "    ### Apply Bayesian blocks \n",
    "    To partion the 3-day intervals, or cells, using Bayesian Blocks use another function member of the class `WtLike`. The \n",
    "    statements \n",
    "    \n",
    "    ```\n",
    "        bb = wtl.bb_view()\n",
    "        bb.plot()\n",
    "    ```\n",
    "    <br<\n",
    "    define a new *instance* of `WtLike`, using the current 3-day likelihood fits.\n",
    "    This instance has a different `plot()`, which makes an overlay showing the BB partitions, each with a new fit. \n",
    "    {print2}\n",
    "    {fig2}\n",
    "    \n",
    "    ### Check that recent flare\n",
    "    The flaring behavior at the end of the interval prompts exploration. We use the `view()` function to return another \n",
    "    copy of the original `wtl`, but with different binning, and ask it to make a plot of the last 30 days, via\n",
    "    \n",
    "    ```\n",
    "        recent = wtl.view(-30,0,1)\n",
    "        recent.plot()\n",
    "    ```\n",
    "    <br>\n",
    "    {print3}\n",
    "    {fig3}\n",
    "    \n",
    "    \"\"\"\n",
    "    from wtlike import __version__\n",
    "    with capture('Source setup output: Load data, create and fit bins', open=False) as print1:\n",
    "        with Timer() as t:\n",
    "            wtl = WtLike('4FGL J0237.8+2848', time_bins=(0,0,3), clear=clear)\n",
    "        print(t)\n",
    "    fig1 = figure(\n",
    "        wtl.plot(UTC=True,figsize=(15,4), fignum=1),\n",
    "        width=fig_width)\n",
    "    \n",
    "    with capture('Bayesian block analysis output', ) as print2:\n",
    "        with Timer() as t:\n",
    "            bb = wtl.bb_view()\n",
    "        print(t)\n",
    "    fig2= figure(bb.plot(UTC=True,figsize=(15,4), fignum=2), width=fig_width);\n",
    "    \n",
    "    with capture('Rebinning output') as print3:\n",
    "        recent = wtl.view(-30,0,1)\n",
    "    \n",
    "    fig3=figure(recent.plot(tzero=round(wtl.stop), fignum=3), width=fig_width)\n",
    "    print(' ')  # seems needed to get nbdev to generate the doc?  \n",
    "    return locals()\n",
    "    \n",
    "nbdoc(lcr_about_example)\n",
    "        "
   ]
  },
  {
   "cell_type": "markdown",
   "id": "bdc5b0ab-3730-425c-b4f9-3bdc2042b8bc",
   "metadata": {},
   "source": [
    "#### So what do you need in order to do this?\n",
    "* Install with `pip install wtlike`\n",
    "* create a file `~/.config/wtlike/config.yaml` like the one at `/nfs/farm/g/glast/burnett`\n",
    "* Make a link to, or get a copy of the 3 GB at `/nfs/farm/g/glast/u/burnett/wtlike_data` "
   ]
  },
  {
   "cell_type": "code",
   "execution_count": null,
   "id": "e3e42ee2-4b62-4533-8fb1-bf8ee7582c2b",
   "metadata": {},
   "outputs": [
    {
     "data": {
      "text/markdown": [
       "### How does it work?\n",
       "#### Data flow diagram\n",
       "<figure style=\"margin-left: 5%\" title=\"Figure 1\">  <a href=\"images/show_dataflow_fig_01.png\" title=\"images/show_dataflow_fig_01.png\">    <img src=\"images/show_dataflow_fig_01.png\" alt=\"Figure 1 at images/show_dataflow_fig_01.png\" width=600>   </a> </figure>\n"
      ],
      "text/plain": [
       "<utilities.ipynb_docgen.doc_formatter.<locals>.MimeBundleObject at 0x7fb4a9dc0b50>"
      ]
     },
     "metadata": {},
     "output_type": "display_data"
    }
   ],
   "source": [
    "# collapse-hide\n",
    "def show_dataflow():\n",
    "    \"\"\"\n",
    "    ### How does it work?\n",
    "    #### Data flow diagram\n",
    "    {img}\n",
    "    \"\"\"\n",
    "    img = image('wtlike_dataflow.png', width=600, caption=None)\n",
    "    return locals()\n",
    "nbdoc(show_dataflow)"
   ]
  },
  {
   "cell_type": "markdown",
   "id": "ca5538c2-5772-4b49-a0a5-cf2c44cdcbfe",
   "metadata": {},
   "source": [
    "There are some important features\n",
    "\n",
    "*  Weights assigned via a table  <br>\n",
    "Allows sepation of the procesees that evaluates the weight from assignment to an individual photon. \n",
    "\n",
    "* Photons and livetime info for any direction are taken from a compact version of the full FT1/FT2 set of files.<br>\n",
    "This makes the system very portable, with <3GB needed, with no need for the full `fermipy` package, and much faster to start a source, and especially to generate a new binning.\n",
    "    \n",
    "\n",
    "* Using a Poisson-like representation of the likelihood.<br>\n",
    "It turns out that any likelihood evaluated with the Kerr formula, involving a lot of computation, can be safely approximated with a 3-parameter scaled Poisson function.<br> \n",
    "Thus the fits to individual cells are represented by the *likelihood function*, not just a limit or a \n",
    "value/uncertainty pair--these easily derived from the three parameters!\n",
    "\n",
    "* Exposure is calculated based on the energy and event type, rather than assuming a power-law.<br>\n",
    "For count flux measurements, which are dominated by the lowest energies, this does not matter much, but it allows measurement of energy dependence, a future enhancement.\n",
    "\n",
    "\n",
    "### The user interface\n",
    "`wtlike` is designed for, (but does not require) Jupyterlab notebooks, that is, to enhance interactivity. As this presentation \n",
    "shows, a basic light curve, can be done with a single line of code: \n",
    "```\n",
    "WtLike('4C 28.07').plot()\n",
    "```\n",
    "If the source in \n",
    "question is already in the cache managed by wtlike, this requires <10s, otherwise ~10 min. Creating different *views*, with restricted time ranges or intervals, is simply done with the `view()` member function. Running a Bayesian Block analysis is performed with the function `bb_view()`. "
   ]
  },
  {
   "cell_type": "markdown",
   "id": "43b2e829-c670-4591-bbe5-bac33ad143e2",
   "metadata": {},
   "source": [
    "## Caveats and (Current) Limitations\n",
    "\n",
    "\n",
    "### Problem with the exposure calculation?\n",
    "Kent finds, using autocorrelation, a significant precession period (~52 day) signal in some parts of the sky, especially the GC. This needs to be understood and corrected immediately. It does not seem to affect Geminga, with only a 4% systematic resolution degradation, or any of the pulsars that I have studied, however.\n",
    "\n",
    "### Pointlike rather than gtlike\n",
    "The weights tables should be similar, but gtlike is the collaboration standard.\n",
    "\n",
    "### Absolute fluxes\n",
    "The weighted likelihood provides *relative* count flux values vs. time, relative to the average flux for the full time interval. However, the weights were determined by the 12-year DR3 dataset.\n",
    "\n",
    "### Nearby variable sources\n",
    "\n",
    "As pointed out in the  [LCR \"about\" page](https://fermi.gsfc.nasa.gov/ssc/data/access/lat/LightCurveRepository/about.html),\n",
    "there are \"15 other variable sources within a 12 deg radius\". But in the case shown, the nearest variable source is $4.8^\\circ $ away. A weak pulsar $4^\\circ$ distant shows no effect.\n",
    "Actually, another source has to be within a few degrees to have an impact. The Kerr scheme assumes that the background is constant, at most allowing for an overall rescaling which would not describe the effect of a nearby source. \n",
    "\n",
    "However, given the position-dependent weight tables for both sources, each initally determined assuming the other is constant, allows a straight-forward modification for overlapping pixels. The dominant case, that\n",
    "only one is varying at a time is easy. This a future project.\n",
    "\n",
    "### GRBs and solar flares\n",
    "Could be locally masked out. \n",
    "\n",
    "\n",
    "### Data file availability\n",
    "The 3 GB that are needed (which compress to a 2 GB zip file) need to have a publicly available place for distribution. Fermi collaboarators who have a SLAC account could access them via scp (they are at /afs/slac/g/glast/users/burnett/wtlike_data), but I want a public repository, ideally with a cron job to perform daily updates of the photon data.\n",
    "\n",
    "### The biggest limitation\n",
    "<details>\n",
    "    <summary> is ... </summary>   \n",
    "     <p style=\"text-align:center; font-size:24px; color:red;\">There is only one (octogenarian) developer!</p>\n",
    "    \n",
    "</details>\n",
    "\n",
    "<br>\n",
    "\n",
    "All the code is in [github/tburnett/wtlike](https://github.com/tburnett/wtlike), somewhat documented using the nbdev system.\n"
   ]
  },
  {
   "cell_type": "code",
   "execution_count": null,
   "id": "82ff391c-007e-4179-815c-5235a4f54a1d",
   "metadata": {},
   "outputs": [],
   "source": [
    "#hide\n",
    "# check nea nearby pulsar\n",
    "# twtl = WtLike('PSR J0251+26')\n",
    "# twtl.plot();\n",
    "# bb=twtl.bb_view(); bb.plot();"
   ]
  },
  {
   "cell_type": "code",
   "execution_count": null,
   "id": "1bc6cf17-726c-4f17-a5b7-4ff6d5a2af67",
   "metadata": {},
   "outputs": [],
   "source": []
  }
 ],
 "metadata": {
  "kernelspec": {
   "display_name": "Python 3 (ipykernel)",
   "language": "python",
   "name": "python3"
  }
 },
 "nbformat": 4,
 "nbformat_minor": 5
}
