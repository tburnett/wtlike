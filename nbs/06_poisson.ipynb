{
 "cells": [
  {
   "cell_type": "code",
   "execution_count": null,
   "metadata": {},
   "outputs": [],
   "source": [
    "# default_exp poisson\n",
    "\n",
    "from nbdev.showdoc import *\n",
    "from utilities.ipynb_docgen import *\n",
    "import matplotlib.pyplot as plt"
   ]
  },
  {
   "cell_type": "markdown",
   "metadata": {},
   "source": [
    "# Poisson-like likelihood function\n",
    "\n",
    "> Description of the class `Poisson`, and its helper `PoissonFitter`, which are used to parameterize log likelihood curves."
   ]
  },
  {
   "cell_type": "markdown",
   "metadata": {},
   "source": [
    "Author(s): Eric Wallace, Matthew Kerr, Toby Burnett"
   ]
  },
  {
   "cell_type": "code",
   "execution_count": null,
   "metadata": {},
   "outputs": [],
   "source": [
    "#export\n",
    "import numpy as np\n",
    "from numpy import polyfit\n",
    "from scipy import optimize, special, stats\n",
    "\n",
    "class Poisson(object):\n",
    "    r\"\"\"This is a functor class which returns the log of a three-parameter Poisson-like function used to represent\n",
    "    the flux likelihood. The parameters are, in order:\n",
    "\n",
    "    $s_p$ : flux at peak, if positive; if negative, there is only a limit\n",
    "\n",
    "    $e$ : normalization factor to convert flux to equivalent counts. must be >0\n",
    "\n",
    "    $b$  : background flux: must be >=0\n",
    "\n",
    "    This parameterization is equivalent to that described in William Tompkins' thesis\n",
    "    (arxiv: astro-ph/0202141) and Nolan, et al., 2003,  ApJ 597:615:627.\n",
    "    The functional form is that of a Poisson distribution.\n",
    "\n",
    "    The log likelihood expression is for flux $s>=0$\n",
    "       $$w(s | s_p,e,b) = e\\ (s_p+b) \\ \\log[ e\\ (s+b) ] - e\\ s + \\mathrm{const}$$\n",
    "    the const is such that $w=0$ at the peak.\n",
    "\n",
    "    A slightly more elegant expression, used in the cdf function, is to define\n",
    "       $\\beta = e b$,  $\\mu = e s_p + \\beta$, and  $x = e s$.\n",
    "\n",
    "    Then the log likelihood is\n",
    "\n",
    "       $$ f(x | \\beta) =  \\mu \\ \\log( x + \\beta) - x + \\mathrm{const}$$\n",
    "\n",
    "    where the peak is at $x=x_p=\\max(0, \\mu-\\beta)$, and the constant is defined so that $f(x_p)=0$.\n",
    "\n",
    "    \"\"\"\n",
    "\n",
    "    def __init__(self, p:'array of parameters'):\n",
    "        \"\"\"p : array of parameters\n",
    "        \"\"\"\n",
    "        self.p = p\n",
    "\n",
    "    def __call__(self, dom):\n",
    "        \"\"\"Return the value(s) of the fit function for the given domain.\"\"\"\n",
    "        sp,e,b = self.p\n",
    "        b = abs(b) # this is a bit of a kluge to keep log argument positive\n",
    "        if b==0: b = 1e-20 #another kludge\n",
    "        e = abs(e) #and another\n",
    "        r = e*(dom+b)\n",
    "        r_peak = e*(sp+b)\n",
    "        if sp > 0:\n",
    "            const = r_peak*np.log(r_peak) - r_peak\n",
    "        else:\n",
    "            #sp=0\n",
    "            #const = r_peak*np.log(r_peak) - r_peak\n",
    "            t = e*b\n",
    "            const = r_peak*np.log(t) - t\n",
    "        f = r_peak*np.log(r) - r\n",
    "        return f - const\n",
    "\n",
    "    def __str__(self):\n",
    "\n",
    "        e, beta, mu = self.altpars()\n",
    "        return f'Poisson: mu,beta= {mu:.1f}, {beta:.1f}'\n",
    "\n",
    "    def __repr__(self):\n",
    "        if self.flux==0:\n",
    "            return 'flux is zero for source'\n",
    "        t = np.array(self.errors)/self.flux-1\n",
    "        relerr = np.abs(np.array(self.errors)/self.flux-1)\n",
    "        return f'{self.__module__}.{self.__class__.__name__}: {self.flux:.3f}[1+{relerr[0]:.3f}-{relerr[1]:.3f}]'\n",
    "\n",
    "    @property\n",
    "    def flux(self):\n",
    "        return max(self.p[0], 0)\n",
    "\n",
    "    @property\n",
    "    def errors(self):\n",
    "        return self.find_delta()\n",
    "\n",
    "    @property\n",
    "    def ts(self):\n",
    "        return 0 if self.flux<=0 else (self(self.flux)-self(0))*2.0\n",
    "\n",
    "\n",
    "    def altpars(self):\n",
    "        \"\"\" return alternate parameters: e, beta, mu \"\"\"\n",
    "        e = abs(self.p[1])\n",
    "        beta = e * abs(self.p[2])\n",
    "        mu =   e * self.p[0] + beta\n",
    "        return e,beta,mu\n",
    "\n",
    "    def find_delta(self,delta_logl=.5):\n",
    "        \"\"\"Find points where the function decreases by delta from the max\"\"\"\n",
    "        smax = max(0,self.p[0])\n",
    "        ll_max = self(smax)\n",
    "        ll_zero = self(0)\n",
    "        func = lambda s: ll_max-self(s)-delta_logl\n",
    "        if ll_max-ll_zero<delta_logl:\n",
    "            s_low = 0\n",
    "        else:\n",
    "            #s_low = optimize.bisect(func,0,smax,xtol=.01*smax)\n",
    "            s_low = optimize.brentq(func,0,smax,xtol=1e-17)\n",
    "        if smax>0:\n",
    "            s_high = smax*10\n",
    "        else:\n",
    "            s_high = 1e-15\n",
    "        while func(s_high)<0: s_high*=2\n",
    "        #s_high = optimize.bisect(func,smax,s_high,xtol=.01*smax)\n",
    "        s_high = optimize.brentq(func,smax,s_high,xtol=1e-17)\n",
    "        if not np.all(np.isreal([s_low,s_high])):\n",
    "            print('Could not find two roots!')\n",
    "            return None\n",
    "        return (s_low,s_high)\n",
    "\n",
    "    def cdf(self, flux ):\n",
    "        \"\"\" cumulative pdf, from flux=0, according to Bayes\n",
    "        uses incomplete gamma function for integrals. (Note that the scipy function\n",
    "        is a regularized incomplete gamma function)\n",
    "        \"\"\"\n",
    "        e, beta, mu = self.altpars()\n",
    "        offset = special.gammainc(mu+1, beta) # Bayes offset if beta>0\n",
    "        return (special.gammainc(mu+1, beta+flux*e)-offset)/(1-offset)\n",
    "\n",
    "    def cdfc(self,flux):\n",
    "        \"\"\" complementary cumulative cdf: 1-cdf(flux)\"\"\"\n",
    "        e, beta, mu = self.altpars()\n",
    "        return special.gammaincc(mu+1, beta+flux*e)/special.gammaincc(mu+1, beta)\n",
    "\n",
    "    def cdfinv(self, pval):\n",
    "        \"\"\" return the inverse of the cdf\n",
    "         pval : float\n",
    "        \"\"\"\n",
    "        e,beta,mu = self.altpars()\n",
    "        gbar = lambda x : special.gammainc(mu+1, beta+x)\n",
    "        chatinv = lambda pv : special.gammaincinv(mu+1, pv+gbar(0)*(1-pv))-beta\n",
    "        return  chatinv(pval)/e\n",
    "\n",
    "    def cdfcinv(self, pvalc):\n",
    "        \"\"\" return the inverse of cdfc = 1-cdf\n",
    "        useful for limits with very low probablity\n",
    "        pvalc : float\n",
    "            1-pval: zero corresponds to infinite flux\n",
    "        \"\"\"\n",
    "        e,beta,mu = self.altpars()\n",
    "        if e==0: return np.nan\n",
    "        gcbar = lambda x : special.gammaincc(mu+1, beta+x)\n",
    "        #cchat = lambda x : gcbar(x)/gcbar(0)\n",
    "        cchatinv = lambda pv : special.gammainccinv( mu+1, pv*gcbar(0) )-beta\n",
    "        return cchatinv(pvalc)/e\n",
    "\n",
    "    def percentile(self, limit=0.95):\n",
    "        \"\"\"Left for compatibility: use cdfinv or cdfcinv\n",
    "        \"\"\"\n",
    "        if limit>=0.95: return self.cdfcinv(1-limit)\n",
    "        return self.cdfinv(limit)\n",
    "\n",
    "    def pts(self):\n",
    "        return 0 if self.flux<=0 else (self(self.flux)-self(0))*2.0\n",
    "\n",
    "    def zero_fraction(self):\n",
    "        \"\"\" Return an estimate of the fraction of the probability that corresponds\n",
    "        to negative flux. Assume only have to calculate if TS>0 or TS<16\n",
    "        \"\"\"\n",
    "        if self.ts==0: return 1.0\n",
    "        if self.ts>16: return 0.0\n",
    "        #this assumes that self.cdfc(0) is 1.0, and that cdfc(-b) is the full integral\n",
    "        return 1-1./self.cdfc(-self.p[2])\n",
    "\n",
    "    def sigma_dev(self, val):\n",
    "        \"\"\"Express the deviation of `val` from compatibility with this PDF using a sigma measure\"\"\"\n",
    "        # norm(0,1).isf is inverse survival probability for Gaussian\n",
    "        return stats.norm(0,1).isf(self.cdf(val))\n",
    "\n",
    "    @classmethod\n",
    "    def from_fit(cls, counts, flux, sig_flux, tol=5):\n",
    "        \"\"\"\n",
    "        Create a Poisson instance using the fit parameters from an analysis\n",
    "        of a likelihood function.\n",
    "\n",
    "        - counts -- number of weights\n",
    "        - flux -- peak value, in flux units\n",
    "        - sig_flux -- its standard deviation, square root of the variance\n",
    "\n",
    "        This is relevant if the likelihood is not truncated by the Bayes requirement.\n",
    "\n",
    "        If $s$ and $v$ are the signal rate and its variance, determined by an optimization for $n$ measurements,\n",
    "        so $s$ is large compared with $\\sqrt{v}$, then the poisson-like parameters can be determined as follows.\n",
    "\n",
    "        We use the properties of the Poisson distribution\n",
    "        $f(n;\\lambda) = \\exp(n \\log\\lambda - \\lambda + \\mathrm{const})$,\n",
    "        where the parameter $\\lambda$ is equal to the expected value of number of occurrences $n$ and\n",
    "        to its variance, and that the function we want is shifted by the background $b$ and scaled by a factor\n",
    "        $k$ so we use $f(k(s-b)| \\lambda)$. This implies that for the expected value of $s$, $\\lambda = n$,\n",
    "        and $ k(s-b)= k^2 v = n$.\n",
    "\n",
    "        \"\"\"\n",
    "        mu = counts\n",
    "        beta =  counts-np.sqrt(counts)/(sig_flux/flux)\n",
    "        assert beta>=0, f'std invalid, too small for number of counts'\n",
    "        k = (mu-beta) /flux\n",
    "        b = beta/k\n",
    "        P = cls([flux, k , b])\n",
    "        # check values at 0 and the peaks\n",
    "        if P(0) > -tol**2/2:\n",
    "            raise(f'Bayes violation: P(0)= {P(0):.2f} too large for'\\\n",
    "                f' {tol} sigma limit. ')\n",
    "\n",
    "        assert np.abs(P(flux))<1e-3, f'Fail validity: peak {P(mean)}'\n",
    "        return P"
   ]
  },
  {
   "cell_type": "code",
   "execution_count": null,
   "metadata": {},
   "outputs": [
    {
     "data": {
      "text/markdown": [
       "<h2 id=\"Poisson\" class=\"doc_header\"><code>class</code> <code>Poisson</code><a href=\"\" class=\"source_link\" style=\"float:right\">[source]</a></h2>\n",
       "\n",
       "> <code>Poisson</code>(**`p`**:`array of parameters`)\n",
       "\n",
       "This is a functor class which returns the log of a three-parameter Poisson-like function used to represent\n",
       "the flux likelihood. The parameters are, in order:\n",
       "\n",
       "$s_p$ : flux at peak, if positive; if negative, there is only a limit\n",
       "\n",
       "$e$ : normalization factor to convert flux to equivalent counts. must be >0\n",
       "\n",
       "$b$  : background flux: must be >=0\n",
       "\n",
       "This parameterization is equivalent to that described in William Tompkins' thesis \n",
       "(arxiv: astro-ph/0202141) and Nolan, et al., 2003,  ApJ 597:615:627. \n",
       "The functional form is that of a Poisson distribution.\n",
       "\n",
       "The log likelihood expression is for flux $s>=0$\n",
       "   $$w(s | s_p,e,b) = e\\ (s_p+b) \\ \\log[ e\\ (s+b) ] - e\\ s + \\mathrm{const}$$\n",
       "the const is such that $w=0$ at the peak.\n",
       "\n",
       "A slightly more elegant expression, used in the cdf function, is to define\n",
       "   $\\beta = e b$,  $\\mu = e s_p + \\beta$, and  $x = e s$.\n",
       "   \n",
       "Then the log likelihood is\n",
       "\n",
       "   $$ f(x | \\beta) =  \\mu \\ \\log( x + \\beta) - x + \\mathrm{const}$$\n",
       "\n",
       "where the peak is at $x=x_p=\\max(0, \\mu-\\beta)$, and the constant is defined so that $f(x_p)=0$."
      ],
      "text/plain": [
       "<IPython.core.display.Markdown object>"
      ]
     },
     "metadata": {},
     "output_type": "display_data"
    },
    {
     "data": {
      "text/markdown": [
       "<h4 id=\"Poisson.from_fit\" class=\"doc_header\"><code>Poisson.from_fit</code><a href=\"__main__.py#L172\" class=\"source_link\" style=\"float:right\">[source]</a></h4>\n",
       "\n",
       "> <code>Poisson.from_fit</code>(**`counts`**, **`flux`**, **`sig_flux`**, **`tol`**=*`5`*)\n",
       "\n",
       "Create a Poisson instance using the fit parameters from an analysis\n",
       "of a likelihood function.\n",
       "\n",
       "- counts -- number of weights\n",
       "- flux -- peak value, in flux units \n",
       "- sig_flux -- its standard deviation, square root of the variance\n",
       "\n",
       "This is relevant if the likelihood is not truncated by the Bayes requirement.\n",
       "\n",
       "If $s$ and $v$ are the signal rate and its variance, determined by an optimization for $n$ measurements,\n",
       "so $s$ is large compared with $\\sqrt{v}$, then the poisson-like parameters can be determined as follows.\n",
       "\n",
       "We use the properties of the Poisson distribution \n",
       "$f(n;\\lambda) = \\exp(n \\log\\lambda - \\lambda + \\mathrm{const})$, \n",
       "where the parameter $\\lambda$ is equal to the expected value of number of occurrences $n$ and \n",
       "to its variance, and that the function we want is shifted by the background $b$ and scaled by a factor\n",
       "$k$ so we use $f(k(s-b)| \\lambda)$. This implies that for the expected value of $s$, $\\lambda = n$,\n",
       "and $ k(s-b)= k^2 v = n$."
      ],
      "text/plain": [
       "<IPython.core.display.Markdown object>"
      ]
     },
     "metadata": {},
     "output_type": "display_data"
    }
   ],
   "source": [
    "show_doc(Poisson)\n",
    "show_doc(Poisson.from_fit)"
   ]
  },
  {
   "cell_type": "code",
   "execution_count": null,
   "metadata": {},
   "outputs": [],
   "source": [
    "\n",
    "# simple test: for 10K counts the error is 1% if no background \n",
    "t = Poisson.from_fit(10000, 2, 0.02 )\n",
    "assert str(t)=='Poisson: mu,beta= 10000.0, 0.0', f'Fail: got {str(t)}'"
   ]
  },
  {
   "cell_type": "code",
   "execution_count": null,
   "metadata": {},
   "outputs": [
    {
     "data": {
      "text/markdown": [
       "<h3 id=\"Poisson.__call__\" class=\"doc_header\"><code>Poisson.__call__</code><a href=\"__main__.py#L40\" class=\"source_link\" style=\"float:right\">[source]</a></h3>\n",
       "\n",
       "> <code>Poisson.__call__</code>(**`dom`**)\n",
       "\n",
       "Return the value(s) of the fit function for the given domain."
      ],
      "text/plain": [
       "<IPython.core.display.Markdown object>"
      ]
     },
     "metadata": {},
     "output_type": "display_data"
    },
    {
     "data": {
      "text/markdown": [
       "### Examples\n",
       "Here we generate and plot several instances, all with the $e$ parameter set to one, so the flux is in counts.\n",
       "\n",
       "The peak ($s_p$) and  background ($b$) parameters are chosen from the following list:\n",
       "\n",
       "<p style=\"margin-left: 5%\"><samp>[(10, 5), (10, 0), (-5, 5), (-5, 1)]</samp></p>\n",
       "\n",
       "The first two, with the peak at 10, show the effect of background. The last two show an example with a\n",
       "peak less than zero, so that the Bayesian likelihood peaks at zero, and the effect of background on it.\n",
       "\n",
       "<div class=\"nbdoc_image\">\n",
       "<figure style=\"margin-left: 5%\" title=\"Figure 1\">  <a href=\"images/poisson_doc_fig_01.png\" title=\"images/poisson_doc_fig_01.png\">    <img src=\"images/poisson_doc_fig_01.png\" alt=\"Figure 1 at images/poisson_doc_fig_01.png\" >   </a>  <figcaption><b>Figure 1</b>. Poisson-like plots</figcaption></figure>\n",
       "</div>\n",
       "\n",
       "\n",
       "-----------\n"
      ],
      "text/plain": [
       "<utilities.ipynb_docgen.doc_formatter.<locals>.MimeBundleObject at 0x7f8b5aa4fc90>"
      ]
     },
     "metadata": {},
     "output_type": "display_data"
    }
   ],
   "source": [
    "show_doc(Poisson.__call__, title_level=3 )\n",
    "\n",
    "from utilities import nbdoc\n",
    "\n",
    "def poisson_doc():\n",
    "    \"\"\"\n",
    "    ### Examples\n",
    "    Here we generate and plot several instances, all with the $e$ parameter set to one, so the flux is in counts.\n",
    "\n",
    "    The peak ($s_p$) and  background ($b$) parameters are chosen from the following list:\n",
    "\n",
    "    {pars}\n",
    "\n",
    "    The first two, with the peak at 10, show the effect of background. The last two show an example with a\n",
    "    peak less than zero, so that the Bayesian likelihood peaks at zero, and the effect of background on it.\n",
    "\n",
    "    {fig}\n",
    "    \n",
    "    -----------\n",
    "    \"\"\"\n",
    "    from wtlike.poisson import Poisson\n",
    "    import matplotlib.pyplot as plt\n",
    "    xlim = (0,20); ylim=(-20,0.5)\n",
    "\n",
    "    pars = [(10,5), (10, 0), (-5, 5), (-5,1)]\n",
    "\n",
    "    x = np.linspace(*xlim)\n",
    "    ax = plt.gca()\n",
    "    fig = ax.figure\n",
    "    fig.caption='Poisson-like plots'\n",
    "    for p in pars:\n",
    "        fun = Poisson([p[0], 1, p[1]])\n",
    "        ax.plot(x, fun(x), label=str(p), lw=2) \n",
    "    ax.grid(alpha=0.5)\n",
    "    ax.legend()\n",
    "    ax.set(xlabel='flux', ylabel='Log likelihood', xlim=xlim, ylim=ylim);\n",
    "    fig.set_facecolor('white')\n",
    "    \n",
    "    return locals()\n",
    "\n",
    "nbdoc(poisson_doc)"
   ]
  },
  {
   "cell_type": "code",
   "execution_count": null,
   "metadata": {},
   "outputs": [],
   "source": [
    "#export\n",
    "class PoissonFitter(object):\n",
    "    \"\"\" Helper class to fit a log likelihood function to the Poisson\n",
    "\n",
    "    parameters\n",
    "    ----------\n",
    "    - func : function of one parameter\n",
    "    - fmax : position of maximum value, or None\n",
    "           if None, estimate using fmin\n",
    "    - scale: float | None\n",
    "        estimate for scale to use; if None, estimate from derivatime\n",
    "    - tol : float\n",
    "        absolute tolerance in probability amplitude for fit, within default domain out to delta L of 4\n",
    "    - delta : float\n",
    "        value to calculate numerical derivative at zero flux\n",
    "\n",
    "    \"\"\"\n",
    "\n",
    "    def __init__(self, func, fmax=None, scale=None,  tol=0.20, delta=1e-4, dd=-0.1, test_mode=False):\n",
    "        \"\"\"\n",
    "        parameters\n",
    "        ----------\n",
    "        func : function of one parameter\n",
    "        fmax : position of maximum value, or None\n",
    "               if None, estimate using fmin\n",
    "        scale: float | None\n",
    "            estimate for scale to use; if None, estimate from derivatime\n",
    "        tol : float\n",
    "            absolute tolerance in probability amplitude for fit, within default domain out to delta L of 4\n",
    "        delta : float\n",
    "            value to calculate numerical derivative at zero flux\n",
    "        \"\"\"\n",
    "        self.func = func\n",
    "        #first check derivative at zero flux - delta is sensitive\n",
    "        self.f0 = func(0)\n",
    "        s = self.wprime = (func(delta)-self.f0)/delta\n",
    "        if scale is None: scale= 5/s if s>0 else 1.0\n",
    "        self.smax = fmax or self.find_max(scale) if s>=0 else 0.\n",
    "\n",
    "        self.ts = 2.*(func(self.smax) - self.f0)\n",
    "\n",
    "        if test_mode:\n",
    "            return\n",
    "        # determine values of the function corresponding to delta L of 0.5, 1, 2, 4\n",
    "        # depending on how peaked the function is, this will be from 5 to 8\n",
    "        # The Poisson will be fit to this set of values\n",
    "        dlist = np.array([0.5, 1.0, 2.0, 4.0])\n",
    "        if s < dd:\n",
    "            # large negative derivative: this will be just an exponential\n",
    "            if s < -100: s=-100. #cut off for now\n",
    "            self.dom = - dlist/s\n",
    "            self._poiss= Poisson([-1, -s, 1])\n",
    "            self.maxdev=0\n",
    "            return #no test in this case\n",
    "        else:\n",
    "            dom = set()\n",
    "            for delta in dlist:\n",
    "                a,b = self.find_delta(delta, scale, xtol=tol*1e-2)\n",
    "                dom.add(a); dom.add(b)\n",
    "            self.dom = np.array(sorted(list(dom)))\n",
    "            self.fit()\n",
    "        self.maxdev=self.check(tol)[0]\n",
    "\n",
    "    def __repr__(self):\n",
    "        return '%s.%s : wprime=%.3e maxdev=%.2f, %s' % (self.__module__,self.__class__.__name__,\n",
    "            self.wprime, self.maxdev,  str(self._poiss))\n",
    "\n",
    "    @property\n",
    "    def poiss(self):\n",
    "        return self._poiss\n",
    "\n",
    "    def __call__(self, x):\n",
    "        if hasattr(x, '__iter__'):\n",
    "            ret =list(map(self.func, x))\n",
    "            return ret[0] if len(ret)==1 else ret\n",
    "        return self.func(x)\n",
    "\n",
    "    def find_max(self, scale):\n",
    "        \"\"\"Return the flux value that maximizes the likelihood.\n",
    "        \"\"\"\n",
    "        # if self.func(0) > self.func(scale/10.) and self.wprime<0:\n",
    "        #     return 0\n",
    "        r= optimize.fmin(lambda s: -self.func(s), scale, ftol=0.01, xtol=0.01,\n",
    "                disp=False, full_output=True, retall=True)\n",
    "        t = r[0][0]\n",
    "        #if t==scale:\n",
    "        #    raise Exception('Failure to find max value: %s' % list(r))\n",
    "        return t if t>0 else 0\n",
    "\n",
    "    def find_delta(self, delta_logl=.5, scale=1.0, xtol=1e-5):\n",
    "        \"\"\"Find positive points where the function decreases by delta from the max\n",
    "        \"\"\"\n",
    "        ll_max = self(self.smax)\n",
    "        ll_zero = self(0)\n",
    "        func = lambda s: ll_max-self(s)-delta_logl\n",
    "        if ll_max-ll_zero<delta_logl:\n",
    "            s_low = 0\n",
    "        else:\n",
    "            s_low = optimize.brentq(func,0, self.smax, xtol=xtol)\n",
    "        if self.smax>0:\n",
    "            s_high = self.smax*10\n",
    "        else:\n",
    "            s_high = scale\n",
    "        while func(s_high)<0 and s_high<1e6:\n",
    "            s_high*=2\n",
    "        s_high = optimize.brentq(func,self.smax,s_high, xtol=xtol)\n",
    "        if not np.all(np.isreal([s_low,s_high])):\n",
    "            msg = '%s.find_delta Failed to find two roots!' % self.__class__.__name__\n",
    "            print(msg)\n",
    "            raise Exception( msg)\n",
    "        if s_high==s_low:\n",
    "            msg= '%s.find_delta Failed to find high root with delta=%.1f: %s' % (self.__class__.__name__,delta_logl,s_high)\n",
    "            print(msg)\n",
    "            print('wprime: %.3e' % self.wprime)\n",
    "            raise Exception(msg)\n",
    "        return (s_low,s_high)\n",
    "\n",
    "    def fit(self, mu=30, beta=5):\n",
    "        \"\"\"Do the fit, return parameters for a Poisson constructor\n",
    "        mu, beta: initial parameters for the fit if the peak is positive\n",
    "        \"\"\"\n",
    "        smax = self.smax\n",
    "        if smax>0:\n",
    "            # function to fit has positive peak. Fit the drived parameters mu, beta\n",
    "            cod = self(self.dom)-self.func(smax)\n",
    "            #print 'smax=%.2f, w(smax)=%s, w(%s)=%s' % (smax,self.func(smax), self.dom, cod)\n",
    "            def fitfunc(p):\n",
    "                mu,beta=p\n",
    "                e=(mu-beta)/smax; b = beta/e\n",
    "                self._poiss = Poisson([smax, e,b])\n",
    "                r = self._poiss(self.dom)-cod\n",
    "                #print'f(%.3f,%.3f): %s' % (mu,beta,r)\n",
    "                return r\n",
    "            mu,beta =  optimize.leastsq(fitfunc,[mu,beta], ftol=1e-6,xtol=1e-6, maxfev=10000)[0]\n",
    "\n",
    "            e = (mu-beta)/smax; b = beta/e\n",
    "            return [smax, e, b]\n",
    "        else:\n",
    "            # maximum is at zero, so only limit.\n",
    "            x=self.dom; y=self(x)\n",
    "            # exposure factor estimated from asymptotic behavior\n",
    "            big= x[-1]*1e3; e = -self(big)/big;\n",
    "            # preliminary fit to the quadratic coeficients and estimate parameters from the linear and 2nd order\n",
    "            pf = polyfit(x,y, 2)\n",
    "            b,a = pf[:2]\n",
    "            beta = -e*(e+a)/(2.*b)\n",
    "            mu = beta*(1+a/e)\n",
    "            smax= (mu-beta)/e; b= beta/e\n",
    "            # now fit the Poisson with e fixed to the asym. estimate.\n",
    "            cod = self(self.dom)-self(0)\n",
    "            pinit = [smax,  b]\n",
    "            def fitfunc(p):\n",
    "                self._poiss = Poisson([p[0], e, p[1]])\n",
    "                return self._poiss(x) -cod\n",
    "            t =  optimize.leastsq(fitfunc,  pinit,  xtol=1e-6,ftol=1e-6, maxfev=10000)[0]\n",
    "            return self._poiss.p\n",
    "\n",
    "    def check(self, tol=0.05):\n",
    "        offset = self(self.smax)\n",
    "        dom =self.dom[1:] # ignore first on\n",
    "        deltas = np.array([np.exp(self.func(x)-offset)-np.exp(self._poiss(x)) for x in dom])\n",
    "        t = np.abs(deltas).max()\n",
    "        if t>tol:\n",
    "            raise Exception(f'PoissonFitter: max dev= {t:.3f} > tol= {tol}. (wprime={self.wprime:.2f})' )\n",
    "        return t, deltas\n",
    "\n",
    "    def plot(self, ax=None, xticks=True, legend=True ):\n",
    "        \"\"\"Return a figure showing the fit\"\"\"\n",
    "        import matplotlib.pyplot as plt\n",
    "        xp = self.dom\n",
    "        x = np.linspace(0, xp[-1]*1.05, 25)\n",
    "        if ax is None:\n",
    "            fig, ax = plt.subplots(figsize=(3,3))\n",
    "        else: fig = ax.figure\n",
    "        pfmax = self(self.smax)\n",
    "        ax.plot(x, np.exp(self(x)-pfmax), '-', label='Input function')\n",
    "        ax.plot(xp, np.exp(self(xp)-pfmax), 'o', color='orange', label='points used for approx.')\n",
    "        ax.plot(x, np.exp(self._poiss(x)), '--', lw=2,color='orange', label='Poisson approx.')\n",
    "        if legend: ax.legend(loc='upper right', prop=dict(size=8) )\n",
    "        ax.set(xlim=(0,None), ylim=(0,1.05))\n",
    "        if xticks:\n",
    "            ax.set_xticks([0, xp[-1]])\n",
    "        ax.grid(alpha=0.4)\n",
    "        fig.set_facecolor('white')\n",
    "        return fig\n",
    "\n",
    "    def normalization_summary(self, nominal=None):\n",
    "        \"\"\"return a dict with useful stuff for normalization check\n",
    "            nominal: None or float\n",
    "                if specified, calculate delta_ts and pull\n",
    "        \"\"\"\n",
    "        poiss = self.poiss\n",
    "        lower, upper = poiss.errors\n",
    "        maxl = poiss.flux\n",
    "        err = self.maxdev\n",
    "        if nominal is not None:\n",
    "            mf =self(nominal)\n",
    "            delta_ts = 2.*(self(maxl) - mf )\n",
    "        if lower>0:\n",
    "            pull = np.sign(maxl-mf) * np.sqrt(max(0, delta_ts))\\\n",
    "            if nominal is not None else None\n",
    "            summary  = dict(\n",
    "                maxl=maxl,\n",
    "                lower=lower, upper=upper,\n",
    "                ts=self.ts, # poiss.ts,\n",
    "                err=err,\n",
    "                )\n",
    "        else:\n",
    "            # just an upper limit\n",
    "            pull = -np.sqrt(max(0, delta_ts)) if nominal is not None else None\n",
    "            summary= dict(maxl=0,lower=0, upper=poiss.cdfinv(0.05), ts=0,\n",
    "                 err=err,\n",
    "                )\n",
    "        if nominal is not None:\n",
    "            summary.update(delta_ts=delta_ts, pull=pull)\n",
    "        return summary"
   ]
  },
  {
   "cell_type": "code",
   "execution_count": null,
   "metadata": {},
   "outputs": [
    {
     "data": {
      "text/markdown": [
       "<h2 id=\"PoissonFitter\" class=\"doc_header\"><code>class</code> <code>PoissonFitter</code><a href=\"\" class=\"source_link\" style=\"float:right\">[source]</a></h2>\n",
       "\n",
       "> <code>PoissonFitter</code>(**`func`**, **`fmax`**=*`None`*, **`scale`**=*`None`*, **`tol`**=*`0.2`*, **`delta`**=*`0.0001`*, **`dd`**=*`-0.1`*, **`test_mode`**=*`False`*)\n",
       "\n",
       "Helper class to fit a log likelihood function to the Poisson\n",
       "\n",
       "parameters\n",
       "----------\n",
       "- func : function of one parameter\n",
       "- fmax : position of maximum value, or None\n",
       "       if None, estimate using fmin\n",
       "- scale: float | None\n",
       "    estimate for scale to use; if None, estimate from derivatime\n",
       "- tol : float\n",
       "    absolute tolerance in probability amplitude for fit, within default domain out to delta L of 4\n",
       "- delta : float\n",
       "    value to calculate numerical derivative at zero flux"
      ],
      "text/plain": [
       "<IPython.core.display.Markdown object>"
      ]
     },
     "metadata": {},
     "output_type": "display_data"
    },
    {
     "data": {
      "text/markdown": [
       "### Usage \n",
       "\n",
       "If `func` is a log-likelihood function, the parameterized fit object is returned by\n",
       "\n",
       "```\n",
       "fpois = PoissonFitter(func).poiss\n",
       "\n",
       "```\n",
       "Test by fitting to the same functions generated in the  `Poisson` test/demo,\n",
       "the  ( $s_p, b$ ) pairs.\n",
       "\n",
       "<p style=\"margin-left: 5%\"><samp>[(10, 5), (10, 0), (-5, 5), (-5, 0.5)]</samp></p>\n",
       "\n",
       "The output shows the maximum error and the fit parameters for each test:\n",
       "<div style=\"margin-left: 5%\"><pre>error: 2.3e-05, fit: [10.     1.     5.001]<br>error: 5.5e-04, fit: [9.997 1.    0.   ]<br>error: 8.6e-13, fit: [-1.  1.  1.]<br>error: 4.5e-02, fit: [-1.     9.999  1.   ]<br></pre></div>\n",
       "\n",
       "Here are plots of the probability, created with `PoissonFitter.plot`, showing the input function, \n",
       "and the points that were used for the evaluation, with the output function as a dashed line. \n",
       "<div class=\"nbdoc_image\">\n",
       "<figure style=\"margin-left: 5%\" title=\"Figure 1\">  <a href=\"images/usage_fig_01.png\" title=\"images/usage_fig_01.png\">    <img src=\"images/usage_fig_01.png\" alt=\"Figure 1 at images/usage_fig_01.png\" width=600>   </a>  <figcaption><b>Figure 1</b>. Fit examples.</figcaption></figure>\n",
       "</div>\n",
       "\n"
      ],
      "text/plain": [
       "<utilities.ipynb_docgen.doc_formatter.<locals>.MimeBundleObject at 0x7f8b5a8843d0>"
      ]
     },
     "metadata": {},
     "output_type": "display_data"
    }
   ],
   "source": [
    "show_doc(PoissonFitter)\n",
    "from utilities.ipynb_docgen import *\n",
    "\n",
    "\n",
    "def usage():\n",
    "    r\"\"\"\n",
    "    ### Usage \n",
    "\n",
    "    If `func` is a log-likelihood function, the parameterized fit object is returned by\n",
    "\n",
    "    ```\n",
    "    fpois = PoissonFitter(func).poiss\n",
    "\n",
    "    ```\n",
    "    Test by fitting to the same functions generated in the  `Poisson` test/demo,\n",
    "    the  ( $s_p, b$ ) pairs.\n",
    "\n",
    "    {pars}\n",
    "\n",
    "    The output shows the maximum error and the fit parameters for each test:\n",
    "    {printout}\n",
    "\n",
    "    Here are plots of the probability, created with `PoissonFitter.plot`, showing the input function, \n",
    "    and the points that were used for the evaluation, with the output function as a dashed line. \n",
    "    {fig}\n",
    "\n",
    "    \"\"\"\n",
    "    from wtlike.poisson import Poisson, PoissonFitter\n",
    "    from scipy import optimize\n",
    "\n",
    "    \n",
    "    func = Poisson([10,1,5])\n",
    "\n",
    "    pars = [(10,5), (10, 0), (-5, 5), (-5,0.5)]\n",
    "\n",
    "    fig, axx = plt.subplots(1,4, figsize=(12,3), sharey=True)        \n",
    "    with capture_print() as printout:\n",
    "        for p,ax in zip(pars, axx.flatten() ):\n",
    "            pf = PoissonFitter( Poisson([p[0], 1.0, p[-1]]) )\n",
    "            print( f'error: {pf.check()[0]:.1e}, fit: {np.array(pf.poiss.p).round(3)}')\n",
    "            pf.plot(ax=ax, legend=False);\n",
    "    fig.caption='Fit examples.' \n",
    "    fig.width=600\n",
    "    return locals()\n",
    "\n",
    "nbdoc(usage)"
   ]
  },
  {
   "cell_type": "markdown",
   "metadata": {},
   "source": [
    "## Tests"
   ]
  },
  {
   "cell_type": "markdown",
   "metadata": {},
   "source": [
    "### Study tail when a limit"
   ]
  },
  {
   "cell_type": "code",
   "execution_count": null,
   "metadata": {},
   "outputs": [
    {
     "name": "stdout",
     "output_type": "stream",
     "text": [
      "error: 4.4e-04, fit: [49.998  9.916  4.538]\n"
     ]
    },
    {
     "data": {
      "image/png": "[encoded data removed]",
      "text/plain": [
       "<Figure size 216x216 with 1 Axes>"
      ]
     },
     "metadata": {},
     "output_type": "display_data"
    }
   ],
   "source": [
    "e=10\n",
    "p = Poisson([5*e, e, 0.5*e])\n",
    "pf = PoissonFitter(p); \n",
    "print( f'error: {pf.check()[0]:.1e}, fit: {np.array(pf.poiss.p).round(3)}')\n",
    "pf.plot();"
   ]
  },
  {
   "cell_type": "code",
   "execution_count": null,
   "metadata": {},
   "outputs": [
    {
     "name": "stdout",
     "output_type": "stream",
     "text": [
      "Poisson: mu,beta= 510.0, 10.0 (10, 10.0, 510.0) [50, 10, 1.0]\n"
     ]
    },
    {
     "data": {
      "text/plain": [
       "([49.999904510304965, 10, 1.0001000868166177],\n",
       " (510.0000459712158, 10.001000868166177))"
      ]
     },
     "execution_count": null,
     "metadata": {},
     "output_type": "execute_result"
    }
   ],
   "source": [
    "e=10\n",
    "p = Poisson([5*e, e, 0.1*e])\n",
    "print(p,p.altpars(), p.p)\n",
    "\n",
    "# Derive parameters, assuming mu<0\n",
    "from scipy.misc import derivative\n",
    "g,h = [derivative(p, 0.0001, 1e-4, n) for n in (1,2)]\n",
    "\n",
    "beta=-(1+g/e)/(h/e**2)\n",
    "mu = beta*(1+g/e)\n",
    "pars = [(mu-beta)/e, e, beta/e] \n",
    "pars, (mu,beta)"
   ]
  },
  {
   "cell_type": "markdown",
   "metadata": {},
   "source": [
    "### Check high statistics, no background"
   ]
  },
  {
   "cell_type": "code",
   "execution_count": null,
   "metadata": {},
   "outputs": [
    {
     "name": "stdout",
     "output_type": "stream",
     "text": [
      "Input: mu =      100\tFit:   Poisson: mu,beta= 100.0, 0.0\n",
      "Input: mu =     1000\tFit:   Poisson: mu,beta= 1000.3, 0.1\n",
      "Input: mu =    10000\tFit:   Poisson: mu,beta= 10021.4, 10.7\n",
      "Input: mu =   100000\tFit:   Poisson: mu,beta= 114749.9, 7628.5\n",
      "Input: mu =  1000000\tFit:   Poisson: mu,beta= 1030016.1, 15119.3\n"
     ]
    }
   ],
   "source": [
    "\n",
    "for mu in np.logspace(2,6,5):\n",
    "    p = Poisson([mu, 1, 0])\n",
    "    print( f'Input: mu = {mu:-8.0f}', end='')\n",
    "    print (f'\\tFit:   {PoissonFitter(p, fmax=mu).poiss}' )\n"
   ]
  },
  {
   "cell_type": "code",
   "execution_count": null,
   "metadata": {},
   "outputs": [
    {
     "name": "stdout",
     "output_type": "stream",
     "text": [
      "Poisson: mu,beta= 10100.0, 100.0\n"
     ]
    },
    {
     "data": {
      "text/plain": [
       "([9999.997554752043, 0.9974355313909493, 74.10298197458243],\n",
       " [9999.997554752043, 0.9994459695779796, 94.40413079520135])"
      ]
     },
     "execution_count": null,
     "metadata": {},
     "output_type": "execute_result"
    }
   ],
   "source": [
    "\n",
    "p = Poisson([10000, 1.0, 100]) ; print(p)\n",
    "pf = PoissonFitter(p); pf.poiss.p\n",
    "\n",
    "pf.poiss.p, pf.fit(1e5, 100)"
   ]
  },
  {
   "cell_type": "code",
   "execution_count": null,
   "metadata": {},
   "outputs": [
    {
     "name": "stdout",
     "output_type": "stream",
     "text": [
      "Converted 00_config.ipynb.\n",
      "Converted 01_data_man.ipynb.\n",
      "Converted 01_effective_area.ipynb.\n",
      "Converted 02_gti.ipynb.\n",
      "Converted 02_source_data.ipynb.\n",
      "Converted 03_exposure.ipynb.\n",
      "Converted 04_photon_data.ipynb.\n",
      "Converted 05_weights.ipynb.\n",
      "Converted 06_poisson.ipynb.\n",
      "Converted 07_cell_data.ipynb.\n",
      "Converted 07_cells.ipynb.\n",
      "Converted 08_loglike.ipynb.\n",
      "Converted 09_lightcurve.ipynb.\n",
      "Converted 10_simulation.ipynb.\n",
      "Converted 14_bayesian.ipynb.\n",
      "Converted index.ipynb.\n",
      "Mon Apr 19 16:08:37 PDT 2021\n"
     ]
    }
   ],
   "source": [
    "#hide\n",
    "from nbdev.export import notebook2script\n",
    "notebook2script()\n",
    "!date"
   ]
  },
  {
   "cell_type": "code",
   "execution_count": null,
   "metadata": {},
   "outputs": [
    {
     "data": {
      "text/plain": [
       "0.07007475296860632"
      ]
     },
     "execution_count": null,
     "metadata": {},
     "output_type": "execute_result"
    }
   ],
   "source": [
    "(1.+0.00566)**12-1"
   ]
  },
  {
   "cell_type": "code",
   "execution_count": null,
   "metadata": {},
   "outputs": [
    {
     "data": {
      "text/plain": [
       "0.5833333333333334"
      ]
     },
     "execution_count": null,
     "metadata": {},
     "output_type": "execute_result"
    }
   ],
   "source": [
    "7/12"
   ]
  },
  {
   "cell_type": "code",
   "execution_count": null,
   "metadata": {},
   "outputs": [],
   "source": []
  }
 ],
 "metadata": {
  "kernelspec": {
   "display_name": "Python 3",
   "language": "python",
   "name": "python3"
  }
 },
 "nbformat": 4,
 "nbformat_minor": 4
}
