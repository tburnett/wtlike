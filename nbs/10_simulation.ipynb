{
 "cells": [
  {
   "cell_type": "code",
   "execution_count": null,
   "metadata": {},
   "outputs": [
    {
     "name": "stdout",
     "output_type": "stream",
     "text": [
      "Cells will be exported to wtlike.simulation,\n",
      "unless a different module is specified after an export flag: `%nbdev_export special.module`\n"
     ]
    }
   ],
   "source": [
    "from nbdev import *\n",
    "from utilities.ipynb_docgen import *\n",
    "%nbdev_default_export simulation\n",
    "%load_ext autoreload\n",
    "%autoreload 2"
   ]
  },
  {
   "cell_type": "markdown",
   "metadata": {},
   "source": [
    "# Simulation\n",
    "> Generate simulated cells using the weighted likelihood"
   ]
  },
  {
   "cell_type": "markdown",
   "metadata": {},
   "source": [
    "For simulation the distribution of weights is required. That can be a histogram or a function, an input to the `_WeightGenerator` class. The class is a functor, with the argument a number on the range (0,1).  Passing an array of uniform random numbers then creates set of weights distributed according to the model represented by the input weight distribution.\n",
    "\n",
    "To account for different levels of signal or background than that represented by the full dataset, the `_WeightGenerator` class accepts `alpha`($\\alpha$) and `beta` ($\\beta$) parameters, which will be used to weight the weight distribution  by a factor\n",
    "$$ 1 + \\alpha\\ w + \\beta \\ (1-w) $$ where $w$ represents the array of weight values.\n",
    "\n",
    "Generating a cell requires also the expected number of photons. If the average flux and exposure predict a number of events $\\mu$, we select the actual number from the Poisson distribution. \n",
    "\n",
    "This is done by `generate_cell`, which creates a list of weights depending on $\\alpha$, $\\beta$, and $\\mu$. \n",
    "\n",
    "Finally, `simulate_cells` makes a list of cells, based on the actual exposure of a source.\n"
   ]
  },
  {
   "cell_type": "code",
   "execution_count": null,
   "metadata": {},
   "outputs": [],
   "source": [
    "%nbdev_export\n",
    "import os\n",
    "import numpy as np\n",
    "import pandas as pd\n",
    "from scipy import stats\n",
    "\n",
    "from wtlike.config import Config, PointSource\n",
    "from wtlike.loglike import LogLike, PoissonRep\n",
    "from wtlike.lightcurve import LightCurve, fit_cells, flux_plot\n",
    "from wtlike.cell_data import concatenate_cells\n",
    "from wtlike.source_data import SourceData"
   ]
  },
  {
   "cell_type": "code",
   "execution_count": null,
   "metadata": {},
   "outputs": [],
   "source": [
    "%nbdev_export\n",
    "import numbers\n",
    "\n",
    "class _Sampler():\n",
    "    \"\"\" Sample an arbitrary function or histogram\n",
    "    \n",
    "    - func -- a function, a histogram, or a fixed value<br>\n",
    "        If a function, must be positive definite.<br>\n",
    "        Assume histogram bins are 0 to 1.\n",
    "    - a,b  -- limits (default 0,1)\n",
    "    - n    -- table size (ignored if a histogram or value)\n",
    "    \n",
    "    \"\"\"\n",
    "     \n",
    "    def __init__(self, func, limits=(0,1), n=100):\n",
    "\n",
    "        a,b = limits\n",
    "        self.x = np.linspace(a,b,n+1) # bin edges\n",
    "        dx = (b-a)/(n)/2\n",
    "        self.deltafun=None\n",
    "\n",
    "        if callable(func):\n",
    "            # A function\n",
    "            # evaluate at bin centers\n",
    "            y = np.array([func(t-dx) for t in self.x])\n",
    "            if np.any(y<0) or np.sum(y)==0:\n",
    "                raise ValueError('Function is not positive definite')\n",
    "        elif isinstance(func, numbers.Number):\n",
    "            # a single value, or delta function\n",
    "            self.deltafun = func\n",
    "            if  func<0 or func>1:\n",
    "                raise ValueError('Value not in range [0,1]')\n",
    "            self.mean=func\n",
    "            return\n",
    "        else:\n",
    "            n = len(func) \n",
    "            self.x = np.linspace(a,b,n)\n",
    "            y = func\n",
    "        cy = np.cumsum(y)\n",
    "        d = cy[-1]-cy[0]\n",
    "        self.sy = (cy-cy[0])/d\n",
    "        \n",
    "        self.mean = np.sum( (self.x-dx) * y) / d\n",
    "\n",
    "    def _evaluate(self, r):\n",
    "        \"\"\"evaluate inverse integral. expect 0<r<1 \"\"\"\n",
    "        return np.interp(r, self.sy, self.x)\n",
    "    \n",
    "    def __call__(self, size):\n",
    "        \"\"\"Generate `size` values\n",
    "        \"\"\"\n",
    "        if self.deltafun: return np.full(size, self.deltafun)\n",
    " \n",
    "        return self._evaluate(stats.uniform.rvs(size=size))"
   ]
  },
  {
   "cell_type": "code",
   "execution_count": null,
   "metadata": {},
   "outputs": [
    {
     "data": {
      "text/markdown": [
       "<h2 id=\"_Sampler\" class=\"doc_header\"><code>class</code> <code>_Sampler</code><a href=\"https://github.com/tburnett/wtlike/tree/master/wtlike/simulation.py#L20\" class=\"source_link\" style=\"float:right\">[source]</a></h2>\n",
       "\n",
       "> <code>_Sampler</code>(**`func`**, **`limits`**=*`(0, 1)`*, **`n`**=*`100`*)\n",
       "\n",
       "Sample an arbitrary function or histogram\n",
       "\n",
       "- func -- a function, a histogram, or a fixed value<br>\n",
       "    If a function, must be positive definite.<br>\n",
       "    Assume histogram bins are 0 to 1.\n",
       "- a,b  -- limits (default 0,1)\n",
       "- n    -- table size (ignored if a histogram or value)"
      ],
      "text/plain": [
       "<IPython.core.display.Markdown object>"
      ]
     },
     "metadata": {},
     "output_type": "display_data"
    }
   ],
   "source": [
    "from wtlike.simulation import _WeightGenerator, _Sampler\n",
    "show_doc(_Sampler, title_level=2)"
   ]
  },
  {
   "cell_type": "markdown",
   "metadata": {},
   "source": [
    "###   Gaussian and quadratic example functions\n"
   ]
  },
  {
   "cell_type": "code",
   "execution_count": null,
   "metadata": {},
   "outputs": [],
   "source": [
    "%nbdev_collapse_input\n",
    "n = 20\n",
    "sf = _Sampler(lambda x: np.exp(-(x**2)/2), limits=(-4, 4) )\n",
    "\n",
    "data = sf(10000)\n",
    "tests = np.array([np.abs(data.mean()), np.abs(data.std()-1) ])\n",
    "assert np.all(tests<5e-2 ), f'Failed Tests: mean {data.mean()}, std {data.std()}'\n",
    "\n",
    "func = lambda x: x**2\n",
    "wfun = _Sampler(func)\n",
    "\n",
    "test2 = wfun.mean,  np.mean(wfun(1000))\n",
    "assert np.abs( test2[0]-test2[1] ) < 1e-1, f'Not almost equal: {test2}'"
   ]
  },
  {
   "cell_type": "markdown",
   "metadata": {},
   "source": [
    "### Test generating weights from a source weight histogram"
   ]
  },
  {
   "cell_type": "code",
   "execution_count": null,
   "metadata": {},
   "outputs": [
    {
     "name": "stdout",
     "output_type": "stream",
     "text": [
      "photons and exposure for Geminga: Restoring from cache with key \"Geminga__data\"\n",
      "SourceData: Source Geminga with:\n",
      "\t data:     1,211,364 photons from   2008-08-04 to 2021-04-28\n",
      "\t exposure: 3,112,161 intervals from 2008-08-04 to 2021-04-28\n",
      "Weight histogram for Geminga: Restoring from cache with key \"Geminga_weight_hist\"\n"
     ]
    },
    {
     "data": {
      "image/png": "[encoded data removed]",
      "text/plain": [
       "<Figure size 576x288 with 1 Axes>"
      ]
     },
     "metadata": {
      "needs_background": "light"
     },
     "output_type": "display_data"
    }
   ],
   "source": [
    "%nbdev_collapse_input\n",
    "\n",
    "if Config().valid:\n",
    "    plt.rc('font', size=16)\n",
    "    photon_data = SourceData('Geminga')\n",
    "    h = photon_data.weight_histogram()\n",
    "    sf = _Sampler(h)\n",
    "    data = sf(10000)\n",
    "    fig,ax = plt.subplots(figsize=(8,4))\n",
    "    ax.hist(data, np.linspace(0,1, len(h)+1), density=True, \n",
    "            label=f'simulation with {len(data)} samples');\n",
    "    ax.step( np.linspace(0,1, len(h)+1) , np.concatenate([[h[0]], h])/np.sum(h)*len(h),\n",
    "           label=f'data, source {photon_data.source.name}');\n",
    "    ax.legend(prop=dict(size=12));"
   ]
  },
  {
   "cell_type": "code",
   "execution_count": null,
   "metadata": {},
   "outputs": [],
   "source": [
    "%nbdev_export\n",
    "class _WeightGenerator(_Sampler):\n",
    "    \"\"\"Generate a set of weights\n",
    "    \n",
    "    - `func` -- nominal weight distribution function, evaluated on (0,1)\n",
    "    - `alpha, beta` -- (default 0,0). Values for $\\\\alpha$, $\\\\beta$.\n",
    "    \n",
    "    \"\"\"\n",
    "    def __init__(self, func, alpha=0, beta=0, n=100):\n",
    "        if alpha==0 and beta==0:\n",
    "            fprime = func\n",
    "        else:\n",
    "            # weight the function\n",
    "            fprime = lambda w: func(w) * ( 1 + alpha*w + beta*(1-w) )\n",
    "        super().__init__( fprime, limits=(0,1),  n=n)"
   ]
  },
  {
   "cell_type": "code",
   "execution_count": null,
   "metadata": {},
   "outputs": [
    {
     "data": {
      "text/markdown": [
       "<h2 id=\"_WeightGenerator\" class=\"doc_header\"><code>class</code> <code>_WeightGenerator</code><a href=\"\" class=\"source_link\" style=\"float:right\">[source]</a></h2>\n",
       "\n",
       "> <code>_WeightGenerator</code>(**`func`**, **`alpha`**=*`0`*, **`beta`**=*`0`*, **`n`**=*`100`*) :: `_Sampler`\n",
       "\n",
       "Generate a set of weights\n",
       "\n",
       "- `func` -- nominal weight distribution function, evaluated on (0,1)\n",
       "- `alpha, beta` -- (default 0,0). Values for $\\alpha$, $\\beta$."
      ],
      "text/plain": [
       "<IPython.core.display.Markdown object>"
      ]
     },
     "metadata": {},
     "output_type": "display_data"
    }
   ],
   "source": [
    "show_doc(_WeightGenerator, title_level=2)"
   ]
  },
  {
   "cell_type": "markdown",
   "metadata": {},
   "source": [
    "#### Test"
   ]
  },
  {
   "cell_type": "code",
   "execution_count": null,
   "metadata": {},
   "outputs": [],
   "source": [
    "wg = _WeightGenerator(func)\n",
    "test2 = wg.mean,  np.mean(wg(1000))\n",
    "assert np.abs( test2[0]-test2[1] ) < 1e-1, f'Not almost equal: {test2}'"
   ]
  },
  {
   "cell_type": "code",
   "execution_count": null,
   "metadata": {},
   "outputs": [],
   "source": [
    "%nbdev_export\n",
    "def generate_cell(wfun, mu, alpha=0, beta=0):\n",
    "    \"\"\" Generate a cell\n",
    "\n",
    "    - `wfun` -- weight function, or histogram. \n",
    "        Defined on (0,1)\n",
    "    - `mu` -- number of expected weights, on average\n",
    "    - `alpha`, `beta`  -- default 0,0; values for $\\\\alpha$ and  $\\\\beta$ for this cell \n",
    "    \n",
    "    Returns a dict with:\n",
    "    - `n` -- actual generated number of weights, from Poisson \n",
    "    - `w` -- array of weights \n",
    "    - `S, B` -- expected values for $\\sum w$ and $\\sum(1-w)$, calulated from wfun\n",
    "    \"\"\"\n",
    "    \n",
    "\n",
    "    wgen_nominal = _WeightGenerator(wfun)\n",
    "    wgen_cell =wgen_nominal if alpha==0 and beta==0 else _WeightGenerator(wfun, alpha, beta)\n",
    "    \n",
    "    # adjust expected number of events:\n",
    "    wbar = wgen_nominal.mean\n",
    "    mu_cell = mu * (1+alpha*wbar+beta*(1-wbar))\n",
    "   \n",
    "    # the weight array\n",
    "    n = stats.poisson.rvs(mu_cell )    \n",
    "    w = wgen_cell(n)\n",
    "    \n",
    "    S = wgen_nominal.mean * mu\n",
    "    B = mu-S\n",
    "    \n",
    "    return dict(\n",
    "        n=n,\n",
    "        w=np.array(w, np.float32), #np.uint8),\n",
    "        S=S,\n",
    "        B=B,\n",
    "    )"
   ]
  },
  {
   "cell_type": "code",
   "execution_count": null,
   "metadata": {},
   "outputs": [
    {
     "data": {
      "text/markdown": [
       "<h4 id=\"generate_cell\" class=\"doc_header\"><code>generate_cell</code><a href=\"__main__.py#L2\" class=\"source_link\" style=\"float:right\">[source]</a></h4>\n",
       "\n",
       "> <code>generate_cell</code>(**`wfun`**, **`mu`**, **`alpha`**=*`0`*, **`beta`**=*`0`*)\n",
       "\n",
       "Generate a cell\n",
       "\n",
       "- `wfun` -- weight function, or histogram. \n",
       "    Defined on (0,1)\n",
       "- `mu` -- number of expected weights, on average\n",
       "- `alpha`, `beta`  -- default 0,0; values for $\\alpha$ and  $\\beta$ for this cell \n",
       "\n",
       "Returns a dict with:\n",
       "- `n` -- actual generated number of weights, from Poisson \n",
       "- `w` -- array of weights \n",
       "- `S, B` -- expected values for $\\sum w$ and $\\sum(1-w)$, calulated from wfun"
      ],
      "text/plain": [
       "<IPython.core.display.Markdown object>"
      ]
     },
     "metadata": {},
     "output_type": "display_data"
    }
   ],
   "source": [
    "show_doc(generate_cell)"
   ]
  },
  {
   "cell_type": "markdown",
   "metadata": {},
   "source": [
    "Test with a function peaked at both ends, generate equal signal and background"
   ]
  },
  {
   "cell_type": "code",
   "execution_count": null,
   "metadata": {},
   "outputs": [
    {
     "name": "stdout",
     "output_type": "stream",
     "text": [
      "Test with alpha=0.1, beta=None\n",
      "Generated cell info:\n",
      "wtlike.loglike.LogLike:  10392 weights, S 4998.5, B 5001.5\n",
      "1-D fit info:\n",
      "counts      10392.000\n",
      "flux            1.087\n",
      "sig_flux        0.016\n",
      "dtype: float64\n"
     ]
    }
   ],
   "source": [
    "%nbdev_collapse_input\n",
    "def test_gen(alpha, beta, mu=10000, tol=3, quiet=True):\n",
    "    wfun = lambda x: (x-0.5)**2\n",
    "    pd.set_option('display.precision', 3)\n",
    "    if not quiet: print(f'Test with alpha={alpha}, beta={beta}')\n",
    "    cell = generate_cell( wfun, mu,  alpha, 0 if beta is None else beta)\n",
    "    #\n",
    "    ll = LogLike(cell); \n",
    "    if not quiet: print(f'Generated cell info:\\n{ ll}')\n",
    "\n",
    "    fit = ll.fit_info(beta is None )\n",
    "    if not quiet: print(f'{2 if beta is not None else 1}-D fit info:\\n{pd.Series(fit)}')\n",
    "    t, sigt = fit['flux']-(1+alpha),  fit['sig_flux']\n",
    "    check_alpha = '' if  np.abs(t)<tol*sigt else f'alpha: abs({t:.3f}) > {tol} * {sigt:.3f}'\n",
    "\n",
    "    if beta is None:\n",
    "        assert not bool(check_alpha), f'Failed: {check_alpha} '\n",
    "    else:\n",
    "        t, sigt = fit['beta']-beta, fit['sig_beta']\n",
    "        check_beta ='' if np.abs(t)<tol*sigt else f'beta: abs({t:.3f}) > {tol} * {sigt:.3f}'\n",
    "\n",
    "        assert not ( bool(check_alpha)  or bool(check_beta)), f'{check_alpha}  {check_beta}'\n",
    "test_gen(0,None)\n",
    "test_gen(10,None)\n",
    "#test_gen(10, 0, tol=5, quiet=False)\n",
    "test_gen(0,2)\n",
    "test_gen(0.1, None, quiet=False)"
   ]
  },
  {
   "cell_type": "code",
   "execution_count": null,
   "metadata": {},
   "outputs": [],
   "source": [
    "%nbdev_hide\n",
    "# need to fix\n",
    "def simulate_cells(source_data, wdist=None, source_flux=lambda t: 100):\n",
    "    \"\"\"\n",
    "    \n",
    "    - `source_data` -- a SourceData object, use to get exposure at its position and weight distribution\n",
    "    - `wdist`   -- a weight function or histogram; if None, get the source distribution\n",
    "    - `source_flux` -- function of MJD time for the counts/day; default 100/day\n",
    "\n",
    "    \"\"\"\n",
    "    fexp, bins = source_data.binned_exposure()\n",
    "    \n",
    "    cells=[]\n",
    "    wdist = wdist or source_data.weight_histogram()\n",
    "    for i, e in enumerate(fexp):\n",
    "        a,b = bins[i:i+2]\n",
    "        t, tw = (a+b)/2, b-a\n",
    "        mu = source_flux(t)*tw *e\n",
    "\n",
    "        cell = dict(t=t, tw=tw, e=e)\n",
    "        cell.update(generate_cell(wdist, mu))\n",
    "\n",
    "        cells.append(cell)\n",
    "    return pd.DataFrame(cells)"
   ]
  },
  {
   "cell_type": "code",
   "execution_count": null,
   "metadata": {},
   "outputs": [],
   "source": [
    "#show_doc(simulate_cells, title_level=2)"
   ]
  },
  {
   "cell_type": "code",
   "execution_count": null,
   "metadata": {},
   "outputs": [
    {
     "data": {
      "text/markdown": [
       "### Test the cell creation\n",
       "\n",
       "Generate 10,000 cells with mu=50, alpha=0 using the function (x-0.5)**2\n",
       "\n",
       "The deviations from the expected norm divided by each cell's average error:\n",
       "<div class=\"nbdoc_image\">\n",
       "<figure style=\"margin-left: 5%\" title=\"Figure 1\">  <a href=\"images/simulation_test_fig_01.png\" title=\"images/simulation_test_fig_01.png\">    <img src=\"images/simulation_test_fig_01.png\" alt=\"Figure 1 at images/simulation_test_fig_01.png\" width=300>   </a> </figure>\n",
       "</div>\n",
       "\n",
       "Mean and STD of this distribution: -0.094, 1.064: for a generated Gaussian distribution these wouild be 0 and 1. \n",
       "\n",
       "A validation of the shape is to evaluate the cumulative probability of the over-all mean\n",
       "for each likelihood function. This uses the `poisson.Poisson.cdf` function.\n",
       "<div class=\"nbdoc_image\">\n",
       "<figure style=\"margin-left: 5%\" title=\"Figure 3\">  <a href=\"images/simulation_test_fig_03.png\" title=\"images/simulation_test_fig_03.png\">    <img src=\"images/simulation_test_fig_03.png\" alt=\"Figure 3 at images/simulation_test_fig_03.png\" width=300>   </a> </figure>\n",
       "</div>\n",
       "\n"
      ],
      "text/plain": [
       "<utilities.ipynb_docgen.doc_formatter.<locals>.MimeBundleObject at 0x7fe96a6bee50>"
      ]
     },
     "metadata": {},
     "output_type": "display_data"
    }
   ],
   "source": [
    "%nbdev_collapse_input\n",
    "simcells = pfits = None\n",
    "\n",
    "def local_sim_cells(wfun, mu, alpha, N):\n",
    "    sims = [generate_cell( wfun, mu ,alpha) for i in range(N)]\n",
    "    fits = [PoissonRep(LogLike(cell )) for cell in sims]\n",
    "    return sims, fits\n",
    "\n",
    "def simulation_test(N=10000, mu=100, alpha=2, funstr='(x-0.5)**2'):\n",
    "    \"\"\"\n",
    "    ### Test the cell creation\n",
    "    \n",
    "    Generate {N:,} cells with mu={mu}, alpha={alpha} using the function {funstr}\n",
    "\n",
    "    The deviations from the expected norm divided by each cell's average error:\n",
    "    {fig1}\n",
    "    Mean and STD of this distribution: {m:.3f}, {sig:.3f}: for a generated Gaussian distribution these wouild be 0 and 1. \n",
    "    \n",
    "    A validation of the shape is to evaluate the cumulative probability of the over-all mean\n",
    "    for each likelihood function. This uses the `poisson.Poisson.cdf` function.\n",
    "    {fig2}\n",
    "    \n",
    "    \"\"\"\n",
    "    global simcells, pfits\n",
    "\n",
    "    wfun = eval(f'lambda x: {funstr}')\n",
    "    simcells, pfits =  local_sim_cells(wfun, mu, alpha, N)\n",
    "    flux = np.array([p.flux for p in pfits]); \n",
    "    fmean = 1+alpha\n",
    "    def pull(p):\n",
    "        f, (l, h)  = p.flux, p.errors\n",
    "        s = (h-l)/2\n",
    "        return (f-fmean)/s\n",
    "    pulls = np.array(list(map(pull, pfits)))\n",
    "    \n",
    "    m, sig = pulls.mean(), pulls.std()\n",
    "\n",
    "    plt.rc('font', size=18)\n",
    "    fig1,ax1 = plt.subplots(figsize=(4,3), num=1)\n",
    "    ax1.hist(pulls, np.linspace(-5, 5, 21), lw=2, histtype='step', log=True);\n",
    "    ax1.set(ylim=(0.8,None), xlabel='pull'); \n",
    "    ax1.grid(alpha=0.5)\n",
    "    fig1.width=300\n",
    "\n",
    "    class CDF():\n",
    "        def __init__(self, alpha):\n",
    "            self.f = 1+alpha\n",
    "        def __call__(self, p):\n",
    "            return p.poiss.cdf(self.f)\n",
    "        \n",
    "    def cdf(p, fmean=1.1):\n",
    "        return p.poiss.cdf(fmean)\n",
    "\n",
    "    #\n",
    "    cd = np.array(list(map(CDF(alpha), pfits)))\n",
    "    fig, ax = plt.subplots(figsize=(5,3), num=2)\n",
    "    ax.hist(cd, np.linspace(0,1,21), histtype='step', lw=2)\n",
    "    ax.set(xlabel='probability')\n",
    "                            \n",
    "    fig2 = figure(fig, width=300)\n",
    "    return locals()\n",
    "\n",
    "if Config().valid:\n",
    "    nbdoc(simulation_test,mu=50, alpha=0)"
   ]
  },
  {
   "cell_type": "markdown",
   "metadata": {},
   "source": [
    "#### Follow-on: combine the cells and fit the result"
   ]
  },
  {
   "cell_type": "code",
   "execution_count": null,
   "metadata": {},
   "outputs": [
    {
     "name": "stdout",
     "output_type": "stream",
     "text": [
      "Concatenated cell:\n",
      "n                                               500722\n",
      "S                                              2.5e+05\n",
      "B                                              2.5e+05\n",
      "w    [0.14838402, 0.21298695, 0.008733656, 0.032348...\n",
      "dtype: object\n",
      "wtlike.loglike.LogLike:  500722 weights, S 249923.5, B 250076.5 \n",
      "Fit:  {'counts': 500722, 'flux': 1.0027, 'sig_flux': 0.0022}\n"
     ]
    },
    {
     "data": {
      "image/png": "[encoded data removed]",
      "text/plain": [
       "<Figure size 288x144 with 1 Axes>"
      ]
     },
     "metadata": {
      "needs_background": "light"
     },
     "output_type": "display_data"
    }
   ],
   "source": [
    "%nbdev_hide\n",
    "if Config().valid:\n",
    "    csimcell = concatenate_cells(pd.DataFrame(simcells))\n",
    "    print(f'Concatenated cell:\\n{pd.Series(csimcell)}')\n",
    "\n",
    "    ll = LogLike(csimcell); \n",
    "    print(ll,'\\nFit: ', ll.fit_info())\n",
    "    ll.plot(xlim =(0.99, 1.01))"
   ]
  },
  {
   "cell_type": "code",
   "execution_count": null,
   "metadata": {},
   "outputs": [],
   "source": [
    "# %nbdev_collapse_input\n",
    "# need to fix simulate_cells\n",
    "# cells=[]\n",
    "# def simulation_lightcurve_demo(source_data):\n",
    "#     \"\"\"\n",
    "#     ### Lightcurve generation test\n",
    "    \n",
    "#     This uses the exposure measured for the source {source_name}, and\n",
    "#     the default time bins to create a light curve assuming a fixed flux\n",
    "#     and a histogram of weights from the data.\n",
    "#     {output}\n",
    "    \n",
    "#     {fig}\n",
    "#     \"\"\"\n",
    "#     global cells\n",
    "    \n",
    "#     with capture_print('Print out') as output:\n",
    "#         cells =  simulate_cells(source_data, source_flux=lambda t: 100)\n",
    "#         fits =  fit_cells(source_data.config, cells)\n",
    "#     fig = figure(flux_plot(config, fits), width=500)\n",
    "    \n",
    "#     return locals()\n",
    "\n",
    "# if Config().valid:\n",
    "#     nbdoc(simulation_lightcurve_demo, SourceData('Geminga'))"
   ]
  },
  {
   "cell_type": "code",
   "execution_count": null,
   "metadata": {},
   "outputs": [
    {
     "name": "stdout",
     "output_type": "stream",
     "text": [
      "Converted 00_config.ipynb.\n",
      "Converted 01_effective_area.ipynb.\n",
      "Converted 02_data_man.ipynb.\n",
      "Converted 03_weights.ipynb.\n",
      "Converted 05_source_data.ipynb.\n",
      "Converted 06_poisson.ipynb.\n",
      "Converted 07_cell_data.ipynb.\n",
      "Converted 08_loglike.ipynb.\n",
      "Converted 09_lightcurve.ipynb.\n",
      "Converted 10_simulation.ipynb.\n",
      "Converted 14_bayesian.ipynb.\n",
      "Converted index.ipynb.\n",
      "Thu May  6 16:30:09 PDT 2021\n"
     ]
    }
   ],
   "source": [
    "#hide\n",
    "from nbdev.export import notebook2script\n",
    "notebook2script()\n",
    "!date"
   ]
  },
  {
   "cell_type": "code",
   "execution_count": null,
   "metadata": {},
   "outputs": [],
   "source": []
  }
 ],
 "metadata": {
  "kernelspec": {
   "display_name": "Python 3",
   "language": "python",
   "name": "python3"
  }
 },
 "nbformat": 4,
 "nbformat_minor": 4
}
