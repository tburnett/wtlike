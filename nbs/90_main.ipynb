{
 "cells": [
  {
   "cell_type": "code",
   "execution_count": null,
   "id": "educational-israeli",
   "metadata": {},
   "outputs": [
    {
     "name": "stdout",
     "output_type": "stream",
     "text": [
      "Mon Oct  4 15:35:41 PDT 2021\n"
     ]
    }
   ],
   "source": [
    "# default_exp main\n",
    "from nbdev import *\n",
    "from utilities.ipynb_docgen import *\n",
    "import pandas as pd\n",
    "import matplotlib.pyplot as plt\n",
    "!date"
   ]
  },
  {
   "cell_type": "markdown",
   "id": "convinced-algorithm",
   "metadata": {},
   "source": [
    "# wtlike interface\n",
    "> Top-level interface to the rest of the package"
   ]
  },
  {
   "cell_type": "code",
   "execution_count": null,
   "id": "finite-baghdad",
   "metadata": {},
   "outputs": [],
   "source": [
    "# export\n",
    "import numpy as np\n",
    "from wtlike.bayesian import get_bb_partition\n",
    "from wtlike.lightcurve import fit_cells, LightCurve, flux_plot\n",
    "from wtlike.cell_data import partition_cells\n",
    "from wtlike.config import MJD\n",
    "\n",
    "\n",
    "class WtLike(LightCurve):\n",
    "    \"\"\"\n",
    "    Summary\n",
    "    ---------\n",
    "    There are three layers of initialization, implemented in superclasses,\n",
    "    each with parameters. The classnames, associated parameters and data members set:\n",
    "\n",
    "    SourceData -- load photons and exposure\n",
    "        parameters:\n",
    "          - source : name, a PointSource object, or a Simulation object\n",
    "          - config [Config()] : basic configuration\n",
    "          - week_range [None] : range of weeks to load\n",
    "          - key [''] : the cache key: '' means construct one with the source name, None to disable\n",
    "          - clear [False] : if using cache, clear the contents first\n",
    "        sets:\n",
    "          - photons\n",
    "          - exposure\n",
    "\n",
    "    CellData -- create cells\n",
    "        parameters:\n",
    "          - time_bins [Config().time_bins] : binning: start, stop, binsize\n",
    "        sets:\n",
    "          - cells\n",
    "\n",
    "    LightCurve -- likelihood analysis of the cells\n",
    "        parameters:\n",
    "          - e_min [10] -- threshold for exposure (cm^2 units)\n",
    "          - n_min [2]  -- likelihood has trouble with this few\n",
    "          - lc_key [None] -- possible cache for light curve\n",
    "        sets:\n",
    "          - fits, fluxes\n",
    "\n",
    "    WtLike (this class) -- no parameters (may add BB-specific ones)\n",
    "        Implements:  bb_view, plot_BB\n",
    "        sets:\n",
    "          - bb_flux  (only if bb_view invoked)\n",
    "\n",
    "    \"\"\"\n",
    "    def bb_view(self, p0=0.05, key=None, clear=False):\n",
    "        \"\"\"Return a view with the BB analysis applied\n",
    "\n",
    "        - p0 -- false positive probability parameter\n",
    "\n",
    "        Its `plot` function will by default show an overplot on the parent's data points.\n",
    "        \"\"\"\n",
    "        #  a new instance\n",
    "        r = self.view()\n",
    "\n",
    "        # bb analysis on this to make new  set of cells and poisson fits\n",
    "        bb_edges  = get_bb_partition(self.config, self.fits,  p0=p0, key=key, clear=clear)\n",
    "        r.cells = partition_cells(self.config, self.cells, bb_edges)\n",
    "\n",
    "        r.fits = fit_cells(self.config, r.cells, )\n",
    "        r.isBB = True\n",
    "        r.bayes_p0 = p0\n",
    "        return r\n",
    "\n",
    "    def plot(self, *pars, **kwargs):\n",
    "        # which view type is this?\n",
    "        if getattr(self, 'isBB', False):\n",
    "            return self.plot_bb(*pars, **kwargs)\n",
    "        elif getattr(self, 'is_phase', False):\n",
    "            return self.plot_phase(*pars, **kwargs)\n",
    "        else:\n",
    "            return super().plot(*pars, **kwargs)\n",
    "\n",
    "    def plot_bb(self, ax=None, **kwargs):\n",
    "        \"\"\"Plot the light curve with BB overplot\n",
    "        \"\"\"\n",
    "        import matplotlib.pyplot as plt\n",
    "        self.check_plot_kwargs(kwargs)\n",
    "        figsize = kwargs.pop('figsize', (12,4))\n",
    "        fignum = kwargs.pop('fignum', 1)\n",
    "        ts_min = kwargs.pop('ts_min',-1)\n",
    "        source_name =kwargs.pop('source_name', self.source_name)\n",
    "        fig, ax = plt.subplots(figsize=figsize, num=fignum) if ax is None else (ax.figure, ax)\n",
    "\n",
    "\n",
    "        colors = kwargs.pop('colors', ('lightblue', 'wheat', 'blue') )\n",
    "        flux_plot(self.parent.fits, ax=ax, colors=colors, source_name=source_name,\n",
    "                  label=self.step_name+' bins', **kwargs)\n",
    "        flux_plot(self.fits, ax=ax, step=True,\n",
    "                  label=f'BB (p0={100*self.bayes_p0:.0f}%)', zorder=10,**kwargs)\n",
    "        ax.grid(alpha=0.5)\n",
    "        fig.set_facecolor('white')\n",
    "        return fig\n",
    "    \n",
    "    def phase_view(self, period, nbins=25, reference='2008'):\n",
    "        \"\"\" Return a \"phase\" view, in which the cell time binning is according to phase.\n",
    "        \n",
    "        * reference -- a UTC data for aligning the bins.\n",
    "        \"\"\"\n",
    "        ref = 0 if not reference else MJD(reference)\n",
    "        \n",
    "        # helper function that returns the bin number as a float in [0,period)\n",
    "        binner = lambda t: np.mod(t-ref,period)/period * nbins\n",
    "\n",
    "        # adjust start to correspond to edge of bin\n",
    "\n",
    "        # create a view with nbins per period and get the cells\n",
    "        st = self.start # the start of data taking\n",
    "        self.reference_bin =strefbin = binner(st)\n",
    "        stnew = st +np.mod(-strefbin,1)*period/nbins\n",
    "        view = self.view(stnew, 0, period/nbins)\n",
    "        cells = view.cells\n",
    "        bw = 1/nbins\n",
    "\n",
    "        def concat(pcells, t):\n",
    "            newcell = dict(t=t, tw=bw)\n",
    "            for col in 'n e S B'.split():\n",
    "                newcell[col] = pcells[col].sum()\n",
    "            newcell['w'] = np.concatenate(list(pcells.w.values))\n",
    "            return newcell\n",
    "\n",
    "        # concatenate all in the same phase bin--note cyclic rotation\n",
    "        k = int(strefbin)\n",
    "        fcells = [concat(cells.iloc[((ibin-k)%nbins):-1:nbins], (ibin+0.5)*bw)  for ibin in range(nbins) ]\n",
    "        \n",
    "        view.cells = pd.DataFrame(fcells) \n",
    "        view.update()\n",
    "        view.is_phase = True\n",
    "        view.period = period\n",
    "        return  view\n",
    "    \n",
    "    def plot_phase(self, ax=None, **kwargs):\n",
    "        \"\"\"Plot a phase lightcurve\n",
    "    \n",
    "        \"\"\"\n",
    "        kw = dict(ylim=(0.975, 1.025), xlim=(0,1) )\n",
    "        kw.update(kwargs)\n",
    "        fig, ax = plt.subplots(figsize=(10,5)) if ax is None else (ax.figure, ax)\n",
    "        fig = super().plot(ax=ax, xlabel=f'phase for {self.period}-day period'); \n",
    "        ax.set(**kwargs );\n",
    "        ax.axhline(1.0, color='grey');\n",
    "        return fig"
   ]
  },
  {
   "cell_type": "code",
   "execution_count": null,
   "id": "4773e17b-774f-4a30-9826-55de09ef3305",
   "metadata": {},
   "outputs": [
    {
     "name": "stdout",
     "output_type": "stream",
     "text": [
      "SourceData:  PSR J0835-4510: Restoring from cache with key \"PSR J0835-4510_data\"\n",
      "SourceData: Source Vela pulsar with:\n",
      "\t data:     3,368,394 photons from 2008-08-04 to 2021-09-01\n",
      "\t exposure: 3,072,837 intervals,  average effective area 3541 cm^2 for 91.8 Ms\n",
      "\t rates:  source 8.36e-06/s, background 2.00e-06/s, TS 7052015.5\n",
      "CellData: Bin photon data into 682 1-week bins from 54683.0 to 59457.0\n",
      "LightCurve: select 674 cells for fitting with e>35 & n>2\n"
     ]
    }
   ],
   "source": [
    "vela = WtLike('Vela pulsar')"
   ]
  },
  {
   "cell_type": "code",
   "execution_count": null,
   "id": "34d9d384-aca5-470b-8308-529d7b35a9c7",
   "metadata": {},
   "outputs": [
    {
     "name": "stdout",
     "output_type": "stream",
     "text": [
      "CellData: Bin photon data into 2249 2.1-day bins from 54684.6 to 59456.9\n",
      "LightCurve: select 2192 cells for fitting with e>10.61 & n>2\n",
      "LightCurve: select 25 cells for fitting with e>10.61 & n>2\n"
     ]
    },
    {
     "data": {
      "image/png": "[encoded data removed]",
      "text/plain": [
       "<Figure size 720x360 with 1 Axes>"
      ]
     },
     "metadata": {},
     "output_type": "display_data"
    }
   ],
   "source": [
    "period = 53.05\n",
    "\n",
    "pv = vela.phase_view( period=period, nbins=25); \n",
    "pv.plot();"
   ]
  },
  {
   "cell_type": "code",
   "execution_count": null,
   "id": "3abb06ca-2cb8-41c0-a7b3-a273f9055ecf",
   "metadata": {},
   "outputs": [
    {
     "name": "stdout",
     "output_type": "stream",
     "text": [
      "SourceData:  4FGL J0633.9+1746: Restoring from cache with key \"PSR J0633+1746_data\"\n",
      "SourceData: Source Geminga with:\n",
      "\t data:     1,139,632 photons from 2008-08-04 to 2021-09-01\n",
      "\t exposure: 3,189,511 intervals,  average effective area 2775 cm^2 for 95.4 Ms\n",
      "\t rates:  source 3.22e-06/s, background 1.08e-06/s, TS 2290923.9\n",
      "CellData: Bin photon data into 682 1-week bins from 54683.0 to 59457.0\n",
      "LightCurve: select 667 cells for fitting with e>35 & n>2\n"
     ]
    }
   ],
   "source": [
    "geminga = WtLike('Geminga')"
   ]
  },
  {
   "cell_type": "code",
   "execution_count": null,
   "id": "c27874d4-63e5-4bc3-bf11-935e98e79d77",
   "metadata": {},
   "outputs": [
    {
     "name": "stdout",
     "output_type": "stream",
     "text": [
      "CellData: Bin photon data into 653 7.3-day bins from 54685.2 to 59455.3\n",
      "LightCurve: select 642 cells for fitting with e>36.525 & n>2\n",
      "LightCurve: select 50 cells for fitting with e>36.525 & n>2\n"
     ]
    },
    {
     "data": {
      "image/png": "[encoded data removed]",
      "text/plain": [
       "<Figure size 720x360 with 1 Axes>"
      ]
     },
     "metadata": {},
     "output_type": "display_data"
    }
   ],
   "source": [
    "gv = geminga.phase_view(365.25, nbins=50)\n",
    "gv.plot();"
   ]
  },
  {
   "cell_type": "code",
   "execution_count": null,
   "id": "48c343d0-72e0-4e52-b7d4-2f3f92465d50",
   "metadata": {},
   "outputs": [
    {
     "data": {
      "text/html": [
       "<div>\n",
       "<style scoped>\n",
       "    .dataframe tbody tr th:only-of-type {\n",
       "        vertical-align: middle;\n",
       "    }\n",
       "\n",
       "    .dataframe tbody tr th {\n",
       "        vertical-align: top;\n",
       "    }\n",
       "\n",
       "    .dataframe thead th {\n",
       "        text-align: right;\n",
       "    }\n",
       "</style>\n",
       "<table border=\"1\" class=\"dataframe\">\n",
       "  <thead>\n",
       "    <tr style=\"text-align: right;\">\n",
       "      <th></th>\n",
       "      <th>t</th>\n",
       "      <th>tw</th>\n",
       "      <th>n</th>\n",
       "      <th>e</th>\n",
       "      <th>ts</th>\n",
       "      <th>flux</th>\n",
       "      <th>errors</th>\n",
       "      <th>limit</th>\n",
       "    </tr>\n",
       "  </thead>\n",
       "  <tbody>\n",
       "    <tr>\n",
       "      <th>23</th>\n",
       "      <td>0.47</td>\n",
       "      <td>0.02</td>\n",
       "      <td>23073</td>\n",
       "      <td>5003.091958</td>\n",
       "      <td>56304.4</td>\n",
       "      <td>1.0867</td>\n",
       "      <td>(-0.009, 0.009)</td>\n",
       "      <td>1.101576</td>\n",
       "    </tr>\n",
       "  </tbody>\n",
       "</table>\n",
       "</div>"
      ],
      "text/plain": [
       "       t    tw      n            e       ts    flux           errors     limit\n",
       "23  0.47  0.02  23073  5003.091958  56304.4  1.0867  (-0.009, 0.009)  1.101576"
      ]
     },
     "execution_count": null,
     "metadata": {},
     "output_type": "execute_result"
    }
   ],
   "source": [
    "gv.fluxes.query('flux>1.07')"
   ]
  },
  {
   "cell_type": "code",
   "execution_count": null,
   "id": "85000d6f-47f3-401e-8eaa-d570e5f4bba1",
   "metadata": {},
   "outputs": [
    {
     "name": "stdout",
     "output_type": "stream",
     "text": [
      "CellData: Bin photon data into 653 7.3-day bins from 54685.2 to 59455.3\n",
      "LightCurve: select 642 cells for fitting with e>36.525 & n>2\n"
     ]
    },
    {
     "data": {
      "image/png": "[encoded data removed]",
      "text/plain": [
       "<Figure size 864x288 with 1 Axes>"
      ]
     },
     "metadata": {},
     "output_type": "display_data"
    }
   ],
   "source": [
    "gt = geminga.view(54685.15, 0, 7.305)\n",
    "gt.plot(UTC=True);"
   ]
  },
  {
   "cell_type": "code",
   "execution_count": null,
   "id": "71d5e28b-15f1-42fe-9a94-5a8346a287d7",
   "metadata": {},
   "outputs": [
    {
     "data": {
      "text/html": [
       "<div>\n",
       "<style scoped>\n",
       "    .dataframe tbody tr th:only-of-type {\n",
       "        vertical-align: middle;\n",
       "    }\n",
       "\n",
       "    .dataframe tbody tr th {\n",
       "        vertical-align: top;\n",
       "    }\n",
       "\n",
       "    .dataframe thead th {\n",
       "        text-align: right;\n",
       "    }\n",
       "</style>\n",
       "<table border=\"1\" class=\"dataframe\">\n",
       "  <thead>\n",
       "    <tr style=\"text-align: right;\">\n",
       "      <th></th>\n",
       "      <th>t</th>\n",
       "      <th>tw</th>\n",
       "      <th>n</th>\n",
       "      <th>e</th>\n",
       "      <th>ts</th>\n",
       "      <th>flux</th>\n",
       "      <th>errors</th>\n",
       "      <th>limit</th>\n",
       "    </tr>\n",
       "  </thead>\n",
       "  <tbody>\n",
       "    <tr>\n",
       "      <th>94</th>\n",
       "      <td>55375.4725</td>\n",
       "      <td>7.305</td>\n",
       "      <td>1767</td>\n",
       "      <td>379.760161</td>\n",
       "      <td>4256.8</td>\n",
       "      <td>1.1003</td>\n",
       "      <td>(-0.032, 0.033)</td>\n",
       "      <td>1.155367</td>\n",
       "    </tr>\n",
       "    <tr>\n",
       "      <th>194</th>\n",
       "      <td>56105.9725</td>\n",
       "      <td>7.305</td>\n",
       "      <td>1697</td>\n",
       "      <td>357.743464</td>\n",
       "      <td>4235.4</td>\n",
       "      <td>1.1212</td>\n",
       "      <td>(-0.034, 0.034)</td>\n",
       "      <td>1.178385</td>\n",
       "    </tr>\n",
       "    <tr>\n",
       "      <th>244</th>\n",
       "      <td>56471.2225</td>\n",
       "      <td>7.305</td>\n",
       "      <td>1858</td>\n",
       "      <td>388.588858</td>\n",
       "      <td>4661.0</td>\n",
       "      <td>1.1308</td>\n",
       "      <td>(-0.032, 0.033)</td>\n",
       "      <td>1.185739</td>\n",
       "    </tr>\n",
       "    <tr>\n",
       "      <th>285</th>\n",
       "      <td>56770.7275</td>\n",
       "      <td>7.305</td>\n",
       "      <td>1801</td>\n",
       "      <td>388.151433</td>\n",
       "      <td>4509.2</td>\n",
       "      <td>1.1003</td>\n",
       "      <td>(-0.032, 0.033)</td>\n",
       "      <td>1.154674</td>\n",
       "    </tr>\n",
       "    <tr>\n",
       "      <th>344</th>\n",
       "      <td>57201.7225</td>\n",
       "      <td>7.305</td>\n",
       "      <td>1986</td>\n",
       "      <td>422.955219</td>\n",
       "      <td>4936.0</td>\n",
       "      <td>1.1097</td>\n",
       "      <td>(-0.031, 0.031)</td>\n",
       "      <td>1.161968</td>\n",
       "    </tr>\n",
       "    <tr>\n",
       "      <th>445</th>\n",
       "      <td>57939.5275</td>\n",
       "      <td>7.305</td>\n",
       "      <td>1889</td>\n",
       "      <td>398.495739</td>\n",
       "      <td>4923.7</td>\n",
       "      <td>1.1320</td>\n",
       "      <td>(-0.032, 0.032)</td>\n",
       "      <td>1.186192</td>\n",
       "    </tr>\n",
       "    <tr>\n",
       "      <th>544</th>\n",
       "      <td>58662.7225</td>\n",
       "      <td>7.305</td>\n",
       "      <td>1847</td>\n",
       "      <td>394.355575</td>\n",
       "      <td>4581.3</td>\n",
       "      <td>1.1102</td>\n",
       "      <td>(-0.032, 0.032)</td>\n",
       "      <td>1.164412</td>\n",
       "    </tr>\n",
       "  </tbody>\n",
       "</table>\n",
       "</div>"
      ],
      "text/plain": [
       "              t     tw     n           e      ts    flux           errors  \\\n",
       "94   55375.4725  7.305  1767  379.760161  4256.8  1.1003  (-0.032, 0.033)   \n",
       "194  56105.9725  7.305  1697  357.743464  4235.4  1.1212  (-0.034, 0.034)   \n",
       "244  56471.2225  7.305  1858  388.588858  4661.0  1.1308  (-0.032, 0.033)   \n",
       "285  56770.7275  7.305  1801  388.151433  4509.2  1.1003  (-0.032, 0.033)   \n",
       "344  57201.7225  7.305  1986  422.955219  4936.0  1.1097  (-0.031, 0.031)   \n",
       "445  57939.5275  7.305  1889  398.495739  4923.7  1.1320  (-0.032, 0.032)   \n",
       "544  58662.7225  7.305  1847  394.355575  4581.3  1.1102  (-0.032, 0.032)   \n",
       "\n",
       "        limit  \n",
       "94   1.155367  \n",
       "194  1.178385  \n",
       "244  1.185739  \n",
       "285  1.154674  \n",
       "344  1.161968  \n",
       "445  1.186192  \n",
       "544  1.164412  "
      ]
     },
     "execution_count": null,
     "metadata": {},
     "output_type": "execute_result"
    }
   ],
   "source": [
    "fq = gt.fluxes.query('flux>1.1'); fq"
   ]
  },
  {
   "cell_type": "code",
   "execution_count": null,
   "id": "spread-cartoon",
   "metadata": {},
   "outputs": [
    {
     "data": {
      "text/markdown": [
       "<h2 id=\"WtLike\" class=\"doc_header\"><code>class</code> <code>WtLike</code><a href=\"\" class=\"source_link\" style=\"float:right\">[source]</a></h2>\n",
       "\n",
       "> <code>WtLike</code>(**\\*`pars`**, **\\*\\*`kwargs`**) :: [`LightCurve`](/wtlikelightcurve.html#LightCurve)\n",
       "\n",
       "Summary\n",
       "---------\n",
       "There are three layers of initialization, implemented in superclasses,\n",
       "each with parameters. The classnames, associated parameters and data members set:\n",
       "\n",
       "SourceData -- load photons and exposure\n",
       "    parameters:\n",
       "      - source : name, a PointSource object, or a Simulation object\n",
       "      - config [Config()] : basic configuration\n",
       "      - week_range [None] : range of weeks to load\n",
       "      - key [''] : the cache key: '' means construct one with the source name, None to disable\n",
       "      - clear [False] : if using cache, clear the contents first\n",
       "    sets:\n",
       "      - photons\n",
       "      - exposure\n",
       "\n",
       "CellData -- create cells\n",
       "    parameters:\n",
       "      - time_bins [Config().time_bins] : binning: start, stop, binsize\n",
       "    sets:\n",
       "      - cells\n",
       "\n",
       "LightCurve -- likelihood analysis of the cells\n",
       "    parameters:\n",
       "      - e_min [10] -- threshold for exposure (cm^2 units)\n",
       "      - n_min [2]  -- likelihood has trouble with this few\n",
       "      - lc_key [None] -- possible cache for light curve\n",
       "    sets:\n",
       "      - fits, fluxes\n",
       "\n",
       "WtLike (this class) -- no parameters (may add BB-specific ones)\n",
       "    Implements:  bb_view, plot_BB\n",
       "    sets:\n",
       "      - bb_flux  (only if bb_view invoked)"
      ],
      "text/plain": [
       "<IPython.core.display.Markdown object>"
      ]
     },
     "metadata": {},
     "output_type": "display_data"
    },
    {
     "data": {
      "text/markdown": [
       "<h4 id=\"WtLike.bb_view\" class=\"doc_header\"><code>WtLike.bb_view</code><a href=\"__main__.py#L47\" class=\"source_link\" style=\"float:right\">[source]</a></h4>\n",
       "\n",
       "> <code>WtLike.bb_view</code>(**`p0`**=*`0.05`*, **`key`**=*`None`*, **`clear`**=*`False`*)\n",
       "\n",
       "Return a view with the BB analysis applied\n",
       "\n",
       "- p0 -- false positive probability parameter\n",
       "\n",
       "Its `plot` function will by default show an overplot on the parent's data points."
      ],
      "text/plain": [
       "<IPython.core.display.Markdown object>"
      ]
     },
     "metadata": {},
     "output_type": "display_data"
    },
    {
     "data": {
      "text/markdown": [
       "<h4 id=\"WtLike.phase_view\" class=\"doc_header\"><code>WtLike.phase_view</code><a href=\"__main__.py#L96\" class=\"source_link\" style=\"float:right\">[source]</a></h4>\n",
       "\n",
       "> <code>WtLike.phase_view</code>(**`period`**, **`nbins`**=*`25`*, **`reference`**=*`'2008'`*)\n",
       "\n",
       "Return a \"phase\" view, in which the cell time binning is according to phase.\n",
       "\n",
       "* reference -- a UTC data for aligning the bins."
      ],
      "text/plain": [
       "<IPython.core.display.Markdown object>"
      ]
     },
     "metadata": {},
     "output_type": "display_data"
    }
   ],
   "source": [
    "show_doc(WtLike)\n",
    "show_doc(WtLike.bb_view)\n",
    "show_doc(WtLike.phase_view)"
   ]
  },
  {
   "cell_type": "code",
   "execution_count": null,
   "id": "fe435d27-82d5-4f4a-ac08-6629a163efca",
   "metadata": {},
   "outputs": [
    {
     "name": "stdout",
     "output_type": "stream",
     "text": [
      "SourceData:  4FGL J0633.9+1746\n",
      "LoadData: Loading weeks[9:108:]\tProcessing 100 week files, using 4 processes ....................................................................................................\n",
      "\n",
      "SourceData: Source Geminga with:\n",
      "\t data:       191,086 photons from 2008-08-04 to 2010-07-01\n",
      "\t exposure:   498,346 intervals,  average effective area 2890 cm^2 for 14.9 Ms\n",
      "\t rates:  source 3.33e-06/s, background 1.11e-06/s, TS 2290923.9\n",
      "CellData: Bin photon data into 99 1-week bins from 54683.0 to 55376.0\n",
      "LightCurve: select 99 cells for fitting with e>35 & n>2\n",
      "Bayesian Blocks: partitioning 99 cells using LikelihoodFitness with penalty 5%\n",
      "\tfound 3 / 99 blocks.\n",
      "LightCurve: Loaded 3 / 3 cells for fitting\n"
     ]
    },
    {
     "data": {
      "image/png": "[encoded data removed]",
      "text/plain": [
       "<Figure size 864x288 with 1 Axes>"
      ]
     },
     "metadata": {},
     "output_type": "display_data"
    }
   ],
   "source": [
    "from wtlike.config import *\n",
    "config = Config()\n",
    "if config.valid:\n",
    "    wtl = WtLike('Geminga', week_range=(9,108) )\n",
    "    wtl.bb_view().plot();"
   ]
  },
  {
   "cell_type": "code",
   "execution_count": null,
   "id": "existing-merchant",
   "metadata": {},
   "outputs": [
    {
     "name": "stdout",
     "output_type": "stream",
     "text": [
      "SourceData:  4FGL J1256.1-0547: Restoring from cache with key \"P88Y3243_data\"\n",
      "SourceData: Source 3C 279 with:\n",
      "\t data:       182,684 photons from 2008-08-04 to 2021-09-11\n",
      "\t exposure: 2,896,631 intervals,  average effective area 2847 cm^2 for 86.5 Ms\n",
      "\t rates:  source 3.95e-07/s, background 3.47e-07/s, TS 183590.9\n",
      "CellData: Bin photon data into 683 1-week bins from 54683.0 to 59464.0\n",
      "LightCurve: select 672 cells for fitting with e>35 & n>2\n"
     ]
    },
    {
     "name": "stderr",
     "output_type": "stream",
     "text": [
      "/home/burnett/miniconda3/lib/python3.9/site-packages/scipy/optimize/minpack.py:175: RuntimeWarning: The iteration is not making good progress, as measured by the \n",
      "  improvement from the last ten iterations.\n",
      "  warnings.warn(msg, RuntimeWarning)\n"
     ]
    },
    {
     "data": {
      "text/markdown": [
       "## Test/Demonstration with 3C 279\n",
       "\n",
       "> Note that this also demonstrates using `nbdoc` to have a single Jupyterlab cell generate a document\n",
       "\n",
       "First, the weekly light curve:\n",
       "{out1}    <figure style=\"margin-left: 5%\" title=\"Figure 1\">  <a href=\"images/demo_fig_01.png\" title=\"images/demo_fig_01.png\">    <img src=\"images/demo_fig_01.png\" alt=\"Figure 1 at images/demo_fig_01.png\" width=600>   </a>  <figcaption><b>Figure 1</b>. Full scale</figcaption></figure>\n",
       "\n",
       "Replot the figure with an expanded scale to see position of a flare:\n",
       "<figure style=\"margin-left: 5%\" title=\"Figure 2\">  <a href=\"images/demo_fig_02.png\" title=\"images/demo_fig_02.png\">    <img src=\"images/demo_fig_02.png\" alt=\"Figure 2 at images/demo_fig_02.png\" width=600>   </a> </figure>\n",
       "<details  class=\"nbdoc-description\" >  <summary> Define orbit-based subset around large flare at MJD 57189 </summary>  <div style=\"margin-left: 5%;\"><pre>CellData: Bin photon data into 80 orbit-based bins from 57186.1 to 57191.0<br>LightCurve: select 62 cells for fitting with e&gt;0 & n&gt;2<br></pre></div> </details>    <figure style=\"margin-left: 5%\" title=\"Figure 3\">  <a href=\"images/demo_fig_03.png\" title=\"images/demo_fig_03.png\">    <img src=\"images/demo_fig_03.png\" alt=\"Figure 3 at images/demo_fig_03.png\" width=600>   </a> </figure>\n",
       "<details  class=\"nbdoc-description\" >  <summary> Apply BB and overplot it with the cells on which it is based </summary>  <div style=\"margin-left: 5%;\"><pre>Bayesian Blocks: partitioning 62 cells using LikelihoodFitness with penalty 5%<br>\tfound 10 / 62 blocks.<br>LightCurve: Loaded 10 / 10 cells for fitting<br></pre></div> </details>    <figure style=\"margin-left: 5%\" title=\"Figure 4\">  <a href=\"images/demo_fig_04.png\" title=\"images/demo_fig_04.png\">    <img src=\"images/demo_fig_04.png\" alt=\"Figure 4 at images/demo_fig_04.png\" width=600>   </a> </figure>\n",
       "\n",
       "Table of BB fits\n",
       "<div>\n",
       "<style scoped>\n",
       "    .dataframe tbody tr th:only-of-type {\n",
       "        vertical-align: middle;\n",
       "    }\n",
       "\n",
       "    .dataframe tbody tr th {\n",
       "        vertical-align: top;\n",
       "    }\n",
       "\n",
       "    .dataframe thead th {\n",
       "        text-align: right;\n",
       "    }\n",
       "</style>\n",
       "<table border=\"1\" class=\"dataframe\">\n",
       "  <thead>\n",
       "    <tr style=\"text-align: right;\">\n",
       "      <th>t</th>\n",
       "      <th>tw</th>\n",
       "      <th>n</th>\n",
       "      <th>e</th>\n",
       "      <th>ts</th>\n",
       "      <th>flux</th>\n",
       "      <th>errors</th>\n",
       "      <th>limit</th>\n",
       "    </tr>\n",
       "  </thead>\n",
       "  <tbody>\n",
       "    <tr>\n",
       "      <td>57186.116</td>\n",
       "      <td>0.017</td>\n",
       "      <td>5</td>\n",
       "      <td>4.569</td>\n",
       "      <td>12.600</td>\n",
       "      <td>1.820</td>\n",
       "      <td>(-0.892, 1.291)</td>\n",
       "      <td>4.739</td>\n",
       "    </tr>\n",
       "    <tr>\n",
       "      <td>57186.253</td>\n",
       "      <td>0.025</td>\n",
       "      <td>9</td>\n",
       "      <td>6.530</td>\n",
       "      <td>15.500</td>\n",
       "      <td>2.458</td>\n",
       "      <td>(-0.967, 1.244)</td>\n",
       "      <td>5.014</td>\n",
       "    </tr>\n",
       "    <tr>\n",
       "      <td>57186.385</td>\n",
       "      <td>0.026</td>\n",
       "      <td>9</td>\n",
       "      <td>6.564</td>\n",
       "      <td>16.300</td>\n",
       "      <td>2.625</td>\n",
       "      <td>(-0.994, 1.262)</td>\n",
       "      <td>5.192</td>\n",
       "    </tr>\n",
       "    <tr>\n",
       "      <td>...</td>\n",
       "      <td>...</td>\n",
       "      <td>...</td>\n",
       "      <td>...</td>\n",
       "      <td>...</td>\n",
       "      <td>...</td>\n",
       "      <td>...</td>\n",
       "      <td>...</td>\n",
       "    </tr>\n",
       "    <tr>\n",
       "      <td>57190.831</td>\n",
       "      <td>0.012</td>\n",
       "      <td>9</td>\n",
       "      <td>4.590</td>\n",
       "      <td>27.600</td>\n",
       "      <td>4.047</td>\n",
       "      <td>(-1.413, 1.794)</td>\n",
       "      <td>7.696</td>\n",
       "    </tr>\n",
       "    <tr>\n",
       "      <td>57190.898</td>\n",
       "      <td>0.009</td>\n",
       "      <td>3</td>\n",
       "      <td>3.417</td>\n",
       "      <td>7.700</td>\n",
       "      <td>1.932</td>\n",
       "      <td>(-1.038, 1.538)</td>\n",
       "      <td>5.468</td>\n",
       "    </tr>\n",
       "    <tr>\n",
       "      <td>57190.966</td>\n",
       "      <td>0.006</td>\n",
       "      <td>3</td>\n",
       "      <td>2.182</td>\n",
       "      <td>2.200</td>\n",
       "      <td>1.979</td>\n",
       "      <td>(-1.506, 2.323)</td>\n",
       "      <td>7.520</td>\n",
       "    </tr>\n",
       "  </tbody>\n",
       "</table>\n",
       "</div>\n",
       "\n",
       "This can be compared with Figure 4 from the [Kerr paper](https://arxiv.org/pdf/1910.00140.pdf)\n",
       "<figure style=\"margin-left: 5%\" title=\"Figure 5\">  <a href=\"images/demo_fig_05.png\" title=\"images/demo_fig_05.png\">    <img src=\"images/demo_fig_05.png\" alt=\"Figure 5 at images/demo_fig_05.png\" width=600>   </a> </figure>\n"
      ],
      "text/plain": [
       "<utilities.ipynb_docgen.doc_formatter.<locals>.MimeBundleObject at 0x7f896133ebb0>"
      ]
     },
     "metadata": {},
     "output_type": "display_data"
    }
   ],
   "source": [
    "#collapse_input\n",
    "full = None\n",
    "# code for the demo--this shouid be collapsed\n",
    "def demo(clear=False):\n",
    "    \"\"\"\n",
    "    ## Test/Demonstration with 3C 279\n",
    "    \n",
    "    > Note that this also demonstrates using `nbdoc` to have a single Jupyterlab cell generate a document\n",
    "    \n",
    "    First, the weekly light curve:\n",
    "    {out1}    {fig1}\n",
    "    \n",
    "    Replot the figure with an expanded scale to see position of a flare:\n",
    "    {fig2}\n",
    "    {out3}    {fig3}\n",
    "    {out4}    {fig4}\n",
    "    \n",
    "    Table of BB fits\n",
    "    {bb_table}\n",
    "    \n",
    "    This can be compared with Figure 4 from the [Kerr paper](https://arxiv.org/pdf/1910.00140.pdf)\n",
    "    {kerr_fig4}\n",
    "    \"\"\"\n",
    "    global full\n",
    "    \n",
    "    #with capture_print('Create full weekly light curve') as out1:\n",
    "    full = WtLike('3C 279', clear=clear)\n",
    "    \n",
    "    fig1 = figure(\n",
    "        full.plot(yscale='log', ylim=(0.2,20), figsize=(15,5), xlabel='MJD', fmt='.', fignum=1),\n",
    "        caption='Full scale', width=600)  \n",
    "    \n",
    "    fig2 = figure(\n",
    "        full.plot(  figsize=(15,5), xlabel='MJD', fmt='o', fignum=2,  xlim=(57100, 57300),),\n",
    "        width=600)  \n",
    "    \n",
    "    with capture_print('Define orbit-based subset around large flare at MJD 57189') as out3:\n",
    "        orbit = full.view((57186, 57191, 0))\n",
    "    fig3 = figure(\n",
    "        orbit.plot(fmt='o', tzero=57186,   fignum=3 ),\n",
    "            width=600)\n",
    "    \n",
    "    with capture_print('Apply BB and overplot it with the cells on which it is based') as out4:\n",
    "        bborbit = orbit.bb_view()\n",
    "    fig4 = figure(\n",
    "        bborbit.plot(fmt='o', tzero=57186,   fignum=4),\n",
    "                width=600)\n",
    "    \n",
    "    bb_table = orbit.fluxes\n",
    "    \n",
    "    kerr_fig4 = image('kerr_fig4.png', width=600, caption=None)\n",
    "    return locals()\n",
    "\n",
    "if config.valid:\n",
    "    nbdoc(demo, False)"
   ]
  },
  {
   "cell_type": "code",
   "execution_count": null,
   "id": "outstanding-gilbert",
   "metadata": {},
   "outputs": [
    {
     "name": "stdout",
     "output_type": "stream",
     "text": [
      "Converted 00_config.ipynb.\n",
      "Converted 01_data_man.ipynb.\n",
      "Converted 02_effective_area.ipynb.\n",
      "Converted 03_exposure.ipynb.\n",
      "Converted 03_sources.ipynb.\n",
      "Converted 04_load_data.ipynb.\n",
      "Converted 04_simulation.ipynb.\n",
      "Converted 05_source_data.ipynb.\n",
      "Converted 06_poisson.ipynb.\n",
      "Converted 07_loglike.ipynb.\n",
      "Converted 08_cell_data.ipynb.\n",
      "Converted 09_lightcurve.ipynb.\n",
      "Converted 14_bayesian.ipynb.\n",
      "Converted 90_main.ipynb.\n",
      "Converted 99_presentation.ipynb.\n",
      "Converted 99_tutorial.ipynb.\n",
      "Converted index.ipynb.\n",
      "Mon Oct  4 15:38:08 PDT 2021\n"
     ]
    }
   ],
   "source": [
    "#hide\n",
    "from nbdev.export import notebook2script\n",
    "notebook2script()\n",
    "!date"
   ]
  },
  {
   "cell_type": "code",
   "execution_count": null,
   "id": "ca314c68-6e90-4d90-8d0d-79a30d929caf",
   "metadata": {},
   "outputs": [],
   "source": []
  }
 ],
 "metadata": {
  "kernelspec": {
   "display_name": "Python 3 (ipykernel)",
   "language": "python",
   "name": "python3"
  }
 },
 "nbformat": 4,
 "nbformat_minor": 5
}
