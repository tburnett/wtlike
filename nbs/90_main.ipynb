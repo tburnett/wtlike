{
 "cells": [
  {
   "cell_type": "code",
   "execution_count": null,
   "id": "educational-israeli",
   "metadata": {},
   "outputs": [
    {
     "name": "stdout",
     "output_type": "stream",
     "text": [
      "Sun Jun  6 05:52:50 PDT 2021\n"
     ]
    }
   ],
   "source": [
    "# default_exp main\n",
    "from nbdev import *\n",
    "from utilities.ipynb_docgen import *\n",
    "!date"
   ]
  },
  {
   "cell_type": "markdown",
   "id": "convinced-algorithm",
   "metadata": {},
   "source": [
    "# wtlike interface\n",
    "> Top-level interface to the rest of the package"
   ]
  },
  {
   "cell_type": "code",
   "execution_count": null,
   "id": "finite-baghdad",
   "metadata": {},
   "outputs": [],
   "source": [
    "# export\n",
    "from wtlike.bayesian import get_bb_partition\n",
    "from wtlike.lightcurve import fit_cells, LightCurve, flux_plot\n",
    "from wtlike.cell_data import partition_cells\n",
    "\n",
    "class WtLike(LightCurve):\n",
    "    \"\"\"\n",
    "    Summary\n",
    "    ---------\n",
    "    There are three layers of initialization, implemented in superclasses,\n",
    "    each with parameters. The classnames, associated parameters and data members set:\n",
    "\n",
    "    SourceData -- load photons and exposure\n",
    "        parameters:\n",
    "          - source : name, a PointSource object, or a Simulation object\n",
    "          - config [Config()] : basic configuration\n",
    "          - week_range [None] : range of weeks to load\n",
    "          - key [''] : the cache key: '' means construct one with the source name, None to disable\n",
    "          - clear [False] : if using cache, clear the contents first\n",
    "        sets:\n",
    "          - photons\n",
    "          - exposure\n",
    "\n",
    "    CellData -- create cells\n",
    "        parameters:\n",
    "          - time_bins [Config().time_bins] : binning: start, stop, binsize\n",
    "        sets:\n",
    "          - cells\n",
    "\n",
    "    LightCurve -- likelihood analysis of the cells\n",
    "        parameters:\n",
    "          - e_min [10] -- threshold for exposure (cm^2 units)\n",
    "          - n_min [2]  -- likelihood has trouble with this few\n",
    "          - lc_key [None] -- possible cache for light curve\n",
    "        sets:\n",
    "          - fits, fluxes\n",
    "\n",
    "    WtLike (this class) -- no parameters (may add BB-specific ones)\n",
    "        Implements:  bb_view, plot_BB\n",
    "        sets:\n",
    "          - bb_flux  (only if bb_view invoked)\n",
    "\n",
    "    \"\"\"\n",
    "    def bb_view(self, p0=0.05, key=None, clear=False):\n",
    "        \"\"\"Return a view with the BB analysis applied\n",
    "\n",
    "        - p0 -- false positive probability parameter\n",
    "\n",
    "        Its `plot` function will by default show an overplot on the parent's data points.\n",
    "        \"\"\"\n",
    "        #  a new instance\n",
    "        r = self.view()\n",
    "\n",
    "        # bb analysis on this to make new  set of cells and poisson fits\n",
    "        bb_edges  = get_bb_partition(self.config, self.fits,  p0=p0, key=key, clear=clear)\n",
    "        r.cells = partition_cells(self.config, self.cells, bb_edges)\n",
    "\n",
    "        r.fits = fit_cells(self.config, r.cells, )\n",
    "        r.isBB = True\n",
    "        r.bayes_p0 = p0\n",
    "        return r\n",
    "\n",
    "    def plot(self, *pars, **kwargs):\n",
    "\n",
    "        if getattr(self, 'isBB',  None) is None:\n",
    "            return super().plot(*pars, **kwargs)\n",
    "        else:\n",
    "            return self.plot_bb(*pars, **kwargs)\n",
    "\n",
    "    def plot_bb(self, ax=None, **kwargs):\n",
    "        \"\"\"Plot the light curve with BB overplot\n",
    "        \"\"\"\n",
    "        import matplotlib.pyplot as plt\n",
    "        self.check_plot_kwargs(kwargs)\n",
    "        figsize = kwargs.pop('figsize', (12,4))\n",
    "        fignum = kwargs.pop('fignum', 1)\n",
    "        ts_min = kwargs.pop('ts_min',-1)\n",
    "        source_name =kwargs.pop('source_name', self.source_name)\n",
    "        fig, ax = plt.subplots(figsize=figsize, num=fignum) if ax is None else (ax.figure, ax)\n",
    "\n",
    "\n",
    "        colors = kwargs.pop('colors', ('lightblue', 'wheat', 'blue') )\n",
    "        flux_plot(self.parent.fits, ax=ax, colors=colors, source_name=source_name,\n",
    "                  label=self.step_name+' bins', **kwargs)\n",
    "        flux_plot(self.fits, ax=ax, step=True,\n",
    "                  label=f'BB (p0={100*self.bayes_p0:.0f}%)', zorder=10,**kwargs)\n",
    "\n",
    "        fig.set_facecolor('white')\n",
    "        return fig"
   ]
  },
  {
   "cell_type": "code",
   "execution_count": null,
   "id": "spread-cartoon",
   "metadata": {},
   "outputs": [
    {
     "data": {
      "text/markdown": [
       "<h2 id=\"WtLike\" class=\"doc_header\"><code>class</code> <code>WtLike</code><a href=\"\" class=\"source_link\" style=\"float:right\">[source]</a></h2>\n",
       "\n",
       "> <code>WtLike</code>(**\\*`pars`**, **\\*\\*`kwargs`**) :: [`LightCurve`](/wtlikelightcurve#LightCurve)\n",
       "\n",
       "Summary\n",
       "---------\n",
       "There are three layers of initialization, implemented in superclasses,\n",
       "each with parameters. The classnames, associated parameters and data members set: \n",
       "\n",
       "SourceData -- load photons and exposure\n",
       "    parameters:\n",
       "      - source : name, a PointSource object, or a Simulation object\n",
       "      - config [Config()] : basic configuration\n",
       "      - week_range [None] : range of weeks to load\n",
       "      - key [''] : the cache key: '' means construct one with the source name, None to disable\n",
       "      - clear [False] : if using cache, clear the contents first\n",
       "    sets:\n",
       "      - photons\n",
       "      - exposure\n",
       "\n",
       "CellData -- create cells\n",
       "    parameters:\n",
       "      - time_bins [Config().time_bins] : binning: start, stop, binsize\n",
       "    sets:\n",
       "      - cells\n",
       "\n",
       "LightCurve -- likelihood analysis of the cells\n",
       "    parameters:\n",
       "      - e_min [10] -- threshold for exposure (cm^2 units)\n",
       "      - n_min [2]  -- likelihood has trouble with this few\n",
       "      - lc_key [None] -- possible cache for light curve\n",
       "    sets:\n",
       "      - fits, fluxes\n",
       "  \n",
       "WtLike (this class) -- no parameters (may add BB-specific ones)\n",
       "    Implements:  bb_view, plot_BB\n",
       "    sets:\n",
       "      - bb_flux  (only if bb_view invoked)"
      ],
      "text/plain": [
       "<IPython.core.display.Markdown object>"
      ]
     },
     "metadata": {},
     "output_type": "display_data"
    },
    {
     "data": {
      "text/markdown": [
       "<h4 id=\"WtLike.bb_view\" class=\"doc_header\"><code>WtLike.bb_view</code><a href=\"__main__.py#L44\" class=\"source_link\" style=\"float:right\">[source]</a></h4>\n",
       "\n",
       "> <code>WtLike.bb_view</code>(**`p0`**=*`0.05`*, **`key`**=*`None`*, **`clear`**=*`False`*)\n",
       "\n",
       "Return a view with the BB analysis applied\n",
       "\n",
       "- p0 -- false positive probability parameter\n",
       "\n",
       "Its `plot` function will by default show an overplot on the parent's data points."
      ],
      "text/plain": [
       "<IPython.core.display.Markdown object>"
      ]
     },
     "metadata": {},
     "output_type": "display_data"
    }
   ],
   "source": [
    "show_doc(WtLike)\n",
    "show_doc(WtLike.bb_view)"
   ]
  },
  {
   "cell_type": "code",
   "execution_count": null,
   "id": "governing-village",
   "metadata": {},
   "outputs": [
    {
     "name": "stdout",
     "output_type": "stream",
     "text": [
      "SourceData: photons and exposure for Geminga: Restoring from cache with key \"Geminga_data\"\n",
      "SourceData: Source Geminga with:\n",
      "\t data:     1,219,805 photons from 2008-08-04 to 2021-06-01\n",
      "\t exposure: 3,135,734 intervals,  average flux 2783 cm^2 for 93.8 Ms\n",
      "\t rates:  source 3.38e-06/s, background 1.29e-06/s, S/N ratio 2.62e+00\n",
      "CellData: Bin photon data into 669 1-week bins from 54683.0 to 59366.0\n",
      "LightCurve: select 660 cells for fitting with e>1 & n>2\n"
     ]
    }
   ],
   "source": [
    "wtl = WtLike('Geminga', clear=False)"
   ]
  },
  {
   "cell_type": "code",
   "execution_count": null,
   "id": "tight-cosmetic",
   "metadata": {},
   "outputs": [
    {
     "data": {
      "image/png": "[encoded data removed]",
      "text/plain": [
       "<Figure size 864x288 with 1 Axes>"
      ]
     },
     "metadata": {},
     "output_type": "display_data"
    }
   ],
   "source": [
    "wtl.plot();"
   ]
  },
  {
   "cell_type": "code",
   "execution_count": null,
   "id": "existing-merchant",
   "metadata": {},
   "outputs": [
    {
     "name": "stdout",
     "output_type": "stream",
     "text": [
      "SourceData: photons and exposure for 3C 279: Restoring from cache with key \"3C_279_data\"\n",
      "SourceData: Source 3C 279 with:\n",
      "\t data:       146,815 photons from 2008-08-04 to 2021-06-01\n",
      "\t exposure: 2,831,808 intervals,  average flux 2845 cm^2 for 84.6 Ms\n",
      "\t rates:  source 3.74e-07/s, background 2.37e-07/s, S/N ratio 1.58e+00\n",
      "CellData: Bin photon data into 669 1-week bins from 54683.0 to 59366.0\n",
      "LightCurve: select 660 cells for fitting with e>1 & n>2\n"
     ]
    },
    {
     "name": "stderr",
     "output_type": "stream",
     "text": [
      "/home/burnett/miniconda3/lib/python3.7/site-packages/scipy/optimize/minpack.py:162: RuntimeWarning: The iteration is not making good progress, as measured by the \n",
      "  improvement from the last ten iterations.\n",
      "  warnings.warn(msg, RuntimeWarning)\n"
     ]
    },
    {
     "data": {
      "text/markdown": [
       "## Test/Demonstration with 3C 279\n",
       "\n",
       "> Note that this also demonstrates using `nbdoc` to have a single Jupyterlab cell generate a document\n",
       "\n",
       "First, the weekly light curve:\n",
       "{out1}    <figure style=\"margin-left: 5%\" title=\"Figure 1\">  <a href=\"images/demo_fig_01.png\" title=\"images/demo_fig_01.png\">    <img src=\"images/demo_fig_01.png\" alt=\"Figure 1 at images/demo_fig_01.png\" width=600>   </a>  <figcaption><b>Figure 1</b>. Full scale</figcaption></figure>\n",
       "\n",
       "Replot the figure with an expanded scale to see position of a flare:\n",
       "<figure style=\"margin-left: 5%\" title=\"Figure 2\">  <a href=\"images/demo_fig_02.png\" title=\"images/demo_fig_02.png\">    <img src=\"images/demo_fig_02.png\" alt=\"Figure 2 at images/demo_fig_02.png\" width=600>   </a> </figure>\n",
       "<details  class=\"nbdoc-description\" >  <summary> Define orbit-based subset around large flare at MJD 57189 </summary>  <div style=\"margin-left: 5%\"><pre>CellData: Bin photon data into 80 orbit-based bins from 57186.1 to 57191.0<br>LightCurve: select 58 cells for fitting with e&gt;1 & n&gt;2<br></pre></div> </details>    <figure style=\"margin-left: 5%\" title=\"Figure 3\">  <a href=\"images/demo_fig_03.png\" title=\"images/demo_fig_03.png\">    <img src=\"images/demo_fig_03.png\" alt=\"Figure 3 at images/demo_fig_03.png\" width=600>   </a> </figure>\n",
       "<details  class=\"nbdoc-description\" >  <summary> Apply BB and overplot it with the cells on which it is based </summary>  <div style=\"margin-left: 5%\"><pre>LightCurve: select 58 cells for fitting with e&gt;1 & n&gt;2<br>Bayesian Blocks: using penalty 0.05<br>Partitioned 58 cells into 10 blocks, using LikelihoodFitness <br>LightCurve: Loaded 10 / 10 cells for fitting<br></pre></div> </details>    <figure style=\"margin-left: 5%\" title=\"Figure 4\">  <a href=\"images/demo_fig_04.png\" title=\"images/demo_fig_04.png\">    <img src=\"images/demo_fig_04.png\" alt=\"Figure 4 at images/demo_fig_04.png\" width=600>   </a> </figure>\n",
       "\n",
       "Table of BB fits\n",
       "<div>\n",
       "<style scoped>\n",
       "    .dataframe tbody tr th:only-of-type {\n",
       "        vertical-align: middle;\n",
       "    }\n",
       "\n",
       "    .dataframe tbody tr th {\n",
       "        vertical-align: top;\n",
       "    }\n",
       "\n",
       "    .dataframe thead th {\n",
       "        text-align: right;\n",
       "    }\n",
       "</style>\n",
       "<table border=\"1\" class=\"dataframe\">\n",
       "  <thead>\n",
       "    <tr style=\"text-align: right;\">\n",
       "      <th>t</th>\n",
       "      <th>tw</th>\n",
       "      <th>n</th>\n",
       "      <th>ts</th>\n",
       "      <th>flux</th>\n",
       "      <th>errors</th>\n",
       "      <th>limit</th>\n",
       "    </tr>\n",
       "  </thead>\n",
       "  <tbody>\n",
       "    <tr>\n",
       "      <td>57186.116</td>\n",
       "      <td>0.017</td>\n",
       "      <td>3</td>\n",
       "      <td>11.600</td>\n",
       "      <td>1.638</td>\n",
       "      <td>(-0.827, 1.218)</td>\n",
       "      <td>4.426</td>\n",
       "    </tr>\n",
       "    <tr>\n",
       "      <td>57186.253</td>\n",
       "      <td>0.025</td>\n",
       "      <td>9</td>\n",
       "      <td>16.000</td>\n",
       "      <td>2.630</td>\n",
       "      <td>(-1.026, 1.317)</td>\n",
       "      <td>5.333</td>\n",
       "    </tr>\n",
       "    <tr>\n",
       "      <td>57186.385</td>\n",
       "      <td>0.026</td>\n",
       "      <td>9</td>\n",
       "      <td>17.000</td>\n",
       "      <td>2.807</td>\n",
       "      <td>(-1.052, 1.335)</td>\n",
       "      <td>5.520</td>\n",
       "    </tr>\n",
       "    <tr>\n",
       "      <td>...</td>\n",
       "      <td>...</td>\n",
       "      <td>...</td>\n",
       "      <td>...</td>\n",
       "      <td>...</td>\n",
       "      <td>...</td>\n",
       "      <td>...</td>\n",
       "    </tr>\n",
       "    <tr>\n",
       "      <td>57190.831</td>\n",
       "      <td>0.012</td>\n",
       "      <td>7</td>\n",
       "      <td>25.800</td>\n",
       "      <td>3.723</td>\n",
       "      <td>(-1.349, 1.739)</td>\n",
       "      <td>7.308</td>\n",
       "    </tr>\n",
       "    <tr>\n",
       "      <td>57190.898</td>\n",
       "      <td>0.009</td>\n",
       "      <td>3</td>\n",
       "      <td>8.000</td>\n",
       "      <td>2.053</td>\n",
       "      <td>(-1.097, 1.625)</td>\n",
       "      <td>5.788</td>\n",
       "    </tr>\n",
       "    <tr>\n",
       "      <td>57190.966</td>\n",
       "      <td>0.006</td>\n",
       "      <td>3</td>\n",
       "      <td>2.300</td>\n",
       "      <td>2.145</td>\n",
       "      <td>(-1.599, 2.46)</td>\n",
       "      <td>7.998</td>\n",
       "    </tr>\n",
       "  </tbody>\n",
       "</table>\n",
       "</div>\n",
       "\n",
       "This can be compared with Figure 4 from the [Kerr paper](https://arxiv.org/pdf/1910.00140.pdf)\n",
       "<figure style=\"margin-left: 5%\" title=\"Figure 5\">  <a href=\"images/demo_fig_05.png\" title=\"images/demo_fig_05.png\">    <img src=\"images/demo_fig_05.png\" alt=\"Figure 5 at images/demo_fig_05.png\" width=600>   </a> </figure>\n"
      ],
      "text/plain": [
       "<utilities.ipynb_docgen.doc_formatter.<locals>.MimeBundleObject at 0x7f49e4e7a050>"
      ]
     },
     "metadata": {},
     "output_type": "display_data"
    }
   ],
   "source": [
    "#collapse_input\n",
    "full = None\n",
    "# code for the demo--this shouid be collapsed\n",
    "def demo(clear=False):\n",
    "    \"\"\"\n",
    "    ## Test/Demonstration with 3C 279\n",
    "    \n",
    "    > Note that this also demonstrates using `nbdoc` to have a single Jupyterlab cell generate a document\n",
    "    \n",
    "    First, the weekly light curve:\n",
    "    {out1}    {fig1}\n",
    "    \n",
    "    Replot the figure with an expanded scale to see position of a flare:\n",
    "    {fig2}\n",
    "    {out3}    {fig3}\n",
    "    {out4}    {fig4}\n",
    "    \n",
    "    Table of BB fits\n",
    "    {bb_table}\n",
    "    \n",
    "    This can be compared with Figure 4 from the [Kerr paper](https://arxiv.org/pdf/1910.00140.pdf)\n",
    "    {kerr_fig4}\n",
    "    \"\"\"\n",
    "    global full\n",
    "    \n",
    "    #with capture_print('Create full weekly light curve') as out1:\n",
    "    full = WtLike('3C 279', clear=clear)\n",
    "    \n",
    "    fig1 = figure(\n",
    "        full.plot(yscale='log', ylim=(0.2,20), figsize=(15,5), xlabel='MJD', fmt='.', fignum=1),\n",
    "        caption='Full scale', width=600)  \n",
    "    \n",
    "    fig2 = figure(\n",
    "        full.plot(  figsize=(15,5), xlabel='MJD', fmt='o', fignum=2,  xlim=(57100, 57300),),\n",
    "        width=600)  \n",
    "    \n",
    "    with capture_print('Define orbit-based subset around large flare at MJD 57189') as out3:\n",
    "        orbit = full.view((57186, 57191, 0))\n",
    "    fig3 = figure(\n",
    "        orbit.plot(fmt='o', tzero=57186,   fignum=3 ),\n",
    "            width=600)\n",
    "    \n",
    "    with capture_print('Apply BB and overplot it with the cells on which it is based') as out4:\n",
    "        bborbit = orbit.bb_view()\n",
    "    fig4 = figure(\n",
    "        bborbit.plot(fmt='o', tzero=57186,   fignum=4),\n",
    "                width=600)\n",
    "    \n",
    "    bb_table = orbit.fluxes\n",
    "    \n",
    "    kerr_fig4 = image('kerr_fig4.png', width=600, caption=None)\n",
    "    return locals()\n",
    "\n",
    "nbdoc(demo, False)"
   ]
  },
  {
   "cell_type": "code",
   "execution_count": null,
   "id": "outstanding-gilbert",
   "metadata": {},
   "outputs": [
    {
     "name": "stdout",
     "output_type": "stream",
     "text": [
      "Converted 00_config.ipynb.\n",
      "Converted 01_data_man.ipynb.\n",
      "Converted 02_effective_area.ipynb.\n",
      "Converted 03_weights.ipynb.\n",
      "Converted 04_exposure.ipynb.\n",
      "Converted 04_select_data.ipynb.\n",
      "Converted 04_simulation.ipynb.\n",
      "Converted 05_source_data.ipynb.\n",
      "Converted 06_poisson.ipynb.\n",
      "Converted 07_loglike.ipynb.\n",
      "Converted 08_cell_data.ipynb.\n",
      "Converted 09_lightcurve.ipynb.\n",
      "Converted 14_bayesian.ipynb.\n",
      "Converted 90_main.ipynb.\n",
      "Converted 99_tutorial.ipynb.\n",
      "Converted index.ipynb.\n",
      "Sun Jun  6 05:53:01 PDT 2021\n"
     ]
    }
   ],
   "source": [
    "#hide\n",
    "from nbdev.export import notebook2script\n",
    "notebook2script()\n",
    "!date"
   ]
  },
  {
   "cell_type": "code",
   "execution_count": null,
   "id": "changed-registration",
   "metadata": {},
   "outputs": [],
   "source": []
  }
 ],
 "metadata": {
  "kernelspec": {
   "display_name": "Python 3",
   "language": "python",
   "name": "python3"
  }
 },
 "nbformat": 4,
 "nbformat_minor": 5
}
