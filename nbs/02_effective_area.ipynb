{
 "cells": [
  {
   "cell_type": "code",
   "execution_count": null,
   "metadata": {},
   "outputs": [
    {
     "name": "stdout",
     "output_type": "stream",
     "text": [
      "Cells will be exported to wtlike.effective_area,\n",
      "unless a different module is specified after an export flag: `%nbdev_export special.module`\n"
     ]
    }
   ],
   "source": [
    "# default_exp effective_area\n",
    "from nbdev import *\n",
    "%reload_ext autoreload\n",
    "%autoreload 2"
   ]
  },
  {
   "cell_type": "markdown",
   "metadata": {},
   "source": [
    "# Effective Area\n",
    "\n",
    "> Manage the effective area calculation\n"
   ]
  },
  {
   "cell_type": "code",
   "execution_count": null,
   "metadata": {},
   "outputs": [],
   "source": [
    "# hide\n",
    "import numpy as np\n",
    "from nbdev.showdoc import *"
   ]
  },
  {
   "cell_type": "code",
   "execution_count": null,
   "metadata": {},
   "outputs": [],
   "source": [
    "# export\n",
    "import os\n",
    "import numpy as np\n",
    "from astropy.io import fits\n",
    "\n",
    "class EffectiveArea(object):\n",
    "    \"\"\" manage the effective area calculation from a CALDB FITS file\n",
    "\n",
    "    Must specify either a file_path, or a value for CALDB, or that the CALDB environment varable is set\n",
    "\n",
    "    \"\"\"\n",
    "\n",
    "    def __init__(self,\n",
    "                 irf: 'IRF to use'= 'P8R2_SOURCE_V6',\n",
    "                 file_path: 'folder to find the AEFF file'=None,\n",
    "                 CALDB: 'path to override environment variable'=None,\n",
    "                 use_phidep:'use azmithual dependence for effective area'=False,\n",
    "                ):\n",
    "        \"\"\"\n",
    "        \"\"\"\n",
    "\n",
    "        #ct0_file,ct1_file = get_irf_file(self.irf,CALDB=self.CALDB)\n",
    "        if CALDB is None:\n",
    "            self.CALDB=os.environ.get('CALDB',None)\n",
    "        assert  (file_path or self.CALDB), 'No path given for effective area'\n",
    "\n",
    "        if not file_path:\n",
    "            if os.path.exists(f'{self.CALDB}/data' ):\n",
    "                self.CALDB+='/data'\n",
    "            self.file_path =  f'{self.CALDB}/glast/lat/bcf/ea'\n",
    "\n",
    "        self.aeff_file = os.path.expandvars(f'{file_path}/aeff_{irf}_FB.fits')\n",
    "\n",
    "        assert os.path.exists(self.aeff_file), f'Effective area file {self.aeff_file} not found'\n",
    "        ct0_file = ct1_file = self.aeff_file ##cdbm.get_aeff()\n",
    "        self._read_aeff(ct0_file,ct1_file)\n",
    "        if use_phidep:\n",
    "            self._read_phi(ct0_file,ct1_file)\n",
    "\n",
    "    def _read_file(self,filename,tablename,columns):\n",
    "        with fits.open(filename) as hdu:\n",
    "            table = hdu[tablename]\n",
    "            cbins = np.append(table.data.field('CTHETA_LO')[0],table.data.field('CTHETA_HI')[0][-1])\n",
    "            ebins = np.append(table.data.field('ENERG_LO')[0],table.data.field('ENERG_HI')[0][-1])\n",
    "            images = [np.asarray(table.data.field(c)[0],dtype=float).reshape(len(cbins)-1,len(ebins)-1) for c in columns]\n",
    "        return ebins,cbins,images\n",
    "\n",
    "    def _read_aeff(self,ct0_file,ct1_file):\n",
    "        try:\n",
    "            ebins,cbins,feffarea = self._read_file(ct0_file,'EFFECTIVE AREA',['EFFAREA'])\n",
    "            ebins,cbins,beffarea = self._read_file(ct1_file,'EFFECTIVE AREA',['EFFAREA'])\n",
    "        except KeyError:\n",
    "            ebins,cbins,feffarea = self._read_file(ct0_file,'EFFECTIVE AREA_FRONT',['EFFAREA'])\n",
    "            ebins,cbins,beffarea = self._read_file(ct1_file,'EFFECTIVE AREA_BACK',['EFFAREA'])\n",
    "        self.ebins,self.cbins = ebins,cbins\n",
    "        self.feffarea = feffarea[0]*1e4;self.beffarea = beffarea[0]*1e4\n",
    "        self.aeff = _InterpTable(np.log10(ebins),cbins)\n",
    "        self.faeff_aug = self.aeff.augment_data(self.feffarea)\n",
    "        self.baeff_aug = self.aeff.augment_data(self.beffarea)\n",
    "\n",
    "    def _read_phi(self,ct0_file,ct1_file):\n",
    "        try:\n",
    "            ebins,cbins,fphis = self._read_file(ct0_file,'PHI_DEPENDENCE',['PHIDEP0','PHIDEP1'])\n",
    "            ebins,cbins,bphis = self._read_file(ct1_file,'PHI_DEPENDENCE',['PHIDEP0','PHIDEP1'])\n",
    "        except KeyError:\n",
    "            ebins,cbins,fphis = self._read_file(ct0_file,'PHI_DEPENDENCE_FRONT',['PHIDEP0','PHIDEP1'])\n",
    "            ebins,cbins,bphis = self._read_file(ct1_file,'PHI_DEPENDENCE_BACK',['PHIDEP0','PHIDEP1'])\n",
    "        self.fphis = fphis; self.bphis = bphis\n",
    "        self.phi = _InterpTable(np.log10(ebins),cbins,augment=False)\n",
    "\n",
    "    def _phi_mod(self,e,c,event_class,phi):\n",
    "        # assume phi has already been reduced to range 0 to pi/2\n",
    "        if phi is None: return 1\n",
    "        tables = self.fphis if event_class==0 else self.bphis\n",
    "        par0 = self.phi(e,c,tables[0],bilinear=False)\n",
    "        par1 = self.phi(e,c,tables[1],bilinear=False,reset_indices=False)\n",
    "        norm = 1. + par0/(1. + par1)\n",
    "        phi = 2*abs((2./np.pi)*phi - 0.5)\n",
    "        return (1. + par0*phi**par1)/norm\n",
    "\n",
    "    def __call__(self,e,c,phi=None,event_class=-1,bilinear=True):\n",
    "        \"\"\" Return bilinear (or nearest-neighbour) interpolation.\n",
    "\n",
    "            Input:\n",
    "                e -- bin energy; potentially array\n",
    "                c -- bin cos(theta); potentially array\n",
    "\n",
    "            NB -- if e and c are both arrays, they must be of the same\n",
    "                  size; in other words, no outer product is taken\n",
    "        \"\"\"\n",
    "        #print(f'Eff call: ({e,c})'); #return\n",
    "        e = np.log10(e)\n",
    "        at = self.aeff\n",
    "        if event_class == -1:\n",
    "            return (at(e,c,self.faeff_aug,bilinear=bilinear)*self._phi_mod(e,c,0,phi),\n",
    "                    at(e,c,self.baeff_aug,bilinear=bilinear,reset_indices=False)*self._phi_mod(e,c,1,phi))\n",
    "        elif event_class == 0:\n",
    "            return at(e,c,self.faeff_aug)*self._phi_mod(e,c,0,phi)\n",
    "        return at(e,c,self.baeff_aug)*self._phi_mod(e,c,1,phi)\n",
    "\n",
    "    def get_file_names(self):\n",
    "        return self.ct0_file,self.ct1_file\n",
    "\n",
    "    def plots(self, fignum=1):\n",
    "        \"\"\"\n",
    "        \"\"\"\n",
    "        import matplotlib.pyplot as plt\n",
    "        ee = np.logspace(2,6)\n",
    "        ct = np.linspace(0.2,1)\n",
    "        plt.rc('font', size=14)\n",
    "        fig, (ax1,ax2) = plt.subplots(1,2, figsize=(10,4), num=fignum)\n",
    "\n",
    "        for et, etname in enumerate('Front Back'.split()):\n",
    "            ax1.semilogx(ee, [ea(e, 1)[et] for e in ee], '-', lw=2, label=etname)\n",
    "            ax2.plot(ct, [self(1000,x )[et]/ea(1000,1)[et] for x in ct], '-', lw=2, label=etname)\n",
    "        ax1.legend()\n",
    "        ax1.set(xlabel='Energy [Mev]', ylabel='effective area', ylim=(0,None))\n",
    "        ax1.grid(alpha=0.5)\n",
    "        ax2.legend()\n",
    "        ax2.set(xlabel =r'$\\cos\\ \\theta$',ylabel='relative to normal at 1 GeV')\n",
    "        ax2.grid(alpha=0.5)\n",
    "        fig.set_facecolor('white')\n",
    "\n",
    "class _InterpTable(object):\n",
    "    \"\"\"Helper class -- does 2-d interpolation\n",
    "    \"\"\"\n",
    "    def __init__(self,xbins,ybins,augment=True):\n",
    "        \"\"\" Interpolation bins in energy and cos(theta).\"\"\"\n",
    "        self.xbins_0,self.ybins_0 = xbins,ybins\n",
    "        self.augment = augment\n",
    "        if augment:\n",
    "            x0 = xbins[0] - (xbins[1]-xbins[0])/2\n",
    "            x1 = xbins[-1] + (xbins[-1]-xbins[-2])/2\n",
    "            y0 = ybins[0] - (ybins[1]-ybins[0])/2\n",
    "            y1 = ybins[-1] + (ybins[-1]-ybins[-2])/2\n",
    "            self.xbins = np.concatenate(([x0],xbins,[x1]))\n",
    "            self.ybins = np.concatenate(([y0],ybins,[y1]))\n",
    "        else:\n",
    "            self.xbins = xbins; self.ybins = ybins\n",
    "        self.xbins_s = (self.xbins[:-1]+self.xbins[1:])/2\n",
    "        self.ybins_s = (self.ybins[:-1]+self.ybins[1:])/2\n",
    "\n",
    "    def augment_data(self,data):\n",
    "        \"\"\" Build a copy of data with outer edges replicated.\"\"\"\n",
    "        d = np.empty([data.shape[0]+2,data.shape[1]+2])\n",
    "        d[1:-1,1:-1] = data\n",
    "        d[0,1:-1] = data[0,:]\n",
    "        d[1:-1,0] = data[:,0]\n",
    "        d[-1,1:-1] = data[-1,:]\n",
    "        d[1:-1,-1] = data[:,-1]\n",
    "        d[0,0] = data[0,0]\n",
    "        d[-1,-1] = data[-1,-1]\n",
    "        d[0,-1] = data[0,-1]\n",
    "        d[-1,0] = data[-1,0]\n",
    "        return d\n",
    "\n",
    "    def set_indices(self,x,y,bilinear=True):\n",
    "        if bilinear and (not self.augment):\n",
    "            print('Not equipped for bilinear, going to nearest neighbor.')\n",
    "            bilinear = False\n",
    "        self.bilinear = bilinear\n",
    "        if not bilinear:\n",
    "            i = np.searchsorted(self.xbins,x)-1\n",
    "            j = np.searchsorted(self.ybins,y)-1\n",
    "        else:\n",
    "            i = np.searchsorted(self.xbins_s,x)-1\n",
    "            j = np.searchsorted(self.ybins_s,y)-1\n",
    "        self.indices = i,j\n",
    "\n",
    "    def value(self,x,y,data):\n",
    "        i,j = self.indices\n",
    "        # NB transpose here\n",
    "        if not self.bilinear: return data[j,i]\n",
    "        x2,x1 = self.xbins_s[i+1],self.xbins_s[i]\n",
    "        y2,y1 = self.ybins_s[j+1],self.ybins_s[j]\n",
    "        f00 = data[j,i]\n",
    "        f11 = data[j+1,i+1]\n",
    "        f01 = data[j+1,i]\n",
    "        f10 = data[j,i+1]\n",
    "        norm = (x2-x1)*(y2-y1)\n",
    "        return ( (x2-x)*(f00*(y2-y)+f01*(y-y1)) + (x-x1)*(f10*(y2-y)+f11*(y-y1)) )/norm\n",
    "\n",
    "    def __call__(self,x,y,data,bilinear=True,reset_indices=True):\n",
    "        if reset_indices:\n",
    "            self.set_indices(x,y,bilinear=bilinear)\n",
    "        return self.value(x,y,data)"
   ]
  },
  {
   "cell_type": "code",
   "execution_count": null,
   "metadata": {},
   "outputs": [
    {
     "data": {
      "text/markdown": [
       "<h4 id=\"EffectiveArea.__call__\" class=\"doc_header\"><code>EffectiveArea.__call__</code><a href=\"__main__.py#L81\" class=\"source_link\" style=\"float:right\">[source]</a></h4>\n",
       "\n",
       "> <code>EffectiveArea.__call__</code>(**`e`**, **`c`**, **`phi`**=*`None`*, **`event_class`**=*`-1`*, **`bilinear`**=*`True`*)\n",
       "\n",
       "Return bilinear (or nearest-neighbour) interpolation.\n",
       "\n",
       "Input:\n",
       "    e -- bin energy; potentially array\n",
       "    c -- bin cos(theta); potentially array\n",
       "\n",
       "NB -- if e and c are both arrays, they must be of the same\n",
       "      size; in other words, no outer product is taken"
      ],
      "text/plain": [
       "<IPython.core.display.Markdown object>"
      ]
     },
     "metadata": {},
     "output_type": "display_data"
    }
   ],
   "source": [
    "show_doc(EffectiveArea.__call__)"
   ]
  },
  {
   "cell_type": "markdown",
   "metadata": {},
   "source": [
    "### Test/demo\n",
    "Simple creation, evaluation"
   ]
  },
  {
   "cell_type": "code",
   "execution_count": null,
   "metadata": {},
   "outputs": [
    {
     "data": {
      "text/plain": [
       "[Path('/home/burnett/wtlike_data/aeff_files/aeff_P8R2_SOURCE_V6_FB.fits')]"
      ]
     },
     "execution_count": null,
     "metadata": {},
     "output_type": "execute_result"
    }
   ],
   "source": [
    "# hide\n",
    "from wtlike.config import Config\n",
    "list((Config().wtlike_data/'aeff_files').glob('*'))"
   ]
  },
  {
   "cell_type": "code",
   "execution_count": null,
   "metadata": {},
   "outputs": [
    {
     "name": "stdout",
     "output_type": "stream",
     "text": [
      "Create an  EffectiveArea using file at file_path /home/burnett/wtlike_data/aeff_files\n",
      "USing file /home/burnett/wtlike_data/aeff_files/aeff_P8R2_SOURCE_V6_FB.fits:\n",
      "Values at E=1000, cos(theta)=1 : [4437, 3870]\n"
     ]
    },
    {
     "data": {
      "image/png": "[encoded data removed]",
      "text/plain": [
       "<Figure size 720x288 with 2 Axes>"
      ]
     },
     "metadata": {},
     "output_type": "display_data"
    }
   ],
   "source": [
    "eapath = Config().wtlike_data/'aeff_files'\n",
    "              \n",
    "if eapath.is_dir():\n",
    "    print(f'Create an  EffectiveArea using file at file_path {eapath}')\n",
    "    ea = EffectiveArea(file_path=eapath)\n",
    "    e, ct = 1000, 1\n",
    "    print(f'USing file {ea.aeff_file}:\\nValues at E={e}, cos(theta)={ct} : {list(map(round, ea(e,ct)))}')\n",
    "    ea.plots()\n",
    "else:\n",
    "    print('Not running this test here, since don''t have the file')"
   ]
  },
  {
   "cell_type": "code",
   "execution_count": null,
   "metadata": {},
   "outputs": [
    {
     "name": "stdout",
     "output_type": "stream",
     "text": [
      "Converted 00_config.ipynb.\n",
      "Converted 01_effective_area.ipynb.\n",
      "Converted 02_data_man.ipynb.\n",
      "Converted 03_weights.ipynb.\n",
      "Converted 05_source_data.ipynb.\n",
      "Converted 06_poisson.ipynb.\n",
      "Converted 07_cell_data.ipynb.\n",
      "Converted 08_loglike.ipynb.\n",
      "Converted 09_lightcurve.ipynb.\n",
      "Converted 10_simulation.ipynb.\n",
      "Converted 14_bayesian.ipynb.\n",
      "Converted index.ipynb.\n",
      "Thu May  6 16:08:42 PDT 2021\n"
     ]
    }
   ],
   "source": [
    "# hide\n",
    "from nbdev.export import notebook2script\n",
    "notebook2script()\n",
    "!date"
   ]
  },
  {
   "cell_type": "code",
   "execution_count": null,
   "metadata": {},
   "outputs": [],
   "source": []
  }
 ],
 "metadata": {
  "kernelspec": {
   "display_name": "Python 3",
   "language": "python",
   "name": "python3"
  }
 },
 "nbformat": 4,
 "nbformat_minor": 4
}
