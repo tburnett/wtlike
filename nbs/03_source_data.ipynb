{
 "cells": [
  {
   "cell_type": "code",
   "execution_count": null,
   "id": "several-topic",
   "metadata": {},
   "outputs": [
    {
     "name": "stdout",
     "output_type": "stream",
     "text": [
      "Cells will be exported to wtlike.source_data,\n",
      "unless a different module is specified after an export flag: `%nbdev_export special.module`\n"
     ]
    }
   ],
   "source": [
    "from nbdev import *\n",
    "%nbdev_default_export source_data\n",
    "%reload_ext autoreload\n",
    "%autoreload 2"
   ]
  },
  {
   "cell_type": "markdown",
   "id": "twelve-kingdom",
   "metadata": {},
   "source": [
    "# Source Data management\n",
    "> Extract data for a source"
   ]
  },
  {
   "cell_type": "markdown",
   "id": "average-train",
   "metadata": {},
   "source": [
    "### Overview\n",
    "\n",
    "Given a point source, the class `SourceData` manages all data-oriented operations, providing all that is necessary to create a set of cells. It depends on the modules\n",
    "\n",
    "* `config` \n",
    "    This must set up the paths to the data created by `data_man`, and define paths for the effective area and weight files\n",
    "\n",
    "* effective_area\n",
    "* weights\n",
    "\n",
    "It implements `binned_exposure`"
   ]
  },
  {
   "cell_type": "code",
   "execution_count": null,
   "id": "polar-remedy",
   "metadata": {},
   "outputs": [],
   "source": [
    "%nbdev_export\n",
    "import os\n",
    "import numpy as np\n",
    "import pandas as pd\n",
    "import healpy\n",
    "import pickle\n",
    "from pathlib import Path\n",
    "\n",
    "from wtlike.config import *\n",
    "from wtlike.data_man import *\n",
    "from wtlike.effective_area import *\n",
    "from wtlike.weights import *"
   ]
  },
  {
   "cell_type": "code",
   "execution_count": null,
   "id": "deluxe-insulin",
   "metadata": {},
   "outputs": [
    {
     "name": "stdout",
     "output_type": "stream",
     "text": [
      "Configuration parameters \n",
      "  verbose         : 2\n",
      "  wtlike_data     : /home/burnett/wtlike_data\n",
      "  cachepath       : /tmp/cache\n",
      "  radius          : 4\n",
      "  cos_theta_max   : 0.4\n",
      "  z_max           : 100\n",
      "  week_range      : (None, None)\n",
      "  time_bins       : (0, 0, 7)\n",
      "  use_uint8       : False\n",
      "  nside           : 1024\n",
      "  nest            : True\n",
      "  bins_per_decade : 4\n",
      "  base_spectrum   : lambda E: (E/1000)**-2.1\n",
      "  energy_range    : (100.0, 1000000.0)\n",
      "  likelihood_rep  : poisson\n",
      "\n",
      "Weekly folder \"/home/burnett/wtlike_data/data_files\" contains 664 weeks, from 9 to 673\n",
      "Most recent data to UTC 2021-04-29 00:47\n",
      "Source \"BL Lac\" at: (l,b)=(92.590,-10.441)\n"
     ]
    }
   ],
   "source": [
    "%nbdev_hide\n",
    "# check the weekly files\n",
    "config = Config(wtlike_data='~/wtlike_data', verbose=2)\n",
    "if config.valid:\n",
    "    ff = get_data_files(config)\n",
    "    source = PointSource('BL Lac') #Geminga')\n",
    "    print(source)"
   ]
  },
  {
   "cell_type": "code",
   "execution_count": null,
   "id": "adjacent-spirituality",
   "metadata": {},
   "outputs": [],
   "source": [
    "%nbdev_export\n",
    "def _exposure(config,  livetime, pcosine):\n",
    "    \"\"\"return exposure calculated for each pair in livetime and cosines arrays\n",
    "\n",
    "    uses effective area\n",
    "    \"\"\"\n",
    "    from scipy.integrate import simps\n",
    "    assert len(livetime)==len(pcosine), 'expect equal-length arrays'\n",
    "\n",
    "    # get a set of energies and associated weights from a trial spectrum\n",
    "\n",
    "    emin,emax = config.energy_range\n",
    "    loge1=np.log10(emin); loge2=np.log10(emax)\n",
    "\n",
    "    edom=np.logspace(loge1, loge2, int((loge2-loge1)*config.bins_per_decade+1))\n",
    "    if config.verbose>1:\n",
    "        print(f'Calculate exposure using the energy domain'\\\n",
    "              f' {emin}-{emax} {config.bins_per_decade} bins/decade' )\n",
    "    base_spectrum = eval(config.base_spectrum) #lambda E: (E/1000)**-2.1\n",
    "    assert base_spectrum(1000)==1.\n",
    "    wts = base_spectrum(edom)\n",
    "\n",
    "    # effectivee area function from\n",
    "    ea = EffectiveArea(file_path=config.wtlike_data/'aeff_files')\n",
    "\n",
    "    # a table of the weighted for each pair in livetime and pcosine arrays\n",
    "    rvals = np.empty([len(wts),len(pcosine)])\n",
    "    for i,(en,wt) in enumerate(zip(edom,wts)):\n",
    "        faeff,baeff = ea([en],pcosine)\n",
    "        rvals[i] = (faeff+baeff)*wt\n",
    "\n",
    "    aeff = simps(rvals,edom,axis=0)/simps(wts,edom)\n",
    "    return (aeff*livetime)\n",
    "\n",
    "def _calculate_exposure_for_source(config, source, week):\n",
    "    \"\"\"\n",
    "    Calcualate the exposure for the source during the given week\n",
    "    \"\"\"\n",
    "    df = week['sc_data']\n",
    "    \n",
    "    # calculate cosines with respect to sky direction\n",
    "    sc = source\n",
    "    ra_r,dec_r = np.radians(sc.ra), np.radians(sc.dec)\n",
    "    sdec, cdec = np.sin(dec_r), np.cos(dec_r)\n",
    "\n",
    "    def cosines( ra2, dec2):\n",
    "        ra2_r =  np.radians(ra2.values)\n",
    "        dec2_r = np.radians(dec2.values)\n",
    "        return np.cos(dec2_r)*cdec*np.cos(ra_r-ra2_r) + np.sin(dec2_r)*sdec\n",
    "\n",
    "    pcosines = cosines(df.ra_scz,    df.dec_scz)\n",
    "    zcosines = cosines(df.ra_zenith, df.dec_zenith)\n",
    "    # mask out entries too close to zenith, or too far away from ROI center\n",
    "    mask =   (pcosines >= config.cos_theta_max) & (zcosines>=np.cos(np.radians(config.z_max)))\n",
    "    if config.verbose>1:\n",
    "        print(f'\\tFound {len(mask):,} S/C entries:  {sum(mask):,} remain after zenith and theta cuts')\n",
    "    dfm = df.loc[mask,:]\n",
    "    livetime = dfm.livetime.values\n",
    "\n",
    "    return  pd.DataFrame( \n",
    "        dict(\n",
    "            start=df.start[mask], \n",
    "            stop=df.stop[mask], \n",
    "            exp=_exposure(config, livetime, pcosines[mask]),\n",
    "            cos_theta=pcosines[mask],\n",
    "        ))\n",
    "\n",
    "\n"
   ]
  },
  {
   "cell_type": "markdown",
   "id": "according-backup",
   "metadata": {},
   "source": [
    "### Check exposure with last data file"
   ]
  },
  {
   "cell_type": "code",
   "execution_count": null,
   "id": "mineral-turkey",
   "metadata": {},
   "outputs": [
    {
     "name": "stdout",
     "output_type": "stream",
     "text": [
      "\tFound 16,974 S/C entries:  6,463 remain after zenith and theta cuts\n",
      "Calculate exposure using the energy domain 100.0-1000000.0 4 bins/decade\n",
      "       start      stop       exp  cos_theta\n",
      "32  59326.04  59326.04  35659.36       0.42\n",
      "33  59326.04  59326.05  39432.62       0.43\n",
      "34  59326.05  59326.05  43399.47       0.45\n",
      "35  59326.05  59326.05  47433.20       0.47\n",
      "36  59326.05  59326.05  51586.01       0.49\n"
     ]
    }
   ],
   "source": [
    "%nbdev_hide\n",
    "if config.valid:\n",
    "    filename=ff[-1]\n",
    "    week = pickle.load( open(filename,'rb') )\n",
    "    e_df = _calculate_exposure_for_source(config, source, week); \n",
    "    print(e_df.head())"
   ]
  },
  {
   "cell_type": "code",
   "execution_count": null,
   "id": "lined-daughter",
   "metadata": {},
   "outputs": [],
   "source": [
    "%nbdev_export\n",
    "\n",
    "def _get_photons_near_source(config, source, week): #tzero, photon_df):\n",
    "    \"\"\"\n",
    "    Select the photons near a source\n",
    "    \n",
    "    - source : a PointSource object\n",
    "    - week : dict with \n",
    "        - tzero : start time for the photon\n",
    "        - photon_df : DataFrame with photon data\n",
    "    \n",
    "    Returns a DF with \n",
    "    - `band` index, \n",
    "    - `time` in MJD (added tstart and converted from MET)\n",
    "    - `pixel` index, nest indexing \n",
    "    - `radius` distance in deg from source direction\n",
    "    \"\"\"\n",
    "    \n",
    "    def _cone(config, source, nest=True):\n",
    "        # cone geometry stuff: get corresponding pixels and center vector\n",
    "        l,b,radius = source.l, source.b, config.radius\n",
    "        cart = lambda l,b: healpy.dir2vec(l,b, lonlat=True)\n",
    "        conepix = healpy.query_disc(config.nside, cart(l,b), np.radians(radius), nest=nest)\n",
    "        center = healpy.dir2vec(l,b, lonlat=True)\n",
    "        return center, conepix\n",
    "    \n",
    "    center, conepix = _cone(config,source)\n",
    "\n",
    "    df = week['photons']\n",
    "    tstart = week['tstart']\n",
    "    allpix = df.nest_index.values\n",
    "\n",
    "    # select by comparing high-order pixels (faster)\n",
    "    shift=11\n",
    "    a = np.right_shift(allpix, shift)\n",
    "    c = np.unique(np.right_shift(conepix, shift))\n",
    "    incone = np.isin(a,c)\n",
    "    \n",
    "    if sum(incone)<2:\n",
    "        print(f'\\nWeek at {UTC(MJD(tstart))} has only {sum(incone)} photons')\n",
    "        return\n",
    "    \n",
    "    if config.verbose>2:\n",
    "        a, b = sum(incone), len(allpix)\n",
    "        print(f'Select photons for source {source.name}:\\n\\tPixel cone cut: select {a} from {b} ({100*a/b:.1f}%)')\n",
    "\n",
    "    # cut df to entries in the cone\n",
    "    dfc = df[incone]\n",
    "\n",
    "    # distance from center for all accepted photons\n",
    "    ll,bb = healpy.pix2ang(config.nside, dfc.nest_index,  nest=True, lonlat=True)\n",
    "    cart = lambda l,b: healpy.dir2vec(l,b, lonlat=True)\n",
    "    t2 = np.degrees(np.array(np.sqrt((1.-np.dot(center, cart(ll,bb)))*2), np.float32))\n",
    "    in_cone = t2<config.radius\n",
    "\n",
    "    if config.verbose>2:\n",
    "        print(f'\\tGeometric cone cut: select {sum(in_cone)}')\n",
    "    # assume all in the GTI (should check)\n",
    "\n",
    "    # times: convert to float, add tstart, convert to MJD\n",
    "    time = MJD(np.array(dfc.time, float)+tstart)\n",
    "\n",
    "    # assemble the DataFrame, remove those outside the radius\n",
    "    out_df = pd.DataFrame(np.rec.fromarrays(\n",
    "        [np.array(dfc.band), time, dfc.nest_index, t2],\n",
    "        names='band time pixel radius'.split()))[in_cone]\n",
    "\n",
    "    # make sure times are monotonic by sorting (needed for most weeks after March 2018)\n",
    "    out_df = out_df.sort_values(by='time')\n",
    "    \n",
    "    return out_df"
   ]
  },
  {
   "cell_type": "markdown",
   "id": "unlike-understanding",
   "metadata": {},
   "source": [
    "### test photon data "
   ]
  },
  {
   "cell_type": "code",
   "execution_count": null,
   "id": "excessive-staff",
   "metadata": {},
   "outputs": [
    {
     "name": "stdout",
     "output_type": "stream",
     "text": [
      "TSTART: MET 239557417.0, UTC 2008-08-04 15:44\n",
      "    band      time    pixel  radius\n",
      "0      5  54682.69  5466843    2.13\n",
      "5      6  54682.70  5457955    2.91\n",
      "6      4  54682.77  5468769    3.20\n",
      "7      0  54682.77  5466871    2.22\n",
      "10     0  54682.77  5459333    3.50\n"
     ]
    }
   ],
   "source": [
    "%nbdev_hide\n",
    "if config.valid:\n",
    "    week = pickle.load(open(ff[0],'rb')); \n",
    "    tstart = week['tstart']\n",
    "    print(f'TSTART: MET {tstart}, UTC {UTC(MJD(tstart))}')\n",
    "    p_df = _get_photons_near_source(config, source, week )\n",
    "    print(p_df.head())"
   ]
  },
  {
   "cell_type": "code",
   "execution_count": null,
   "id": "anticipated-eligibility",
   "metadata": {},
   "outputs": [],
   "source": [
    "%nbdev_export  \n",
    "def contiguous_bins(exposure, min_gap=20, min_duration=600):\n",
    "    \n",
    "    \"\"\" return a dataframe with start and stop columns that \n",
    "    denote contiguous intervals\n",
    "    \n",
    "    \"\"\"\n",
    "\n",
    "    stop = exposure.stop.values\n",
    "    start = exposure.start.values\n",
    "\n",
    "    # interleave  the starts ane stops\n",
    "    ssint = np.empty(2*len(start))\n",
    "    ssint[0::2] = start\n",
    "    ssint[1::2] = stop\n",
    "\n",
    "    # Tag the (stpp,start) pairs < 10 sec as  not adjacent\n",
    "    not_adjacent = np.diff(ssint)[1::2] > min_gap/(24*3600) ; \n",
    "    #print(f'{sum(not_adjacent)} (start,stop) pairs are not closer than {min_gap} s')\n",
    "\n",
    "    # make a mask, keep ends\n",
    "    mask = np.empty(2*len(start), bool)\n",
    "    mask[0] = mask[-1] = True\n",
    "    # \n",
    "\n",
    "    # insert into mask -- keep only the (stop,start) pairs  which are not adjacent\n",
    "    mask[1:-2:2] = not_adjacent\n",
    "    mask[2:-1:2] = not_adjacent\n",
    "    \n",
    "    # apply mask, split into start and stop\n",
    "    keep = ssint[mask]\n",
    "    return keep\n",
    "#     gstart, gstop = keep[0::2], keep[1::2]\n",
    "#     df =  pd.DataFrame.from_dict(dict(start=gstart, stop=gstop))\n",
    "    \n",
    "#     # add column with duration in sec\n",
    "#     df.loc[:,'duration'] = (df.stop-df.start)*24*3600\n",
    "#     return df.query(f'duration>{min_duration}')\n",
    "\n",
    "def time_bin_edges(config, exposure, tbin=None):\n",
    "    \"\"\"Return an interleaved array of start/stop values\n",
    "    \n",
    "    tbin: an array (a,b,d), default config.time_bins\n",
    "    \n",
    "    interpretation of a, b:\n",
    "\n",
    "        if > 5000, interpret as MJD\n",
    "        if <0, back from stop\n",
    "        otherwise, offset from start\n",
    "        \n",
    "    d : if positive, the day bin size\n",
    "        if 0; return contiguous bins\n",
    "        \n",
    "\n",
    "    \"\"\"\n",
    "    # nominal total range, MJD edges\n",
    "    start = np.round(exposure.start.values[0])\n",
    "    stop =  np.round(exposure.stop.values[-1])\n",
    "\n",
    "    a, b, step = tbin if tbin is not None else config.time_bins\n",
    "    \n",
    "\n",
    "    if a>50000: start=a\n",
    "    elif a<0: start = stop+a\n",
    "    else : start += a\n",
    "\n",
    "\n",
    "    if b>5000: stop=b\n",
    "    elif b>0: stop = start+b\n",
    "    else: stop += b\n",
    "    \n",
    "    if step<=0:\n",
    "        return contiguous_bins(exposure.query(f'{start}<start<{stop}'),)\n",
    "\n",
    "    # adjust stop\n",
    "    nbins = int((stop-start)/step)\n",
    "    assert nbins>1, 'Bad binning: no bins'\n",
    "    stop = start+(nbins)*step\n",
    "    u =  np.linspace(start,stop, nbins+1 )\n",
    "    \n",
    "    # make an interleaved start/stop array\n",
    "    v = np.empty(2*nbins, float)\n",
    "    v[0::2] = u[:-1]\n",
    "    v[1::2] = u[1:]\n",
    "    return v"
   ]
  },
  {
   "cell_type": "code",
   "execution_count": null,
   "id": "productive-radio",
   "metadata": {},
   "outputs": [
    {
     "name": "stdout",
     "output_type": "stream",
     "text": [
      "[59326. 59327. 59327. 59328. 59328. 59329. 59329. 59330. 59330. 59331.\n",
      " 59331. 59332. 59332. 59333.]\n",
      "[59332.00012481 59332.01193037 59332.05607389 59332.07829611\n",
      " 59332.12209241 59332.14431463 59332.1881225  59332.21034472\n",
      " 59332.25414102 59332.26951701 59332.32034472 59332.33641516\n",
      " 59332.38652528 59332.40414666 59332.45241648 59332.47200555\n",
      " 59332.51860861 59332.53991055 59332.58459241 59332.60681463\n",
      " 59332.65076139 59332.67298361 59332.71684935 59332.73907157\n",
      " 59332.78291417 59332.80513639 59332.84908315 59332.87130537\n",
      " 59332.91497435 59332.93719657 59332.98138639 59332.98653421]\n"
     ]
    }
   ],
   "source": [
    "exposure = e_df\n",
    "print(time_bin_edges(config, exposure, (0,0,1)) )\n",
    "print(time_bin_edges(config, exposure, (-1,0,0)))\n",
    "# print(time_bin_edges(config, exposure, (0,0,0.5)) )\n",
    "# print(time_bin_edges(config, exposure, (-5,0,2)) )\n",
    "# print(time_bin_edges(config, exposure, (0,1,0.25)) )\n",
    "# print(time_bin_edges(config, exposure, (-5,-4,0.25)) )   \n",
    "# print(time_bin_edges(config, exposure, (59326, 59330,0.5)) )    \n",
    " "
   ]
  },
  {
   "cell_type": "code",
   "execution_count": null,
   "id": "covered-monroe",
   "metadata": {},
   "outputs": [
    {
     "data": {
      "image/png": "[encoded data removed]",
      "text/plain": [
       "<Figure size 432x288 with 1 Axes>"
      ]
     },
     "metadata": {
      "needs_background": "light"
     },
     "output_type": "display_data"
    }
   ],
   "source": [
    "keep = contiguous_bins(exposure)\n",
    "gstart, gstop = keep[0::2], keep[1::2]\n",
    "df =  pd.DataFrame.from_dict(dict(start=gstart, stop=gstop))\n",
    "\n",
    "# add column with duration in sec\n",
    "df.loc[:,'duration'] = (df.stop-df.start)*24*3600\n",
    "\n",
    "df.hist('duration', bins=np.linspace(0,4e3,131));"
   ]
  },
  {
   "cell_type": "code",
   "execution_count": null,
   "id": "theoretical-winner",
   "metadata": {},
   "outputs": [],
   "source": [
    "%nbdev_export\n",
    "def binned_exposure(config, exposure, time_edges):\n",
    "    \"\"\"Bin the exposure\n",
    "\n",
    "    - time_bins: list of edges, as an interleaved start/stop array\n",
    "       \n",
    "        \n",
    "    returns tuple with      \n",
    "    - bexp: array of exposure integrated over each time bin, normalized to total\n",
    "        if interleaved, client must apply [0::2] selection.\n",
    "    - expbin total exposure\n",
    "\n",
    "\n",
    "    \"\"\"\n",
    "\n",
    "    # get exposure calculation\n",
    "    exp   =exposure.exp.values\n",
    "    estart= exposure.start.values\n",
    "    estop = exposure.stop.values\n",
    "\n",
    "    # determine bins,\n",
    "\n",
    "    #use cumulative exposure to integrate over larger periods\n",
    "    cumexp = np.concatenate(([0],np.cumsum(exp)) )\n",
    "\n",
    "    # get index into tstop array of the bin edges\n",
    "    edge_index = np.searchsorted(estop, time_edges)\n",
    "    \n",
    "    # return the exposure integrated over the intervals\n",
    "    cum = cumexp[edge_index]\n",
    "   \n",
    "    # difference is exposure per interval\n",
    "    bexp = np.diff(cum) \n",
    "#     if config.verbose>1:\n",
    "#         print(f'Relative exposure per bin:\\n{pd.Series(bexp).describe(percentiles=[])}')\n",
    "    return bexp"
   ]
  },
  {
   "cell_type": "code",
   "execution_count": null,
   "id": "regulated-birth",
   "metadata": {},
   "outputs": [],
   "source": [
    "%nbdev_export\n",
    "\n",
    "def _load_from_weekly_data(config, source):\n",
    "    \"\"\"\n",
    "    Generate combinded DataFrames from a list of pickled files\n",
    "    Either weekly or monthly\n",
    "    \"\"\"\n",
    "    \n",
    "    # check weights\n",
    "    weight_file =  check_weights(config,  source)\n",
    "    assert weight_file is not None\n",
    "    \n",
    "    data_folder = config.wtlike_data/'data_files'\n",
    "    data_files = sorted(list(data_folder.glob('*.pkl')))\n",
    "    iname = data_folder.name\n",
    "    \n",
    "    if config.verbose>0:\n",
    "        print(f\"Assembling photon data and exposure for source {source.name} from\"\\\n",
    "              f' folder \"{data_folder}\", with {len(data_files)} files,'\\\n",
    "              f' last={data_files[-1].name}')\n",
    "    if config.week_range is not None:\n",
    "        if config.verbose>0:\n",
    "            print(f'\\tUsing weeks {config.week_range}')\n",
    "        t = config.week_range\n",
    "        data_files= data_files[t[0]:t[1]]\n",
    "            \n",
    "\n",
    "    verbose, config.verbose=config.verbose, 0\n",
    "    # list of data framees\n",
    "    pp = []\n",
    "    ee = []\n",
    "    for f in data_files:\n",
    "        print('.', end='')\n",
    "        with open(f, 'rb') as inp:\n",
    "            week = pickle.load(inp)\n",
    "        pp.append(_get_photons_near_source(config, source, week ))\n",
    "        ee.append(_calculate_exposure_for_source(config, source, week ))\n",
    "    print('');    \n",
    "    config.verbose=verbose\n",
    "    # concatenate the two lists of DataFrames\n",
    "    p_df = pd.concat(pp, ignore_index=True)\n",
    "    e_df = pd.concat(ee, ignore_index=True)\n",
    "\n",
    "    if config.verbose>1:\n",
    "        times = p_df.time.values\n",
    "        print(f'Loaded {len(p_df):,} photons from {UTC(times[0])} to  {UTC(times[-1])} ')\n",
    "        print(f'Calculated {len(e_df):,} exposure entries')\n",
    "        \n",
    "    # add weights to photon data\n",
    "    add_weights(config, p_df, source)\n",
    "        \n",
    "    return p_df, e_df\n",
    "\n",
    "class SourceData(object):\n",
    "    \"\"\" Load the photon data near the source and associated exposure. \n",
    "    \n",
    "    Either from:\n",
    "      1. `config.wtlike_data/'data_files'`, the Path to folder with list of pickle files with weekly or monthly data\n",
    "      2. the cache, with key `{source.name}_data`\n",
    "    \n",
    "    * source_name : if specified, create a PointSource object\n",
    "    * `config` : basic configuration\n",
    "    * `source` : PointSource object if specified\n",
    "    * `clear` : if set, overwrite the cached results\n",
    "    \"\"\"\n",
    "    \n",
    "    def __init__(self, source_name, config=None, source=None, clear=False):\n",
    "        \"\"\" \n",
    "\n",
    "        \"\"\"\n",
    "            \n",
    "        self.config = config if config else Config()\n",
    "        if not (source_name or source):\n",
    "            print('Must specify either the source name or a PointSource object', file=sys.stderr)\n",
    "            return\n",
    " \n",
    "        self.source = PointSource(source_name) if source_name else source\n",
    "        self.source_name = self.source.name\n",
    "        self.verbose = self.config.verbose\n",
    "        \n",
    "        key = f'{self.source.name}__data'\n",
    "        self.source.data_key = key\n",
    "        \n",
    "        if self.config.wtlike_data/'data_files' is None and key not in config.cache:\n",
    "            raise Exception(f'Data for {source.name} is not cached, and config.wtlike_data/\"data_files\" is not set')\n",
    "        \n",
    "        photons, self.e_df = self.config.cache(key, \n",
    "                                    _load_from_weekly_data, self.config, self.source, \n",
    "                                    overwrite=clear,\n",
    "                                    description=f'photons and exposure for {self.source.name}')\n",
    "        \n",
    "        # get the photon data with good weights, not NaN (maybe remove small weigts, too)\n",
    "        w = photons.weight\n",
    "        good = np.logical_not(np.isnan(w))\n",
    "        self.p_df = self.photons = photons.loc[good]\n",
    "        \n",
    "        # estimates for signal and background per cell ???\n",
    "        self.S = np.sum(w)\n",
    "        self.B = np.sum(1-w)\n",
    "        \n",
    "        self.exptot = sum(self.e_df.exp)\n",
    "         \n",
    "        if self.verbose>0:\n",
    "            print(SourceData.__repr__(self))\n",
    "    \n",
    "\n",
    "    def __repr__(self):\n",
    "        time = self.p_df.time.values\n",
    "        r = f'{self.__class__.__name__}: Source {self.source.name} with:'\\\n",
    "            f'\\n\\t data:     {len(self.p_df):9,} photons from   {UTC(time[0])[:10]} to {UTC(time[-1])[:10]}'\\\n",
    "            f'\\n\\t exposure: {len(self.e_df):9,} intervals from {UTC(self.e_df.iloc[0].start)[:10]}'\\\n",
    "            f' to {UTC(self.e_df.iloc[-1].stop)[:10]}'\n",
    "        return r\n",
    "    \n",
    "    def binned_exposure(self, time_edges):\n",
    "        \"\"\"Bin the exposure\n",
    "        \n",
    "        - time_bins: list of edges.  \n",
    "        \"\"\"\n",
    "        return binned_exposure(self.config, self.e_df,  time_edges)\n",
    "        binned_exposure\n",
    "\n",
    "    \n",
    "    def binned_cos_theta(self, time_bins=None):\n",
    "        \"\"\" Calculate average cosine of angle with respect to bore axis, per time bin\n",
    "        \"\"\"\n",
    "        if time_bins is None:\n",
    "            time_bins = get_default_bins(self.config, self.e_df)\n",
    "        df = self.e_df.copy()\n",
    "        estop =df.stop.values\n",
    "        df.loc[:,'tbin'] =np.digitize(estop, time_bins)\n",
    "        ct = df.groupby('tbin').mean()['cos_theta']\n",
    "        return ct, time_bins\n",
    "    \n",
    "    def weight_histogram(self, nbins=1000, key=''):\n",
    "        \"\"\" return a weight distribution\n",
    "        \"\"\"\n",
    "        def doit(nbins):\n",
    "            return np.histogram(self.p_df.weight.values, np.linspace(0,1,nbins+1))[0]\n",
    "\n",
    "        key = f'{self.source.name}_weight_hist' if key=='' else key\n",
    "        description = f'Weight histogram for {self.source.name}' if self.config.verbose>0 else ''\n",
    "        return self.config.cache(key, doit, nbins, description=description)\n",
    "        \n",
    "    def plot_data(self):\n",
    "        import matplotlib.pyplot as plt\n",
    "        fig, (ax1,ax2, ax3,ax4) = plt.subplots(1,4, figsize=(15,4))\n",
    "        ax1.hist(self.p_df.time.values, 500, histtype='step');\n",
    "        ax1.set(xlabel='Time (MJD)')\n",
    "        ax2.hist(self.p_df.radius.values, 500, histtype='step');\n",
    "        ax2.set(xlabel='Radius (deg)');\n",
    "        \n",
    "        ax3.hist(self.p_df.band, 32, histtype='step', log=True);\n",
    "        ax3.set(xlabel='Band index')\n",
    "        ax4.hist(self.p_df.weight, 100, histtype='step')\n",
    "        ax4.set(xlabel='weight');"
   ]
  },
  {
   "cell_type": "code",
   "execution_count": null,
   "id": "literary-hopkins",
   "metadata": {},
   "outputs": [
    {
     "data": {
      "text/markdown": [
       "<h2 id=\"SourceData\" class=\"doc_header\"><code>class</code> <code>SourceData</code><a href=\"\" class=\"source_link\" style=\"float:right\">[source]</a></h2>\n",
       "\n",
       "> <code>SourceData</code>(**`source_name`**, **`config`**=*`None`*, **`source`**=*`None`*, **`clear`**=*`False`*)\n",
       "\n",
       "Load the photon data near the source and associated exposure. \n",
       "\n",
       "Either from:\n",
       "  1. `config.wtlike_data/'data_files'`, the Path to folder with list of pickle files with weekly or monthly data\n",
       "  2. the cache, with key `{source.name}_data`\n",
       "\n",
       "* source_name : if specified, create a PointSource object\n",
       "* [`config`](/wtlikeconfig) : basic configuration\n",
       "* `source` : PointSource object if specified\n",
       "* `clear` : if set, overwrite the cached results"
      ],
      "text/plain": [
       "<IPython.core.display.Markdown object>"
      ]
     },
     "metadata": {},
     "output_type": "display_data"
    },
    {
     "data": {
      "text/markdown": [
       "<h4 id=\"SourceData.binned_exposure\" class=\"doc_header\"><code>SourceData.binned_exposure</code><a href=\"__main__.py#L115\" class=\"source_link\" style=\"float:right\">[source]</a></h4>\n",
       "\n",
       "> <code>SourceData.binned_exposure</code>(**`time_edges`**)\n",
       "\n",
       "Bin the exposure\n",
       "\n",
       "- time_bins: list of edges.  "
      ],
      "text/plain": [
       "<IPython.core.display.Markdown object>"
      ]
     },
     "metadata": {},
     "output_type": "display_data"
    }
   ],
   "source": [
    "#hide\n",
    "show_doc(SourceData)\n",
    "show_doc(SourceData.binned_exposure)"
   ]
  },
  {
   "cell_type": "markdown",
   "id": "generous-conducting",
   "metadata": {},
   "source": [
    "## Test extracting full dataset"
   ]
  },
  {
   "cell_type": "code",
   "execution_count": null,
   "id": "upper-office",
   "metadata": {},
   "outputs": [
    {
     "name": "stdout",
     "output_type": "stream",
     "text": [
      "photons and exposure for Geminga: Restoring from cache with key \"Geminga__data\"\n",
      "SourceData: Source Geminga with:\n",
      "\t data:     1,211,364 photons from   2008-08-04 to 2021-04-28\n",
      "\t exposure: 3,112,161 intervals from 2008-08-04 to 2021-04-28\n"
     ]
    },
    {
     "data": {
      "image/png": "[encoded data removed]",
      "text/plain": [
       "<Figure size 1080x288 with 4 Axes>"
      ]
     },
     "metadata": {
      "needs_background": "light"
     },
     "output_type": "display_data"
    }
   ],
   "source": [
    "%nbdev_hide\n",
    "sd = SourceData('Geminga') \n",
    "sd.plot_data()"
   ]
  },
  {
   "cell_type": "markdown",
   "id": "freelance-affairs",
   "metadata": {},
   "source": [
    "Development of code to summarize cos theta"
   ]
  },
  {
   "cell_type": "code",
   "execution_count": null,
   "id": "statewide-produce",
   "metadata": {},
   "outputs": [
    {
     "data": {
      "text/plain": [
       "SourceData: Source Geminga with:\n",
       "\t data:     1,211,364 photons from   2008-08-04 to 2021-04-28\n",
       "\t exposure: 3,112,161 intervals from 2008-08-04 to 2021-04-28"
      ]
     },
     "execution_count": null,
     "metadata": {},
     "output_type": "execute_result"
    }
   ],
   "source": [
    "sd"
   ]
  },
  {
   "cell_type": "code",
   "execution_count": null,
   "id": "crucial-government",
   "metadata": {},
   "outputs": [
    {
     "data": {
      "text/plain": [
       "267362561238.10257"
      ]
     },
     "execution_count": null,
     "metadata": {},
     "output_type": "execute_result"
    }
   ],
   "source": [
    "sd.exptot"
   ]
  },
  {
   "cell_type": "code",
   "execution_count": null,
   "id": "portuguese-eating",
   "metadata": {},
   "outputs": [],
   "source": [
    "\n",
    "%nbdev_hide\n",
    "# sd.e_df.cos_theta.hist(bins=100);\n",
    "\n",
    "# plt.plot(sd.weight_histogram(200,key=None), '.')\n",
    "\n",
    "# self = sd\n",
    "# time_bins = None\n",
    "# if time_bins is None:\n",
    "#     time_bins = get_default_bins(config, self.e_df)\n",
    "\n",
    "# df = self.e_df.copy()\n",
    "# estop =df.stop.values\n",
    "# df.loc[:,'tbin'] = np.digitize(estop, time_bins)\n",
    "# ct = df.groupby('tbin').mean()['cos_theta']\n",
    "# ct, bins = sd.binned_cos_theta()\n",
    "# print(len(ct), len(time_bins))\n",
    "# print(ct)\n",
    "\n",
    "# ctx = df.groupby('tbin').agg({'cos_theta': ['count','mean', 'min', 'max']})\n",
    "# print(ctx)\n",
    "\n",
    "# ct, bins = sd.binned_cos_theta()\n",
    "# print(len(ct), len(bins))\n",
    "# plt.plot(ct.index[:100], ct[:100],'.');"
   ]
  },
  {
   "cell_type": "code",
   "execution_count": null,
   "id": "classical-newport",
   "metadata": {},
   "outputs": [
    {
     "name": "stdout",
     "output_type": "stream",
     "text": [
      "Converted 00_config.ipynb.\n",
      "Converted 01_effective_area.ipynb.\n",
      "Converted 02_data_man.ipynb.\n",
      "Converted 03_source_data.ipynb.\n",
      "Converted 03_weights.ipynb.\n",
      "Converted 06_poisson.ipynb.\n",
      "Converted 07_cell_data.ipynb.\n",
      "Converted 08_loglike.ipynb.\n",
      "Converted 09_lightcurve.ipynb.\n",
      "Converted 10_simulation.ipynb.\n",
      "Converted 14_bayesian.ipynb.\n",
      "Converted index.ipynb.\n",
      "Wed May  5 16:13:17 PDT 2021\n"
     ]
    }
   ],
   "source": [
    "%nbdev_hide\n",
    "from nbdev.export import notebook2script\n",
    "notebook2script()\n",
    "!date"
   ]
  },
  {
   "cell_type": "code",
   "execution_count": null,
   "id": "underlying-concrete",
   "metadata": {},
   "outputs": [],
   "source": []
  }
 ],
 "metadata": {
  "kernelspec": {
   "display_name": "Python 3",
   "language": "python",
   "name": "python3"
  }
 },
 "nbformat": 4,
 "nbformat_minor": 5
}
