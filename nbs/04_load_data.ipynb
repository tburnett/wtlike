{
 "cells": [
  {
   "cell_type": "code",
   "execution_count": null,
   "id": "6fc39fe8-a0ae-4dfb-9be6-7dc13bb74e24",
   "metadata": {},
   "outputs": [
    {
     "name": "stdout",
     "output_type": "stream",
     "text": [
      "Wed Jul 28 11:54:16 PDT 2021\n"
     ]
    }
   ],
   "source": [
    "# default_exp load_data\n",
    "# %reload_ext autoreload\n",
    "# %autoreload 2\n",
    "from nbdev.showdoc import show_doc\n",
    "!date"
   ]
  },
  {
   "cell_type": "markdown",
   "id": "dd45f94e-3c5e-445e-8a5c-ead33b19baec",
   "metadata": {
    "tags": []
   },
   "source": [
    "# Load data\n",
    "> Prepare photons and exposure, given a source "
   ]
  },
  {
   "cell_type": "markdown",
   "id": "a2b20c9f-4a07-44cc-a52d-651a287e73e1",
   "metadata": {},
   "source": [
    "This module defines the function `load_source_data`.\n",
    "\n"
   ]
  },
  {
   "cell_type": "code",
   "execution_count": null,
   "id": "89e6128e-1002-4981-8cb2-402843cf88fb",
   "metadata": {},
   "outputs": [],
   "source": [
    "#export\n",
    "import pickle, healpy\n",
    "import pandas as pd\n",
    "import numpy as np\n",
    "import matplotlib.pyplot as plt\n",
    "from wtlike.config import (Config, UTC, MJD)\n",
    "from wtlike.effective_area import EffectiveArea\n",
    "from wtlike.exposure import  binned_exposure, sc_data_selection\n",
    "from wtlike.sources import PointSource"
   ]
  },
  {
   "cell_type": "code",
   "execution_count": null,
   "id": "140d1114-9f1d-4e34-ba77-6b9ff0eff95b",
   "metadata": {},
   "outputs": [],
   "source": [
    "# export\n",
    "def _get_photons_near_source(config, source, week): #tzero, photon_df):\n",
    "    \"\"\"\n",
    "    Select the photons near a source\n",
    "\n",
    "    - source : a PointSource object\n",
    "    - week : dict with\n",
    "        - tzero : start time for the photon\n",
    "        - photon_df : DataFrame with photon data\n",
    "\n",
    "    Returns a DF with\n",
    "    - `band` index,\n",
    "    - `time` in MJD (added tstart and converted from MET)\n",
    "    - `pixel` index, nest indexing\n",
    "    - `radius` distance in deg from source direction\n",
    "    \"\"\"\n",
    "\n",
    "    def _cone(config, source, nest=True):\n",
    "        # cone geometry stuff: get corresponding pixels and center vector\n",
    "        l,b,radius = source.l, source.b, config.radius\n",
    "        cart = lambda l,b: healpy.dir2vec(l,b, lonlat=True)\n",
    "        conepix = healpy.query_disc(config.nside, cart(l,b), np.radians(radius), nest=nest)\n",
    "        center = healpy.dir2vec(l,b, lonlat=True)\n",
    "        return center, conepix\n",
    "\n",
    "    center, conepix = _cone(config,source)\n",
    "\n",
    "    df = week['photons']\n",
    "    tstart = week['tstart']\n",
    "    allpix = df.nest_index.values\n",
    "\n",
    "    # select by comparing high-order pixels (faster)\n",
    "    shift=11\n",
    "    a = np.right_shift(allpix, shift)\n",
    "    c = np.unique(np.right_shift(conepix, shift))\n",
    "    incone = np.isin(a,c)\n",
    "\n",
    "    if sum(incone)<2:\n",
    "        if config.verbose>1:\n",
    "            print(f'\\nWeek starting {UTC(MJD(tstart))} has 0 or 1 photons')\n",
    "        return\n",
    "\n",
    "    if config.verbose>2:\n",
    "        a, b = sum(incone), len(allpix)\n",
    "        print(f'Select photons for source {source.name}:\\n\\tPixel cone cut: select {a} from {b} ({100*a/b:.1f}%)')\n",
    "\n",
    "    # cut df to entries in the cone\n",
    "    dfc = df[incone].copy()\n",
    "\n",
    "    if 'trun' in dfc:\n",
    "        time = dfc.run_id.astype(float) + dfc.trun * config.offset_size\n",
    "    else:\n",
    "        # old: convert  to float, add tstart, convert to MJD\n",
    "        time = np.array(dfc.time, float)+tstart\n",
    "    dfc.loc[:,'time'] = MJD(time)\n",
    "\n",
    "    # assemble the DataFrame, remove those outside the radius\n",
    "    out_df = dfc\n",
    "\n",
    "    # make sure times are monotonic by sorting (needed since runs not in order in most\n",
    "    #  week-files after March 2018)\n",
    "    out_df = dfc.sort_values(by='time')\n",
    "\n",
    "    if config.verbose>2:\n",
    "        print(f'selected photons:\\n{out_df.head()}')\n",
    "\n",
    "    return out_df"
   ]
  },
  {
   "cell_type": "code",
   "execution_count": null,
   "id": "ad70f37d-639e-497c-9524-a2ca639b5e15",
   "metadata": {
    "tags": []
   },
   "outputs": [],
   "source": [
    "# export\n",
    "class ExposureMan(object):\n",
    "    \"\"\"\n",
    "    Process a week    \n",
    "    \"\"\"\n",
    "    \n",
    "\n",
    "    def __init__(self, config, source, week_file): #, carry_in=np.zeros(32)): \n",
    "        \"\"\"\n",
    "        \n",
    "        \"\"\"\n",
    "        with open(week_file, 'rb') as inp:\n",
    "            week = pickle.load(inp)\n",
    "        pdf = week['photons']\n",
    "        sc_data = edf = week['sc_data']\n",
    "        self.start = MJD(week['tstart'])\n",
    "        self.config = config\n",
    "\n",
    "        if config.verbose>1:\n",
    "            print(f'Opened week file \"{week_file.name}\" of {UTC(self.start)}')\n",
    "            print(f'\\tFound {len(pdf):,} photons, {len(edf):,} SC entries)')\n",
    "        \n",
    "        self.sc_df = sc_df = sc_data_selection(config, source, sc_data)\n",
    "        \n",
    "        # interleaved start/stop \n",
    "        self.stime = np.empty(2*len(sc_df.start))\n",
    "        self.stime[0::2]=sc_df.start.values\n",
    "        self.stime[1::2]=sc_df.stop.values\n",
    "        assert np.all(np.diff(self.stime)>=0), 'Time-ordering failure'\n",
    "        \n",
    "        Aeff = EffectiveArea(file_path=config.wtlike_data/'aeff_files')\n",
    "        self.lt = sc_df.livetime.values\n",
    "        self.ct = sc_df.cos_theta.values\n",
    "        \n",
    "\n",
    "        pdf = _get_photons_near_source(config,source, week)\n",
    "        if pdf is None or len(pdf)<3 :\n",
    "            self.photons = None\n",
    "        else:\n",
    "            assert pdf is not None and len(pdf)>0\n",
    "            \n",
    "            # set weights from the weight table, removing those with no weight            \n",
    "            pdf = source.wtman.add_weights(pdf)\n",
    "            \n",
    "            # finally set the time and the exposure per remaining photons\n",
    "            self.photons = self.photon_times( pdf )\n",
    "            \n",
    "    def __repl__(self):\n",
    "        return f'Data for week of {UTF(self.start)}: {len(self.photons):,} photons'\n",
    "    \n",
    "    def __str__(self): return self.__repl__()\n",
    "        \n",
    "    def photon_times(self, pdf):\n",
    "        \n",
    "        # construct the time from the run number and offset\n",
    "        ptime = MJD(pdf.run_id.astype(float) + pdf.trun * self.config.offset_size)\n",
    "        pdf.loc[:,'time'] = ptime\n",
    "\n",
    "        # select the subset with exposure info\n",
    "        tk = np.searchsorted(self.stime, ptime)\n",
    "        good_exp = np.mod(tk,2)==1\n",
    "        pdfg = pdf[good_exp].copy()\n",
    "        if len(pdfg)==0:\n",
    "            return None\n",
    "        pdfg.drop(columns=['trun'], inplace=True)\n",
    "        # time edges-- same for each band\n",
    "        #xp = np.append(self.stime[0::2],self.stime[-1]) \n",
    "        \n",
    "        return pdfg\n",
    "    \n",
    "    def hist_spacecraft(self):\n",
    "        self.sc_df.hist('livetime cos_theta exp'.split(), bins=100, layout=(1,3), figsize=(12,3));\n",
    "        \n",
    "    def hist_photons(self):\n",
    "        self.photons.hist('band time'.split(), bins=100, log=True, figsize=(12,3), layout=(1,3));\n",
    "        \n",
    "       \n",
    "    def __call__(self):\n",
    "        return dict(\n",
    "            start= self.start,\n",
    "            photons=self.photons, \n",
    "            exposure=self.sc_df,\n",
    "\n",
    "        )"
   ]
  },
  {
   "cell_type": "code",
   "execution_count": null,
   "id": "190dd838-2f14-41ba-9d5e-53e42f24a300",
   "metadata": {},
   "outputs": [],
   "source": [
    "#export\n",
    "def get_week_files(config, week_range=None):\n",
    "    \"\"\"\n",
    "    \"\"\"\n",
    "    data_folder = config.wtlike_data/'data_files'\n",
    "    data_files = sorted(list(data_folder.glob('*.pkl')))\n",
    "    weeks = week_range or  config.week_range\n",
    "    if week_range is not None:\n",
    "\n",
    "        slc = slice(*week_range) if type(week_range)==tuple else slice(week_range,week_range)\n",
    "        wk_table = pd.Series(data=[df for df in data_files],\n",
    "                     index= [ int(df.name[-7:-4]) for df in  data_files],\n",
    "                    )\n",
    "        data_files = wk_table.loc[slc].values\n",
    "\n",
    "        if config.verbose>0:\n",
    "            q = lambda x: x if x is not None else \"\"\n",
    "            print(f'LoadData: Loading weeks[{q(slc.start)}:{q(slc.stop)}:{q(slc.step)}]', end='' if config.verbose<2 else '\\n')\n",
    "    else:\n",
    "        if config.verbose>0: print(f'LoadData: loading all {len(data_files)} weekly files')\n",
    "    assert len(data_files)>0, f'Specified week_range {week_range} produced no output.'\n",
    "\n",
    "    return data_files"
   ]
  },
  {
   "cell_type": "code",
   "execution_count": null,
   "id": "1095aff0-aad7-4da7-a175-6542ef80860d",
   "metadata": {},
   "outputs": [],
   "source": [
    "#export\n",
    "def load_source_data(config, source, week_range=None, key='', clear=False):\n",
    "    \"\"\"\n",
    "    THis is a client of SourceData.\n",
    "    \n",
    "    Returns a tuple of\n",
    "    - photons\n",
    "    - exposure\n",
    "\n",
    "    \"\"\"\n",
    "\n",
    "    if config.wtlike_data/'data_files' is None and key not in config.cache:\n",
    "        raise Exception(f'Data for {source.name} is not cached, and config.wtlike_data/\"data_files\" is not set')\n",
    "\n",
    "\n",
    "    def load_from_weekly_data(config, source, week_range=None):\n",
    "\n",
    "        week_files = get_week_files(config, week_range) \n",
    "        pp = []\n",
    "        ee = []\n",
    "\n",
    "        for week_file in week_files:\n",
    "            if config.verbose<2: print('.', end='')\n",
    "            elif config.verbose>=2:\n",
    "                print(f'Loading file {week_file}-----')\n",
    "\n",
    "            wk = ExposureMan(config, source, week_file)#, carry_in=carry_in)\n",
    "\n",
    "            # append week data to photons, weighted exposure, band exposure\n",
    "            pdf = wk.photons\n",
    "            edf = wk.sc_df\n",
    "            if pdf is not None and len(pdf)>2:\n",
    "                pp.append(pdf)\n",
    "            if len(edf)>0:\n",
    "                ee.append(edf)\n",
    "\n",
    "        print('');\n",
    "\n",
    "        # concatenate the two lists of DataFrames\n",
    "        p_df = pd.concat(pp, ignore_index=True)\n",
    "        p_df.loc[:,'run_id'] = pd.Categorical(p_df.run_id)\n",
    "        e_df = pd.concat(ee, ignore_index=True)\n",
    "\n",
    "        return p_df, e_df\n",
    "    \n",
    "    key = f'{source.filename}_data' if key=='' else key\n",
    "    \n",
    "    if week_range is not None:\n",
    "        # always load directly if weeks specified\n",
    "        r = load_from_weekly_data(config, source, week_range=week_range)\n",
    "    else:\n",
    "        r = config.cache(key,\n",
    "                    load_from_weekly_data, config, source, week_range=None,\n",
    "                    overwrite=clear,\n",
    "                    description=f'SourceData: photons and exposure for {source.name}')\n",
    "    return r"
   ]
  },
  {
   "cell_type": "code",
   "execution_count": null,
   "id": "e4745312-54d9-4e8d-853b-9cfcba4ad89c",
   "metadata": {},
   "outputs": [
    {
     "name": "stdout",
     "output_type": "stream",
     "text": [
      "SourceData: photons and exposure for Geminga: Restoring from cache with key \"Geminga_test\"\n"
     ]
    }
   ],
   "source": [
    "config=Config(); config.verbose=1\n",
    "source =PointSource('Geminga', config=config) \n",
    "t = load_source_data(config, source, week_range=None, key='Geminga_test', clear=False )"
   ]
  },
  {
   "cell_type": "markdown",
   "id": "4c98f507-7000-42f9-bc87-cfa43b541bd4",
   "metadata": {},
   "source": [
    "### Test with a Geminga week"
   ]
  },
  {
   "cell_type": "code",
   "execution_count": null,
   "id": "e5d5bc1b-e88c-4a24-89ce-0199ce1d9f1f",
   "metadata": {},
   "outputs": [
    {
     "name": "stdout",
     "output_type": "stream",
     "text": [
      "WeightMan: file from source \"Geminga\"_weights.pkl : 16 bamds with nsides 64 to 512\n",
      "LoadData: Loading weeks[665:665:]\n",
      "Opened week file \"week_665.pkl\" of 2021-02-25 01:07\n",
      "\tFound 390,687 photons, 17,026 SC entries)\n",
      "\tFound 17,026 S/C entries:  4,215 remain after zenith and theta cuts\n",
      "\tFound 17,026 S/C entries:  4,215 remain after zenith and theta cuts\n",
      "Set up flux-weigted exposure for Geminga\n",
      "\tFound 17,026 S/C entries:  4,215 remain after zenith and theta cuts\n",
      "WeightMan: processing 3,245 photons\n",
      "\tremove 1,343 events without weight\n"
     ]
    }
   ],
   "source": [
    "#hide\n",
    "config=Config(); config.verbose=2\n",
    "if config.valid:\n",
    "    source =PointSource('Geminga', config=config) \n",
    "    week_files = get_week_files(config, (665,665)); \n",
    "    week_file = week_files[0]\n",
    "\n",
    "\n",
    "    self = ExposureMan(config, source, week_file)\n"
   ]
  },
  {
   "cell_type": "code",
   "execution_count": null,
   "id": "fecd1239-7e86-41eb-a1a9-978df6e1d035",
   "metadata": {},
   "outputs": [
    {
     "data": {
      "image/png": "[encoded data removed]",
      "text/plain": [
       "<Figure size 864x216 with 3 Axes>"
      ]
     },
     "metadata": {
      "needs_background": "light"
     },
     "output_type": "display_data"
    },
    {
     "data": {
      "image/png": "[encoded data removed]",
      "text/plain": [
       "<Figure size 864x216 with 3 Axes>"
      ]
     },
     "metadata": {
      "needs_background": "light"
     },
     "output_type": "display_data"
    }
   ],
   "source": [
    "self.hist_photons()\n",
    "self.hist_spacecraft()"
   ]
  },
  {
   "cell_type": "code",
   "execution_count": null,
   "id": "25065484-8067-4598-b9fc-be8025c310b7",
   "metadata": {},
   "outputs": [
    {
     "name": "stdout",
     "output_type": "stream",
     "text": [
      "Converted 00_config.ipynb.\n",
      "Converted 01_data_man.ipynb.\n",
      "Converted 02_effective_area.ipynb.\n",
      "Converted 03_exposure.ipynb.\n",
      "Converted 03_sources.ipynb.\n",
      "Converted 04_load_data.ipynb.\n",
      "Converted 04_simulation.ipynb.\n",
      "Converted 05_source_data.ipynb.\n",
      "Converted 06_poisson.ipynb.\n",
      "Converted 07_loglike.ipynb.\n",
      "Converted 08_cell_data.ipynb.\n",
      "Converted 09_lightcurve.ipynb.\n",
      "Converted 14_bayesian.ipynb.\n",
      "Converted 90_main.ipynb.\n",
      "Converted 99_tutorial.ipynb.\n",
      "Converted index.ipynb.\n",
      "Wed Jul 28 11:54:33 PDT 2021\n"
     ]
    }
   ],
   "source": [
    "#hide\n",
    "from nbdev.export import notebook2script\n",
    "notebook2script()\n",
    "!date"
   ]
  }
 ],
 "metadata": {
  "kernelspec": {
   "display_name": "Python 3",
   "language": "python",
   "name": "python3"
  }
 },
 "nbformat": 4,
 "nbformat_minor": 5
}
