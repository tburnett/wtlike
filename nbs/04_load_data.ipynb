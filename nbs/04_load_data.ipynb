{
 "cells": [
  {
   "cell_type": "code",
   "execution_count": null,
   "id": "6fc39fe8-a0ae-4dfb-9be6-7dc13bb74e24",
   "metadata": {},
   "outputs": [
    {
     "name": "stdout",
     "output_type": "stream",
     "text": [
      "Tue Mar 15 15:11:13 PDT 2022\n"
     ]
    }
   ],
   "source": [
    "# default_exp load_data\n",
    "# %reload_ext autoreload\n",
    "# %autoreload 2\n",
    "from nbdev.showdoc import show_doc\n",
    "!date"
   ]
  },
  {
   "cell_type": "markdown",
   "id": "dd45f94e-3c5e-445e-8a5c-ead33b19baec",
   "metadata": {},
   "source": [
    "# Load data\n",
    "> Prepare photons and exposure, given a source "
   ]
  },
  {
   "cell_type": "markdown",
   "id": "a2b20c9f-4a07-44cc-a52d-651a287e73e1",
   "metadata": {},
   "source": [
    "This module defines the function `load_source_data`.\n",
    "\n",
    "Depends on module Exposure for SC data "
   ]
  },
  {
   "cell_type": "code",
   "execution_count": null,
   "id": "89e6128e-1002-4981-8cb2-402843cf88fb",
   "metadata": {},
   "outputs": [],
   "source": [
    "#export\n",
    "import pickle, healpy\n",
    "import pandas as pd\n",
    "import numpy as np\n",
    "import matplotlib.pyplot as plt\n",
    "\n",
    "from wtlike.config import (Config, UTC, MJD)\n",
    "from wtlike.exposure import  binned_exposure, sc_data_selection, sc_process, weighted_aeff #KerrAeff, SourceAeff\n",
    "from wtlike.data_man import get_week_files\n"
   ]
  },
  {
   "cell_type": "code",
   "execution_count": null,
   "id": "140d1114-9f1d-4e34-ba77-6b9ff0eff95b",
   "metadata": {},
   "outputs": [],
   "source": [
    "# export\n",
    "def _get_photons_near_source(config, source, week): #tzero, photon_df):\n",
    "    \"\"\"\n",
    "    Select the photons near a source\n",
    "\n",
    "    - source : a PointSource object\n",
    "    - week : dict with\n",
    "        - tzero : start time for the photon\n",
    "        - photon_df : DataFrame with photon data\n",
    "\n",
    "    Returns a DF with\n",
    "    - `band` index,\n",
    "    - `time` in MJD (added tstart and converted from MET)\n",
    "    - `pixel` index, nest indexing\n",
    "    - `radius` distance in deg from source direction\n",
    "    \"\"\"\n",
    "\n",
    "    def _cone(config, source, nest=True):\n",
    "        # cone geometry stuff: get corresponding pixels and center vector\n",
    "        l,b,radius = source.l, source.b, config.radius\n",
    "        cart = lambda l,b: healpy.dir2vec(l,b, lonlat=True)\n",
    "        conepix = healpy.query_disc(config.nside, cart(l,b), np.radians(radius), nest=nest)\n",
    "        center = healpy.dir2vec(l,b, lonlat=True)\n",
    "        return center, conepix\n",
    "\n",
    "    center, conepix = _cone(config,source)\n",
    "\n",
    "    df = week['photons']\n",
    "    tstart = week['tstart']\n",
    "    allpix = df.nest_index.values\n",
    "\n",
    "    # select by comparing high-order pixels (faster)\n",
    "    shift=11\n",
    "    a = np.right_shift(allpix, shift)\n",
    "    c = np.unique(np.right_shift(conepix, shift))\n",
    "    incone = np.isin(a,c)\n",
    "\n",
    "    if sum(incone)<2:\n",
    "        if config.verbose>1:\n",
    "            print(f'\\nWeek starting {UTC(MJD(tstart))} has 0 or 1 photons')\n",
    "        return\n",
    "\n",
    "    if config.verbose>2:\n",
    "        a, b = sum(incone), len(allpix)\n",
    "        print(f'Select photons for source {source.name}:\\n\\tPixel cone cut: select {a} from {b} ({100*a/b:.1f}%)')\n",
    "\n",
    "    # cut df to entries in the cone\n",
    "    dfc = df[incone].copy()\n",
    "\n",
    "    if 'trun' in dfc:\n",
    "        time = dfc.run_id.astype(float) + dfc.trun * config.offset_size\n",
    "    else:\n",
    "        # old: convert  to float, add tstart, convert to MJD\n",
    "        time = np.array(dfc.time, float)+tstart\n",
    "    dfc.loc[:,'time'] = MJD(time)\n",
    "\n",
    "    # assemble the DataFrame, remove those outside the radius\n",
    "    out_df = dfc\n",
    "\n",
    "    # make sure times are monotonic by sorting (needed since runs not in order in most\n",
    "    #  week-files after March 2018)\n",
    "    out_df = dfc.sort_values(by='time')\n",
    "\n",
    "    if config.verbose>2:\n",
    "        print(f'selected photons:\\n{out_df.head()}')\n",
    "\n",
    "    return out_df"
   ]
  },
  {
   "cell_type": "code",
   "execution_count": null,
   "id": "a1a8b41a-36fb-47e2-ab34-1837de531efe",
   "metadata": {},
   "outputs": [],
   "source": [
    "# export\n",
    "def sc_data_selection(config, source, sc_data):\n",
    "\n",
    "    \"\"\"\n",
    "    Return a DataFrame with the S/C data for the source direction, wtih cos theta and zenith cuts\n",
    "\n",
    "    columns:\n",
    "    - start, stop, livetime -- from the FT2 info\n",
    "    - cos_theta -- angle between bore and direction\n",
    "    - exp -- the exposure: effective area at angle weighted by a default spectral function, times livetime\n",
    "\n",
    "    \"\"\"\n",
    "\n",
    "    sc_df = sc_process(config, source, sc_data)\n",
    "    if len(sc_df)==0:\n",
    "        return sc_df\n",
    "    cos_theta = sc_df.cos_theta.values\n",
    "    livetime = sc_df.livetime.values\n",
    "    func = weighted_aeff(config, source) \n",
    "    \n",
    "    sc_df.loc[:,'exp'] = exp = (func(cos_theta) * livetime).astype(np.float32)\n",
    "    \n",
    "    # add detailed exposure info, the fraction of the total in each band\n",
    "    if config.get('full_exp', False):\n",
    "        A,L = func.binned(cos_theta), livetime\n",
    "        fract = ((A.T * L/exp).T ).astype(np.float16)\n",
    "        sc_df.loc[:,'exp_fract' ] = [list(x) for x in fract]\n",
    "    \n",
    "    return sc_df"
   ]
  },
  {
   "cell_type": "code",
   "execution_count": null,
   "id": "8f2d41f0-d8bf-4f0b-8602-76e49f5f4143",
   "metadata": {},
   "outputs": [
    {
     "data": {
      "text/markdown": [
       "<h4 id=\"sc_data_selection\" class=\"doc_header\"><code>sc_data_selection</code><a href=\"__main__.py#L2\" class=\"source_link\" style=\"float:right\">[source]</a></h4>\n",
       "\n",
       "> <code>sc_data_selection</code>(**`config`**, **`source`**, **`sc_data`**)\n",
       "\n",
       "Return a DataFrame with the S/C data for the source direction, wtih cos theta and zenith cuts\n",
       "\n",
       "columns:\n",
       "- start, stop, livetime -- from the FT2 info\n",
       "- cos_theta -- angle between bore and direction\n",
       "- exp -- the exposure: effective area at angle weighted by a default spectral function, times livetime"
      ],
      "text/plain": [
       "<IPython.core.display.Markdown object>"
      ]
     },
     "metadata": {},
     "output_type": "display_data"
    }
   ],
   "source": [
    "show_doc(sc_data_selection)"
   ]
  },
  {
   "cell_type": "markdown",
   "id": "fa742dcc-3486-418a-9bbb-b7ddb535fc6d",
   "metadata": {},
   "source": [
    "## SC data expansion\n",
    "\n",
    "Add exposure information"
   ]
  },
  {
   "cell_type": "code",
   "execution_count": null,
   "id": "8914a054-44dd-4b22-90d2-93398078e801",
   "metadata": {},
   "outputs": [],
   "source": [
    "# # hide\n",
    "# def cumsimpson(u, dx):\n",
    "#     \"\"\"Return the cumulative Simpson integral for an odd number>4 of equally-spaced evaluations\n",
    "#      * u -- array of integrad values, 2n+1 values for 2n intervals\n",
    "#      * dx -- interval size\n",
    "     \n",
    "#      Returns array of size n, the cumulative integral estimate for pairs of intervals\n",
    "     \n",
    "#      >> x = np.linspace(0,1, 5)\n",
    "#      >> print(cumsimpson(x, 1/4)) \n",
    "#      >> [0.125 0.5  ]\n",
    "#     \"\"\"\n",
    "#     v = np.empty((3*(len(u)-1)//2))\n",
    "#     v[0::3] = u[0:-1:2]\n",
    "#     v[1::3] = 4*u[1::2]\n",
    "#     v[2::3] = u[2::2]\n",
    "#     return (np.cumsum(v)*dx/3)[2::3]\n"
   ]
  },
  {
   "cell_type": "code",
   "execution_count": null,
   "id": "ad70f37d-639e-497c-9524-a2ca639b5e15",
   "metadata": {},
   "outputs": [],
   "source": [
    "# exporti\n",
    "class ProcessWeek(object):\n",
    "    \"\"\"\n",
    "    Process a week's photon and livetime info into the source-related photon and exposure tables.   \n",
    "    \"\"\"\n",
    "  \n",
    "    def __init__(self, config, source, week_file): \n",
    "        \"\"\"\n",
    "        \n",
    "        \"\"\"\n",
    "        with open(week_file, 'rb') as inp:\n",
    "            week = pickle.load(inp)\n",
    "        pdf = week['photons']\n",
    "        sc_data = edf = week['sc_data']\n",
    "        self.start = MJD(week['tstart'])\n",
    "        self.config = config\n",
    "\n",
    "        if config.verbose>1:\n",
    "            print(f'Opened week file \"{week_file.name}\" of {UTC(self.start)}')\n",
    "            print(f'\\tFound {len(pdf):,} photons, {len(edf):,} SC entries)')\n",
    "        \n",
    "        self.sc_df = sc_df = sc_data_selection(config, source, sc_data)\n",
    "        \n",
    "        # interleaved start/stop \n",
    "        self.stime = np.empty(2*len(sc_df.start))\n",
    "        self.stime[0::2]=sc_df.start.values\n",
    "        self.stime[1::2]=sc_df.stop.values\n",
    "        assert np.all(np.diff(self.stime)>=0), 'Time-ordering failure'\n",
    "\n",
    "        self.lt = sc_df.livetime.values\n",
    "        self.ct = sc_df.cos_theta.values\n",
    "        \n",
    "\n",
    "        pdf = _get_photons_near_source(config,source, week)\n",
    "        if pdf is None or len(pdf)<3 :\n",
    "            self.photons = None\n",
    "        else:\n",
    "            assert pdf is not None and len(pdf)>0\n",
    "            \n",
    "            # set weights from the weight table, removing those with no weight            \n",
    "            pdf = source.wtman.add_weights(pdf)\n",
    "            \n",
    "            # finally set the time and the exposure per remaining photons\n",
    "            self.photons = self.photon_times( pdf )\n",
    "            \n",
    "    def __str__(self):\n",
    "        return f'Data for week of {UTC(self.start)}: {len(self.photons):,} photons'\n",
    "    \n",
    "    def __repr__(self): return self.__str__()\n",
    "        \n",
    "    def photon_times(self, pdf):\n",
    "        \n",
    "        # construct the time from the run number and offset\n",
    "        ptime = MJD(pdf.run_id.astype(float) + pdf.trun * self.config.offset_size)\n",
    "        pdf.loc[:,'time'] = ptime\n",
    "\n",
    "        # select the subset with exposure info\n",
    "        tk = np.searchsorted(self.stime, ptime)\n",
    "        good_exp = np.mod(tk,2)==1\n",
    "        pdfg = pdf[good_exp].copy()\n",
    "        if len(pdfg)==0:\n",
    "            return None\n",
    "        pdfg.drop(columns=['trun'], inplace=True)\n",
    "        # time edges-- same for each band\n",
    "        #xp = np.append(self.stime[0::2],self.stime[-1]) \n",
    "        \n",
    "        return pdfg\n",
    "    \n",
    "    def hist_spacecraft(self):\n",
    "        self.sc_df.hist('livetime cos_theta exp'.split(), bins=100, layout=(1,3), figsize=(12,3));\n",
    "        \n",
    "    def hist_photons(self):\n",
    "        self.photons.hist('band time'.split(), bins=100, log=True, figsize=(12,3), layout=(1,3));\n",
    "        \n",
    "       \n",
    "    def __call__(self):\n",
    "        return dict(\n",
    "            start= self.start,\n",
    "            photons=self.photons, \n",
    "            exposure=self.sc_df,\n",
    "\n",
    "        )"
   ]
  },
  {
   "cell_type": "code",
   "execution_count": null,
   "id": "f309746e-e8ed-4cda-b4d3-d0ad6156f51c",
   "metadata": {},
   "outputs": [],
   "source": [
    "#exporti\n",
    "class TWeek():\n",
    "    # This is a funtcor wrapping ProcessWeek needed to be global. \n",
    "    def __init__(self, config, source):\n",
    "        self.config=config\n",
    "        self.source=source\n",
    "        \n",
    "    def __call__(self, wkf):\n",
    "        print('.', end='')\n",
    "        eman = ProcessWeek( self.config, self.source, wkf)\n",
    "        return (eman.photons, eman.sc_df)\n",
    "    \n",
    "def multiprocess_week_data(config, source, week_range, processes=None):\n",
    "    \"\"\" Manage processing of set of week files with multiprocessing\n",
    "    \"\"\"\n",
    "    \n",
    "    from multiprocessing import Pool\n",
    "    \n",
    "    processes = processes or config.pool_size\n",
    "    week_files = get_week_files(config,  week_range) \n",
    "    txt = f', using {processes} processes ' if processes>1 else ''\n",
    "    \n",
    "    if config.verbose>0:\n",
    "        print(f'\\tProcessing {len(week_files)} week files{txt}', end='', flush=True)\n",
    "    \n",
    "    process_week = TWeek(config, source)\n",
    "    \n",
    "    if processes>1:\n",
    "        with Pool(processes=processes) as pool:\n",
    "            week_data = pool.map(process_week, week_files)\n",
    "    else:\n",
    "        week_data = map(process_week,  week_files)\n",
    "    print('\\n')\n",
    "    \n",
    "    pp = []\n",
    "    ee = []\n",
    "\n",
    "    for wk in week_data:\n",
    "        # append week data to photons, weighted exposure, band exposure\n",
    "        pdf,edf = wk\n",
    "        if pdf is not None and len(pdf)>2:\n",
    "            pp.append(pdf)\n",
    "        if len(edf)>0:\n",
    "            ee.append(edf)\n",
    "\n",
    "    return pp,ee"
   ]
  },
  {
   "cell_type": "code",
   "execution_count": null,
   "id": "c02e2069-3273-4736-8bf6-59e61f45829b",
   "metadata": {},
   "outputs": [],
   "source": [
    "#export\n",
    "def load_source_data(config, source, week_range=None, key='', clear=False):\n",
    "    \"\"\"\n",
    "    This is a client of SourceData. \n",
    "    \n",
    "    - week_range [None] -- if None, select all weeks\n",
    "    - key ['']   -- key to use for cache, construct from name if not set      \n",
    "    - clear [False]\n",
    "    \n",
    "    Returns a tuple of\n",
    "    - photons\n",
    "    - exposure\n",
    "    - the key \n",
    "\n",
    "    \"\"\"\n",
    "\n",
    "    if config.datapath/'data_files' is None and key not in config.cache:\n",
    "        raise Exception(f'Data for {source.name} is not cached, and config.datapath/\"data_files\" is not set')\n",
    "\n",
    "    def load_from_weekly_data(config, source, week_range=None):\n",
    "        \n",
    "        pp, ee =  multiprocess_week_data(config, source, week_range)\n",
    "        \n",
    "        # concatenate the two lists of DataFrames\n",
    "        p_df = pd.concat(pp, ignore_index=True)\n",
    "        p_df.loc[:,'run_id'] = pd.Categorical(p_df.run_id)\n",
    "        e_df = pd.concat(ee, ignore_index=True)\n",
    "\n",
    "        return p_df, e_df\n",
    "    \n",
    "    description=f'SourceData:  {source.name}'\n",
    "    \n",
    "    used_key = None # change if used cache\n",
    "    if week_range is not None or key is None:\n",
    "        # always load directly if weeks specified or key set to None\n",
    "        print(description)\n",
    "        r = load_from_weekly_data(config, source, week_range=week_range)\n",
    "    else:\n",
    "        # use the cache\n",
    "        used_key = f'{source.filename}_data' if key=='' else key\n",
    "        r = config.cache(used_key,\n",
    "                    load_from_weekly_data, config, source, week_range=None,\n",
    "                    overwrite=clear,\n",
    "                    description=description)\n",
    "    # append key used for retrieval\n",
    "    return list(r) + [used_key]"
   ]
  },
  {
   "cell_type": "markdown",
   "id": "e6253688-030c-4805-a837-a52724871286",
   "metadata": {},
   "source": [
    "### Cache check\n",
    "If the most recent week has been changed, load it and replace only the most recent part in the cache.\n",
    "\n",
    "Test with Geminga"
   ]
  },
  {
   "cell_type": "code",
   "execution_count": null,
   "id": "e1c34000-5998-4a66-b4e5-1020a21ddb9b",
   "metadata": {},
   "outputs": [],
   "source": [
    "# from wtlike.sources import PointSource\n",
    "# from wtlike.data_man import FermiData\n",
    "# source = PointSource('Geminga')\n",
    "# config = Config()\n",
    "# ret = load_source_data(config, source)\n",
    "# stop = ret[1].iloc[-1].stop\n",
    "# print(f'Cache ends  at {stop:.1f} [UTC {UTC(stop)}] , in week {FermiData().find_week(stop)}')"
   ]
  },
  {
   "cell_type": "code",
   "execution_count": null,
   "id": "3bef1f1c-61ac-4bda-951a-d585e6c4bba4",
   "metadata": {},
   "outputs": [],
   "source": [
    "# from wtlike.data_man import check_data\n",
    "# ff, ww, days = check_data()\n",
    "# eman = ProcessWeek( config, source, ff[-1])\n",
    "# eman.photons.head()\n",
    "\n",
    "# x = ret[0].run_id.dtype\n",
    "# A = set(x.categories); len(A)\n",
    "\n",
    "# rr = eman.photons.run_id\n",
    "# B = set(rr.dtype.categories); len(B)\n",
    "\n",
    "# A & B"
   ]
  },
  {
   "cell_type": "markdown",
   "id": "0a4ed938-7cd3-4916-ba28-09e2f20c3f60",
   "metadata": {},
   "source": [
    "#### Test multiprocessing"
   ]
  },
  {
   "cell_type": "code",
   "execution_count": null,
   "id": "dd8c4898-29c3-4cb6-b7d7-b7ac1bd1fb76",
   "metadata": {},
   "outputs": [],
   "source": [
    "# #hide\n",
    "# from wtlike.sources import PointSource\n",
    "# from wtlike.config import Timer\n",
    "# config=Config(); \n",
    "# if config.valid:\n",
    "#     test_weeks = (9,108)\n",
    "#     source =PointSource('Geminga', config=config) \n",
    "#     with Timer() as t1:\n",
    "#         config.pool_size=processes=4\n",
    "#         sd1 = load_source_data(config, source, week_range=test_weeks, key=None )\n",
    "#     print(t1)\n",
    "#     with Timer() as t2:\n",
    "#         config.pool_size=1\n",
    "#         sd2 = load_source_data(config, source, week_range=test_weeks, key=None )\n",
    "#     print(t2)\n",
    "#     print(f'Timing ratio using {processes} proceses: {t2.elapsed/t1.elapsed:.2f}')\n",
    "#     assert( len(sd1[0])==len(sd2[0]) ), 'Fail multiprocessing test'"
   ]
  },
  {
   "cell_type": "markdown",
   "id": "4c98f507-7000-42f9-bc87-cfa43b541bd4",
   "metadata": {},
   "source": [
    "#### Test with a Geminga week"
   ]
  },
  {
   "cell_type": "code",
   "execution_count": null,
   "id": "e3fc93a1-2f37-42f9-9009-05ac5937030d",
   "metadata": {},
   "outputs": [
    {
     "name": "stdout",
     "output_type": "stream",
     "text": [
      "WeightMan: file from source \"Geminga\"_weights.pkl : 16 bamds with nsides 64 to 512\n",
      "LoadData: Loading weeks[665:665:]\n",
      "Opened week file \"week_665.pkl\" of 2021-02-25 01:07\n",
      "\tFound 390,687 photons, 17,026 SC entries)\n",
      "\tFound 17,026 S/C entries:  4,213 remain after zenith and theta cuts\n",
      "WeightMan: processing 3,245 photons\n",
      "\tremove 1,343 events without weight\n"
     ]
    },
    {
     "data": {
      "image/png": "[encoded data removed]",
      "text/plain": [
       "<Figure size 864x216 with 3 Axes>"
      ]
     },
     "metadata": {},
     "output_type": "display_data"
    },
    {
     "data": {
      "image/png": "[encoded data removed]",
      "text/plain": [
       "<Figure size 864x216 with 3 Axes>"
      ]
     },
     "metadata": {},
     "output_type": "display_data"
    }
   ],
   "source": [
    "#hide\n",
    "config=Config(full_exp=True,verbose=2)\n",
    "name=\"Geminga\"\n",
    "# name='PSR B1259-63'\n",
    "if config.valid:\n",
    "    # testing\n",
    "    from wtlike.sources import PointSource\n",
    "    source =PointSource(name, config=config) \n",
    "    week_files = get_week_files(config, (665,665)); \n",
    "    week_file = week_files[0]\n",
    "    self = ProcessWeek(config, source, week_file)\n",
    "\n",
    "    self.hist_photons()\n",
    "    self.hist_spacecraft()"
   ]
  },
  {
   "cell_type": "code",
   "execution_count": null,
   "id": "a99c2a7c-4c90-4581-b507-475244183dd7",
   "metadata": {},
   "outputs": [
    {
     "name": "stdout",
     "output_type": "stream",
     "text": [
      "Opened week file \"week_665.pkl\" of 2021-02-25 01:07\n",
      "\tFound 390,687 photons, 17,026 SC entries)\n",
      "\tFound 17,026 S/C entries:  4,213 remain after zenith and theta cuts\n",
      "WeightMan: processing 3,245 photons\n",
      "\tremove 1,343 events without weight\n"
     ]
    },
    {
     "data": {
      "image/png": "[encoded data removed]",
      "text/plain": [
       "<Figure size 864x216 with 3 Axes>"
      ]
     },
     "metadata": {},
     "output_type": "display_data"
    }
   ],
   "source": [
    "config.use_kerr=False\n",
    "nk = ProcessWeek(config, source, week_file)\n",
    "nk.hist_spacecraft()"
   ]
  },
  {
   "cell_type": "markdown",
   "id": "ea4df17c-2b41-4474-8e5f-b1caae74729c",
   "metadata": {},
   "source": [
    "### Look at the ratio of Geminga exposures vs. $\\cos\\theta$."
   ]
  },
  {
   "cell_type": "code",
   "execution_count": null,
   "id": "014866b6-a16d-46fd-b6cc-91f878b21221",
   "metadata": {},
   "outputs": [
    {
     "data": {
      "image/png": "[encoded data removed]",
      "text/plain": [
       "<Figure size 432x288 with 1 Axes>"
      ]
     },
     "metadata": {},
     "output_type": "display_data"
    }
   ],
   "source": [
    "expratio = nk.sc_df.exp/self.sc_df.exp\n",
    "ax = plt.gca()\n",
    "ax.plot(self.sc_df.cos_theta, expratio, '.');\n",
    "ax.grid(alpha=0.5); ax.set(xlabel='cos theta', ylabel='power law / source spectrum',\n",
    "                           xlim=(0.4,1), ylim=(1.0, 1.6) );\n",
    "ax.axhline(1,color='grey');"
   ]
  },
  {
   "cell_type": "code",
   "execution_count": null,
   "id": "f3e78d33-6a81-4559-9ab2-522bf21250fe",
   "metadata": {},
   "outputs": [
    {
     "name": "stdout",
     "output_type": "stream",
     "text": [
      "<class 'pandas.core.frame.DataFrame'>\n",
      "Int64Index: 4213 entries, 138 to 17025\n",
      "Data columns (total 6 columns):\n",
      " #   Column     Non-Null Count  Dtype  \n",
      "---  ------     --------------  -----  \n",
      " 0   start      4213 non-null   float64\n",
      " 1   stop       4213 non-null   float64\n",
      " 2   livetime   4213 non-null   float32\n",
      " 3   cos_theta  4213 non-null   float32\n",
      " 4   exp        4213 non-null   float32\n",
      " 5   exp_fract  4213 non-null   object \n",
      "dtypes: float32(3), float64(2), object(1)\n",
      "memory usage: 181.0+ KB\n"
     ]
    }
   ],
   "source": [
    "df = nk.sc_df; df.info()"
   ]
  },
  {
   "cell_type": "code",
   "execution_count": null,
   "id": "f10a2733-b6e8-476f-8aca-de7c5bc3d89b",
   "metadata": {},
   "outputs": [
    {
     "data": {
      "text/plain": [
       "start                                             59270.094523\n",
       "stop                                               59270.09487\n",
       "livetime                                              27.62591\n",
       "cos_theta                                              0.40039\n",
       "exp                                               34756.101562\n",
       "exp_fract    [0.0485, 0.0886, 0.2607, 0.246, 0.1935, 0.1105...\n",
       "Name: 138, dtype: object"
      ]
     },
     "execution_count": null,
     "metadata": {},
     "output_type": "execute_result"
    }
   ],
   "source": [
    "df.iloc[0]"
   ]
  },
  {
   "cell_type": "code",
   "execution_count": null,
   "id": "f741e651-6e63-4155-8830-d91fe399be25",
   "metadata": {},
   "outputs": [
    {
     "data": {
      "text/plain": [
       "9.999465942382812e-01"
      ]
     },
     "execution_count": null,
     "metadata": {},
     "output_type": "execute_result"
    }
   ],
   "source": [
    "sum(df.iloc[0]['exp_fract'])"
   ]
  },
  {
   "cell_type": "code",
   "execution_count": null,
   "id": "25065484-8067-4598-b9fc-be8025c310b7",
   "metadata": {},
   "outputs": [
    {
     "name": "stdout",
     "output_type": "stream",
     "text": [
      "Converted 00_config.ipynb.\n",
      "Converted 01_data_man.ipynb.\n",
      "Converted 02_effective_area.ipynb.\n",
      "Converted 03_exposure.ipynb.\n",
      "Converted 03_sources.ipynb.\n",
      "Converted 04_load_data.ipynb.\n",
      "Converted 04_simulation.ipynb.\n",
      "Converted 05_source_data.ipynb.\n",
      "Converted 06_poisson.ipynb.\n",
      "Converted 07_loglike.ipynb.\n",
      "Converted 08_cell_data.ipynb.\n",
      "Converted 09_lightcurve.ipynb.\n",
      "Converted 10-time_series.ipynb.\n",
      "Converted 14_bayesian.ipynb.\n",
      "Converted 90_main.ipynb.\n",
      "Converted 99_presentation.ipynb.\n",
      "Converted 99_tutorial.ipynb.\n",
      "Converted index.ipynb.\n",
      "Converted test.ipynb.\n",
      "Tue Mar 15 15:14:37 PDT 2022\n"
     ]
    }
   ],
   "source": [
    "#hide\n",
    "from nbdev.export import notebook2script\n",
    "notebook2script()\n",
    "!date"
   ]
  }
 ],
 "metadata": {
  "kernelspec": {
   "display_name": "Python 3 (ipykernel)",
   "language": "python",
   "name": "python3"
  }
 },
 "nbformat": 4,
 "nbformat_minor": 5
}
