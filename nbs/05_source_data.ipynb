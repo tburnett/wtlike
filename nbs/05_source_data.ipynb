{
 "cells": [
  {
   "cell_type": "code",
   "execution_count": null,
   "id": "complex-cinema",
   "metadata": {},
   "outputs": [],
   "source": [
    "from nbdev import *\n",
    "# default_exp source_data\n",
    "%reload_ext autoreload\n",
    "%autoreload 2"
   ]
  },
  {
   "cell_type": "markdown",
   "id": "small-negative",
   "metadata": {},
   "source": [
    "# Source Data analysis\n",
    "> Analyze the selected data"
   ]
  },
  {
   "cell_type": "markdown",
   "id": "cardiac-respondent",
   "metadata": {},
   "source": [
    "### Overview\n",
    "\n",
    "For a point source, and data selection, the class `SourceData` is the user interface to source-oriented data. It relies on the modules `select_data` for actual data, or `simulation` for simulated data. \n"
   ]
  },
  {
   "cell_type": "code",
   "execution_count": null,
   "id": "leading-march",
   "metadata": {},
   "outputs": [],
   "source": [
    "# export\n",
    "import os, sys\n",
    "import numpy as np\n",
    "import pandas as pd\n",
    "from wtlike.config import *\n",
    "from wtlike.select_data import *\n",
    "from wtlike.simulation import *"
   ]
  },
  {
   "cell_type": "code",
   "execution_count": null,
   "id": "necessary-bangkok",
   "metadata": {},
   "outputs": [],
   "source": [
    "# export\n",
    "\n",
    "\n",
    "class SourceData(object):\n",
    "    \"\"\" Load the photon data near the source and associated exposure.\n",
    "\n",
    "    Either from:\n",
    "      1. `config.wtlike_data/'data_files'`, the Path to folder with list of pickle files\n",
    "      2. the cache, with key `{source.name}_data`\n",
    "\n",
    "    * source : name, PointSource, or Simulation\n",
    "    * `config` : basic configuration\n",
    "    * `source` : PointSource object if specified\n",
    "    * `clear` : if set, overwrite the cached results\n",
    "\n",
    "    Calculate the values for\n",
    "\n",
    "    * S, B : sums of w and 1-w\n",
    "    * exptot : total associated exposure\n",
    "    \"\"\"\n",
    "\n",
    "    def __init__(self, source, config=None,  clear=False,\n",
    "                 week_range=None, key=''):\n",
    "        \"\"\"\n",
    "\n",
    "        \"\"\"\n",
    "\n",
    "        self.config = config if config else Config()\n",
    "        assert self.config.valid\n",
    "        self.verbose = self.config.verbose\n",
    "        self.simulated=False\n",
    "\n",
    "        ## source is either a name, a PointSource object, or a Simulation\n",
    "        if type(source)==str:\n",
    "\n",
    "            try:\n",
    "                self.source = PointSource(source)\n",
    "            except Exception as e:\n",
    "                print(f'{e}', file=sys.stderr)\n",
    "                raise\n",
    "\n",
    "            self.source_name = self.source.name\n",
    "\n",
    "        elif isinstance(source, PointSource):\n",
    "            self.source = source # do I need this?\n",
    "            self.source_name = source.name\n",
    "\n",
    "        elif isinstance(source, Simulation):\n",
    "            self.simulated=True\n",
    "            self.source=None\n",
    "            self.source_name = source.name\n",
    "            # can put this into cache\n",
    "            source.run()\n",
    "            self.photons = source.photons\n",
    "            self.exposure = source.exposure\n",
    "\n",
    "        if self.source is not None:\n",
    "            key = f'{self.source.filename}_data' if key=='' else key\n",
    "            self.source.data_key = key\n",
    "        else: # no cache for sim, yet\n",
    "            key=None\n",
    "\n",
    "\n",
    "        if not self.simulated:\n",
    "            # either load from data, or from a chache\n",
    "            if self.config.wtlike_data/'data_files' is None and key not in config.cache:\n",
    "                raise Exception(f'Data for {self.source_name} is not cached, and config.wtlike_data/\"data_files\" is not set')\n",
    "\n",
    "            if week_range is not None:\n",
    "                # always load directly if weeks specified\n",
    "                r = load_from_weekly_data(self.config, self.source, week_range=week_range)\n",
    "            else:\n",
    "                r = self.config.cache(key,\n",
    "                            load_from_weekly_data, self.config, self.source, week_range=None,\n",
    "                            overwrite=clear,\n",
    "                            description=f'SourceData: photons and exposure for {self.source_name}')\n",
    "            photons, self.exposure = r[:2]\n",
    "            self.runs = r[2] if len(r)==3 else None\n",
    "            # get the photon data with good weights, not NaN (maybe remove small weigts, too)\n",
    "            good = np.logical_not(np.isnan(photons.weight))\n",
    "            self.photons = photons.loc[good]\n",
    "\n",
    "        else: #TODO\n",
    "            pass\n",
    "\n",
    "        # make range of MJD or days available\n",
    "        self.start = self.exposure.start[0]\n",
    "        self.stop =  self.exposure.stop.values[-1]\n",
    "        self.exptot = self.exposure.exp.sum()\n",
    "\n",
    "        # estimates for signal and background counts in total exposure\n",
    "        w = self.photons.weight\n",
    "        self.S = np.sum(w)\n",
    "        self.B = np.sum(1-w)\n",
    "\n",
    "        if self.verbose>0:\n",
    "            print(SourceData.__repr__(self))\n",
    "\n",
    "    def rates(self):\n",
    "        print(f'Average fluxes for {self.source_name}: signal {self.S/self.exptot:.2e}/s, background {self.B/self.exptot:.2e}/s')\n",
    "\n",
    "    def __repr__(self):\n",
    "        time = self.photons.time.values\n",
    "\n",
    "        exp = self.exposure\n",
    "        days  = np.sum(exp.stop-exp.start); secs = days*24*3600\n",
    "        exp_text = f' average flux {self.exptot/secs:.0f} cm^2 for {secs/1e6:.1f} Ms'\n",
    "\n",
    "        if not self.simulated:\n",
    "            photon_text = f'photons from {UTC(time[0])[:10]} to {UTC(time[-1])[:10]}'\n",
    "        else:\n",
    "            photon_text = f'simulated photons over {days:.1f} days.'\n",
    "\n",
    "        r = f'SourceData: Source {self.source_name} with:'\\\n",
    "            f'\\n\\t data:     {len(self.photons):9,} {photon_text}'\\\n",
    "            f'\\n\\t exposure: {len(self.exposure):9,} intervals, {exp_text}'\n",
    "\n",
    "        self.src_flux, self.bkg_flux = self.S/self.exptot,  self.B/self.exptot\n",
    "        r+= f'\\n\\t rates:  source {self.src_flux:.2e}/s, background {self.bkg_flux:.2e}/s,'\\\n",
    "            f' S/N ratio {self.src_flux/self.bkg_flux:.2e}'\n",
    "\n",
    "        return r\n",
    "\n",
    "    def binned_exposure(self, time_edges):\n",
    "        \"\"\"Bin the exposure\n",
    "\n",
    "        - time_bins: list of edges.\n",
    "        \"\"\"\n",
    "        return binned_exposure(self.config, self.exposure,  time_edges)\n",
    "\n",
    "    def binned_cos_theta(self, time_bins=None):\n",
    "        \"\"\" Calculate average cosine of angle with respect to bore axis, per time bin\n",
    "        \"\"\"\n",
    "        if time_bins is None:\n",
    "            time_bins = get_default_bins(self.config, self.exposure)\n",
    "        df = self.exposure.copy()\n",
    "        estop =df.stop.values\n",
    "        df.loc[:,'tbin'] =np.digitize(estop, time_bins)\n",
    "        ct = df.groupby('tbin').mean()['cos_theta']\n",
    "        return ct, time_bins\n",
    "\n",
    "    def weight_histogram(self, nbins=1000, key=''):\n",
    "        \"\"\" return a weight distribution\n",
    "        \"\"\"\n",
    "        def doit(nbins):\n",
    "            return np.histogram(self.p_df.weight.values, np.linspace(0,1,nbins+1))[0]\n",
    "\n",
    "        key = f'{self.source_name}_weight_hist' if key=='' else key\n",
    "        description = f'Weight histogram for {self.source_name}' if self.config.verbose>0 else ''\n",
    "        return self.config.cache(key, doit, nbins, description=description)\n",
    "\n",
    "    def plot_data(self):\n",
    "        import matplotlib.pyplot as plt\n",
    "        if self.simulated:\n",
    "            print(f'Simulated!')\n",
    "            fig, (ax1, ax4) = plt.subplots(1,2, figsize=(8,4))\n",
    "            ax1.hist(self.photons.time.values, 500, histtype='step');\n",
    "            ax1.set(xlabel='Time (MJD)')\n",
    "\n",
    "            ax4.hist(self.photons.weight, 100, histtype='step')\n",
    "            ax4.set(xlabel='weight');\n",
    "\n",
    "\n",
    "        else:\n",
    "            fig, (ax1,ax2, ax3,ax4) = plt.subplots(1,4, figsize=(15,4))\n",
    "            ax1.hist(self.photons.time.values, 100, histtype='step');\n",
    "            ax1.set(xlabel='Time (MJD)')\n",
    "            ax2.hist(self.photons.radius.values**2, 100, histtype='step', log=True);\n",
    "            ax2.set(xlabel='Radius**2 (deg**2)', ylim=(100, None));\n",
    "\n",
    "            ax3.hist(self.photons.band, 32, histtype='step', log=True);\n",
    "            ax3.set(xlabel='Band index')\n",
    "            ax4.hist(self.photons.weight, 100, histtype='step')\n",
    "            ax4.set(xlabel='weight');\n",
    "\n",
    "    def update_cache(self, **kwargs): #week_range=(-1,None), save=True):\n",
    "        return update_cache(self, **kwargs)"
   ]
  },
  {
   "cell_type": "code",
   "execution_count": null,
   "id": "breeding-frederick",
   "metadata": {},
   "outputs": [
    {
     "name": "stdout",
     "output_type": "stream",
     "text": [
      "SourceData: photons and exposure for PSR B1259-63: Restoring from cache with key \"PSR_B1259-63_data\"\n",
      "SourceData: Source PSR B1259-63 with:\n",
      "\t data:       881,233 photons from 2008-08-04 to 2021-06-04\n",
      "\t exposure: 3,368,542 intervals,  average flux 3478 cm^2 for 100.6 Ms\n",
      "\t rates:  source 8.18e-09/s, background 2.51e-06/s, S/N ratio 3.26e-03\n"
     ]
    }
   ],
   "source": [
    "#hide\n",
    "config=Config()\n",
    "config.verbose=1\n",
    "source = PointSource('PSR B1259-63') #'4FGL J1257.0-6339')\n",
    "sd = SourceData( source,config)\n",
    "\n",
    "# update_cache(sd,)"
   ]
  },
  {
   "cell_type": "code",
   "execution_count": null,
   "id": "hawaiian-speaker",
   "metadata": {},
   "outputs": [
    {
     "name": "stdout",
     "output_type": "stream",
     "text": [
      "generated 522 photons\n",
      "SourceData: Source test_sim with:\n",
      "\t data:           522 simulated photons over 1.0 days.\n",
      "\t exposure:       288 intervals,  average flux 3000 cm^2 for 0.1 Ms\n",
      "\t rates:  source 9.52e-07/s, background 1.06e-06/s, S/N ratio 8.97e-01\n"
     ]
    }
   ],
   "source": [
    "#hide\n",
    "sim = Simulation('test_sim', src_flux=1e-6, tstart=0, tstop=1, )\n",
    "simsd = SourceData(sim)"
   ]
  },
  {
   "cell_type": "code",
   "execution_count": null,
   "id": "assumed-generator",
   "metadata": {},
   "outputs": [],
   "source": [
    "#hide\n",
    "# config=Config(); config.verbose=2\n",
    "# source = PointSource('4FGL J1257.0-6339', nickname='J1257')\n",
    "# sd = SourceData(source, config=config, week_range=None, key=None)\n",
    "#sd = SourceData('Geminga');\n",
    "\n",
    "\n",
    "# b8 = sd.photons.query('band==12')\n",
    "# plt.semilogy(b8.radius, b8.weight, '.');"
   ]
  },
  {
   "cell_type": "code",
   "execution_count": null,
   "id": "personalized-platinum",
   "metadata": {},
   "outputs": [
    {
     "data": {
      "text/markdown": [
       "<h2 id=\"SourceData\" class=\"doc_header\"><code>class</code> <code>SourceData</code><a href=\"\" class=\"source_link\" style=\"float:right\">[source]</a></h2>\n",
       "\n",
       "> <code>SourceData</code>(**`source`**, **`config`**=*`None`*, **`clear`**=*`False`*, **`week_range`**=*`None`*, **`key`**=*`''`*)\n",
       "\n",
       "Load the photon data near the source and associated exposure. \n",
       "\n",
       "Either from:\n",
       "  1. `config.wtlike_data/'data_files'`, the Path to folder with list of pickle files\n",
       "  2. the cache, with key `{source.name}_data`\n",
       "\n",
       "* source : name, PointSource, or Simulation\n",
       "* [`config`](/wtlikeconfig) : basic configuration\n",
       "* `source` : PointSource object if specified\n",
       "* `clear` : if set, overwrite the cached results\n",
       "\n",
       "Calculate the values for\n",
       "\n",
       "* S, B : sums of w and 1-w\n",
       "* exptot : total associated exposure"
      ],
      "text/plain": [
       "<IPython.core.display.Markdown object>"
      ]
     },
     "metadata": {},
     "output_type": "display_data"
    },
    {
     "data": {
      "text/markdown": [
       "<h4 id=\"SourceData.binned_exposure\" class=\"doc_header\"><code>SourceData.binned_exposure</code><a href=\"__main__.py#L124\" class=\"source_link\" style=\"float:right\">[source]</a></h4>\n",
       "\n",
       "> <code>SourceData.binned_exposure</code>(**`time_edges`**)\n",
       "\n",
       "Bin the exposure\n",
       "\n",
       "- time_bins: list of edges.  "
      ],
      "text/plain": [
       "<IPython.core.display.Markdown object>"
      ]
     },
     "metadata": {},
     "output_type": "display_data"
    }
   ],
   "source": [
    "show_doc(SourceData)\n",
    "show_doc(SourceData.binned_exposure)"
   ]
  },
  {
   "cell_type": "code",
   "execution_count": null,
   "id": "republican-inspection",
   "metadata": {},
   "outputs": [
    {
     "name": "stdout",
     "output_type": "stream",
     "text": [
      "Converted 00_config.ipynb.\n",
      "Converted 01_data_man.ipynb.\n",
      "Converted 02_effective_area.ipynb.\n",
      "Converted 03_weights.ipynb.\n",
      "Converted 04_exposure.ipynb.\n",
      "Converted 04_select_data.ipynb.\n",
      "Converted 04_simulation.ipynb.\n",
      "Converted 05_source_data.ipynb.\n",
      "Converted 06_poisson.ipynb.\n",
      "Converted 07_loglike.ipynb.\n",
      "Converted 08_cell_data.ipynb.\n",
      "Converted 09_lightcurve.ipynb.\n",
      "Converted 14_bayesian.ipynb.\n",
      "Converted 90_main.ipynb.\n",
      "Converted 99_tutorial.ipynb.\n",
      "Converted index.ipynb.\n",
      "Sun Jun  6 05:05:39 PDT 2021\n"
     ]
    }
   ],
   "source": [
    "#hide\n",
    "from nbdev.export import notebook2script\n",
    "notebook2script()\n",
    "!date"
   ]
  },
  {
   "cell_type": "code",
   "execution_count": null,
   "id": "approved-treasure",
   "metadata": {},
   "outputs": [],
   "source": []
  }
 ],
 "metadata": {
  "kernelspec": {
   "display_name": "Python 3",
   "language": "python",
   "name": "python3"
  }
 },
 "nbformat": 4,
 "nbformat_minor": 5
}
