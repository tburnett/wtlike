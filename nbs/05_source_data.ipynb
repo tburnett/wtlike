{
 "cells": [
  {
   "cell_type": "code",
   "execution_count": null,
   "id": "complex-cinema",
   "metadata": {},
   "outputs": [],
   "source": [
    "# default_exp source_data\n",
    "from nbdev import *\n",
    "%reload_ext autoreload\n",
    "%autoreload 2\n",
    "from fastcore.test import *"
   ]
  },
  {
   "cell_type": "markdown",
   "id": "small-negative",
   "metadata": {},
   "source": [
    "# Source Data analysis\n",
    "> Load, for analysis, data associated with a source, or manage a simulation"
   ]
  },
  {
   "cell_type": "markdown",
   "id": "cardiac-respondent",
   "metadata": {},
   "source": [
    "### Overview\n",
    "\n",
    "For a point source, and data selection, the class `SourceData` is the user interface to source-oriented data. It relies on the modules `load_data` for actual data, or `simulation` for simulated data. \n"
   ]
  },
  {
   "cell_type": "code",
   "execution_count": null,
   "id": "leading-march",
   "metadata": {},
   "outputs": [],
   "source": [
    "# export\n",
    "import os, sys\n",
    "import numpy as np\n",
    "import pandas as pd\n",
    "from wtlike.config import *\n",
    "from wtlike.sources import PointSource\n",
    "from wtlike.load_data import load_source_data, binned_exposure\n",
    "from wtlike.simulation import *"
   ]
  },
  {
   "cell_type": "code",
   "execution_count": null,
   "id": "necessary-bangkok",
   "metadata": {},
   "outputs": [],
   "source": [
    "# export\n",
    "class SourceData(object):\n",
    "    \"\"\" Load the photon data near the source and the associated exposure.\n",
    "    --or--\n",
    "    Use a Simulation object to generate data\n",
    "\n",
    "    Either from:\n",
    "      1. `config.wtlike_data/'data_files'`, the Path to folder with list of pickle files\n",
    "      2. the cache, with key `{source.name}_data`\n",
    "\n",
    "    * source : name, PointSource, or Simulation\n",
    "    * `config` : basic configuration\n",
    "    * `source` : PointSource object if specified\n",
    "    * `clear` : if set, overwrite the cached results\n",
    "\n",
    "    Calculate the values for\n",
    "\n",
    "    * S, B : sums of w and 1-w\n",
    "    * exptot : total associated exposure\n",
    "    \"\"\"\n",
    "\n",
    "    def __init__(self, source, config=None,  clear=False,\n",
    "                 week_range=None, key=''):\n",
    "        \"\"\"\n",
    "\n",
    "        \"\"\"\n",
    "\n",
    "        self.config = config if config else Config()\n",
    "        self.verbose = self.config.verbose\n",
    "        self.simulated=False\n",
    "        self.used_key = None\n",
    "\n",
    "        ## source is either a name, a PointSource object, or a Simulation\n",
    "        if type(source)==str:\n",
    "\n",
    "            try:\n",
    "                self.source = PointSource(source, config=self.config)\n",
    "            except Exception as e:\n",
    "                print(f'{e}', file=sys.stderr)\n",
    "                raise\n",
    "            # if a string, use it as the name\n",
    "            self.source_name = source\n",
    "\n",
    "        elif isinstance(source, PointSource):\n",
    "            self.source = source # do I need this?\n",
    "            self.source_name = source.name\n",
    "\n",
    "        elif isinstance(source, Simulation):\n",
    "            self.simulated=True\n",
    "            self.source=None\n",
    "            self.source_name = source.name\n",
    "            # can put this into cache\n",
    "            source.run()\n",
    "            self.photons = source.photons\n",
    "            self.exposure = source.exposure\n",
    "\n",
    "        else: # assume really PointSource\n",
    "            self.source = source # do I need this?\n",
    "            self.source_name = source.name\n",
    "\n",
    "\n",
    "        if self.source is not None:\n",
    "            key = f'{self.source.filename}_data' if key=='' else key\n",
    "            self.source.data_key = key\n",
    "        else: # no cache for sim, yet\n",
    "            key=None\n",
    "\n",
    "\n",
    "        if not self.simulated:\n",
    "            # either load from data, or from a chache--also key used to retrieve data\n",
    "            ret =load_source_data( self.config, self.source, week_range, key, clear)\n",
    "            self.photons, self.exposure = ret[:2]\n",
    "            if len(ret)>2: self.used_key = ret[2]\n",
    "\n",
    "#             self.photons, self.exposure = \\\n",
    "#                 load_source_data( self.config, self.source, week_range, key, clear)\n",
    "\n",
    "        else: #TODO\n",
    "            pass\n",
    "\n",
    "        # make range of MJD or days available\n",
    "        self.start = self.exposure.start[0]\n",
    "        self.stop =  self.exposure.stop.values[-1]\n",
    "        self.exptot = self.exposure.exp.sum()\n",
    "\n",
    "        # estimates for signal and background counts in total exposure\n",
    "        w = self.photons.weight\n",
    "        self.S = np.sum(w)\n",
    "        self.B = np.sum(1-w)\n",
    "\n",
    "        if self.verbose>0:\n",
    "            print(SourceData.__repr__(self))\n",
    "\n",
    "    def rates(self):\n",
    "        print(f'Average fluxes for {self.source_name}: signal {self.S/self.exptot:.2e}/s, background {self.B/self.exptot:.2e}/s')\n",
    "\n",
    "    def __repr__(self):\n",
    "        time = self.photons.time.values\n",
    "\n",
    "        exp = self.exposure\n",
    "        days  = np.sum(exp.stop-exp.start); secs = days*24*3600\n",
    "        exp_text = f' average effective area {self.exptot/secs:.0f} cm^2 for {secs/1e6:.1f} Ms'\n",
    "\n",
    "        if not self.simulated:\n",
    "            photon_text = f'photons from {UTC(time[0])[:10]} to {UTC(time[-1])[:10]}'\n",
    "        else:\n",
    "            photon_text = f'simulated photons over {days:.1f} days.'\n",
    "\n",
    "        r = f'SourceData: Source {self.source_name} with:'\\\n",
    "            f'\\n\\t data:     {len(self.photons):9,} {photon_text}'\\\n",
    "            f'\\n\\t exposure: {len(self.exposure):9,} intervals, {exp_text}'\n",
    "\n",
    "        self.src_flux, self.bkg_flux = self.S/self.exptot,  self.B/self.exptot\n",
    "        r+= f'\\n\\t rates:  source {self.src_flux:.2e}/s, background {self.bkg_flux:.2e}/s,'\\\n",
    "            f' S/N ratio {self.src_flux/self.bkg_flux:.2e}'\n",
    "\n",
    "        return r\n",
    "\n",
    "    def binned_exposure(self, time_edges):\n",
    "        \"\"\"Bin the exposure\n",
    "\n",
    "        - time_bins: list of edges.\n",
    "        \"\"\"\n",
    "        return binned_exposure(self.config, self.exposure,  time_edges)\n",
    "\n",
    "    def binned_cos_theta(self, time_bins=None):\n",
    "        \"\"\" Calculate average cosine of angle with respect to bore axis, per time bin\n",
    "        \"\"\"\n",
    "        if time_bins is None:\n",
    "            time_bins = get_default_bins(self.config, self.exposure)\n",
    "        df = self.exposure.copy()\n",
    "        estop =df.stop.values\n",
    "        df.loc[:,'tbin'] =np.digitize(estop, time_bins)\n",
    "        ct = df.groupby('tbin').mean()['cos_theta']\n",
    "        return ct, time_bins\n",
    "\n",
    "    def weight_histogram(self, nbins=1000, key=''):\n",
    "        \"\"\" return a weight distribution\n",
    "        \"\"\"\n",
    "        def doit(nbins):\n",
    "            return np.histogram(self.p_df.weight.values, np.linspace(0,1,nbins+1))[0]\n",
    "\n",
    "        key = f'{self.source_name}_weight_hist' if key=='' else key\n",
    "        description = f'Weight histogram for {self.source_name}' if self.config.verbose>0 else ''\n",
    "        return self.config.cache(key, doit, nbins, description=description)\n",
    "\n",
    "    def plot_data(self):\n",
    "        import matplotlib.pyplot as plt\n",
    "        if self.simulated:\n",
    "            print(f'Simulated!')\n",
    "            fig, (ax1, ax4) = plt.subplots(1,2, figsize=(8,4))\n",
    "            ax1.hist(self.photons.time.values, 500, histtype='step');\n",
    "            ax1.set(xlabel='Time (MJD)')\n",
    "\n",
    "            ax4.hist(self.photons.weight, 100, histtype='step')\n",
    "            ax4.set(xlabel='weight')\n",
    "\n",
    "        else:\n",
    "            fig, (ax1,ax2, ax3,ax4) = plt.subplots(1,4, figsize=(15,4))\n",
    "            ax1.hist(self.photons.time.values, 100, histtype='step');\n",
    "            ax1.set(xlabel='Time (MJD)')\n",
    "            ax2.hist(self.photons.radius.values**2, 100, histtype='step', log=True);\n",
    "            ax2.set(xlabel='Radius**2 (deg**2)', ylim=(100, None));\n",
    "\n",
    "            ax3.hist(self.photons.band, 32, histtype='step', log=True);\n",
    "            ax3.set(xlabel='Band index')\n",
    "            ax4.hist(self.photons.weight, 100, histtype='step')\n",
    "            ax4.set(xlabel='weight')\n",
    "\n",
    "#     def update_cache(self, **kwargs): #week_range=(-1,None), save=True):\n",
    "#         return update_cache(self, **kwargs)"
   ]
  },
  {
   "cell_type": "code",
   "execution_count": null,
   "id": "a4cb4948-405d-4aad-be3e-2a582739106a",
   "metadata": {},
   "outputs": [
    {
     "data": {
      "text/markdown": [
       "<h4 id=\"SourceData\" class=\"doc_header\"><code>class</code> <code>SourceData</code><a href=\"\" class=\"source_link\" style=\"float:right\">[source]</a></h4>\n",
       "\n",
       "> <code>SourceData</code>(**`source`**, **`config`**=*`None`*, **`clear`**=*`False`*, **`week_range`**=*`None`*, **`key`**=*`''`*)\n",
       "\n",
       "Load the photon data near the source and associated exposure.\n",
       "--or--\n",
       "Use a Simulation object to generate data\n",
       "\n",
       "Either from:\n",
       "  1. `config.wtlike_data/'data_files'`, the Path to folder with list of pickle files\n",
       "  2. the cache, with key `{source.name}_data`\n",
       "\n",
       "* source : name, PointSource, or Simulation\n",
       "* [`config`](/wtlikeconfig) : basic configuration\n",
       "* `source` : PointSource object if specified\n",
       "* `clear` : if set, overwrite the cached results\n",
       "\n",
       "Calculate the values for\n",
       "\n",
       "* S, B : sums of w and 1-w\n",
       "* exptot : total associated exposure"
      ],
      "text/plain": [
       "<IPython.core.display.Markdown object>"
      ]
     },
     "metadata": {},
     "output_type": "display_data"
    }
   ],
   "source": [
    "show_doc(SourceData, title_level=4)"
   ]
  },
  {
   "cell_type": "code",
   "execution_count": null,
   "id": "6e1ff9e4-a3c6-43ae-bcda-44ea992224ba",
   "metadata": {},
   "outputs": [
    {
     "name": "stdout",
     "output_type": "stream",
     "text": [
      "generated 485 photons\n",
      "SourceData: Source test_sim with:\n",
      "\t data:           485 simulated photons over 1.0 days.\n",
      "\t exposure:       288 intervals,  average effective area 3000 cm^2 for 0.1 Ms\n",
      "\t rates:  source 9.73e-07/s, background 8.99e-07/s, S/N ratio 1.08e+00\n"
     ]
    }
   ],
   "source": [
    "simkw = dict(src_flux=1e-6, tstart=0, tstop=1)\n",
    "sim = Simulation('test_sim', **simkw )\n",
    "simsd = SourceData(sim)\n",
    "test_eq(simsd.start, simkw['tstart'])\n",
    "test_eq(simsd.stop, simkw['tstop'])\n"
   ]
  },
  {
   "cell_type": "code",
   "execution_count": null,
   "id": "940f68f6-f06d-46e5-a46a-3878470b74e9",
   "metadata": {},
   "outputs": [],
   "source": [
    "def data_check(config=None):\n",
    "    \"\"\"\n",
    "    Return: list of files, last week number, number of days in last week\"\"\"\n",
    "    import pickle\n",
    "    if config is None: config=Config()\n",
    "    if config.valid:\n",
    "        weekly_folder = config.datapath/'data_files'\n",
    "        ff = sorted(list(weekly_folder.glob('*.pkl')))\n",
    "        if len(ff)==0:\n",
    "            print(f'No .pkl files found in {weekly_folder}', file=sys.stderr)\n",
    "            return\n",
    "        wk = list(map(lambda f: int(os.path.splitext(f)[0][-3:]), ff))\n",
    "        lastweek = pickle.load(open(ff[-1],'rb'))\n",
    "        file_date = lastweek['file_date']\n",
    "        gti = lastweek['gti_times'];\n",
    "        days = (gti[-1]-gti[0])/(24*3600)\n",
    "        if config.verbose>0:\n",
    "            print(f'Weekly folder \"{weekly_folder}\" contains {len(wk)} weeks.'\\\n",
    "            f'\\n\\t Last week, # {wk[-1]}, has {days:.3f} days, ends at UTC {UTC(MJD(gti[-1]))},'\\\n",
    "                  f' filedate {file_date}' )\n",
    "        return ff, wk[-1], days\n",
    "    else:\n",
    "        print(f'Config not valid, {config.errors}', file=sys.stderr)\n",
    "        return None"
   ]
  },
  {
   "cell_type": "code",
   "execution_count": null,
   "id": "6c88e585-c1f2-42ca-ae4f-3b8ce5804e34",
   "metadata": {},
   "outputs": [
    {
     "name": "stdout",
     "output_type": "stream",
     "text": [
      "Weekly folder \"/home/burnett/wtlike_data/data_files\" contains 684 weeks.\n",
      "\t Last week, # 693, has 2.410 days, ends at UTC 2021-09-11 11:10, filedate 20210911113618\n"
     ]
    }
   ],
   "source": [
    "#from wtlike.data_man import data_check\n",
    "data_check();"
   ]
  },
  {
   "cell_type": "markdown",
   "id": "3464e5f6-16a8-4005-b664-cd06351d3da6",
   "metadata": {},
   "source": [
    "### Exmaine exposure, cos_theta\n",
    "is there a dependence on using the Kerr weighted exposure?"
   ]
  },
  {
   "cell_type": "code",
   "execution_count": null,
   "id": "b2623174-7322-4e52-ae7d-1802c5f6cff2",
   "metadata": {},
   "outputs": [
    {
     "name": "stdout",
     "output_type": "stream",
     "text": [
      "SourceData:  4FGL J0633.9+1746\n",
      "LoadData: Loading weeks[9:11:]\tProcessing 3 week files, using 4 processes ...\n",
      "\n",
      "SourceData: Source 4FGL J0633.9+1746 with:\n",
      "\t data:         4,606 photons from 2008-08-04 to 2008-08-20\n",
      "\t exposure:    11,300 intervals,  average effective area 3101 cm^2 for 0.3 Ms\n",
      "\t rates:  source 3.32e-06/s, background 1.08e-06/s, S/N ratio 3.08e+00\n",
      "Power-law weighted exposure\n",
      "           start          stop   livetime  cos_theta            exp\n",
      "0  54682.656038  54682.656375  25.041281   0.818114  109784.217278\n",
      "1  54682.656375  54682.656722  25.894482   0.818406  113579.654905\n",
      "2  54682.656722  54682.657069  25.907866   0.817838  113531.723475\n",
      "3  54682.657069  54682.657416  25.952616   0.816380  113453.890599\n",
      "4  54682.657416  54682.657764  26.067915   0.814026  113513.550224\n",
      "SourceData:  4FGL J0633.9+1746\n",
      "LoadData: Loading weeks[9:11:]\tProcessing 3 week files, using 4 processes ...\n",
      "\n",
      "SourceData: Source 4FGL J0633.9+1746 with:\n",
      "\t data:         4,606 photons from 2008-08-04 to 2008-08-20\n",
      "\t exposure:    11,300 intervals,  average effective area 3356 cm^2 for 0.3 Ms\n",
      "\t rates:  source 3.07e-06/s, background 9.95e-07/s, S/N ratio 3.08e+00\n",
      "Source flux-weighted exposure:\n",
      "           start          stop   livetime  cos_theta            exp\n",
      "0  54682.656038  54682.656375  25.041281   0.818114  116874.508212\n",
      "1  54682.656375  54682.656722  25.894482   0.818406  120909.901930\n",
      "2  54682.656722  54682.657069  25.907866   0.817838  120868.911468\n",
      "3  54682.657069  54682.657416  25.952616   0.816380  120811.849677\n",
      "4  54682.657416  54682.657764  26.067915   0.814026  120917.334554\n"
     ]
    }
   ],
   "source": [
    "config=Config();\n",
    "if config.valid:\n",
    "    week_range=(9,11)\n",
    "    config.verbose=1\n",
    "    config.use_kerr=True\n",
    "    source =PointSource('Geminga', config=config) \n",
    "    sdk = SourceData(source, config=config, week_range=week_range, )\n",
    "    print('Power-law weighted exposure\\n', sdk.exposure.head())\n",
    "\n",
    "    config.use_kerr=False\n",
    "    source =PointSource('Geminga', config=config) \n",
    "    sdnk = SourceData(source, config=config, week_range=week_range, )\n",
    "    print('Source flux-weighted exposure:\\n', sdnk.exposure.head())\n"
   ]
  },
  {
   "cell_type": "code",
   "execution_count": null,
   "id": "9f280dc4-0370-4934-810c-4ee7c509b7ee",
   "metadata": {},
   "outputs": [
    {
     "data": {
      "image/png": "[encoded data removed]",
      "text/plain": [
       "<Figure size 432x288 with 1 Axes>"
      ]
     },
     "metadata": {
      "needs_background": "light"
     },
     "output_type": "display_data"
    }
   ],
   "source": [
    "import matplotlib.pyplot as plt\n",
    "expk = sdk.exposure\n",
    "plt.plot(expk.cos_theta, expk.exp,'.');"
   ]
  },
  {
   "cell_type": "code",
   "execution_count": null,
   "id": "a0b4ec7d-c61c-4205-920f-cd2ae1b359ca",
   "metadata": {},
   "outputs": [
    {
     "data": {
      "image/png": "[encoded data removed]",
      "text/plain": [
       "<Figure size 432x288 with 1 Axes>"
      ]
     },
     "metadata": {
      "needs_background": "light"
     },
     "output_type": "display_data"
    }
   ],
   "source": [
    "import matplotlib.pyplot as plt\n",
    "expnk = sdnk.exposure\n",
    "plt.plot(expnk.cos_theta, expnk.exp,'.');"
   ]
  },
  {
   "cell_type": "code",
   "execution_count": null,
   "id": "3e859fc9-b6cd-4ffd-a2ef-0c71d42d701c",
   "metadata": {},
   "outputs": [
    {
     "data": {
      "image/png": "[encoded data removed]",
      "text/plain": [
       "<Figure size 432x288 with 1 Axes>"
      ]
     },
     "metadata": {
      "needs_background": "light"
     },
     "output_type": "display_data"
    }
   ],
   "source": [
    "plt.hist(expnk.exp/expk.exp, bins=50);"
   ]
  },
  {
   "cell_type": "code",
   "execution_count": null,
   "id": "republican-inspection",
   "metadata": {},
   "outputs": [
    {
     "name": "stdout",
     "output_type": "stream",
     "text": [
      "Converted 00_config.ipynb.\n",
      "Converted 01_data_man.ipynb.\n",
      "Converted 02_effective_area.ipynb.\n",
      "Converted 03_exposure.ipynb.\n",
      "Converted 03_sources.ipynb.\n",
      "Converted 04_load_data.ipynb.\n",
      "Converted 04_simulation.ipynb.\n",
      "Converted 05_source_data.ipynb.\n",
      "Converted 06_poisson.ipynb.\n",
      "Converted 07_loglike.ipynb.\n",
      "Converted 08_cell_data.ipynb.\n",
      "Converted 09_lightcurve.ipynb.\n",
      "Converted 14_bayesian.ipynb.\n",
      "Converted 90_main.ipynb.\n",
      "Converted 99_presentation.ipynb.\n",
      "Converted 99_tutorial.ipynb.\n",
      "Converted Untitled.ipynb.\n",
      "Converted index.ipynb.\n",
      "Thu Sep  2 14:03:27 PDT 2021\n"
     ]
    }
   ],
   "source": [
    "#hide\n",
    "from nbdev.export import notebook2script\n",
    "notebook2script()\n",
    "!date"
   ]
  },
  {
   "cell_type": "code",
   "execution_count": null,
   "id": "approved-treasure",
   "metadata": {},
   "outputs": [],
   "source": []
  }
 ],
 "metadata": {
  "kernelspec": {
   "display_name": "Python 3 (ipykernel)",
   "language": "python",
   "name": "python3"
  }
 },
 "nbformat": 4,
 "nbformat_minor": 5
}
