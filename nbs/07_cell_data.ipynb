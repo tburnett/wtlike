{
 "cells": [
  {
   "cell_type": "code",
   "execution_count": null,
   "id": "discrete-appreciation",
   "metadata": {},
   "outputs": [
    {
     "name": "stdout",
     "output_type": "stream",
     "text": [
      "Cells will be exported to wtlike.cell_data,\n",
      "unless a different module is specified after an export flag: `%nbdev_export special.module`\n"
     ]
    }
   ],
   "source": [
    "from nbdev import *\n",
    "%nbdev_default_export cell_data\n",
    "%reload_ext autoreload\n",
    "%autoreload 2"
   ]
  },
  {
   "cell_type": "markdown",
   "id": "extraordinary-foundation",
   "metadata": {},
   "source": [
    "# Manage cell data\n",
    "> Create cells from source data"
   ]
  },
  {
   "cell_type": "code",
   "execution_count": null,
   "id": "nuclear-secret",
   "metadata": {},
   "outputs": [],
   "source": [
    "%nbdev_export\n",
    "import os\n",
    "import numpy as np\n",
    "import pandas as pd\n",
    "from wtlike.config import *\n",
    "from wtlike.source_data import *\n",
    "from wtlike.loglike import LogLike, PoissonRep"
   ]
  },
  {
   "cell_type": "code",
   "execution_count": null,
   "id": "blessed-photograph",
   "metadata": {},
   "outputs": [],
   "source": [
    "%nbdev_export\n",
    "class CellData(SourceData):\n",
    "    \"\"\"Manage a set of cells generated from a data set\n",
    "    \n",
    "        Invoke superclass to load photon data and exposure for the source.\n",
    "        Manage a list of cells\n",
    "        \n",
    "        * config Config instance, with file paths appropriate for SourceData\n",
    "        * source PointSource instance\n",
    "        * exp_min minimum relative exposure -- applied to dataframe output\n",
    "        * bins time bins defined by 3-element tuple: \n",
    "        \"\"\"\n",
    "    \n",
    "    def __init__(self, config, source, exp_min=0.3, bins=(0,0,1), clear=False):\n",
    "        \"\"\"\n",
    "\n",
    "        \"\"\"\n",
    "        #  load phots\n",
    "        super().__init__(config, source, clear )\n",
    "\n",
    "        self.source_name =source.name\n",
    "        self.verbose = config.verbose\n",
    "        self.use_uint8  = config.use_uint8\n",
    "        self.exp_min = exp_min\n",
    "        self.rebin(bins)\n",
    "        \n",
    "    def rebin(self, newbins):\n",
    "        \"\"\"bin, or rebin \n",
    "        \"\"\"\n",
    "        photon_data = self.p_df\n",
    "        edges = time_bin_edges(self.config, self.e_df, newbins)\n",
    "        if self.config.verbose>1:\n",
    "            print(f'Time bins: {len(edges)-1} {bin_size_name(edges)}'\\\n",
    "                  f' from {edges[0]} to {edges[-1]}')\n",
    "        \n",
    "        # exposure binned as well\n",
    "        self.fexposure, self.expbin= self.binned_exposure( time_bins=edges ) \n",
    "        \n",
    "        # manage bins \n",
    "        self.N = len(edges)-1 # number of bins\n",
    "        self.bins = edges\n",
    "        self.bin_centers = 0.5*(edges[1:]+edges[:-1])\n",
    "        self.exposure_fator = 1\n",
    "        \n",
    "        # restrict photons to range of bin times\n",
    "        photons = photon_data.query(f'{edges[0]}<time<{edges[-1]}')\n",
    "\n",
    "        # get the photon data with good weights, not NaN\n",
    "        w = photons.weight\n",
    "        good = np.logical_not(np.isnan(w))\n",
    "        self.photons = photons.loc[good]\n",
    "        self.weights = w = self.photons.weight.values\n",
    "        \n",
    "        # estimates for averate signal and background per cell\n",
    "        self.S = np.sum(w)/self.N\n",
    "        self.B = np.sum(1-w)/self.N\n",
    "\n",
    "        # use photon times to get indices of bin edges\n",
    "        self._edges = np.searchsorted(self.photons.time, edges)\n",
    "\n",
    "    def update(self): pass # virtual\n",
    "    \n",
    "    def rebinned_copy(self, newbins):\n",
    "        \"\"\"Return a rebinned copy\n",
    "        \n",
    "        \"\"\"\n",
    "        import copy\n",
    "        if self.config.verbose>1:\n",
    "            nb = newbins\n",
    "            print(f'Making copy with {len(nb)-1} {bin_size_name(nb)} bins from {nb[0]} to {nb[-1]}')\n",
    "        r = copy.copy(self)\n",
    "        # check to see if new binning is contained\n",
    "        r.rebin(newbins)\n",
    "        r.df = None # force new set of cells\n",
    "        if newbins[0]> self.bins[0] or newbins[-1] < self.bins[1]:\n",
    "            factor = self.expbin/r.expbin            \n",
    "            if self.config.verbose>1:\n",
    "                print(f'new range within old--bin exposure factor {factor:.1f}')\n",
    "            r.exposure_factor=factor # to apply later\n",
    "        r.update()\n",
    "        return r\n",
    "        \n",
    "    \n",
    "    def __repr__(self):\n",
    "        return f'''{self.__class__}:\n",
    "        {len(self.fexposure)} intervals from {self.bins[0]:.1f} to {self.bins[-1]:.1f} for source {self.source_name}\n",
    "        S {self.S:.2f}  B {self.B:.2f} '''\n",
    "\n",
    "    def __getitem__(self, i):\n",
    "        \"\"\" get info for ith time bin and return dict with\n",
    "            t : MJD\n",
    "            tw: bin width,\n",
    "            e: exposure as fraction of total,\n",
    "            n : number of photons in bin\n",
    "            w : list of weights as uint8 integers<=255\n",
    "            S,B:  value\n",
    "        \"\"\"\n",
    "        k   = self._edges\n",
    "        w = self.weights[k[i]:k[i+1]]\n",
    "        wts = np.array(w*256, np.uint8) if self.use_uint8 else w\n",
    "        n = len(wts)\n",
    "        e = self.fexposure[i]\n",
    "        tw  = self.bins[i+1]-self.bins[i]\n",
    "\n",
    "        return dict(\n",
    "                t=self.bin_centers[i], # time\n",
    "                tw = tw,  # bin width\n",
    "                e=e, # moving to this name\n",
    "                n=n, # number of photons in bin\n",
    "                w=wts,\n",
    "                S= e *self.S,\n",
    "                B= e *self.B,\n",
    "                )\n",
    "\n",
    "    def __len__(self):\n",
    "        return self.N\n",
    "    \n",
    "    @property\n",
    "    def dataframe(self):\n",
    "        \"\"\" combine all cells into a dataframe, applying exposure cut\n",
    "        \"\"\"\n",
    "        if hasattr(self, 'df') and self.df is not None: return self.df\n",
    "        emin = self.exp_min\n",
    "        if emin is None: emin=0\n",
    "        self.df = pd.DataFrame([cell for cell in self if cell['e']>emin ])\n",
    "        return self.df\n",
    "    \n",
    "    def concatenate( self ):\n",
    "        \"\"\"\n",
    "        Combine this set of cells to one\n",
    "        Return a dict with summed n, S, B, and concatenated w\n",
    "        \"\"\"\n",
    "        newcell = dict()\n",
    "        cells = self.dataframe\n",
    "        if 't' in cells:\n",
    "            ca, cb =cells.iloc[0], cells.iloc[-1]\n",
    "            newcell.update(dict(t= 0.5*(ca.t-ca.tw/2 + cb.t+cb.tw/2), tw=cb.t-ca.t ))\n",
    "\n",
    "        for col in ' n S B'.split():\n",
    "            newcell[col] = cells[col].sum()\n",
    "        newcell['w'] = np.concatenate(list(cells.w.values))\n",
    "        return newcell\n",
    "    \n",
    "        \n",
    "    def all_data_likelihood(self ):\n",
    "        \"\"\"Concatentate all the cells, return a LogLike object\"\"\"\n",
    "        return LogLike(self.concatenate()) \n",
    "    \n",
    "    def plot_concatenated(self, fignum=1, **kwargs):\n",
    "        \"\"\"Likelihood function, with fit for concatenated data\n",
    "        \"\"\"\n",
    "        import matplotlib.pyplot as plt\n",
    "        lka = self.all_data_likelihood()\n",
    "        fig,ax = plt.subplots(figsize=(4,2), num=fignum)\n",
    "        lka.plot(ax=ax, **kwargs) \n",
    "        return fig"
   ]
  },
  {
   "cell_type": "code",
   "execution_count": null,
   "id": "english-award",
   "metadata": {},
   "outputs": [
    {
     "name": "stdout",
     "output_type": "stream",
     "text": [
      "Available objects for config:\n",
      "     AliasManager\n",
      "     DisplayFormatter\n",
      "     HistoryManager\n",
      "     IPCompleter\n",
      "     IPKernelApp\n",
      "     InlineBackend\n",
      "     LoggingMagics\n",
      "     MagicsManager\n",
      "     OSMagics\n",
      "     PrefilterManager\n",
      "     ScriptMagics\n",
      "     StoreMagics\n",
      "     ZMQInteractiveShell\n"
     ]
    }
   ],
   "source": [
    "config"
   ]
  },
  {
   "cell_type": "code",
   "execution_count": null,
   "id": "described-geneva",
   "metadata": {},
   "outputs": [
    {
     "data": {
      "text/markdown": [
       "<h2 id=\"CellData\" class=\"doc_header\"><code>class</code> <code>CellData</code><a href=\"\" class=\"source_link\" style=\"float:right\">[source]</a></h2>\n",
       "\n",
       "> <code>CellData</code>(**`config`**, **`source`**, **`exp_min`**=*`0.3`*, **`bins`**=*`(0, 0, 1)`*, **`clear`**=*`False`*) :: [`SourceData`](/wtlikesource_data#SourceData)\n",
       "\n",
       "Manage a set of cells generated from a data set\n",
       "\n",
       "Invoke superclass to load photon data and exposure for the source.\n",
       "Manage a list of cells\n",
       "\n",
       "* config Config instance, with file paths appropriate for SourceData\n",
       "* source PointSource instance\n",
       "* exp_min minimum relative exposure -- applied to dataframe output\n",
       "* bins time bins defined by 3-element tuple: "
      ],
      "text/plain": [
       "<IPython.core.display.Markdown object>"
      ]
     },
     "metadata": {},
     "output_type": "display_data"
    }
   ],
   "source": [
    "show_doc(CellData)"
   ]
  },
  {
   "cell_type": "code",
   "execution_count": null,
   "id": "accessory-batch",
   "metadata": {},
   "outputs": [
    {
     "name": "stdout",
     "output_type": "stream",
     "text": [
      "photons and exposure for Geminga: Restoring from cache with key \"Geminga_monthly_data\"\n",
      "CellData: Source Geminga with:\n",
      "\t data:     1,393,646 photons from   2008-08-04 to 2021-04-02\n",
      "\t exposure: 3,077,175 intervals from 2008-08-04 to 2021-04-02\n",
      "Time bins: 4624 day from 54683.0 to 59307.0\n",
      "Relative exposure per bin:\n",
      "count    4624.00\n",
      "mean        1.00\n",
      "std         0.34\n",
      "min         0.00\n",
      "50%         1.00\n",
      "max         3.26\n",
      "dtype: float64\n"
     ]
    },
    {
     "data": {
      "image/png": "[encoded data removed]",
      "text/plain": [
       "<Figure size 288x144 with 1 Axes>"
      ]
     },
     "metadata": {
      "needs_background": "light"
     },
     "output_type": "display_data"
    }
   ],
   "source": [
    "%nbdev_hide\n",
    "config = Config(data_folder='/home/burnett/monthly', verbose=2)\n",
    "source = PointSource('Geminga')\n",
    "cd = CellData(config, source)\n",
    "cd.plot_concatenated(xlim=(0.99, 1.01), title=f'{source.name}');"
   ]
  },
  {
   "cell_type": "code",
   "execution_count": null,
   "id": "formed-geneva",
   "metadata": {},
   "outputs": [
    {
     "name": "stdout",
     "output_type": "stream",
     "text": [
      "{'counts': 1191977, 'flux': 0.9999, 'sig_flux': 0.0012}, TS=2414055\n"
     ]
    }
   ],
   "source": [
    "lka = cd.all_data_likelihood(); print(f'{ lka.fit_info()}, TS={PoissonRep(lka).ts:.0f}')"
   ]
  },
  {
   "cell_type": "code",
   "execution_count": null,
   "id": "equipped-roots",
   "metadata": {},
   "outputs": [
    {
     "name": "stdout",
     "output_type": "stream",
     "text": [
      "Making copy with 2 1.1429-week bins from -8 to 1\n",
      "Time bins: 8 day from 59299.0 to 59307.0\n",
      "Relative exposure per bin:\n",
      "count    8.00\n",
      "mean     1.00\n",
      "std      0.18\n",
      "min      0.80\n",
      "50%      0.92\n",
      "max      1.26\n",
      "dtype: float64\n",
      "new range within old--bin exposure factor 1.3\n",
      "<class '__main__.CellData'>:\n",
      "        8 intervals from 59299.0 to 59307.0 for source Geminga\n",
      "        S 149.60  B 55.65 \n"
     ]
    },
    {
     "data": {
      "image/png": "[encoded data removed]",
      "text/plain": [
       "<Figure size 288x144 with 1 Axes>"
      ]
     },
     "metadata": {
      "needs_background": "light"
     },
     "output_type": "display_data"
    }
   ],
   "source": [
    "cd2 = cd.rebinned_copy((-8,0,1)); print(cd2)\n",
    "cd2.plot_concatenated(xlim=(0.9, 1.1), title=f'{source.name}');"
   ]
  },
  {
   "cell_type": "code",
   "execution_count": null,
   "id": "bigger-coffee",
   "metadata": {},
   "outputs": [],
   "source": [
    "\n",
    "%nbdev_export\n",
    "def concatenate_cells( cells):\n",
    "    \"\"\"\n",
    "    Combine a group of cells to one\n",
    "    - cells: dataframe with cells containing  n, w, S, B<br>\n",
    "            Optionally, if $t$ is present, generate t and tw\n",
    "    Return a dict with summed n, S, B, and concatenated w\n",
    "    \"\"\"\n",
    "    newcell = dict()\n",
    "    if 't' in cells:\n",
    "        ca, cb =cells.iloc[0], cells.iloc[-1]\n",
    "        newcell.update(dict(t= 0.5*(ca.t-ca.tw/2 + cb.t+cb.tw/2), tw=cb.t-ca.t ))\n",
    "\n",
    "    for col in ' n S B'.split():\n",
    "        newcell[col] = cells[col].sum()\n",
    "    newcell['w'] = np.concatenate(list(cells.w.values))\n",
    "    return newcell"
   ]
  },
  {
   "cell_type": "code",
   "execution_count": null,
   "id": "according-wyoming",
   "metadata": {},
   "outputs": [],
   "source": [
    "%nbdev_export\n",
    "def partition_cells(config, cells, edges):\n",
    "    \"\"\" Partition a set of cells\n",
    "     - cells -- A DataFrame of cells\n",
    "     - edges  -- a list of edges delimiting boundaries between cells\n",
    "    \"\"\"\n",
    "    # should check limitsk\n",
    "    ii = np.searchsorted(cells.t, edges)\n",
    "    \n",
    "    newcells = []\n",
    "    for k in range(len(ii)-1):\n",
    "        a,b = ii[k:k+2]\n",
    "        subset = cells.iloc[a:b]; \n",
    "\n",
    "        ca, cb = subset.iloc[0], subset.iloc[-1]\n",
    "        newcell = dict(t= 0.5*(ca.t-ca.tw/2 + cb.t+cb.tw/2)  )\n",
    "\n",
    "        for col in 'tw e n S B'.split():\n",
    "            newcell[col] = subset[col].sum()\n",
    "        newcell['e'] /= len(subset)\n",
    "        newcell['w'] = np.concatenate(list(subset.w.values)) #np.array(w, np.uint8)\n",
    "        newcells.append(newcell)\n",
    "    return pd.DataFrame(newcells)      "
   ]
  },
  {
   "cell_type": "code",
   "execution_count": null,
   "id": "coated-mountain",
   "metadata": {},
   "outputs": [
    {
     "data": {
      "text/markdown": [
       "<h4 id=\"partition_cells\" class=\"doc_header\"><code>partition_cells</code><a href=\"__main__.py#L2\" class=\"source_link\" style=\"float:right\">[source]</a></h4>\n",
       "\n",
       "> <code>partition_cells</code>(**`config`**, **`cells`**, **`edges`**)\n",
       "\n",
       "Partition a set of cells\n",
       "- cells -- A DataFrame of cells\n",
       "- edges  -- a list of edges delimiting boundaries between cells"
      ],
      "text/plain": [
       "<IPython.core.display.Markdown object>"
      ]
     },
     "metadata": {},
     "output_type": "display_data"
    }
   ],
   "source": [
    "show_doc(partition_cells)"
   ]
  },
  {
   "cell_type": "code",
   "execution_count": null,
   "id": "prostate-christian",
   "metadata": {},
   "outputs": [
    {
     "name": "stdout",
     "output_type": "stream",
     "text": [
      "Converted 00_config.ipynb.\n",
      "Converted 01_effective_area.ipynb.\n",
      "Converted 02_data_man.ipynb.\n",
      "Converted 03_source_data.ipynb.\n",
      "Converted 03_weights.ipynb.\n",
      "Converted 04_photon_data.ipynb.\n",
      "Converted 06_poisson.ipynb.\n",
      "Converted 07_cell_data.ipynb.\n",
      "Converted 08_loglike.ipynb.\n",
      "Converted 09_lightcurve.ipynb.\n",
      "Converted 10_simulation.ipynb.\n",
      "Converted 14_bayesian-NUC8i7.ipynb.\n",
      "Converted 14_bayesian.ipynb.\n",
      "Converted index.ipynb.\n",
      "Sat May  1 11:03:58 PDT 2021\n"
     ]
    }
   ],
   "source": [
    "%nbdev_hide\n",
    "from nbdev.export import notebook2script\n",
    "notebook2script()\n",
    "!date"
   ]
  },
  {
   "cell_type": "code",
   "execution_count": null,
   "id": "printable-confusion",
   "metadata": {},
   "outputs": [],
   "source": []
  }
 ],
 "metadata": {
  "kernelspec": {
   "display_name": "Python 3",
   "language": "python",
   "name": "python3"
  }
 },
 "nbformat": 4,
 "nbformat_minor": 5
}
