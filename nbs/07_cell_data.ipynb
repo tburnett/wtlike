{
 "cells": [
  {
   "cell_type": "code",
   "execution_count": null,
   "id": "eligible-radiation",
   "metadata": {},
   "outputs": [
    {
     "name": "stdout",
     "output_type": "stream",
     "text": [
      "Cells will be exported to wtlike.cell_data,\n",
      "unless a different module is specified after an export flag: `%nbdev_export special.module`\n"
     ]
    }
   ],
   "source": [
    "from nbdev import *\n",
    "%nbdev_default_export cell_data\n",
    "%reload_ext autoreload\n",
    "%autoreload 2"
   ]
  },
  {
   "cell_type": "markdown",
   "id": "photographic-medication",
   "metadata": {},
   "source": [
    "# Manage cell data\n",
    "> Create cells from source data"
   ]
  },
  {
   "cell_type": "code",
   "execution_count": null,
   "id": "level-scoop",
   "metadata": {},
   "outputs": [],
   "source": [
    "%nbdev_export\n",
    "import os\n",
    "import numpy as np\n",
    "import pandas as pd\n",
    "from wtlike.config import *\n",
    "from wtlike.source_data import *\n",
    "from wtlike.loglike import LogLike, PoissonRep"
   ]
  },
  {
   "cell_type": "code",
   "execution_count": null,
   "id": "overall-christopher",
   "metadata": {},
   "outputs": [],
   "source": [
    "%nbdev_export\n",
    "class CellData(SourceData):\n",
    "    \"\"\"Manage a set of cells generated from a data set\n",
    "    \n",
    "        Invoke superclass to load photon data and exposure for the source.\n",
    "        Manage a list of cells\n",
    "        \n",
    "        * config Config instance, with file paths appropriate for SourceData\n",
    "        * source PointSource instance\n",
    "        * bins time bins defined by 3-element tuple: \n",
    "        \"\"\"\n",
    "    \n",
    "    def __init__(self, *pars, **kwargs): #config, source,  bins=(0,0,1), clear=False)):\n",
    "        \"\"\"\n",
    "\n",
    "        \"\"\"\n",
    "        bins = kwargs.pop('bins', (0,0,1))\n",
    "        #  load phots\n",
    "        super().__init__(*pars, **kwargs )\n",
    "\n",
    "        self.use_uint8  = self.config.use_uint8\n",
    "#\n",
    "        self.rebin(bins)\n",
    "        self.get_cells()\n",
    "        \n",
    "    def get_cells(self):\n",
    "        if not hasattr(self, 'df') or self.df is None:\n",
    "            self.df = pd.DataFrame([cell for cell in self if cell['e']>0  and cell['n']>0 ])\n",
    "        return self.df\n",
    "        \n",
    "    def rebin(self, newbins):\n",
    "        \"\"\"bin, or rebin \n",
    "        \"\"\"\n",
    "        photon_data = self.p_df\n",
    "        edges = time_bin_edges(self.config, self.e_df, newbins)\n",
    "        if self.config.verbose>0:\n",
    "            print(f'Bin photon data into {len(edges)-1} {bin_size_name(newbins[2])}'\\\n",
    "                  f' bins from {edges[0]} to {edges[-1]}')\n",
    "        \n",
    "        # exposure binned as well\n",
    "        self.fexposure, self.expbin = self.binned_exposure( time_bins=edges ) \n",
    "        \n",
    "        ### fix normalization\n",
    "        self.fexposure /= (len(edges)-1)\n",
    "        \n",
    "        # manage bins \n",
    "        self.N = len(edges)-1 # number of bins\n",
    "        self.bins = edges\n",
    "        self.bin_centers = 0.5*(edges[1:]+edges[:-1])\n",
    "        self.exposure_fator = 1\n",
    "        \n",
    "        # restrict photons to range of bin times\n",
    "        photons = photon_data.query(f'{edges[0]}<time<{edges[-1]}')\n",
    "\n",
    "        # get the photon data with good weights, not NaN\n",
    "        w = photons.weight\n",
    "        good = np.logical_not(np.isnan(w))\n",
    "        self.photons = photons.loc[good]\n",
    "        self.weights = w = self.photons.weight.values\n",
    "        \n",
    "        # estimates for signal and background per cell ???\n",
    "        self.S = np.sum(w) #/self.N\n",
    "        self.B = np.sum(1-w)#/self.N\n",
    "\n",
    "        # use photon times to get indices of bin edges\n",
    "        self._edges = np.searchsorted(self.photons.time, edges)\n",
    "\n",
    "    def update(self): pass # virtual\n",
    "    \n",
    "    def rebinned_copy(self, newbins):\n",
    "        \"\"\"Return a rebinned copy\n",
    "        \n",
    "        \"\"\"\n",
    "        import copy\n",
    "        if self.config.verbose>1:\n",
    "            print(f'Making copy of rebinned class {self.__class__}')\n",
    "        r = copy.copy(self)\n",
    "        # check to see if new binning is contained\n",
    "        r.rebin(newbins)\n",
    "        r.df = None # force new set of cells\n",
    "        if newbins[0]> self.bins[0] or newbins[-1] < self.bins[1]:\n",
    "            factor = self.expbin/r.expbin            \n",
    "            if self.config.verbose>0:\n",
    "                print(f'The new range is within old--bin exposure factor {factor:.1f}')\n",
    "            r.exposure_factor=factor # to apply later\n",
    "        r.update()\n",
    "        return r\n",
    "        \n",
    "    \n",
    "    def __repr__(self):\n",
    "        return f'''{self.__class__}:\n",
    "        {len(self.fexposure)} intervals from {self.bins[0]:.1f} to {self.bins[-1]:.1f} for source {self.source_name}\n",
    "        S {self.S:.2f}  B {self.B:.2f} '''\n",
    "\n",
    "    def __getitem__(self, i):\n",
    "        \"\"\" get info for ith time bin and return dict with\n",
    "            t : MJD time of center\n",
    "            tw: bin width,\n",
    "            e : exposure as fraction of total,\n",
    "            n : number of photons in bin\n",
    "            w : list of weights in float32 or uint8 integers<=255\n",
    "            S,B:  value\n",
    "        \"\"\"\n",
    "        k   = self._edges\n",
    "        w = self.weights[k[i]:k[i+1]]\n",
    "        wts = np.array(w*256, np.uint8) if self.use_uint8 else w\n",
    "        n = len(wts)\n",
    "        e = self.fexposure[i]\n",
    "        tw  = self.bins[i+1]-self.bins[i]\n",
    "\n",
    "        return dict(\n",
    "                t=self.bin_centers[i], # time\n",
    "                tw = tw,  # bin width\n",
    "                e=e, \n",
    "                n=n, # number of photons in bin\n",
    "                w=wts,\n",
    "                S= e * self.S,\n",
    "                B= e * self.B,\n",
    "                )\n",
    "\n",
    "    def __len__(self):\n",
    "        return self.N\n",
    "    \n",
    "    def concatenate( self ):\n",
    "        \"\"\"\n",
    "        Combine this set of cells to one\n",
    "        Return a dict with summed n, S, B, and concatenated w\n",
    "        \"\"\"\n",
    "        self.get_cells()\n",
    "        cells = self.df\n",
    "        \n",
    "        newcell = dict()\n",
    "\n",
    "        if 't' in cells:\n",
    "            ca, cb =cells.iloc[0], cells.iloc[-1]\n",
    "            newcell.update(dict(t= 0.5*(ca.t-ca.tw/2 + cb.t+cb.tw/2), tw=cb.t-ca.t ))\n",
    "\n",
    "        for col in ' n S B'.split():\n",
    "            newcell[col] = cells[col].sum()\n",
    "        newcell['w'] = np.concatenate(list(cells.w.values))\n",
    "        return newcell\n",
    "    \n",
    "        \n",
    "    def full_likelihood(self ):\n",
    "        \"\"\"Concatentate all the cells, return a LogLike object\n",
    "        \"\"\"\n",
    "        return LogLike(self.concatenate()) \n",
    "    \n",
    "    def plot_concatenated(self, fignum=1, **kwargs):\n",
    "        \"\"\"Likelihood function, with fit for concatenated data\n",
    "        \"\"\"\n",
    "        import matplotlib.pyplot as plt\n",
    "        lka = self.full_likelihood()\n",
    "        fig,ax = plt.subplots(figsize=(4,2), num=fignum)\n",
    "        lka.plot(ax=ax, **kwargs) \n",
    "        return fig"
   ]
  },
  {
   "cell_type": "code",
   "execution_count": null,
   "id": "guided-industry",
   "metadata": {},
   "outputs": [
    {
     "data": {
      "text/markdown": [
       "<h2 id=\"CellData\" class=\"doc_header\"><code>class</code> <code>CellData</code><a href=\"\" class=\"source_link\" style=\"float:right\">[source]</a></h2>\n",
       "\n",
       "> <code>CellData</code>(**\\*`pars`**, **\\*\\*`kwargs`**) :: [`SourceData`](/wtlikesource_data#SourceData)\n",
       "\n",
       "Manage a set of cells generated from a data set\n",
       "\n",
       "Invoke superclass to load photon data and exposure for the source.\n",
       "Manage a list of cells\n",
       "\n",
       "* config Config instance, with file paths appropriate for SourceData\n",
       "* source PointSource instance\n",
       "* bins time bins defined by 3-element tuple: "
      ],
      "text/plain": [
       "<IPython.core.display.Markdown object>"
      ]
     },
     "metadata": {},
     "output_type": "display_data"
    }
   ],
   "source": [
    "show_doc(CellData)"
   ]
  },
  {
   "cell_type": "code",
   "execution_count": null,
   "id": "packed-bonus",
   "metadata": {},
   "outputs": [
    {
     "name": "stdout",
     "output_type": "stream",
     "text": [
      "photons and exposure for Geminga: Restoring from cache with key \"Geminga__data\"\n",
      "CellData: Source Geminga with:\n",
      "\t data:     1,412,008 photons from   2008-08-04 to 2021-04-28\n",
      "\t exposure: 3,112,161 intervals from 2008-08-04 to 2021-04-28\n",
      "Bin photon data into 4650 1-day bins from 54683.0 to 59333.0\n",
      "Parmeters from Poisson fit\n",
      "flux                      1\n",
      "ts                  2.5e+06\n",
      "errors    (0.0012, -0.0012)\n",
      "limit                     1\n",
      "dtype: object\n"
     ]
    },
    {
     "data": {
      "image/png": "[encoded data removed]",
      "text/plain": [
       "<Figure size 288x144 with 1 Axes>"
      ]
     },
     "metadata": {
      "needs_background": "light"
     },
     "output_type": "display_data"
    }
   ],
   "source": [
    "%nbdev_hide\n",
    "\n",
    "cd = CellData('Geminga')\n",
    "cd.plot_concatenated(xlim=(0.99, 1.01), title=f'{cd.source.name}');\n",
    "print('Parmeters from Poisson fit')\n",
    "L = cd.full_likelihood()\n",
    "pr = PoissonRep(L)\n",
    "print(pd.Series(pr.info()))"
   ]
  },
  {
   "cell_type": "code",
   "execution_count": null,
   "id": "passing-eligibility",
   "metadata": {},
   "outputs": [],
   "source": [
    "\n",
    "%nbdev_export\n",
    "def concatenate_cells( cells):\n",
    "    \"\"\"\n",
    "    Combine a group of cells to one\n",
    "    - cells: dataframe with cells containing  n, w, S, B<br>\n",
    "            Optionally, if $t$ is present, generate t and tw\n",
    "    Return a dict with summed n, S, B, and concatenated w\n",
    "    \"\"\"\n",
    "    newcell = dict()\n",
    "    if 't' in cells:\n",
    "        ca, cb =cells.iloc[0], cells.iloc[-1]\n",
    "        newcell.update(dict(t= 0.5*(ca.t-ca.tw/2 + cb.t+cb.tw/2), tw=cb.t-ca.t ))\n",
    "\n",
    "    for col in ' n S B'.split():\n",
    "        newcell[col] = cells[col].sum()\n",
    "    newcell['w'] = np.concatenate(list(cells.w.values))\n",
    "    return newcell"
   ]
  },
  {
   "cell_type": "code",
   "execution_count": null,
   "id": "revised-danger",
   "metadata": {},
   "outputs": [],
   "source": [
    "%nbdev_export\n",
    "def partition_cells(config, cells, edges):\n",
    "    \"\"\" Partition a set of cells\n",
    "     - cells -- A DataFrame of cells\n",
    "     - edges  -- a list of edge times delimiting boundaries between cells\n",
    "     \n",
    "    Returns a DataFrame of combined cells, with times and widths adjusted to account for missing cells\n",
    "    \n",
    "    \"\"\"\n",
    "    # get indices of  cell idexes just beyond each edge time\n",
    "    ii = np.searchsorted(cells.t, edges)\n",
    "    \n",
    "    # Get the appropriate boundary times to apply to combined cells\n",
    "    # this is complicated by missing cells, need to put boundary in gaps if ncessary\n",
    "    ileft = ii[:-1]\n",
    "    cleft = cells.iloc[ileft ]\n",
    "    tleft =  (cleft.t - cleft.tw/2).values\n",
    "    iright = ii[1:]-1\n",
    "    cright = cells.iloc[iright ]  \n",
    "    tright = (cright.t+cright.tw/2).values\n",
    "    betweens = 0.5*(tleft[1:] + tright[:-1])\n",
    "    tboundary = np.append(np.insert(betweens, 0, tleft[0]), tright[-1])\n",
    "    \n",
    "    # now combine the cells, \n",
    "    newcells = []\n",
    "    for k in range(len(ii)-1):\n",
    "        a,b = ii[k:k+2]\n",
    "        subset = cells.iloc[a:b]; \n",
    "\n",
    "#         ca, cb = subset.iloc[0], subset.iloc[-1]\n",
    "#         newcell = dict(t= 0.5*(ca.t-ca.tw/2 + cb.t+cb.tw/2)  )\n",
    "        tl, tr = tboundary[k:k+2]\n",
    "        newcell = dict(t=0.5*(tl+tr), tw=tr-tl)\n",
    "        \n",
    "        for col in 'e n S B'.split():\n",
    "            newcell[col] = subset[col].sum()\n",
    "        newcell['e'] /= len(subset)\n",
    "        newcell['w'] = np.concatenate(list(subset.w.values)) #np.array(w, np.uint8)\n",
    "        newcells.append(newcell)\n",
    "    return pd.DataFrame(newcells)      "
   ]
  },
  {
   "cell_type": "code",
   "execution_count": null,
   "id": "distinct-currency",
   "metadata": {},
   "outputs": [
    {
     "data": {
      "text/markdown": [
       "<h4 id=\"partition_cells\" class=\"doc_header\"><code>partition_cells</code><a href=\"__main__.py#L2\" class=\"source_link\" style=\"float:right\">[source]</a></h4>\n",
       "\n",
       "> <code>partition_cells</code>(**`config`**, **`cells`**, **`edges`**)\n",
       "\n",
       "Partition a set of cells\n",
       " - cells -- A DataFrame of cells\n",
       " - edges  -- a list of edge times delimiting boundaries between cells\n",
       " \n",
       "Returns a DataFrame of combined cells, with times and widths adjusted to account for missing cells"
      ],
      "text/plain": [
       "<IPython.core.display.Markdown object>"
      ]
     },
     "metadata": {},
     "output_type": "display_data"
    }
   ],
   "source": [
    "show_doc(partition_cells)"
   ]
  },
  {
   "cell_type": "code",
   "execution_count": null,
   "id": "conservative-picking",
   "metadata": {},
   "outputs": [
    {
     "name": "stdout",
     "output_type": "stream",
     "text": [
      "Converted 00_config.ipynb.\n",
      "Converted 01_effective_area.ipynb.\n",
      "Converted 02_data_man.ipynb.\n",
      "Converted 03_source_data.ipynb.\n",
      "Converted 03_weights.ipynb.\n",
      "Converted 06_poisson.ipynb.\n",
      "Converted 07_cell_data.ipynb.\n",
      "Converted 08_loglike.ipynb.\n",
      "Converted 09_lightcurve.ipynb.\n",
      "Converted 10_simulation.ipynb.\n",
      "Converted 14_bayesian.ipynb.\n",
      "Converted index.ipynb.\n",
      "Mon May  3 17:12:35 PDT 2021\n"
     ]
    }
   ],
   "source": [
    "%nbdev_hide\n",
    "from nbdev.export import notebook2script\n",
    "notebook2script()\n",
    "!date"
   ]
  },
  {
   "cell_type": "code",
   "execution_count": null,
   "id": "heard-lounge",
   "metadata": {},
   "outputs": [],
   "source": []
  }
 ],
 "metadata": {
  "kernelspec": {
   "display_name": "Python 3",
   "language": "python",
   "name": "python3"
  }
 },
 "nbformat": 4,
 "nbformat_minor": 5
}
