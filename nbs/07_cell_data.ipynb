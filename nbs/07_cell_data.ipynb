{
 "cells": [
  {
   "cell_type": "code",
   "execution_count": null,
   "id": "radio-namibia",
   "metadata": {},
   "outputs": [
    {
     "name": "stdout",
     "output_type": "stream",
     "text": [
      "Cells will be exported to wtlike.cell_data,\n",
      "unless a different module is specified after an export flag: `%nbdev_export special.module`\n"
     ]
    }
   ],
   "source": [
    "from nbdev import *\n",
    "%nbdev_default_export cell_data\n",
    "%reload_ext autoreload\n",
    "%autoreload 2"
   ]
  },
  {
   "cell_type": "markdown",
   "id": "interested-relevance",
   "metadata": {},
   "source": [
    "# Manage cell data"
   ]
  },
  {
   "cell_type": "code",
   "execution_count": null,
   "id": "sixth-twist",
   "metadata": {},
   "outputs": [],
   "source": [
    "%nbdev_export\n",
    "import os\n",
    "import numpy as np\n",
    "import pandas as pd\n",
    "from wtlike.config import *\n",
    "from wtlike.source_data import *"
   ]
  },
  {
   "cell_type": "code",
   "execution_count": null,
   "id": "metropolitan-performance",
   "metadata": {},
   "outputs": [],
   "source": [
    "%nbdev_export\n",
    "class CellData(SourceData):\n",
    "    \"\"\"Manage a set of cells generated from a data set\n",
    "    \n",
    "    \"\"\"\n",
    "    \n",
    "    def __init__(self, config, source, bins=None):\n",
    "        \"\"\"\n",
    "        Invoke superclass to load photon data and exposure for the source.\n",
    "        Manage a list of cells\n",
    "        \"\"\"\n",
    "        super().__init__(config, source, )\n",
    "\n",
    "        self.source_name =source.name\n",
    "        self.verbose = config.verbose\n",
    "        self.use_uint8  = config.use_uint8\n",
    "        photon_data = self.p_df\n",
    "        \n",
    "        # exposure binned as well\n",
    "        self.fexposure, bins = self.binned_exposure( time_bins=bins, ) #bins, exposure)\n",
    "\n",
    "        # manage bins \n",
    "        self.N = len(bins)-1 # number of bins\n",
    "        self.bins = bins\n",
    "        self.bin_centers = 0.5*(bins[1:]+bins[:-1])\n",
    "        \n",
    "        # restrict photons to range of bin times\n",
    "        photons = photon_data.query(f'{bins[0]}<time<{bins[-1]}')\n",
    "\n",
    "        # get the photon data with good weights, not NaN\n",
    "        w = photons.weight\n",
    "        good = np.logical_not(np.isnan(w))\n",
    "        self.photons = photons.loc[good]\n",
    "        self.weights = w = self.photons.weight.values\n",
    "        \n",
    "        # estimates for averate signal and background per cell\n",
    "        self.S = np.sum(w)/self.N\n",
    "        self.B = np.sum(1-w)/self.N\n",
    "\n",
    "        # use photon times to get indices of bin edges\n",
    "        self._edges = np.searchsorted(self.photons.time, bins)\n",
    "\n",
    "    def __repr__(self):\n",
    "        return f'''{self.__class__}:\n",
    "        {len(self.fexposure)} intervals from {self.bins[0]:.1f} to {self.bins[-1]:.1f} for source {self.source_name}\n",
    "        S {self.S:.2f}  B {self.B:.2f} '''\n",
    "\n",
    "    def __getitem__(self, i):\n",
    "        \"\"\" get info for ith time bin and return dict with\n",
    "            t : MJD\n",
    "            tw: bin width,\n",
    "            e: exposure as fraction of total,\n",
    "            n : number of photons in bin\n",
    "            w : list of weights as uint8 integers<=255\n",
    "            S,B:  value\n",
    "        \"\"\"\n",
    "        k   = self._edges\n",
    "        w = self.weights[k[i]:k[i+1]]\n",
    "        wts = np.array(w*256, np.uint8) if self.use_uint8 else w\n",
    "        n = len(wts)\n",
    "        e = self.fexposure[i]\n",
    "        tw  = self.bins[i+1]-self.bins[i]\n",
    "\n",
    "        return dict(\n",
    "                t=self.bin_centers[i], # time\n",
    "                tw = tw,  # bin width\n",
    "                e=e, # moving to this name\n",
    "                n=n, # number of photons in bin\n",
    "                w=wts,\n",
    "                S= e *self.S,\n",
    "                B= e *self.B,\n",
    "                )\n",
    "\n",
    "    def __len__(self):\n",
    "        return self.N\n",
    "\n",
    "    @property\n",
    "    def dataframe(self):\n",
    "        \"\"\" combine all cells into a dataframe\n",
    "        \"\"\"\n",
    "        df = pd.DataFrame([cell for cell in self])\n",
    "        return df"
   ]
  },
  {
   "cell_type": "code",
   "execution_count": null,
   "id": "naked-pride",
   "metadata": {},
   "outputs": [
    {
     "name": "stdout",
     "output_type": "stream",
     "text": [
      "Converted 00_config.ipynb.\n",
      "Converted 01_data_man.ipynb.\n",
      "Converted 01_effective_area.ipynb.\n",
      "Converted 02-source_data.ipynb.\n",
      "Converted 02_gti.ipynb.\n",
      "Converted 03_exposure.ipynb.\n",
      "Converted 04_photon_data.ipynb.\n",
      "Converted 05_weights.ipynb.\n",
      "Converted 06_poisson.ipynb.\n",
      "Converted 07_cell_data.ipynb.\n",
      "Converted 07_cells.ipynb.\n",
      "Converted 08_loglike.ipynb.\n",
      "Converted 09_lightcurve.ipynb.\n",
      "Converted 10_simulation.ipynb.\n",
      "Converted 14_bayesian.ipynb.\n",
      "Converted index.ipynb.\n",
      "Mon Mar 29 17:17:53 PDT 2021\n"
     ]
    }
   ],
   "source": [
    "%nbdev_hide\n",
    "from nbdev.export import notebook2script\n",
    "notebook2script()\n",
    "!date"
   ]
  }
 ],
 "metadata": {
  "kernelspec": {
   "display_name": "Python 3",
   "language": "python",
   "name": "python3"
  }
 },
 "nbformat": 4,
 "nbformat_minor": 5
}
