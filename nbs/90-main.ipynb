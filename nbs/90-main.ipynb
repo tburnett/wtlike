{
 "cells": [
  {
   "cell_type": "code",
   "execution_count": null,
   "id": "711ba7d8-0277-48bf-a791-8cc4eb5aabec",
   "metadata": {},
   "outputs": [
    {
     "name": "stdout",
     "output_type": "stream",
     "text": [
      "Sun May  9 07:49:58 PDT 2021\n"
     ]
    }
   ],
   "source": [
    "# default_exp main\n",
    "from nbdev import *\n",
    "from utilities.ipynb_docgen import *\n",
    "!date"
   ]
  },
  {
   "cell_type": "markdown",
   "id": "27a77768-419e-44e3-b7b9-15dccc433383",
   "metadata": {},
   "source": [
    "# wtlike interface\n",
    "> Top-level interface to the rest of the package"
   ]
  },
  {
   "cell_type": "code",
   "execution_count": null,
   "id": "54028ffb-b51f-4110-8489-c2314ea36eae",
   "metadata": {},
   "outputs": [],
   "source": [
    "# export\n",
    "from wtlike.bayesian import get_bb_partition\n",
    "from wtlike.lightcurve import fit_cells, LightCurve, flux_plot\n",
    "from wtlike.cell_data import partition_cells\n",
    "\n",
    "class WtLike(LightCurve):\n",
    "    \"\"\"\n",
    "    Inherit from `LightCurve` and add Bayesian Block capability\n",
    "    \"\"\"\n",
    "    def bb_view(self, key=None, clear=False, **kwargs):\n",
    "        \"\"\"Return a view with the BB analysis applied\n",
    "        \n",
    "        Its `plot` function will by default show an overplot on the parent's data points.\n",
    "        \"\"\"\n",
    "        #  a new instance \n",
    "        r = self.view()\n",
    "        \n",
    "        # bb analysis on this to make new  set of cells and poisson fits\n",
    "        bb_edges  = get_bb_partition(self.config, self.fits,  key=key, clear=clear) \n",
    "        r.cells = partition_cells(self.config, self.cells, bb_edges)\n",
    "        \n",
    "        r.fits = fit_cells(self.config, r.cells, )\n",
    "        r.isBB = True\n",
    "        return r\n",
    "    \n",
    "    def plot(self, *pars, **kwargs):\n",
    "        \n",
    "        if getattr(self, 'isBB',  None) is None:\n",
    "            return super().plot(*pars, **kwargs)\n",
    "        else:\n",
    "            return self.plot_BB(*pars, **kwargs)\n",
    "            \n",
    "    def plot_BB(self, ax=None, **kwargs):\n",
    "        \"\"\"Plot the light curve with BB overplot\n",
    "        \"\"\"\n",
    "        import matplotlib.pyplot as plt\n",
    "\n",
    "        figsize = kwargs.pop('figsize', (12,4))\n",
    "        fignum = kwargs.pop('fignum', 1)\n",
    "        ts_min = kwargs.pop('ts_min',-1)\n",
    "        source_name =kwargs.pop('source_name', self.source_name)\n",
    "        fig, ax = ig, ax = plt.subplots(figsize=figsize, num=fignum) if ax is None else (ax.figure, ax)\n",
    "\n",
    "\n",
    "        colors = kwargs.pop('colors', ('lightblue', 'wheat', 'blue') )\n",
    "        flux_plot(self.config, self.parent.fits, ax=ax, colors=colors, source_name=source_name, \n",
    "                  label=self.step_name+' bins', **kwargs)\n",
    "        flux_plot(self.config, self.fits, ax=ax, step=True, \n",
    "                  label='BB overlay', zorder=10,**kwargs)\n",
    "\n",
    "        fig.set_facecolor('white')\n",
    "        return fig    \n"
   ]
  },
  {
   "cell_type": "code",
   "execution_count": null,
   "id": "2a973c9e-bf3e-43a9-adf8-09a0e0a56841",
   "metadata": {},
   "outputs": [
    {
     "data": {
      "text/markdown": [
       "<h2 id=\"WtLike\" class=\"doc_header\"><code>class</code> <code>WtLike</code><a href=\"\" class=\"source_link\" style=\"float:right\">[source]</a></h2>\n",
       "\n",
       "> <code>WtLike</code>(**\\*`pars`**, **\\*\\*`kwargs`**) :: [`LightCurve`](/wtlikelightcurve.html#LightCurve)\n",
       "\n",
       "Inherit from [`LightCurve`](/wtlikelightcurve.html#LightCurve) and add Bayesian Block capability"
      ],
      "text/plain": [
       "<IPython.core.display.Markdown object>"
      ]
     },
     "metadata": {},
     "output_type": "display_data"
    }
   ],
   "source": [
    "show_doc(WtLike)"
   ]
  },
  {
   "cell_type": "code",
   "execution_count": null,
   "id": "e8a76e26-aafc-4297-bda6-1709888ae0bd",
   "metadata": {},
   "outputs": [
    {
     "name": "stdout",
     "output_type": "stream",
     "text": [
      "SourceData: photons and exposure for 3C 279: Restoring from cache with key \"3C 279_data\"\n",
      "WtLike: Source 3C 279 with:\n",
      "\t data:       179,712 photons from   2008-08-04 to 2021-05-05\n",
      "\t exposure: 2,818,132 intervals from 2008-08-04 to 2021-05-06\n",
      "CellData: Bin photon data into 665 1-week bins from 54683.0 to 59338.0\n",
      "LightCurve: select 656 cells for fitting with e>0.5 & n>2\n"
     ]
    },
    {
     "data": {
      "text/markdown": [
       "## Test/Demonstration with 3C 279\n",
       "\n",
       "> Note that this also demonstrates using `nbdoc` to have a single Jupyterlab cell generate a document\n",
       "\n",
       "First, the weekly light curve:\n",
       "{out1}    <figure style=\"margin-left: 5%\" title=\"Figure 1\">  <a href=\"images/demo_fig_01.png\" title=\"images/demo_fig_01.png\">    <img src=\"images/demo_fig_01.png\" alt=\"Figure 1 at images/demo_fig_01.png\" width=600>   </a>  <figcaption><b>Figure 1</b>. Full scale</figcaption></figure>\n",
       "\n",
       "Replot the figure with an expanded scale to see position of a flare:\n",
       "<figure style=\"margin-left: 5%\" title=\"Figure 2\">  <a href=\"images/demo_fig_02.png\" title=\"images/demo_fig_02.png\">    <img src=\"images/demo_fig_02.png\" alt=\"Figure 2 at images/demo_fig_02.png\" width=600>   </a> </figure>\n",
       "<details  class=\"nbdoc-description\" >  <summary> Define orbit-based subset around large flare at MJD 57189 </summary>  <div style=\"margin-left: 5%\"><pre>CellData: Bin photon data into 80 orbit-based bins from 57186.1 to 57191.0<br>LightCurve: select 61 cells for fitting with e&gt;0.5 & n&gt;2<br></pre></div> </details>    <figure style=\"margin-left: 5%\" title=\"Figure 3\">  <a href=\"images/demo_fig_03.png\" title=\"images/demo_fig_03.png\">    <img src=\"images/demo_fig_03.png\" alt=\"Figure 3 at images/demo_fig_03.png\" width=600>   </a> </figure>\n",
       "<details  class=\"nbdoc-description\" >  <summary> Apply BB and overplot it with the cells on which it is based </summary>  <div style=\"margin-left: 5%\"><pre>LightCurve: select 61 cells for fitting with e&gt;0.5 & n&gt;2<br>Partitioned 61 cells into 10 blocks, using LikelihoodFitness <br>LightCurve: Loaded 10 / 10 cells for fitting<br></pre></div> </details>    <figure style=\"margin-left: 5%\" title=\"Figure 4\">  <a href=\"images/demo_fig_04.png\" title=\"images/demo_fig_04.png\">    <img src=\"images/demo_fig_04.png\" alt=\"Figure 4 at images/demo_fig_04.png\" width=600>   </a> </figure>\n",
       "\n",
       "Table of BB fits\n",
       "<div>\n",
       "<style scoped>\n",
       "    .dataframe tbody tr th:only-of-type {\n",
       "        vertical-align: middle;\n",
       "    }\n",
       "\n",
       "    .dataframe tbody tr th {\n",
       "        vertical-align: top;\n",
       "    }\n",
       "\n",
       "    .dataframe thead th {\n",
       "        text-align: right;\n",
       "    }\n",
       "</style>\n",
       "<table border=\"1\" class=\"dataframe\">\n",
       "  <thead>\n",
       "    <tr style=\"text-align: right;\">\n",
       "      <th>t</th>\n",
       "      <th>tw</th>\n",
       "      <th>n</th>\n",
       "      <th>ts</th>\n",
       "      <th>flux</th>\n",
       "      <th>errors</th>\n",
       "      <th>limit</th>\n",
       "    </tr>\n",
       "  </thead>\n",
       "  <tbody>\n",
       "    <tr>\n",
       "      <td>57186.116</td>\n",
       "      <td>0.017</td>\n",
       "      <td>3</td>\n",
       "      <td>12.800</td>\n",
       "      <td>1.498</td>\n",
       "      <td>(-0.745, 1.096)</td>\n",
       "      <td>4.006</td>\n",
       "    </tr>\n",
       "    <tr>\n",
       "      <td>57186.253</td>\n",
       "      <td>0.025</td>\n",
       "      <td>11</td>\n",
       "      <td>19.200</td>\n",
       "      <td>2.693</td>\n",
       "      <td>(-0.998, 1.264)</td>\n",
       "      <td>5.260</td>\n",
       "    </tr>\n",
       "    <tr>\n",
       "      <td>57186.385</td>\n",
       "      <td>0.026</td>\n",
       "      <td>10</td>\n",
       "      <td>21.300</td>\n",
       "      <td>2.743</td>\n",
       "      <td>(-0.989, 1.246)</td>\n",
       "      <td>5.263</td>\n",
       "    </tr>\n",
       "    <tr>\n",
       "      <td>...</td>\n",
       "      <td>...</td>\n",
       "      <td>...</td>\n",
       "      <td>...</td>\n",
       "      <td>...</td>\n",
       "      <td>...</td>\n",
       "      <td>...</td>\n",
       "    </tr>\n",
       "    <tr>\n",
       "      <td>57190.831</td>\n",
       "      <td>0.012</td>\n",
       "      <td>9</td>\n",
       "      <td>29.100</td>\n",
       "      <td>3.833</td>\n",
       "      <td>(-1.332, 1.695)</td>\n",
       "      <td>7.289</td>\n",
       "    </tr>\n",
       "    <tr>\n",
       "      <td>57190.898</td>\n",
       "      <td>0.009</td>\n",
       "      <td>4</td>\n",
       "      <td>5.700</td>\n",
       "      <td>1.792</td>\n",
       "      <td>(-1.028, 1.527)</td>\n",
       "      <td>5.314</td>\n",
       "    </tr>\n",
       "    <tr>\n",
       "      <td>57190.966</td>\n",
       "      <td>0.006</td>\n",
       "      <td>3</td>\n",
       "      <td>2.700</td>\n",
       "      <td>2.005</td>\n",
       "      <td>(-1.435, 2.221)</td>\n",
       "      <td>7.306</td>\n",
       "    </tr>\n",
       "  </tbody>\n",
       "</table>\n",
       "</div>\n",
       "\n",
       "This can be compared with Figure 4 from the [Kerr paper](https://arxiv.org/pdf/1910.00140.pdf)\n",
       "<figure style=\"margin-left: 5%\" title=\"Figure 5\">  <a href=\"images/demo_fig_05.png\" title=\"images/demo_fig_05.png\">    <img src=\"images/demo_fig_05.png\" alt=\"Figure 5 at images/demo_fig_05.png\" width=600>   </a> </figure>\n"
      ],
      "text/plain": [
       "<utilities.ipynb_docgen.doc_formatter.<locals>.MimeBundleObject at 0x7fc6f4ee5450>"
      ]
     },
     "metadata": {},
     "output_type": "display_data"
    }
   ],
   "source": [
    "#collapse_input\n",
    "full = None\n",
    "# code for the demo--this shouid be collapsed\n",
    "def demo():\n",
    "    \"\"\"\n",
    "    ## Test/Demonstration with 3C 279\n",
    "    \n",
    "    > Note that this also demonstrates using `nbdoc` to have a single Jupyterlab cell generate a document\n",
    "    \n",
    "    First, the weekly light curve:\n",
    "    {out1}    {fig1}\n",
    "    \n",
    "    Replot the figure with an expanded scale to see position of a flare:\n",
    "    {fig2}\n",
    "    {out3}    {fig3}\n",
    "    {out4}    {fig4}\n",
    "    \n",
    "    Table of BB fits\n",
    "    {bb_table}\n",
    "    \n",
    "    This can be compared with Figure 4 from the [Kerr paper](https://arxiv.org/pdf/1910.00140.pdf)\n",
    "    {kerr_fig4}\n",
    "    \"\"\"\n",
    "    global full\n",
    "    \n",
    "    #with capture_print('Create full weekly light curve') as out1:\n",
    "    full = WtLike('3C 279')\n",
    "    \n",
    "    fig1 = figure(\n",
    "        full.plot(yscale='log', ylim=(0.2,20), ts_min=4, figsize=(15,5), xlabel='MJD', fmt='.', fignum=1),\n",
    "        caption='Full scale', width=600)  \n",
    "    \n",
    "    fig2 = figure(\n",
    "        full.plot(  figsize=(15,5), xlabel='MJD', fmt='o', fignum=2,  xlim=(57100, 57300),),\n",
    "        width=600)  \n",
    "    \n",
    "    with capture_print('Define orbit-based subset around large flare at MJD 57189') as out3:\n",
    "        orbit = full.view((57186, 57191, 0))\n",
    "    fig3 = figure(\n",
    "        orbit.plot(fmt='o', tzero=57186,  ts_min=4,   fignum=3 ),\n",
    "            width=600)\n",
    "    \n",
    "    with capture_print('Apply BB and overplot it with the cells on which it is based') as out4:\n",
    "        bborbit = orbit.bb_view()\n",
    "    fig4 = figure(\n",
    "        bborbit.plot(fmt='o', tzero=57186,  ts_min=4,   fignum=4),\n",
    "                width=600)\n",
    "    \n",
    "    bb_table = orbit.fluxes\n",
    "    \n",
    "    kerr_fig4 = image('kerr_fig4.png', width=600, caption=None)\n",
    "    return locals()\n",
    "\n",
    "nbdoc(demo)"
   ]
  },
  {
   "cell_type": "code",
   "execution_count": null,
   "id": "2dc074b7-7820-4c1a-b2de-96186aac0f0d",
   "metadata": {},
   "outputs": [
    {
     "name": "stdout",
     "output_type": "stream",
     "text": [
      "Converted 00_config.ipynb.\n",
      "Converted 01_data_man.ipynb.\n",
      "Converted 02_effective_area.ipynb.\n",
      "Converted 03_weights.ipynb.\n",
      "Converted 04_source_data.ipynb.\n",
      "Converted 06_poisson.ipynb.\n",
      "Converted 07_loglike.ipynb.\n",
      "Converted 08_cell_data.ipynb.\n",
      "Converted 09_lightcurve.ipynb.\n",
      "Converted 10_simulation.ipynb.\n",
      "Converted 14_bayesian.ipynb.\n",
      "Converted 90-main.ipynb.\n",
      "Converted 99_tutorial.ipynb.\n",
      "Converted index.ipynb.\n",
      "Sun May  9 07:50:06 PDT 2021\n"
     ]
    }
   ],
   "source": [
    "#hide\n",
    "from nbdev.export import notebook2script\n",
    "notebook2script()\n",
    "!date"
   ]
  },
  {
   "cell_type": "code",
   "execution_count": null,
   "id": "2054d4c3-2a90-4eb7-9123-b69de0b69256",
   "metadata": {},
   "outputs": [
    {
     "data": {
      "text/plain": [
       "WtLike: Source 3C 279 with:\n",
       "\t data:       179,712 photons from   2008-08-04 to 2021-05-05\n",
       "\t exposure: 2,818,132 intervals from 2008-08-04 to 2021-05-06"
      ]
     },
     "execution_count": null,
     "metadata": {},
     "output_type": "execute_result"
    }
   ],
   "source": [
    "full"
   ]
  },
  {
   "cell_type": "code",
   "execution_count": null,
   "id": "d31bc380-ed9a-49dc-b3c7-bd753d538204",
   "metadata": {},
   "outputs": [
    {
     "data": {
      "text/html": [
       "<div>\n",
       "<style scoped>\n",
       "    .dataframe tbody tr th:only-of-type {\n",
       "        vertical-align: middle;\n",
       "    }\n",
       "\n",
       "    .dataframe tbody tr th {\n",
       "        vertical-align: top;\n",
       "    }\n",
       "\n",
       "    .dataframe thead th {\n",
       "        text-align: right;\n",
       "    }\n",
       "</style>\n",
       "<table border=\"1\" class=\"dataframe\">\n",
       "  <thead>\n",
       "    <tr style=\"text-align: right;\">\n",
       "      <th></th>\n",
       "      <th>start</th>\n",
       "      <th>stop</th>\n",
       "      <th>exp</th>\n",
       "      <th>cos_theta</th>\n",
       "    </tr>\n",
       "  </thead>\n",
       "  <tbody>\n",
       "    <tr>\n",
       "      <th>0</th>\n",
       "      <td>54682.66</td>\n",
       "      <td>54682.66</td>\n",
       "      <td>33832.34</td>\n",
       "      <td>0.41</td>\n",
       "    </tr>\n",
       "    <tr>\n",
       "      <th>1</th>\n",
       "      <td>54682.66</td>\n",
       "      <td>54682.66</td>\n",
       "      <td>39150.90</td>\n",
       "      <td>0.43</td>\n",
       "    </tr>\n",
       "    <tr>\n",
       "      <th>2</th>\n",
       "      <td>54682.66</td>\n",
       "      <td>54682.66</td>\n",
       "      <td>44531.65</td>\n",
       "      <td>0.46</td>\n",
       "    </tr>\n",
       "    <tr>\n",
       "      <th>3</th>\n",
       "      <td>54682.66</td>\n",
       "      <td>54682.66</td>\n",
       "      <td>50201.69</td>\n",
       "      <td>0.48</td>\n",
       "    </tr>\n",
       "    <tr>\n",
       "      <th>4</th>\n",
       "      <td>54682.66</td>\n",
       "      <td>54682.66</td>\n",
       "      <td>55694.77</td>\n",
       "      <td>0.50</td>\n",
       "    </tr>\n",
       "    <tr>\n",
       "      <th>...</th>\n",
       "      <td>...</td>\n",
       "      <td>...</td>\n",
       "      <td>...</td>\n",
       "      <td>...</td>\n",
       "    </tr>\n",
       "    <tr>\n",
       "      <th>2818127</th>\n",
       "      <td>59340.00</td>\n",
       "      <td>59340.00</td>\n",
       "      <td>50579.01</td>\n",
       "      <td>0.48</td>\n",
       "    </tr>\n",
       "    <tr>\n",
       "      <th>2818128</th>\n",
       "      <td>59340.00</td>\n",
       "      <td>59340.00</td>\n",
       "      <td>45982.22</td>\n",
       "      <td>0.46</td>\n",
       "    </tr>\n",
       "    <tr>\n",
       "      <th>2818129</th>\n",
       "      <td>59340.00</td>\n",
       "      <td>59340.00</td>\n",
       "      <td>41702.61</td>\n",
       "      <td>0.44</td>\n",
       "    </tr>\n",
       "    <tr>\n",
       "      <th>2818130</th>\n",
       "      <td>59340.00</td>\n",
       "      <td>59340.00</td>\n",
       "      <td>37474.52</td>\n",
       "      <td>0.43</td>\n",
       "    </tr>\n",
       "    <tr>\n",
       "      <th>2818131</th>\n",
       "      <td>59340.00</td>\n",
       "      <td>59340.00</td>\n",
       "      <td>33357.23</td>\n",
       "      <td>0.41</td>\n",
       "    </tr>\n",
       "  </tbody>\n",
       "</table>\n",
       "<p>2818132 rows × 4 columns</p>\n",
       "</div>"
      ],
      "text/plain": [
       "            start      stop       exp  cos_theta\n",
       "0        54682.66  54682.66  33832.34       0.41\n",
       "1        54682.66  54682.66  39150.90       0.43\n",
       "2        54682.66  54682.66  44531.65       0.46\n",
       "3        54682.66  54682.66  50201.69       0.48\n",
       "4        54682.66  54682.66  55694.77       0.50\n",
       "...           ...       ...       ...        ...\n",
       "2818127  59340.00  59340.00  50579.01       0.48\n",
       "2818128  59340.00  59340.00  45982.22       0.46\n",
       "2818129  59340.00  59340.00  41702.61       0.44\n",
       "2818130  59340.00  59340.00  37474.52       0.43\n",
       "2818131  59340.00  59340.00  33357.23       0.41\n",
       "\n",
       "[2818132 rows x 4 columns]"
      ]
     },
     "execution_count": null,
     "metadata": {},
     "output_type": "execute_result"
    }
   ],
   "source": [
    "full.exposure"
   ]
  },
  {
   "cell_type": "code",
   "execution_count": null,
   "id": "40bb6409-fc2e-4568-baf9-9ae8081c096b",
   "metadata": {},
   "outputs": [],
   "source": [
    "def rates(full):\n",
    "    print(f'Average rates for {full.source.name}: signal {full.S/full.exptot:.2e}/s, background {full.B/full.exptot:.2e}/s')"
   ]
  },
  {
   "cell_type": "code",
   "execution_count": null,
   "id": "c01d4e57-935d-4cff-ab87-f7afd83a2dd6",
   "metadata": {},
   "outputs": [
    {
     "name": "stdout",
     "output_type": "stream",
     "text": [
      "Average rates for 3C 279: signal 4.03e-07/s, background 3.25e-07/s\n"
     ]
    }
   ],
   "source": [
    "rates(full)"
   ]
  },
  {
   "cell_type": "code",
   "execution_count": null,
   "id": "635cf65d-a710-494c-9e59-281132b5f1d7",
   "metadata": {},
   "outputs": [
    {
     "name": "stdout",
     "output_type": "stream",
     "text": [
      "SourceData: photons and exposure for Geminga: Restoring from cache with key \"Geminga_data\"\n",
      "WtLike: Source Geminga with:\n",
      "\t data:     1,213,841 photons from   2008-08-04 to 2021-05-05\n",
      "\t exposure: 3,117,669 intervals from 2008-08-04 to 2021-05-06\n",
      "CellData: Bin photon data into 665 1-week bins from 54683.0 to 59338.0\n",
      "LightCurve: select 656 cells for fitting with e>0.5 & n>2\n",
      "Average rates for Geminga: signal 3.28e-06/s, background 1.25e-06/s\n"
     ]
    }
   ],
   "source": [
    "rates(WtLike('Geminga'))"
   ]
  },
  {
   "cell_type": "code",
   "execution_count": null,
   "id": "ef517092-2827-4159-b005-f6e6594824d1",
   "metadata": {},
   "outputs": [],
   "source": []
  }
 ],
 "metadata": {
  "kernelspec": {
   "display_name": "Python 3",
   "language": "python",
   "name": "python3"
  }
 },
 "nbformat": 4,
 "nbformat_minor": 5
}
