{
 "cells": [
  {
   "cell_type": "raw",
   "id": "a79940a6",
   "metadata": {},
   "source": [
    "---\n",
    "description: Combine the FT2 spacecraft livetime information with the effective area\n",
    "  to produce exposure for a given direction and spectrum\n",
    "output-file: exposure.html\n",
    "title: Exposure processing\n",
    "\n",
    "---\n",
    "\n"
   ]
  },
  {
   "cell_type": "code",
   "execution_count": 1,
   "id": "70d1527f-5bc9-4d24-8065-24e877ba720c",
   "metadata": {},
   "outputs": [
    {
     "name": "stdout",
     "output_type": "stream",
     "text": [
      "Fri Mar  3 00:12:19 PST 2023\n"
     ]
    }
   ],
   "source": [
    "#| default_exp exposure\n",
    "%reload_ext autoreload\n",
    "%autoreload 2\n",
    "from nbdev.showdoc import show_doc\n",
    "import matplotlib.pyplot as plt\n",
    "plt.rc('figure',facecolor='white')\n",
    "!date"
   ]
  },
  {
   "cell_type": "markdown",
   "id": "222081f4-7d16-4ff3-9a33-2b806ae7e781",
   "metadata": {},
   "source": [
    "The spacecraft information is a list, for 30-s intervals, of the livetime and instrument $\\theta$ of the source. \n",
    "We need a weighted effective area\n",
    "as a function of $\\theta$. This requires a weighting function of energy, or a spectrum. Matthew used a simple power law with index -2.1. implemented in by the class `KerrAeff`. But here we have the actual source spectrum available. Also, the data here excludes low-energy Back events the class `SourceAeff` uses both."
   ]
  },
  {
   "cell_type": "markdown",
   "id": "3920161b-4f4e-4f7a-8979-83c8e1dcdbb1",
   "metadata": {
    "tags": []
   },
   "source": [
    "## Implemented here:\n",
    "\n",
    "* `time_bin_edges`\n",
    "* `cell_exposure`\n",
    "* `sc_data_selection`\n",
    "* `binned_exposure`\n"
   ]
  },
  {
   "cell_type": "code",
   "execution_count": 2,
   "id": "c1b0efb8-4445-458b-9745-e6904ef24f12",
   "metadata": {
    "tags": []
   },
   "outputs": [],
   "source": [
    "#| export\n",
    "import pandas as pd\n",
    "import numpy as np\n",
    "\n",
    "from wtlike.config import (Config, UTC, MJD)\n",
    "from wtlike.effective_area import EffectiveArea"
   ]
  },
  {
   "cell_type": "code",
   "execution_count": 3,
   "id": "d76a34ba-f0d3-4b29-970d-d7add8eb4caa",
   "metadata": {},
   "outputs": [],
   "source": [
    "#| export  \n",
    "def time_bin_edges(config, exposure, tbin=None):\n",
    "    \"\"\"Return an interleaved array of start/stop values\n",
    "\n",
    "    tbin: an array (a,b,d), default config.time_bins\n",
    "\n",
    "    interpretation of a, b:\n",
    "\n",
    "        if > 50000: interpret as MJD\n",
    "        if < 0:     offset from stop\n",
    "        otherwise:  offset from start\n",
    "\n",
    "    d : if positive, the day bin size\n",
    "        if 0; return contiguous bins\n",
    "\n",
    "\n",
    "    \"\"\"\n",
    "    # nominal total range, MJD edges\n",
    "    tstart = start = np.round(exposure.start.values[0])\n",
    "    stop =  np.round(exposure.stop.values[-1])\n",
    "\n",
    "    a, b, step = tbin if tbin is not None else config.time_bins\n",
    "\n",
    "\n",
    "    if a>50000: start=a\n",
    "    elif a<0: start = stop+a\n",
    "    else : start = tstart + a\n",
    "\n",
    "    if b>50000: stop=b\n",
    "    elif b>0: stop = tstart+b\n",
    "    else: stop += b\n",
    "\n",
    "    if step<=0:\n",
    "        return contiguous_bins(exposure.query(f'{start}<start<{stop}'),)\n",
    "\n",
    "    # adjust stop\n",
    "    nbins = int((stop-start)/step)\n",
    "    assert nbins>0, 'Bad binning: no bins'\n",
    "    stop = start+(nbins)*step\n",
    "    u =  np.linspace(start,stop, nbins+1 )\n",
    "\n",
    "    # make an interleaved start/stop array\n",
    "    v = np.empty(2*nbins, float)\n",
    "    v[0::2] = u[:-1]\n",
    "    v[1::2] = u[1:]\n",
    "    return v"
   ]
  },
  {
   "cell_type": "code",
   "execution_count": 4,
   "id": "41bd688b-149b-4ef7-bab1-34e5e0c047d4",
   "metadata": {},
   "outputs": [
    {
     "data": {
      "text/markdown": [
       "---\n",
       "\n",
       "[source](https://github.com/tburnett/wtlike/tree/master/blob/master/wtlike/exposure.py#L15){target=\"_blank\" style=\"float:right; font-size:smaller\"}\n",
       "\n",
       "### time_bin_edges\n",
       "\n",
       ">      time_bin_edges (config, exposure, tbin=None)\n",
       "\n",
       "Return an interleaved array of start/stop values\n",
       "\n",
       "tbin: an array (a,b,d), default config.time_bins\n",
       "\n",
       "interpretation of a, b:\n",
       "\n",
       "    if > 50000: interpret as MJD\n",
       "    if < 0:     offset from stop\n",
       "    otherwise:  offset from start\n",
       "\n",
       "d : if positive, the day bin size\n",
       "    if 0; return contiguous bins"
      ],
      "text/plain": [
       "---\n",
       "\n",
       "[source](https://github.com/tburnett/wtlike/tree/master/blob/master/wtlike/exposure.py#L15){target=\"_blank\" style=\"float:right; font-size:smaller\"}\n",
       "\n",
       "### time_bin_edges\n",
       "\n",
       ">      time_bin_edges (config, exposure, tbin=None)\n",
       "\n",
       "Return an interleaved array of start/stop values\n",
       "\n",
       "tbin: an array (a,b,d), default config.time_bins\n",
       "\n",
       "interpretation of a, b:\n",
       "\n",
       "    if > 50000: interpret as MJD\n",
       "    if < 0:     offset from stop\n",
       "    otherwise:  offset from start\n",
       "\n",
       "d : if positive, the day bin size\n",
       "    if 0; return contiguous bins"
      ]
     },
     "execution_count": 4,
     "metadata": {},
     "output_type": "execute_result"
    }
   ],
   "source": [
    "show_doc(time_bin_edges)"
   ]
  },
  {
   "cell_type": "code",
   "execution_count": 5,
   "id": "6409acba-7920-4842-9b98-eed8805f70a1",
   "metadata": {},
   "outputs": [],
   "source": [
    "#| export\n",
    "def cell_exposure(config, exposure, time_bins, exposure_factor=1e-6, set_costh=False):\n",
    "    \"\"\"\n",
    "    Determine the exposure per cell\n",
    "    input:\n",
    "    - exposure -- dataframe with spacecraft data\n",
    "    - time_bins -- time binning (start, stop, step) tuple\n",
    "\n",
    "    Return: a dict of\n",
    "    - edges -- list of cell edges, an interleaved array of start/stop values\n",
    "    - exp -- exposure per cell, in cm^2 Ms units, if exposure_factor==1e-6\n",
    "    - etot -- total exposure\n",
    "    - costh -- mean cos theta per cell if requested\n",
    "    - exp_energy if exp_fract in the exposure DF, set exposure energy\n",
    "\n",
    "    Note: total exposure vs. energy is:\n",
    "        t = df.apply(lambda r: np.array(r.exp * np.array(r.exp_fract), float), axis=1).values\n",
    "        u = np.vstack(t)\n",
    "    \"\"\"\n",
    "    exp = exposure.exp.values\n",
    "\n",
    "    etot = np.sum(exp) * exposure_factor\n",
    "\n",
    "    cell_edges = time_bin_edges(config, exposure, time_bins)\n",
    "    # the cell index list\n",
    "    eci = np.searchsorted(exposure.stop, cell_edges).reshape(len(cell_edges)//2,2)\n",
    "    cell_exp = np.array([exp[slice(*ecx)].sum()*exposure_factor for ecx in eci], np.float32) #np.float32)\n",
    "\n",
    "    ret = dict(exp=cell_exp, edges=cell_edges, etot=etot)\n",
    "\n",
    "    if set_costh:\n",
    "        costh = exposure.cos_theta.values\n",
    "        ret['costh'] =np.array([costh[slice(*ecx)].mean() for ecx in eci], np.float32)\n",
    "\n",
    "\n",
    "    ef = exposure.get('exp_fract', None)\n",
    "    if ef is not None:\n",
    "        efa = np.array([np.array(x,float) for x in ef])\n",
    "        efe = efa.T * exp\n",
    "        ret['exp_energy'] = np.array([efe.T[slice(*ecx)].sum(axis=0)*exposure_factor for ecx in eci], np.float32)\n",
    "\n",
    "    return ret"
   ]
  },
  {
   "cell_type": "code",
   "execution_count": 6,
   "id": "e3d224df-147f-47ec-b3c6-c7b8455d3070",
   "metadata": {},
   "outputs": [
    {
     "data": {
      "text/markdown": [
       "---\n",
       "\n",
       "[source](https://github.com/tburnett/wtlike/tree/master/blob/master/wtlike/exposure.py#L62){target=\"_blank\" style=\"float:right; font-size:smaller\"}\n",
       "\n",
       "### cell_exposure\n",
       "\n",
       ">      cell_exposure (config, exposure, time_bins, exposure_factor=1e-06,\n",
       ">                     set_costh=False)\n",
       "\n",
       "Determine the exposure per cell\n",
       "input:\n",
       "- exposure -- dataframe with spacecraft data\n",
       "- time_bins -- time binning (start, stop, step) tuple\n",
       "\n",
       "Return: a dict of\n",
       "- edges -- list of cell edges, an interleaved array of start/stop values\n",
       "- exp -- exposure per cell, in cm^2 Ms units, if exposure_factor==1e-6\n",
       "- etot -- total exposure\n",
       "- costh -- mean cos theta per cell if requested\n",
       "- exp_energy if exp_fract in the exposure DF, set exposure energy\n",
       "\n",
       "Note: total exposure vs. energy is:\n",
       "    t = df.apply(lambda r: np.array(r.exp * np.array(r.exp_fract), float), axis=1).values\n",
       "    u = np.vstack(t)"
      ],
      "text/plain": [
       "---\n",
       "\n",
       "[source](https://github.com/tburnett/wtlike/tree/master/blob/master/wtlike/exposure.py#L62){target=\"_blank\" style=\"float:right; font-size:smaller\"}\n",
       "\n",
       "### cell_exposure\n",
       "\n",
       ">      cell_exposure (config, exposure, time_bins, exposure_factor=1e-06,\n",
       ">                     set_costh=False)\n",
       "\n",
       "Determine the exposure per cell\n",
       "input:\n",
       "- exposure -- dataframe with spacecraft data\n",
       "- time_bins -- time binning (start, stop, step) tuple\n",
       "\n",
       "Return: a dict of\n",
       "- edges -- list of cell edges, an interleaved array of start/stop values\n",
       "- exp -- exposure per cell, in cm^2 Ms units, if exposure_factor==1e-6\n",
       "- etot -- total exposure\n",
       "- costh -- mean cos theta per cell if requested\n",
       "- exp_energy if exp_fract in the exposure DF, set exposure energy\n",
       "\n",
       "Note: total exposure vs. energy is:\n",
       "    t = df.apply(lambda r: np.array(r.exp * np.array(r.exp_fract), float), axis=1).values\n",
       "    u = np.vstack(t)"
      ]
     },
     "execution_count": 6,
     "metadata": {},
     "output_type": "execute_result"
    }
   ],
   "source": [
    "show_doc(cell_exposure)"
   ]
  },
  {
   "cell_type": "code",
   "execution_count": 7,
   "id": "91c23666-3db6-4408-a558-ca8ccdfb57aa",
   "metadata": {},
   "outputs": [],
   "source": [
    "#| exporti\n",
    "def sc_process(config, source, sc_data):\n",
    "\n",
    "    \"\"\"\n",
    "    - source -- contains ra, dec in degrees\n",
    "    - sc_data -- DF constructed from spacecraft data (FT2).\n",
    "\n",
    "    Return: a dict with the S/C data for the source direction, wtih cos theta and zenith cuts\n",
    "\n",
    "    columns:\n",
    "    - start, stop, livetime -- from the FT2 info\n",
    "    - cos_theta -- angle between bore and direction\n",
    "    \"\"\"\n",
    "\n",
    "    # calculate cosines with respect to sky direction\n",
    "    ra_r,dec_r = np.radians(source.ra), np.radians(source.dec)\n",
    "    sdec, cdec = np.sin(dec_r), np.cos(dec_r)\n",
    "\n",
    "    def cosines( ra2, dec2):\n",
    "        ra2_r =  np.radians(ra2.values)\n",
    "        dec2_r = np.radians(dec2.values)\n",
    "        return np.cos(dec2_r)*cdec*np.cos(ra_r-ra2_r) + np.sin(dec2_r)*sdec\n",
    "\n",
    "    cos_thetas = cosines(sc_data.ra_scz,    sc_data.dec_scz)\n",
    "    zcosines = cosines(sc_data.ra_zenith, sc_data.dec_zenith)\n",
    "    # mask out entries too close to zenith, or too far away from ROI center\n",
    "    mask =   (cos_thetas >= config.cos_theta_max) & (zcosines>=np.cos(np.radians(config.z_max)))\n",
    "    if config.verbose>1:\n",
    "        print(f'\\tFound {len(mask):,} S/C entries:  {sum(mask):,} remain after zenith and theta cuts')\n",
    "    dfm = sc_data.loc[mask,:]\n",
    "    livetime = dfm.livetime.values\n",
    "\n",
    "    return  pd.DataFrame(\n",
    "        dict(\n",
    "            start=sc_data.start[mask].astype(np.float64),\n",
    "            stop=sc_data.stop[mask].astype(np.float64),\n",
    "            livetime=livetime,\n",
    "            cos_theta=cos_thetas[mask],\n",
    "            )\n",
    "         )"
   ]
  },
  {
   "cell_type": "code",
   "execution_count": 8,
   "id": "76b774fb-ddb8-4808-8ce6-41d8e49b7b1e",
   "metadata": {
    "tags": []
   },
   "outputs": [],
   "source": [
    "#| export\n",
    "from scipy.integrate import simpson\n",
    "\n",
    "def cumsimpson(y, dx):\n",
    "    \"\"\"Return the cumulative Simpson integral for an odd number>2 of equally-spaced evaluations\n",
    "     * y -- array of integrand values, 2n+1 values for 2n intervals\n",
    "     * dx -- interval size\n",
    "\n",
    "     Returns array of size n, the cumulative integral estimate for pairs of intervals.\n",
    "\n",
    "     >>> x, dx = np.linspace(0,1, 5), 1/4\n",
    "     >>> print(cumsimpson(x, dx))\n",
    "     >>> [0.125 0.5  ]\n",
    "    \"\"\"\n",
    "    v = np.empty((3*(len(y)-1)//2))\n",
    "    v[0::3] = y[0:-1:2]\n",
    "    v[1::3] = 4*y[1::2]\n",
    "    v[2::3] = y[2::2]\n",
    "    return (np.cumsum(v)*dx/3)[2::3]"
   ]
  },
  {
   "cell_type": "markdown",
   "id": "6bae8d53-9b1b-4227-947d-e2e194de1e3c",
   "metadata": {},
   "source": [
    "### Demonstrate superiority of integral using integrand  $x\\ f(x)\\  d\\log(x)$\n",
    "\n",
    "Instead of $f(x)\\ dx$."
   ]
  },
  {
   "cell_type": "code",
   "execution_count": 9,
   "id": "21f30afe-6e73-4cca-923b-f9b063bdbece",
   "metadata": {
    "tags": []
   },
   "outputs": [
    {
     "name": "stdout",
     "output_type": "stream",
     "text": [
      "Errors:\n",
      "\tLinear: -4.7e-03\n",
      "\tLog:    +3.8e-05\n"
     ]
    }
   ],
   "source": [
    "nbins = 16\n",
    "f = lambda x: x**-2\n",
    "ee = np.logspace(2,4,nbins+1)\n",
    "r = 1e-2-1e-4\n",
    "print(f'Errors:\\n\\tLinear: {simpson(f(ee), ee)/r-1:+6.1e}'\n",
    "      f'\\n\\tLog:    {simpson( f(ee)*ee, np.log(ee) )/r-1:+6.1e}')"
   ]
  },
  {
   "cell_type": "code",
   "execution_count": 10,
   "id": "6b5ae82c-f847-4384-ab25-8df1a08c5fb0",
   "metadata": {},
   "outputs": [],
   "source": [
    "#| include: false\n",
    "x = np.linspace(0,1,5)\n",
    "assert( np.all( cumsimpson(x, 1/4) == np.array([1/8,1/2]) ) ), 'Fail simple test'"
   ]
  },
  {
   "cell_type": "code",
   "execution_count": 11,
   "id": "0881b346-caa1-42cb-a744-26bfcdbc5670",
   "metadata": {},
   "outputs": [],
   "source": [
    "#| export\n",
    "from abc import abstractmethod\n",
    "\n",
    "class BaseAeff(object):\n",
    "    \"\"\"\n",
    "    Base class for calculating the weighted effective area\n",
    "\n",
    "    It defines a functor of `costh`, returning  the effective area weighted by a spectrum.\n",
    "    The exposure is then a sum over intervals of this weighted effective area times the livetime per interval.\n",
    "\n",
    "    A subclass must define a `setup` method to define the spectral function and minimum energy\n",
    "    to include Back events.\n",
    "    \"\"\"\n",
    "\n",
    "    # default energies to use for Simpson's integral: 8/decade from 100 MeV to 10 GeV\n",
    "    edom = np.logspace(2,4,17)\n",
    "\n",
    "    def __init__(self, config, source,\n",
    "                 elim:tuple=(1e2,1e4)):\n",
    "        self.elim = elim\n",
    "        self.source = source\n",
    "        self.Aeff = EffectiveArea(file_path=config.datapath/'aeff_files')\n",
    "        self.back_min =0 #??\n",
    "        self.setup()\n",
    "\n",
    "    @abstractmethod\n",
    "    def setup(self):\n",
    "        pass\n",
    "\n",
    "    def __call__(self, cos_theta) : #sc_data):\n",
    "        \"\"\"\n",
    "        Return the weighted effective area as a function of $\\\\cos( \\\\theta) $\n",
    "\n",
    "        \"\"\"\n",
    "        # as set by self.setup -- also self.back_min\n",
    "        edom = self.edom\n",
    "        wts = self.wts\n",
    "        cos_theta = np.atleast_1d(cos_theta)\n",
    "\n",
    "        # a table of the weights for each pair in spectral flux and cos_theta arrays\n",
    "        rvals = np.empty([len(wts),len(cos_theta)])\n",
    "\n",
    "        for i, (en,wt) in enumerate(zip(edom,wts)):\n",
    "            faeff, baeff = np.array(self.Aeff( [en], cos_theta ))\n",
    "            rvals[i] =  faeff * wt if en<self.back_min else  (faeff+baeff) * wt\n",
    "\n",
    "        from scipy.integrate import simpson\n",
    "        aeff = simpson(rvals, edom,axis=0) / simpson(wts,edom)\n",
    "\n",
    "        return aeff\n",
    "\n",
    "class KerrAeff(BaseAeff):\n",
    "    \"\"\"\n",
    "    Kerr implementation from godot, which uses a $E^{-2.1}$ powerlaw spectrum\n",
    "    \"\"\"\n",
    "\n",
    "    bins_per_decade: int=10\n",
    "    base_spectrum: str='lambda E: (E/1000)**-2.1'\n",
    "    energy_range: tuple =(100,1e4)# (100.,1e6)\n",
    "\n",
    "    def setup(self ):\n",
    "\n",
    "        \"\"\"set up energy domain, evaluate fluxes\n",
    "           This is the Kerr version, using a powerlaw spectrum\n",
    "        \"\"\"\n",
    "\n",
    "        emin,emax = self.energy_range\n",
    "        loge1=np.log10(emin); loge2=np.log10(emax)\n",
    "        self.edom= np.logspace(loge1, loge2, int((loge2-loge1)*self.bins_per_decade+1))\n",
    "\n",
    "        spectrum = eval(self.base_spectrum) #lambda E: (E/1000)**-2.1\n",
    "\n",
    "        self.wts = spectrum(self.edom) # * self.edom\n",
    "\n",
    "        # the threshold for including Back events\n",
    "        # should use default, this is what I was usinq\n",
    "        self.back_min=0\n",
    "\n",
    "class SourceAeff(BaseAeff):\n",
    "    \"\"\"\n",
    "    BaseAeff subclass that uses the actual source spectrum applied only to used bands\n",
    "    \"\"\"\n",
    "\n",
    "    def setup(self):\n",
    "        f = self.source.spectral_model\n",
    "        self.wts  = f(self.edom) #* self.edom\n",
    "        self.back_min=10**2.5"
   ]
  },
  {
   "cell_type": "code",
   "execution_count": 12,
   "id": "937a3bc4-b784-4441-b798-f6e2c7ac50a4",
   "metadata": {},
   "outputs": [],
   "source": [
    "#| export\n",
    "class WeightedAeff():\n",
    "    \"\"\"Manage the weighted effective area calculation\n",
    "    \"\"\"\n",
    "\n",
    "    def __init__(self, config=None,\n",
    "                 spectrum = None,\n",
    "                 nebins:int=16,\n",
    "                 imin:tuple=(0,0),\n",
    "                 **kwargs):\n",
    "        \"\"\"\n",
    "        \"\"\"\n",
    "        config = config or Config()\n",
    "        self.nebins = nebins\n",
    "        self.imin = imin\n",
    "        self.spectrum = spectrum or (lambda E: (E/1000)**-2.1)\n",
    "        self.Aeff = EffectiveArea(file_path=config.datapath/'aeff_files')\n",
    "        self.edom = np.logspace(2,4, self.nebins+1)\n",
    "        self.logedom = np.log(self.edom)\n",
    "        self.dx = dx = np.log(self.edom[-1]/self.edom[0])/self.nebins;\n",
    "        self.wts  = self.spectrum(self.edom)\n",
    "        self.xwts = self.wts*self.edom\n",
    "        self.norm = simpson(self.xwts, dx=dx)\n",
    "\n",
    "    def cumintegral(self, aeff, start=0):\n",
    "        r = cumsimpson((aeff*self.xwts)[start:], dx=self.dx)/self.norm\n",
    "        if start==0: return r\n",
    "        return np.insert(r, 0, [0]*(start//2))\n",
    "\n",
    "    def cumint(self, costh):\n",
    "        costh = np.atleast_1d(costh)\n",
    "\n",
    "        r = [ np.array([self.cumintegral( a, start)\n",
    "                 for start,a in zip(\n",
    "                     self.imin, np.array(self.Aeff(self.edom,  z))) ]).sum(axis=0)\n",
    "             for z in costh]\n",
    "        return  np.array(r)\n",
    "\n",
    "    def __call__(self, costh):\n",
    "        return self.cumint(costh)[:,-1]\n",
    "\n",
    "    def binned(self, costh):\n",
    "        \"\"\"Split it into 8 bins    \"\"\"\n",
    "        costh = np.atleast_1d(costh)\n",
    "        # costh = np.atleast_1d(costh)\n",
    "        # r = [np.diff(np.insert(self.cumint(z),0,0)) for z in costh]\n",
    "        # return np.array(r)\n",
    "        return np.diff(np.insert(self.cumint(costh),0,0,axis=1))\n",
    "\n",
    "    def beam_window(self, lmax=12):\n",
    "        \"\"\" Return an array of Legendre coefficients\n",
    "            Corresponds to a healpy \"beam_window\" function\n",
    "        \"\"\"\n",
    "\n",
    "        import healpy\n",
    "        func2 = lambda z : np.where( z>0.2, self(z), 0)\n",
    "        lmax=12\n",
    "        theta = np.linspace(0,np.pi,181)\n",
    "        z = np.cos(theta)\n",
    "        bl = healpy.sphtfunc.beam2bl(func2(z), theta, lmax=lmax);\n",
    "        return bl\n",
    "\n",
    "class NewSourceAeff(WeightedAeff):\n",
    "    def __init__(self, config, source):\n",
    "        super().__init__(config, spectrum=source.spectral_model, imin=(0,4),)\n",
    "\n",
    "\n",
    "def weighted_aeff(config, source):\n",
    "\n",
    "    \"\"\" Use config.use_kerr to return appropriate weighted effective area function of cos theta\n",
    "    \"\"\"\n",
    "\n",
    "    # return KerrAeff(config, source) if config.use_kerr else SourceAeff(config, source)\n",
    "\n",
    "    if config.use_kerr:\n",
    "        return WeightedAeff(config)\n",
    "    ### source spectrum, cut low back\n",
    "    return WeightedAeff(config, spectrum=source.spectral_model, imin=(0,4))"
   ]
  },
  {
   "cell_type": "code",
   "execution_count": 13,
   "id": "e2649db6-89d5-4671-92f5-fbabef164db4",
   "metadata": {},
   "outputs": [
    {
     "name": "stdout",
     "output_type": "stream",
     "text": [
      "WeightMan: file from source \"PSR J0633+1746\"_weights.pkl : 16 bamds with nsides 64 to 512\n"
     ]
    }
   ],
   "source": [
    "#| include: false\n",
    "\n",
    "from wtlike.sources import PointSource\n",
    "config = Config(verbose=2)  \n",
    "if config.valid:\n",
    "    source = PointSource('Geminga', config=config)\n",
    "    self = WeightedAeff(config)               \n",
    "    assert round(self(1.0)[0],1)==5374.0, 'fail Effective area check'   \n",
    "    cts = [0.9,1.0]\n",
    "    assert( np.all(self.binned(cts).sum(axis=1)==self(cts))), 'fail Effective area check' "
   ]
  },
  {
   "cell_type": "markdown",
   "id": "6986dfd6-2a54-4aa0-9061-9502e222ef18",
   "metadata": {
    "tags": []
   },
   "source": [
    "## Weighted exposure\n",
    "\n",
    "The computation of the likelihood for a given cell needs a measurement of the exposure to determine the \n",
    "estimated number of source counts expected for the average source rate. "
   ]
  },
  {
   "cell_type": "code",
   "execution_count": 14,
   "id": "cc77a35b-b6c0-497b-97df-42da9a5ee0d5",
   "metadata": {
    "tags": []
   },
   "outputs": [
    {
     "data": {
      "text/markdown": [
       "---\n",
       "\n",
       "[source](https://github.com/tburnett/wtlike/tree/master/blob/master/wtlike/exposure.py#L319){target=\"_blank\" style=\"float:right; font-size:smaller\"}\n",
       "\n",
       "### weighted_aeff\n",
       "\n",
       ">      weighted_aeff (config, source)\n",
       "\n",
       "Use config.use_kerr to return appropriate weighted effective area function of cos theta"
      ],
      "text/plain": [
       "---\n",
       "\n",
       "[source](https://github.com/tburnett/wtlike/tree/master/blob/master/wtlike/exposure.py#L319){target=\"_blank\" style=\"float:right; font-size:smaller\"}\n",
       "\n",
       "### weighted_aeff\n",
       "\n",
       ">      weighted_aeff (config, source)\n",
       "\n",
       "Use config.use_kerr to return appropriate weighted effective area function of cos theta"
      ]
     },
     "execution_count": 14,
     "metadata": {},
     "output_type": "execute_result"
    }
   ],
   "source": [
    "show_doc(weighted_aeff)"
   ]
  },
  {
   "cell_type": "markdown",
   "id": "d11019d7-8f48-4ca7-80a5-2c169a4169f0",
   "metadata": {
    "tags": []
   },
   "source": [
    "## Compare weighted effective area: Kerr-mode vs actual with Geminga"
   ]
  },
  {
   "cell_type": "code",
   "execution_count": 15,
   "id": "18d7c17c-b32c-4316-b0e3-e3564ed8b2a4",
   "metadata": {
    "tags": []
   },
   "outputs": [
    {
     "data": {
      "image/png": "[encoded data removed]",
      "text/plain": [
       "<Figure size 576x288 with 2 Axes>"
      ]
     },
     "metadata": {},
     "output_type": "display_data"
    }
   ],
   "source": [
    "#| code-fold: true hide\n",
    "from wtlike.sources import PointSource\n",
    "config=Config()\n",
    "# source_name='LS 5039' #'Geminga'\n",
    "\n",
    "def aeffplots(ke,se):\n",
    "    ct = np.linspace(0.4, 1.0, 25)\n",
    "\n",
    "    fig, (ax1,ax2) = plt.subplots(1,2, figsize=(8,4), sharey=True)\n",
    "    plt.subplots_adjust(wspace=0.05)\n",
    "    ax1.semilogx(ke.edom, ke.wts/ke.wts[0], '.-', label='power law')\n",
    "    ax1.semilogx(se.edom, se.wts/se.wts[0], '.-', label=f'{source_name} spectrum')\n",
    "    ax1.legend();ax1.grid(alpha=0.5)\n",
    "    ax1.set(title='energy dependence', ylabel='relative weight')\n",
    "\n",
    "    ax2.plot(ct, se(ct)/se(1), '.-', label='power law')\n",
    "    ax2.plot(ct, ke(ct)/ke(1), '.-', label=f'{source_name} spectrum')\n",
    "    ax2.set( title='angular dependence',xlim=(0.4,1.0), ylim=(0, None),)\n",
    "    ax2.grid(alpha=0.5); ax2.legend();\n",
    "\n",
    "if config.valid:\n",
    "    source_name='Geminga'\n",
    "    source=PointSource(source_name)\n",
    "\n",
    "    ke = KerrAeff(config, source) \n",
    "    se = SourceAeff(config, source)\n",
    "    aeffplots(ke,se)"
   ]
  },
  {
   "cell_type": "code",
   "execution_count": 16,
   "id": "c1ab8d87-349f-4723-9bea-a7e09efa4fc9",
   "metadata": {},
   "outputs": [
    {
     "data": {
      "text/markdown": [
       "## Effective area vs energy band\n",
       "\n",
       "Compare the Kerr power-law spectrum with that for Geminga.\n",
       "The latter removes back photons below 316 MeV.\n",
       "<div style=\"margin-left: 25px\"><figure style=\"margin-left: 25px\" title=\"Figure 1\">   <img src=\"data:image/png;base64,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\" alt=\"Figure 1\"  <br> </figure></div>\n"
      ],
      "text/plain": [
       "<utilities.ipynb_docgen.doc_formatter.<locals>.MimeBundleObject at 0x7f49e6408610>"
      ]
     },
     "metadata": {},
     "output_type": "display_data"
    }
   ],
   "source": [
    "#| include: false\n",
    "from utilities.ipynb_docgen import *\n",
    "@ipynb_doc\n",
    "def aeff_vs_band():\n",
    "    \"\"\"\n",
    "    ## Effective area vs energy band\n",
    "    \n",
    "    Compare the Kerr power-law spectrum with that for Geminga.\n",
    "    The latter removes back photons below 316 MeV.\n",
    "    {fig}\n",
    "    \"\"\"\n",
    "    plt.rc('font', size=14)\n",
    "    plt.rc('figure', facecolor='white')\n",
    "    ke2 = WeightedAeff(config)\n",
    "    se2=NewSourceAeff(config, source)\n",
    "\n",
    "    fig, ax = plt.subplots()\n",
    "    ax.plot(ke2.binned(1)[0], 'o--', label='Kerr')\n",
    "    ax.plot(se2.binned(1)[0], 'D--', label='Geminga source')\n",
    "    ax.set(xlabel='Energy band', ylabel='Weighted effective area')\n",
    "    ax.legend();ax.grid(alpha=0.5);\n",
    "    return locals()\n",
    "if config.valid:\n",
    "    aeff_vs_band()"
   ]
  },
  {
   "cell_type": "code",
   "execution_count": 17,
   "id": "c14dc9b1-deff-40c1-902e-540bb33234ee",
   "metadata": {
    "tags": []
   },
   "outputs": [],
   "source": [
    "#| export\n",
    "def sc_data_selection(config, source, sc_data):\n",
    "\n",
    "    \"\"\"\n",
    "    Return a DataFrame with the S/C data for the source direction, wtih cos theta and zenith cuts\n",
    "\n",
    "    columns:\n",
    "    - start, stop, livetime -- from the FT2 info\n",
    "    - cos_theta -- angle between bore and direction\n",
    "    - exp -- the exposure: effective area at angle weighted by a default spectral function, times livetime\n",
    "\n",
    "    \"\"\"\n",
    "\n",
    "    sc_df = sc_process(config, source, sc_data)\n",
    "    cos_theta = sc_df.cos_theta.values\n",
    "    livetime = sc_df.livetime.values\n",
    "\n",
    "    # now get appropriate weighted effective area, multipy by livetime\n",
    "    if len(cos_theta)>0:\n",
    "        if config.use_kerr:\n",
    "            sc_df.loc[:,'exp'] = KerrAeff(config, source)(cos_theta) * livetime\n",
    "        else:\n",
    "            sc_df.loc[:,'exp'] = SourceAeff(config, source)(cos_theta) * livetime\n",
    "\n",
    "    return sc_df"
   ]
  },
  {
   "cell_type": "code",
   "execution_count": 18,
   "id": "4de87a8b-42cd-4c10-ad4f-0ae166f568bb",
   "metadata": {},
   "outputs": [],
   "source": [
    "#| export\n",
    "def binned_exposure(config, exposure, time_edges):\n",
    "    \"\"\"Bin the exposure into cells\n",
    "\n",
    "    - exposure -- A DataFrame derived from FT2\n",
    "    - time_bins: list of edges, an interleaved start/stop array\n",
    "\n",
    "\n",
    "    Returns:\n",
    "\n",
    "    An array of exposure integrated over each time bin. Assumes that the time bins\n",
    "    are contained within the exposure.\n",
    "\n",
    "    it is interleaved, client must apply [0::2] selection.\n",
    "\n",
    "    \"\"\"\n",
    "\n",
    "    # get exposure calculation\n",
    "    exp   =exposure.exp.values\n",
    "    estart= exposure.start.values\n",
    "    estop = exposure.stop.values\n",
    "\n",
    "    # determine bins,\n",
    "\n",
    "    #use cumulative exposure to integrate over larger periods\n",
    "    cumexp = np.concatenate(([0],np.cumsum(exp)) )\n",
    "\n",
    "    # get index into tstop array of the bin edges\n",
    "    edge_index = np.searchsorted(estop, time_edges)\n",
    "\n",
    "    # return the exposure integrated over the intervals\n",
    "    cum = cumexp[edge_index]\n",
    "\n",
    "    # difference is exposure per interval\n",
    "    bexp = np.diff(cum)\n",
    "#     if config.verbose>1:\n",
    "#         print(f'exposure per bin:\\n{pd.Series(bexp).describe(percentiles=[])}')\n",
    "    return bexp"
   ]
  },
  {
   "cell_type": "code",
   "execution_count": 19,
   "id": "63316376-fb8e-4008-afe6-7326a54f452f",
   "metadata": {},
   "outputs": [
    {
     "data": {
      "text/markdown": [
       "---\n",
       "\n",
       "[source](https://github.com/tburnett/wtlike/tree/master/blob/master/wtlike/exposure.py#L358){target=\"_blank\" style=\"float:right; font-size:smaller\"}\n",
       "\n",
       "### binned_exposure\n",
       "\n",
       ">      binned_exposure (config, exposure, time_edges)\n",
       "\n",
       "Bin the exposure into cells\n",
       "\n",
       "- exposure -- A DataFrame derived from FT2\n",
       "- time_bins: list of edges, an interleaved start/stop array\n",
       "\n",
       "Returns:\n",
       "\n",
       "An array of exposure integrated over each time bin. Assumes that the time bins\n",
       "are contained within the exposure.\n",
       "\n",
       "it is interleaved, client must apply [0::2] selection."
      ],
      "text/plain": [
       "---\n",
       "\n",
       "[source](https://github.com/tburnett/wtlike/tree/master/blob/master/wtlike/exposure.py#L358){target=\"_blank\" style=\"float:right; font-size:smaller\"}\n",
       "\n",
       "### binned_exposure\n",
       "\n",
       ">      binned_exposure (config, exposure, time_edges)\n",
       "\n",
       "Bin the exposure into cells\n",
       "\n",
       "- exposure -- A DataFrame derived from FT2\n",
       "- time_bins: list of edges, an interleaved start/stop array\n",
       "\n",
       "Returns:\n",
       "\n",
       "An array of exposure integrated over each time bin. Assumes that the time bins\n",
       "are contained within the exposure.\n",
       "\n",
       "it is interleaved, client must apply [0::2] selection."
      ]
     },
     "execution_count": 19,
     "metadata": {},
     "output_type": "execute_result"
    }
   ],
   "source": [
    "show_doc(binned_exposure)"
   ]
  },
  {
   "cell_type": "code",
   "execution_count": 20,
   "id": "079a09d8-168c-4f6d-a446-243476620d5e",
   "metadata": {
    "tags": []
   },
   "outputs": [
    {
     "name": "stdout",
     "output_type": "stream",
     "text": [
      "Fri Mar  3 00:12:28 PST 2023\n"
     ]
    }
   ],
   "source": [
    "#| include: false\n",
    "from nbdev import nbdev_export\n",
    "nbdev_export()\n",
    "!date"
   ]
  },
  {
   "cell_type": "code",
   "execution_count": null,
   "id": "8e2b346b-6bdf-4baf-b25e-f9546d79c258",
   "metadata": {},
   "outputs": [],
   "source": []
  }
 ],
 "metadata": {
  "kernelspec": {
   "display_name": "Python 3 (ipykernel)",
   "language": "python",
   "name": "python3"
  },
  "language_info": {
   "codemirror_mode": {
    "name": "ipython",
    "version": 3
   },
   "file_extension": ".py",
   "mimetype": "text/x-python",
   "name": "python",
   "nbconvert_exporter": "python",
   "pygments_lexer": "ipython3",
   "version": "3.9.7"
  },
  "toc-showcode": false
 },
 "nbformat": 4,
 "nbformat_minor": 5
}
