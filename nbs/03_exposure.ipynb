{
 "cells": [
  {
   "cell_type": "code",
   "execution_count": null,
   "id": "70d1527f-5bc9-4d24-8065-24e877ba720c",
   "metadata": {},
   "outputs": [
    {
     "name": "stdout",
     "output_type": "stream",
     "text": [
      "Fri Jul 30 06:22:21 PDT 2021\n"
     ]
    }
   ],
   "source": [
    "# default_exp exposure\n",
    "%reload_ext autoreload\n",
    "%autoreload 2\n",
    "from nbdev.showdoc import show_doc\n",
    "# for testing\n",
    "\n",
    "\n",
    "import pickle\n",
    "import matplotlib.pyplot as plt\n",
    "!date"
   ]
  },
  {
   "cell_type": "markdown",
   "id": "92f80446-b877-4f4d-aea1-60b1700e760c",
   "metadata": {
    "tags": []
   },
   "source": [
    "# Exposure processing\n",
    "> Process FT2 exposure information for a source direction "
   ]
  },
  {
   "cell_type": "code",
   "execution_count": null,
   "id": "c1b0efb8-4445-458b-9745-e6904ef24f12",
   "metadata": {
    "tags": []
   },
   "outputs": [],
   "source": [
    "#export\n",
    "import pandas as pd\n",
    "import numpy as np\n",
    "\n",
    "from wtlike.config import (Config, UTC, MJD)\n",
    "from wtlike.effective_area import EffectiveArea"
   ]
  },
  {
   "cell_type": "code",
   "execution_count": null,
   "id": "91c23666-3db6-4408-a558-ca8ccdfb57aa",
   "metadata": {},
   "outputs": [],
   "source": [
    "# export\n",
    "def _sc_process(config, source, sc_data):\n",
    "    \n",
    "    \"\"\"\n",
    "    \n",
    "    - sec_data -- DF constructedted from FT2.\n",
    "    \n",
    "    \n",
    "    Return: a DF with the S/C data for the source direction, wtih cos theta and zenith cuts\n",
    "    \n",
    "    columns:\n",
    "    - start, stop, livetime -- from the FT2 info\n",
    "    - cos_theta -- angle between bore and direction \n",
    "    \"\"\"\n",
    "    \n",
    "    # calculate cosines with respect to sky direction\n",
    "    ra_r,dec_r = np.radians(source.ra), np.radians(source.dec)\n",
    "    sdec, cdec = np.sin(dec_r), np.cos(dec_r)\n",
    "\n",
    "    def cosines( ra2, dec2):\n",
    "        ra2_r =  np.radians(ra2.values)\n",
    "        dec2_r = np.radians(dec2.values)\n",
    "        return np.cos(dec2_r)*cdec*np.cos(ra_r-ra2_r) + np.sin(dec2_r)*sdec\n",
    "\n",
    "    cos_thetas = cosines(sc_data.ra_scz,    sc_data.dec_scz)\n",
    "    zcosines = cosines(sc_data.ra_zenith, sc_data.dec_zenith)\n",
    "    # mask out entries too close to zenith, or too far away from ROI center\n",
    "    mask =   (cos_thetas >= config.cos_theta_max) & (zcosines>=np.cos(np.radians(config.z_max)))\n",
    "    if config.verbose>1:\n",
    "        print(f'\\tFound {len(mask):,} S/C entries:  {sum(mask):,} remain after zenith and theta cuts')\n",
    "    dfm = sc_data.loc[mask,:]\n",
    "    livetime = dfm.livetime.values\n",
    "    \n",
    "    #return livetime, cos_thetas[mask]\n",
    "\n",
    "    return  pd.DataFrame(\n",
    "        dict(\n",
    "            start=sc_data.start[mask],\n",
    "            stop=sc_data.stop[mask],\n",
    "            livetime=livetime,\n",
    "            cos_theta=cos_thetas[mask],\n",
    "        )\n",
    "    )"
   ]
  },
  {
   "cell_type": "code",
   "execution_count": null,
   "id": "0e3784a6-2756-4973-97ae-94e77ad4d123",
   "metadata": {
    "tags": []
   },
   "outputs": [],
   "source": [
    "# export\n",
    "from abc import abstractmethod\n",
    "\n",
    "class BaseExposure(object):\n",
    "    \"\"\"\n",
    "    Base class for implementing exposure calculation\n",
    "    \"\"\"\n",
    "    \n",
    "    def __init__(self, config, source):\n",
    "        \n",
    "        self.config = config\n",
    "        self.source = source\n",
    "        self.Aeff = EffectiveArea(file_path=config.wtlike_data/'aeff_files')\n",
    "        self.setup()\n",
    "    \n",
    "    @abstractmethod\n",
    "    def setup(self):\n",
    "        pass\n",
    "            \n",
    "    def __call__(self, cos_theta) : #sc_data):\n",
    "        \"\"\"\n",
    "        Apply to a SC data set\n",
    "        - cos_theta -- array of cos(theta) values\n",
    "        \n",
    "        Returns:\n",
    "        \n",
    "        array of the weighted effective area\n",
    "        \n",
    "        \"\"\"\n",
    "        # as set by self.setup -- also serl.back_min\n",
    "        edom = self.edom\n",
    "        wts = self.wts #self(edom)\n",
    "\n",
    "        # a table of the weights for each pair in livetime and cos_theta arrays\n",
    "        rvals = np.empty([len(wts),len(cos_theta)])\n",
    "        \n",
    "        for i, (en,wt) in enumerate(zip(edom,wts)):\n",
    "            faeff, baeff = np.array(self.Aeff( [en], cos_theta ))\n",
    "            if en>self.back_min:\n",
    "                rvals[i] = (faeff+baeff)*wt # note that adds front and back exposure\n",
    "            else:\n",
    "                rvals[i] = faeff * wt # only front\n",
    "\n",
    "        from scipy.integrate import simpson\n",
    "        aeff = simpson(rvals, edom,axis=0) / simpson(wts,edom)\n",
    "\n",
    "        return aeff\n",
    "    \n",
    "class KerrExposure(BaseExposure):\n",
    "    \"\"\"\n",
    "    \"\"\"\n",
    "    \n",
    "    bins_per_decade: int=5\n",
    "    base_spectrum: str='lambda E: (E/1000)**-2.1'\n",
    "    energy_range: tuple = (100.,1e6)\n",
    "\n",
    "    \n",
    "    def setup(self ):\n",
    "        \n",
    "        \"\"\"set up energy domain, evaluate fluxes\n",
    "           This is the Kerr version, with wired-in values \n",
    "        \"\"\"\n",
    "        \n",
    "        emin,emax = self.energy_range\n",
    "        loge1=np.log10(emin); loge2=np.log10(emax)\n",
    "        self.edom= np.logspace(loge1, loge2, int((loge2-loge1)*self.bins_per_decade+1))\n",
    "        \n",
    "        spectrum = eval(self.base_spectrum) #lambda E: (E/1000)**-2.1\n",
    "       \n",
    "        self.wts = spectrum(self.edom)\n",
    "\n",
    "        # the threshold for including Back events\n",
    "        self.back_min=0"
   ]
  },
  {
   "cell_type": "code",
   "execution_count": null,
   "id": "33385c1c-a29e-4e6e-a485-7b1f390f7117",
   "metadata": {},
   "outputs": [],
   "source": [
    "# export\n",
    "class SourceExposure(BaseExposure):\n",
    "    \"\"\"\n",
    "    BaseExposure subclass that uses the source spectrum applied only to used bands \n",
    "    \"\"\"\n",
    "    \n",
    "    def setup(self):\n",
    "        # set up weighted exposure using bands actually used, and actual flux\n",
    "        \n",
    "        wtdict = self.source.wtman.wt_dict\n",
    "        bandids = np.array(list(wtdict.keys()))\n",
    "\n",
    "        self.wts = np.array([wtdict[key]['flux'] for key in bandids if key%2==0])\n",
    "        self.edom = self.config.energy_bins[:len(self.wts)]\n",
    "        self.back_min = 300 # wired in--should check?\n",
    "        \n",
    "        if self.config.verbose>1:\n",
    "            print(f'Set up flux-weigted exposure for {self.source.name}')"
   ]
  },
  {
   "cell_type": "code",
   "execution_count": null,
   "id": "56317793-045c-44a8-8ea0-0cc98616a369",
   "metadata": {},
   "outputs": [],
   "source": [
    "# export  \n",
    "def time_bin_edges(config, exposure, tbin=None):\n",
    "    \"\"\"Return an interleaved array of start/stop values\n",
    "\n",
    "    tbin: an array (a,b,d), default config.time_bins\n",
    "\n",
    "    interpretation of a, b:\n",
    "\n",
    "        if > 50000, interpret as MJD\n",
    "        if <0, back from stop\n",
    "        otherwise, offset from start\n",
    "\n",
    "    d : if positive, the day bin size\n",
    "        if 0; return contiguous bins\n",
    "\n",
    "\n",
    "    \"\"\"\n",
    "    # nominal total range, MJD edges\n",
    "    start = np.round(exposure.start.values[0])\n",
    "    stop =  np.round(exposure.stop.values[-1])\n",
    "\n",
    "    a, b, step = tbin if tbin is not None else config.time_bins\n",
    "\n",
    "\n",
    "    if a>50000: start=a\n",
    "    elif a<0: start = stop+a\n",
    "    else : start += a\n",
    "\n",
    "\n",
    "    if b>50000: stop=b\n",
    "    elif b>0: stop = start+b\n",
    "    else: stop += b\n",
    "\n",
    "    if step<=0:\n",
    "        return contiguous_bins(exposure.query(f'{start}<start<{stop}'),)\n",
    "\n",
    "    # adjust stop\n",
    "    nbins = int((stop-start)/step)\n",
    "    assert nbins>0, 'Bad binning: no bins'\n",
    "    stop = start+(nbins)*step\n",
    "    u =  np.linspace(start,stop, nbins+1 )\n",
    "\n",
    "    # make an interleaved start/stop array\n",
    "    v = np.empty(2*nbins, float)\n",
    "    v[0::2] = u[:-1]\n",
    "    v[1::2] = u[1:]\n",
    "    return v\n"
   ]
  },
  {
   "cell_type": "code",
   "execution_count": null,
   "id": "c14dc9b1-deff-40c1-902e-540bb33234ee",
   "metadata": {},
   "outputs": [],
   "source": [
    "# export\n",
    "def sc_data_selection(config, source, sc_data):\n",
    "    \n",
    "    \"\"\"\n",
    "    Return a DF with the S/C data for the source direction, wtih cos theta and zenith cuts\n",
    "    \n",
    "    columns:\n",
    "    - start, stop, livetime -- from the FT2 info\n",
    "    - cos_theta -- angle between bore and direction \n",
    "    - exp -- effective area at angle wighted by a default spectral function, times livetime\n",
    " \n",
    "    \"\"\"\n",
    "    \n",
    "    sc_df = _sc_process(config, source, sc_data)\n",
    "    cos_theta = sc_df.cos_theta.values\n",
    "    livetime = sc_df.livetime.values\n",
    "\n",
    "    # now get appropriate weighted effective area, mjultipy by livetime\n",
    "    if config.use_kerr:\n",
    "        sc_df.loc[:,'exp'] = KerrExposure(config, source)(cos_theta) * livetime\n",
    "    else:\n",
    "        sc_df.loc[:,'exp']= SourceExposure(config, source)(cos_theta) * livetime\n",
    "    \n",
    "    return sc_df\n"
   ]
  },
  {
   "cell_type": "code",
   "execution_count": null,
   "id": "4de87a8b-42cd-4c10-ad4f-0ae166f568bb",
   "metadata": {},
   "outputs": [],
   "source": [
    "# export\n",
    "def binned_exposure(config, exposure, time_edges):\n",
    "    \"\"\"Bin the exposure in to cells\n",
    "\n",
    "    - exposure -- A DataFrame derived from FT2\n",
    "    - time_bins: list of edges, an interleaved start/stop array\n",
    "\n",
    "\n",
    "    Returns:\n",
    "    \n",
    "    An array of exposure integrated over each time bin. Assumes that the time bins \n",
    "    are contained within the exposure.\n",
    "    \n",
    "    it is interleaved, client must apply [0::2] selection. (why not do it here?)\n",
    "\n",
    "    \"\"\"\n",
    "\n",
    "    # get exposure calculation\n",
    "    exp   =exposure.exp.values\n",
    "    estart= exposure.start.values\n",
    "    estop = exposure.stop.values\n",
    "\n",
    "    # determine bins,\n",
    "\n",
    "    #use cumulative exposure to integrate over larger periods\n",
    "    cumexp = np.concatenate(([0],np.cumsum(exp)) )\n",
    "\n",
    "    # get index into tstop array of the bin edges\n",
    "    edge_index = np.searchsorted(estop, time_edges)\n",
    "\n",
    "    # return the exposure integrated over the intervals\n",
    "    cum = cumexp[edge_index]\n",
    "\n",
    "    # difference is exposure per interval\n",
    "    bexp = np.diff(cum)\n",
    "#     if config.verbose>1:\n",
    "#         print(f'exposure per bin:\\n{pd.Series(bexp).describe(percentiles=[])}')\n",
    "    return bexp"
   ]
  },
  {
   "cell_type": "code",
   "execution_count": null,
   "id": "571aad35-ebb9-4246-b29a-cc2d621335c2",
   "metadata": {},
   "outputs": [
    {
     "data": {
      "text/markdown": [
       "<h4 id=\"time_bin_edges\" class=\"doc_header\"><code>time_bin_edges</code><a href=\"__main__.py#L2\" class=\"source_link\" style=\"float:right\">[source]</a></h4>\n",
       "\n",
       "> <code>time_bin_edges</code>(**`config`**, **`exposure`**, **`tbin`**=*`None`*)\n",
       "\n",
       "Return an interleaved array of start/stop values\n",
       "\n",
       "tbin: an array (a,b,d), default config.time_bins\n",
       "\n",
       "interpretation of a, b:\n",
       "\n",
       "    if > 50000, interpret as MJD\n",
       "    if <0, back from stop\n",
       "    otherwise, offset from start\n",
       "\n",
       "d : if positive, the day bin size\n",
       "    if 0; return contiguous bins"
      ],
      "text/plain": [
       "<IPython.core.display.Markdown object>"
      ]
     },
     "metadata": {},
     "output_type": "display_data"
    },
    {
     "data": {
      "text/markdown": [
       "<h4 id=\"binned_exposure\" class=\"doc_header\"><code>binned_exposure</code><a href=\"__main__.py#L2\" class=\"source_link\" style=\"float:right\">[source]</a></h4>\n",
       "\n",
       "> <code>binned_exposure</code>(**`config`**, **`exposure`**, **`time_edges`**)\n",
       "\n",
       "Bin the exposure in to cells\n",
       "\n",
       "- exposure -- A DataFrame derived from FT2\n",
       "- time_bins: list of edges, an interleaved start/stop array\n",
       "\n",
       "\n",
       "Returns:\n",
       "\n",
       "An array of exposure integrated over each time bin. Assumes that the time bins \n",
       "are contained within the exposure.\n",
       "\n",
       "it is interleaved, client must apply [0::2] selection. (why not do it here?)"
      ],
      "text/plain": [
       "<IPython.core.display.Markdown object>"
      ]
     },
     "metadata": {},
     "output_type": "display_data"
    }
   ],
   "source": [
    "show_doc(time_bin_edges)\n",
    "\n",
    "show_doc(binned_exposure)"
   ]
  },
  {
   "cell_type": "markdown",
   "id": "f9bf0817-8c74-4d0e-86cb-f8a510354d59",
   "metadata": {},
   "source": [
    "### Test with a Geminga week\n",
    "\n",
    "First use old method to generate "
   ]
  },
  {
   "cell_type": "code",
   "execution_count": null,
   "id": "53d21e5e-a3df-424f-95f7-2648db4820a0",
   "metadata": {},
   "outputs": [
    {
     "name": "stdout",
     "output_type": "stream",
     "text": [
      "WeightMan: file from source \"Geminga\"_weights.pkl : 16 bamds with nsides 64 to 512\n",
      "Get  week # 10 for Geminga\n",
      "LoadData: Loading weeks[10:10:]\n",
      "\tFound 16,826 S/C entries:  5,633 remain after zenith and theta cuts\n",
      "       start      stop  livetime  cos_theta       exp\n",
      "53  54685.17  54685.17     27.45       0.42  35034.11\n",
      "54  54685.17  54685.17     27.46       0.44  39596.63\n",
      "55  54685.17  54685.17     27.50       0.46  44258.90\n",
      "56  54685.17  54685.17     27.52       0.48  48795.06\n",
      "57  54685.17  54685.17     27.53       0.50  53288.60\n",
      "\n",
      "Exposure description, with use_kerr=True\n",
      "count      5633.00\n",
      "mean      89305.61\n",
      "std       33910.22\n",
      "min        1117.04\n",
      "25%       60491.62\n",
      "50%       87129.21\n",
      "75%      124531.16\n",
      "max      151232.82\n",
      "Name: exp, dtype: float64\n"
     ]
    }
   ],
   "source": [
    "#hide\n",
    "config=Config(use_kerr=True); \n",
    "if config.valid:\n",
    "    config.verbose=2\n",
    "    week_no = 10\n",
    "\n",
    "    from wtlike.sources import PointSource\n",
    "    from wtlike.load_data import get_week_files\n",
    "    source =PointSource('Geminga', config=config) \n",
    "    print(f'Get  week # {week_no} for {source.name}')\n",
    "    week_files = get_week_files(config, (week_no,week_no)); \n",
    "    week_file = week_files[0]\n",
    "\n",
    "    sc_data =  pickle.load(open(week_file, 'rb'))['sc_data']\n",
    "\n",
    "    # determine weighed exposure DF\n",
    "    src_exp = sc_data_selection(config, source, sc_data)\n",
    "    print(src_exp.head())\n",
    "\n",
    "#         edges = time_bin_edges(config, src_exp, (0,0,1/24))\n",
    "\n",
    "#         fig,ax = plt.subplots(figsize=(12,3))\n",
    "#         ax.plot(edges[0::2]-edges[0], binned_exposure(config, src_exp, edges )[::2]/1e6,'+');\n",
    "#  v       ax.set(xlabel=f'day of week {week_no}', ylabel='hourly exposure');\n",
    "    print(f'\\nExposure description, with use_kerr={config.use_kerr}\\n{src_exp.exp.describe()}')"
   ]
  },
  {
   "cell_type": "markdown",
   "id": "30b42ee1-7865-4671-91f9-326ba5999d15",
   "metadata": {},
   "source": [
    "### Saved output for comparison\n",
    "```\n",
    "\tFound 16,826 S/C entries:  5,633 remain after zenith and theta cuts\n",
    "count      5633.00\n",
    "mean      89305.61\n",
    "std       33910.22\n",
    "min        1117.04\n",
    "25%       60491.62\n",
    "50%       87129.21\n",
    "75%      124531.16\n",
    "max      151232.82\n",
    "dtype: float64\n",
    "```"
   ]
  },
  {
   "cell_type": "markdown",
   "id": "711e5da2-3958-4adf-ad3c-8f78c09a7e9c",
   "metadata": {},
   "source": [
    "### Check flux values per energy band from weight computation \n",
    "Compare with default"
   ]
  },
  {
   "cell_type": "code",
   "execution_count": null,
   "id": "d03196c0-3193-41dd-bcfe-573509fed2a7",
   "metadata": {},
   "outputs": [
    {
     "name": "stdout",
     "output_type": "stream",
     "text": [
      "   band      flux  energy   eflux\n",
      "0     0  1.22e-08  133.35  216.64\n",
      "1     2  6.08e-09  237.14  342.00\n",
      "2     4  2.85e-09  421.70  506.10\n",
      "3     5  2.85e-09  421.70  506.10\n",
      "4     6  1.21e-09  749.89  680.98 \n",
      "\n"
     ]
    },
    {
     "data": {
      "image/png": "[encoded data removed]",
      "text/plain": [
       "<Figure size 252x288 with 2 Axes>"
      ]
     },
     "metadata": {
      "needs_background": "light"
     },
     "output_type": "display_data"
    }
   ],
   "source": [
    "#hide\n",
    "if config.valid:\n",
    "    # make a DF with spectrum\n",
    "    wtdict = source.wtman.wt_dict\n",
    "\n",
    "    bf_df = pd.DataFrame(dict(\n",
    "        band=wtdict.keys(), flux=[d['flux'] for d in wtdict.values()]))\n",
    "    bf_df.loc[:,'energy'] = config.energy_bins[bf_df.band//2]\n",
    "    bf_df.loc[:,'eflux'] = (bf_df.flux * bf_df.energy**2)*1e6\n",
    "    print(bf_df.head(), '\\n')\n",
    "\n",
    "\n",
    "    plt.rc('font', size=12)\n",
    "    fig, (ax,ax2) =plt.subplots(2,1, figsize=(3.5,4), sharex=True)\n",
    "    plt.subplots_adjust(hspace=0)\n",
    "    ax.loglog('energy', 'eflux', 'o--',data=bf_df,label=f'{source.name}'); ax.grid(alpha=0.5)\n",
    "    ax.set(xlabel='Energy', ylabel='Energy flux',  xlim=(100,None), title='Spectra');\n",
    "    base_spectrum = eval(KerrExposure.base_spectrum)\n",
    "    edom = config.energy_bins[:12]\n",
    "    ax.loglog(edom, base_spectrum(edom)*edom**2/3e3, '-' , label='Kerr base')\n",
    "    ax.legend();\n",
    "    ax2.plot('energy', 'flux', 'o--',data=bf_df,label=f'{source.name}'); ax2.grid(alpha=0.5)\n",
    "    edom2 = np.logspace(2.125,4)\n",
    "    ax2.plot(edom2, base_spectrum(edom2)/6e9, '-' , label='Kerr base')\n",
    "    ax2.set(xlabel='Energy', ylabel='Count flux');\n"
   ]
  },
  {
   "cell_type": "code",
   "execution_count": null,
   "id": "079a09d8-168c-4f6d-a446-243476620d5e",
   "metadata": {},
   "outputs": [
    {
     "name": "stdout",
     "output_type": "stream",
     "text": [
      "Converted 00_config.ipynb.\n",
      "Converted 01_data_man.ipynb.\n",
      "Converted 02_effective_area.ipynb.\n",
      "Converted 03_exposure.ipynb.\n",
      "Converted 03_sources.ipynb.\n",
      "Converted 04_load_data.ipynb.\n",
      "Converted 04_simulation.ipynb.\n",
      "Converted 05_source_data.ipynb.\n",
      "Converted 06_poisson.ipynb.\n",
      "Converted 07_loglike.ipynb.\n",
      "Converted 08_cell_data.ipynb.\n",
      "Converted 09_lightcurve.ipynb.\n",
      "Converted 14_bayesian.ipynb.\n",
      "Converted 90_main.ipynb.\n",
      "Converted 99_tutorial.ipynb.\n",
      "Converted index.ipynb.\n",
      "Fri Jul 30 06:22:25 PDT 2021\n"
     ]
    }
   ],
   "source": [
    "#hide\n",
    "from nbdev.export import notebook2script\n",
    "notebook2script()\n",
    "!date"
   ]
  },
  {
   "cell_type": "code",
   "execution_count": null,
   "id": "8e2b346b-6bdf-4baf-b25e-f9546d79c258",
   "metadata": {},
   "outputs": [],
   "source": []
  }
 ],
 "metadata": {
  "kernelspec": {
   "display_name": "Python 3",
   "language": "python",
   "name": "python3"
  }
 },
 "nbformat": 4,
 "nbformat_minor": 5
}
