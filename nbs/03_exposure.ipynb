{
 "cells": [
  {
   "cell_type": "code",
   "execution_count": null,
   "id": "70d1527f-5bc9-4d24-8065-24e877ba720c",
   "metadata": {},
   "outputs": [
    {
     "name": "stdout",
     "output_type": "stream",
     "text": [
      "Tue May 24 05:39:07 PDT 2022\n"
     ]
    }
   ],
   "source": [
    "# default_exp exposure\n",
    "%reload_ext autoreload\n",
    "%autoreload 2\n",
    "from nbdev.showdoc import show_doc\n",
    "import matplotlib.pyplot as plt\n",
    "plt.rc('figure',facecolor='white')\n",
    "!date"
   ]
  },
  {
   "cell_type": "markdown",
   "id": "92f80446-b877-4f4d-aea1-60b1700e760c",
   "metadata": {},
   "source": [
    "# Exposure processing\n",
    "> Combine the FT2 spacecraft livetime information with the effective area to produce exposure for a given direction and spectrum "
   ]
  },
  {
   "cell_type": "markdown",
   "id": "222081f4-7d16-4ff3-9a33-2b806ae7e781",
   "metadata": {},
   "source": [
    "The spacecraft information is a list, for 30-s intervals, of the livetime and instrument $\\theta$ of the source. \n",
    "We need a weighted effective area\n",
    "as a function of $\\theta$. This requires a weighting function of energy, or a spectrum. Matthew used a simple power law with index -2.1. implemented in by the class `KerrAeff`. But here we have the actual source spectrum available. Also, the data here excludes low-energy Back events the class `SourceAeff` uses both."
   ]
  },
  {
   "cell_type": "markdown",
   "id": "3920161b-4f4e-4f7a-8979-83c8e1dcdbb1",
   "metadata": {},
   "source": [
    "## Implemented here:\n",
    "\n",
    "* `time_bin_edges`\n",
    "* `cell_exposure`\n",
    "* `sc_data_selection`\n",
    "* `binned_exposure`\n"
   ]
  },
  {
   "cell_type": "code",
   "execution_count": null,
   "id": "c1b0efb8-4445-458b-9745-e6904ef24f12",
   "metadata": {},
   "outputs": [],
   "source": [
    "#export\n",
    "import pandas as pd\n",
    "import numpy as np\n",
    "\n",
    "from wtlike.config import (Config, UTC, MJD)\n",
    "from wtlike.effective_area import EffectiveArea"
   ]
  },
  {
   "cell_type": "code",
   "execution_count": null,
   "id": "d76a34ba-f0d3-4b29-970d-d7add8eb4caa",
   "metadata": {},
   "outputs": [],
   "source": [
    "# export  \n",
    "def time_bin_edges(config, exposure, tbin=None):\n",
    "    \"\"\"Return an interleaved array of start/stop values\n",
    "\n",
    "    tbin: an array (a,b,d), default config.time_bins\n",
    "\n",
    "    interpretation of a, b:\n",
    "\n",
    "        if > 50000: interpret as MJD\n",
    "        if < 0:     offset from stop\n",
    "        otherwise:  offset from start\n",
    "\n",
    "    d : if positive, the day bin size\n",
    "        if 0; return contiguous bins\n",
    "\n",
    "\n",
    "    \"\"\"\n",
    "    # nominal total range, MJD edges\n",
    "    start = np.round(exposure.start.values[0])\n",
    "    stop =  np.round(exposure.stop.values[-1])\n",
    "\n",
    "    a, b, step = tbin if tbin is not None else config.time_bins\n",
    "\n",
    "\n",
    "    if a>50000: start=a\n",
    "    elif a<0: start = stop+a\n",
    "    else : start += a\n",
    "\n",
    "    if b>50000: stop=b\n",
    "    elif b>0: stop = start+b\n",
    "    else: stop += b\n",
    "\n",
    "    if step<=0:\n",
    "        return contiguous_bins(exposure.query(f'{start}<start<{stop}'),)\n",
    "\n",
    "    # adjust stop\n",
    "    nbins = int((stop-start)/step)\n",
    "    assert nbins>0, 'Bad binning: no bins'\n",
    "    stop = start+(nbins)*step\n",
    "    u =  np.linspace(start,stop, nbins+1 )\n",
    "\n",
    "    # make an interleaved start/stop array\n",
    "    v = np.empty(2*nbins, float)\n",
    "    v[0::2] = u[:-1]\n",
    "    v[1::2] = u[1:]\n",
    "    return v"
   ]
  },
  {
   "cell_type": "code",
   "execution_count": null,
   "id": "41bd688b-149b-4ef7-bab1-34e5e0c047d4",
   "metadata": {},
   "outputs": [
    {
     "data": {
      "text/markdown": [
       "<h4 id=\"time_bin_edges\" class=\"doc_header\"><code>time_bin_edges</code><a href=\"__main__.py#L2\" class=\"source_link\" style=\"float:right\">[source]</a></h4>\n",
       "\n",
       "> <code>time_bin_edges</code>(**`config`**, **`exposure`**, **`tbin`**=*`None`*)\n",
       "\n",
       "Return an interleaved array of start/stop values\n",
       "\n",
       "tbin: an array (a,b,d), default config.time_bins\n",
       "\n",
       "interpretation of a, b:\n",
       "\n",
       "    if > 50000: interpret as MJD\n",
       "    if < 0:     offset from stop\n",
       "    otherwise:  offset from start\n",
       "\n",
       "d : if positive, the day bin size\n",
       "    if 0; return contiguous bins"
      ],
      "text/plain": [
       "<IPython.core.display.Markdown object>"
      ]
     },
     "metadata": {},
     "output_type": "display_data"
    }
   ],
   "source": [
    "show_doc(time_bin_edges)"
   ]
  },
  {
   "cell_type": "code",
   "execution_count": null,
   "id": "6409acba-7920-4842-9b98-eed8805f70a1",
   "metadata": {},
   "outputs": [],
   "source": [
    "# export\n",
    "def cell_exposure(config, exposure, time_bins, exposure_factor=1e-6, set_costh=False):\n",
    "    \"\"\"\n",
    "    Determine the exposure per cell\n",
    "    input:\n",
    "    - exposure -- dataframe with spacecraft data\n",
    "    - time_bins -- time binning (start, stop, step) tuple\n",
    "\n",
    "    Return: a dict of \n",
    "    - edges -- list of cell edges, an interleaved array of start/stop values\n",
    "    - exp -- exposure per cell, in cm^2 Ms units, if exposure_factor==1e-6\n",
    "    - etot -- total exposure\n",
    "    - costh -- mean cos theta per cell if requested \n",
    "    - exp_energy if exp_fract in the exposure DF, set exposure energy\n",
    "\n",
    "    Note: total exposure vs. energy is:\n",
    "        t = df.apply(lambda r: np.array(r.exp * np.array(r.exp_fract), float), axis=1).values\n",
    "        u = np.vstack(t)\n",
    "    \"\"\"\n",
    "    exp = exposure.exp.values\n",
    "    costh = exposure.cos_theta.values\n",
    "    etot = np.sum(exp) * exposure_factor\n",
    "    \n",
    "    cell_edges = time_bin_edges(config, exposure, time_bins)\n",
    "    # the cell index list  \n",
    "    eci = np.searchsorted(exposure.stop, cell_edges).reshape(len(cell_edges)//2,2)\n",
    "    cell_exp = np.array([exp[slice(*ecx)].sum()*exposure_factor for ecx in eci], np.float32) #np.float32)\n",
    "    \n",
    "    ret = dict(exp=cell_exp, edges=cell_edges, etot=etot)\n",
    "    \n",
    "    if set_costh:\n",
    "        ret['costh'] =np.array([costh[slice(*ecx)].mean() for ecx in eci], np.float32) \n",
    "        \n",
    "    \n",
    "    ef = exposure.get('exp_fract', None)\n",
    "    if ef is not None:\n",
    "        efa = np.array([np.array(x,float) for x in ef])\n",
    "        efe = efa.T * exp\n",
    "        ret['exp_energy'] = np.array([efe.T[slice(*ecx)].sum(axis=0)*exposure_factor for ecx in eci], np.float32)\n",
    "\n",
    "    return ret"
   ]
  },
  {
   "cell_type": "code",
   "execution_count": null,
   "id": "e3d224df-147f-47ec-b3c6-c7b8455d3070",
   "metadata": {},
   "outputs": [
    {
     "data": {
      "text/markdown": [
       "<h4 id=\"cell_exposure\" class=\"doc_header\"><code>cell_exposure</code><a href=\"__main__.py#L2\" class=\"source_link\" style=\"float:right\">[source]</a></h4>\n",
       "\n",
       "> <code>cell_exposure</code>(**`config`**, **`exposure`**, **`time_bins`**, **`exposure_factor`**=*`1e-06`*, **`set_costh`**=*`False`*)\n",
       "\n",
       "Determine the exposure per cell\n",
       "input:\n",
       "- exposure -- dataframe with spacecraft data\n",
       "- time_bins -- time binning (start, stop, step) tuple\n",
       "\n",
       "Return: a dict of \n",
       "- edges -- list of cell edges, an interleaved array of start/stop values\n",
       "- exp -- exposure per cell, in cm^2 Ms units, if exposure_factor==1e-6\n",
       "- etot -- total exposure\n",
       "- costh -- mean cos theta per cell if requested \n",
       "- exp_energy if exp_fract in the exposure DF, set exposure energy\n",
       "\n",
       "Note: total exposure vs. energy is:\n",
       "    t = df.apply(lambda r: np.array(r.exp * np.array(r.exp_fract), float), axis=1).values\n",
       "    u = np.vstack(t)"
      ],
      "text/plain": [
       "<IPython.core.display.Markdown object>"
      ]
     },
     "metadata": {},
     "output_type": "display_data"
    }
   ],
   "source": [
    "show_doc(cell_exposure)"
   ]
  },
  {
   "cell_type": "code",
   "execution_count": null,
   "id": "91c23666-3db6-4408-a558-ca8ccdfb57aa",
   "metadata": {},
   "outputs": [],
   "source": [
    "# exporti\n",
    "def sc_process(config, source, sc_data):\n",
    "\n",
    "    \"\"\"\n",
    "    - source -- contains ra, dec in degrees\n",
    "    - sc_data -- DF constructed from spacecraft data (FT2).\n",
    "\n",
    "    Return: a dict with the S/C data for the source direction, wtih cos theta and zenith cuts\n",
    "\n",
    "    columns:\n",
    "    - start, stop, livetime -- from the FT2 info\n",
    "    - cos_theta -- angle between bore and direction\n",
    "    \"\"\"\n",
    "\n",
    "    # calculate cosines with respect to sky direction\n",
    "    ra_r,dec_r = np.radians(source.ra), np.radians(source.dec)\n",
    "    sdec, cdec = np.sin(dec_r), np.cos(dec_r)\n",
    "\n",
    "    def cosines( ra2, dec2):\n",
    "        ra2_r =  np.radians(ra2.values)\n",
    "        dec2_r = np.radians(dec2.values)\n",
    "        return np.cos(dec2_r)*cdec*np.cos(ra_r-ra2_r) + np.sin(dec2_r)*sdec\n",
    "\n",
    "    cos_thetas = cosines(sc_data.ra_scz,    sc_data.dec_scz)\n",
    "    zcosines = cosines(sc_data.ra_zenith, sc_data.dec_zenith)\n",
    "    # mask out entries too close to zenith, or too far away from ROI center\n",
    "    mask =   (cos_thetas >= config.cos_theta_max) & (zcosines>=np.cos(np.radians(config.z_max)))\n",
    "    if config.verbose>1:\n",
    "        print(f'\\tFound {len(mask):,} S/C entries:  {sum(mask):,} remain after zenith and theta cuts')\n",
    "    dfm = sc_data.loc[mask,:]\n",
    "    livetime = dfm.livetime.values\n",
    "    \n",
    "    return  pd.DataFrame(\n",
    "        dict(\n",
    "            start=sc_data.start[mask].astype(np.float),\n",
    "            stop=sc_data.stop[mask].astype(np.float),\n",
    "            livetime=livetime,\n",
    "            cos_theta=cos_thetas[mask],\n",
    "            )\n",
    "         )\n",
    "    "
   ]
  },
  {
   "cell_type": "code",
   "execution_count": null,
   "id": "76b774fb-ddb8-4808-8ce6-41d8e49b7b1e",
   "metadata": {},
   "outputs": [],
   "source": [
    "# export\n",
    "from scipy.integrate import simpson\n",
    "\n",
    "def cumsimpson(y, dx):\n",
    "    \"\"\"Return the cumulative Simpson integral for an odd number>2 of equally-spaced evaluations\n",
    "     * y -- array of integrand values, 2n+1 values for 2n intervals\n",
    "     * dx -- interval size\n",
    "     \n",
    "     Returns array of size n, the cumulative integral estimate for pairs of intervals. \n",
    "     \n",
    "     >>> x, dx = np.linspace(0,1, 5), 1/4\n",
    "     >>> print(cumsimpson(x, dx)) \n",
    "     >>> [0.125 0.5  ]\n",
    "    \"\"\"\n",
    "    v = np.empty((3*(len(y)-1)//2))\n",
    "    v[0::3] = y[0:-1:2]\n",
    "    v[1::3] = 4*y[1::2]\n",
    "    v[2::3] = y[2::2]\n",
    "    return (np.cumsum(v)*dx/3)[2::3]\n"
   ]
  },
  {
   "cell_type": "markdown",
   "id": "6bae8d53-9b1b-4227-947d-e2e194de1e3c",
   "metadata": {},
   "source": [
    "## Demonstrate superiority of integral using integrand f(x) x dlog(x)"
   ]
  },
  {
   "cell_type": "code",
   "execution_count": null,
   "id": "21f30afe-6e73-4cca-923b-f9b063bdbece",
   "metadata": {},
   "outputs": [
    {
     "name": "stdout",
     "output_type": "stream",
     "text": [
      "Errors:\n",
      "\tLinear: -4.7e-03\n",
      "\tLog:    +3.8e-05\n"
     ]
    }
   ],
   "source": [
    "nbins = 16\n",
    "f = lambda x: x**-2\n",
    "ee = np.logspace(2,4,nbins+1)\n",
    "r = 1e-2-1e-4\n",
    "print(f'Errors:\\n\\tLinear: {simpson(f(ee), ee)/r-1:+6.1e}'\n",
    "      f'\\n\\tLog:    {simpson( f(ee)*ee, np.log(ee) )/r-1:+6.1e}')"
   ]
  },
  {
   "cell_type": "code",
   "execution_count": null,
   "id": "6b5ae82c-f847-4384-ab25-8df1a08c5fb0",
   "metadata": {},
   "outputs": [],
   "source": [
    "# hide\n",
    "x = np.linspace(0,1,5)\n",
    "assert( np.all( cumsimpson(x, 1/4) == np.array([1/8,1/2]) ) ), 'Fail simple test'"
   ]
  },
  {
   "cell_type": "code",
   "execution_count": null,
   "id": "0881b346-caa1-42cb-a744-26bfcdbc5670",
   "metadata": {},
   "outputs": [],
   "source": [
    "# export\n",
    "from abc import abstractmethod\n",
    "\n",
    "class BaseAeff(object):\n",
    "    \"\"\"\n",
    "    Base class for calculating the weighted effective area\n",
    "    \n",
    "    It defines a functor of `costh`, returning  the effective area weighted by a spectrum. \n",
    "    The exposure is then a sum over intervals of this weighted effective area times the livetime per interval.\n",
    "    \n",
    "    A subclass must define a `setup` method to define the spectral function and minimum energy \n",
    "    to include Back events. \n",
    "    \"\"\"\n",
    "\n",
    "    # default energies to use for Simpson's integral: 8/decade from 100 MeV to 10 GeV\n",
    "    edom = np.logspace(2,4,17)\n",
    "    \n",
    "    def __init__(self, config, source, \n",
    "                 elim:tuple=(1e2,1e4)):\n",
    "        self.elim = elim\n",
    "        self.source = source\n",
    "        self.Aeff = EffectiveArea(file_path=config.datapath/'aeff_files')\n",
    "        self.back_min =0 #??\n",
    "        self.setup()\n",
    "\n",
    "    @abstractmethod\n",
    "    def setup(self):\n",
    "        pass\n",
    "  \n",
    "    def __call__(self, cos_theta) : #sc_data):\n",
    "        \"\"\"\n",
    "        Return the weighted effective area as a function of $\\\\cos( \\\\theta) $\n",
    "\n",
    "        \"\"\"\n",
    "        # as set by self.setup -- also self.back_min\n",
    "        edom = self.edom\n",
    "        wts = self.wts \n",
    "        cos_theta = np.atleast_1d(cos_theta)\n",
    "\n",
    "        # a table of the weights for each pair in spectral flux and cos_theta arrays\n",
    "        rvals = np.empty([len(wts),len(cos_theta)])\n",
    "\n",
    "        for i, (en,wt) in enumerate(zip(edom,wts)):\n",
    "            faeff, baeff = np.array(self.Aeff( [en], cos_theta ))\n",
    "            rvals[i] =  faeff * wt if en<self.back_min else  (faeff+baeff) * wt \n",
    "\n",
    "        from scipy.integrate import simpson\n",
    "        aeff = simpson(rvals, edom,axis=0) / simpson(wts,edom)\n",
    "\n",
    "        return aeff\n",
    "\n",
    "class KerrAeff(BaseAeff):\n",
    "    \"\"\"\n",
    "    Kerr implementation from godot, which uses a $E^{-2.1}$ powerlaw spectrum \n",
    "    \"\"\"\n",
    "\n",
    "    bins_per_decade: int=10\n",
    "    base_spectrum: str='lambda E: (E/1000)**-2.1'\n",
    "    energy_range: tuple =(100,1e4)# (100.,1e6)\n",
    "\n",
    "    def setup(self ):\n",
    "\n",
    "        \"\"\"set up energy domain, evaluate fluxes\n",
    "           This is the Kerr version, using a powerlaw spectrum \n",
    "        \"\"\"\n",
    "\n",
    "        emin,emax = self.energy_range\n",
    "        loge1=np.log10(emin); loge2=np.log10(emax)\n",
    "        self.edom= np.logspace(loge1, loge2, int((loge2-loge1)*self.bins_per_decade+1))\n",
    "\n",
    "        spectrum = eval(self.base_spectrum) #lambda E: (E/1000)**-2.1\n",
    "\n",
    "        self.wts = spectrum(self.edom) # * self.edom\n",
    "\n",
    "        # the threshold for including Back events\n",
    "        # should use default, this is what I was usinq\n",
    "        self.back_min=0 \n",
    "            \n",
    "class SourceAeff(BaseAeff):\n",
    "    \"\"\"\n",
    "    BaseAeff subclass that uses the actual source spectrum applied only to used bands\n",
    "    \"\"\"\n",
    "    \n",
    "    def setup(self):\n",
    "        f = self.source.spectral_model\n",
    "        self.wts  = f(self.edom) #* self.edom\n",
    "        self.back_min=10**2.5"
   ]
  },
  {
   "cell_type": "code",
   "execution_count": null,
   "id": "937a3bc4-b784-4441-b798-f6e2c7ac50a4",
   "metadata": {},
   "outputs": [],
   "source": [
    "# export\n",
    "class WeightedAeff():\n",
    "    \"\"\"Manage the weighted effective area calculation\n",
    "    \"\"\"\n",
    "\n",
    "    def __init__(self, config,\n",
    "                 nebins:int=16, \n",
    "                 imin:tuple=(0,0),\n",
    "                 spectrum = None,\n",
    "                 **kwargs):\n",
    "        \"\"\"\n",
    "        \"\"\"\n",
    "        self.nebins = nebins\n",
    "        self.imin = imin\n",
    "        self.spectrum = spectrum or (lambda E: (E/1000)**-2.1)\n",
    "        self.Aeff = EffectiveArea(file_path=config.datapath/'aeff_files')\n",
    "        self.edom = np.logspace(2,4, self.nebins+1)\n",
    "        self.logedom = np.log(self.edom)\n",
    "        self.dx = dx = np.log(self.edom[-1]/self.edom[0])/self.nebins;\n",
    "        self.wts  = self.spectrum(self.edom)\n",
    "        self.xwts = self.wts*self.edom\n",
    "        self.norm = simpson(self.xwts, dx=dx)\n",
    "    \n",
    "    def cumintegral(self, aeff, start=0):\n",
    "        r = cumsimpson((aeff*self.xwts)[start:], dx=self.dx)/self.norm\n",
    "        if start==0: return r\n",
    "        return np.insert(r, 0, [0]*(start//2))\n",
    "    \n",
    "    def cumint(self, costh):\n",
    "        costh = np.atleast_1d(costh)\n",
    "\n",
    "        r = [ np.array([self.cumintegral( a, start)\n",
    "                 for start,a in zip(\n",
    "                     self.imin, np.array(self.Aeff(self.edom,  z))) ]).sum(axis=0) \n",
    "             for z in costh]\n",
    "        return  np.array(r)\n",
    "    \n",
    "    def __call__(self, costh):\n",
    "        return self.cumint(costh)[:,-1]\n",
    "    \n",
    "    def binned(self, costh):\n",
    "        \"\"\"Split it into 8 bins    \"\"\"\n",
    "        costh = np.atleast_1d(costh)\n",
    "        # costh = np.atleast_1d(costh)\n",
    "        # r = [np.diff(np.insert(self.cumint(z),0,0)) for z in costh]\n",
    "        # return np.array(r)\n",
    "        return np.diff(np.insert(self.cumint(costh),0,0,axis=1))        \n",
    "\n",
    "class NewSourceAeff(WeightedAeff):\n",
    "    def __init__(self, config, source):\n",
    "        super().__init__(config, spectrum=source.spectral_model, imin=(0,4),)\n",
    "       \n",
    "        \n",
    "def weighted_aeff(config, source):\n",
    "    \n",
    "    \"\"\" Use config.use_kerr to return appropriate weighted effective area function of cos theta\n",
    "    \"\"\"\n",
    "     \n",
    "    # return KerrAeff(config, source) if config.use_kerr else SourceAeff(config, source)\n",
    "        \n",
    "    if config.use_kerr:\n",
    "        return WeightedAeff(config)\n",
    "    ### source spectrum, cut low back \n",
    "    return WeightedAeff(config, spectrum=source.spectral_model, imin=(0,4))\n",
    "    "
   ]
  },
  {
   "cell_type": "code",
   "execution_count": null,
   "id": "e2649db6-89d5-4671-92f5-fbabef164db4",
   "metadata": {},
   "outputs": [
    {
     "name": "stdout",
     "output_type": "stream",
     "text": [
      "WeightMan: file from source \"PSR J0633+1746\"_weights.pkl : 16 bamds with nsides 64 to 512\n"
     ]
    }
   ],
   "source": [
    "# hide\n",
    "\n",
    "from wtlike.sources import PointSource\n",
    "config = Config(verbose=2)  \n",
    "if config.valid:\n",
    "    source = PointSource('Geminga', config=config)\n",
    "    self = WeightedAeff(config)               \n",
    "    assert round(self(1.0)[0],1)==5374.0, 'fail Effective area check'   \n",
    "    cts = [0.9,1.0]\n",
    "    assert( np.all(self.binned(cts).sum(axis=1)==self(cts))), 'fail Effective area check' "
   ]
  },
  {
   "cell_type": "markdown",
   "id": "6986dfd6-2a54-4aa0-9061-9502e222ef18",
   "metadata": {},
   "source": [
    "## Weighted exposure\n",
    "\n",
    "The computation of the likelihood for a given cell needs a measurement of the exposure to determine the \n",
    "estimated number of source counts expected for the average source rate. "
   ]
  },
  {
   "cell_type": "code",
   "execution_count": null,
   "id": "cc77a35b-b6c0-497b-97df-42da9a5ee0d5",
   "metadata": {},
   "outputs": [
    {
     "data": {
      "text/markdown": [
       "<h4 id=\"weighted_aeff\" class=\"doc_header\"><code>weighted_aeff</code><a href=\"__main__.py#L54\" class=\"source_link\" style=\"float:right\">[source]</a></h4>\n",
       "\n",
       "> <code>weighted_aeff</code>(**`config`**, **`source`**)\n",
       "\n",
       "Use config.use_kerr to return appropriate weighted effective area function of cos theta\n",
       "    "
      ],
      "text/plain": [
       "<IPython.core.display.Markdown object>"
      ]
     },
     "metadata": {},
     "output_type": "display_data"
    }
   ],
   "source": [
    "show_doc(weighted_aeff)"
   ]
  },
  {
   "cell_type": "markdown",
   "id": "d11019d7-8f48-4ca7-80a5-2c169a4169f0",
   "metadata": {},
   "source": [
    "## Compare weighted effective area: Kerr-mode vs actual with Geminga"
   ]
  },
  {
   "cell_type": "code",
   "execution_count": null,
   "id": "18d7c17c-b32c-4316-b0e3-e3564ed8b2a4",
   "metadata": {},
   "outputs": [
    {
     "ename": "NameError",
     "evalue": "name 'KerrAeff' is not defined",
     "output_type": "error",
     "traceback": [
      "\u001b[0;31m---------------------------------------------------------------------------\u001b[0m",
      "\u001b[0;31mNameError\u001b[0m                                 Traceback (most recent call last)",
      "\u001b[0;32m/tmp/ipykernel_232/2499459214.py\u001b[0m in \u001b[0;36m<module>\u001b[0;34m\u001b[0m\n\u001b[1;32m     23\u001b[0m     \u001b[0msource\u001b[0m\u001b[0;34m=\u001b[0m\u001b[0mPointSource\u001b[0m\u001b[0;34m(\u001b[0m\u001b[0msource_name\u001b[0m\u001b[0;34m)\u001b[0m\u001b[0;34m\u001b[0m\u001b[0;34m\u001b[0m\u001b[0m\n\u001b[1;32m     24\u001b[0m \u001b[0;34m\u001b[0m\u001b[0m\n\u001b[0;32m---> 25\u001b[0;31m     \u001b[0mke\u001b[0m \u001b[0;34m=\u001b[0m \u001b[0mKerrAeff\u001b[0m\u001b[0;34m(\u001b[0m\u001b[0mconfig\u001b[0m\u001b[0;34m,\u001b[0m \u001b[0msource\u001b[0m\u001b[0;34m)\u001b[0m\u001b[0;34m\u001b[0m\u001b[0;34m\u001b[0m\u001b[0m\n\u001b[0m\u001b[1;32m     26\u001b[0m     \u001b[0mse\u001b[0m \u001b[0;34m=\u001b[0m \u001b[0mSourceAeff\u001b[0m\u001b[0;34m(\u001b[0m\u001b[0mconfig\u001b[0m\u001b[0;34m,\u001b[0m \u001b[0msource\u001b[0m\u001b[0;34m)\u001b[0m\u001b[0;34m\u001b[0m\u001b[0;34m\u001b[0m\u001b[0m\n\u001b[1;32m     27\u001b[0m     \u001b[0maeffplots\u001b[0m\u001b[0;34m(\u001b[0m\u001b[0mke\u001b[0m\u001b[0;34m,\u001b[0m\u001b[0mse\u001b[0m\u001b[0;34m)\u001b[0m\u001b[0;34m\u001b[0m\u001b[0;34m\u001b[0m\u001b[0m\n",
      "\u001b[0;31mNameError\u001b[0m: name 'KerrAeff' is not defined"
     ]
    }
   ],
   "source": [
    "#collapse hide\n",
    "from wtlike.sources import PointSource\n",
    "config=Config()\n",
    "# source_name='LS 5039' #'Geminga'\n",
    "\n",
    "def aeffplots(ke,se):\n",
    "    ct = np.linspace(0.4, 1.0, 25)\n",
    "\n",
    "    fig, (ax1,ax2) = plt.subplots(1,2, figsize=(8,4), sharey=True)\n",
    "    plt.subplots_adjust(wspace=0.05)\n",
    "    ax1.semilogx(ke.edom, ke.wts/ke.wts[0], '.-', label='power law')\n",
    "    ax1.semilogx(se.edom, se.wts/se.wts[0], '.-', label=f'{source_name} spectrum')\n",
    "    ax1.legend();ax1.grid(alpha=0.5)\n",
    "    ax1.set(title='energy dependence', ylabel='relative weight')\n",
    "\n",
    "    ax2.plot(ct, se(ct)/se(1), '.-', label='power law')\n",
    "    ax2.plot(ct, ke(ct)/ke(1), '.-', label=f'{source_name} spectrum')\n",
    "    ax2.set( title='angular dependence',xlim=(0.4,1.0), ylim=(0, None),)\n",
    "    ax2.grid(alpha=0.5); ax2.legend();\n",
    "\n",
    "if config.valid:\n",
    "    source_name='Geminga'\n",
    "    source=PointSource(source_name)\n",
    "\n",
    "    ke = KerrAeff(config, source) \n",
    "    se = SourceAeff(config, source)\n",
    "    aeffplots(ke,se)"
   ]
  },
  {
   "cell_type": "code",
   "execution_count": null,
   "id": "c1ab8d87-349f-4723-9bea-a7e09efa4fc9",
   "metadata": {},
   "outputs": [],
   "source": [
    "#hide\n",
    "from utilities.ipynb_docgen import *\n",
    "@ipynb_doc\n",
    "def aeff_vs_band():\n",
    "    \"\"\"\n",
    "    ## Effective area vs energy band\n",
    "    \n",
    "    Compare the Kerr power-law spectrum with that for Geminga.\n",
    "    The latter removes back photons below 316 MeV.\n",
    "    {fig}\n",
    "    \"\"\"\n",
    "    plt.rc('font', size=14)\n",
    "    plt.rc('figure', facecolor='white')\n",
    "    ke2 = WeightedAeff(config)\n",
    "    se2=NewSourceAeff(config, source)\n",
    "\n",
    "    fig, ax = plt.subplots()\n",
    "    ax.plot(ke2.binned(1)[0], 'o--', label='Kerr')\n",
    "    ax.plot(se2.binned(1)[0], 'D--', label='Geminga source')\n",
    "    ax.set(xlabel='Energy band', ylabel='Weighted effective area')\n",
    "    ax.legend();ax.grid(alpha=0.5);\n",
    "    return locals()\n",
    "if config.valid:\n",
    "    aeff_vs_band()"
   ]
  },
  {
   "cell_type": "code",
   "execution_count": null,
   "id": "c14dc9b1-deff-40c1-902e-540bb33234ee",
   "metadata": {},
   "outputs": [],
   "source": [
    "# export\n",
    "def sc_data_selection(config, source, sc_data):\n",
    "\n",
    "    \"\"\"\n",
    "    Return a DataFrame with the S/C data for the source direction, wtih cos theta and zenith cuts\n",
    "\n",
    "    columns:\n",
    "    - start, stop, livetime -- from the FT2 info\n",
    "    - cos_theta -- angle between bore and direction\n",
    "    - exp -- the exposure: effective area at angle weighted by a default spectral function, times livetime\n",
    "\n",
    "    \"\"\"\n",
    "\n",
    "    sc_df = sc_process(config, source, sc_data)\n",
    "    cos_theta = sc_df.cos_theta.values\n",
    "    livetime = sc_df.livetime.values\n",
    "\n",
    "    # now get appropriate weighted effective area, multipy by livetime\n",
    "    if len(cos_theta)>0:\n",
    "        if config.use_kerr:\n",
    "            sc_df.loc[:,'exp'] = KerrAeff(config, source)(cos_theta) * livetime\n",
    "        else:\n",
    "            sc_df.loc[:,'exp'] = SourceAeff(config, source)(cos_theta) * livetime\n",
    "\n",
    "    return sc_df"
   ]
  },
  {
   "cell_type": "code",
   "execution_count": null,
   "id": "4de87a8b-42cd-4c10-ad4f-0ae166f568bb",
   "metadata": {},
   "outputs": [],
   "source": [
    "# export\n",
    "def binned_exposure(config, exposure, time_edges):\n",
    "    \"\"\"Bin the exposure into cells\n",
    "\n",
    "    - exposure -- A DataFrame derived from FT2\n",
    "    - time_bins: list of edges, an interleaved start/stop array\n",
    "\n",
    "\n",
    "    Returns:\n",
    "\n",
    "    An array of exposure integrated over each time bin. Assumes that the time bins\n",
    "    are contained within the exposure.\n",
    "\n",
    "    it is interleaved, client must apply [0::2] selection. \n",
    "\n",
    "    \"\"\"\n",
    "\n",
    "    # get exposure calculation\n",
    "    exp   =exposure.exp.values\n",
    "    estart= exposure.start.values\n",
    "    estop = exposure.stop.values\n",
    "\n",
    "    # determine bins,\n",
    "\n",
    "    #use cumulative exposure to integrate over larger periods\n",
    "    cumexp = np.concatenate(([0],np.cumsum(exp)) )\n",
    "\n",
    "    # get index into tstop array of the bin edges\n",
    "    edge_index = np.searchsorted(estop, time_edges)\n",
    "\n",
    "    # return the exposure integrated over the intervals\n",
    "    cum = cumexp[edge_index]\n",
    "\n",
    "    # difference is exposure per interval\n",
    "    bexp = np.diff(cum)\n",
    "#     if config.verbose>1:\n",
    "#         print(f'exposure per bin:\\n{pd.Series(bexp).describe(percentiles=[])}')\n",
    "    return bexp"
   ]
  },
  {
   "cell_type": "code",
   "execution_count": null,
   "id": "63316376-fb8e-4008-afe6-7326a54f452f",
   "metadata": {},
   "outputs": [],
   "source": [
    "show_doc(binned_exposure)"
   ]
  },
  {
   "cell_type": "code",
   "execution_count": null,
   "id": "079a09d8-168c-4f6d-a446-243476620d5e",
   "metadata": {},
   "outputs": [],
   "source": [
    "#hide\n",
    "from nbdev.export import notebook2script\n",
    "notebook2script()\n",
    "!date"
   ]
  },
  {
   "cell_type": "code",
   "execution_count": null,
   "id": "8e2b346b-6bdf-4baf-b25e-f9546d79c258",
   "metadata": {},
   "outputs": [],
   "source": []
  }
 ],
 "metadata": {
  "kernelspec": {
   "display_name": "Python 3 (ipykernel)",
   "language": "python",
   "name": "python3"
  }
 },
 "nbformat": 4,
 "nbformat_minor": 5
}
