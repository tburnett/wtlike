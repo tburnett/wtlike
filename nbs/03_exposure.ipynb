{
 "cells": [
  {
   "cell_type": "code",
   "execution_count": null,
   "id": "70d1527f-5bc9-4d24-8065-24e877ba720c",
   "metadata": {},
   "outputs": [
    {
     "name": "stdout",
     "output_type": "stream",
     "text": [
      "Sat Jul  9 01:30:03 PDT 2022\n"
     ]
    }
   ],
   "source": [
    "# default_exp exposure\n",
    "%reload_ext autoreload\n",
    "%autoreload 2\n",
    "from nbdev.showdoc import show_doc\n",
    "import matplotlib.pyplot as plt\n",
    "plt.rc('figure',facecolor='white')\n",
    "!date"
   ]
  },
  {
   "cell_type": "markdown",
   "id": "92f80446-b877-4f4d-aea1-60b1700e760c",
   "metadata": {},
   "source": [
    "# Exposure processing\n",
    "> Combine the FT2 spacecraft livetime information with the effective area to produce exposure for a given direction and spectrum "
   ]
  },
  {
   "cell_type": "markdown",
   "id": "222081f4-7d16-4ff3-9a33-2b806ae7e781",
   "metadata": {},
   "source": [
    "The spacecraft information is a list, for 30-s intervals, of the livetime and instrument $\\theta$ of the source. \n",
    "We need a weighted effective area\n",
    "as a function of $\\theta$. This requires a weighting function of energy, or a spectrum. Matthew used a simple power law with index -2.1. implemented in by the class `KerrAeff`. But here we have the actual source spectrum available. Also, the data here excludes low-energy Back events the class `SourceAeff` uses both."
   ]
  },
  {
   "cell_type": "markdown",
   "id": "3920161b-4f4e-4f7a-8979-83c8e1dcdbb1",
   "metadata": {},
   "source": [
    "## Implemented here:\n",
    "\n",
    "* `time_bin_edges`\n",
    "* `cell_exposure`\n",
    "* `sc_data_selection`\n",
    "* `binned_exposure`\n"
   ]
  },
  {
   "cell_type": "code",
   "execution_count": null,
   "id": "c1b0efb8-4445-458b-9745-e6904ef24f12",
   "metadata": {},
   "outputs": [],
   "source": [
    "#export\n",
    "import pandas as pd\n",
    "import numpy as np\n",
    "\n",
    "from wtlike.config import (Config, UTC, MJD)\n",
    "from wtlike.effective_area import EffectiveArea"
   ]
  },
  {
   "cell_type": "code",
   "execution_count": null,
   "id": "d76a34ba-f0d3-4b29-970d-d7add8eb4caa",
   "metadata": {},
   "outputs": [],
   "source": [
    "# export  \n",
    "def time_bin_edges(config, exposure, tbin=None):\n",
    "    \"\"\"Return an interleaved array of start/stop values\n",
    "\n",
    "    tbin: an array (a,b,d), default config.time_bins\n",
    "\n",
    "    interpretation of a, b:\n",
    "\n",
    "        if > 50000: interpret as MJD\n",
    "        if < 0:     offset from stop\n",
    "        otherwise:  offset from start\n",
    "\n",
    "    d : if positive, the day bin size\n",
    "        if 0; return contiguous bins\n",
    "\n",
    "\n",
    "    \"\"\"\n",
    "    # nominal total range, MJD edges\n",
    "    tstart = start = np.round(exposure.start.values[0])\n",
    "    stop =  np.round(exposure.stop.values[-1])\n",
    "\n",
    "    a, b, step = tbin if tbin is not None else config.time_bins\n",
    "\n",
    "\n",
    "    if a>50000: start=a\n",
    "    elif a<0: start = stop+a\n",
    "    else : start = tstart + a\n",
    "\n",
    "    if b>50000: stop=b\n",
    "    elif b>0: stop = tstart+b\n",
    "    else: stop += b\n",
    "\n",
    "    if step<=0:\n",
    "        return contiguous_bins(exposure.query(f'{start}<start<{stop}'),)\n",
    "\n",
    "    # adjust stop\n",
    "    nbins = int((stop-start)/step)\n",
    "    assert nbins>0, 'Bad binning: no bins'\n",
    "    stop = start+(nbins)*step\n",
    "    u =  np.linspace(start,stop, nbins+1 )\n",
    "\n",
    "    # make an interleaved start/stop array\n",
    "    v = np.empty(2*nbins, float)\n",
    "    v[0::2] = u[:-1]\n",
    "    v[1::2] = u[1:]\n",
    "    return v"
   ]
  },
  {
   "cell_type": "code",
   "execution_count": null,
   "id": "41bd688b-149b-4ef7-bab1-34e5e0c047d4",
   "metadata": {},
   "outputs": [
    {
     "data": {
      "text/markdown": [
       "<h4 id=\"time_bin_edges\" class=\"doc_header\"><code>time_bin_edges</code><a href=\"__main__.py#L2\" class=\"source_link\" style=\"float:right\">[source]</a></h4>\n",
       "\n",
       "> <code>time_bin_edges</code>(**`config`**, **`exposure`**, **`tbin`**=*`None`*)\n",
       "\n",
       "Return an interleaved array of start/stop values\n",
       "\n",
       "tbin: an array (a,b,d), default config.time_bins\n",
       "\n",
       "interpretation of a, b:\n",
       "\n",
       "    if > 50000: interpret as MJD\n",
       "    if < 0:     offset from stop\n",
       "    otherwise:  offset from start\n",
       "\n",
       "d : if positive, the day bin size\n",
       "    if 0; return contiguous bins"
      ],
      "text/plain": [
       "<IPython.core.display.Markdown object>"
      ]
     },
     "metadata": {},
     "output_type": "display_data"
    }
   ],
   "source": [
    "show_doc(time_bin_edges)"
   ]
  },
  {
   "cell_type": "code",
   "execution_count": null,
   "id": "6409acba-7920-4842-9b98-eed8805f70a1",
   "metadata": {},
   "outputs": [],
   "source": [
    "# export\n",
    "def cell_exposure(config, exposure, time_bins, exposure_factor=1e-6, set_costh=False):\n",
    "    \"\"\"\n",
    "    Determine the exposure per cell\n",
    "    input:\n",
    "    - exposure -- dataframe with spacecraft data\n",
    "    - time_bins -- time binning (start, stop, step) tuple\n",
    "\n",
    "    Return: a dict of \n",
    "    - edges -- list of cell edges, an interleaved array of start/stop values\n",
    "    - exp -- exposure per cell, in cm^2 Ms units, if exposure_factor==1e-6\n",
    "    - etot -- total exposure\n",
    "    - costh -- mean cos theta per cell if requested \n",
    "    - exp_energy if exp_fract in the exposure DF, set exposure energy\n",
    "\n",
    "    Note: total exposure vs. energy is:\n",
    "        t = df.apply(lambda r: np.array(r.exp * np.array(r.exp_fract), float), axis=1).values\n",
    "        u = np.vstack(t)\n",
    "    \"\"\"\n",
    "    exp = exposure.exp.values\n",
    "    costh = exposure.cos_theta.values\n",
    "    etot = np.sum(exp) * exposure_factor\n",
    "    \n",
    "    cell_edges = time_bin_edges(config, exposure, time_bins)\n",
    "    # the cell index list  \n",
    "    eci = np.searchsorted(exposure.stop, cell_edges).reshape(len(cell_edges)//2,2)\n",
    "    cell_exp = np.array([exp[slice(*ecx)].sum()*exposure_factor for ecx in eci], np.float32) #np.float32)\n",
    "    \n",
    "    ret = dict(exp=cell_exp, edges=cell_edges, etot=etot)\n",
    "    \n",
    "    if set_costh:\n",
    "        ret['costh'] =np.array([costh[slice(*ecx)].mean() for ecx in eci], np.float32) \n",
    "        \n",
    "    \n",
    "    ef = exposure.get('exp_fract', None)\n",
    "    if ef is not None:\n",
    "        efa = np.array([np.array(x,float) for x in ef])\n",
    "        efe = efa.T * exp\n",
    "        ret['exp_energy'] = np.array([efe.T[slice(*ecx)].sum(axis=0)*exposure_factor for ecx in eci], np.float32)\n",
    "\n",
    "    return ret"
   ]
  },
  {
   "cell_type": "code",
   "execution_count": null,
   "id": "e3d224df-147f-47ec-b3c6-c7b8455d3070",
   "metadata": {},
   "outputs": [
    {
     "data": {
      "text/markdown": [
       "<h4 id=\"cell_exposure\" class=\"doc_header\"><code>cell_exposure</code><a href=\"__main__.py#L2\" class=\"source_link\" style=\"float:right\">[source]</a></h4>\n",
       "\n",
       "> <code>cell_exposure</code>(**`config`**, **`exposure`**, **`time_bins`**, **`exposure_factor`**=*`1e-06`*, **`set_costh`**=*`False`*)\n",
       "\n",
       "Determine the exposure per cell\n",
       "input:\n",
       "- exposure -- dataframe with spacecraft data\n",
       "- time_bins -- time binning (start, stop, step) tuple\n",
       "\n",
       "Return: a dict of \n",
       "- edges -- list of cell edges, an interleaved array of start/stop values\n",
       "- exp -- exposure per cell, in cm^2 Ms units, if exposure_factor==1e-6\n",
       "- etot -- total exposure\n",
       "- costh -- mean cos theta per cell if requested \n",
       "- exp_energy if exp_fract in the exposure DF, set exposure energy\n",
       "\n",
       "Note: total exposure vs. energy is:\n",
       "    t = df.apply(lambda r: np.array(r.exp * np.array(r.exp_fract), float), axis=1).values\n",
       "    u = np.vstack(t)"
      ],
      "text/plain": [
       "<IPython.core.display.Markdown object>"
      ]
     },
     "metadata": {},
     "output_type": "display_data"
    }
   ],
   "source": [
    "show_doc(cell_exposure)"
   ]
  },
  {
   "cell_type": "code",
   "execution_count": null,
   "id": "91c23666-3db6-4408-a558-ca8ccdfb57aa",
   "metadata": {},
   "outputs": [],
   "source": [
    "# exporti\n",
    "def sc_process(config, source, sc_data):\n",
    "\n",
    "    \"\"\"\n",
    "    - source -- contains ra, dec in degrees\n",
    "    - sc_data -- DF constructed from spacecraft data (FT2).\n",
    "\n",
    "    Return: a dict with the S/C data for the source direction, wtih cos theta and zenith cuts\n",
    "\n",
    "    columns:\n",
    "    - start, stop, livetime -- from the FT2 info\n",
    "    - cos_theta -- angle between bore and direction\n",
    "    \"\"\"\n",
    "\n",
    "    # calculate cosines with respect to sky direction\n",
    "    ra_r,dec_r = np.radians(source.ra), np.radians(source.dec)\n",
    "    sdec, cdec = np.sin(dec_r), np.cos(dec_r)\n",
    "\n",
    "    def cosines( ra2, dec2):\n",
    "        ra2_r =  np.radians(ra2.values)\n",
    "        dec2_r = np.radians(dec2.values)\n",
    "        return np.cos(dec2_r)*cdec*np.cos(ra_r-ra2_r) + np.sin(dec2_r)*sdec\n",
    "\n",
    "    cos_thetas = cosines(sc_data.ra_scz,    sc_data.dec_scz)\n",
    "    zcosines = cosines(sc_data.ra_zenith, sc_data.dec_zenith)\n",
    "    # mask out entries too close to zenith, or too far away from ROI center\n",
    "    mask =   (cos_thetas >= config.cos_theta_max) & (zcosines>=np.cos(np.radians(config.z_max)))\n",
    "    if config.verbose>1:\n",
    "        print(f'\\tFound {len(mask):,} S/C entries:  {sum(mask):,} remain after zenith and theta cuts')\n",
    "    dfm = sc_data.loc[mask,:]\n",
    "    livetime = dfm.livetime.values\n",
    "    \n",
    "    return  pd.DataFrame(\n",
    "        dict(\n",
    "            start=sc_data.start[mask].astype(np.float64),\n",
    "            stop=sc_data.stop[mask].astype(np.float64),\n",
    "            livetime=livetime,\n",
    "            cos_theta=cos_thetas[mask],\n",
    "            )\n",
    "         )\n",
    "    "
   ]
  },
  {
   "cell_type": "code",
   "execution_count": null,
   "id": "76b774fb-ddb8-4808-8ce6-41d8e49b7b1e",
   "metadata": {},
   "outputs": [],
   "source": [
    "# export\n",
    "from scipy.integrate import simpson\n",
    "\n",
    "def cumsimpson(y, dx):\n",
    "    \"\"\"Return the cumulative Simpson integral for an odd number>2 of equally-spaced evaluations\n",
    "     * y -- array of integrand values, 2n+1 values for 2n intervals\n",
    "     * dx -- interval size\n",
    "     \n",
    "     Returns array of size n, the cumulative integral estimate for pairs of intervals. \n",
    "     \n",
    "     >>> x, dx = np.linspace(0,1, 5), 1/4\n",
    "     >>> print(cumsimpson(x, dx)) \n",
    "     >>> [0.125 0.5  ]\n",
    "    \"\"\"\n",
    "    v = np.empty((3*(len(y)-1)//2))\n",
    "    v[0::3] = y[0:-1:2]\n",
    "    v[1::3] = 4*y[1::2]\n",
    "    v[2::3] = y[2::2]\n",
    "    return (np.cumsum(v)*dx/3)[2::3]\n"
   ]
  },
  {
   "cell_type": "markdown",
   "id": "6bae8d53-9b1b-4227-947d-e2e194de1e3c",
   "metadata": {},
   "source": [
    "### Demonstrate superiority of integral using integrand  $x\\ f(x)\\  d\\log(x)$\n",
    "\n",
    "Instead of $f(x)\\ dx$."
   ]
  },
  {
   "cell_type": "code",
   "execution_count": null,
   "id": "21f30afe-6e73-4cca-923b-f9b063bdbece",
   "metadata": {},
   "outputs": [
    {
     "name": "stdout",
     "output_type": "stream",
     "text": [
      "Errors:\n",
      "\tLinear: -4.7e-03\n",
      "\tLog:    +3.8e-05\n"
     ]
    }
   ],
   "source": [
    "nbins = 16\n",
    "f = lambda x: x**-2\n",
    "ee = np.logspace(2,4,nbins+1)\n",
    "r = 1e-2-1e-4\n",
    "print(f'Errors:\\n\\tLinear: {simpson(f(ee), ee)/r-1:+6.1e}'\n",
    "      f'\\n\\tLog:    {simpson( f(ee)*ee, np.log(ee) )/r-1:+6.1e}')"
   ]
  },
  {
   "cell_type": "code",
   "execution_count": null,
   "id": "6b5ae82c-f847-4384-ab25-8df1a08c5fb0",
   "metadata": {},
   "outputs": [],
   "source": [
    "# hide\n",
    "x = np.linspace(0,1,5)\n",
    "assert( np.all( cumsimpson(x, 1/4) == np.array([1/8,1/2]) ) ), 'Fail simple test'"
   ]
  },
  {
   "cell_type": "code",
   "execution_count": null,
   "id": "0881b346-caa1-42cb-a744-26bfcdbc5670",
   "metadata": {},
   "outputs": [],
   "source": [
    "# export\n",
    "from abc import abstractmethod\n",
    "\n",
    "class BaseAeff(object):\n",
    "    \"\"\"\n",
    "    Base class for calculating the weighted effective area\n",
    "    \n",
    "    It defines a functor of `costh`, returning  the effective area weighted by a spectrum. \n",
    "    The exposure is then a sum over intervals of this weighted effective area times the livetime per interval.\n",
    "    \n",
    "    A subclass must define a `setup` method to define the spectral function and minimum energy \n",
    "    to include Back events. \n",
    "    \"\"\"\n",
    "\n",
    "    # default energies to use for Simpson's integral: 8/decade from 100 MeV to 10 GeV\n",
    "    edom = np.logspace(2,4,17)\n",
    "    \n",
    "    def __init__(self, config, source, \n",
    "                 elim:tuple=(1e2,1e4)):\n",
    "        self.elim = elim\n",
    "        self.source = source\n",
    "        self.Aeff = EffectiveArea(file_path=config.datapath/'aeff_files')\n",
    "        self.back_min =0 #??\n",
    "        self.setup()\n",
    "\n",
    "    @abstractmethod\n",
    "    def setup(self):\n",
    "        pass\n",
    "  \n",
    "    def __call__(self, cos_theta) : #sc_data):\n",
    "        \"\"\"\n",
    "        Return the weighted effective area as a function of $\\\\cos( \\\\theta) $\n",
    "\n",
    "        \"\"\"\n",
    "        # as set by self.setup -- also self.back_min\n",
    "        edom = self.edom\n",
    "        wts = self.wts \n",
    "        cos_theta = np.atleast_1d(cos_theta)\n",
    "\n",
    "        # a table of the weights for each pair in spectral flux and cos_theta arrays\n",
    "        rvals = np.empty([len(wts),len(cos_theta)])\n",
    "\n",
    "        for i, (en,wt) in enumerate(zip(edom,wts)):\n",
    "            faeff, baeff = np.array(self.Aeff( [en], cos_theta ))\n",
    "            rvals[i] =  faeff * wt if en<self.back_min else  (faeff+baeff) * wt \n",
    "\n",
    "        from scipy.integrate import simpson\n",
    "        aeff = simpson(rvals, edom,axis=0) / simpson(wts,edom)\n",
    "\n",
    "        return aeff\n",
    "\n",
    "class KerrAeff(BaseAeff):\n",
    "    \"\"\"\n",
    "    Kerr implementation from godot, which uses a $E^{-2.1}$ powerlaw spectrum \n",
    "    \"\"\"\n",
    "\n",
    "    bins_per_decade: int=10\n",
    "    base_spectrum: str='lambda E: (E/1000)**-2.1'\n",
    "    energy_range: tuple =(100,1e4)# (100.,1e6)\n",
    "\n",
    "    def setup(self ):\n",
    "\n",
    "        \"\"\"set up energy domain, evaluate fluxes\n",
    "           This is the Kerr version, using a powerlaw spectrum \n",
    "        \"\"\"\n",
    "\n",
    "        emin,emax = self.energy_range\n",
    "        loge1=np.log10(emin); loge2=np.log10(emax)\n",
    "        self.edom= np.logspace(loge1, loge2, int((loge2-loge1)*self.bins_per_decade+1))\n",
    "\n",
    "        spectrum = eval(self.base_spectrum) #lambda E: (E/1000)**-2.1\n",
    "\n",
    "        self.wts = spectrum(self.edom) # * self.edom\n",
    "\n",
    "        # the threshold for including Back events\n",
    "        # should use default, this is what I was usinq\n",
    "        self.back_min=0 \n",
    "            \n",
    "class SourceAeff(BaseAeff):\n",
    "    \"\"\"\n",
    "    BaseAeff subclass that uses the actual source spectrum applied only to used bands\n",
    "    \"\"\"\n",
    "    \n",
    "    def setup(self):\n",
    "        f = self.source.spectral_model\n",
    "        self.wts  = f(self.edom) #* self.edom\n",
    "        self.back_min=10**2.5"
   ]
  },
  {
   "cell_type": "code",
   "execution_count": null,
   "id": "937a3bc4-b784-4441-b798-f6e2c7ac50a4",
   "metadata": {},
   "outputs": [],
   "source": [
    "# export\n",
    "class WeightedAeff():\n",
    "    \"\"\"Manage the weighted effective area calculation\n",
    "    \"\"\"\n",
    "\n",
    "    def __init__(self, config,\n",
    "                 nebins:int=16, \n",
    "                 imin:tuple=(0,0),\n",
    "                 spectrum = None,\n",
    "                 **kwargs):\n",
    "        \"\"\"\n",
    "        \"\"\"\n",
    "        self.nebins = nebins\n",
    "        self.imin = imin\n",
    "        self.spectrum = spectrum or (lambda E: (E/1000)**-2.1)\n",
    "        self.Aeff = EffectiveArea(file_path=config.datapath/'aeff_files')\n",
    "        self.edom = np.logspace(2,4, self.nebins+1)\n",
    "        self.logedom = np.log(self.edom)\n",
    "        self.dx = dx = np.log(self.edom[-1]/self.edom[0])/self.nebins;\n",
    "        self.wts  = self.spectrum(self.edom)\n",
    "        self.xwts = self.wts*self.edom\n",
    "        self.norm = simpson(self.xwts, dx=dx)\n",
    "    \n",
    "    def cumintegral(self, aeff, start=0):\n",
    "        r = cumsimpson((aeff*self.xwts)[start:], dx=self.dx)/self.norm\n",
    "        if start==0: return r\n",
    "        return np.insert(r, 0, [0]*(start//2))\n",
    "    \n",
    "    def cumint(self, costh):\n",
    "        costh = np.atleast_1d(costh)\n",
    "\n",
    "        r = [ np.array([self.cumintegral( a, start)\n",
    "                 for start,a in zip(\n",
    "                     self.imin, np.array(self.Aeff(self.edom,  z))) ]).sum(axis=0) \n",
    "             for z in costh]\n",
    "        return  np.array(r)\n",
    "    \n",
    "    def __call__(self, costh):\n",
    "        return self.cumint(costh)[:,-1]\n",
    "    \n",
    "    def binned(self, costh):\n",
    "        \"\"\"Split it into 8 bins    \"\"\"\n",
    "        costh = np.atleast_1d(costh)\n",
    "        # costh = np.atleast_1d(costh)\n",
    "        # r = [np.diff(np.insert(self.cumint(z),0,0)) for z in costh]\n",
    "        # return np.array(r)\n",
    "        return np.diff(np.insert(self.cumint(costh),0,0,axis=1))      \n",
    "    \n",
    "    def beam_window(self, lmax=12):\n",
    "        \"\"\" Return an array of Legendre coefficients \n",
    "            Corresponds to a healpy \"beam_window\" function \n",
    "        \"\"\"\n",
    "        \n",
    "        import healpy\n",
    "        func2 = lambda z : np.where( z>0.2, self(z), 0)\n",
    "        lmax=12\n",
    "        theta = np.linspace(0,np.pi,181)\n",
    "        z = np.cos(theta)\n",
    "        bl = healpy.sphtfunc.beam2bl(func2(z), theta, lmax=lmax);\n",
    "        return bl\n",
    "\n",
    "class NewSourceAeff(WeightedAeff):\n",
    "    def __init__(self, config, source):\n",
    "        super().__init__(config, spectrum=source.spectral_model, imin=(0,4),)\n",
    "       \n",
    "        \n",
    "def weighted_aeff(config, source):\n",
    "    \n",
    "    \"\"\" Use config.use_kerr to return appropriate weighted effective area function of cos theta\n",
    "    \"\"\"\n",
    "     \n",
    "    # return KerrAeff(config, source) if config.use_kerr else SourceAeff(config, source)\n",
    "        \n",
    "    if config.use_kerr:\n",
    "        return WeightedAeff(config)\n",
    "    ### source spectrum, cut low back \n",
    "    return WeightedAeff(config, spectrum=source.spectral_model, imin=(0,4))\n",
    "    "
   ]
  },
  {
   "cell_type": "code",
   "execution_count": null,
   "id": "e2649db6-89d5-4671-92f5-fbabef164db4",
   "metadata": {},
   "outputs": [
    {
     "name": "stdout",
     "output_type": "stream",
     "text": [
      "WeightMan: file from source \"Geminga\"_weights.pkl : 16 bamds with nsides 64 to 512\n"
     ]
    }
   ],
   "source": [
    "# hide\n",
    "\n",
    "from wtlike.sources import PointSource\n",
    "config = Config(verbose=2)  \n",
    "if config.valid:\n",
    "    source = PointSource('Geminga', config=config)\n",
    "    self = WeightedAeff(config)               \n",
    "    assert round(self(1.0)[0],1)==5374.0, 'fail Effective area check'   \n",
    "    cts = [0.9,1.0]\n",
    "    assert( np.all(self.binned(cts).sum(axis=1)==self(cts))), 'fail Effective area check' "
   ]
  },
  {
   "cell_type": "markdown",
   "id": "6986dfd6-2a54-4aa0-9061-9502e222ef18",
   "metadata": {},
   "source": [
    "## Weighted exposure\n",
    "\n",
    "The computation of the likelihood for a given cell needs a measurement of the exposure to determine the \n",
    "estimated number of source counts expected for the average source rate. "
   ]
  },
  {
   "cell_type": "code",
   "execution_count": null,
   "id": "cc77a35b-b6c0-497b-97df-42da9a5ee0d5",
   "metadata": {},
   "outputs": [
    {
     "data": {
      "text/markdown": [
       "<h4 id=\"weighted_aeff\" class=\"doc_header\"><code>weighted_aeff</code><a href=\"__main__.py#L67\" class=\"source_link\" style=\"float:right\">[source]</a></h4>\n",
       "\n",
       "> <code>weighted_aeff</code>(**`config`**, **`source`**)\n",
       "\n",
       "Use config.use_kerr to return appropriate weighted effective area function of cos theta\n",
       "    "
      ],
      "text/plain": [
       "<IPython.core.display.Markdown object>"
      ]
     },
     "metadata": {},
     "output_type": "display_data"
    }
   ],
   "source": [
    "show_doc(weighted_aeff)"
   ]
  },
  {
   "cell_type": "markdown",
   "id": "d11019d7-8f48-4ca7-80a5-2c169a4169f0",
   "metadata": {},
   "source": [
    "## Compare weighted effective area: Kerr-mode vs actual with Geminga"
   ]
  },
  {
   "cell_type": "code",
   "execution_count": null,
   "id": "18d7c17c-b32c-4316-b0e3-e3564ed8b2a4",
   "metadata": {},
   "outputs": [
    {
     "data": {
      "image/png": "[encoded data removed]",
      "text/plain": [
       "<Figure size 576x288 with 2 Axes>"
      ]
     },
     "metadata": {},
     "output_type": "display_data"
    }
   ],
   "source": [
    "#collapse hide\n",
    "from wtlike.sources import PointSource\n",
    "config=Config()\n",
    "# source_name='LS 5039' #'Geminga'\n",
    "\n",
    "def aeffplots(ke,se):\n",
    "    ct = np.linspace(0.4, 1.0, 25)\n",
    "\n",
    "    fig, (ax1,ax2) = plt.subplots(1,2, figsize=(8,4), sharey=True)\n",
    "    plt.subplots_adjust(wspace=0.05)\n",
    "    ax1.semilogx(ke.edom, ke.wts/ke.wts[0], '.-', label='power law')\n",
    "    ax1.semilogx(se.edom, se.wts/se.wts[0], '.-', label=f'{source_name} spectrum')\n",
    "    ax1.legend();ax1.grid(alpha=0.5)\n",
    "    ax1.set(title='energy dependence', ylabel='relative weight')\n",
    "\n",
    "    ax2.plot(ct, se(ct)/se(1), '.-', label='power law')\n",
    "    ax2.plot(ct, ke(ct)/ke(1), '.-', label=f'{source_name} spectrum')\n",
    "    ax2.set( title='angular dependence',xlim=(0.4,1.0), ylim=(0, None),)\n",
    "    ax2.grid(alpha=0.5); ax2.legend();\n",
    "\n",
    "if config.valid:\n",
    "    source_name='Geminga'\n",
    "    source=PointSource(source_name)\n",
    "\n",
    "    ke = KerrAeff(config, source) \n",
    "    se = SourceAeff(config, source)\n",
    "    aeffplots(ke,se)"
   ]
  },
  {
   "cell_type": "code",
   "execution_count": null,
   "id": "c1ab8d87-349f-4723-9bea-a7e09efa4fc9",
   "metadata": {},
   "outputs": [
    {
     "data": {
      "text/markdown": [
       "## Effective area vs energy band\n",
       "\n",
       "Compare the Kerr power-law spectrum with that for Geminga.\n",
       "The latter removes back photons below 316 MeV.\n",
       "<figure style=\"margin-left: 5%\" title=\"Figure 1\">   <img src=\"data:image/png;base64,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\" alt=\"Figure 1\"  <br> </figure>\n"
      ],
      "text/plain": [
       "<utilities.ipynb_docgen.doc_formatter.<locals>.MimeBundleObject at 0x7f8188fb1790>"
      ]
     },
     "metadata": {},
     "output_type": "display_data"
    }
   ],
   "source": [
    "#hide\n",
    "from utilities.ipynb_docgen import *\n",
    "@ipynb_doc\n",
    "def aeff_vs_band():\n",
    "    \"\"\"\n",
    "    ## Effective area vs energy band\n",
    "    \n",
    "    Compare the Kerr power-law spectrum with that for Geminga.\n",
    "    The latter removes back photons below 316 MeV.\n",
    "    {fig}\n",
    "    \"\"\"\n",
    "    plt.rc('font', size=14)\n",
    "    plt.rc('figure', facecolor='white')\n",
    "    ke2 = WeightedAeff(config)\n",
    "    se2=NewSourceAeff(config, source)\n",
    "\n",
    "    fig, ax = plt.subplots()\n",
    "    ax.plot(ke2.binned(1)[0], 'o--', label='Kerr')\n",
    "    ax.plot(se2.binned(1)[0], 'D--', label='Geminga source')\n",
    "    ax.set(xlabel='Energy band', ylabel='Weighted effective area')\n",
    "    ax.legend();ax.grid(alpha=0.5);\n",
    "    return locals()\n",
    "if config.valid:\n",
    "    aeff_vs_band()"
   ]
  },
  {
   "cell_type": "code",
   "execution_count": null,
   "id": "c14dc9b1-deff-40c1-902e-540bb33234ee",
   "metadata": {},
   "outputs": [],
   "source": [
    "# export\n",
    "def sc_data_selection(config, source, sc_data):\n",
    "\n",
    "    \"\"\"\n",
    "    Return a DataFrame with the S/C data for the source direction, wtih cos theta and zenith cuts\n",
    "\n",
    "    columns:\n",
    "    - start, stop, livetime -- from the FT2 info\n",
    "    - cos_theta -- angle between bore and direction\n",
    "    - exp -- the exposure: effective area at angle weighted by a default spectral function, times livetime\n",
    "\n",
    "    \"\"\"\n",
    "\n",
    "    sc_df = sc_process(config, source, sc_data)\n",
    "    cos_theta = sc_df.cos_theta.values\n",
    "    livetime = sc_df.livetime.values\n",
    "\n",
    "    # now get appropriate weighted effective area, multipy by livetime\n",
    "    if len(cos_theta)>0:\n",
    "        if config.use_kerr:\n",
    "            sc_df.loc[:,'exp'] = KerrAeff(config, source)(cos_theta) * livetime\n",
    "        else:\n",
    "            sc_df.loc[:,'exp'] = SourceAeff(config, source)(cos_theta) * livetime\n",
    "\n",
    "    return sc_df"
   ]
  },
  {
   "cell_type": "code",
   "execution_count": null,
   "id": "4de87a8b-42cd-4c10-ad4f-0ae166f568bb",
   "metadata": {},
   "outputs": [],
   "source": [
    "# export\n",
    "def binned_exposure(config, exposure, time_edges):\n",
    "    \"\"\"Bin the exposure into cells\n",
    "\n",
    "    - exposure -- A DataFrame derived from FT2\n",
    "    - time_bins: list of edges, an interleaved start/stop array\n",
    "\n",
    "\n",
    "    Returns:\n",
    "\n",
    "    An array of exposure integrated over each time bin. Assumes that the time bins\n",
    "    are contained within the exposure.\n",
    "\n",
    "    it is interleaved, client must apply [0::2] selection. \n",
    "\n",
    "    \"\"\"\n",
    "\n",
    "    # get exposure calculation\n",
    "    exp   =exposure.exp.values\n",
    "    estart= exposure.start.values\n",
    "    estop = exposure.stop.values\n",
    "\n",
    "    # determine bins,\n",
    "\n",
    "    #use cumulative exposure to integrate over larger periods\n",
    "    cumexp = np.concatenate(([0],np.cumsum(exp)) )\n",
    "\n",
    "    # get index into tstop array of the bin edges\n",
    "    edge_index = np.searchsorted(estop, time_edges)\n",
    "\n",
    "    # return the exposure integrated over the intervals\n",
    "    cum = cumexp[edge_index]\n",
    "\n",
    "    # difference is exposure per interval\n",
    "    bexp = np.diff(cum)\n",
    "#     if config.verbose>1:\n",
    "#         print(f'exposure per bin:\\n{pd.Series(bexp).describe(percentiles=[])}')\n",
    "    return bexp"
   ]
  },
  {
   "cell_type": "code",
   "execution_count": null,
   "id": "63316376-fb8e-4008-afe6-7326a54f452f",
   "metadata": {},
   "outputs": [
    {
     "data": {
      "text/markdown": [
       "<h4 id=\"binned_exposure\" class=\"doc_header\"><code>binned_exposure</code><a href=\"__main__.py#L2\" class=\"source_link\" style=\"float:right\">[source]</a></h4>\n",
       "\n",
       "> <code>binned_exposure</code>(**`config`**, **`exposure`**, **`time_edges`**)\n",
       "\n",
       "Bin the exposure into cells\n",
       "\n",
       "- exposure -- A DataFrame derived from FT2\n",
       "- time_bins: list of edges, an interleaved start/stop array\n",
       "\n",
       "\n",
       "Returns:\n",
       "\n",
       "An array of exposure integrated over each time bin. Assumes that the time bins\n",
       "are contained within the exposure.\n",
       "\n",
       "it is interleaved, client must apply [0::2] selection. "
      ],
      "text/plain": [
       "<IPython.core.display.Markdown object>"
      ]
     },
     "metadata": {},
     "output_type": "display_data"
    }
   ],
   "source": [
    "show_doc(binned_exposure)"
   ]
  },
  {
   "cell_type": "code",
   "execution_count": null,
   "id": "079a09d8-168c-4f6d-a446-243476620d5e",
   "metadata": {},
   "outputs": [
    {
     "name": "stdout",
     "output_type": "stream",
     "text": [
      "Converted 00_config.ipynb.\n",
      "Converted 01_data_man.ipynb.\n",
      "Converted 02_effective_area.ipynb.\n",
      "Converted 03_exposure.ipynb.\n",
      "Converted 03_sources.ipynb.\n",
      "Converted 04_load_data.ipynb.\n",
      "Converted 04_simulation.ipynb.\n",
      "Converted 04_skymaps.ipynb.\n",
      "Converted 05_source_data.ipynb.\n",
      "Converted 06_poisson.ipynb.\n",
      "Converted 07_loglike.ipynb.\n",
      "Converted 08_cell_data.ipynb.\n",
      "Converted 09_lightcurve.ipynb.\n",
      "Converted 10-time_series.ipynb.\n",
      "Converted 14_bayesian.ipynb.\n",
      "Converted 90_main.ipynb.\n",
      "Converted 99_presentation.ipynb.\n",
      "Converted 99_tutorial.ipynb.\n",
      "Converted index.ipynb.\n",
      "Sat Jul  9 01:25:08 PDT 2022\n"
     ]
    }
   ],
   "source": [
    "#hide\n",
    "from nbdev.export import notebook2script\n",
    "notebook2script()\n",
    "!date"
   ]
  },
  {
   "cell_type": "code",
   "execution_count": null,
   "id": "8e2b346b-6bdf-4baf-b25e-f9546d79c258",
   "metadata": {},
   "outputs": [],
   "source": []
  }
 ],
 "metadata": {
  "kernelspec": {
   "display_name": "Python 3 (ipykernel)",
   "language": "python",
   "name": "python3"
  }
 },
 "nbformat": 4,
 "nbformat_minor": 5
}
