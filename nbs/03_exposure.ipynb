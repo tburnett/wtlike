{
 "cells": [
  {
   "cell_type": "code",
   "execution_count": null,
   "id": "70d1527f-5bc9-4d24-8065-24e877ba720c",
   "metadata": {},
   "outputs": [
    {
     "name": "stdout",
     "output_type": "stream",
     "text": [
      "Fri May 20 06:39:51 PDT 2022\n"
     ]
    }
   ],
   "source": [
    "# default_exp exposure\n",
    "%reload_ext autoreload\n",
    "%autoreload 2\n",
    "from nbdev.showdoc import show_doc\n",
    "import matplotlib.pyplot as plt\n",
    "plt.rc('figure',facecolor='white')\n",
    "!date"
   ]
  },
  {
   "cell_type": "markdown",
   "id": "92f80446-b877-4f4d-aea1-60b1700e760c",
   "metadata": {},
   "source": [
    "# Exposure processing\n",
    "> Combine the FT2 spacecraft livetime information with the effective area to produce exposure for a given direction and spectrum "
   ]
  },
  {
   "cell_type": "markdown",
   "id": "222081f4-7d16-4ff3-9a33-2b806ae7e781",
   "metadata": {},
   "source": [
    "The spacecraft information is a list, for 30-s intervals, of the livetime and instrument $\\theta$ of the source. \n",
    "We need a weighted effective area\n",
    "as a function of $\\theta$. This requires a weighting function of energy, or a spectrum. Matthew used a simple power law with index -2.1. implemented in by the class `KerrAeff`. But here we have the actual source spectrum available. Also, the data here excludes low-energy Back events the class `SourceAeff` uses both."
   ]
  },
  {
   "cell_type": "markdown",
   "id": "3920161b-4f4e-4f7a-8979-83c8e1dcdbb1",
   "metadata": {},
   "source": [
    "## Implemented here:\n",
    "\n",
    "* `time_bin_edges`\n",
    "* `cell_exposure`\n",
    "* `sc_data_selection`\n",
    "* `binned_exposure`\n"
   ]
  },
  {
   "cell_type": "code",
   "execution_count": null,
   "id": "c1b0efb8-4445-458b-9745-e6904ef24f12",
   "metadata": {},
   "outputs": [],
   "source": [
    "#export\n",
    "import pandas as pd\n",
    "import numpy as np\n",
    "\n",
    "from wtlike.config import (Config, UTC, MJD)\n",
    "from wtlike.effective_area import EffectiveArea"
   ]
  },
  {
   "cell_type": "code",
   "execution_count": null,
   "id": "d76a34ba-f0d3-4b29-970d-d7add8eb4caa",
   "metadata": {},
   "outputs": [],
   "source": [
    "# export  \n",
    "def time_bin_edges(config, exposure, tbin=None):\n",
    "    \"\"\"Return an interleaved array of start/stop values\n",
    "\n",
    "    tbin: an array (a,b,d), default config.time_bins\n",
    "\n",
    "    interpretation of a, b:\n",
    "\n",
    "        if > 50000: interpret as MJD\n",
    "        if < 0:     offset from stop\n",
    "        otherwise:  offset from start\n",
    "\n",
    "    d : if positive, the day bin size\n",
    "        if 0; return contiguous bins\n",
    "\n",
    "\n",
    "    \"\"\"\n",
    "    # nominal total range, MJD edges\n",
    "    start = np.round(exposure.start.values[0])\n",
    "    stop =  np.round(exposure.stop.values[-1])\n",
    "\n",
    "    a, b, step = tbin if tbin is not None else config.time_bins\n",
    "\n",
    "\n",
    "    if a>50000: start=a\n",
    "    elif a<0: start = stop+a\n",
    "    else : start += a\n",
    "\n",
    "    if b>50000: stop=b\n",
    "    elif b>0: stop = start+b\n",
    "    else: stop += b\n",
    "\n",
    "    if step<=0:\n",
    "        return contiguous_bins(exposure.query(f'{start}<start<{stop}'),)\n",
    "\n",
    "    # adjust stop\n",
    "    nbins = int((stop-start)/step)\n",
    "    assert nbins>0, 'Bad binning: no bins'\n",
    "    stop = start+(nbins)*step\n",
    "    u =  np.linspace(start,stop, nbins+1 )\n",
    "\n",
    "    # make an interleaved start/stop array\n",
    "    v = np.empty(2*nbins, float)\n",
    "    v[0::2] = u[:-1]\n",
    "    v[1::2] = u[1:]\n",
    "    return v"
   ]
  },
  {
   "cell_type": "code",
   "execution_count": null,
   "id": "41bd688b-149b-4ef7-bab1-34e5e0c047d4",
   "metadata": {},
   "outputs": [
    {
     "data": {
      "text/markdown": [
       "<h4 id=\"time_bin_edges\" class=\"doc_header\"><code>time_bin_edges</code><a href=\"__main__.py#L2\" class=\"source_link\" style=\"float:right\">[source]</a></h4>\n",
       "\n",
       "> <code>time_bin_edges</code>(**`config`**, **`exposure`**, **`tbin`**=*`None`*)\n",
       "\n",
       "Return an interleaved array of start/stop values\n",
       "\n",
       "tbin: an array (a,b,d), default config.time_bins\n",
       "\n",
       "interpretation of a, b:\n",
       "\n",
       "    if > 50000: interpret as MJD\n",
       "    if < 0:     offset from stop\n",
       "    otherwise:  offset from start\n",
       "\n",
       "d : if positive, the day bin size\n",
       "    if 0; return contiguous bins"
      ],
      "text/plain": [
       "<IPython.core.display.Markdown object>"
      ]
     },
     "metadata": {},
     "output_type": "display_data"
    }
   ],
   "source": [
    "show_doc(time_bin_edges)"
   ]
  },
  {
   "cell_type": "code",
   "execution_count": null,
   "id": "6409acba-7920-4842-9b98-eed8805f70a1",
   "metadata": {},
   "outputs": [],
   "source": [
    "# export\n",
    "def cell_exposure(config, exposure, time_bins, exposure_factor=1e-6, set_costh=False):\n",
    "    \"\"\"\n",
    "    Determine the exposure per cell\n",
    "    input:\n",
    "    - exposure -- dataframe with spacecraft data\n",
    "    - time_bins -- time binning (start, stop, step) tuple\n",
    "\n",
    "    Return: a dict of \n",
    "    - edges -- list of cell edges, an interleaved array of start/stop values\n",
    "    - exp -- exposure per cell, in cm^2 Ms units, if exposure_factor==1e-6\n",
    "    - etot -- total exposure\n",
    "    - costh -- mean cos theta per cell if requested \n",
    "    - exp_energy if exp_fract in the exposure DF, set exposure energy\n",
    "\n",
    "    Note: total exposure vs. energy is:\n",
    "        t = df.apply(lambda r: np.array(r.exp * np.array(r.exp_fract), float), axis=1).values\n",
    "        u = np.vstack(t)\n",
    "    \"\"\"\n",
    "    exp = exposure.exp.values\n",
    "    costh = exposure.cos_theta.values\n",
    "    etot = np.sum(exp) * exposure_factor\n",
    "    \n",
    "    cell_edges = time_bin_edges(config, exposure, time_bins)\n",
    "    # the cell index list  \n",
    "    eci = np.searchsorted(exposure.stop, cell_edges).reshape(len(cell_edges)//2,2)\n",
    "    cell_exp = np.array([exp[slice(*ecx)].sum()*exposure_factor for ecx in eci], np.float32) #np.float32)\n",
    "    \n",
    "    ret = dict(exp=cell_exp, edges=cell_edges, etot=etot)\n",
    "    \n",
    "    if set_costh:\n",
    "        ret['costh'] =np.array([costh[slice(*ecx)].mean() for ecx in eci], np.float32) \n",
    "        \n",
    "    \n",
    "    ef = exposure.get('exp_fract', None)\n",
    "    if ef is not None:\n",
    "        efa = np.array([np.array(x,float) for x in ef])\n",
    "        efe = efa.T * exp\n",
    "        ret['exp_energy'] = np.array([efe.T[slice(*ecx)].sum(axis=0)*exposure_factor for ecx in eci], np.float32)\n",
    "\n",
    "    return ret"
   ]
  },
  {
   "cell_type": "code",
   "execution_count": null,
   "id": "e3d224df-147f-47ec-b3c6-c7b8455d3070",
   "metadata": {},
   "outputs": [
    {
     "data": {
      "text/markdown": [
       "<h4 id=\"cell_exposure\" class=\"doc_header\"><code>cell_exposure</code><a href=\"__main__.py#L2\" class=\"source_link\" style=\"float:right\">[source]</a></h4>\n",
       "\n",
       "> <code>cell_exposure</code>(**`config`**, **`exposure`**, **`time_bins`**, **`exposure_factor`**=*`1e-06`*, **`set_costh`**=*`False`*)\n",
       "\n",
       "Determine the exposure per cell\n",
       "input:\n",
       "- exposure -- dataframe with spacecraft data\n",
       "- time_bins -- time binning (start, stop, step) tuple\n",
       "\n",
       "Return: a dict of \n",
       "- edges -- list of cell edges, an interleaved array of start/stop values\n",
       "- exp -- exposure per cell, in cm^2 Ms units, if exposure_factor==1e-6\n",
       "- etot -- total exposure\n",
       "- costh -- mean cos theta per cell if requested \n",
       "- exp_energy if exp_fract in the exposure DF, set exposure energy\n",
       "\n",
       "Note: total exposure vs. energy is:\n",
       "    t = df.apply(lambda r: np.array(r.exp * np.array(r.exp_fract), float), axis=1).values\n",
       "    u = np.vstack(t)"
      ],
      "text/plain": [
       "<IPython.core.display.Markdown object>"
      ]
     },
     "metadata": {},
     "output_type": "display_data"
    }
   ],
   "source": [
    "show_doc(cell_exposure)"
   ]
  },
  {
   "cell_type": "code",
   "execution_count": null,
   "id": "91c23666-3db6-4408-a558-ca8ccdfb57aa",
   "metadata": {},
   "outputs": [],
   "source": [
    "# exporti\n",
    "def sc_process(config, source, sc_data):\n",
    "\n",
    "    \"\"\"\n",
    "    - source -- contains ra, dec in degrees\n",
    "    - sc_data -- DF constructed from spacecraft data (FT2).\n",
    "\n",
    "    Return: a dict with the S/C data for the source direction, wtih cos theta and zenith cuts\n",
    "\n",
    "    columns:\n",
    "    - start, stop, livetime -- from the FT2 info\n",
    "    - cos_theta -- angle between bore and direction\n",
    "    \"\"\"\n",
    "\n",
    "    # calculate cosines with respect to sky direction\n",
    "    ra_r,dec_r = np.radians(source.ra), np.radians(source.dec)\n",
    "    sdec, cdec = np.sin(dec_r), np.cos(dec_r)\n",
    "\n",
    "    def cosines( ra2, dec2):\n",
    "        ra2_r =  np.radians(ra2.values)\n",
    "        dec2_r = np.radians(dec2.values)\n",
    "        return np.cos(dec2_r)*cdec*np.cos(ra_r-ra2_r) + np.sin(dec2_r)*sdec\n",
    "\n",
    "    cos_thetas = cosines(sc_data.ra_scz,    sc_data.dec_scz)\n",
    "    zcosines = cosines(sc_data.ra_zenith, sc_data.dec_zenith)\n",
    "    # mask out entries too close to zenith, or too far away from ROI center\n",
    "    mask =   (cos_thetas >= config.cos_theta_max) & (zcosines>=np.cos(np.radians(config.z_max)))\n",
    "    if config.verbose>1:\n",
    "        print(f'\\tFound {len(mask):,} S/C entries:  {sum(mask):,} remain after zenith and theta cuts')\n",
    "    dfm = sc_data.loc[mask,:]\n",
    "    livetime = dfm.livetime.values\n",
    "    \n",
    "    return  pd.DataFrame(\n",
    "        dict(\n",
    "            start=sc_data.start[mask].astype(np.float),\n",
    "            stop=sc_data.stop[mask].astype(np.float),\n",
    "            livetime=livetime,\n",
    "            cos_theta=cos_thetas[mask],\n",
    "            )\n",
    "         )\n",
    "    "
   ]
  },
  {
   "cell_type": "code",
   "execution_count": null,
   "id": "76b774fb-ddb8-4808-8ce6-41d8e49b7b1e",
   "metadata": {},
   "outputs": [],
   "source": [
    "# export\n",
    "from scipy.integrate import simpson\n",
    "\n",
    "def cumsimpson(y, dx):\n",
    "    \"\"\"Return the cumulative Simpson integral for an odd number>2 of equally-spaced evaluations\n",
    "     * y -- array of integrand values, 2n+1 values for 2n intervals\n",
    "     * dx -- interval size\n",
    "     \n",
    "     Returns array of size n, the cumulative integral estimate for pairs of intervals. \n",
    "     \n",
    "     >>> x, dx = np.linspace(0,1, 5), 1/4\n",
    "     >>> print(cumsimpson(x, dx)) \n",
    "     >>> [0.125 0.5  ]\n",
    "    \"\"\"\n",
    "    v = np.empty((3*(len(y)-1)//2))\n",
    "    v[0::3] = y[0:-1:2]\n",
    "    v[1::3] = 4*y[1::2]\n",
    "    v[2::3] = y[2::2]\n",
    "    return (np.cumsum(v)*dx/3)[2::3]\n"
   ]
  },
  {
   "cell_type": "markdown",
   "id": "6bae8d53-9b1b-4227-947d-e2e194de1e3c",
   "metadata": {},
   "source": [
    "## Demonstrate superiority of integral using integrand f(x) x dlog(x)"
   ]
  },
  {
   "cell_type": "code",
   "execution_count": null,
   "id": "21f30afe-6e73-4cca-923b-f9b063bdbece",
   "metadata": {},
   "outputs": [
    {
     "name": "stdout",
     "output_type": "stream",
     "text": [
      "Errors:\n",
      "\tLinear: -4.7e-03\n",
      "\tLog:    +3.8e-05\n"
     ]
    }
   ],
   "source": [
    "#hide\n",
    "nbins = 16\n",
    "f = lambda x: x**-2\n",
    "ee = np.logspace(2,4,nbins+1)\n",
    "r = 1e-2-1e-4\n",
    "print(f'Errors:\\n\\tLinear: {simpson(f(ee), ee)/r-1:+6.1e}'\n",
    "      f'\\n\\tLog:    {simpson( f(ee)*ee, np.log(ee) )/r-1:+6.1e}')"
   ]
  },
  {
   "cell_type": "code",
   "execution_count": null,
   "id": "6b5ae82c-f847-4384-ab25-8df1a08c5fb0",
   "metadata": {},
   "outputs": [],
   "source": [
    "# hide\n",
    "x = np.linspace(0,1,5)\n",
    "assert( np.all( cumsimpson(x, 1/4) == np.array([1/8,1/2]) ) ), 'Fail simple test'"
   ]
  },
  {
   "cell_type": "code",
   "execution_count": null,
   "id": "0881b346-caa1-42cb-a744-26bfcdbc5670",
   "metadata": {},
   "outputs": [],
   "source": [
    "# export\n",
    "from abc import abstractmethod\n",
    "\n",
    "class BaseAeff(object):\n",
    "    \"\"\"\n",
    "    Base class for calculating the weighted effective area\n",
    "    \n",
    "    It defines a functor of `costh`, returning  the effective area weighted by a spectrum. \n",
    "    The exposure is then a sum over intervals of this weighted effective area times the livetime per interval.\n",
    "    \n",
    "    A subclass must define a `setup` method to define the spectral function and minimum energy \n",
    "    to include Back events. \n",
    "    \"\"\"\n",
    "\n",
    "    # default energies to use for Simpson's integral: 8/decade from 100 MeV to 10 GeV\n",
    "    edom = np.logspace(2,4,17)\n",
    "    \n",
    "    def __init__(self, config, source, \n",
    "                 elim:tuple=(1e2,1e4)):\n",
    "        self.elim = elim\n",
    "        self.source = source\n",
    "        self.Aeff = EffectiveArea(file_path=config.datapath/'aeff_files')\n",
    "        self.back_min =0 #??\n",
    "        self.setup()\n",
    "\n",
    "    @abstractmethod\n",
    "    def setup(self):\n",
    "        pass\n",
    "  \n",
    "    def __call__(self, cos_theta) : #sc_data):\n",
    "        \"\"\"\n",
    "        Return the weighted effective area as a function of $\\\\cos( \\\\theta) $\n",
    "\n",
    "        \"\"\"\n",
    "        # as set by self.setup -- also self.back_min\n",
    "        edom = self.edom\n",
    "        wts = self.wts \n",
    "        cos_theta = np.atleast_1d(cos_theta)\n",
    "\n",
    "        # a table of the weights for each pair in spectral flux and cos_theta arrays\n",
    "        rvals = np.empty([len(wts),len(cos_theta)])\n",
    "\n",
    "        for i, (en,wt) in enumerate(zip(edom,wts)):\n",
    "            faeff, baeff = np.array(self.Aeff( [en], cos_theta ))\n",
    "            rvals[i] =  faeff * wt if en<self.back_min else  (faeff+baeff) * wt \n",
    "\n",
    "        from scipy.integrate import simpson\n",
    "        aeff = simpson(rvals, edom,axis=0) / simpson(wts,edom)\n",
    "\n",
    "        return aeff\n",
    "\n",
    "class KerrAeff(BaseAeff):\n",
    "    \"\"\"\n",
    "    Kerr implementation from godot, which uses a $E^{-2.1}$ powerlaw spectrum \n",
    "    \"\"\"\n",
    "\n",
    "    bins_per_decade: int=10\n",
    "    base_spectrum: str='lambda E: (E/1000)**-2.1'\n",
    "    energy_range: tuple =(100,1e4)# (100.,1e6)\n",
    "\n",
    "    def setup(self ):\n",
    "\n",
    "        \"\"\"set up energy domain, evaluate fluxes\n",
    "           This is the Kerr version, using a powerlaw spectrum \n",
    "        \"\"\"\n",
    "\n",
    "        emin,emax = self.energy_range\n",
    "        loge1=np.log10(emin); loge2=np.log10(emax)\n",
    "        self.edom= np.logspace(loge1, loge2, int((loge2-loge1)*self.bins_per_decade+1))\n",
    "\n",
    "        spectrum = eval(self.base_spectrum) #lambda E: (E/1000)**-2.1\n",
    "\n",
    "        self.wts = spectrum(self.edom) # * self.edom\n",
    "\n",
    "        # the threshold for including Back events\n",
    "        # should use default, this is what I was usinq\n",
    "        self.back_min=0 \n",
    "            \n",
    "class SourceAeff(BaseAeff):\n",
    "    \"\"\"\n",
    "    BaseAeff subclass that uses the actual source spectrum applied only to used bands\n",
    "    \"\"\"\n",
    "    \n",
    "    def setup(self):\n",
    "        f = self.source.spectral_model\n",
    "        self.wts  = f(self.edom) #* self.edom\n",
    "        self.back_min=10**2.5"
   ]
  },
  {
   "cell_type": "code",
   "execution_count": null,
   "id": "937a3bc4-b784-4441-b798-f6e2c7ac50a4",
   "metadata": {},
   "outputs": [],
   "source": [
    "# export\n",
    "class WeightedAeff():\n",
    "    \"\"\"Manage the weighted effective area calculation\n",
    "    \"\"\"\n",
    "\n",
    "    def __init__(self, config,\n",
    "                 nebins:int=16, \n",
    "                 imin:tuple=(0,0),\n",
    "                 spectrum = None,\n",
    "                 **kwargs):\n",
    "        \"\"\"\n",
    "        \"\"\"\n",
    "        self.nebins = nebins\n",
    "        self.imin = imin\n",
    "        self.spectrum = spectrum or (lambda E: (E/1000)**-2.1)\n",
    "        self.Aeff = EffectiveArea(file_path=config.datapath/'aeff_files')\n",
    "        self.edom = np.logspace(2,4, self.nebins+1)\n",
    "        self.logedom = np.log(self.edom)\n",
    "        self.dx = dx = np.log(self.edom[-1]/self.edom[0])/self.nebins;\n",
    "        self.wts  = self.spectrum(self.edom)\n",
    "        self.xwts = self.wts*self.edom\n",
    "        self.norm = simpson(self.xwts, dx=dx)\n",
    "    \n",
    "    def cumintegral(self, aeff, start=0):\n",
    "        r = cumsimpson((aeff*self.xwts)[start:], dx=self.dx)/self.norm\n",
    "        if start==0: return r\n",
    "        return np.insert(r, 0, [0]*(start//2))\n",
    "    \n",
    "    def cumint(self, costh):\n",
    "        costh = np.atleast_1d(costh)\n",
    "\n",
    "        r = [ np.array([self.cumintegral( a, start)\n",
    "                 for start,a in zip(\n",
    "                     self.imin, np.array(self.Aeff(self.edom,  z))) ]).sum(axis=0) \n",
    "             for z in costh]\n",
    "        return  np.array(r)\n",
    "    \n",
    "    def __call__(self, costh):\n",
    "        return self.cumint(costh)[:,-1]\n",
    "    \n",
    "    def binned(self, costh):\n",
    "        \"\"\"Split it into 8 bins    \"\"\"\n",
    "        costh = np.atleast_1d(costh)\n",
    "        # costh = np.atleast_1d(costh)\n",
    "        # r = [np.diff(np.insert(self.cumint(z),0,0)) for z in costh]\n",
    "        # return np.array(r)\n",
    "        return np.diff(np.insert(self.cumint(costh),0,0,axis=1))        \n",
    "\n",
    "class NewSourceAeff(WeightedAeff):\n",
    "    def __init__(self, config, source):\n",
    "        super().__init__(config, spectrum=source.spectral_model, imin=(0,4),)\n",
    "       \n",
    "        \n",
    "def weighted_aeff(config, source):\n",
    "    \n",
    "    \"\"\" Use config.use_kerr to return appropriate weighted effective area function of cos theta\n",
    "    \"\"\"\n",
    "     \n",
    "    # return KerrAeff(config, source) if config.use_kerr else SourceAeff(config, source)\n",
    "        \n",
    "    if config.use_kerr:\n",
    "        return WeightedAeff(config)\n",
    "    ### source spectrum, cut low back \n",
    "    return WeightedAeff(config, spectrum=source.spectral_model, imin=(0,4))\n",
    "    "
   ]
  },
  {
   "cell_type": "code",
   "execution_count": null,
   "id": "e2649db6-89d5-4671-92f5-fbabef164db4",
   "metadata": {},
   "outputs": [
    {
     "name": "stderr",
     "output_type": "stream",
     "text": [
      "There is no link to 4FGL catalog file: set \"catalog_file\" in your config.yaml or specify if in the Config() call\n"
     ]
    },
    {
     "name": "stdout",
     "output_type": "stream",
     "text": [
      "WeightMan: file from source \"PSR J0633+1746\"_weights.pkl : 16 bamds with nsides 64 to 512\n"
     ]
    }
   ],
   "source": [
    "# hide\n",
    "\n",
    "from wtlike.sources import PointSource\n",
    "config = Config(verbose=2)  \n",
    "if config.valid:\n",
    "    source = PointSource('Geminga', config=config)\n",
    "    self = WeightedAeff(config)               \n",
    "    assert round(self(1.0)[0],1)==5374.0, 'fail Effective area check'   \n",
    "    cts = [0.9,1.0]\n",
    "    assert( np.all(self.binned(cts).sum(axis=1)==self(cts))), 'fail Effective area check' "
   ]
  },
  {
   "cell_type": "markdown",
   "id": "6986dfd6-2a54-4aa0-9061-9502e222ef18",
   "metadata": {},
   "source": [
    "## Weighted exposure\n",
    "\n",
    "The computation of the likelihood for a given cell needs a measurement of the exposure to determine the \n",
    "estimated number of source counts expected for the average source rate. "
   ]
  },
  {
   "cell_type": "code",
   "execution_count": null,
   "id": "cc77a35b-b6c0-497b-97df-42da9a5ee0d5",
   "metadata": {},
   "outputs": [
    {
     "data": {
      "text/markdown": [
       "<h2 id=\"BaseAeff\" class=\"doc_header\"><code>class</code> <code>BaseAeff</code><a href=\"\" class=\"source_link\" style=\"float:right\">[source]</a></h2>\n",
       "\n",
       "> <code>BaseAeff</code>(**`config`**, **`source`**, **`elim`**:`tuple`=*`(100.0, 10000.0)`*)\n",
       "\n",
       "Base class for calculating the weighted effective area\n",
       "\n",
       "It defines a functor of `costh`, returning  the effective area weighted by a spectrum. \n",
       "The exposure is then a sum over intervals of this weighted effective area times the livetime per interval.\n",
       "\n",
       "A subclass must define a `setup` method to define the spectral function and minimum energy \n",
       "to include Back events. "
      ],
      "text/plain": [
       "<IPython.core.display.Markdown object>"
      ]
     },
     "metadata": {},
     "output_type": "display_data"
    },
    {
     "data": {
      "text/markdown": [
       "<h2 id=\"KerrAeff\" class=\"doc_header\"><code>class</code> <code>KerrAeff</code><a href=\"\" class=\"source_link\" style=\"float:right\">[source]</a></h2>\n",
       "\n",
       "> <code>KerrAeff</code>(**`config`**, **`source`**, **`elim`**:`tuple`=*`(100.0, 10000.0)`*) :: [`BaseAeff`](/wtlikeexposure.html#BaseAeff)\n",
       "\n",
       "Kerr implementation from godot, which uses a $E^{-2.1}$ powerlaw spectrum "
      ],
      "text/plain": [
       "<IPython.core.display.Markdown object>"
      ]
     },
     "metadata": {},
     "output_type": "display_data"
    },
    {
     "data": {
      "text/markdown": [
       "<h2 id=\"SourceAeff\" class=\"doc_header\"><code>class</code> <code>SourceAeff</code><a href=\"\" class=\"source_link\" style=\"float:right\">[source]</a></h2>\n",
       "\n",
       "> <code>SourceAeff</code>(**`config`**, **`source`**, **`elim`**:`tuple`=*`(100.0, 10000.0)`*) :: [`BaseAeff`](/wtlikeexposure.html#BaseAeff)\n",
       "\n",
       "BaseAeff subclass that uses the actual source spectrum applied only to used bands"
      ],
      "text/plain": [
       "<IPython.core.display.Markdown object>"
      ]
     },
     "metadata": {},
     "output_type": "display_data"
    },
    {
     "data": {
      "text/markdown": [
       "<h4 id=\"weighted_aeff\" class=\"doc_header\"><code>weighted_aeff</code><a href=\"__main__.py#L54\" class=\"source_link\" style=\"float:right\">[source]</a></h4>\n",
       "\n",
       "> <code>weighted_aeff</code>(**`config`**, **`source`**)\n",
       "\n",
       "Use config.use_kerr to return appropriate weighted effective area function of cos theta\n",
       "    "
      ],
      "text/plain": [
       "<IPython.core.display.Markdown object>"
      ]
     },
     "metadata": {},
     "output_type": "display_data"
    }
   ],
   "source": [
    "show_doc(BaseAeff)\n",
    "show_doc(KerrAeff)\n",
    "show_doc(SourceAeff)\n",
    "show_doc(weighted_aeff)"
   ]
  },
  {
   "cell_type": "markdown",
   "id": "d11019d7-8f48-4ca7-80a5-2c169a4169f0",
   "metadata": {},
   "source": [
    "## Compare weighted effective area: Kerr-mode vs actual with Geminga"
   ]
  },
  {
   "cell_type": "code",
   "execution_count": null,
   "id": "18d7c17c-b32c-4316-b0e3-e3564ed8b2a4",
   "metadata": {},
   "outputs": [
    {
     "name": "stderr",
     "output_type": "stream",
     "text": [
      "There is no link to 4FGL catalog file: set \"catalog_file\" in your config.yaml or specify if in the Config() call\n"
     ]
    },
    {
     "data": {
      "image/png": "[encoded data removed]",
      "text/plain": [
       "<Figure size 576x288 with 2 Axes>"
      ]
     },
     "metadata": {},
     "output_type": "display_data"
    }
   ],
   "source": [
    "#collapse hide\n",
    "from wtlike.sources import PointSource\n",
    "config=Config()\n",
    "# source_name='LS 5039' #'Geminga'\n",
    "\n",
    "def aeffplots(ke,se):\n",
    "    ct = np.linspace(0.4, 1.0, 25)\n",
    "\n",
    "    fig, (ax1,ax2) = plt.subplots(1,2, figsize=(8,4), sharey=True)\n",
    "    plt.subplots_adjust(wspace=0.05)\n",
    "    ax1.semilogx(ke.edom, ke.wts/ke.wts[0], '.-', label='power law')\n",
    "    ax1.semilogx(se.edom, se.wts/se.wts[0], '.-', label=f'{source_name} spectrum')\n",
    "    ax1.legend();ax1.grid(alpha=0.5)\n",
    "    ax1.set(title='energy dependence', ylabel='relative weight')\n",
    "\n",
    "    ax2.plot(ct, se(ct)/se(1), '.-', label='power law')\n",
    "    ax2.plot(ct, ke(ct)/ke(1), '.-', label=f'{source_name} spectrum')\n",
    "    ax2.set( title='angular dependence',xlim=(0.4,1.0), ylim=(0, None),)\n",
    "    ax2.grid(alpha=0.5); ax2.legend();\n",
    "\n",
    "if config.valid:\n",
    "    source_name='Geminga'\n",
    "    source=PointSource(source_name)\n",
    "\n",
    "    ke = KerrAeff(config, source) \n",
    "    se = SourceAeff(config, source)\n",
    "    aeffplots(ke,se)"
   ]
  },
  {
   "cell_type": "code",
   "execution_count": null,
   "id": "c1ab8d87-349f-4723-9bea-a7e09efa4fc9",
   "metadata": {},
   "outputs": [
    {
     "data": {
      "text/markdown": [
       "## Effective area vs energy band\n",
       "\n",
       "Compare the Kerr power-law spectrum with that for Geminga.\n",
       "The latter removes back photons below 316 MeV.\n",
       "<figure style=\"margin-left: 5%\" title=\"Figure 1\">   <img src=\"data:image/png;base64,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\n",
       "\" alt=\"Figure 1\"  <br> </figure>\n"
      ],
      "text/plain": [
       "<utilities.ipynb_docgen.doc_formatter.<locals>.MimeBundleObject at 0x7efe67128f70>"
      ]
     },
     "metadata": {},
     "output_type": "display_data"
    }
   ],
   "source": [
    "#hide\n",
    "from utilities.ipynb_docgen import *\n",
    "@ipynb_doc\n",
    "def aeff_vs_band():\n",
    "    \"\"\"\n",
    "    ## Effective area vs energy band\n",
    "    \n",
    "    Compare the Kerr power-law spectrum with that for Geminga.\n",
    "    The latter removes back photons below 316 MeV.\n",
    "    {fig}\n",
    "    \"\"\"\n",
    "    plt.rc('font', size=14)\n",
    "    plt.rc('figure', facecolor='white')\n",
    "    ke2 = WeightedAeff(config)\n",
    "    se2=NewSourceAeff(config, source)\n",
    "\n",
    "    fig, ax = plt.subplots()\n",
    "    ax.plot(ke2.binned(1)[0], 'o--', label='Kerr')\n",
    "    ax.plot(se2.binned(1)[0], 'D--', label='Geminga source')\n",
    "    ax.set(xlabel='Energy band', ylabel='Weighted effective area')\n",
    "    ax.legend();ax.grid(alpha=0.5);\n",
    "    return locals()\n",
    "if config.valid:\n",
    "    aeff_vs_band()"
   ]
  },
  {
   "cell_type": "code",
   "execution_count": null,
   "id": "56317793-045c-44a8-8ea0-0cc98616a369",
   "metadata": {},
   "outputs": [],
   "source": [
    "# # export  \n",
    "# def time_bin_edges(config, exposure, tbin=None):\n",
    "#     \"\"\"Return an interleaved array of start/stop values\n",
    "\n",
    "#     tbin: an array (a,b,d), default config.time_bins\n",
    "\n",
    "#     interpretation of a, b:\n",
    "\n",
    "#         if > 50000: interpret as MJD\n",
    "#         if < 0:     offset from stop\n",
    "#         otherwise:  offset from start\n",
    "\n",
    "#     d : if positive, the day bin size\n",
    "#         if 0; return contiguous bins\n",
    "\n",
    "\n",
    "#     \"\"\"\n",
    "#     # nominal total range, MJD edges\n",
    "#     start = np.round(exposure.start.values[0])\n",
    "#     stop =  np.round(exposure.stop.values[-1])\n",
    "\n",
    "#     a, b, step = tbin if tbin is not None else config.time_bins\n",
    "\n",
    "\n",
    "#     if a>50000: start=a\n",
    "#     elif a<0: start = stop+a\n",
    "#     else : start += a\n",
    "\n",
    "#     if b>50000: stop=b\n",
    "#     elif b>0: stop = start+b\n",
    "#     else: stop += b\n",
    "\n",
    "#     if step<=0:\n",
    "#         return contiguous_bins(exposure.query(f'{start}<start<{stop}'),)\n",
    "\n",
    "#     # adjust stop\n",
    "#     nbins = int((stop-start)/step)\n",
    "#     assert nbins>0, 'Bad binning: no bins'\n",
    "#     stop = start+(nbins)*step\n",
    "#     u =  np.linspace(start,stop, nbins+1 )\n",
    "\n",
    "#     # make an interleaved start/stop array\n",
    "#     v = np.empty(2*nbins, float)\n",
    "#     v[0::2] = u[:-1]\n",
    "#     v[1::2] = u[1:]\n",
    "#     return v"
   ]
  },
  {
   "cell_type": "code",
   "execution_count": null,
   "id": "c14dc9b1-deff-40c1-902e-540bb33234ee",
   "metadata": {},
   "outputs": [],
   "source": [
    "# export\n",
    "def sc_data_selection(config, source, sc_data):\n",
    "\n",
    "    \"\"\"\n",
    "    Return a DataFrame with the S/C data for the source direction, wtih cos theta and zenith cuts\n",
    "\n",
    "    columns:\n",
    "    - start, stop, livetime -- from the FT2 info\n",
    "    - cos_theta -- angle between bore and direction\n",
    "    - exp -- the exposure: effective area at angle weighted by a default spectral function, times livetime\n",
    "\n",
    "    \"\"\"\n",
    "\n",
    "    sc_df = sc_process(config, source, sc_data)\n",
    "    cos_theta = sc_df.cos_theta.values\n",
    "    livetime = sc_df.livetime.values\n",
    "\n",
    "    # now get appropriate weighted effective area, multipy by livetime\n",
    "    if len(cos_theta)>0:\n",
    "        if config.use_kerr:\n",
    "            sc_df.loc[:,'exp'] = KerrAeff(config, source)(cos_theta) * livetime\n",
    "        else:\n",
    "            sc_df.loc[:,'exp'] = SourceAeff(config, source)(cos_theta) * livetime\n",
    "\n",
    "    return sc_df"
   ]
  },
  {
   "cell_type": "code",
   "execution_count": null,
   "id": "4de87a8b-42cd-4c10-ad4f-0ae166f568bb",
   "metadata": {},
   "outputs": [],
   "source": [
    "# export\n",
    "def binned_exposure(config, exposure, time_edges):\n",
    "    \"\"\"Bin the exposure into cells\n",
    "\n",
    "    - exposure -- A DataFrame derived from FT2\n",
    "    - time_bins: list of edges, an interleaved start/stop array\n",
    "\n",
    "\n",
    "    Returns:\n",
    "\n",
    "    An array of exposure integrated over each time bin. Assumes that the time bins\n",
    "    are contained within the exposure.\n",
    "\n",
    "    it is interleaved, client must apply [0::2] selection. \n",
    "\n",
    "    \"\"\"\n",
    "\n",
    "    # get exposure calculation\n",
    "    exp   =exposure.exp.values\n",
    "    estart= exposure.start.values\n",
    "    estop = exposure.stop.values\n",
    "\n",
    "    # determine bins,\n",
    "\n",
    "    #use cumulative exposure to integrate over larger periods\n",
    "    cumexp = np.concatenate(([0],np.cumsum(exp)) )\n",
    "\n",
    "    # get index into tstop array of the bin edges\n",
    "    edge_index = np.searchsorted(estop, time_edges)\n",
    "\n",
    "    # return the exposure integrated over the intervals\n",
    "    cum = cumexp[edge_index]\n",
    "\n",
    "    # difference is exposure per interval\n",
    "    bexp = np.diff(cum)\n",
    "#     if config.verbose>1:\n",
    "#         print(f'exposure per bin:\\n{pd.Series(bexp).describe(percentiles=[])}')\n",
    "    return bexp"
   ]
  },
  {
   "cell_type": "code",
   "execution_count": null,
   "id": "63316376-fb8e-4008-afe6-7326a54f452f",
   "metadata": {},
   "outputs": [
    {
     "data": {
      "text/markdown": [
       "<h4 id=\"binned_exposure\" class=\"doc_header\"><code>binned_exposure</code><a href=\"__main__.py#L2\" class=\"source_link\" style=\"float:right\">[source]</a></h4>\n",
       "\n",
       "> <code>binned_exposure</code>(**`config`**, **`exposure`**, **`time_edges`**)\n",
       "\n",
       "Bin the exposure into cells\n",
       "\n",
       "- exposure -- A DataFrame derived from FT2\n",
       "- time_bins: list of edges, an interleaved start/stop array\n",
       "\n",
       "\n",
       "Returns:\n",
       "\n",
       "An array of exposure integrated over each time bin. Assumes that the time bins\n",
       "are contained within the exposure.\n",
       "\n",
       "it is interleaved, client must apply [0::2] selection. "
      ],
      "text/plain": [
       "<IPython.core.display.Markdown object>"
      ]
     },
     "metadata": {},
     "output_type": "display_data"
    }
   ],
   "source": [
    "show_doc(binned_exposure)"
   ]
  },
  {
   "cell_type": "code",
   "execution_count": null,
   "id": "079a09d8-168c-4f6d-a446-243476620d5e",
   "metadata": {},
   "outputs": [
    {
     "name": "stdout",
     "output_type": "stream",
     "text": [
      "Converted 00_config.ipynb.\n",
      "Converted 01_data_man.ipynb.\n",
      "Converted 02_effective_area.ipynb.\n",
      "Converted 03_exposure.ipynb.\n",
      "Converted 03_sources.ipynb.\n",
      "Converted 04_load_data.ipynb.\n",
      "Converted 04_simulation.ipynb.\n",
      "Converted 05_source_data.ipynb.\n",
      "Converted 06_poisson.ipynb.\n",
      "Converted 07_loglike.ipynb.\n",
      "Converted 08_cell_data.ipynb.\n",
      "Converted 09_lightcurve.ipynb.\n",
      "Converted 10-time_series.ipynb.\n",
      "Converted 14_bayesian.ipynb.\n",
      "Converted 90_main.ipynb.\n",
      "Converted 99_presentation.ipynb.\n",
      "Converted 99_tutorial.ipynb.\n",
      "Converted index.ipynb.\n",
      "Fri May 20 06:40:02 PDT 2022\n"
     ]
    }
   ],
   "source": [
    "#hide\n",
    "from nbdev.export import notebook2script\n",
    "notebook2script()\n",
    "!date"
   ]
  },
  {
   "cell_type": "code",
   "execution_count": null,
   "id": "8e2b346b-6bdf-4baf-b25e-f9546d79c258",
   "metadata": {},
   "outputs": [],
   "source": []
  }
 ],
 "metadata": {
  "kernelspec": {
   "display_name": "Python 3 (ipykernel)",
   "language": "python",
   "name": "python3"
  }
 },
 "nbformat": 4,
 "nbformat_minor": 5
}
