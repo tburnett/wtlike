{
 "cells": [
  {
   "cell_type": "code",
   "execution_count": null,
   "metadata": {},
   "outputs": [],
   "source": [
    "# default_exp load_gti\n",
    "%load_ext autoreload\n",
    "%autoreload 2\n",
    "from nbdev.showdoc import show_doc"
   ]
  },
  {
   "cell_type": "markdown",
   "metadata": {},
   "source": [
    "# GTI, or Good Time Interval\n",
    "\n",
    "> Process GTI information"
   ]
  },
  {
   "cell_type": "code",
   "execution_count": null,
   "metadata": {},
   "outputs": [],
   "source": [
    "#export\n",
    "from astropy.io import fits\n",
    "import numpy as np\n",
    "import pandas as pd\n",
    "\n",
    "from wtlike.config import MJD, Config, Cache\n"
   ]
  },
  {
   "cell_type": "code",
   "execution_count": null,
   "metadata": {},
   "outputs": [],
   "source": [
    "#export\n",
    "def _get(config):\n",
    "    \"\"\"Combine the GTI intervals that fall within the gti range\n",
    "    return an array of alternate start/stop times\n",
    "    \"\"\"\n",
    "\n",
    "    gti_files = list(config.files.gti.glob('*.fits'))\n",
    "    if config.verbose>1:\n",
    "        print(f'Processing {len(gti_files)} FITS files with GTI information ... ', end='')\n",
    "    starts=[]\n",
    "    stops=[]\n",
    "    for i, ft1 in enumerate(gti_files):\n",
    "        with fits.open(ft1) as hdu:\n",
    "            gti_data = hdu['GTI'].data\n",
    "            start = gti_data.START\n",
    "            if i>0:\n",
    "                assert start[0]>= stops[-1][-1], f'file {ft1} has start time not following preceding file'\n",
    "            starts.append(start)\n",
    "            stops.append( gti_data.STOP)\n",
    "    start = MJD(np.concatenate(starts))\n",
    "    stop  = MJD(np.concatenate(stops))\n",
    "\n",
    "    if config.verbose>1:\n",
    "        livetime = (stop-start).sum()\n",
    "        print( f' {len(gti_files)} files, {len(start)} intervals with'\\\n",
    "               f' {int(livetime):,} days live time')\n",
    "\n",
    "    sel = slice(None)\n",
    "    if config.mjd_range is not None:\n",
    "        a,b =  np.searchsorted(start, config.mjd_range)\n",
    "        if a>0 or b<len(start):\n",
    "            if config.verbose>1:\n",
    "                print(f'\\tcut from {len(start):,} to {a} - {b}, or {b-a:,} entries after MJD range selection')\n",
    "            sel = slice(a,b)\n",
    "\n",
    "\n",
    "    a,b =start[sel], stop[sel]\n",
    "    fraction = np.sum(b-a)/(b[-1]-a[0])\n",
    "    assert len(a)==len(b)\n",
    "    gtimes = np.array([a,b]).T.flatten()\n",
    "    assert np.sum(np.diff(gtimes)<0)==0, 'Bad GTI ordering'\n",
    "    \n",
    "    return gtimes"
   ]
  },
  {
   "cell_type": "code",
   "execution_count": null,
   "metadata": {},
   "outputs": [],
   "source": [
    "#export\n",
    "def get_gti(config, key='gti'):\n",
    "    \"\"\"\n",
    "    Return a GTI functor that checks a list of times\n",
    "    \n",
    "    - key -- the cache key to use to save/restore interval times\n",
    "    \"\"\"\n",
    "    \n",
    "    class GTI():\n",
    "\n",
    "        def __init__(self, config, key=key):\n",
    "            assert config.cache is not None\n",
    "            self.gtimes = config.cache(key, _get, config)\n",
    "\n",
    "        def __call__(self, time):\n",
    "\n",
    "            x = np.digitize(time, self.gtimes)\n",
    "            return np.bitwise_and(x,1).astype(bool)\n",
    "        def __repr__(self):\n",
    "            g = self.gtimes\n",
    "            return f'GTI: {len(g)/2} intervals from {g[0]:.1f} to {g[1]:.1f}'\n",
    "        \n",
    "    return GTI(config, key)\n"
   ]
  },
  {
   "cell_type": "code",
   "execution_count": null,
   "metadata": {},
   "outputs": [
    {
     "data": {
      "text/markdown": [
       "<h4 id=\"get_gti\" class=\"doc_header\"><code>get_gti</code><a href=\"__main__.py#L2\" class=\"source_link\" style=\"float:right\">[source]</a></h4>\n",
       "\n",
       "> <code>get_gti</code>(**`config`**, **`key`**=*`'gti'`*)\n",
       "\n",
       "Return a GTI functor that checks a list of times\n",
       "\n",
       "- key -- the cache key to use to save/restore interval times"
      ],
      "text/plain": [
       "<IPython.core.display.Markdown object>"
      ]
     },
     "metadata": {},
     "output_type": "display_data"
    }
   ],
   "source": [
    "#hide\n",
    "show_doc(get_gti)"
   ]
  },
  {
   "cell_type": "code",
   "execution_count": null,
   "metadata": {},
   "outputs": [
    {
     "name": "stdout",
     "output_type": "stream",
     "text": [
      "Test with GTI files from /home/burnett/work/lat-data/binned\n",
      "Processing 11 FITS files with GTI information ...  11 files, 63635 intervals with 3,322 days live time\n",
      "\tcut from 63,635 to 0 - 4816, or 4,816 entries after MJD range selection\n"
     ]
    }
   ],
   "source": [
    "config = Config(mjd_range=(54000,55000))\n",
    "\n",
    "gti_files = config.files.gti\n",
    "if gti_files.exists():\n",
    "    print(f'Test with GTI files from {gti_files}')\n",
    "    gti_list = get_gti(config, None)\n",
    "else:\n",
    "    print('No files, so no test')"
   ]
  },
  {
   "cell_type": "code",
   "execution_count": null,
   "metadata": {},
   "outputs": [],
   "source": []
  }
 ],
 "metadata": {
  "kernelspec": {
   "display_name": "Python 3",
   "language": "python",
   "name": "python3"
  }
 },
 "nbformat": 4,
 "nbformat_minor": 4
}
